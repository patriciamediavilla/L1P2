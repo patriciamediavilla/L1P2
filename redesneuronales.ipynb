{
  "nbformat": 4,
  "nbformat_minor": 0,
  "metadata": {
    "colab": {
      "provenance": [],
      "authorship_tag": "ABX9TyMSPUiQ2SGZWbyjMmLyaGIh",
      "include_colab_link": true
    },
    "kernelspec": {
      "name": "python3",
      "display_name": "Python 3"
    },
    "language_info": {
      "name": "python"
    }
  },
  "cells": [
    {
      "cell_type": "markdown",
      "metadata": {
        "id": "view-in-github",
        "colab_type": "text"
      },
      "source": [
        "<a href=\"https://colab.research.google.com/github/patriciamediavilla/L1P2/blob/main/redesneuronales.ipynb\" target=\"_parent\"><img src=\"https://colab.research.google.com/assets/colab-badge.svg\" alt=\"Open In Colab\"/></a>"
      ]
    },
    {
      "cell_type": "markdown",
      "source": [
        "\n",
        "# **Redes neuronales**\n",
        "\n",
        "Patricia Mediavilla Pardilla\n",
        "\n",
        "Lo primero que debemos hacer para poder realizar un algoritmo de clasificación ya sea por SVM o por redes neuronales es importar las Base de datos con los datos que debemos utilizar. Así como importar las libreriías con las que vamos a trabajar, en este caso la red neuronal la vamos a realizar con Pythorch.\n",
        "\n",
        "Y realizar un preprocesamiento de los datos para poder utilizarlos de manera correcta."
      ],
      "metadata": {
        "id": "ZiJ-4grSa5Qw"
      }
    },
    {
      "cell_type": "code",
      "source": [
        "import numpy as np\n",
        "import pandas as pd\n",
        "\n",
        "# Input data files\n",
        "import os\n",
        "for dirname, _, filenames in os.walk('/kaggle/input'):\n",
        "    for filename in filenames:\n",
        "        print(os.path.join(dirname, filename))\n",
        "\n",
        "#Importamos las librerias necesarias y cargamos la base de datos\n",
        "import torch\n",
        "import torch.nn as nn\n",
        "import matplotlib.pyplot as plt\n",
        "%matplotlib inline\n",
        "df1 = pd.read_csv('Iris.csv',sep=',')\n",
        "df1.head()"
      ],
      "metadata": {
        "colab": {
          "base_uri": "https://localhost:8080/",
          "height": 206
        },
        "id": "8hMh5NFVNBlN",
        "outputId": "5a2fd432-8728-450b-a13a-4954bd890fd6"
      },
      "execution_count": 12,
      "outputs": [
        {
          "output_type": "execute_result",
          "data": {
            "text/plain": [
              "   Id  SepalLengthCm  SepalWidthCm  PetalLengthCm  PetalWidthCm      Species\n",
              "0   1            5.1           3.5            1.4           0.2  Iris-setosa\n",
              "1   2            4.9           3.0            1.4           0.2  Iris-setosa\n",
              "2   3            4.7           3.2            1.3           0.2  Iris-setosa\n",
              "3   4            4.6           3.1            1.5           0.2  Iris-setosa\n",
              "4   5            5.0           3.6            1.4           0.2  Iris-setosa"
            ],
            "text/html": [
              "\n",
              "  <div id=\"df-514536f2-f683-4852-9a14-8261372f89c3\" class=\"colab-df-container\">\n",
              "    <div>\n",
              "<style scoped>\n",
              "    .dataframe tbody tr th:only-of-type {\n",
              "        vertical-align: middle;\n",
              "    }\n",
              "\n",
              "    .dataframe tbody tr th {\n",
              "        vertical-align: top;\n",
              "    }\n",
              "\n",
              "    .dataframe thead th {\n",
              "        text-align: right;\n",
              "    }\n",
              "</style>\n",
              "<table border=\"1\" class=\"dataframe\">\n",
              "  <thead>\n",
              "    <tr style=\"text-align: right;\">\n",
              "      <th></th>\n",
              "      <th>Id</th>\n",
              "      <th>SepalLengthCm</th>\n",
              "      <th>SepalWidthCm</th>\n",
              "      <th>PetalLengthCm</th>\n",
              "      <th>PetalWidthCm</th>\n",
              "      <th>Species</th>\n",
              "    </tr>\n",
              "  </thead>\n",
              "  <tbody>\n",
              "    <tr>\n",
              "      <th>0</th>\n",
              "      <td>1</td>\n",
              "      <td>5.1</td>\n",
              "      <td>3.5</td>\n",
              "      <td>1.4</td>\n",
              "      <td>0.2</td>\n",
              "      <td>Iris-setosa</td>\n",
              "    </tr>\n",
              "    <tr>\n",
              "      <th>1</th>\n",
              "      <td>2</td>\n",
              "      <td>4.9</td>\n",
              "      <td>3.0</td>\n",
              "      <td>1.4</td>\n",
              "      <td>0.2</td>\n",
              "      <td>Iris-setosa</td>\n",
              "    </tr>\n",
              "    <tr>\n",
              "      <th>2</th>\n",
              "      <td>3</td>\n",
              "      <td>4.7</td>\n",
              "      <td>3.2</td>\n",
              "      <td>1.3</td>\n",
              "      <td>0.2</td>\n",
              "      <td>Iris-setosa</td>\n",
              "    </tr>\n",
              "    <tr>\n",
              "      <th>3</th>\n",
              "      <td>4</td>\n",
              "      <td>4.6</td>\n",
              "      <td>3.1</td>\n",
              "      <td>1.5</td>\n",
              "      <td>0.2</td>\n",
              "      <td>Iris-setosa</td>\n",
              "    </tr>\n",
              "    <tr>\n",
              "      <th>4</th>\n",
              "      <td>5</td>\n",
              "      <td>5.0</td>\n",
              "      <td>3.6</td>\n",
              "      <td>1.4</td>\n",
              "      <td>0.2</td>\n",
              "      <td>Iris-setosa</td>\n",
              "    </tr>\n",
              "  </tbody>\n",
              "</table>\n",
              "</div>\n",
              "    <div class=\"colab-df-buttons\">\n",
              "\n",
              "  <div class=\"colab-df-container\">\n",
              "    <button class=\"colab-df-convert\" onclick=\"convertToInteractive('df-514536f2-f683-4852-9a14-8261372f89c3')\"\n",
              "            title=\"Convert this dataframe to an interactive table.\"\n",
              "            style=\"display:none;\">\n",
              "\n",
              "  <svg xmlns=\"http://www.w3.org/2000/svg\" height=\"24px\" viewBox=\"0 -960 960 960\">\n",
              "    <path d=\"M120-120v-720h720v720H120Zm60-500h600v-160H180v160Zm220 220h160v-160H400v160Zm0 220h160v-160H400v160ZM180-400h160v-160H180v160Zm440 0h160v-160H620v160ZM180-180h160v-160H180v160Zm440 0h160v-160H620v160Z\"/>\n",
              "  </svg>\n",
              "    </button>\n",
              "\n",
              "  <style>\n",
              "    .colab-df-container {\n",
              "      display:flex;\n",
              "      gap: 12px;\n",
              "    }\n",
              "\n",
              "    .colab-df-convert {\n",
              "      background-color: #E8F0FE;\n",
              "      border: none;\n",
              "      border-radius: 50%;\n",
              "      cursor: pointer;\n",
              "      display: none;\n",
              "      fill: #1967D2;\n",
              "      height: 32px;\n",
              "      padding: 0 0 0 0;\n",
              "      width: 32px;\n",
              "    }\n",
              "\n",
              "    .colab-df-convert:hover {\n",
              "      background-color: #E2EBFA;\n",
              "      box-shadow: 0px 1px 2px rgba(60, 64, 67, 0.3), 0px 1px 3px 1px rgba(60, 64, 67, 0.15);\n",
              "      fill: #174EA6;\n",
              "    }\n",
              "\n",
              "    .colab-df-buttons div {\n",
              "      margin-bottom: 4px;\n",
              "    }\n",
              "\n",
              "    [theme=dark] .colab-df-convert {\n",
              "      background-color: #3B4455;\n",
              "      fill: #D2E3FC;\n",
              "    }\n",
              "\n",
              "    [theme=dark] .colab-df-convert:hover {\n",
              "      background-color: #434B5C;\n",
              "      box-shadow: 0px 1px 3px 1px rgba(0, 0, 0, 0.15);\n",
              "      filter: drop-shadow(0px 1px 2px rgba(0, 0, 0, 0.3));\n",
              "      fill: #FFFFFF;\n",
              "    }\n",
              "  </style>\n",
              "\n",
              "    <script>\n",
              "      const buttonEl =\n",
              "        document.querySelector('#df-514536f2-f683-4852-9a14-8261372f89c3 button.colab-df-convert');\n",
              "      buttonEl.style.display =\n",
              "        google.colab.kernel.accessAllowed ? 'block' : 'none';\n",
              "\n",
              "      async function convertToInteractive(key) {\n",
              "        const element = document.querySelector('#df-514536f2-f683-4852-9a14-8261372f89c3');\n",
              "        const dataTable =\n",
              "          await google.colab.kernel.invokeFunction('convertToInteractive',\n",
              "                                                    [key], {});\n",
              "        if (!dataTable) return;\n",
              "\n",
              "        const docLinkHtml = 'Like what you see? Visit the ' +\n",
              "          '<a target=\"_blank\" href=https://colab.research.google.com/notebooks/data_table.ipynb>data table notebook</a>'\n",
              "          + ' to learn more about interactive tables.';\n",
              "        element.innerHTML = '';\n",
              "        dataTable['output_type'] = 'display_data';\n",
              "        await google.colab.output.renderOutput(dataTable, element);\n",
              "        const docLink = document.createElement('div');\n",
              "        docLink.innerHTML = docLinkHtml;\n",
              "        element.appendChild(docLink);\n",
              "      }\n",
              "    </script>\n",
              "  </div>\n",
              "\n",
              "\n",
              "<div id=\"df-4801028d-e620-4424-9c77-60061266b7d0\">\n",
              "  <button class=\"colab-df-quickchart\" onclick=\"quickchart('df-4801028d-e620-4424-9c77-60061266b7d0')\"\n",
              "            title=\"Suggest charts\"\n",
              "            style=\"display:none;\">\n",
              "\n",
              "<svg xmlns=\"http://www.w3.org/2000/svg\" height=\"24px\"viewBox=\"0 0 24 24\"\n",
              "     width=\"24px\">\n",
              "    <g>\n",
              "        <path d=\"M19 3H5c-1.1 0-2 .9-2 2v14c0 1.1.9 2 2 2h14c1.1 0 2-.9 2-2V5c0-1.1-.9-2-2-2zM9 17H7v-7h2v7zm4 0h-2V7h2v10zm4 0h-2v-4h2v4z\"/>\n",
              "    </g>\n",
              "</svg>\n",
              "  </button>\n",
              "\n",
              "<style>\n",
              "  .colab-df-quickchart {\n",
              "      --bg-color: #E8F0FE;\n",
              "      --fill-color: #1967D2;\n",
              "      --hover-bg-color: #E2EBFA;\n",
              "      --hover-fill-color: #174EA6;\n",
              "      --disabled-fill-color: #AAA;\n",
              "      --disabled-bg-color: #DDD;\n",
              "  }\n",
              "\n",
              "  [theme=dark] .colab-df-quickchart {\n",
              "      --bg-color: #3B4455;\n",
              "      --fill-color: #D2E3FC;\n",
              "      --hover-bg-color: #434B5C;\n",
              "      --hover-fill-color: #FFFFFF;\n",
              "      --disabled-bg-color: #3B4455;\n",
              "      --disabled-fill-color: #666;\n",
              "  }\n",
              "\n",
              "  .colab-df-quickchart {\n",
              "    background-color: var(--bg-color);\n",
              "    border: none;\n",
              "    border-radius: 50%;\n",
              "    cursor: pointer;\n",
              "    display: none;\n",
              "    fill: var(--fill-color);\n",
              "    height: 32px;\n",
              "    padding: 0;\n",
              "    width: 32px;\n",
              "  }\n",
              "\n",
              "  .colab-df-quickchart:hover {\n",
              "    background-color: var(--hover-bg-color);\n",
              "    box-shadow: 0 1px 2px rgba(60, 64, 67, 0.3), 0 1px 3px 1px rgba(60, 64, 67, 0.15);\n",
              "    fill: var(--button-hover-fill-color);\n",
              "  }\n",
              "\n",
              "  .colab-df-quickchart-complete:disabled,\n",
              "  .colab-df-quickchart-complete:disabled:hover {\n",
              "    background-color: var(--disabled-bg-color);\n",
              "    fill: var(--disabled-fill-color);\n",
              "    box-shadow: none;\n",
              "  }\n",
              "\n",
              "  .colab-df-spinner {\n",
              "    border: 2px solid var(--fill-color);\n",
              "    border-color: transparent;\n",
              "    border-bottom-color: var(--fill-color);\n",
              "    animation:\n",
              "      spin 1s steps(1) infinite;\n",
              "  }\n",
              "\n",
              "  @keyframes spin {\n",
              "    0% {\n",
              "      border-color: transparent;\n",
              "      border-bottom-color: var(--fill-color);\n",
              "      border-left-color: var(--fill-color);\n",
              "    }\n",
              "    20% {\n",
              "      border-color: transparent;\n",
              "      border-left-color: var(--fill-color);\n",
              "      border-top-color: var(--fill-color);\n",
              "    }\n",
              "    30% {\n",
              "      border-color: transparent;\n",
              "      border-left-color: var(--fill-color);\n",
              "      border-top-color: var(--fill-color);\n",
              "      border-right-color: var(--fill-color);\n",
              "    }\n",
              "    40% {\n",
              "      border-color: transparent;\n",
              "      border-right-color: var(--fill-color);\n",
              "      border-top-color: var(--fill-color);\n",
              "    }\n",
              "    60% {\n",
              "      border-color: transparent;\n",
              "      border-right-color: var(--fill-color);\n",
              "    }\n",
              "    80% {\n",
              "      border-color: transparent;\n",
              "      border-right-color: var(--fill-color);\n",
              "      border-bottom-color: var(--fill-color);\n",
              "    }\n",
              "    90% {\n",
              "      border-color: transparent;\n",
              "      border-bottom-color: var(--fill-color);\n",
              "    }\n",
              "  }\n",
              "</style>\n",
              "\n",
              "  <script>\n",
              "    async function quickchart(key) {\n",
              "      const quickchartButtonEl =\n",
              "        document.querySelector('#' + key + ' button');\n",
              "      quickchartButtonEl.disabled = true;  // To prevent multiple clicks.\n",
              "      quickchartButtonEl.classList.add('colab-df-spinner');\n",
              "      try {\n",
              "        const charts = await google.colab.kernel.invokeFunction(\n",
              "            'suggestCharts', [key], {});\n",
              "      } catch (error) {\n",
              "        console.error('Error during call to suggestCharts:', error);\n",
              "      }\n",
              "      quickchartButtonEl.classList.remove('colab-df-spinner');\n",
              "      quickchartButtonEl.classList.add('colab-df-quickchart-complete');\n",
              "    }\n",
              "    (() => {\n",
              "      let quickchartButtonEl =\n",
              "        document.querySelector('#df-4801028d-e620-4424-9c77-60061266b7d0 button');\n",
              "      quickchartButtonEl.style.display =\n",
              "        google.colab.kernel.accessAllowed ? 'block' : 'none';\n",
              "    })();\n",
              "  </script>\n",
              "</div>\n",
              "    </div>\n",
              "  </div>\n"
            ]
          },
          "metadata": {},
          "execution_count": 12
        }
      ]
    },
    {
      "cell_type": "markdown",
      "source": [
        "Una vez cargada la base de datos debemos comprenderla.\n",
        "\n",
        "En este caso es una base de datos de flores, la clase se define en Species y los datos que determina que tipos de flor es, se encuentran en estas variables:\n",
        "- SepalLengthCm\n",
        "- SepalWidthCm\n",
        "- PetalLengthCm\n",
        "- PetalWidthCm\n",
        "\n",
        "Continuamos con el preprocesamiento de los datos para ello vamos ver si hay valores faltantes y si hay outliers. En el caso que encontremos alguno debemos tratar con estos."
      ],
      "metadata": {
        "id": "hvgU7crjcDWo"
      }
    },
    {
      "cell_type": "code",
      "source": [
        "df1.isnull().sum()"
      ],
      "metadata": {
        "colab": {
          "base_uri": "https://localhost:8080/"
        },
        "id": "FFCaBvBGb36c",
        "outputId": "ee4d7f47-0db5-46b0-ec2c-f91c60877767"
      },
      "execution_count": 13,
      "outputs": [
        {
          "output_type": "execute_result",
          "data": {
            "text/plain": [
              "Id               0\n",
              "SepalLengthCm    0\n",
              "SepalWidthCm     0\n",
              "PetalLengthCm    0\n",
              "PetalWidthCm     0\n",
              "Species          0\n",
              "dtype: int64"
            ]
          },
          "metadata": {},
          "execution_count": 13
        }
      ]
    },
    {
      "cell_type": "code",
      "source": [
        "df1.describe()"
      ],
      "metadata": {
        "colab": {
          "base_uri": "https://localhost:8080/",
          "height": 300
        },
        "id": "ypfNIDQlb_lS",
        "outputId": "d2ce1294-d9b7-47f1-9930-1fdb01c82863"
      },
      "execution_count": 14,
      "outputs": [
        {
          "output_type": "execute_result",
          "data": {
            "text/plain": [
              "               Id  SepalLengthCm  SepalWidthCm  PetalLengthCm  PetalWidthCm\n",
              "count  150.000000     150.000000    150.000000     150.000000    150.000000\n",
              "mean    75.500000       5.843333      3.054000       3.758667      1.198667\n",
              "std     43.445368       0.828066      0.433594       1.764420      0.763161\n",
              "min      1.000000       4.300000      2.000000       1.000000      0.100000\n",
              "25%     38.250000       5.100000      2.800000       1.600000      0.300000\n",
              "50%     75.500000       5.800000      3.000000       4.350000      1.300000\n",
              "75%    112.750000       6.400000      3.300000       5.100000      1.800000\n",
              "max    150.000000       7.900000      4.400000       6.900000      2.500000"
            ],
            "text/html": [
              "\n",
              "  <div id=\"df-6520a411-2b47-468a-b86e-1d613e61c649\" class=\"colab-df-container\">\n",
              "    <div>\n",
              "<style scoped>\n",
              "    .dataframe tbody tr th:only-of-type {\n",
              "        vertical-align: middle;\n",
              "    }\n",
              "\n",
              "    .dataframe tbody tr th {\n",
              "        vertical-align: top;\n",
              "    }\n",
              "\n",
              "    .dataframe thead th {\n",
              "        text-align: right;\n",
              "    }\n",
              "</style>\n",
              "<table border=\"1\" class=\"dataframe\">\n",
              "  <thead>\n",
              "    <tr style=\"text-align: right;\">\n",
              "      <th></th>\n",
              "      <th>Id</th>\n",
              "      <th>SepalLengthCm</th>\n",
              "      <th>SepalWidthCm</th>\n",
              "      <th>PetalLengthCm</th>\n",
              "      <th>PetalWidthCm</th>\n",
              "    </tr>\n",
              "  </thead>\n",
              "  <tbody>\n",
              "    <tr>\n",
              "      <th>count</th>\n",
              "      <td>150.000000</td>\n",
              "      <td>150.000000</td>\n",
              "      <td>150.000000</td>\n",
              "      <td>150.000000</td>\n",
              "      <td>150.000000</td>\n",
              "    </tr>\n",
              "    <tr>\n",
              "      <th>mean</th>\n",
              "      <td>75.500000</td>\n",
              "      <td>5.843333</td>\n",
              "      <td>3.054000</td>\n",
              "      <td>3.758667</td>\n",
              "      <td>1.198667</td>\n",
              "    </tr>\n",
              "    <tr>\n",
              "      <th>std</th>\n",
              "      <td>43.445368</td>\n",
              "      <td>0.828066</td>\n",
              "      <td>0.433594</td>\n",
              "      <td>1.764420</td>\n",
              "      <td>0.763161</td>\n",
              "    </tr>\n",
              "    <tr>\n",
              "      <th>min</th>\n",
              "      <td>1.000000</td>\n",
              "      <td>4.300000</td>\n",
              "      <td>2.000000</td>\n",
              "      <td>1.000000</td>\n",
              "      <td>0.100000</td>\n",
              "    </tr>\n",
              "    <tr>\n",
              "      <th>25%</th>\n",
              "      <td>38.250000</td>\n",
              "      <td>5.100000</td>\n",
              "      <td>2.800000</td>\n",
              "      <td>1.600000</td>\n",
              "      <td>0.300000</td>\n",
              "    </tr>\n",
              "    <tr>\n",
              "      <th>50%</th>\n",
              "      <td>75.500000</td>\n",
              "      <td>5.800000</td>\n",
              "      <td>3.000000</td>\n",
              "      <td>4.350000</td>\n",
              "      <td>1.300000</td>\n",
              "    </tr>\n",
              "    <tr>\n",
              "      <th>75%</th>\n",
              "      <td>112.750000</td>\n",
              "      <td>6.400000</td>\n",
              "      <td>3.300000</td>\n",
              "      <td>5.100000</td>\n",
              "      <td>1.800000</td>\n",
              "    </tr>\n",
              "    <tr>\n",
              "      <th>max</th>\n",
              "      <td>150.000000</td>\n",
              "      <td>7.900000</td>\n",
              "      <td>4.400000</td>\n",
              "      <td>6.900000</td>\n",
              "      <td>2.500000</td>\n",
              "    </tr>\n",
              "  </tbody>\n",
              "</table>\n",
              "</div>\n",
              "    <div class=\"colab-df-buttons\">\n",
              "\n",
              "  <div class=\"colab-df-container\">\n",
              "    <button class=\"colab-df-convert\" onclick=\"convertToInteractive('df-6520a411-2b47-468a-b86e-1d613e61c649')\"\n",
              "            title=\"Convert this dataframe to an interactive table.\"\n",
              "            style=\"display:none;\">\n",
              "\n",
              "  <svg xmlns=\"http://www.w3.org/2000/svg\" height=\"24px\" viewBox=\"0 -960 960 960\">\n",
              "    <path d=\"M120-120v-720h720v720H120Zm60-500h600v-160H180v160Zm220 220h160v-160H400v160Zm0 220h160v-160H400v160ZM180-400h160v-160H180v160Zm440 0h160v-160H620v160ZM180-180h160v-160H180v160Zm440 0h160v-160H620v160Z\"/>\n",
              "  </svg>\n",
              "    </button>\n",
              "\n",
              "  <style>\n",
              "    .colab-df-container {\n",
              "      display:flex;\n",
              "      gap: 12px;\n",
              "    }\n",
              "\n",
              "    .colab-df-convert {\n",
              "      background-color: #E8F0FE;\n",
              "      border: none;\n",
              "      border-radius: 50%;\n",
              "      cursor: pointer;\n",
              "      display: none;\n",
              "      fill: #1967D2;\n",
              "      height: 32px;\n",
              "      padding: 0 0 0 0;\n",
              "      width: 32px;\n",
              "    }\n",
              "\n",
              "    .colab-df-convert:hover {\n",
              "      background-color: #E2EBFA;\n",
              "      box-shadow: 0px 1px 2px rgba(60, 64, 67, 0.3), 0px 1px 3px 1px rgba(60, 64, 67, 0.15);\n",
              "      fill: #174EA6;\n",
              "    }\n",
              "\n",
              "    .colab-df-buttons div {\n",
              "      margin-bottom: 4px;\n",
              "    }\n",
              "\n",
              "    [theme=dark] .colab-df-convert {\n",
              "      background-color: #3B4455;\n",
              "      fill: #D2E3FC;\n",
              "    }\n",
              "\n",
              "    [theme=dark] .colab-df-convert:hover {\n",
              "      background-color: #434B5C;\n",
              "      box-shadow: 0px 1px 3px 1px rgba(0, 0, 0, 0.15);\n",
              "      filter: drop-shadow(0px 1px 2px rgba(0, 0, 0, 0.3));\n",
              "      fill: #FFFFFF;\n",
              "    }\n",
              "  </style>\n",
              "\n",
              "    <script>\n",
              "      const buttonEl =\n",
              "        document.querySelector('#df-6520a411-2b47-468a-b86e-1d613e61c649 button.colab-df-convert');\n",
              "      buttonEl.style.display =\n",
              "        google.colab.kernel.accessAllowed ? 'block' : 'none';\n",
              "\n",
              "      async function convertToInteractive(key) {\n",
              "        const element = document.querySelector('#df-6520a411-2b47-468a-b86e-1d613e61c649');\n",
              "        const dataTable =\n",
              "          await google.colab.kernel.invokeFunction('convertToInteractive',\n",
              "                                                    [key], {});\n",
              "        if (!dataTable) return;\n",
              "\n",
              "        const docLinkHtml = 'Like what you see? Visit the ' +\n",
              "          '<a target=\"_blank\" href=https://colab.research.google.com/notebooks/data_table.ipynb>data table notebook</a>'\n",
              "          + ' to learn more about interactive tables.';\n",
              "        element.innerHTML = '';\n",
              "        dataTable['output_type'] = 'display_data';\n",
              "        await google.colab.output.renderOutput(dataTable, element);\n",
              "        const docLink = document.createElement('div');\n",
              "        docLink.innerHTML = docLinkHtml;\n",
              "        element.appendChild(docLink);\n",
              "      }\n",
              "    </script>\n",
              "  </div>\n",
              "\n",
              "\n",
              "<div id=\"df-3fedd342-cfb3-4373-a730-3946fe1a393a\">\n",
              "  <button class=\"colab-df-quickchart\" onclick=\"quickchart('df-3fedd342-cfb3-4373-a730-3946fe1a393a')\"\n",
              "            title=\"Suggest charts\"\n",
              "            style=\"display:none;\">\n",
              "\n",
              "<svg xmlns=\"http://www.w3.org/2000/svg\" height=\"24px\"viewBox=\"0 0 24 24\"\n",
              "     width=\"24px\">\n",
              "    <g>\n",
              "        <path d=\"M19 3H5c-1.1 0-2 .9-2 2v14c0 1.1.9 2 2 2h14c1.1 0 2-.9 2-2V5c0-1.1-.9-2-2-2zM9 17H7v-7h2v7zm4 0h-2V7h2v10zm4 0h-2v-4h2v4z\"/>\n",
              "    </g>\n",
              "</svg>\n",
              "  </button>\n",
              "\n",
              "<style>\n",
              "  .colab-df-quickchart {\n",
              "      --bg-color: #E8F0FE;\n",
              "      --fill-color: #1967D2;\n",
              "      --hover-bg-color: #E2EBFA;\n",
              "      --hover-fill-color: #174EA6;\n",
              "      --disabled-fill-color: #AAA;\n",
              "      --disabled-bg-color: #DDD;\n",
              "  }\n",
              "\n",
              "  [theme=dark] .colab-df-quickchart {\n",
              "      --bg-color: #3B4455;\n",
              "      --fill-color: #D2E3FC;\n",
              "      --hover-bg-color: #434B5C;\n",
              "      --hover-fill-color: #FFFFFF;\n",
              "      --disabled-bg-color: #3B4455;\n",
              "      --disabled-fill-color: #666;\n",
              "  }\n",
              "\n",
              "  .colab-df-quickchart {\n",
              "    background-color: var(--bg-color);\n",
              "    border: none;\n",
              "    border-radius: 50%;\n",
              "    cursor: pointer;\n",
              "    display: none;\n",
              "    fill: var(--fill-color);\n",
              "    height: 32px;\n",
              "    padding: 0;\n",
              "    width: 32px;\n",
              "  }\n",
              "\n",
              "  .colab-df-quickchart:hover {\n",
              "    background-color: var(--hover-bg-color);\n",
              "    box-shadow: 0 1px 2px rgba(60, 64, 67, 0.3), 0 1px 3px 1px rgba(60, 64, 67, 0.15);\n",
              "    fill: var(--button-hover-fill-color);\n",
              "  }\n",
              "\n",
              "  .colab-df-quickchart-complete:disabled,\n",
              "  .colab-df-quickchart-complete:disabled:hover {\n",
              "    background-color: var(--disabled-bg-color);\n",
              "    fill: var(--disabled-fill-color);\n",
              "    box-shadow: none;\n",
              "  }\n",
              "\n",
              "  .colab-df-spinner {\n",
              "    border: 2px solid var(--fill-color);\n",
              "    border-color: transparent;\n",
              "    border-bottom-color: var(--fill-color);\n",
              "    animation:\n",
              "      spin 1s steps(1) infinite;\n",
              "  }\n",
              "\n",
              "  @keyframes spin {\n",
              "    0% {\n",
              "      border-color: transparent;\n",
              "      border-bottom-color: var(--fill-color);\n",
              "      border-left-color: var(--fill-color);\n",
              "    }\n",
              "    20% {\n",
              "      border-color: transparent;\n",
              "      border-left-color: var(--fill-color);\n",
              "      border-top-color: var(--fill-color);\n",
              "    }\n",
              "    30% {\n",
              "      border-color: transparent;\n",
              "      border-left-color: var(--fill-color);\n",
              "      border-top-color: var(--fill-color);\n",
              "      border-right-color: var(--fill-color);\n",
              "    }\n",
              "    40% {\n",
              "      border-color: transparent;\n",
              "      border-right-color: var(--fill-color);\n",
              "      border-top-color: var(--fill-color);\n",
              "    }\n",
              "    60% {\n",
              "      border-color: transparent;\n",
              "      border-right-color: var(--fill-color);\n",
              "    }\n",
              "    80% {\n",
              "      border-color: transparent;\n",
              "      border-right-color: var(--fill-color);\n",
              "      border-bottom-color: var(--fill-color);\n",
              "    }\n",
              "    90% {\n",
              "      border-color: transparent;\n",
              "      border-bottom-color: var(--fill-color);\n",
              "    }\n",
              "  }\n",
              "</style>\n",
              "\n",
              "  <script>\n",
              "    async function quickchart(key) {\n",
              "      const quickchartButtonEl =\n",
              "        document.querySelector('#' + key + ' button');\n",
              "      quickchartButtonEl.disabled = true;  // To prevent multiple clicks.\n",
              "      quickchartButtonEl.classList.add('colab-df-spinner');\n",
              "      try {\n",
              "        const charts = await google.colab.kernel.invokeFunction(\n",
              "            'suggestCharts', [key], {});\n",
              "      } catch (error) {\n",
              "        console.error('Error during call to suggestCharts:', error);\n",
              "      }\n",
              "      quickchartButtonEl.classList.remove('colab-df-spinner');\n",
              "      quickchartButtonEl.classList.add('colab-df-quickchart-complete');\n",
              "    }\n",
              "    (() => {\n",
              "      let quickchartButtonEl =\n",
              "        document.querySelector('#df-3fedd342-cfb3-4373-a730-3946fe1a393a button');\n",
              "      quickchartButtonEl.style.display =\n",
              "        google.colab.kernel.accessAllowed ? 'block' : 'none';\n",
              "    })();\n",
              "  </script>\n",
              "</div>\n",
              "    </div>\n",
              "  </div>\n"
            ]
          },
          "metadata": {},
          "execution_count": 14
        }
      ]
    },
    {
      "cell_type": "markdown",
      "source": [
        "Como vemos no hay ni valores faltantes ni valores atípicos por lo que podemos empezar nuestro algortimo."
      ],
      "metadata": {
        "id": "9XDmm7V3cyeO"
      }
    },
    {
      "cell_type": "code",
      "source": [
        "def get_info_dataframe(dataframe):\n",
        "    print(f\"DATAFRAME GENERAL INFO - \\n\")\n",
        "    print(dataframe.info(),\"\\n\")\n",
        "    print(f\"DATAFRAME MISSING INFO - \\n\")\n",
        "    print(dataframe.isnull().sum(),\"\\n\")\n",
        "    print(f\"DATAFRAME SHAPE INFO - \\n\")\n",
        "    print(dataframe.shape)\n",
        "\n",
        "get_info_dataframe(df1)"
      ],
      "metadata": {
        "id": "MF0vRIanQTkU",
        "colab": {
          "base_uri": "https://localhost:8080/"
        },
        "outputId": "900ac107-43e0-4505-ca41-ad0f5bbfcac8"
      },
      "execution_count": 18,
      "outputs": [
        {
          "output_type": "stream",
          "name": "stdout",
          "text": [
            "DATAFRAME GENERAL INFO - \n",
            "\n",
            "<class 'pandas.core.frame.DataFrame'>\n",
            "RangeIndex: 150 entries, 0 to 149\n",
            "Data columns (total 6 columns):\n",
            " #   Column         Non-Null Count  Dtype  \n",
            "---  ------         --------------  -----  \n",
            " 0   Id             150 non-null    int64  \n",
            " 1   SepalLengthCm  150 non-null    float64\n",
            " 2   SepalWidthCm   150 non-null    float64\n",
            " 3   PetalLengthCm  150 non-null    float64\n",
            " 4   PetalWidthCm   150 non-null    float64\n",
            " 5   Species        150 non-null    object \n",
            "dtypes: float64(4), int64(1), object(1)\n",
            "memory usage: 7.2+ KB\n",
            "None \n",
            "\n",
            "DATAFRAME MISSING INFO - \n",
            "\n",
            "Id               0\n",
            "SepalLengthCm    0\n",
            "SepalWidthCm     0\n",
            "PetalLengthCm    0\n",
            "PetalWidthCm     0\n",
            "Species          0\n",
            "dtype: int64 \n",
            "\n",
            "DATAFRAME SHAPE INFO - \n",
            "\n",
            "(150, 6)\n"
          ]
        }
      ]
    },
    {
      "cell_type": "markdown",
      "source": [
        "Así reconocemos la base de datos y vemos la información que nos proporcionan"
      ],
      "metadata": {
        "id": "eS5ZiQbhdLrE"
      }
    },
    {
      "cell_type": "markdown",
      "source": [
        "## Clásico\n",
        "\n",
        "Para poder crear un modelo de predicción basado en redes neuronale clásico es necesario no tener columnas tipo indice, todos datos que nos interesen.Así como que los rangos de los valores tine que coincidir con la función de activación.\n",
        "\n",
        "\n",
        "En una red neuronal tenemos tres cosas: entrada, pesos y función de activación\n",
        "\n",
        "Puedo definirme funciones más o menos complicadaas de funciones de activación, una forma de decidir cómo mido el Measurement para ver a partir de qué límite es 0 o 1\n",
        "\n",
        "Para que el problema sea más simple vamos a dejar dos clases de flores en lugar de 3. Para ello vamos a ver cuales son los tipos de flores."
      ],
      "metadata": {
        "id": "futBMm3CM_Hj"
      }
    },
    {
      "cell_type": "code",
      "source": [
        "df1['Species'].unique()"
      ],
      "metadata": {
        "colab": {
          "base_uri": "https://localhost:8080/"
        },
        "id": "dhPNiajWQW0Q",
        "outputId": "c3d4fd6d-b6b2-4938-aae2-fc3cdfc4efce"
      },
      "execution_count": 5,
      "outputs": [
        {
          "output_type": "execute_result",
          "data": {
            "text/plain": [
              "array(['Iris-setosa', 'Iris-versicolor', 'Iris-virginica'], dtype=object)"
            ]
          },
          "metadata": {},
          "execution_count": 5
        }
      ]
    },
    {
      "cell_type": "code",
      "execution_count": 6,
      "metadata": {
        "colab": {
          "base_uri": "https://localhost:8080/",
          "height": 644
        },
        "id": "PJu-iY_RMHvN",
        "outputId": "31fa3564-251e-4d24-fae5-fedfa1df43f8"
      },
      "outputs": [
        {
          "output_type": "stream",
          "name": "stderr",
          "text": [
            "<ipython-input-6-e0af751cbea5>:2: SettingWithCopyWarning: \n",
            "A value is trying to be set on a copy of a slice from a DataFrame.\n",
            "Try using .loc[row_indexer,col_indexer] = value instead\n",
            "\n",
            "See the caveats in the documentation: https://pandas.pydata.org/pandas-docs/stable/user_guide/indexing.html#returning-a-view-versus-a-copy\n",
            "  df1['Species'] = df1['Species'].map({'Iris-virginica':0,'Iris-versicolor':1})\n",
            "<ipython-input-6-e0af751cbea5>:3: SettingWithCopyWarning: \n",
            "A value is trying to be set on a copy of a slice from a DataFrame\n",
            "\n",
            "See the caveats in the documentation: https://pandas.pydata.org/pandas-docs/stable/user_guide/indexing.html#returning-a-view-versus-a-copy\n",
            "  df1.drop(['Id'],axis=1,inplace=True)\n"
          ]
        },
        {
          "output_type": "execute_result",
          "data": {
            "text/plain": [
              "     SepalLengthCm  SepalWidthCm  PetalLengthCm  PetalWidthCm  Species\n",
              "50             7.0           3.2            4.7           1.4        1\n",
              "51             6.4           3.2            4.5           1.5        1\n",
              "52             6.9           3.1            4.9           1.5        1\n",
              "53             5.5           2.3            4.0           1.3        1\n",
              "54             6.5           2.8            4.6           1.5        1\n",
              "..             ...           ...            ...           ...      ...\n",
              "145            6.7           3.0            5.2           2.3        0\n",
              "146            6.3           2.5            5.0           1.9        0\n",
              "147            6.5           3.0            5.2           2.0        0\n",
              "148            6.2           3.4            5.4           2.3        0\n",
              "149            5.9           3.0            5.1           1.8        0\n",
              "\n",
              "[100 rows x 5 columns]"
            ],
            "text/html": [
              "\n",
              "  <div id=\"df-e0270e46-aade-4272-a214-232829476958\" class=\"colab-df-container\">\n",
              "    <div>\n",
              "<style scoped>\n",
              "    .dataframe tbody tr th:only-of-type {\n",
              "        vertical-align: middle;\n",
              "    }\n",
              "\n",
              "    .dataframe tbody tr th {\n",
              "        vertical-align: top;\n",
              "    }\n",
              "\n",
              "    .dataframe thead th {\n",
              "        text-align: right;\n",
              "    }\n",
              "</style>\n",
              "<table border=\"1\" class=\"dataframe\">\n",
              "  <thead>\n",
              "    <tr style=\"text-align: right;\">\n",
              "      <th></th>\n",
              "      <th>SepalLengthCm</th>\n",
              "      <th>SepalWidthCm</th>\n",
              "      <th>PetalLengthCm</th>\n",
              "      <th>PetalWidthCm</th>\n",
              "      <th>Species</th>\n",
              "    </tr>\n",
              "  </thead>\n",
              "  <tbody>\n",
              "    <tr>\n",
              "      <th>50</th>\n",
              "      <td>7.0</td>\n",
              "      <td>3.2</td>\n",
              "      <td>4.7</td>\n",
              "      <td>1.4</td>\n",
              "      <td>1</td>\n",
              "    </tr>\n",
              "    <tr>\n",
              "      <th>51</th>\n",
              "      <td>6.4</td>\n",
              "      <td>3.2</td>\n",
              "      <td>4.5</td>\n",
              "      <td>1.5</td>\n",
              "      <td>1</td>\n",
              "    </tr>\n",
              "    <tr>\n",
              "      <th>52</th>\n",
              "      <td>6.9</td>\n",
              "      <td>3.1</td>\n",
              "      <td>4.9</td>\n",
              "      <td>1.5</td>\n",
              "      <td>1</td>\n",
              "    </tr>\n",
              "    <tr>\n",
              "      <th>53</th>\n",
              "      <td>5.5</td>\n",
              "      <td>2.3</td>\n",
              "      <td>4.0</td>\n",
              "      <td>1.3</td>\n",
              "      <td>1</td>\n",
              "    </tr>\n",
              "    <tr>\n",
              "      <th>54</th>\n",
              "      <td>6.5</td>\n",
              "      <td>2.8</td>\n",
              "      <td>4.6</td>\n",
              "      <td>1.5</td>\n",
              "      <td>1</td>\n",
              "    </tr>\n",
              "    <tr>\n",
              "      <th>...</th>\n",
              "      <td>...</td>\n",
              "      <td>...</td>\n",
              "      <td>...</td>\n",
              "      <td>...</td>\n",
              "      <td>...</td>\n",
              "    </tr>\n",
              "    <tr>\n",
              "      <th>145</th>\n",
              "      <td>6.7</td>\n",
              "      <td>3.0</td>\n",
              "      <td>5.2</td>\n",
              "      <td>2.3</td>\n",
              "      <td>0</td>\n",
              "    </tr>\n",
              "    <tr>\n",
              "      <th>146</th>\n",
              "      <td>6.3</td>\n",
              "      <td>2.5</td>\n",
              "      <td>5.0</td>\n",
              "      <td>1.9</td>\n",
              "      <td>0</td>\n",
              "    </tr>\n",
              "    <tr>\n",
              "      <th>147</th>\n",
              "      <td>6.5</td>\n",
              "      <td>3.0</td>\n",
              "      <td>5.2</td>\n",
              "      <td>2.0</td>\n",
              "      <td>0</td>\n",
              "    </tr>\n",
              "    <tr>\n",
              "      <th>148</th>\n",
              "      <td>6.2</td>\n",
              "      <td>3.4</td>\n",
              "      <td>5.4</td>\n",
              "      <td>2.3</td>\n",
              "      <td>0</td>\n",
              "    </tr>\n",
              "    <tr>\n",
              "      <th>149</th>\n",
              "      <td>5.9</td>\n",
              "      <td>3.0</td>\n",
              "      <td>5.1</td>\n",
              "      <td>1.8</td>\n",
              "      <td>0</td>\n",
              "    </tr>\n",
              "  </tbody>\n",
              "</table>\n",
              "<p>100 rows × 5 columns</p>\n",
              "</div>\n",
              "    <div class=\"colab-df-buttons\">\n",
              "\n",
              "  <div class=\"colab-df-container\">\n",
              "    <button class=\"colab-df-convert\" onclick=\"convertToInteractive('df-e0270e46-aade-4272-a214-232829476958')\"\n",
              "            title=\"Convert this dataframe to an interactive table.\"\n",
              "            style=\"display:none;\">\n",
              "\n",
              "  <svg xmlns=\"http://www.w3.org/2000/svg\" height=\"24px\" viewBox=\"0 -960 960 960\">\n",
              "    <path d=\"M120-120v-720h720v720H120Zm60-500h600v-160H180v160Zm220 220h160v-160H400v160Zm0 220h160v-160H400v160ZM180-400h160v-160H180v160Zm440 0h160v-160H620v160ZM180-180h160v-160H180v160Zm440 0h160v-160H620v160Z\"/>\n",
              "  </svg>\n",
              "    </button>\n",
              "\n",
              "  <style>\n",
              "    .colab-df-container {\n",
              "      display:flex;\n",
              "      gap: 12px;\n",
              "    }\n",
              "\n",
              "    .colab-df-convert {\n",
              "      background-color: #E8F0FE;\n",
              "      border: none;\n",
              "      border-radius: 50%;\n",
              "      cursor: pointer;\n",
              "      display: none;\n",
              "      fill: #1967D2;\n",
              "      height: 32px;\n",
              "      padding: 0 0 0 0;\n",
              "      width: 32px;\n",
              "    }\n",
              "\n",
              "    .colab-df-convert:hover {\n",
              "      background-color: #E2EBFA;\n",
              "      box-shadow: 0px 1px 2px rgba(60, 64, 67, 0.3), 0px 1px 3px 1px rgba(60, 64, 67, 0.15);\n",
              "      fill: #174EA6;\n",
              "    }\n",
              "\n",
              "    .colab-df-buttons div {\n",
              "      margin-bottom: 4px;\n",
              "    }\n",
              "\n",
              "    [theme=dark] .colab-df-convert {\n",
              "      background-color: #3B4455;\n",
              "      fill: #D2E3FC;\n",
              "    }\n",
              "\n",
              "    [theme=dark] .colab-df-convert:hover {\n",
              "      background-color: #434B5C;\n",
              "      box-shadow: 0px 1px 3px 1px rgba(0, 0, 0, 0.15);\n",
              "      filter: drop-shadow(0px 1px 2px rgba(0, 0, 0, 0.3));\n",
              "      fill: #FFFFFF;\n",
              "    }\n",
              "  </style>\n",
              "\n",
              "    <script>\n",
              "      const buttonEl =\n",
              "        document.querySelector('#df-e0270e46-aade-4272-a214-232829476958 button.colab-df-convert');\n",
              "      buttonEl.style.display =\n",
              "        google.colab.kernel.accessAllowed ? 'block' : 'none';\n",
              "\n",
              "      async function convertToInteractive(key) {\n",
              "        const element = document.querySelector('#df-e0270e46-aade-4272-a214-232829476958');\n",
              "        const dataTable =\n",
              "          await google.colab.kernel.invokeFunction('convertToInteractive',\n",
              "                                                    [key], {});\n",
              "        if (!dataTable) return;\n",
              "\n",
              "        const docLinkHtml = 'Like what you see? Visit the ' +\n",
              "          '<a target=\"_blank\" href=https://colab.research.google.com/notebooks/data_table.ipynb>data table notebook</a>'\n",
              "          + ' to learn more about interactive tables.';\n",
              "        element.innerHTML = '';\n",
              "        dataTable['output_type'] = 'display_data';\n",
              "        await google.colab.output.renderOutput(dataTable, element);\n",
              "        const docLink = document.createElement('div');\n",
              "        docLink.innerHTML = docLinkHtml;\n",
              "        element.appendChild(docLink);\n",
              "      }\n",
              "    </script>\n",
              "  </div>\n",
              "\n",
              "\n",
              "<div id=\"df-20339153-4fe4-44f2-800b-44de5ea9c9d5\">\n",
              "  <button class=\"colab-df-quickchart\" onclick=\"quickchart('df-20339153-4fe4-44f2-800b-44de5ea9c9d5')\"\n",
              "            title=\"Suggest charts\"\n",
              "            style=\"display:none;\">\n",
              "\n",
              "<svg xmlns=\"http://www.w3.org/2000/svg\" height=\"24px\"viewBox=\"0 0 24 24\"\n",
              "     width=\"24px\">\n",
              "    <g>\n",
              "        <path d=\"M19 3H5c-1.1 0-2 .9-2 2v14c0 1.1.9 2 2 2h14c1.1 0 2-.9 2-2V5c0-1.1-.9-2-2-2zM9 17H7v-7h2v7zm4 0h-2V7h2v10zm4 0h-2v-4h2v4z\"/>\n",
              "    </g>\n",
              "</svg>\n",
              "  </button>\n",
              "\n",
              "<style>\n",
              "  .colab-df-quickchart {\n",
              "      --bg-color: #E8F0FE;\n",
              "      --fill-color: #1967D2;\n",
              "      --hover-bg-color: #E2EBFA;\n",
              "      --hover-fill-color: #174EA6;\n",
              "      --disabled-fill-color: #AAA;\n",
              "      --disabled-bg-color: #DDD;\n",
              "  }\n",
              "\n",
              "  [theme=dark] .colab-df-quickchart {\n",
              "      --bg-color: #3B4455;\n",
              "      --fill-color: #D2E3FC;\n",
              "      --hover-bg-color: #434B5C;\n",
              "      --hover-fill-color: #FFFFFF;\n",
              "      --disabled-bg-color: #3B4455;\n",
              "      --disabled-fill-color: #666;\n",
              "  }\n",
              "\n",
              "  .colab-df-quickchart {\n",
              "    background-color: var(--bg-color);\n",
              "    border: none;\n",
              "    border-radius: 50%;\n",
              "    cursor: pointer;\n",
              "    display: none;\n",
              "    fill: var(--fill-color);\n",
              "    height: 32px;\n",
              "    padding: 0;\n",
              "    width: 32px;\n",
              "  }\n",
              "\n",
              "  .colab-df-quickchart:hover {\n",
              "    background-color: var(--hover-bg-color);\n",
              "    box-shadow: 0 1px 2px rgba(60, 64, 67, 0.3), 0 1px 3px 1px rgba(60, 64, 67, 0.15);\n",
              "    fill: var(--button-hover-fill-color);\n",
              "  }\n",
              "\n",
              "  .colab-df-quickchart-complete:disabled,\n",
              "  .colab-df-quickchart-complete:disabled:hover {\n",
              "    background-color: var(--disabled-bg-color);\n",
              "    fill: var(--disabled-fill-color);\n",
              "    box-shadow: none;\n",
              "  }\n",
              "\n",
              "  .colab-df-spinner {\n",
              "    border: 2px solid var(--fill-color);\n",
              "    border-color: transparent;\n",
              "    border-bottom-color: var(--fill-color);\n",
              "    animation:\n",
              "      spin 1s steps(1) infinite;\n",
              "  }\n",
              "\n",
              "  @keyframes spin {\n",
              "    0% {\n",
              "      border-color: transparent;\n",
              "      border-bottom-color: var(--fill-color);\n",
              "      border-left-color: var(--fill-color);\n",
              "    }\n",
              "    20% {\n",
              "      border-color: transparent;\n",
              "      border-left-color: var(--fill-color);\n",
              "      border-top-color: var(--fill-color);\n",
              "    }\n",
              "    30% {\n",
              "      border-color: transparent;\n",
              "      border-left-color: var(--fill-color);\n",
              "      border-top-color: var(--fill-color);\n",
              "      border-right-color: var(--fill-color);\n",
              "    }\n",
              "    40% {\n",
              "      border-color: transparent;\n",
              "      border-right-color: var(--fill-color);\n",
              "      border-top-color: var(--fill-color);\n",
              "    }\n",
              "    60% {\n",
              "      border-color: transparent;\n",
              "      border-right-color: var(--fill-color);\n",
              "    }\n",
              "    80% {\n",
              "      border-color: transparent;\n",
              "      border-right-color: var(--fill-color);\n",
              "      border-bottom-color: var(--fill-color);\n",
              "    }\n",
              "    90% {\n",
              "      border-color: transparent;\n",
              "      border-bottom-color: var(--fill-color);\n",
              "    }\n",
              "  }\n",
              "</style>\n",
              "\n",
              "  <script>\n",
              "    async function quickchart(key) {\n",
              "      const quickchartButtonEl =\n",
              "        document.querySelector('#' + key + ' button');\n",
              "      quickchartButtonEl.disabled = true;  // To prevent multiple clicks.\n",
              "      quickchartButtonEl.classList.add('colab-df-spinner');\n",
              "      try {\n",
              "        const charts = await google.colab.kernel.invokeFunction(\n",
              "            'suggestCharts', [key], {});\n",
              "      } catch (error) {\n",
              "        console.error('Error during call to suggestCharts:', error);\n",
              "      }\n",
              "      quickchartButtonEl.classList.remove('colab-df-spinner');\n",
              "      quickchartButtonEl.classList.add('colab-df-quickchart-complete');\n",
              "    }\n",
              "    (() => {\n",
              "      let quickchartButtonEl =\n",
              "        document.querySelector('#df-20339153-4fe4-44f2-800b-44de5ea9c9d5 button');\n",
              "      quickchartButtonEl.style.display =\n",
              "        google.colab.kernel.accessAllowed ? 'block' : 'none';\n",
              "    })();\n",
              "  </script>\n",
              "</div>\n",
              "    </div>\n",
              "  </div>\n"
            ]
          },
          "metadata": {},
          "execution_count": 6
        }
      ],
      "source": [
        "df1 = df1[(df1['Species']=='Iris-virginica') | (df1['Species']=='Iris-versicolor')]\n",
        "df1['Species'] = df1['Species'].map({'Iris-virginica':0,'Iris-versicolor':1})\n",
        "df1.drop(['Id'],axis=1,inplace=True)\n",
        "df1"
      ]
    },
    {
      "cell_type": "code",
      "source": [
        "X = df1.drop([\"Species\"],axis=1).values\n",
        "y = df1[\"Species\"].values"
      ],
      "metadata": {
        "id": "_PQocu8GQkd_"
      },
      "execution_count": 7,
      "outputs": []
    },
    {
      "cell_type": "markdown",
      "source": [
        "Para realizar las redes neuronales vamos a ir explicando las funciones lo que hacen y como funcionan\n",
        "\n",
        "- Standarscaler()-> los escala, hace que se muevan al rededor del 0 porque les resta la media y los divide por la desviación (tipificar).\n",
        "\n",
        "Antes de hacer el escalado de los datos tengo que dividir el conjunto de los datos entre train y test. Solo se hace en los de train (el escalarlos) porque de otra manera sería trampa, y los de test los va a transformar en respecto a los de train, con la media y la desviación de los de train. Así conseguimos que no se nos engañe.\n",
        "\n",
        "- FloatTensor() -> lo pasa de array a tensor con decimales (crea una matriz)\n",
        "- LongTensor() -> lo pasa de array a tensor con enteros"
      ],
      "metadata": {
        "id": "HrSMKQMNdnXf"
      }
    },
    {
      "cell_type": "code",
      "source": [
        "from sklearn.preprocessing import StandardScaler\n",
        "from sklearn.model_selection import train_test_split"
      ],
      "metadata": {
        "id": "bQUHdaMVQlit"
      },
      "execution_count": 8,
      "outputs": []
    },
    {
      "cell_type": "code",
      "source": [
        "scaler = StandardScaler()"
      ],
      "metadata": {
        "id": "oP8gCjhnQmcO"
      },
      "execution_count": 9,
      "outputs": []
    },
    {
      "cell_type": "code",
      "source": [
        "X_train, X_test, y_train, y_test = train_test_split(X, y, test_size=0.30, random_state=42)"
      ],
      "metadata": {
        "id": "bsMzpi5nQnmC"
      },
      "execution_count": null,
      "outputs": []
    },
    {
      "cell_type": "code",
      "source": [
        "X_train = torch.FloatTensor(X_train)\n",
        "X_test = torch.FloatTensor(X_test)\n",
        "y_train = torch.LongTensor(y_train)\n",
        "y_test = torch.LongTensor(y_test)"
      ],
      "metadata": {
        "id": "rLzD3vwsQpAT"
      },
      "execution_count": null,
      "outputs": []
    },
    {
      "cell_type": "markdown",
      "source": [
        "Para crear la red neuronal definimos una clase que contine dos funciones:\n",
        " - La primera define las capas (variables) así como su forma y tamaño\n",
        "\n",
        " Layer= nn.Linear(número de entrada de neuronas,número de salida de neuronas(número de parámetros). Estas capas que estamos definiendo deben estar entrelazadas entre sí, por lo que la salida de una tiene que ser la entrada de la siguente.\n",
        " El tipo de capas  puede tener diferentes funciones como puede ser: Lineal **/** y Relu **_/**\n",
        "\n",
        " - La segunda función lo que hace es que entrelaza las capas creadas, creando así una capa oculta que recalcula pesos constantmente, y por último una capa de salida que es mi solución que me clasifica en 0 o 1 basado en probabilidades\n",
        "\n"
      ],
      "metadata": {
        "id": "MxTaEIUXOp84"
      }
    },
    {
      "cell_type": "code",
      "source": [
        "class NeuralNetworkClassificationModel(nn.Module):\n",
        "    def __init__(self,input_dim,output_dim):\n",
        "        super(NeuralNetworkClassificationModel,self).__init__()\n",
        "        self.input_layer    = nn.Linear(input_dim,4)\n",
        "        self.hidden_layer1  = nn.Linear(4,2)\n",
        "        self.hidden_layer2  = nn.Linear(2,4)\n",
        "        self.output_layer   = nn.Linear(4,output_dim)\n",
        "        self.relu = nn.ReLU()\n",
        "\n",
        "\n",
        "    def forward(self,x):\n",
        "        out =  self.relu(self.input_layer(x))\n",
        "        out =  self.relu(self.hidden_layer1(out))\n",
        "        out =  self.relu(self.hidden_layer2(out))\n",
        "        out =  self.output_layer(out)\n",
        "        return out"
      ],
      "metadata": {
        "id": "PmWCqNbXQqzB"
      },
      "execution_count": null,
      "outputs": []
    },
    {
      "cell_type": "markdown",
      "source": [
        "Ahora vamos a definir 'las dimensiones' de la red neuronal. La dimensión de los datos que se introducen se definen en la variable **inputdim**, así como la dimención de salida, es decir la cantidad de tipos de flores que tenemos, estas se almacenan en la varible **outputdim**\n",
        "\n"
      ],
      "metadata": {
        "id": "O1PDbA48hrH2"
      }
    },
    {
      "cell_type": "code",
      "source": [
        "input_dim  = 4  #because we have 4 inputs namely sepal_length,sepal_width,petal_length,petal_width\n",
        "output_dim = 3  #because we have namely 3 categories setosa,versicolor and virginica\n",
        "model = NeuralNetworkClassificationModel(input_dim,output_dim)"
      ],
      "metadata": {
        "id": "qCFjDyL_Q0XW"
      },
      "execution_count": null,
      "outputs": []
    },
    {
      "cell_type": "markdown",
      "source": [
        "La función NeuralNetworkClassificationModel(nn.Module):nos vale para cualquier tamaño de entrada y de salida, y es más adelante con lo de input_dim que definimos la dimensión\n",
        "\n"
      ],
      "metadata": {
        "id": "HGrKRY6jjxls"
      }
    },
    {
      "cell_type": "markdown",
      "source": [
        "learning_rate = La tasa de aprendizaje controla qué tan grande son los pasos de actualización de los pesos durante el proceso de optimización. En general me define de cuanto en cuando avanzo y va hacia el minimo y se queda en él, sirve para ver los minimos y buscar los minimos. Si ponemos un learning rate va a dar saltos muy grandes y aprender poco. Si es muy pequeño tardará un montón y cabe la posibilidad que se quede atascado en un minimo.\n",
        "\n",
        "criterion = nn.CrossEntropyLoss(): Define la función de pérdida que se utilizará durante el entrenamiento. En este caso, se está utilizando la pérdida de entropía cruzada, que es comúnmente utilizada en problemas de clasificación.\n",
        "\n",
        "optimizer = torch.optim.Adam(model.parameters(), lr=learning_rate): Crea un objeto de optimizador Adam. Adam es un algoritmo de optimización popular que adapta la tasa de aprendizaje para cada parámetro de forma individual. model.parameters() proporciona todos los parámetros del modelo que deben ser optimizados, y lr=learning_rate establece la tasa de aprendizaje del optimizador"
      ],
      "metadata": {
        "id": "-_ng5GqYpClX"
      }
    },
    {
      "cell_type": "code",
      "source": [
        "# creating our optimizer and loss function object\n",
        "learning_rate = 0.01\n",
        "criterion = nn.CrossEntropyLoss()\n",
        "optimizer = torch.optim.Adam(model.parameters(),lr=learning_rate)"
      ],
      "metadata": {
        "id": "7kqZZnryQ1sg"
      },
      "execution_count": null,
      "outputs": []
    },
    {
      "cell_type": "markdown",
      "source": [
        "En esta parte lo que vamos a hacer es:\n",
        "- optimizer.zero_grad(): Esta línea se encarga de resetear los gradientes acumulados de los parámetros del modelo.\n",
        "\n",
        "- output_train = model(X_train): Realiza la propagación hacia adelante (forward pass) del modelo con los datos de entrenamiento (X_train). output_train contiene las predicciones del modelo.\n",
        "\n",
        "- loss_train = criterion(output_train, y_train): Calcula la pérdida entre las predicciones del modelo (output_train) y las etiquetas reales (y_train) utilizando la función de pérdida especificada (criterion). Esta pérdida se utilizará para retropropagar los gradientes y ajustar los pesos del modelo.\n",
        "\n",
        "- loss_train.backward(): Realiza la retropropagación para calcular los gradientes de la pérdida con respecto a los parámetros del modelo.\n",
        "\n",
        "- optimizer.step(): Actualiza los pesos del modelo utilizando el optimizador, que utiliza los gradientes calculados durante la retropropagación.\n",
        "\n",
        "- output_test = model(X_test): Realiza la propagación hacia adelante del modelo con los datos de prueba (X_test) para evaluar el rendimiento del modelo en el conjunto de prueba.\n",
        "\n",
        "- loss_test = criterion(output_test, y_test): Calcula la pérdida en el conjunto de prueba usando las predicciones del modelo (output_test) y las etiquetas reales (y_test).\n",
        "\n",
        "- train_losses[epoch] = loss_train.item() y test_losses[epoch] = loss_test.item(): Guarda las pérdidas de entrenamiento y prueba en las listas train_losses y test_losses respectivamente, para su posterior análisis o visualización.\n",
        "\n"
      ],
      "metadata": {
        "id": "sAlGYpIbptEI"
      }
    },
    {
      "cell_type": "markdown",
      "source": [
        "Básicamente lo que hacemos es que metemos los datos en una rueda de reentrenamiento para los datos que son temporales, que vayan variando con el tiempo, para que se vaya actualizando, y ajustando los pesos. Hay que tener en cuenta el coste de esto, tanto de entrenarlo como de ir recopilando de los datos.\n",
        "\n",
        "Luego hay que probar qué pasa si metemos más capas: se sobreentrena antes.\n",
        "\n",
        "Hay que buscar el equilibrio entre pocas capas y muchas neuronas, muchas capas y pocas neuronas y un equilibrio entre medias."
      ],
      "metadata": {
        "id": "sR-OpbXdqqs-"
      }
    },
    {
      "cell_type": "markdown",
      "source": [
        "Con dos capas funciona peor que con una. Por que una capa grande es la que hace bien la suda de los pesos, si meto más se pueden fastidiar unas a otras. Pero hay veces que si se complementan bien, pueden ser más y que se usan más de una capa."
      ],
      "metadata": {
        "id": "98zlo-BSQyKT"
      }
    },
    {
      "cell_type": "code",
      "source": [
        "def train_network(model,optimizer,criterion,X_train,y_train,X_test,y_test,num_epochs,train_losses,test_losses):\n",
        "    for epoch in range(num_epochs):\n",
        "        #clear out the gradients from the last step loss.backward()\n",
        "        optimizer.zero_grad()\n",
        "\n",
        "        #forward feed\n",
        "        output_train = model(X_train)\n",
        "\n",
        "        #calculate the loss\n",
        "        loss_train = criterion(output_train, y_train)\n",
        "\n",
        "\n",
        "\n",
        "        #backward propagation: calculate gradients\n",
        "        loss_train.backward()\n",
        "\n",
        "        #update the weights\n",
        "        optimizer.step()\n",
        "\n",
        "\n",
        "        output_test = model(X_test)\n",
        "        loss_test = criterion(output_test,y_test)\n",
        "\n",
        "        train_losses[epoch] = loss_train.item()\n",
        "        test_losses[epoch] = loss_test.item()\n",
        "\n",
        "        if (epoch + 1) % 50 == 0:\n",
        "            print(f\"Epoch {epoch+1}/{num_epochs}, Train Loss: {loss_train.item():.4f}, Test Loss: {loss_test.item():.4f}\")\n"
      ],
      "metadata": {
        "id": "zSEBp2G5Q5od"
      },
      "execution_count": null,
      "outputs": []
    },
    {
      "cell_type": "markdown",
      "source": [
        "\n",
        "Pytorch hace la derivada de manera numérica, para cada uno de los pesos le añade algo o le resta algo : (w(i)*delta - w(j)*delta) /2delta)\n",
        "\n",
        "Los pesos al principio se hacen al azar, y se van ajustando poco a poco.\n",
        "\n",
        "De output podemos poner simplemente 1 neurona, ya que al ser una clasificación binaria, puedo tener 1 u 0."
      ],
      "metadata": {
        "id": "r29n2uyyQAcs"
      }
    },
    {
      "cell_type": "code",
      "source": [
        "num_epochs = 1000\n",
        "train_losses = np.zeros(num_epochs)\n",
        "test_losses  = np.zeros(num_epochs)"
      ],
      "metadata": {
        "id": "jVf2EqRKQ7c3"
      },
      "execution_count": null,
      "outputs": []
    },
    {
      "cell_type": "markdown",
      "source": [
        "Utilizo la función que he definido para poder entrenar el modelo y podamos sacar resultados."
      ],
      "metadata": {
        "id": "oiBY_oXPr5GE"
      }
    },
    {
      "cell_type": "code",
      "source": [
        "train_network(model,optimizer,criterion,X_train,y_train,X_test,y_test,num_epochs,train_losses,test_losses)\n"
      ],
      "metadata": {
        "colab": {
          "base_uri": "https://localhost:8080/"
        },
        "id": "dJ3uW3WgQ9u2",
        "outputId": "9d82204c-e1ee-4181-bc47-5184f865b34d"
      },
      "execution_count": null,
      "outputs": [
        {
          "output_type": "stream",
          "name": "stdout",
          "text": [
            "Epoch 50/1000, Train Loss: 0.8888, Test Loss: 0.8767\n",
            "Epoch 100/1000, Train Loss: 0.7989, Test Loss: 0.7986\n",
            "Epoch 150/1000, Train Loss: 0.7594, Test Loss: 0.7640\n",
            "Epoch 200/1000, Train Loss: 0.7388, Test Loss: 0.7455\n",
            "Epoch 250/1000, Train Loss: 0.7267, Test Loss: 0.7345\n",
            "Epoch 300/1000, Train Loss: 0.7189, Test Loss: 0.7274\n",
            "Epoch 350/1000, Train Loss: 0.7135, Test Loss: 0.7226\n",
            "Epoch 400/1000, Train Loss: 0.7096, Test Loss: 0.7190\n",
            "Epoch 450/1000, Train Loss: 0.7068, Test Loss: 0.7164\n",
            "Epoch 500/1000, Train Loss: 0.7045, Test Loss: 0.7144\n",
            "Epoch 550/1000, Train Loss: 0.7028, Test Loss: 0.7128\n",
            "Epoch 600/1000, Train Loss: 0.7014, Test Loss: 0.7115\n",
            "Epoch 650/1000, Train Loss: 0.7002, Test Loss: 0.7105\n",
            "Epoch 700/1000, Train Loss: 0.6993, Test Loss: 0.7096\n",
            "Epoch 750/1000, Train Loss: 0.6985, Test Loss: 0.7088\n",
            "Epoch 800/1000, Train Loss: 0.6978, Test Loss: 0.7082\n",
            "Epoch 850/1000, Train Loss: 0.6972, Test Loss: 0.7077\n",
            "Epoch 900/1000, Train Loss: 0.6967, Test Loss: 0.7072\n",
            "Epoch 950/1000, Train Loss: 0.6963, Test Loss: 0.7068\n",
            "Epoch 1000/1000, Train Loss: 0.6959, Test Loss: 0.7065\n"
          ]
        }
      ]
    },
    {
      "cell_type": "code",
      "source": [
        "plt.figure(figsize=(10,10))\n",
        "plt.plot(train_losses, label='train loss')\n",
        "plt.plot(test_losses, label='test loss')\n",
        "plt.legend()\n",
        "plt.show()"
      ],
      "metadata": {
        "colab": {
          "base_uri": "https://localhost:8080/",
          "height": 636
        },
        "id": "zgpYJkuaQ_Wb",
        "outputId": "b09fb491-ced6-4ef4-b584-4ba492c4dc54"
      },
      "execution_count": null,
      "outputs": [
        {
          "output_type": "display_data",
          "data": {
            "text/plain": [
              "<Figure size 1000x1000 with 1 Axes>"
            ],
            "image/png": "[encoded data removed]"
          },
          "metadata": {}
        }
      ]
    },
    {
      "cell_type": "code",
      "source": [
        "predictions_train = []\n",
        "predictions_test =  []\n",
        "with torch.no_grad():\n",
        "    predictions_train = model(X_train)\n",
        "    predictions_test = model(X_test)"
      ],
      "metadata": {
        "id": "1W1x2jjURBHn"
      },
      "execution_count": null,
      "outputs": []
    },
    {
      "cell_type": "markdown",
      "source": [
        "La función que vamos a definir nos va a sacar la precisión del modelo."
      ],
      "metadata": {
        "id": "6pFip5kJsKxW"
      }
    },
    {
      "cell_type": "code",
      "source": [
        "def get_accuracy_multiclass(pred_arr,original_arr):\n",
        "    if len(pred_arr)!=len(original_arr):\n",
        "        return False\n",
        "    pred_arr = pred_arr.numpy()\n",
        "    original_arr = original_arr.numpy()\n",
        "    final_pred= []\n",
        "    # we will get something like this in the pred_arr [32.1680,12.9350,-58.4877]\n",
        "    # so will be taking the index of that argument which has the highest value here 32.1680 which corresponds to 0th index\n",
        "    for i in range(len(pred_arr)):\n",
        "        final_pred.append(np.argmax(pred_arr[i]))\n",
        "    final_pred = np.array(final_pred)\n",
        "    count = 0\n",
        "    #here we are doing a simple comparison between the predicted_arr and the original_arr to get the final accuracy\n",
        "    for i in range(len(original_arr)):\n",
        "        if final_pred[i] == original_arr[i]:\n",
        "            count+=1\n",
        "    return count/len(final_pred)"
      ],
      "metadata": {
        "id": "Jezrtd4hRDIi"
      },
      "execution_count": null,
      "outputs": []
    },
    {
      "cell_type": "code",
      "source": [
        "train_acc = get_accuracy_multiclass(predictions_train,y_train)\n",
        "test_acc  = get_accuracy_multiclass(predictions_test,y_test)"
      ],
      "metadata": {
        "id": "B_QZSpZ-REVR"
      },
      "execution_count": null,
      "outputs": []
    },
    {
      "cell_type": "code",
      "source": [
        "print(f\"Training Accuracy: {round(train_acc*100,3)}\")\n",
        "print(f\"Test Accuracy: {round(test_acc*100,3)}\")"
      ],
      "metadata": {
        "colab": {
          "base_uri": "https://localhost:8080/"
        },
        "id": "WTcWfjwJRFYO",
        "outputId": "33e3cd47-4295-4f6d-d1d8-1d0a36b13de7"
      },
      "execution_count": null,
      "outputs": [
        {
          "output_type": "stream",
          "name": "stdout",
          "text": [
            "Training Accuracy: 52.857\n",
            "Test Accuracy: 43.333\n"
          ]
        }
      ]
    },
    {
      "cell_type": "markdown",
      "source": [
        "Observamos la precisión del modelo, tanto de los datos de entrenamiento como la precisión de los datos de validación."
      ],
      "metadata": {
        "id": "mXBfnNYnsknP"
      }
    },
    {
      "cell_type": "markdown",
      "source": [
        "##Cuántico\n",
        "\n",
        "Para crear una red neuronal cuántica vamos a tener que seguir unos pasos determinados.\n",
        "\n",
        "- Circuito Cuántico:\n",
        "\n",
        "Creas un circuito cuántico con un número variable de qubits.\n",
        "Aplicas puertas de Hadamard al principio y al final del circuito para anular sus efectos. Intercalas puertas de doble CNOT (Controlled-NOT) y rotaciones en el eje para entrelazar y manipular los qubits. Esto es como un feature map, mapea los datos en otra dimesión.\n",
        "\n",
        "- Optimización de Parámetros:\n",
        "\n",
        "Los parámetros del circuito se inicializan, comúnmente a la mitad.\n",
        "Utilizas un enfoque similar al de una red neuronal para ajustar estos parámetros.\n",
        "En cada iteración (époc), ejecutas el circuito con los parámetros actuales y calculas la probabilidad de obtener un 1 en la medición.\n",
        "\n",
        "- Función de Coste:\n",
        "\n",
        "Definas una función de coste para evaluar qué tan cerca está la salida del circuito del resultado deseado (por ejemplo, 1).\n",
        "\n",
        "- Entrenamiento:\n",
        "\n",
        "Realizas múltiples épocs donde ejecutas el circuito, calculas la función de costo, y ajustas los parámetros utilizando el gradiente descendente.\n",
        "\n"
      ],
      "metadata": {
        "id": "uVAlMqS6tjB-"
      }
    },
    {
      "cell_type": "markdown",
      "source": [
        "![image.png](data:image/png;base64,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)"
      ],
      "metadata": {
        "id": "03muUU7TRxtL"
      }
    },
    {
      "cell_type": "markdown",
      "source": [
        "Lo que hacemos es que primero metemos los datos en un feature map para cmabiarlo de diemnsión y adaptarlos al modelo cuántico. Debemos rotar los datos, en función tambien de este mapeo obtendremos mejor o peores resultados.\n",
        "\n",
        "A continuación apraece en Ansatz que básicament es como se ajustan los pesos, equivale a los pesos de una red neuronal clásica.\n",
        "\n",
        "Y por útimo realizamos las mediciones de las predciciones y sacamos el rendimiento del modelo."
      ],
      "metadata": {
        "id": "D872lFMIvb0d"
      }
    },
    {
      "cell_type": "markdown",
      "source": [
        "### ESTIMATOR QNN\n",
        "\n",
        "Al estimator le damos un observable, las propiedades desde el punto de vista cuántico tienen que ver con el observador.\n",
        "\n",
        "Cuando se mide, es cuando se definen las propiedades, no tenemos una medida hasta que no miramos, pero miramos desde una dirección concreta.\n",
        "\n",
        "Un observable es una cosa que podemos descomponer en x,y,z para cada uno de los qubits.\n",
        "\n",
        "Si tengo un circuito con 3 qubits, puedo decir que una medida de esto es zzz, que es medir todos en la dirección z\n",
        "\n",
        "Cuando yo mido no peudo medir las 3 proyecciones a la vez, si quiero medir las 3 tengo que repetirlo 3 veces distintas, y estos valores ya están condicionados por la medición anterior\n",
        "\n",
        "En una esfera de Bloch se puede medir en infinitas direcciones\n",
        "\n",
        "Cuando ponemos puerta de Hadamard 'giramos' la esfera de BLoch\n",
        "\n",
        "SÓLO PODEMOS MEDIR EN LA PUERTA Z\n",
        "\n"
      ],
      "metadata": {
        "id": "iyh-CKH9PMxX"
      }
    },
    {
      "cell_type": "markdown",
      "source": [
        "Con el Ansatz -> <observable|A|fi>\n",
        "A es mi Ansatz que es una operación de rotación\n",
        "\n",
        "Fi son mis datos\n",
        "\n",
        "observable es con lo que lo comparamos cuando medimos.\n",
        "\n",
        "Esto devuelve un número, si cambio el observable cambia la medición, porque cuando comparo, me da un número que me dice lo parecido que son.\n",
        "\n",
        "CHago epochs, cojo unos pesos para todos mis datos de entrada, y veo el error cuadrático medio o lo que sea. ¿Cómo cambio los pesos? lo puedo hacer al azar y que sea dificil de converger o ver el gradiente, que es la derivada parcial de cada uno de los pesos.\n",
        "\n",
        "En la parte cuántica, lo de sumar delta o restar para calcular la derivada parcial, ahora este delta es muy grande, en comparación con el clásico que era algo muy pequeño\n",
        "\n",
        "Tenemos algo que no es una red neuronal, pero que se comporta de una manera parecida hacia afuera (esto es entrada, esto son pesos y función de activación) pero de pueratas para adentro (el delta ahora trabajamos con uno muy grande) ahora mi delta es cambiar un ángulo, +-pi/2\n",
        "\n",
        "Como derivamos en sen y cos, te queda de la misma forma porque cuando dderivamos cambian los signos\n",
        "\n",
        "Tenemos una función que lo hace por dentro:\n",
        "\n",
        "\n",
        "from qiskit_machine_learning.neural_networks import EstimatorQNN\n",
        "\n"
      ],
      "metadata": {
        "id": "ZONqZfEySKH-"
      }
    },
    {
      "cell_type": "code",
      "source": [
        "!pip install qiskit\n",
        "!pip install qiskit_machine_learning"
      ],
      "metadata": {
        "colab": {
          "base_uri": "https://localhost:8080/"
        },
        "id": "exFcTJqKW2an",
        "outputId": "1b60c1e0-5238-444f-8ea6-7c350abcf37a"
      },
      "execution_count": null,
      "outputs": [
        {
          "output_type": "stream",
          "name": "stdout",
          "text": [
            "Collecting qiskit\n",
            "  Downloading qiskit-0.45.0-py3-none-any.whl (9.6 kB)\n",
            "Collecting qiskit-terra==0.45.0 (from qiskit)\n",
            "  Downloading qiskit_terra-0.45.0-cp38-abi3-manylinux_2_17_x86_64.manylinux2014_x86_64.whl (6.3 MB)\n",
            "\u001b[2K     \u001b[90m━━━━━━━━━━━━━━━━━━━━━━━━━━━━━━━━━━━━━━━━\u001b[0m \u001b[32m6.3/6.3 MB\u001b[0m \u001b[31m14.3 MB/s\u001b[0m eta \u001b[36m0:00:00\u001b[0m\n",
            "\u001b[?25hCollecting rustworkx>=0.13.0 (from qiskit-terra==0.45.0->qiskit)\n",
            "  Downloading rustworkx-0.13.2-cp310-cp310-manylinux_2_17_x86_64.manylinux2014_x86_64.whl (2.0 MB)\n",
            "\u001b[2K     \u001b[90m━━━━━━━━━━━━━━━━━━━━━━━━━━━━━━━━━━━━━━━━\u001b[0m \u001b[32m2.0/2.0 MB\u001b[0m \u001b[31m31.0 MB/s\u001b[0m eta \u001b[36m0:00:00\u001b[0m\n",
            "\u001b[?25hRequirement already satisfied: numpy<2,>=1.17 in /usr/local/lib/python3.10/dist-packages (from qiskit-terra==0.45.0->qiskit) (1.23.5)\n",
            "Collecting ply>=3.10 (from qiskit-terra==0.45.0->qiskit)\n",
            "  Downloading ply-3.11-py2.py3-none-any.whl (49 kB)\n",
            "\u001b[2K     \u001b[90m━━━━━━━━━━━━━━━━━━━━━━━━━━━━━━━━━━━━━━━━\u001b[0m \u001b[32m49.6/49.6 kB\u001b[0m \u001b[31m7.0 MB/s\u001b[0m eta \u001b[36m0:00:00\u001b[0m\n",
            "\u001b[?25hRequirement already satisfied: psutil>=5 in /usr/local/lib/python3.10/dist-packages (from qiskit-terra==0.45.0->qiskit) (5.9.5)\n",
            "Requirement already satisfied: scipy>=1.5 in /usr/local/lib/python3.10/dist-packages (from qiskit-terra==0.45.0->qiskit) (1.11.3)\n",
            "Requirement already satisfied: sympy>=1.3 in /usr/local/lib/python3.10/dist-packages (from qiskit-terra==0.45.0->qiskit) (1.12)\n",
            "Collecting dill>=0.3 (from qiskit-terra==0.45.0->qiskit)\n",
            "  Downloading dill-0.3.7-py3-none-any.whl (115 kB)\n",
            "\u001b[2K     \u001b[90m━━━━━━━━━━━━━━━━━━━━━━━━━━━━━━━━━━━━━━━━\u001b[0m \u001b[32m115.3/115.3 kB\u001b[0m \u001b[31m14.8 MB/s\u001b[0m eta \u001b[36m0:00:00\u001b[0m\n",
            "\u001b[?25hRequirement already satisfied: python-dateutil>=2.8.0 in /usr/local/lib/python3.10/dist-packages (from qiskit-terra==0.45.0->qiskit) (2.8.2)\n",
            "Collecting stevedore>=3.0.0 (from qiskit-terra==0.45.0->qiskit)\n",
            "  Downloading stevedore-5.1.0-py3-none-any.whl (49 kB)\n",
            "\u001b[2K     \u001b[90m━━━━━━━━━━━━━━━━━━━━━━━━━━━━━━━━━━━━━━━━\u001b[0m \u001b[32m49.6/49.6 kB\u001b[0m \u001b[31m6.5 MB/s\u001b[0m eta \u001b[36m0:00:00\u001b[0m\n",
            "\u001b[?25hCollecting symengine<0.10,>=0.9 (from qiskit-terra==0.45.0->qiskit)\n",
            "  Downloading symengine-0.9.2-cp310-cp310-manylinux2010_x86_64.whl (37.5 MB)\n",
            "\u001b[2K     \u001b[90m━━━━━━━━━━━━━━━━━━━━━━━━━━━━━━━━━━━━━━━━\u001b[0m \u001b[32m37.5/37.5 MB\u001b[0m \u001b[31m28.1 MB/s\u001b[0m eta \u001b[36m0:00:00\u001b[0m\n",
            "\u001b[?25hRequirement already satisfied: typing-extensions in /usr/local/lib/python3.10/dist-packages (from qiskit-terra==0.45.0->qiskit) (4.5.0)\n",
            "Requirement already satisfied: six>=1.5 in /usr/local/lib/python3.10/dist-packages (from python-dateutil>=2.8.0->qiskit-terra==0.45.0->qiskit) (1.16.0)\n",
            "Collecting pbr!=2.1.0,>=2.0.0 (from stevedore>=3.0.0->qiskit-terra==0.45.0->qiskit)\n",
            "  Downloading pbr-6.0.0-py2.py3-none-any.whl (107 kB)\n",
            "\u001b[2K     \u001b[90m━━━━━━━━━━━━━━━━━━━━━━━━━━━━━━━━━━━━━━━━\u001b[0m \u001b[32m107.5/107.5 kB\u001b[0m \u001b[31m14.9 MB/s\u001b[0m eta \u001b[36m0:00:00\u001b[0m\n",
            "\u001b[?25hRequirement already satisfied: mpmath>=0.19 in /usr/local/lib/python3.10/dist-packages (from sympy>=1.3->qiskit-terra==0.45.0->qiskit) (1.3.0)\n",
            "Installing collected packages: ply, symengine, rustworkx, pbr, dill, stevedore, qiskit-terra, qiskit\n",
            "Successfully installed dill-0.3.7 pbr-6.0.0 ply-3.11 qiskit-0.45.0 qiskit-terra-0.45.0 rustworkx-0.13.2 stevedore-5.1.0 symengine-0.9.2\n",
            "Collecting qiskit_machine_learning\n",
            "  Downloading qiskit_machine_learning-0.7.0-py3-none-any.whl (96 kB)\n",
            "\u001b[2K     \u001b[90m━━━━━━━━━━━━━━━━━━━━━━━━━━━━━━━━━━━━━━━━\u001b[0m \u001b[32m96.8/96.8 kB\u001b[0m \u001b[31m3.4 MB/s\u001b[0m eta \u001b[36m0:00:00\u001b[0m\n",
            "\u001b[?25hRequirement already satisfied: qiskit>=0.44 in /usr/local/lib/python3.10/dist-packages (from qiskit_machine_learning) (0.45.0)\n",
            "Collecting qiskit-algorithms>=0.2.0 (from qiskit_machine_learning)\n",
            "  Downloading qiskit_algorithms-0.2.1-py3-none-any.whl (306 kB)\n",
            "\u001b[2K     \u001b[90m━━━━━━━━━━━━━━━━━━━━━━━━━━━━━━━━━━━━━━━━\u001b[0m \u001b[32m306.9/306.9 kB\u001b[0m \u001b[31m13.9 MB/s\u001b[0m eta \u001b[36m0:00:00\u001b[0m\n",
            "\u001b[?25hRequirement already satisfied: scipy>=1.4 in /usr/local/lib/python3.10/dist-packages (from qiskit_machine_learning) (1.11.3)\n",
            "Requirement already satisfied: numpy>=1.17 in /usr/local/lib/python3.10/dist-packages (from qiskit_machine_learning) (1.23.5)\n",
            "Requirement already satisfied: psutil>=5 in /usr/local/lib/python3.10/dist-packages (from qiskit_machine_learning) (5.9.5)\n",
            "Requirement already satisfied: scikit-learn>=1.2.0 in /usr/local/lib/python3.10/dist-packages (from qiskit_machine_learning) (1.2.2)\n",
            "Collecting fastdtw (from qiskit_machine_learning)\n",
            "  Downloading fastdtw-0.3.4.tar.gz (133 kB)\n",
            "\u001b[2K     \u001b[90m━━━━━━━━━━━━━━━━━━━━━━━━━━━━━━━━━━━━━━━━\u001b[0m \u001b[32m133.4/133.4 kB\u001b[0m \u001b[31m19.1 MB/s\u001b[0m eta \u001b[36m0:00:00\u001b[0m\n",
            "\u001b[?25h  Preparing metadata (setup.py) ... \u001b[?25l\u001b[?25hdone\n",
            "Requirement already satisfied: setuptools>=40.1.0 in /usr/local/lib/python3.10/dist-packages (from qiskit_machine_learning) (67.7.2)\n",
            "Requirement already satisfied: dill>=0.3.4 in /usr/local/lib/python3.10/dist-packages (from qiskit_machine_learning) (0.3.7)\n",
            "Requirement already satisfied: qiskit-terra==0.45.0 in /usr/local/lib/python3.10/dist-packages (from qiskit>=0.44->qiskit_machine_learning) (0.45.0)\n",
            "Requirement already satisfied: rustworkx>=0.13.0 in /usr/local/lib/python3.10/dist-packages (from qiskit-terra==0.45.0->qiskit>=0.44->qiskit_machine_learning) (0.13.2)\n",
            "Requirement already satisfied: ply>=3.10 in /usr/local/lib/python3.10/dist-packages (from qiskit-terra==0.45.0->qiskit>=0.44->qiskit_machine_learning) (3.11)\n",
            "Requirement already satisfied: sympy>=1.3 in /usr/local/lib/python3.10/dist-packages (from qiskit-terra==0.45.0->qiskit>=0.44->qiskit_machine_learning) (1.12)\n",
            "Requirement already satisfied: python-dateutil>=2.8.0 in /usr/local/lib/python3.10/dist-packages (from qiskit-terra==0.45.0->qiskit>=0.44->qiskit_machine_learning) (2.8.2)\n",
            "Requirement already satisfied: stevedore>=3.0.0 in /usr/local/lib/python3.10/dist-packages (from qiskit-terra==0.45.0->qiskit>=0.44->qiskit_machine_learning) (5.1.0)\n",
            "Requirement already satisfied: symengine<0.10,>=0.9 in /usr/local/lib/python3.10/dist-packages (from qiskit-terra==0.45.0->qiskit>=0.44->qiskit_machine_learning) (0.9.2)\n",
            "Requirement already satisfied: typing-extensions in /usr/local/lib/python3.10/dist-packages (from qiskit-terra==0.45.0->qiskit>=0.44->qiskit_machine_learning) (4.5.0)\n",
            "Requirement already satisfied: joblib>=1.1.1 in /usr/local/lib/python3.10/dist-packages (from scikit-learn>=1.2.0->qiskit_machine_learning) (1.3.2)\n",
            "Requirement already satisfied: threadpoolctl>=2.0.0 in /usr/local/lib/python3.10/dist-packages (from scikit-learn>=1.2.0->qiskit_machine_learning) (3.2.0)\n",
            "Requirement already satisfied: six>=1.5 in /usr/local/lib/python3.10/dist-packages (from python-dateutil>=2.8.0->qiskit-terra==0.45.0->qiskit>=0.44->qiskit_machine_learning) (1.16.0)\n",
            "Requirement already satisfied: pbr!=2.1.0,>=2.0.0 in /usr/local/lib/python3.10/dist-packages (from stevedore>=3.0.0->qiskit-terra==0.45.0->qiskit>=0.44->qiskit_machine_learning) (6.0.0)\n",
            "Requirement already satisfied: mpmath>=0.19 in /usr/local/lib/python3.10/dist-packages (from sympy>=1.3->qiskit-terra==0.45.0->qiskit>=0.44->qiskit_machine_learning) (1.3.0)\n",
            "Building wheels for collected packages: fastdtw\n",
            "  Building wheel for fastdtw (setup.py) ... \u001b[?25l\u001b[?25hdone\n",
            "  Created wheel for fastdtw: filename=fastdtw-0.3.4-cp310-cp310-linux_x86_64.whl size=512414 sha256=9d7c8679f8c4fcf80ac948584f8fb546d576591d86e9befc2fe78d109dd11ace\n",
            "  Stored in directory: /root/.cache/pip/wheels/73/c8/f7/c25448dab74c3acf4848bc25d513c736bb93910277e1528ef4\n",
            "Successfully built fastdtw\n",
            "Installing collected packages: fastdtw, qiskit-algorithms, qiskit_machine_learning\n",
            "Successfully installed fastdtw-0.3.4 qiskit-algorithms-0.2.1 qiskit_machine_learning-0.7.0\n"
          ]
        }
      ]
    },
    {
      "cell_type": "markdown",
      "source": [
        "Esto recibe la combinación de FM y Ansatz, le das el circuito completo, y le das el obesrvable, en función de lo que vas a medir, y definimos las entradas y pesos (que está dentro de qc1)\n",
        "\n",
        "El observable tiene que ver con el circuito con el número de qubits, pero nada más"
      ],
      "metadata": {
        "id": "UCbzmnS7ZDJS"
      }
    },
    {
      "cell_type": "markdown",
      "source": [
        "![image.png](data:image/png;base64,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)"
      ],
      "metadata": {
        "id": "HwfyvOf6SZNS"
      }
    },
    {
      "cell_type": "markdown",
      "source": [
        "Aquí tenemos que mi rotación (FeatureMap) es la puerta de hadamard y Ry, y Rx es mi Ansatz\n",
        "\n",
        "En el observable medimos respecto al eje Y. El uno que lo acompaña es el coeficiente 1/2(z+x) lo que vimos, en este caso sería 1/2. Sería dirección, y cuánto cuenta en el observable\n",
        "\n",
        "Cuando lo hace con el sampler, no tiene en cuenta la operación del observable, porque te mide varias veces y te devuelve la distribución, gestionate tu la información, va por epochs\n",
        "\n",
        "Tomas unos datos y mides"
      ],
      "metadata": {
        "id": "0s1ohWnPSaNx"
      }
    },
    {
      "cell_type": "markdown",
      "source": [
        "## Batched\n",
        "\n",
        "El estimator lo puedes llamar de varios circuitos, coges 100 datos y mandas el circuito de una vez, es una cosa de rendimiento, en vez de llamarlo 100 veces en un bucle, coges los 100 datos y lo ejecutas de una vez.\n"
      ],
      "metadata": {
        "id": "LAXiXA7bSeLM"
      }
    },
    {
      "cell_type": "markdown",
      "source": [
        "## How to run a backwards pass\n",
        "\n",
        "Primero tenemos que pasar input_gradients = True para que guarde las propiedades para poder hacerlo\n",
        "\n",
        "Una vez estás ahí, tienes una función backward, que te lo hace automáticamente todo.\n",
        "\n",
        "Entonces no vamos a tener que hacer nosotros lo de +delta-delta (lo sigue haciendo pero sólo)\n",
        "\n",
        "Esto si lo hacemos sin el batched es una locura\n",
        "\n",
        "Tiene distintas opciones, porque como lo de calcular el gradiente es muy pesado, tiene opciones para que nosotros le pasemos los gradientes que hemos calculado de otra forma como para decidir que hacemos el gradiente de otra forma.\n",
        "\n",
        "Puede que encontremos una fórmula que no es el gradiente pero nos mejora el entrenamiento y es menos costosa.\n",
        "\n",
        "Al final estamos haciendo un gradiente por la cuenta de la vieja y llego igual\n",
        "\n",
        "A veces podemos encontrar unas funciones que no son gradientes si no parecidas, no es estrictamente porque si conseguimos el gradiente baja muy rápido, pero hay mucho cálculo, con lo de ? (creo que era learning_rate) vamos dando passos y bajamos más lento pero tenemos mucho menos coste.\n",
        "\n",
        "Si le doy un sólo obesrvable: tengo una sóla salida, mi capa tiene de salidas tanto como observables tenga.\n",
        "\n",
        "Si necesito una capa con 10 entradas y 10 salidas, la puedo hacer, depende de la setructura de mi red neuronal y lo que yo necesite aprender de ahí, no necesariamente tengo que tener una sóla salida.\n",
        "\n",
        "Esto puede ser interesante para encontrar redes muy complejas y unir ambas para que las clásicas aprendan de lo cuántico.\n",
        "\n",
        "Defino los observables que yo quiera, y según eso tengo una lista a la salida de valores."
      ],
      "metadata": {
        "id": "Z1oeVVZpSjXI"
      }
    },
    {
      "cell_type": "markdown",
      "source": [
        "Ahora hacemos una red neuronal, como a partit del ejemplo. Probar esto:\n",
        "![image.png](data:image/png;base64,iVBORw0KGgoAAAANSUhEUgAAA6AAAAFJCAIAAAAKc9eFAAAgAElEQVR4Ae2dL9DqvJeAuw6186odZhVixTurkKgdZhUSidkZZtYgkTgkErWDZH4KiUQiX4lEIlmHrGTnu9l7vtwU2rRN06Q819zQnpw/zwn0vGmaJk/+QQACEIAABCAAAQhAoEMEkg7FQigQgAAEIAABCEAAAhB4UuAyCCAAAQhAAAIQgAAEOkWAArdT6SQYCEAAAhCAAAQgAAEKXMYABCAAAQhAAAIQgECnCFDgdiqdBAMBCEAAAhCAAAQgQIHLGIAABCAAAQhAAAIQ6BQBCtxOpZNgIAABCEAAAhCAAAQocBkDEIAABCAAAQhAAAKdIkCB26l0EgwEIAABCEAAAhCAAAUuYwACEIAABCAAAQhAoFMEKHA7lU6CgQAEIAABCEAAAhCgwGUMQAACEIAABCAAAQh0igAFbqfSSTAQgAAEIAABCEAAAhS4jAEIQAACEIAABCAAgU4RoMDtVDoJBgIQgAAEIAABCECAApcxAAEIQAACEIAABCDQKQIUuJ1KJ8FAAAIQgAAEIAABCFDgMgYgAAEIQAACEIAABDpFgAK3U+kkGAhAAAIQgAAEIAABClzGAAQgAAEIQAACEIBApwhQ4HYqnQQDAQhAAAIQgAAEIECByxiAAAQgAAEIQAACEOgUAQrcTqWTYCAAAQhAAAIQgAAEKHAZAxCAAAQgAAEIQAACnSJAgdupdBIMBCAAAQhAAAIQgAAFLmMAAhCAAAQgAAEIQKBTBChwO5VOgoEABCAAAQhAAAIQoMBlDEAAAhCAAAQgAAEIdIoABW6n0kkwEIAABCAAAQhAAAIUuIwBCEAAAhCAAAQgAIFOEaDA7VQ6CQYCEIAABCAAAQhAgAKXMQABCEAAAhCAAAQg0CkCFLidSifBQAACEIAABCAAAQhQ4DIGIAABCEAAAhCAAAQ6RYACt1PpJBgIQAACEIAABCAAAQpcxgAEIAABCEAAAhCAQKcIUOB2Kp0EAwEIQAACEIAABCBAgcsYgAAEIAABCEAAAhDoFAEK3E6lk2AgAAEIQAACEIAABChwGQMQgAAEIAABCEAAAp0iQIHbqXQSDAQgAAEIQAACEIAABS5jAAIQgAAEIAABCECgUwQocDuVToKBAAQgAAEIQAACEKDAZQxAAAIQgAAEIAABCHSKAAVup9JJMBCAAAQgAAEIQAACFLiMAQhAAAIQgAAEIACBThGgwO1UOgkGAhCAAAQgAAEIQIAClzEAAQhAAAIQgAAEINApAhS4nUonwUAAAhCAAAQgAAEIUOAyBiAAAQhAAAIQgAAEOkWAArdT6SQYCEAAAhCAAAQgAAEKXMYABCAAAQhAAAIQgECnCFDgdiqdBAMBCEAAAhCAAAQgQIHLGIAABCAAAQhAAAIQ6BQBCtxOpZNgIAABCEAAAhCAAAQocBkDEIAABCAAAQhAAAKdIkCB26l0EgwEIAABCEAAAhCAAAUuYwACEIAABCAAAQhAoFMEKHA7lU6CgQAEIAABCEAAAhCgwGUMQAACEAiCwPl8Ho/H+/1eeXM6nfSPQbiIExCAAAQiIUCBG0micBMCEOg0gfv93uv1kl//VKD9fj9Jkl6v1+m4CQ4CEIBAIwQocBvBilIIQAACpQgsl0tV3Q6HQ9VRfUwSfqVLgUQYAhCAwF8E+OlkHEAAAhBomYA+fXs8HpU3FLgtZwXzEIBAzAQocGPOHr5DAAKdIJCdvv1r+sH632AwGI/H6/X6cDhcLpdOICEICLRMgEXwLSegtnkK3NoIUQABCECgHgG13DZJEpm+fT6fsiTXutD9W3A4HM5ms/V6fTqdbrdbPe/oDYFPJMAi+NizToEbewbxHwIQiJ6AVKZ6JJvNRo7XbPR6vfF4vFgsttvt+Xx+PB66IdoQgECWgHzpsqc4EgUBCtwo0oSTEIBAlwnUvJReLpfj8bheryeTyWAwEG05jX6/P5vN9vv9/X7vMllig0BVAvL1qaqAfi0ToMBtOQGYhwAEIOD2Upqm6fl83u12y+VyPB4XLnUYDoer1ern54dEQAACQsDtt1LU0vBGgALXG2oMQQACEHhNoOlL6e12O5/P6/V6NpsNh0MxV9gYDAbL5ZJZ3tdp42inCci3o90o9/t9zm2ZwWCw2+3a9TBY6xS4waYGxyAAgU8h4P9S+vPzs1qtLIvdXq9HmfspY5E4fxPw/638bfnv/9frtbiR01iv13/3ofWbAAXubxL8DwEIQKAlAnLp8m//fr/v9/vZbPb19SVuvGsMBoPpdLper3lSzX+msOiZgHwLPNsVc7vdTnwobGw2G+lIQxGgwGUkQAACEGiZgFy9WvYjY/54PObM8lLvZoBxoDsEZPF6WyHJyoTJZJKmadaNNE0nk4n69eCd3lk+FLhZJhyBAAQg4JVAsAWuopBf5orzOY3BYLDf770yxRgE6hFQ+/QtFot6av7oXerlEWp9wnQ6fVndKr1pmsr37g9LfOBVvYwBCEAAAq0TiOUSdblc9vu92pxBfLZsMMPU+jDDgdYJlH15hM3znfIFbD260BxgBje0jOAPBCDwcQQivUSVrXc/Lq8EDIE/CTTxTW9C559ex/qJAjfWzOE3BCDQGQLdvkR1O7rODEIC8UCgie9CEzo9oPBgggLXA2RMQAACEMgj0O1LVLejy8vr+3On00keIRI+rFR+Dyz6M2r1reTaYTxN6HToXouqKHBbhI9pCEAAAn8R6PYlqtvRVRvBai2mkHnZqFnvlnqeqVoU9LInYGTcvmOhpAyeQslPE6DA/bSMEy8EIBAcgW5forodXbXBJEzyG3WezCv7PFO1QOhlQyD7vgabXpYyMoQs5T9HjAL3c3JNpBCAQKAEun2J6nZ01YZUlonalEqO5zdsJndFQzUP6eWKwMv3NbhS3vn7P3VAUeDWoUdfCEAAAg4ItL6lvIMY3quQ6Gz2PHqvplNnCqtPgSaSRqNwclfkOwUuwmBkcYK8lCFJXJZeJPrdoHBJ+Z0NjkMAAorAfr/PPlkiP09uGzZzPOQlBAL3+12l/uvrKwR/nPsg1/XdbudceaQK5cv+zv/CCd3CFxAUmnhnuhvHN5uN+rFt/ZdQEtHQSxlEfzcS5zAKClyHMFEFgTwC2WVY8sPUUKNwjifPXc75InA8HtUAGI/Hvmx6tbPf77sdYAWa8pWv0NeyiwcTlp54Frter6PRSMJPkqTdX0LxRF9OsF6vXWHR9bvS2Q09FLjdyCNRBE3gdrstFgv5GfLfGAwGm80maEYf7Jz85bNcLjuJ4fF4yA13VimoFMuPQHMZ92DCofMv902TEOo3HLpaStXpdBLn9QI3SRJXv8m6/lK+dV6YArfzKSbANgkcDge5P6t+hiaTSc6LxV35KvWE/PYlSXK5XFzpR49DAtPpVKXpcDg4VBuUKvkWsEpB5UW+mM2lyYMJh847X7vV6/W+vr5ahyALcNW6W/HH4byy6HSYjm6oosDtRh6JIiwCl8tluVzqP23qN8hPdft8Pl8u4JtOp2FhwptfBGScXK/XriJhlYKRWQ9FSWUTNpOpg8HA7d8qL3+yJISyjdFoNJvNpNdsNjP4e/soPqg10/JRNZy4ITqdaOuSEgrcLmWTWFomoOral1MRk8mkrfm5y+Uiv4BM4rY8RDLmO/+EmYr48XjIIMww+MQDco/F4VpMg6OYMI4Xfnz5Cybp0xvNOV/oZL6ALPtJksTbtMJLl4wsyEeF8WWXsgdFZ7DpKBuRK3kKXFck0dN9AsabgWzmOfr9/mq1ut1u7dKRm+BM4rabiKx1D0+YHY/HEB4nl8IoC+EDjyyXSwHiai2mgVHNiRZutmD0enf/R7wt1WhlB4NwqluBKVnQ8+5qszBdZ0NjKTtIojhCgRtFmnAyCALqVrI8kJszz9Hv9xeLxfl8DsLv51OfxA3EJdxQBORi3NwTZvpAldHrn78URv5NB2gxTVNZl9xiUqqR0Z2XtL5reI5OvlCtz92+ZGugeylT9qCu0zPtsq56lqfA9QwccxETkF9wFUN20Vhoda3O2nBeP0W7RQIyud7QChZ96001Btq6j8kINIaZnhrjVPgf0zSdz+eS0/yGt3ACr24Vhyby3oROb1lrzhAFbnNs0dw1AvIjHmNgUTsfI3BLn5t+wkyfvJcx0Mp9TLFuSeYTxLrNxHN0+htx2113Wzh0myDThM7CQAIXoMANPEG4FxCBqNfy8/MX0Ej67YqHJ8xkje/k1z81DFq5j8kI/J32v//vMBN9MvXvgJtsyd+KgVe3+m64Dnl0eCxVpkSBWxldpzr6eYVsKw8cOMxT1Gv5+flzOBJcqZLqs7l3mMlCmtVq1e59TEZgdth0lYle3XrboktgethoPJvKUkfE1VK98oWb0JlvMfyzFLjh56hxD/UfI/mSNNRoZerIFcGo1/LL9DM7hbkaD/X1yFevuSfM5BV6atdS+V7Xd76sBhmBbS0CLuuwB/kW09FcdDKqfT7mpRttLjRXmpvIexM6XcXblh4K3LbI+7B7u91Wq5X+DLV8B1ps+Ii8MRvtzoHVCUvf9jz2qfQ6HILq2/QTZs/nczweqy+72tNDvvj+OUR9A6QhXC2mo6GIWlkIq1e33iaM6wBsIu9N6KwTYwh9KXBDyIJ7H7JviJXR/67R9Lolses+Wr8aIw3EeNgo6ql0vwlv0JqsGmzuHWbyttL7/d7Q4j9LQMYNkMfjYdmxw2KR/pi8y8j9fpd5+qYvKOKDXt16MyrWqzWayLuQb33b9WpMmuhFgdsEVVudNm8KkG9Co43ZbNb0uiXx35ZOqHLxBiJ3q1UIoQL+FL88PGGWrWjbHb1pmn5/fysfuAxnsxP70JdJ+uFw2PQFJfvcSCzVbUN5l3s1+/0+9oHkyn8KXFckq+jxsHigxTfEGkTk78vYV+C1WyIYVCt8jN3/CiGH2cXDE2bZS2nr2ZfLcDivQWlxeLSeDoex69O3x+PRoeasKn3WVjGMqLrNfiuzAVY4Ikzm83mF7p3sQoHbZlrlAWf5mXPVCOQNsTpc+eM+SZJWtuHUnanTlhzVUdJi39j9bxGdW9NyQWruCbPspbT17MvbARp6sYXbHDWtrfV0uArw8XjIKv/hcOhKrdJjf6szlqcLmsj7+XxWageDgVv+8WqjwI03d5F5bqzAi8x7zd1qv00vf6MHg8FisWhu/aXm9d/Nav7/3Z+WIwIenjALsMCVP3TVrg6OWMaqphtfxuPxKEu9kyRxPn1b6lZnFE8XNJH3eB+Abu7bS4HbHFs0mwS68Q2s9tskjxNJd70xGo32+33Tq9ZUPsSumR4++yUgNUGjf+EY6TY++o34L2ty2yr2pUpO0LWeDidR6D9uk8nEiU5diYwZwZXTWCwWet8w2+K/W/caUuvWSZ/aKHB90jZtnU6n8Xj8UUvCO/ANLBvCy7lbUaI3vr6+ttutOUpcfxaLrhWjrxwBP4kwrBgfy3nsQnq/3ysfWCmYnV93AbgFHTKoGr2WbbdbeZAjSZJGF/Y0DVGIuV1TIWqb9j8W/RS4bWZK/eEbxS0VV5g68A0sG4I+vZEkf3zjfn5+5vO5/qvtYTCU9d9V6tFjEPCTCMOK8dFwycPH0+mkfJhOpx7MBW6i9XTU5yObgRg/bvU16xpkwXqSJL1eL+qnOPQ/bFQ4eqR12h0YTnXCz/b943KbPc2RRgl84HDsQMhlQxD5JEle3j57PB767uiNDjn9t7VpQ+jPJyADI1+s5lnDivGxpvIK3X9+fpQPo9GoQveou2w2G+OWXevpqM9TNh90/myZ+Kb/PI5Go0aX9IjRRhuSd9VwZUvUulIYux4K3DYz+IHDsQMhlw3BUt5SrP549Waovqvd1uAnEboVfRqsLba320259FHPel+v19FopAL/+voS+Hp25GBEDX1EOX+2TDjITbC49gIT/7MN/a6dw5nv2IdTFlTNIxS4NQHW6v6Bw7EDIZcNwVLeUqzWgPvV2Zuh+q52W4OfRIgVvRZp8XWm8qSph9U49cfP9Xo9//q3/vVvPp+Pc//ZPO+vw5fs1HfVvwZ9YrWJZ8uez6fxAIOfx3A9kDQem3NlMerh5AqCrocCV6fhu/2Bw1H+co33GeqyWbOUtxSrP0a9Garvarc1+EmEWJFG69Ng8iMQQn5/fn7O5/PxeFQl7HQ6HY/HMtsq0Jw0sotHRW0IKMr64GFiVUwoUGU9DFzeefadKwwcYKF7FLiFiBoU+MDhKLtgxvu6h7JZs5S3FKs/HL0Zqu9qtzX4SYRYUY3Wq9vn8ynTnPb5vd1u+/1+Pp9LXz2u/EfRjVlAvaPP9svFo+KAPYq2JKthzE9NTixZcy8fYMjREP4p59l3rjB8hvkeUuDm82n27AcOxw687qFs1izlLcXqj0hvhuq72m0NHhJxvV7FSpIkIVS39gVuflGrx5X/KPrLmtjo/u7jaDQaj8fT6VTN7x6Px/P5fLlcXI1MsetKYXN6KmOsthal23O3Kk3Os+9cYXPDyY9mClw/nF9b+czhKIvwHC6uf823maNls2YpbylWPyZvhuq72m0NTSfidDrJYgBlK5AljFIqPZ/Pn5+f7XY7m83koGAp1ciZ3jPWOxpqVQk7m81UCXs6nc7ns7fn9MWZ8Id6PkYJJNvISU1O1Lqe8XicI9niqZo72UuMlee5jdhFoXH8Yz9S4LaZ+o8djlEHXtZ5S3lLsfrj1Zuh+q52W0PTifj+/hYTqhECz/v9/i//8i+GY4Ufe73eZDLZbDY/Pz8hROHKB/kL5Hw+u9LpR4/+zGITFoVM/vR8E6btdapp5mpT1M/n03mM8j2yD6HbkhS4beb3Y4dj1IGXdd5S3lKs/nj1Zqi+q93W0HQiRL802uKZXU8pLuU0ulrU6lmYzWaKwGAwCGR+XXfvXVvfP0HfFOKdfIXjxoTxYDBQC0XO5/Pj8aigsIkuMnqrKTdirKZE7yX+3O93/fjHtilw20y9DMc2nWjDdtSBl3XeUt5SrH66vBmq72q3NTSdCNEvDec89/u98eaClyZylh8MBoPZbLbdbjs2NfuSQ/bg/X7/+vpSCap2Kz+r08MRWSDb9KpufY5ThrF9w9Wt/3dIxZN3AjbHnShRhgRXdr8OG0+6J0OB22ZOHY7sNsMobzvqwMs6bylvKVYettnDmyHTMJ//JNB0IqRyasiQ3KTu9Xr5s4/GTJVchplnej6f+/1eJajyne4/h5WPTzKi8vNe3xVj5Ihd+0ZzVF29o1hiqY9L36SoucDr++lNAwWuN9QvDDkc2S+0B3wo6sDLOm8pbylWP6veDNV3tdsamk7EdrsVE6pRjacsMBgMBofDQSmpc5NaJnSr+dO9XpKmWELz7/Dlctnv98vlcjwei3WbRnPz4lJN1nxHsUThJPvH49GtQidetaWEArct8n/Z/diBGHXgZZ23lLcUqz9evRmq72q3NXhIxH6/1+dxq71dRepR5fB+v38+n3VuUovCbufXPjoPI8HeGRvJ6By2CaqsjHwFar6j2DlM5wrLkglHngK3zVx87ECMOvCyzlvKW4rVH6/eDNV3tZQGmWiUALONptfklXJY3CvVq6zw/X6XgjJJkgo1rnGbuNfr/eMf/1DOV3s0SvwpG0tX5f2MBCf0jG+ZE52RKqmftYZg1ncs0oxk3abAzTLxd+RjB2LUgZd13kZeljN62BvYxh9/3wF3lmRCRQJ82QhnaZq4547Ba02LxUJsVatxn8/n4/GQwlRmhVer1WuTuUdFT67UB52U7IQfs/EtC9/h5jysn7WGYNZ3rDlonjVT4HoG/oe5jx2IUQde1vl38vv9Xq70ItPQnjv6sBNb+sF428YsiESX03gX7GazGY/H2+32nYDb4+KhW7VZbfp6WWW0wjyueimDPB+m9FTb+kCGfdbVzzzibSTUxyuuJknS3PLW+n560CAoStmy+b2qeaOpmmOloohFmAK3zUx97ECMOvCyzr+U16dsRaDpPXeez6dut82h7862MQuiYPb7fWPaUiC/nCO/Xq+j0UhkqtV/ZWMSc2U7lpX/+fkRW9KoFqP+4NpgMCjriZKnwDW4SVKM4wF+jMjVpunJH3ulDMngF5IvG3VuNInCUo51UpgCt820fuxAjDrwss5n5bMzakmSzGazpvfc0e2+myq2mWCQiGgkSVJ5ukXoNf0b9Hg8xNZkMpH2crmsMOSke7X1Cc/nU67xTQcei35BGr7DEbnaNEy1Nr3sNLaxol14Go2yavVgRZV+8DPbFLht5v1jB2LUgZd1Pisvk44epmz18W1jV4oPcftzGr1ebzgcVoi32nSLGNJz1FBbXtv78/Oj17ij0eh2u5Uy+k//9E/K8//+7/8u1VGEZYzJkQ9v+BwJNVFH5GrNSOPtTo4kdxS4gqKFRp2BmDPTVnlKyRuCOoF7c/KdobLOZ+XlSIX5s3de2Ry3sWs5wSCqOtMYjUbX6zVN0/l8XjaoatMtYsUmdzVlptOpMnc4HNI01Wvcr6+vUvsciduqUeHXhgLXyKYgNY4H+FFczWlUGBIBRhqpS/rtmkhDcOg2Ba5DmKVVyW9E6Z7aPpSiRG9Um1Kq4Ea1LuJqte7t9irrfFY+e8RDRPr6BA/mvJkQmLLDeb/fT9P0crnIqZyGNz+zhsSr7CnnR2TttawrkCPKjcFgsNvtbOyK29Io+2tDgWtwFpLG8QA/ysJT8fllo+yQCDDSGF06Ho+yw8nLhw1iDKqOzxS4dejV7Ss/DRUUSd93jcvlUkGtny7isx9zbq2UdT4rLxcJnzmS9QnvVt+6peRNm45XYtR/5UVgs9nc7/f9fj+bzZTAdDr15mfWkDiWPeX8iFT/k8lElJ/PZyGmnLF58kzc1hui06ZBgWtQEpLG8QA/Wt7hqXZPI8B443JJ/zrr3/S4onDoLQWuQ5ilVVX7XTMWJxhWZ7OZUtvuxdvwyvhYLXBDiduPl8tluVyqS2/+LbayzmflXeXIGAliaDAYbDYbg4+c9bwuwnDD+UeJK78R4M+9OOycSVbh9XpV5vr9vn72fr8b7z7Njhxd3nj/YrXnbChwc5Aap/gIAUsC+/1eflLU6wYtO3ZYjAK3zeTKcCzlhP5XWvY2hH5ntpRan8LVAm/CQ72uFa+SJMm5xSZilv5k5fUc1ZnElUJBTOgNo5CVU5ZuxyIm0+ESYLYR5s+9+OkHtYDKmtNX5eaMfNWxvtsybrOefOaR+kg/kxtRCwFjxZEc//AGBW6bA6Da75r0erfVtgi0GVuubc8evnylgvjwspFzi03kc0P8++RLeXnop85Ee87twuFw+LcHv1ov3TBkYvxoQJAyTuLN/hEYSJjioR9/8s2laSoC79bjGncMKrtNgWugE/LGcT5CIJ+A8ZVUAynn4pWvrXtnKXDbzGm137XCXoUCbcb8y7ZPD40/bcW00VCvBjifz4VwpGOhpBJ4Ka9P4rp6ddb9fpfyLvtc/Es3LEOIVCzwkD27V2hOBo+SzK7Hzb93ZD9IKHANVoWpMeT5CAFFwPhKet53MvwsUOC2maNqv2uFvQoF2oz5l+2shy//EhWx5hr2da1AE2fkSH7jnbysxE2S5HQ65SuxObtcLpWt4XB4Op3G47F+a/6dGzaaI5UJPGTP7hWaM+bCkyQx1uOKhnf3jizHidJTuBbCUlsHxARsB2IhBD8EsldMD68K8hOaQysUuA5hllZV7XetsFehQGlHXXeQuaL7/a50y6SOOO+24fBPW3HMkso7+TRN5bUCX19f1+vVUuE7Mflr/ng8qrZeQ7xz4522DhwPPGTP7smXLj+zOetxnTh8u92Unu/v73xPPuesE7Cfg4tIn5l9QmHykgAF7kssng5W+10r7FUo4Cm892bkwW25k56dPZIo6jfc/mkr/ryP748zOfK3202q0sFg8Hg8/uhZ8oMY0huiQw7Kkc43Ag/Zs3vqK2azPs9Yjyv3AZw4fD6flZ4A97Vo6xvhBGxbzmPXG4HsrK0aOTZfam9OBmWIArfNdFT7Xcvvdb/f8wXaDPi3bbmZvlwufx+L5v+yePPlf35+ZGptPB4bWx+UgiKG9IZoECt19m0QbVE0hEOY3obsnowWfUcRJw7LZkZclWVYOgEr2mh0lcDL+5xdDdZJXBS4TjBWVFLtdy2/l9SO2efoK3rZQDfZdn48HjegvlmV+fyztgvlD4eDyNS56osSaejaZMlvnX0bstGFfEQ4hOlkyO7pd1RkFDlxWB76NBb4hpkjP14JWPtG/l7dftzGimcC+rdSDRX5bnr2JBZzFLhtZkp+zko5kd9LbnnL3f9Syv0IyzRzr9erM2fpx1vDSj5/Q9jYGD97Vh1ZrVaiNvv0+rtexnHRYBxXH/V9G14KdO9gPpDW4w3cvSwfmdbNnrI/Mp/PVeCHw8G+V7clBawMCZuGvsK+23yIDgLVCFDgVuPmppf8ipVSl98r/2wpQ40Ky92W6O6YlyVsKS874yZJUq3GLTRUKNBoxv0rl3jlWUb/PuRYFPdyZII6Zb+KN8dtWX//8/OTI/ZRp7IzczI2chrM3n3UICHYCgQocCtAc9ZFfrxKaczvlX+2lKFGheWOuatdYBv1VldelrClvP70epIkNjvy6l7ZTBVbemKojfejTIz1er0Ab4h/Wjqez+flcpGkhPlXR7yjHc8hAAGDAAWuAcTrx2pXuJxesr4t2Lc3Cd/tdqsCmc1mcjCKRg7/l/7by6dpKvNbg8Gg7OKNQkNSW0Q3a/4SbOFBWY+uPylV2MubQGG+vHnix5C+L95oNPJjFCsQgMDHEqDAbTP1Nle4y+WyXC71TfuzvbK7h4RfNcqS0MFg0GYOytvO8s/XUUr+fr9/fX2pLmVvQYohvaE/jCKz5p/znJk8zhjgn3ySpvzx05mz8ud3r9erv+tzZ7AQCAQg0BABCtyGwFqpzbnCqbpWFqoqSaU020seLFOnHL7UwCqMSkL6XpuVFLTWKcs/35Wy8n46pWQAACAASURBVLKPUtnFuDJBKxZVQx5GkT8qkiT5kEnc5/MpWEILWdKUP346c1Z+pgJcLtIZyAQCAQgIAQpcQdFC4+UVbrPZGHWtEpNZt2wvOZIkiduXGjQKRdxu1Ipz5WXdLiv/fD6rPXD27lEVfSZYNMtwcs4nNIXBzltXGBihsS3lz6fFWwoOwhCAgHMCFLjOkZZQaPziX6/X0WgkB1Wj3+8vFgv9kSMRUJbkxl+AN2HzWRiB5AuHc7as22Xln8+n8cBZtU0VXhL7wEncYEOuMDBe5jSKg/H+TEWBFychAIEsgc8tcB+Px7u5UrnwtNjI1rWSPPHKmOgNf92thKAaEohxPPCPZd0uK6/CN2pcpURfUFuZ0gdO4oYZcrWBUTnvLXbc7XYSbHQ/Uy1ywzQEIFCHwCcWuLfbbbFYyMo8+eUNpFG4pdFLP6NYd2uMVAnEOB74x7Jul5WX8F/WuLKgVsTKNoKd0SwbiL28HrJ9r6YlKw+Mph1zrl9W38b4M+WcBgohAAE/BD6rwD2fzzKXI1eXoBqj0ajw+eKXDg8Gg91u52TQyJ4M2fnC0+mk7+dQ05wEUlOP5+5l3S4rr4eTpqm8+Unp0RfU6pKl2vIt+JyVuHWyUIqtvXCALtk7X0pSIi27810pKwhDAAIQ0Al8SoG73++Hw6H8zqrGeDxu93224o+eksK23suYh3ayWFNf+WDMF6qZGONgocPvBPRA3skEeFyYW/oWYJhhzmha8qwmJlkLZy+FAAdGNbaFvT4n0kIUCEAAAt4IdLnAvd/vh8NhPp/LDTL5nZ3P5yFc58SfUvnWe718cL7mbK6hU70yXqZ1lfVSDr8T1gN5JxPacdndzL7KDzPMML1qLt0B7qUgKej8O70k0ubyi2YIQAACBoEOFrin02m1WmXna5Mk+fr6Wq1W4VxOqv3uZ3u9XKxZczZXZrzUa2ONPxKMYVTtYzaQanp89pK5z+FwaGk3zDDD9MoSaQUxSVw4m43IV6xw2X2FeMPpEiD5cODgCQQg0ByBjhS41+t1u91OJhO5Zsj1WzXUpGZoK8DEyVIJftkru1iz7GsCDB/0eVx5t5Yy7WQZ6PP5fBmI4UZoHw+Hg3Lb/mHwMMMM06tG0x1ayIG/SdhJLvTX847HYyc6UQIBCEDAhkDEBa5x01yuXnpjOByuVqvT6WTDwr+MuFrKdH4vYzZ3sVhUnrHWXxurjNpXdTYR5Qdio8G/jGznaT9BHmaYYXrVaEIDDDnkNwnXzIXx+8zreWvypDsEIFCWQMQFrv4slFy6kiTp9/vz+fxwOFQu7MpCrCwvbpfSUNjLqHF7vd5yuaxGQ39t7L/927+5nQIvDKQUFj/CspRTLU22MSp3FWyEvcnECL8mnDBDDtOrmqifz6exqInX89ZHigYIQKAUgYgLXP0eeq/Xm0wm2+22cI+tUnSaFq52bbPplaapbAWl5Muu8zMmYJQSt1cpm0CaTkFZ/bK22/4hRTVQXa3rKOvwO/kY4b+LxfJ4mCGH6dVLpJXfjBPa4H8ZHQchAIGOEYi4wO1AJqpd2+x7HY9HKchUL/sb68YEjOpuv3WATXZkavN2u9nIhyAjPrudzPYfmv0o8u9bQxbDDFlGlP467oYIVFb78i3iwjO/UdkoHSEAAQjUIUCBW4de3b5yYSilqGyvbJmbfYND1gGxYjSykpWPjMdjpXy/31dW4rPj/X5XDvf7fZ92m7AlaW1CeZg6wwxZFr0MBgOffzVdr9flcvluoZewqtlg7jbM7wJeQeATCFDgtplluXiUckKmfOx7GatykyQpnIs1rBgf7U3nSMoDW/P5PEcsnFOn00mlbDKZhONVNU+qjb1qtgLpFWbI+qOcHsrB+/2+3W6/v7+Fhn2j7DKnQPKOGxCAwGcSoMBtM+9yaSnlRLU1ncY+YoWXUsOK8bGUw++Ez+ezIjAYDN7JBHV8u90qh5fLZbuO7fd7V3Nv7Qbi03q1r5sHD/VHORtaqJCm6X6/n0wmAqFsw+Yt4h5YYQICEICAJQEKXEtQjYjJNaYR7cErTdNUJoajWIYrG5dut9u26D4eD+PxQRlF1RptBeLfrvDxb7rQopSezhcqnE6n+XwuXzSB0Ov1ZrNZu+8qL8SCAAQgAIHKBChwK6Nz0FEuNg50xakirmW4UoW0tbPy+Xx++fCfDKSyjcKJ/DiH1WuvBc7r060ebWKhwm63ezlaxuPxfr9/PB6tRoxxCEAAAs0SoMBtlm++9pCvuPmeuzob1zJceaNbtU2F60BL03S1WsmASZJktVr5fCapjvOB9BV6gfhjuKEvVLDf7cRQIh/lmyVRf39/bzabKG6VSBQ0IAABCFQmQIFbGZ2DjnLtcaArThVxLcNtK1/GJk39fr+hlZpxDiJbr9tKn61/z6e++KTantP3+/1wOMjODOrFN4vFwn7bZntvkYQABCAQMgEK3DazE/4Vt2k6aZpGBMGnq2martfr7JNk0+mUm8vVhqXP9FXz0NjtZDAYWJa5p9NptVoZm14nSTKZTJjmr5YLekEAArEToMBtM4PhX3E90IkIgjdXX66e7PV6sWwY7GHYVDDhLX0VfJMu+pOXyuF3k6/X63W73U4mk+wDZKoj1a1QpQEBCHwgAQrcNpMexRW3aUARQfDg6vF4fLlHKZs01R+HHtJX38nn86m25BNvyzaGw+FqtWrrOUgnBFACAQhAoD4BCtz6DKtrkEtXdRXx94wIQqOu/vz8yJ4SytDX19d2u+UWs6sx3mj6XDkpei6Xizhc2Oj3+/P5/HA4+H/8URymAQEIQCAoAhS4baZDrlttOtG27YggNOTq7XbTny5S75lbrVastXU7NhtKn1sndW2LxUJ8zjZ6vd5kMtlut9frVe9FGwIQgAAEns8nBW6bw0AuWm060bbtiCA4d/V+v8vLI0T5fD5nHq6JUSmEm1COTghAAAIQCIoABW6b6eCK+9ffWL//tZkJO9u/PXXwrblcLsvlUjbWVZonk8m7J4rsHEQqj4DD9OWZ4RwEIAABCARAwMGlOoAoYnWBK+6nFbiqrs1u/jUcDtnatumvMV+3pgmjHwIQgEA4BChw28zFp11xH4/Hy71dFYc2M2Fnu1q+LpfLbrebzWbZujZJksFgcDgc7OwjVYtAtfTVMklnCEAAAhBoiQAFbkvgf5n9nCuuKm2NO/ISvmq0mQk72+Jwvniapufzeb1e5+xR2u/3F4sFs7b5JN2elf1ieV2tW7BogwAEIBAgAQrcNpNiWTC16aIL27vdLr+0TZJksVi4MNWsDsnXYDCYTqfr9fp8Pqu9DtQrUpfL5Wg0ErFsg7q22Qzlapdd2Ha7Xa4gJyEAAQhAIHoCFLhtplAKoDadcG07fx3CYDCI93VcMgUoibNp9Pv96XS62Wx+fn5cw0ZfCQLyAoXpdFqiG6JOCdxut9VqpZbr2L+L2KkLKIMABD6CAAVum2mW8qhNJ9zZzl+HEHVpqyBJhSSJe9f4/v5eLBb7/Z49St2Nr7qa5NUJvV6P12fUpVm+/+FwmEwm2a8MO4eUZ0kPCECgmAAFbjGj5iTkt96++NPnP6R7+I3ZbNalkuJyuez3++VyKXe9kyQZj8fqFam8oKG5r0xNzfKcH6ufa5K0756m6Xa77ff7736mmFC3h4kkBCBgT4AC156Ve0n9lnev18s38G7+491lo8Xj9vV6fsichYBbAvP5XH0vlsulW81oe0ngcDjIHxXyizSZTA6Hg0yoJ0nCJO5LehyEAATqEKDArUOvbl/7W95ybQi8QWlbd0zQv0kCx+NRfYO+v7+btIPu5+l0Gg6H+u9Vv99frVb6FhbyhmomcRkxEICAcwIUuM6Rllaoz+Pq14N3bTX/UdoMHSDw8QQej4d8rT4eRlMALpeLvnQnSZJ+v/9y5wp9Ercpb9ALAQh8KgEK3PYzbzmPm53/aN91PIBAbAQocJvL2O12m81mQjhJkl6vt16vc1ali3BzXqEZAhD4TAIUuJ+Zd6KGwIcSoKJqIvH3+325XBo3oxaLxf1+zzdHOvL5cBYCEKhMgAK3Mjo6QgAC8RGgonKVs5wdr6fTqeUGeaTDVTrQAwEIGAQocA0gfIQABLpMgIqqfnZzdrweDoeltmAjHfXTgQYIQOAlAQrcl1g4CAEIdJMAFVWFvOZM1grPwWBwOBzKKpfuZTsiDwEIQCCfAAVuPh/OQgACnSJARWWfztvttt/v5/P519eXcNMb9bcFFG32XiEJAQhAwIYABa4NJWQgAIGOEKCiyk+kFLXZFzQIuiRJ6pe2yg3Rme8VZyEAAQiUJUCBW5YY8hCAQMQEqKjeJW+z2eQUta4qWsM66TCA8BECEHBFgALXFUn0QAACERCgosom6Xq9jkYjISONXq83mUw2m83Pz0+2l5MjYsuJNpRAAAIQEAIUuIKCBgQg0H0CVFRGjjebjb5/rYeiVneAdOg0aEMAAg4JUOA6hIkqCEAgdAJUVJIhY+K21+ttNhs566dBOvxwxgoEPpAABe4HJp2QIfC5BKioVO6NidvRaGT5aga3Q4d0uOWJNghAQAhQ4AoKGhCAQPcJUFGFMHEr44x0CAoaEICAWwIUuG55og0CEAiawCdXVOp9DfqK27YmbmWIfHI6BAINCECgCQIUuE1QRScEIBAogc+sqLIv121lxW12THxmOrIcOAIBCDgnQIHrHCkKIQCBcAl8TkV1Op3e7Wvb+sStjI/PSYeETAMCEPBDgALXD2esQAACQRCQG/T3+z0Ihxpzot/vS/kojYbe11A5CHGssgY6QgACEHhJgAL3JRYOQgAC3SQwHo9VUXU8HrsZ4e+opHZUjdBKW+WmOPnba/6HAAQg4IYABa4bjmiBAASiILBcLlVRtVwuo3C4spNR1I5ROFk5BXSEAARaJECB2yJ8TEMAAr4JHI9HVVSNx2Pftv3ai6J2jMJJv3nDGgQg4IYABa4bjmiBAASiIHC/31VR1ev10jSNwudqTkZRO0bhZDX+9IIABNolQIHbLn+sQwACvgnI3gKXy8W3bY/2oqgdo3DSY9IwBQEIOCNAgesMJYogAIEoCMxmM1VXbbfbKByu5mQUtWMUTlbjTy8IQKBdAhS47fLHOgQg4JvAdrtVddVsNvNt26O9KGrHKJz0mDRMQQACzghQ4DpDiSIIQCAKApfLRdVVg8EgCoerORlF7RiFk9X40wsCEGiXAAVuu/yxDgEI+CaQpukn1FVRxBiFk74HKPYgAAEXBChwXVBEBwQgEBWBbtdVp9NJ3meRJAU/8u/e6DsYDHa7XdNZ7XYimqaHfghAIIdAwW9fTk9OQQACEIiUQLfrKuMlvfk5MoSFjGqs1+v87jXPirmaeugOAQhAwCBAgWsA4SMEINB9At2uqyQ61XiXzndzt0b3zWbzTkP942Krvio0BELgfD4fDof1ej2ZTGRLPkm0NMJ8d3QgDHHDCQEKXCcYUQIBCMREQK6yMTlt7atEpxrv+hlzt7pYmqaTyUR17/V6+im3bXHVrVq0+SFwv9/P5/N2u12tVuPx2BhRktx3jUaHlh8CWAmZAAVuyNnBNwhAoBECcsVtRHvbSiU61Xjnji729fVliPl5FE98MKzzMUAC1+v1dDqt1+v5fD4ej3u9nqSvWmOxWAQYJi51hgAFbmdSSSAQ+JvAz8/PdrudzWY5twiz16TPuWkosf+NrEMtiU413kWmi83n86yYCGRPuTriwYQrV6PTk6bp+de/7Xa7Xq8Xi8U491/Ob8XX15dkqrAxHo9ns9l6vT4ej91+WWB0Q+LTHKbA/bSME283Cdzv9+PxqG4UFl6BcgQ+5KahTD7dbrfuDQgjv+8C1MX2+70hdr/fRcA45fCjBxMOvQ1Q1fV6PZ/Px+Nx/evfZDIZj8c5paoAd9L4+voaj8fL5XKz2ZzP505+mwJMOi5ZEqDAtQTVppjlsyBOfrC8KfmcyUI1dNTOTdky4t3Aejwe6/Xa24VKz/s7l7p0XHbRss9IROHr2czZJkwXezweRoDL5VIJDIdD45TDj+KDQ53dVnW73er/HSvYSzW+v7/H4/F6vd7v9+fzOU3TbqMmutgJUOBGkMGyK/dL/Wa1KPwhk4VqhKkk2oSsSttS9wSzSRwMBrPZbLvd/vz8WA5xmdS83++WXeIVW6/XCtrLW/PxxqU8N8bDu3BEbDQaGTL3+13Gw/F4NM46/Cg+ONTZVVWHw0Ge/BNuOY1+v6+WJKjJ3cPhcD6fWTPQ1eFBXFkCFLhZJsEdyfkJi/1UcKwbc0gyZVgwZnZ3u13l0nY8Hq9Wq+PxWK1ClWunh+39DQj+P57PZ5WRTr6tVwabarzDK2LZzW79TN8+n0/x4Z2TH3i81C270Wg0Ho/n8/l6vVbrBM7nc3Y+/gMxEjIEKHAjGAPduwZ0L6LCYfQuZH1mV6YVlbDnVRz7/V7ZHY/HheHELpCmqcxQdm/hoAw21XiXLBHLTvPLXaNGp28pcF+mRuBLgozGZDI5HA4v+3IQAhAQAhS4giLchvy6VXbRmCasrMdVx/oRufLEm553IctxveG5tFUQHo+H1HzV5oC9wXRiqMPLcPWxZLMGN8tTNGRPqSM5PymbzWY8Hlsubi409M6BbhwvtdtJv99frVbd+3usG6kkigAJUOAGmBTTpfrXAH2a0NTexuf6EbXhdS2b70KWmlIEJpNJW09vfNQqBZkv794yXBlLqvFu4IpYViDnlBJ++ZNyvV5Ho5Hqm91YN2vlA2dwS+128pIYByEAAUsCFLiWoNoUK7zY5Dh3Op2+v7/raMhRXvlUaP5UDsS+47uQN5uNnEqSZDabtVXdPp/Pbq9SeDweh8NhPp9n96YYDAZdWnmsj6iGZnDFhHwFDoeD/tfabDaTUzmNrJ4c4cBPXS6X3W5XdvNpIWA0eAlC4OnGvfAJUOCGn6Pqz2FcLhf9kpNzqfNMQX7KPdtt0VwUIeurFDrznMrlctlsNjKzKInINrLPWrU4YOqYNkJ7p0rEDAF5Ai/nF8Pom6apPBzZ6/U2m42h891HQ887sTCPqzcprNfryWRi/NJKXPmNCrudhIkCryAQIAEK3ACTYrokP5HmidzPaZoOh0Ppqxq5PfydFK/8mWzbUiwhSyGYffCobYTl7Kvd1gqf15G8qEY3alwjqHfgREwXuN1uAm0ymein9LbRV+b++/3+9XrVJfPbhp584RDO3u/3w+GwXC7lmyIhWDZq7nYSAgR8gEAUBChwI0iT/G4qX3Me79CDkSWG+tSCLtBi24ioRU+8mY4l5NlsplyN7jFtm82Vvr+/l8vl6XRSeZekyOJjdaSVh/wcDkWJSzXeaRYxEUjTVOq2fr+f86yh0Vd62c/dGikQH8Jp3G63/X7/ck2LhK83+v3+dDrdbDax/3EYTgrwBAJ1CFDg1qHnqa/8hip7Lx/vyLoi0zD6Ks+sWCtHjIha8cGz0VhClr+LopvLlAEvqFWj1+tNp9Pdbpd9/Fwk0zQ1alybV3J4HkL25iSuJElylnKKmGiez+cCLb9Kkz+b1+v15XKRXjk1sVjRG1kf9LP+22WL2u/v78Visd/vS81b+48LixD4QAIUuBEk3bgGGB8lgPP5rO/Oo4vpbZFvsRGaPx5QlAp5v9/rD0INBoOyE2OVIzocDspVy4eEKhty2PF4POq4BHXhRKxIPp/PNE2lvFPHHXroWZUeV45pQ2y328mRwkfu5E0Q0iVJkul0mmMue0oW+9Z/3YbxldG9ct5WawxOp1Nn1qlnU8MRCHSAAAVuBEmUH2jlq/FRApB9PdUkii6mt0W+xUZo/nhAYR+yzKFKF9Xw847Nn58fZS77+lYPlCqY0F8qqzy3VyKE9S4vD+oC4bctQ9DFdIw5k74Se3bOO0mS//mf/xEBm8ZisVA+rFYrG/l3Mu++MhJgtUav15tMJiw5eIed4xAInAAFbuAJ+ss9+XVWvhofJQC5x6pmX3QxvS3yLTZC88cDCsuQ9Vk06aIaZafHqgX1eDyUOct9TKtZcdjLmEq0Kc7EuhBWR2xW8UaxoZgRl8RrNHQxwTgcDi03qkvT9L/+679ESYUZXFlVkr8cQty+3+/nX//2+/3617/ZbCbLf3VPKrcpaoU2DQjEToACN4IMynK37NSs7r08yKxetSo/8dkSWe/VSlv3rRUH/Bu1DFku+fK6B1ngmCRJ2QWO1cKU8Vatu+deQqzCS2WNpLxc5yAyeiPwBcrian4uREyfvi2FMTt1an+fIbs+4Xq9qvp1u92q+nX8659lCStfmfyoOQsBCHwIAQrcCBKdMzWre69vYnq/3+XqRYGrU2qrrafjpQ+Hw0EvsPRZNGMAvOzu8GChqw5t1VdVx1ujr/44ppzKaRSu8a0fXTUN4nN+dxHTp2/zu+hn9W22//3f/11pK7zPYDNNLo7ZN6bTqf6V0f2kDQEIfCYBCtwI8p4zNWt4r1dCcm2gwDUotfJRT0fWAX2ffCWpyxgDQD/VRFtmcO1n45pww0Znmqb5YPOVvOxrrC7VJ2uNU0mShLnZwsu4sihETDbMtl/goW+zPRqN9PsMWUP6Ef2vOHHAsvH9/a3mdJfLpZriVTO+4Q9UnQBtCEDADwEKXD+ca1nJmZo19OqVkFwzKHANSq181NORdUASp8SMOsMYANnubo/IVriFs3Fu7VbQJtyqPYb/LilGIatvYRHFZgvv4jIIi5jM4CZJohf0hrz+cbVaqe69Xk/tkCXa9vu9Lmm0c6bJpX5drVbr9Xqz2aj6lR24DIZ8hAAEbAhQ4NpQal/m3dSs4ZleCcn1hgLXoNTKRz0dWQdklaFeS+li+gDQjzfR1mfjAp8bK+SWzycnKXqN+3KaVua5C3fUyvehibM5cenmREwP1qbG1ZfeyogVIC9x6XZVW6xnT3EEAhCAQH0CFLj1GfrQIDNVshfYu9fEy91GuX7o9wR9+GphQ3yzkO2CyO12UyG/3JpACsper/fuMTJ9AHggMp1OlcMhT+LacMtnlT8O89c/yKxnr9ez3AQg3xmHZ/PjEkO6mFHjLpfLd0ta9Y0+9Hf5ytSscf9BzBkN3bpxio8QgAAE6hOgwK3P0IcG2bxJrgrvCly9AtaFVduHrxY2xDEL2S6ISHmqFwQSmJRKOdWkPgCkY3MNqR3fDbPmTNtrtuGWr61wHOYI2L/VNt+HJs7muK2bM8SMGnc0GmXf/aYvFq+5a4FhXXeMNgQgAIH6BChw6zP0pEGuB9J4adh4G5MI57+086Wq5g6KV82ZCEqzlGIvFzh+fX0pIKfTKcdtz9A8m8sJ/N0pS27vutss3cmHcLvdZJOy0Wj0bsozx4GGTuW7LUazYkaN+/X1ZewaJn+qDQaDmvFmrYtjNCAAAQjUJ0CBW5+hJw1yPZDGS8Py8IeIqcZL4bYOim9tOeDZrqwbeVnCWtKwFHMVmmdzFdyu72GOBuPVr+/cO5/PsvZ0uVy+E/N8PCcu3ZN3YvoS2yRJZJXt8/msuejZxrouQxsCEIBAZQIUuJXR+e4oVyNpvPRAVsKJmGq8FG7roPjWlgM+7epLOV++vN6ShqWYq9A8m6vgdn0P32kwKrz8dRrb7VbpsXy4qkKkZbu8i8vQI6W5cfz5fJ7PZ5mclrhk4UrOYvGsqpdHdMIvBTgIAQhAoCYBCtyaAP11l4tW/tVU7iHq8rPZzJ+jFpbENwvZ6EXkjU3D4fBlMJY0LMVemqhw0LM5Vx7u9/vxeJyzU1WFFw0UPjUVGitLf9Qfw++iu9/vakG/LA2XlTZypELWns+n/phaaD9N1SKiFwQgECABCtwAk/LaJZluUVev7+/vl3JSTslFruazIC+t1DwovtXUE0V3mVOfz+cvHbah8fPzYyP2Un+1g57NVXAy66HMC/Z6vXcrRGViUrq/a9h/cURDhSia6NKQP7Ify8uVNvaBSArsCdsrRxICEICAIkCBG81IUHXS9/e3unq9fB7/+XzKbUS5yL270mcjl8mtd+8gPZ1O+dNjWZ0vj4hvL8927KBsufVuWrGQxuPxkNpiNBr54VPolR83cqwYHkp1mySJMS/4eDwOh8N8PheM0vddYzab2X9xREmOtz5PNeSPIvzul8c+QHHPnrC9ciQhAAEIKAIUuJGNBLm7l3NjUa4fqmEfoX75l4V3enc19fLylC5W2BYPCyU7ICAP+797aUIhDSmR5a1RHrAUeuXBh3wTck/jdrvp1a3MC14ul81mI89FSUSqYbOLQr4DclY0y5F2G6H5Y9AI3D3DWz5CAAKREqDAjSxxskmC/mizEYNcP1Tj3XSs0ev5fMrNdNUxKyCas6dKHXGlp5TRVoRlQv3lKx6US/k09NLt3RywZWgykWkzDZ/vlaXFRsVky+d3JayEkG2ovw/leE0/Xemp6YZ0D80fcUw1AnfP8JaPEIBApAQocCNL3Gw2U5eHw+HwznVZ4iYXklJzrjIxlt20VRS+M2153JUeS3Mtikl5atw0113KoSHdkyR5t4RXV/Wy/W4i86WwHMzxSmTabRh/j4nDLxvf39/L5dJYPCqSNQNxpaemG9I9NH/EMdUI3D3DWz5CAAKREqDAjSxxMmuV83ZQuaMtF5IkSQaDwW63s4lWnpVWRdX1epVeolCOVGvoemThrxwMpzEYDCaTyXq9Ph6POgf7qCVfOZOvEu/z+TS2X5VTNu8RKEWycCWlmLYP1rOkzI6Lq0aj1+tNp9Pdbpd9I5dyVeRreu5KT003pLv4oxYd2d/DEQ3NNSRrOfc0mrOOZghA4HMIUODGlOv7/S7Tq/f7/Z3rx+NRrnBGIzspm1VivM0oSZLRaLTf7/X9XLO9Sh0Rr57Pp77wV44H2xiPx4vFYrvdns/nwkdk0jSVfL2rsYyVoPIQoU5AFpXmQ7Yk2ev1cta3iAlxQI4E2JCQz+dzBfdcxehKT4UQXnYRf6RR6h7OS52uDsq2wTX3GnPlE11OYQAAD1hJREFUD3ogAIGuEqDAjSmzMrf6bkdVCSa7SkEudYvFIqc4VhrSNM1OA8vDUvn73osPOQ1xJrvwV07RUAT+8z//83//939zYMopm1v2w+HQcipa+Iv+ABvyYupqbxFzFaMrPa4Iiz96w5Xymnrkh2W73dZURXcIQAACOQQocHPghHVKbu0lSZKzPkE5ra/dfD6fxqSs5Rzez8/PfD6XOUiHF0tRFRbijDeXy+VwOKzX6/F4nPM3g4TTXMN+hUkmiKcMhlKbMEgsWYXhHJGbFe+2hc53NRvj7XZbrVYyMSwCHWjko/Bz9nK5yO/Ju01F/HiCFQhAoPMEKHCjSfFkMlFXWZtbe/f7XS7JKkJjUtb+luXj8djtdsat85rUDN9qavPW/fF4nM/nzWYzn88rPLkvUVdr2KdMB6KXFDYrE6SvOClHAmw8Ho86fup9D4eDfMXkeGcahUuuPSQ3TdPhcKiQetvO2UNcmIAABMIkQIEbZl5Mr2Smyv4t8HJt1nWJnrLLDGT/XaVW11mh/dK3CnpC7nK73VSYOW/VUv7LfKGEI5XWP//zP//Hf/yH0lNhF4WXJcVms2lom7BST7nJGKDRKIFwnjCrdidBvhQ0IAABCJQiQIFbClc7wmmaygTqarWydEJuBRrycjU1jud/NG7Q5wsXnq3mQ6HaoAT2+70Kczwe5zuWLXDv97useH73Ro98neqsUVJcr1eZeC58hr1CjiQQ6RtjYzKZ5OzBl8Uus5I5G2VkezV6RLA3aqWscvkNKXUnoawV5CEAAQgoAhS4EYwEee643+8XPrkv8ahHjrLlkVz8Sk3tSK8kSbI6xahlQ7RZyscoJg/TFO5c8fJPEamPkyQptUWA5TRqzr68inaFHNk85SZqQ2v0+/3VapWz2cXLQaivBXo8Hi9l/B8Utv5Nv7RobH73UoaDEIAABNwSoMB1y9O9tjRNZebDyRSRlFNJktgv63R7yXSrzT10FxplCrbwiUBFo9/vG2ZlocJgMLD/w6ZwGtXyEcNYclTNT/lOqe4GefuP8ndIUItK5Tte+MeVfaSVJeU2QrVMVbZLRwhA4MMJUOCGPgBk+lYuD/aNl4/e69Ns9nOxYtQJL7fanLjkXIlljLJUdzAYGD7oCxUmk4nl9l56fsUHaYxGI0s90sXwKrSP1fyUXjXvSMibBUMoJSU1sp9gkiQtOna5XGQfNwFu/5sj4dCAAAQgUIEABW4FaP666NO3coUo1bCfo82JSp+DyRGzPyUh2HeJTtIyRtn97eVSXZkgVNrkjRuFNGSGsvJ6R0v/Cz1pWqCan9V6GbGcz2eZKy2cpzf6NvrR2BbQc417uVyWy6VxJ8HyZSWNYkE5BCDwUQQocINOd53pW3UJf1k22cT8ciln4cJNG83Gu7ssu0QnZllCnc9nJflu97fsHNjX11fhJvmW1nOo1teQo9zhqWp+Vuulu3273eSviKDWJygnjRr35c0cPRyb9vF4NMpWwZjfoLq1wYsMBCDglgAFrlueJbRdr9fz73/b7Xb9+99kMhn//pd/2cg5+/39vVwuT6dTCYf+FM1eyRxepcTzP2126pNljIfDQUnm7AKWfeNG/sS8k5cqW/rfes5kDrXUo3g1o0vTVPaj6Pf7ha8GbIWSUePWXK6gvydc6OU3+v3+YrEolZdWQGEUAhDoJAEK3Fpp/V2g/v//+/3+d5n6////rlT///9s1Zh/hSh1ttfrTafT3W5X9knwlwiMpZyz2cz+OaeXCvWDEpd+sGNtyxhlg+HCDeDUGzds1MrChuy6XnvINobstTUnKTPcw+HQfojWjE6M9nq9oBYnGJzTNBVXJeSmG9S1Rhb4CAEItEKAAvcP7C/vyzd9PbDR//39LbXyarVS5fNms5EK2/LJoT+ibe+DhNyeC41btoxR1jdbLpaVCcucAGRyUdd5Op1s3u8gai39F/m2GvrMYuHKDXGyWnTZe/S73U50BtvITuVK+BUax+Mx2EhxDAIQgIAQoMAVFH81ZFFdhd/9sl0Ka1Z5uYOT3cH+iLPVD/JYVdm3qbXqdWnjMh7ye8oD75ZZVjPrOY+iC17jpXdqbOevbdBdtfRf79JWW5aqGyHn+FMhOr2SVt1zspBjupVTrqZyQ3jlbysAMQoBCERHgAL3j5TJZc+yMRqNZGJ1PB7PZjNjicLpdJJJ1vP5bD/PGuYG8n/AqvRBf3ls5QfgKln23UmGUL5huYPsamJMKmZxwGjk+yNnpZccCbahDyrL5yDLRvd4PGRHMNXX7aKdYNniGAQgAIFICVDg/pE4m/u/f3Ro7IMsowzwAe06Qcsd+V6vZ1/u17HYVl/LEmo8HitJV8/iyPoEccBoWAKRXpby7YrJZhSWj1LZR/d4PNbrtby2I0kSV3+KtEsM6xCAAAS6TYAC94/8Ft7//UO6yQ8yXeR5D8smY3peLhf5E0JfHtqo0baUW5ZQUo86eTTw+XzudjuBLD5Iw/6uunRpC2BZuzIXniTJfD7P/4MhJ7qfn5/z+axuxYzHY720TZKEe/Rl84I8BCAAgVYIUOC2gr3YqFxWQ35GuzgMTUK/j9yxaWktyr+bOSWUCOnLOkPbasrGfwkkhEb2Uaqcx/klut1ut16vp9NptpYVGdUYDAaW66RDoIEPEIAABD6cAAVuiANA7rd+fX2F6F8lnz5ncYLCI+VRDi1ZLzscDnPEWjll438rjuUYTdN0Op2K564alLY5zDkFAQhAIEwCFLgh5kVqwZzN/0P0+71PaZrKffPOL05QGKS6ekdFn74NcFlnof/v4mr9+MtXxUo4hQ315Oh6vVbb8F0ul9YjwgEIQAACEChLgAK3LDEf8sPhUF2GO3NLVDZy6vf7PggGYEMKqXe+hDx9243XKRdWuv/6r/+6WCzW6/XxeDyfz/bviXiXU45DAAIQgEAgBChwA0nE3250coMw2dPXfiv+v4nE2SoscGX/hACnb7tR4MY5cPAaAhCAAAQcEKDAdQDRrYrubRB2PB5VtWe/D79bpK1oKyxw1UKU6XTainuFRgv9L9SAAAQgAAEIQKAtAhS4bZF/a7d7G4TJcz/2e1S9pRPPCVlzHNr2CJYIKXAtQSEGAQhAAAIBEqDADS4pHdsg7Hq9Sqn0Uc/rTCYTFfhutwtukFk4JFmzkEUEAhCAAAQgEBYBCtyw8tG9tY+LxUKVSt1+MW92GMlSk0gDp8DN5pQjEIAABCAQCwEK3OAy1aXCQvY7+8AXnD4ej6hTGbXzwX2rcQgCEIAABPwSoMD1y9vCWmcKC726/cwXnEaaytPpNBgMInXe4huGCAQgAAEIdJ8ABW5wOe5GYWFUt5+5w2ikqez3++J5kvATEdxPBA5BAAIQgEAhAa5ehYh8C0ht4duwO3u73U6imEwmn1nd6sup43rXq+QuSZKP2vjC3TcATRCAAAQg0DIBCtyWE5A1L+VF9lQsR2QK8JOr2+fzKTuFJUnS6/WiSJ/+npEoHMZJCEAAAhCAQJYABW6WSctHgi1wH4/Her3WV2eKq+8aHzt3q8bQZrPRyQwGg0a3DPv5+dlut7PZrFSOdA/19nA4bPmbgHkIQAACEIBAVQIUuFXJNdZPiozGLJRWrEpb2aBXPCxslLbUxQ76PG6SJOv12lWU9/v9eDyuVit5629hRuwFwnyBsCt06IEABCAAgW4ToMANLr8vS5DBYLBcLpt+J9Z+v3cy+adCYPmmGlvGPO7L/IZ28DN3vQjutwCHIAABCECgKgEK3KrkGutnTPjppU+v12uuzNX3PdCN6u24HpZqLEVVFKdpKu8205E6bA8Gg9lstt1uf35+qrhIHwhAAAIQgEBXCFDgBpfJshN+1SZ3L5fLcrm0n6+ltK0/UNI0nc/nDivaJEnG4/FqtToej03P7tcPHw0QgAAEIAABbwQocL2hrmXoeDwOh0O3tdFLbR++70GtJNEZAhCAAAQgAIEwCFDghpEHOy+aLnNns9mH73tglwekIAABCEAAAhAImgAFbtDpsXGuWtXb7/cXi8X5fLYxgQwEIAABCEAAAhCIiAAFbkTJwlUIQAACEIAABCAAgWICFLjFjJCAAAQgAAEIQAACEIiIAAVuRMnCVQhAAAIQgAAEIACBYgIUuMWMkIAABCAAAQhAAAIQiIgABW5EycJVCEAAAhCAAAQgAIFiAhS4xYyQgAAEIAABCEAAAhCIiAAFbkTJwlUIQAACEIAABCAAgWICFLjFjJCAAAQgAAEIQAACEIiIAAVuRMnCVQhAAAIQgAAEIACBYgIUuMWMkIAABCAAAQhAAAIQiIgABW5EycJVCEAAAhCAAAQgAIFiAhS4xYyQgAAEIAABCEAAAhCIiAAFbkTJwlUIQAACEIAABCAAgWICFLjFjJCAAAQgAAEIQAACEIiIAAVuRMnCVQhAAAIQgAAEIACBYgIUuMWMkIAABCAAAQhAAAIQiIgABW5EycJVCEAAAhCAAAQgAIFiAhS4xYyQgAAEIAABCEAAAhCIiAAFbkTJwlUIQAACEIAABCAAgWICFLjFjJCAAAQgAAEIQAACEIiIAAVuRMnCVQhAAAIQgAAEIACBYgIUuMWMkIAABCAAAQhAAAIQiIgABW5EycJVCEAAAhCAAAQgAIFiAhS4xYyQgAAEIAABCEAAAhCIiAAFbkTJwlUIQAACEIAABCAAgWICFLjFjJCAAAQgAAEIQAACEIiIAAVuRMnCVQhAAAIQgAAEIACBYgIUuMWMkIAABCAAAQhAAAIQiIgABW5EycJVCEAAAhCAAAQgAIFiAhS4xYyQgAAEIAABCEAAAhCIiAAFbkTJwlUIQAACEIAABCAAgWICFLjFjJCAAAQgAAEIQAACEIiIAAVuRMnCVQhAAAIQgAAEIACBYgIUuMWMkIAABCAAAQhAAAIQiIgABW5EycJVCEAAAhCAAAQgAIFiAhS4xYyQgAAEIAABCEAAAhCIiAAFbkTJwlUIQAACEIAABCAAgWICFLjFjJCAAAQgAAEIQAACEIiIAAVuRMnCVQhAAAIQgAAEIACBYgIUuMWMkIAABCAAAQhAAAIQiIgABW5EycJVCEAAAhCAAAQgAIFiAhS4xYyQgAAEIAABCEAAAhCIiAAFbkTJwlUIQAACEIAABCAAgWICFLjFjJCAAAQgAAEIQAACEIiIAAVuRMnCVQhAAAIQgAAEIACBYgIUuMWMkIAABCAAAQhAAAIQiIgABW5EycJVCEAAAhCAAAQgAIFiAv8Htp5XtAJVzRUAAAAASUVORK5CYII=)"
      ],
      "metadata": {
        "id": "kIlF3YemPWHa"
      }
    },
    {
      "cell_type": "markdown",
      "source": [
        "# Clase 07/11/2023\n",
        "\n",
        "Vamos a hacer un modelo para clasificar las flores utilizando lo de redes neuronales."
      ],
      "metadata": {
        "id": "VUVcvZssXS21"
      }
    },
    {
      "cell_type": "code",
      "source": [
        "from qiskit.utils import algorithm_globals\n",
        "from qiskit.circuit import Parameter\n",
        "from qiskit import QuantumCircuit\n",
        "from qiskit.circuit import ParameterVector\n",
        "algorithm_globals.random_seed = 42"
      ],
      "metadata": {
        "colab": {
          "base_uri": "https://localhost:8080/"
        },
        "id": "s_CgVJ6EXY_O",
        "outputId": "53ef180c-6c49-4851-9476-a3ef37fbb13c"
      },
      "execution_count": null,
      "outputs": [
        {
          "output_type": "stream",
          "name": "stderr",
          "text": [
            "<ipython-input-54-3acff7b73554>:5: DeprecationWarning: The property ``qiskit.utils.algorithm_globals.QiskitAlgorithmGlobals.random_seed`` is deprecated as of qiskit 0.45.0. It will be removed no earlier than 3 months after the release date. This algorithm utility has been migrated to an independent package: https://github.com/qiskit-community/qiskit-algorithms. You can run ``pip install qiskit_algorithms`` and import ``from qiskit_algorithms.utils`` instead. \n",
            "  algorithm_globals.random_seed = 42\n"
          ]
        }
      ]
    },
    {
      "cell_type": "markdown",
      "source": [
        "SÓLO HACEMOS ESTIMATOR"
      ],
      "metadata": {
        "id": "Qvakm2rSXbJ1"
      }
    },
    {
      "cell_type": "markdown",
      "source": [
        "hace un paso forward y un paso backwards (ejecutar el circuito con las derivadas parciales) (me devuelve un gradiente)"
      ],
      "metadata": {
        "id": "SJd61Nj4XdVV"
      }
    },
    {
      "cell_type": "code",
      "source": [
        "from qiskit import QuantumCircuit\n",
        "from qiskit_machine_learning.neural_networks import SamplerQNN\n",
        "from qiskit.quantum_info import SparsePauliOp\n",
        "from qiskit_machine_learning.neural_networks import EstimatorQNN"
      ],
      "metadata": {
        "id": "slWNvppjXkLX"
      },
      "execution_count": null,
      "outputs": []
    },
    {
      "cell_type": "code",
      "source": [
        "pip install pylatexenc"
      ],
      "metadata": {
        "colab": {
          "base_uri": "https://localhost:8080/"
        },
        "id": "WoOvy_PsXl-E",
        "outputId": "d582a024-ec2a-42ad-b6b2-525630a8972c"
      },
      "execution_count": null,
      "outputs": [
        {
          "output_type": "stream",
          "name": "stdout",
          "text": [
            "Collecting pylatexenc\n",
            "  Downloading pylatexenc-2.10.tar.gz (162 kB)\n",
            "\u001b[?25l     \u001b[90m━━━━━━━━━━━━━━━━━━━━━━━━━━━━━━━━━━━━━━━━\u001b[0m \u001b[32m0.0/162.6 kB\u001b[0m \u001b[31m?\u001b[0m eta \u001b[36m-:--:--\u001b[0m\r\u001b[2K     \u001b[91m━━━━━━━━━━━━━━━━━━━━━━━━━━━━━━━━━━━\u001b[0m\u001b[90m╺\u001b[0m\u001b[90m━━━━\u001b[0m \u001b[32m143.4/162.6 kB\u001b[0m \u001b[31m4.2 MB/s\u001b[0m eta \u001b[36m0:00:01\u001b[0m\r\u001b[2K     \u001b[90m━━━━━━━━━━━━━━━━━━━━━━━━━━━━━━━━━━━━━━━━\u001b[0m \u001b[32m162.6/162.6 kB\u001b[0m \u001b[31m3.7 MB/s\u001b[0m eta \u001b[36m0:00:00\u001b[0m\n",
            "\u001b[?25h  Preparing metadata (setup.py) ... \u001b[?25l\u001b[?25hdone\n",
            "Building wheels for collected packages: pylatexenc\n",
            "  Building wheel for pylatexenc (setup.py) ... \u001b[?25l\u001b[?25hdone\n",
            "  Created wheel for pylatexenc: filename=pylatexenc-2.10-py3-none-any.whl size=136818 sha256=d6f8dfedca06760a232fa3c6468de84974a2cabd8225462f955a25d827b234a6\n",
            "  Stored in directory: /root/.cache/pip/wheels/d3/31/8b/e09b0386afd80cfc556c00408c9aeea5c35c4d484a9c762fd5\n",
            "Successfully built pylatexenc\n",
            "Installing collected packages: pylatexenc\n",
            "Successfully installed pylatexenc-2.10\n"
          ]
        }
      ]
    },
    {
      "cell_type": "code",
      "source": [
        "pip install matplotlib pylatexenc"
      ],
      "metadata": {
        "colab": {
          "base_uri": "https://localhost:8080/"
        },
        "id": "TgtDfqXOXnP4",
        "outputId": "08f352e7-85aa-48f1-e001-cc3166e6de99"
      },
      "execution_count": null,
      "outputs": [
        {
          "output_type": "stream",
          "name": "stdout",
          "text": [
            "Requirement already satisfied: matplotlib in /usr/local/lib/python3.10/dist-packages (3.7.1)\n",
            "Requirement already satisfied: pylatexenc in /usr/local/lib/python3.10/dist-packages (2.10)\n",
            "Requirement already satisfied: contourpy>=1.0.1 in /usr/local/lib/python3.10/dist-packages (from matplotlib) (1.2.0)\n",
            "Requirement already satisfied: cycler>=0.10 in /usr/local/lib/python3.10/dist-packages (from matplotlib) (0.12.1)\n",
            "Requirement already satisfied: fonttools>=4.22.0 in /usr/local/lib/python3.10/dist-packages (from matplotlib) (4.44.0)\n",
            "Requirement already satisfied: kiwisolver>=1.0.1 in /usr/local/lib/python3.10/dist-packages (from matplotlib) (1.4.5)\n",
            "Requirement already satisfied: numpy>=1.20 in /usr/local/lib/python3.10/dist-packages (from matplotlib) (1.23.5)\n",
            "Requirement already satisfied: packaging>=20.0 in /usr/local/lib/python3.10/dist-packages (from matplotlib) (23.2)\n",
            "Requirement already satisfied: pillow>=6.2.0 in /usr/local/lib/python3.10/dist-packages (from matplotlib) (9.4.0)\n",
            "Requirement already satisfied: pyparsing>=2.3.1 in /usr/local/lib/python3.10/dist-packages (from matplotlib) (3.1.1)\n",
            "Requirement already satisfied: python-dateutil>=2.7 in /usr/local/lib/python3.10/dist-packages (from matplotlib) (2.8.2)\n",
            "Requirement already satisfied: six>=1.5 in /usr/local/lib/python3.10/dist-packages (from python-dateutil>=2.7->matplotlib) (1.16.0)\n"
          ]
        }
      ]
    },
    {
      "cell_type": "code",
      "source": [
        "inputs2 = ParameterVector(\"input\", 4)\n",
        "weights2 = ParameterVector(\"weight\", 2)\n",
        "print(f\"input parameters: {[str(item) for item in inputs2.params]}\")\n",
        "print(f\"weight parameters: {[str(item) for item in weights2.params]}\")\n",
        "\n",
        "qc2 = QuantumCircuit(2)\n",
        "qc2.rx(inputs2[0], 0)\n",
        "qc2.ry(inputs2[1], 1)\n",
        "qc2.rz(inputs2[2], 0)\n",
        "qc2.rz(inputs2[3], 1)\n",
        "qc2.cx(0, 1) #CNOT\n",
        "qc2.rx(weights2[0], 0)\n",
        "qc2.rx(weights2[1], 1)\n",
        "\n",
        "\n",
        "qc2.draw()"
      ],
      "metadata": {
        "colab": {
          "base_uri": "https://localhost:8080/",
          "height": 129
        },
        "id": "1MGKoYI8XpGl",
        "outputId": "c0b24014-ea20-4aac-ec41-4fb6b526656f"
      },
      "execution_count": null,
      "outputs": [
        {
          "output_type": "stream",
          "name": "stdout",
          "text": [
            "input parameters: ['input[0]', 'input[1]', 'input[2]', 'input[3]']\n",
            "weight parameters: ['weight[0]', 'weight[1]']\n"
          ]
        },
        {
          "output_type": "execute_result",
          "data": {
            "text/plain": [
              "     ┌──────────────┐┌──────────────┐     ┌───────────────┐\n",
              "q_0: ┤ Rx(input[0]) ├┤ Rz(input[2]) ├──■──┤ Rx(weight[0]) ├\n",
              "     ├──────────────┤├──────────────┤┌─┴─┐├───────────────┤\n",
              "q_1: ┤ Ry(input[1]) ├┤ Rz(input[3]) ├┤ X ├┤ Rx(weight[1]) ├\n",
              "     └──────────────┘└──────────────┘└───┘└───────────────┘"
            ],
            "text/html": [
              "<pre style=\"word-wrap: normal;white-space: pre;background: #fff0;line-height: 1.1;font-family: &quot;Courier New&quot;,Courier,monospace\">     ┌──────────────┐┌──────────────┐     ┌───────────────┐\n",
              "q_0: ┤ Rx(input[0]) ├┤ Rz(input[2]) ├──■──┤ Rx(weight[0]) ├\n",
              "     ├──────────────┤├──────────────┤┌─┴─┐├───────────────┤\n",
              "q_1: ┤ Ry(input[1]) ├┤ Rz(input[3]) ├┤ X ├┤ Rx(weight[1]) ├\n",
              "     └──────────────┘└──────────────┘└───┘└───────────────┘</pre>"
            ]
          },
          "metadata": {},
          "execution_count": 58
        }
      ]
    },
    {
      "cell_type": "code",
      "source": [
        "observable1 = SparsePauliOp.from_list([(\"Z\" * qc2.num_qubits, 1)])\n",
        "observable2 = SparsePauliOp.from_list([(\"Z\" * qc2.num_qubits, 1)])\n",
        "# el 1 es el peso que se aplica\n",
        "observables = [observable1, observable2]"
      ],
      "metadata": {
        "id": "1O0ztYanXq6i"
      },
      "execution_count": null,
      "outputs": []
    },
    {
      "cell_type": "code",
      "source": [
        "estimator_qnn = EstimatorQNN(\n",
        "    circuit=qc2, observables=observables, input_params=inputs2, weight_params=weights2\n",
        ")\n",
        "estimator_qnn"
      ],
      "metadata": {
        "colab": {
          "base_uri": "https://localhost:8080/"
        },
        "id": "Fgjuu7sQXsE5",
        "outputId": "86f0868c-ea5b-4ac4-dabf-ddc994699fdb"
      },
      "execution_count": null,
      "outputs": [
        {
          "output_type": "execute_result",
          "data": {
            "text/plain": [
              "<qiskit_machine_learning.neural_networks.estimator_qnn.EstimatorQNN at 0x78eeb4c15c30>"
            ]
          },
          "metadata": {},
          "execution_count": 60
        }
      ]
    },
    {
      "cell_type": "code",
      "source": [
        "estimator_qnn_input = algorithm_globals.random.random(estimator_qnn.num_inputs)\n",
        "estimator_qnn_weights = algorithm_globals.random.random(estimator_qnn.num_weights)"
      ],
      "metadata": {
        "colab": {
          "base_uri": "https://localhost:8080/"
        },
        "id": "03Kz7ADaXt5Y",
        "outputId": "0f761849-4d5e-470a-c1ac-933c3c07d078"
      },
      "execution_count": null,
      "outputs": [
        {
          "output_type": "stream",
          "name": "stderr",
          "text": [
            "<ipython-input-61-a6c9269d2f11>:1: DeprecationWarning: The property ``qiskit.utils.algorithm_globals.QiskitAlgorithmGlobals.random`` is deprecated as of qiskit 0.45.0. It will be removed no earlier than 3 months after the release date. This algorithm utility has been migrated to an independent package: https://github.com/qiskit-community/qiskit-algorithms. You can run ``pip install qiskit_algorithms`` and import ``from qiskit_algorithms.utils`` instead. \n",
            "  estimator_qnn_input = algorithm_globals.random.random(estimator_qnn.num_inputs)\n",
            "<ipython-input-61-a6c9269d2f11>:2: DeprecationWarning: The property ``qiskit.utils.algorithm_globals.QiskitAlgorithmGlobals.random`` is deprecated as of qiskit 0.45.0. It will be removed no earlier than 3 months after the release date. This algorithm utility has been migrated to an independent package: https://github.com/qiskit-community/qiskit-algorithms. You can run ``pip install qiskit_algorithms`` and import ``from qiskit_algorithms.utils`` instead. \n",
            "  estimator_qnn_weights = algorithm_globals.random.random(estimator_qnn.num_weights)\n"
          ]
        }
      ]
    },
    {
      "cell_type": "code",
      "source": [
        "print(\n",
        "    f\"Number of input features for EstimatorQNN: {estimator_qnn.num_inputs} \\nInput: {estimator_qnn_input}\")\n",
        "print(\n",
        "    f\"Number of trainable weights for EstimatorQNN: {estimator_qnn.num_weights} \\nWeights: {estimator_qnn_weights}\")"
      ],
      "metadata": {
        "colab": {
          "base_uri": "https://localhost:8080/"
        },
        "id": "JV4NDoliXv1H",
        "outputId": "a0221cb5-d595-4f80-cb9b-a5cc6e0cfd14"
      },
      "execution_count": null,
      "outputs": [
        {
          "output_type": "stream",
          "name": "stdout",
          "text": [
            "Number of input features for EstimatorQNN: 4 \n",
            "Input: [0.77395605 0.43887844 0.85859792 0.69736803]\n",
            "Number of trainable weights for EstimatorQNN: 2 \n",
            "Weights: [0.09417735 0.97562235]\n"
          ]
        }
      ]
    },
    {
      "cell_type": "code",
      "source": [
        "estimator_qnn_forward = estimator_qnn.forward(estimator_qnn_input, estimator_qnn_weights)\n",
        "\n",
        "print(\n",
        "    f\"Forward pass result for EstimatorQNN: {estimator_qnn_forward}. \\nShape: {estimator_qnn_forward.shape}\"\n",
        ")"
      ],
      "metadata": {
        "colab": {
          "base_uri": "https://localhost:8080/"
        },
        "id": "U6nVcmB1X3Qa",
        "outputId": "fbc20819-0768-4be1-a9c9-c3c5784017a3"
      },
      "execution_count": null,
      "outputs": [
        {
          "output_type": "stream",
          "name": "stdout",
          "text": [
            "Forward pass result for EstimatorQNN: [[0.700552 0.700552]]. \n",
            "Shape: (1, 2)\n"
          ]
        }
      ]
    },
    {
      "cell_type": "markdown",
      "source": [
        "Paso hacia Adelante Con Lotes"
      ],
      "metadata": {
        "id": "r5ted-hlX6NT"
      }
    },
    {
      "cell_type": "code",
      "source": [
        "estimator_qnn_forward_batched = estimator_qnn.forward(\n",
        "    [estimator_qnn_input, estimator_qnn_input], estimator_qnn_weights\n",
        ")\n",
        "\n",
        "print(\n",
        "    f\"Forward pass result for EstimatorQNN: {estimator_qnn_forward_batched}.  \\nShape: {estimator_qnn_forward_batched.shape}\"\n",
        ")"
      ],
      "metadata": {
        "colab": {
          "base_uri": "https://localhost:8080/"
        },
        "id": "QKcB9JmoX8zR",
        "outputId": "a3c1407e-09f6-48d3-8864-c683aa381e74"
      },
      "execution_count": null,
      "outputs": [
        {
          "output_type": "stream",
          "name": "stdout",
          "text": [
            "Forward pass result for EstimatorQNN: [[0.700552 0.700552]\n",
            " [0.700552 0.700552]].  \n",
            "Shape: (2, 2)\n"
          ]
        }
      ]
    },
    {
      "cell_type": "markdown",
      "source": [
        "Cómo Ejecutar un Paso hacia Atrás sin Gradientes de Entrada"
      ],
      "metadata": {
        "id": "JBsWeElGX-05"
      }
    },
    {
      "cell_type": "code",
      "source": [
        "estimator_qnn_input_grad, estimator_qnn_weight_grad = estimator_qnn.backward(\n",
        "    estimator_qnn_input, estimator_qnn_weights\n",
        ")\n",
        "\n",
        "print(\n",
        "    f\"Input gradients for EstimatorQNN: {estimator_qnn_input_grad}.  \\nShape: {estimator_qnn_input_grad}\"\n",
        ")\n",
        "print(\n",
        "    f\"Weight gradients for EstimatorQNN: {estimator_qnn_weight_grad}.  \\nShape: {estimator_qnn_weight_grad.shape}\"\n",
        ")"
      ],
      "metadata": {
        "colab": {
          "base_uri": "https://localhost:8080/"
        },
        "id": "8en3rqvSYA0E",
        "outputId": "e6482748-bb34-46d8-b178-ad62c3fb06ff"
      },
      "execution_count": null,
      "outputs": [
        {
          "output_type": "stream",
          "name": "stdout",
          "text": [
            "Input gradients for EstimatorQNN: None.  \n",
            "Shape: None\n",
            "Weight gradients for EstimatorQNN: [[[-0.38320914 -0.63042956]\n",
            "  [-0.38320914 -0.63042956]]].  \n",
            "Shape: (1, 2, 2)\n"
          ]
        }
      ]
    },
    {
      "cell_type": "markdown",
      "source": [
        "Cómo Ejecutar un Paso hacia Atrás con Gradientes de Entrada"
      ],
      "metadata": {
        "id": "AXEDqAg_YGNw"
      }
    },
    {
      "cell_type": "code",
      "source": [
        "estimator_qnn.input_gradients = True"
      ],
      "metadata": {
        "id": "yNNRWFQMYC6n"
      },
      "execution_count": null,
      "outputs": []
    },
    {
      "cell_type": "markdown",
      "source": [
        "Si el gradiente que me ha calculado de los paramteros en el backward s igual a 0 significa que no hace nada, pones algo a trabajar que no va a servir\n",
        "\n",
        "Peor sería que el valor de los inputs fuese 0, porque eso significa qeu entonces esa entrada no hace absolutamente nada\n",
        "\n",
        "Yo tengo un parámetro que lo muevo para ver cómo actúa si lo muevo, y no se mueve nada, significa"
      ],
      "metadata": {
        "id": "Z1yiuJHeYIIY"
      }
    },
    {
      "cell_type": "code",
      "source": [
        "estimator_qnn_input_grad, estimator_qnn_weight_grad = estimator_qnn.backward(\n",
        "    estimator_qnn_input, estimator_qnn_weights\n",
        ")\n",
        "\n",
        "print(\n",
        "    f\"Input gradients for EstimatorQNN: {estimator_qnn_input_grad}.  \\nShape: {estimator_qnn_input_grad.shape}\"\n",
        ")\n",
        "print(\n",
        "    f\"Weight gradients for EstimatorQNN: {estimator_qnn_weight_grad}.  \\nShape: {estimator_qnn_weight_grad.shape}\"\n",
        ")"
      ],
      "metadata": {
        "colab": {
          "base_uri": "https://localhost:8080/"
        },
        "id": "FERzOrJ9YJ8z",
        "outputId": "84b6e9bd-fbfd-4bc9-a76e-a4a0028fdde0"
      },
      "execution_count": null,
      "outputs": [
        {
          "output_type": "stream",
          "name": "stdout",
          "text": [
            "Input gradients for EstimatorQNN: [[[-0.03036863  0.27578853 -0.02562577  0.27760278]\n",
            "  [-0.03036863  0.27578853 -0.02562577  0.27760278]]].  \n",
            "Shape: (1, 2, 4)\n",
            "Weight gradients for EstimatorQNN: [[[-0.38320914 -0.63042956]\n",
            "  [-0.38320914 -0.63042956]]].  \n",
            "Shape: (1, 2, 2)\n"
          ]
        }
      ]
    },
    {
      "cell_type": "markdown",
      "source": [
        "el clasificador necesita el estimator que es el que tenemos, el callback para graficarlo y un optimizador clásico que es el que me va cambiando los pesos\n",
        "\n",
        "Como es un optimizador clásicos vamos a coger uno de los que existen, ADAM que sigue el gradiente bastante bin si tengo funciones continuas clásicas\n",
        "\n",
        "COBYLA funciona mejor si tiene mínimos locales (hace un descenso estocástico del gradiente un poco más raro)\n",
        "\n",
        "Va haciendo cambios en los pesos\n",
        "\n",
        "Primero probamos un número de iteraciones pequeño (3)\n",
        "\n",
        "Hemos creado el clasificador, que funciona como cualquier otro modelo de scikit - leanr, lo entrenamos, y hacemos el predict (no hacer score porque es una mierda)\n",
        "\n",
        "Lo interesante es el callback que nos va a dejar pintado cómo ha ido aprendiendo\n",
        "\n",
        "Como estamos usando ese optimizador, la gráfica tipica sería una en la que no da esos saltos, los saltos aquí son por dos cosas :\n",
        "- el optimizador da saltos para no meterse en mínimos locales.\n",
        "- Cuando tenemos entrelazamiento y cambiamos los parámetros, el comportamiento es un poco más complejo."
      ],
      "metadata": {
        "id": "r2Nsvq0TYMej"
      }
    },
    {
      "cell_type": "markdown",
      "source": [
        "# Clase  14/11/2023\n",
        "\n",
        "En general, vamos a pedir que lo pinte, mmuchas veces lo pedimos que lo pinte porque queremos ir viendo si nuesrta red aprende o no aprende\n",
        "\n",
        "Primero cogemos un conjunto de datos con 2 o 3 registror y ver si parece que quiere aprender. Si empezamos ejecutando mucho, vamos a esperar mucho par aluego no tener nada, empezamos con el callback puesto.\n",
        "\n",
        "Creamos un clasificador de una red neuronal"
      ],
      "metadata": {
        "id": "hgCVDBDwYO2c"
      }
    },
    {
      "cell_type": "code",
      "source": [
        "import matplotlib.pyplot as plt\n",
        "import numpy as np\n",
        "from IPython.display import clear_output\n",
        "from qiskit import QuantumCircuit\n",
        "from qiskit.circuit import Parameter\n",
        "from qiskit.circuit.library import RealAmplitudes, ZZFeatureMap\n",
        "from qiskit_algorithms.optimizers import COBYLA, L_BFGS_B\n",
        "from qiskit_algorithms.utils import algorithm_globals\n",
        "from sklearn.metrics import accuracy_score\n",
        "\n",
        "from qiskit_machine_learning.algorithms.classifiers import NeuralNetworkClassifier, VQC\n",
        "from qiskit_machine_learning.algorithms.regressors import NeuralNetworkRegressor, VQR\n",
        "from qiskit_machine_learning.neural_networks import SamplerQNN, EstimatorQNN\n",
        "from qiskit_machine_learning.circuit.library import QNNCircuit"
      ],
      "metadata": {
        "id": "CQXmhCXIYVDT"
      },
      "execution_count": null,
      "outputs": []
    },
    {
      "cell_type": "markdown",
      "source": [
        "## LO IMPREMENTAMOS CON LA BBDD IRIS"
      ],
      "metadata": {
        "id": "Qbpk3UnPYW15"
      }
    },
    {
      "cell_type": "code",
      "source": [
        "df1 = pd.read_csv('Iris.csv',sep=',')\n",
        "df1.head()\n",
        "X = df1.drop([\"Species\", \"Id\"],axis=1).values\n",
        "y = df1[\"Species\"].values\n",
        "df1 = df1[(df1['Species']=='Iris-virginica') | (df1['Species']=='Iris-versicolor')]\n",
        "df1['Species'] = df1['Species'].map({'Iris-virginica':0,'Iris-versicolor':1})\n",
        "X_train, X_test, y_train, y_test = train_test_split(X, y, test_size=0.30, random_state=42)"
      ],
      "metadata": {
        "id": "FlTXsmghYbrO"
      },
      "execution_count": null,
      "outputs": []
    },
    {
      "cell_type": "code",
      "source": [
        "# callback function that draws a live plot when the .fit() method is called\n",
        "def callback_graph(weights, obj_func_eval):\n",
        "    clear_output(wait=True)\n",
        "    objective_func_vals.append(obj_func_eval)\n",
        "    plt.title(\"Objective function value against iteration\")\n",
        "    plt.xlabel(\"Iteration\")\n",
        "    plt.ylabel(\"Objective function value\")\n",
        "    plt.plot(range(len(objective_func_vals)), objective_func_vals)\n",
        "    plt.show()"
      ],
      "metadata": {
        "id": "2RdAB-uTYeQV"
      },
      "execution_count": null,
      "outputs": []
    },
    {
      "cell_type": "code",
      "source": [
        "# construct neural network classifier\n",
        "estimator_classifier = NeuralNetworkClassifier(\n",
        "    estimator_qnn, optimizer=COBYLA(maxiter=60), callback=callback_graph\n",
        ")"
      ],
      "metadata": {
        "id": "b8en4xPeYgYZ"
      },
      "execution_count": null,
      "outputs": []
    },
    {
      "cell_type": "markdown",
      "source": [
        "Le pasamos el estimator nuestro, el que hemos creado anterior.\n",
        "\n",
        "Empezamos con un optimizador COBYLA, con un limite de 60 iteraciones (es un limite pequeño) si se trabaja con Cobyla, hay que darle hasta 500 iteraciones, si le ponemos un numero pequeño no nos va a encontrar los parámetros nuevos.\n",
        "\n",
        "De parametros que tnga, por defecto tiene que cuando llegue a x precisión pare, y es lo que llegue primero, las 60 iteraciones o que llegue al umbral."
      ],
      "metadata": {
        "id": "9KO0TAgAYiMd"
      }
    },
    {
      "cell_type": "markdown",
      "source": [
        "Aquí creamos una figura, y le decimos al clasificador que entrene, y le metemos el x_train y_train, y así nos va pintando según va haciendo, a medida que llama al callback lo dibuja.\n",
        "\n",
        "Entrenar esto lleva mucho tiempo ya que toma todo nuestro conjunto de entrenamiento y calcula los parametros de entrenamiento. Este fit cuesta mas que con los SVM, por lo que primero hacemos un subconjunto de datos pequeño 5 - 10 filas"
      ],
      "metadata": {
        "id": "U2ternTlYkf_"
      }
    },
    {
      "cell_type": "code",
      "source": [
        "# create empty array for callback to store evaluations of the objective function\n",
        "objective_func_vals = []\n",
        "plt.rcParams[\"figure.figsize\"] = (12, 6)\n",
        "\n",
        "# fit classifier to data\n",
        "estimator_classifier.fit(X_train, y_train)\n",
        "\n",
        "# return to default figsize\n",
        "plt.rcParams[\"figure.figsize\"] = (6, 4)\n",
        "\n",
        "# score classifier\n",
        "predicciones_clasicas = estimator_classifier.predict(X_test)\n",
        "valor = accuracy_score(y_test, predicciones_clasicas)\n",
        "print(valor)"
      ],
      "metadata": {
        "colab": {
          "base_uri": "https://localhost:8080/",
          "height": 375
        },
        "id": "SF0i8KD0YmSz",
        "outputId": "8d3bab45-0811-444f-a012-cb73daf7df26"
      },
      "execution_count": null,
      "outputs": [
        {
          "output_type": "display_data",
          "data": {
            "text/plain": [
              "<Figure size 1200x600 with 1 Axes>"
            ],
            "image/png": "[encoded data removed]"
          },
          "metadata": {}
        },
        {
          "output_type": "stream",
          "name": "stdout",
          "text": [
            "0.4222222222222222\n"
          ]
        }
      ]
    },
    {
      "cell_type": "markdown",
      "source": [
        "Lo bueno suele ser coger un tamaño pequeño, y un limite de iteraciones tipo 10."
      ],
      "metadata": {
        "id": "PaPGEmwsYo_b"
      }
    }
  ]
}