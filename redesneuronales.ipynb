{
  "nbformat": 4,
  "nbformat_minor": 0,
  "metadata": {
    "colab": {
      "provenance": [],
      "authorship_tag": "ABX9TyOqqAT/6gOG6/BRzF5zK0pW",
      "include_colab_link": true
    },
    "kernelspec": {
      "name": "python3",
      "display_name": "Python 3"
    },
    "language_info": {
      "name": "python"
    }
  },
  "cells": [
    {
      "cell_type": "markdown",
      "metadata": {
        "id": "view-in-github",
        "colab_type": "text"
      },
      "source": [
        "<a href=\"https://colab.research.google.com/github/patriciamediavilla/L1P2/blob/main/redesneuronales.ipynb\" target=\"_parent\"><img src=\"https://colab.research.google.com/assets/colab-badge.svg\" alt=\"Open In Colab\"/></a>"
      ]
    },
    {
      "cell_type": "markdown",
      "source": [
        "\n",
        "# **Redes neuronales**\n",
        "\n",
        "Patricia Mediavilla Pardilla\n",
        "\n",
        "Lo primero que debemos hacer para poder realizar un algoritmo de clasificación ya sea por SVM o por redes neuronales es importar las Base de datos con los datos que debemos utilizar. Así como importar las libreriías con las que vamos a trabajar, en este caso la red neuronal la vamos a realizar con Pythorch.\n",
        "\n",
        "Y realizar un preprocesamiento de los datos para poder utilizarlos de manera correcta."
      ],
      "metadata": {
        "id": "ZiJ-4grSa5Qw"
      }
    },
    {
      "cell_type": "code",
      "source": [
        "import numpy as np\n",
        "import pandas as pd\n",
        "\n",
        "# Input data files\n",
        "import os\n",
        "for dirname, _, filenames in os.walk('/kaggle/input'):\n",
        "    for filename in filenames:\n",
        "        print(os.path.join(dirname, filename))\n",
        "\n",
        "#Importamos las librerias necesarias y cargamos la base de datos\n",
        "import torch\n",
        "import torch.nn as nn\n",
        "import matplotlib.pyplot as plt\n",
        "%matplotlib inline\n",
        "df1 = pd.read_csv('Iris.csv',sep=',')\n",
        "df1.head()"
      ],
      "metadata": {
        "colab": {
          "base_uri": "https://localhost:8080/",
          "height": 206
        },
        "id": "8hMh5NFVNBlN",
        "outputId": "b58ed54f-7d75-4153-d0e1-935c6527e7fc"
      },
      "execution_count": 1,
      "outputs": [
        {
          "output_type": "execute_result",
          "data": {
            "text/plain": [
              "   Id  SepalLengthCm  SepalWidthCm  PetalLengthCm  PetalWidthCm      Species\n",
              "0   1            5.1           3.5            1.4           0.2  Iris-setosa\n",
              "1   2            4.9           3.0            1.4           0.2  Iris-setosa\n",
              "2   3            4.7           3.2            1.3           0.2  Iris-setosa\n",
              "3   4            4.6           3.1            1.5           0.2  Iris-setosa\n",
              "4   5            5.0           3.6            1.4           0.2  Iris-setosa"
            ],
            "text/html": [
              "\n",
              "  <div id=\"df-2aa9d9cf-c154-47cb-ad74-46ad2ccd749f\" class=\"colab-df-container\">\n",
              "    <div>\n",
              "<style scoped>\n",
              "    .dataframe tbody tr th:only-of-type {\n",
              "        vertical-align: middle;\n",
              "    }\n",
              "\n",
              "    .dataframe tbody tr th {\n",
              "        vertical-align: top;\n",
              "    }\n",
              "\n",
              "    .dataframe thead th {\n",
              "        text-align: right;\n",
              "    }\n",
              "</style>\n",
              "<table border=\"1\" class=\"dataframe\">\n",
              "  <thead>\n",
              "    <tr style=\"text-align: right;\">\n",
              "      <th></th>\n",
              "      <th>Id</th>\n",
              "      <th>SepalLengthCm</th>\n",
              "      <th>SepalWidthCm</th>\n",
              "      <th>PetalLengthCm</th>\n",
              "      <th>PetalWidthCm</th>\n",
              "      <th>Species</th>\n",
              "    </tr>\n",
              "  </thead>\n",
              "  <tbody>\n",
              "    <tr>\n",
              "      <th>0</th>\n",
              "      <td>1</td>\n",
              "      <td>5.1</td>\n",
              "      <td>3.5</td>\n",
              "      <td>1.4</td>\n",
              "      <td>0.2</td>\n",
              "      <td>Iris-setosa</td>\n",
              "    </tr>\n",
              "    <tr>\n",
              "      <th>1</th>\n",
              "      <td>2</td>\n",
              "      <td>4.9</td>\n",
              "      <td>3.0</td>\n",
              "      <td>1.4</td>\n",
              "      <td>0.2</td>\n",
              "      <td>Iris-setosa</td>\n",
              "    </tr>\n",
              "    <tr>\n",
              "      <th>2</th>\n",
              "      <td>3</td>\n",
              "      <td>4.7</td>\n",
              "      <td>3.2</td>\n",
              "      <td>1.3</td>\n",
              "      <td>0.2</td>\n",
              "      <td>Iris-setosa</td>\n",
              "    </tr>\n",
              "    <tr>\n",
              "      <th>3</th>\n",
              "      <td>4</td>\n",
              "      <td>4.6</td>\n",
              "      <td>3.1</td>\n",
              "      <td>1.5</td>\n",
              "      <td>0.2</td>\n",
              "      <td>Iris-setosa</td>\n",
              "    </tr>\n",
              "    <tr>\n",
              "      <th>4</th>\n",
              "      <td>5</td>\n",
              "      <td>5.0</td>\n",
              "      <td>3.6</td>\n",
              "      <td>1.4</td>\n",
              "      <td>0.2</td>\n",
              "      <td>Iris-setosa</td>\n",
              "    </tr>\n",
              "  </tbody>\n",
              "</table>\n",
              "</div>\n",
              "    <div class=\"colab-df-buttons\">\n",
              "\n",
              "  <div class=\"colab-df-container\">\n",
              "    <button class=\"colab-df-convert\" onclick=\"convertToInteractive('df-2aa9d9cf-c154-47cb-ad74-46ad2ccd749f')\"\n",
              "            title=\"Convert this dataframe to an interactive table.\"\n",
              "            style=\"display:none;\">\n",
              "\n",
              "  <svg xmlns=\"http://www.w3.org/2000/svg\" height=\"24px\" viewBox=\"0 -960 960 960\">\n",
              "    <path d=\"M120-120v-720h720v720H120Zm60-500h600v-160H180v160Zm220 220h160v-160H400v160Zm0 220h160v-160H400v160ZM180-400h160v-160H180v160Zm440 0h160v-160H620v160ZM180-180h160v-160H180v160Zm440 0h160v-160H620v160Z\"/>\n",
              "  </svg>\n",
              "    </button>\n",
              "\n",
              "  <style>\n",
              "    .colab-df-container {\n",
              "      display:flex;\n",
              "      gap: 12px;\n",
              "    }\n",
              "\n",
              "    .colab-df-convert {\n",
              "      background-color: #E8F0FE;\n",
              "      border: none;\n",
              "      border-radius: 50%;\n",
              "      cursor: pointer;\n",
              "      display: none;\n",
              "      fill: #1967D2;\n",
              "      height: 32px;\n",
              "      padding: 0 0 0 0;\n",
              "      width: 32px;\n",
              "    }\n",
              "\n",
              "    .colab-df-convert:hover {\n",
              "      background-color: #E2EBFA;\n",
              "      box-shadow: 0px 1px 2px rgba(60, 64, 67, 0.3), 0px 1px 3px 1px rgba(60, 64, 67, 0.15);\n",
              "      fill: #174EA6;\n",
              "    }\n",
              "\n",
              "    .colab-df-buttons div {\n",
              "      margin-bottom: 4px;\n",
              "    }\n",
              "\n",
              "    [theme=dark] .colab-df-convert {\n",
              "      background-color: #3B4455;\n",
              "      fill: #D2E3FC;\n",
              "    }\n",
              "\n",
              "    [theme=dark] .colab-df-convert:hover {\n",
              "      background-color: #434B5C;\n",
              "      box-shadow: 0px 1px 3px 1px rgba(0, 0, 0, 0.15);\n",
              "      filter: drop-shadow(0px 1px 2px rgba(0, 0, 0, 0.3));\n",
              "      fill: #FFFFFF;\n",
              "    }\n",
              "  </style>\n",
              "\n",
              "    <script>\n",
              "      const buttonEl =\n",
              "        document.querySelector('#df-2aa9d9cf-c154-47cb-ad74-46ad2ccd749f button.colab-df-convert');\n",
              "      buttonEl.style.display =\n",
              "        google.colab.kernel.accessAllowed ? 'block' : 'none';\n",
              "\n",
              "      async function convertToInteractive(key) {\n",
              "        const element = document.querySelector('#df-2aa9d9cf-c154-47cb-ad74-46ad2ccd749f');\n",
              "        const dataTable =\n",
              "          await google.colab.kernel.invokeFunction('convertToInteractive',\n",
              "                                                    [key], {});\n",
              "        if (!dataTable) return;\n",
              "\n",
              "        const docLinkHtml = 'Like what you see? Visit the ' +\n",
              "          '<a target=\"_blank\" href=https://colab.research.google.com/notebooks/data_table.ipynb>data table notebook</a>'\n",
              "          + ' to learn more about interactive tables.';\n",
              "        element.innerHTML = '';\n",
              "        dataTable['output_type'] = 'display_data';\n",
              "        await google.colab.output.renderOutput(dataTable, element);\n",
              "        const docLink = document.createElement('div');\n",
              "        docLink.innerHTML = docLinkHtml;\n",
              "        element.appendChild(docLink);\n",
              "      }\n",
              "    </script>\n",
              "  </div>\n",
              "\n",
              "\n",
              "<div id=\"df-f8a6585c-24f0-4324-9f43-a8c6bec88683\">\n",
              "  <button class=\"colab-df-quickchart\" onclick=\"quickchart('df-f8a6585c-24f0-4324-9f43-a8c6bec88683')\"\n",
              "            title=\"Suggest charts\"\n",
              "            style=\"display:none;\">\n",
              "\n",
              "<svg xmlns=\"http://www.w3.org/2000/svg\" height=\"24px\"viewBox=\"0 0 24 24\"\n",
              "     width=\"24px\">\n",
              "    <g>\n",
              "        <path d=\"M19 3H5c-1.1 0-2 .9-2 2v14c0 1.1.9 2 2 2h14c1.1 0 2-.9 2-2V5c0-1.1-.9-2-2-2zM9 17H7v-7h2v7zm4 0h-2V7h2v10zm4 0h-2v-4h2v4z\"/>\n",
              "    </g>\n",
              "</svg>\n",
              "  </button>\n",
              "\n",
              "<style>\n",
              "  .colab-df-quickchart {\n",
              "      --bg-color: #E8F0FE;\n",
              "      --fill-color: #1967D2;\n",
              "      --hover-bg-color: #E2EBFA;\n",
              "      --hover-fill-color: #174EA6;\n",
              "      --disabled-fill-color: #AAA;\n",
              "      --disabled-bg-color: #DDD;\n",
              "  }\n",
              "\n",
              "  [theme=dark] .colab-df-quickchart {\n",
              "      --bg-color: #3B4455;\n",
              "      --fill-color: #D2E3FC;\n",
              "      --hover-bg-color: #434B5C;\n",
              "      --hover-fill-color: #FFFFFF;\n",
              "      --disabled-bg-color: #3B4455;\n",
              "      --disabled-fill-color: #666;\n",
              "  }\n",
              "\n",
              "  .colab-df-quickchart {\n",
              "    background-color: var(--bg-color);\n",
              "    border: none;\n",
              "    border-radius: 50%;\n",
              "    cursor: pointer;\n",
              "    display: none;\n",
              "    fill: var(--fill-color);\n",
              "    height: 32px;\n",
              "    padding: 0;\n",
              "    width: 32px;\n",
              "  }\n",
              "\n",
              "  .colab-df-quickchart:hover {\n",
              "    background-color: var(--hover-bg-color);\n",
              "    box-shadow: 0 1px 2px rgba(60, 64, 67, 0.3), 0 1px 3px 1px rgba(60, 64, 67, 0.15);\n",
              "    fill: var(--button-hover-fill-color);\n",
              "  }\n",
              "\n",
              "  .colab-df-quickchart-complete:disabled,\n",
              "  .colab-df-quickchart-complete:disabled:hover {\n",
              "    background-color: var(--disabled-bg-color);\n",
              "    fill: var(--disabled-fill-color);\n",
              "    box-shadow: none;\n",
              "  }\n",
              "\n",
              "  .colab-df-spinner {\n",
              "    border: 2px solid var(--fill-color);\n",
              "    border-color: transparent;\n",
              "    border-bottom-color: var(--fill-color);\n",
              "    animation:\n",
              "      spin 1s steps(1) infinite;\n",
              "  }\n",
              "\n",
              "  @keyframes spin {\n",
              "    0% {\n",
              "      border-color: transparent;\n",
              "      border-bottom-color: var(--fill-color);\n",
              "      border-left-color: var(--fill-color);\n",
              "    }\n",
              "    20% {\n",
              "      border-color: transparent;\n",
              "      border-left-color: var(--fill-color);\n",
              "      border-top-color: var(--fill-color);\n",
              "    }\n",
              "    30% {\n",
              "      border-color: transparent;\n",
              "      border-left-color: var(--fill-color);\n",
              "      border-top-color: var(--fill-color);\n",
              "      border-right-color: var(--fill-color);\n",
              "    }\n",
              "    40% {\n",
              "      border-color: transparent;\n",
              "      border-right-color: var(--fill-color);\n",
              "      border-top-color: var(--fill-color);\n",
              "    }\n",
              "    60% {\n",
              "      border-color: transparent;\n",
              "      border-right-color: var(--fill-color);\n",
              "    }\n",
              "    80% {\n",
              "      border-color: transparent;\n",
              "      border-right-color: var(--fill-color);\n",
              "      border-bottom-color: var(--fill-color);\n",
              "    }\n",
              "    90% {\n",
              "      border-color: transparent;\n",
              "      border-bottom-color: var(--fill-color);\n",
              "    }\n",
              "  }\n",
              "</style>\n",
              "\n",
              "  <script>\n",
              "    async function quickchart(key) {\n",
              "      const quickchartButtonEl =\n",
              "        document.querySelector('#' + key + ' button');\n",
              "      quickchartButtonEl.disabled = true;  // To prevent multiple clicks.\n",
              "      quickchartButtonEl.classList.add('colab-df-spinner');\n",
              "      try {\n",
              "        const charts = await google.colab.kernel.invokeFunction(\n",
              "            'suggestCharts', [key], {});\n",
              "      } catch (error) {\n",
              "        console.error('Error during call to suggestCharts:', error);\n",
              "      }\n",
              "      quickchartButtonEl.classList.remove('colab-df-spinner');\n",
              "      quickchartButtonEl.classList.add('colab-df-quickchart-complete');\n",
              "    }\n",
              "    (() => {\n",
              "      let quickchartButtonEl =\n",
              "        document.querySelector('#df-f8a6585c-24f0-4324-9f43-a8c6bec88683 button');\n",
              "      quickchartButtonEl.style.display =\n",
              "        google.colab.kernel.accessAllowed ? 'block' : 'none';\n",
              "    })();\n",
              "  </script>\n",
              "</div>\n",
              "    </div>\n",
              "  </div>\n"
            ]
          },
          "metadata": {},
          "execution_count": 1
        }
      ]
    },
    {
      "cell_type": "markdown",
      "source": [
        "Una vez cargada la base de datos debemos comprenderla.\n",
        "\n",
        "En este caso es una base de datos de flores, la clase se define en Species y los datos que determina que tipos de flor es, se encuentran en estas variables:\n",
        "- SepalLengthCm\n",
        "- SepalWidthCm\n",
        "- PetalLengthCm\n",
        "- PetalWidthCm\n",
        "\n",
        "Continuamos con el preprocesamiento de los datos para ello vamos ver si hay valores faltantes y si hay outliers. En el caso que encontremos alguno debemos tratar con estos."
      ],
      "metadata": {
        "id": "hvgU7crjcDWo"
      }
    },
    {
      "cell_type": "code",
      "source": [
        "df1.isnull().sum()"
      ],
      "metadata": {
        "colab": {
          "base_uri": "https://localhost:8080/"
        },
        "id": "FFCaBvBGb36c",
        "outputId": "98b307e6-a1cb-436c-8474-93f117acb68c"
      },
      "execution_count": 2,
      "outputs": [
        {
          "output_type": "execute_result",
          "data": {
            "text/plain": [
              "Id               0\n",
              "SepalLengthCm    0\n",
              "SepalWidthCm     0\n",
              "PetalLengthCm    0\n",
              "PetalWidthCm     0\n",
              "Species          0\n",
              "dtype: int64"
            ]
          },
          "metadata": {},
          "execution_count": 2
        }
      ]
    },
    {
      "cell_type": "code",
      "source": [
        "df1.describe()"
      ],
      "metadata": {
        "colab": {
          "base_uri": "https://localhost:8080/",
          "height": 300
        },
        "id": "ypfNIDQlb_lS",
        "outputId": "36b56bde-5be0-411f-a70e-201f0061f513"
      },
      "execution_count": 3,
      "outputs": [
        {
          "output_type": "execute_result",
          "data": {
            "text/plain": [
              "               Id  SepalLengthCm  SepalWidthCm  PetalLengthCm  PetalWidthCm\n",
              "count  150.000000     150.000000    150.000000     150.000000    150.000000\n",
              "mean    75.500000       5.843333      3.054000       3.758667      1.198667\n",
              "std     43.445368       0.828066      0.433594       1.764420      0.763161\n",
              "min      1.000000       4.300000      2.000000       1.000000      0.100000\n",
              "25%     38.250000       5.100000      2.800000       1.600000      0.300000\n",
              "50%     75.500000       5.800000      3.000000       4.350000      1.300000\n",
              "75%    112.750000       6.400000      3.300000       5.100000      1.800000\n",
              "max    150.000000       7.900000      4.400000       6.900000      2.500000"
            ],
            "text/html": [
              "\n",
              "  <div id=\"df-67f3eb28-1bbd-44f5-a2f4-152d54361274\" class=\"colab-df-container\">\n",
              "    <div>\n",
              "<style scoped>\n",
              "    .dataframe tbody tr th:only-of-type {\n",
              "        vertical-align: middle;\n",
              "    }\n",
              "\n",
              "    .dataframe tbody tr th {\n",
              "        vertical-align: top;\n",
              "    }\n",
              "\n",
              "    .dataframe thead th {\n",
              "        text-align: right;\n",
              "    }\n",
              "</style>\n",
              "<table border=\"1\" class=\"dataframe\">\n",
              "  <thead>\n",
              "    <tr style=\"text-align: right;\">\n",
              "      <th></th>\n",
              "      <th>Id</th>\n",
              "      <th>SepalLengthCm</th>\n",
              "      <th>SepalWidthCm</th>\n",
              "      <th>PetalLengthCm</th>\n",
              "      <th>PetalWidthCm</th>\n",
              "    </tr>\n",
              "  </thead>\n",
              "  <tbody>\n",
              "    <tr>\n",
              "      <th>count</th>\n",
              "      <td>150.000000</td>\n",
              "      <td>150.000000</td>\n",
              "      <td>150.000000</td>\n",
              "      <td>150.000000</td>\n",
              "      <td>150.000000</td>\n",
              "    </tr>\n",
              "    <tr>\n",
              "      <th>mean</th>\n",
              "      <td>75.500000</td>\n",
              "      <td>5.843333</td>\n",
              "      <td>3.054000</td>\n",
              "      <td>3.758667</td>\n",
              "      <td>1.198667</td>\n",
              "    </tr>\n",
              "    <tr>\n",
              "      <th>std</th>\n",
              "      <td>43.445368</td>\n",
              "      <td>0.828066</td>\n",
              "      <td>0.433594</td>\n",
              "      <td>1.764420</td>\n",
              "      <td>0.763161</td>\n",
              "    </tr>\n",
              "    <tr>\n",
              "      <th>min</th>\n",
              "      <td>1.000000</td>\n",
              "      <td>4.300000</td>\n",
              "      <td>2.000000</td>\n",
              "      <td>1.000000</td>\n",
              "      <td>0.100000</td>\n",
              "    </tr>\n",
              "    <tr>\n",
              "      <th>25%</th>\n",
              "      <td>38.250000</td>\n",
              "      <td>5.100000</td>\n",
              "      <td>2.800000</td>\n",
              "      <td>1.600000</td>\n",
              "      <td>0.300000</td>\n",
              "    </tr>\n",
              "    <tr>\n",
              "      <th>50%</th>\n",
              "      <td>75.500000</td>\n",
              "      <td>5.800000</td>\n",
              "      <td>3.000000</td>\n",
              "      <td>4.350000</td>\n",
              "      <td>1.300000</td>\n",
              "    </tr>\n",
              "    <tr>\n",
              "      <th>75%</th>\n",
              "      <td>112.750000</td>\n",
              "      <td>6.400000</td>\n",
              "      <td>3.300000</td>\n",
              "      <td>5.100000</td>\n",
              "      <td>1.800000</td>\n",
              "    </tr>\n",
              "    <tr>\n",
              "      <th>max</th>\n",
              "      <td>150.000000</td>\n",
              "      <td>7.900000</td>\n",
              "      <td>4.400000</td>\n",
              "      <td>6.900000</td>\n",
              "      <td>2.500000</td>\n",
              "    </tr>\n",
              "  </tbody>\n",
              "</table>\n",
              "</div>\n",
              "    <div class=\"colab-df-buttons\">\n",
              "\n",
              "  <div class=\"colab-df-container\">\n",
              "    <button class=\"colab-df-convert\" onclick=\"convertToInteractive('df-67f3eb28-1bbd-44f5-a2f4-152d54361274')\"\n",
              "            title=\"Convert this dataframe to an interactive table.\"\n",
              "            style=\"display:none;\">\n",
              "\n",
              "  <svg xmlns=\"http://www.w3.org/2000/svg\" height=\"24px\" viewBox=\"0 -960 960 960\">\n",
              "    <path d=\"M120-120v-720h720v720H120Zm60-500h600v-160H180v160Zm220 220h160v-160H400v160Zm0 220h160v-160H400v160ZM180-400h160v-160H180v160Zm440 0h160v-160H620v160ZM180-180h160v-160H180v160Zm440 0h160v-160H620v160Z\"/>\n",
              "  </svg>\n",
              "    </button>\n",
              "\n",
              "  <style>\n",
              "    .colab-df-container {\n",
              "      display:flex;\n",
              "      gap: 12px;\n",
              "    }\n",
              "\n",
              "    .colab-df-convert {\n",
              "      background-color: #E8F0FE;\n",
              "      border: none;\n",
              "      border-radius: 50%;\n",
              "      cursor: pointer;\n",
              "      display: none;\n",
              "      fill: #1967D2;\n",
              "      height: 32px;\n",
              "      padding: 0 0 0 0;\n",
              "      width: 32px;\n",
              "    }\n",
              "\n",
              "    .colab-df-convert:hover {\n",
              "      background-color: #E2EBFA;\n",
              "      box-shadow: 0px 1px 2px rgba(60, 64, 67, 0.3), 0px 1px 3px 1px rgba(60, 64, 67, 0.15);\n",
              "      fill: #174EA6;\n",
              "    }\n",
              "\n",
              "    .colab-df-buttons div {\n",
              "      margin-bottom: 4px;\n",
              "    }\n",
              "\n",
              "    [theme=dark] .colab-df-convert {\n",
              "      background-color: #3B4455;\n",
              "      fill: #D2E3FC;\n",
              "    }\n",
              "\n",
              "    [theme=dark] .colab-df-convert:hover {\n",
              "      background-color: #434B5C;\n",
              "      box-shadow: 0px 1px 3px 1px rgba(0, 0, 0, 0.15);\n",
              "      filter: drop-shadow(0px 1px 2px rgba(0, 0, 0, 0.3));\n",
              "      fill: #FFFFFF;\n",
              "    }\n",
              "  </style>\n",
              "\n",
              "    <script>\n",
              "      const buttonEl =\n",
              "        document.querySelector('#df-67f3eb28-1bbd-44f5-a2f4-152d54361274 button.colab-df-convert');\n",
              "      buttonEl.style.display =\n",
              "        google.colab.kernel.accessAllowed ? 'block' : 'none';\n",
              "\n",
              "      async function convertToInteractive(key) {\n",
              "        const element = document.querySelector('#df-67f3eb28-1bbd-44f5-a2f4-152d54361274');\n",
              "        const dataTable =\n",
              "          await google.colab.kernel.invokeFunction('convertToInteractive',\n",
              "                                                    [key], {});\n",
              "        if (!dataTable) return;\n",
              "\n",
              "        const docLinkHtml = 'Like what you see? Visit the ' +\n",
              "          '<a target=\"_blank\" href=https://colab.research.google.com/notebooks/data_table.ipynb>data table notebook</a>'\n",
              "          + ' to learn more about interactive tables.';\n",
              "        element.innerHTML = '';\n",
              "        dataTable['output_type'] = 'display_data';\n",
              "        await google.colab.output.renderOutput(dataTable, element);\n",
              "        const docLink = document.createElement('div');\n",
              "        docLink.innerHTML = docLinkHtml;\n",
              "        element.appendChild(docLink);\n",
              "      }\n",
              "    </script>\n",
              "  </div>\n",
              "\n",
              "\n",
              "<div id=\"df-9ce3ab0e-088c-4dcd-b1bb-0c0b61cae849\">\n",
              "  <button class=\"colab-df-quickchart\" onclick=\"quickchart('df-9ce3ab0e-088c-4dcd-b1bb-0c0b61cae849')\"\n",
              "            title=\"Suggest charts\"\n",
              "            style=\"display:none;\">\n",
              "\n",
              "<svg xmlns=\"http://www.w3.org/2000/svg\" height=\"24px\"viewBox=\"0 0 24 24\"\n",
              "     width=\"24px\">\n",
              "    <g>\n",
              "        <path d=\"M19 3H5c-1.1 0-2 .9-2 2v14c0 1.1.9 2 2 2h14c1.1 0 2-.9 2-2V5c0-1.1-.9-2-2-2zM9 17H7v-7h2v7zm4 0h-2V7h2v10zm4 0h-2v-4h2v4z\"/>\n",
              "    </g>\n",
              "</svg>\n",
              "  </button>\n",
              "\n",
              "<style>\n",
              "  .colab-df-quickchart {\n",
              "      --bg-color: #E8F0FE;\n",
              "      --fill-color: #1967D2;\n",
              "      --hover-bg-color: #E2EBFA;\n",
              "      --hover-fill-color: #174EA6;\n",
              "      --disabled-fill-color: #AAA;\n",
              "      --disabled-bg-color: #DDD;\n",
              "  }\n",
              "\n",
              "  [theme=dark] .colab-df-quickchart {\n",
              "      --bg-color: #3B4455;\n",
              "      --fill-color: #D2E3FC;\n",
              "      --hover-bg-color: #434B5C;\n",
              "      --hover-fill-color: #FFFFFF;\n",
              "      --disabled-bg-color: #3B4455;\n",
              "      --disabled-fill-color: #666;\n",
              "  }\n",
              "\n",
              "  .colab-df-quickchart {\n",
              "    background-color: var(--bg-color);\n",
              "    border: none;\n",
              "    border-radius: 50%;\n",
              "    cursor: pointer;\n",
              "    display: none;\n",
              "    fill: var(--fill-color);\n",
              "    height: 32px;\n",
              "    padding: 0;\n",
              "    width: 32px;\n",
              "  }\n",
              "\n",
              "  .colab-df-quickchart:hover {\n",
              "    background-color: var(--hover-bg-color);\n",
              "    box-shadow: 0 1px 2px rgba(60, 64, 67, 0.3), 0 1px 3px 1px rgba(60, 64, 67, 0.15);\n",
              "    fill: var(--button-hover-fill-color);\n",
              "  }\n",
              "\n",
              "  .colab-df-quickchart-complete:disabled,\n",
              "  .colab-df-quickchart-complete:disabled:hover {\n",
              "    background-color: var(--disabled-bg-color);\n",
              "    fill: var(--disabled-fill-color);\n",
              "    box-shadow: none;\n",
              "  }\n",
              "\n",
              "  .colab-df-spinner {\n",
              "    border: 2px solid var(--fill-color);\n",
              "    border-color: transparent;\n",
              "    border-bottom-color: var(--fill-color);\n",
              "    animation:\n",
              "      spin 1s steps(1) infinite;\n",
              "  }\n",
              "\n",
              "  @keyframes spin {\n",
              "    0% {\n",
              "      border-color: transparent;\n",
              "      border-bottom-color: var(--fill-color);\n",
              "      border-left-color: var(--fill-color);\n",
              "    }\n",
              "    20% {\n",
              "      border-color: transparent;\n",
              "      border-left-color: var(--fill-color);\n",
              "      border-top-color: var(--fill-color);\n",
              "    }\n",
              "    30% {\n",
              "      border-color: transparent;\n",
              "      border-left-color: var(--fill-color);\n",
              "      border-top-color: var(--fill-color);\n",
              "      border-right-color: var(--fill-color);\n",
              "    }\n",
              "    40% {\n",
              "      border-color: transparent;\n",
              "      border-right-color: var(--fill-color);\n",
              "      border-top-color: var(--fill-color);\n",
              "    }\n",
              "    60% {\n",
              "      border-color: transparent;\n",
              "      border-right-color: var(--fill-color);\n",
              "    }\n",
              "    80% {\n",
              "      border-color: transparent;\n",
              "      border-right-color: var(--fill-color);\n",
              "      border-bottom-color: var(--fill-color);\n",
              "    }\n",
              "    90% {\n",
              "      border-color: transparent;\n",
              "      border-bottom-color: var(--fill-color);\n",
              "    }\n",
              "  }\n",
              "</style>\n",
              "\n",
              "  <script>\n",
              "    async function quickchart(key) {\n",
              "      const quickchartButtonEl =\n",
              "        document.querySelector('#' + key + ' button');\n",
              "      quickchartButtonEl.disabled = true;  // To prevent multiple clicks.\n",
              "      quickchartButtonEl.classList.add('colab-df-spinner');\n",
              "      try {\n",
              "        const charts = await google.colab.kernel.invokeFunction(\n",
              "            'suggestCharts', [key], {});\n",
              "      } catch (error) {\n",
              "        console.error('Error during call to suggestCharts:', error);\n",
              "      }\n",
              "      quickchartButtonEl.classList.remove('colab-df-spinner');\n",
              "      quickchartButtonEl.classList.add('colab-df-quickchart-complete');\n",
              "    }\n",
              "    (() => {\n",
              "      let quickchartButtonEl =\n",
              "        document.querySelector('#df-9ce3ab0e-088c-4dcd-b1bb-0c0b61cae849 button');\n",
              "      quickchartButtonEl.style.display =\n",
              "        google.colab.kernel.accessAllowed ? 'block' : 'none';\n",
              "    })();\n",
              "  </script>\n",
              "</div>\n",
              "    </div>\n",
              "  </div>\n"
            ]
          },
          "metadata": {},
          "execution_count": 3
        }
      ]
    },
    {
      "cell_type": "markdown",
      "source": [
        "Como vemos no hay ni valores faltantes ni valores atípicos por lo que podemos empezar nuestro algortimo."
      ],
      "metadata": {
        "id": "9XDmm7V3cyeO"
      }
    },
    {
      "cell_type": "code",
      "source": [
        "def get_info_dataframe(dataframe):\n",
        "    print(f\"DATAFRAME GENERAL INFO - \\n\")\n",
        "    print(dataframe.info(),\"\\n\")\n",
        "    print(f\"DATAFRAME MISSING INFO - \\n\")\n",
        "    print(dataframe.isnull().sum(),\"\\n\")\n",
        "    print(f\"DATAFRAME SHAPE INFO - \\n\")\n",
        "    print(dataframe.shape)\n",
        "\n",
        "get_info_dataframe(df1)"
      ],
      "metadata": {
        "id": "MF0vRIanQTkU",
        "colab": {
          "base_uri": "https://localhost:8080/"
        },
        "outputId": "e8c073e0-eaf2-40e8-9626-39ce989f9cd0"
      },
      "execution_count": 4,
      "outputs": [
        {
          "output_type": "stream",
          "name": "stdout",
          "text": [
            "DATAFRAME GENERAL INFO - \n",
            "\n",
            "<class 'pandas.core.frame.DataFrame'>\n",
            "RangeIndex: 150 entries, 0 to 149\n",
            "Data columns (total 6 columns):\n",
            " #   Column         Non-Null Count  Dtype  \n",
            "---  ------         --------------  -----  \n",
            " 0   Id             150 non-null    int64  \n",
            " 1   SepalLengthCm  150 non-null    float64\n",
            " 2   SepalWidthCm   150 non-null    float64\n",
            " 3   PetalLengthCm  150 non-null    float64\n",
            " 4   PetalWidthCm   150 non-null    float64\n",
            " 5   Species        150 non-null    object \n",
            "dtypes: float64(4), int64(1), object(1)\n",
            "memory usage: 7.2+ KB\n",
            "None \n",
            "\n",
            "DATAFRAME MISSING INFO - \n",
            "\n",
            "Id               0\n",
            "SepalLengthCm    0\n",
            "SepalWidthCm     0\n",
            "PetalLengthCm    0\n",
            "PetalWidthCm     0\n",
            "Species          0\n",
            "dtype: int64 \n",
            "\n",
            "DATAFRAME SHAPE INFO - \n",
            "\n",
            "(150, 6)\n"
          ]
        }
      ]
    },
    {
      "cell_type": "markdown",
      "source": [
        "Así reconocemos la base de datos y vemos la información que nos proporcionan"
      ],
      "metadata": {
        "id": "eS5ZiQbhdLrE"
      }
    },
    {
      "cell_type": "markdown",
      "source": [
        "## Clásico\n",
        "\n",
        "Para poder crear un modelo de predicción basado en redes neuronale clásico es necesario no tener columnas tipo indice, todos datos que nos interesen.Así como que los rangos de los valores tine que coincidir con la función de activación.\n",
        "\n",
        "\n",
        "En una red neuronal tenemos tres cosas: entrada, pesos y función de activación\n",
        "\n",
        "Puedo definirme funciones más o menos complicadaas de funciones de activación, una forma de decidir cómo mido el Measurement para ver a partir de qué límite es 0 o 1\n",
        "\n",
        "Para que el problema sea más simple vamos a dejar dos clases de flores en lugar de 3. Para ello vamos a ver cuales son los tipos de flores."
      ],
      "metadata": {
        "id": "futBMm3CM_Hj"
      }
    },
    {
      "cell_type": "code",
      "source": [
        "df1['Species'].unique()"
      ],
      "metadata": {
        "colab": {
          "base_uri": "https://localhost:8080/"
        },
        "id": "dhPNiajWQW0Q",
        "outputId": "fb70fd33-b879-4248-f548-b721dd527fd0"
      },
      "execution_count": 5,
      "outputs": [
        {
          "output_type": "execute_result",
          "data": {
            "text/plain": [
              "array(['Iris-setosa', 'Iris-versicolor', 'Iris-virginica'], dtype=object)"
            ]
          },
          "metadata": {},
          "execution_count": 5
        }
      ]
    },
    {
      "cell_type": "code",
      "execution_count": 6,
      "metadata": {
        "colab": {
          "base_uri": "https://localhost:8080/",
          "height": 644
        },
        "id": "PJu-iY_RMHvN",
        "outputId": "8b47f10c-0e2f-4c72-e283-f68279caa18f"
      },
      "outputs": [
        {
          "output_type": "stream",
          "name": "stderr",
          "text": [
            "<ipython-input-6-e0af751cbea5>:2: SettingWithCopyWarning: \n",
            "A value is trying to be set on a copy of a slice from a DataFrame.\n",
            "Try using .loc[row_indexer,col_indexer] = value instead\n",
            "\n",
            "See the caveats in the documentation: https://pandas.pydata.org/pandas-docs/stable/user_guide/indexing.html#returning-a-view-versus-a-copy\n",
            "  df1['Species'] = df1['Species'].map({'Iris-virginica':0,'Iris-versicolor':1})\n",
            "<ipython-input-6-e0af751cbea5>:3: SettingWithCopyWarning: \n",
            "A value is trying to be set on a copy of a slice from a DataFrame\n",
            "\n",
            "See the caveats in the documentation: https://pandas.pydata.org/pandas-docs/stable/user_guide/indexing.html#returning-a-view-versus-a-copy\n",
            "  df1.drop(['Id'],axis=1,inplace=True)\n"
          ]
        },
        {
          "output_type": "execute_result",
          "data": {
            "text/plain": [
              "     SepalLengthCm  SepalWidthCm  PetalLengthCm  PetalWidthCm  Species\n",
              "50             7.0           3.2            4.7           1.4        1\n",
              "51             6.4           3.2            4.5           1.5        1\n",
              "52             6.9           3.1            4.9           1.5        1\n",
              "53             5.5           2.3            4.0           1.3        1\n",
              "54             6.5           2.8            4.6           1.5        1\n",
              "..             ...           ...            ...           ...      ...\n",
              "145            6.7           3.0            5.2           2.3        0\n",
              "146            6.3           2.5            5.0           1.9        0\n",
              "147            6.5           3.0            5.2           2.0        0\n",
              "148            6.2           3.4            5.4           2.3        0\n",
              "149            5.9           3.0            5.1           1.8        0\n",
              "\n",
              "[100 rows x 5 columns]"
            ],
            "text/html": [
              "\n",
              "  <div id=\"df-97674e4b-c270-438c-84c3-27f076744fb1\" class=\"colab-df-container\">\n",
              "    <div>\n",
              "<style scoped>\n",
              "    .dataframe tbody tr th:only-of-type {\n",
              "        vertical-align: middle;\n",
              "    }\n",
              "\n",
              "    .dataframe tbody tr th {\n",
              "        vertical-align: top;\n",
              "    }\n",
              "\n",
              "    .dataframe thead th {\n",
              "        text-align: right;\n",
              "    }\n",
              "</style>\n",
              "<table border=\"1\" class=\"dataframe\">\n",
              "  <thead>\n",
              "    <tr style=\"text-align: right;\">\n",
              "      <th></th>\n",
              "      <th>SepalLengthCm</th>\n",
              "      <th>SepalWidthCm</th>\n",
              "      <th>PetalLengthCm</th>\n",
              "      <th>PetalWidthCm</th>\n",
              "      <th>Species</th>\n",
              "    </tr>\n",
              "  </thead>\n",
              "  <tbody>\n",
              "    <tr>\n",
              "      <th>50</th>\n",
              "      <td>7.0</td>\n",
              "      <td>3.2</td>\n",
              "      <td>4.7</td>\n",
              "      <td>1.4</td>\n",
              "      <td>1</td>\n",
              "    </tr>\n",
              "    <tr>\n",
              "      <th>51</th>\n",
              "      <td>6.4</td>\n",
              "      <td>3.2</td>\n",
              "      <td>4.5</td>\n",
              "      <td>1.5</td>\n",
              "      <td>1</td>\n",
              "    </tr>\n",
              "    <tr>\n",
              "      <th>52</th>\n",
              "      <td>6.9</td>\n",
              "      <td>3.1</td>\n",
              "      <td>4.9</td>\n",
              "      <td>1.5</td>\n",
              "      <td>1</td>\n",
              "    </tr>\n",
              "    <tr>\n",
              "      <th>53</th>\n",
              "      <td>5.5</td>\n",
              "      <td>2.3</td>\n",
              "      <td>4.0</td>\n",
              "      <td>1.3</td>\n",
              "      <td>1</td>\n",
              "    </tr>\n",
              "    <tr>\n",
              "      <th>54</th>\n",
              "      <td>6.5</td>\n",
              "      <td>2.8</td>\n",
              "      <td>4.6</td>\n",
              "      <td>1.5</td>\n",
              "      <td>1</td>\n",
              "    </tr>\n",
              "    <tr>\n",
              "      <th>...</th>\n",
              "      <td>...</td>\n",
              "      <td>...</td>\n",
              "      <td>...</td>\n",
              "      <td>...</td>\n",
              "      <td>...</td>\n",
              "    </tr>\n",
              "    <tr>\n",
              "      <th>145</th>\n",
              "      <td>6.7</td>\n",
              "      <td>3.0</td>\n",
              "      <td>5.2</td>\n",
              "      <td>2.3</td>\n",
              "      <td>0</td>\n",
              "    </tr>\n",
              "    <tr>\n",
              "      <th>146</th>\n",
              "      <td>6.3</td>\n",
              "      <td>2.5</td>\n",
              "      <td>5.0</td>\n",
              "      <td>1.9</td>\n",
              "      <td>0</td>\n",
              "    </tr>\n",
              "    <tr>\n",
              "      <th>147</th>\n",
              "      <td>6.5</td>\n",
              "      <td>3.0</td>\n",
              "      <td>5.2</td>\n",
              "      <td>2.0</td>\n",
              "      <td>0</td>\n",
              "    </tr>\n",
              "    <tr>\n",
              "      <th>148</th>\n",
              "      <td>6.2</td>\n",
              "      <td>3.4</td>\n",
              "      <td>5.4</td>\n",
              "      <td>2.3</td>\n",
              "      <td>0</td>\n",
              "    </tr>\n",
              "    <tr>\n",
              "      <th>149</th>\n",
              "      <td>5.9</td>\n",
              "      <td>3.0</td>\n",
              "      <td>5.1</td>\n",
              "      <td>1.8</td>\n",
              "      <td>0</td>\n",
              "    </tr>\n",
              "  </tbody>\n",
              "</table>\n",
              "<p>100 rows × 5 columns</p>\n",
              "</div>\n",
              "    <div class=\"colab-df-buttons\">\n",
              "\n",
              "  <div class=\"colab-df-container\">\n",
              "    <button class=\"colab-df-convert\" onclick=\"convertToInteractive('df-97674e4b-c270-438c-84c3-27f076744fb1')\"\n",
              "            title=\"Convert this dataframe to an interactive table.\"\n",
              "            style=\"display:none;\">\n",
              "\n",
              "  <svg xmlns=\"http://www.w3.org/2000/svg\" height=\"24px\" viewBox=\"0 -960 960 960\">\n",
              "    <path d=\"M120-120v-720h720v720H120Zm60-500h600v-160H180v160Zm220 220h160v-160H400v160Zm0 220h160v-160H400v160ZM180-400h160v-160H180v160Zm440 0h160v-160H620v160ZM180-180h160v-160H180v160Zm440 0h160v-160H620v160Z\"/>\n",
              "  </svg>\n",
              "    </button>\n",
              "\n",
              "  <style>\n",
              "    .colab-df-container {\n",
              "      display:flex;\n",
              "      gap: 12px;\n",
              "    }\n",
              "\n",
              "    .colab-df-convert {\n",
              "      background-color: #E8F0FE;\n",
              "      border: none;\n",
              "      border-radius: 50%;\n",
              "      cursor: pointer;\n",
              "      display: none;\n",
              "      fill: #1967D2;\n",
              "      height: 32px;\n",
              "      padding: 0 0 0 0;\n",
              "      width: 32px;\n",
              "    }\n",
              "\n",
              "    .colab-df-convert:hover {\n",
              "      background-color: #E2EBFA;\n",
              "      box-shadow: 0px 1px 2px rgba(60, 64, 67, 0.3), 0px 1px 3px 1px rgba(60, 64, 67, 0.15);\n",
              "      fill: #174EA6;\n",
              "    }\n",
              "\n",
              "    .colab-df-buttons div {\n",
              "      margin-bottom: 4px;\n",
              "    }\n",
              "\n",
              "    [theme=dark] .colab-df-convert {\n",
              "      background-color: #3B4455;\n",
              "      fill: #D2E3FC;\n",
              "    }\n",
              "\n",
              "    [theme=dark] .colab-df-convert:hover {\n",
              "      background-color: #434B5C;\n",
              "      box-shadow: 0px 1px 3px 1px rgba(0, 0, 0, 0.15);\n",
              "      filter: drop-shadow(0px 1px 2px rgba(0, 0, 0, 0.3));\n",
              "      fill: #FFFFFF;\n",
              "    }\n",
              "  </style>\n",
              "\n",
              "    <script>\n",
              "      const buttonEl =\n",
              "        document.querySelector('#df-97674e4b-c270-438c-84c3-27f076744fb1 button.colab-df-convert');\n",
              "      buttonEl.style.display =\n",
              "        google.colab.kernel.accessAllowed ? 'block' : 'none';\n",
              "\n",
              "      async function convertToInteractive(key) {\n",
              "        const element = document.querySelector('#df-97674e4b-c270-438c-84c3-27f076744fb1');\n",
              "        const dataTable =\n",
              "          await google.colab.kernel.invokeFunction('convertToInteractive',\n",
              "                                                    [key], {});\n",
              "        if (!dataTable) return;\n",
              "\n",
              "        const docLinkHtml = 'Like what you see? Visit the ' +\n",
              "          '<a target=\"_blank\" href=https://colab.research.google.com/notebooks/data_table.ipynb>data table notebook</a>'\n",
              "          + ' to learn more about interactive tables.';\n",
              "        element.innerHTML = '';\n",
              "        dataTable['output_type'] = 'display_data';\n",
              "        await google.colab.output.renderOutput(dataTable, element);\n",
              "        const docLink = document.createElement('div');\n",
              "        docLink.innerHTML = docLinkHtml;\n",
              "        element.appendChild(docLink);\n",
              "      }\n",
              "    </script>\n",
              "  </div>\n",
              "\n",
              "\n",
              "<div id=\"df-b18fb36f-3937-45af-9ec9-5995308c51db\">\n",
              "  <button class=\"colab-df-quickchart\" onclick=\"quickchart('df-b18fb36f-3937-45af-9ec9-5995308c51db')\"\n",
              "            title=\"Suggest charts\"\n",
              "            style=\"display:none;\">\n",
              "\n",
              "<svg xmlns=\"http://www.w3.org/2000/svg\" height=\"24px\"viewBox=\"0 0 24 24\"\n",
              "     width=\"24px\">\n",
              "    <g>\n",
              "        <path d=\"M19 3H5c-1.1 0-2 .9-2 2v14c0 1.1.9 2 2 2h14c1.1 0 2-.9 2-2V5c0-1.1-.9-2-2-2zM9 17H7v-7h2v7zm4 0h-2V7h2v10zm4 0h-2v-4h2v4z\"/>\n",
              "    </g>\n",
              "</svg>\n",
              "  </button>\n",
              "\n",
              "<style>\n",
              "  .colab-df-quickchart {\n",
              "      --bg-color: #E8F0FE;\n",
              "      --fill-color: #1967D2;\n",
              "      --hover-bg-color: #E2EBFA;\n",
              "      --hover-fill-color: #174EA6;\n",
              "      --disabled-fill-color: #AAA;\n",
              "      --disabled-bg-color: #DDD;\n",
              "  }\n",
              "\n",
              "  [theme=dark] .colab-df-quickchart {\n",
              "      --bg-color: #3B4455;\n",
              "      --fill-color: #D2E3FC;\n",
              "      --hover-bg-color: #434B5C;\n",
              "      --hover-fill-color: #FFFFFF;\n",
              "      --disabled-bg-color: #3B4455;\n",
              "      --disabled-fill-color: #666;\n",
              "  }\n",
              "\n",
              "  .colab-df-quickchart {\n",
              "    background-color: var(--bg-color);\n",
              "    border: none;\n",
              "    border-radius: 50%;\n",
              "    cursor: pointer;\n",
              "    display: none;\n",
              "    fill: var(--fill-color);\n",
              "    height: 32px;\n",
              "    padding: 0;\n",
              "    width: 32px;\n",
              "  }\n",
              "\n",
              "  .colab-df-quickchart:hover {\n",
              "    background-color: var(--hover-bg-color);\n",
              "    box-shadow: 0 1px 2px rgba(60, 64, 67, 0.3), 0 1px 3px 1px rgba(60, 64, 67, 0.15);\n",
              "    fill: var(--button-hover-fill-color);\n",
              "  }\n",
              "\n",
              "  .colab-df-quickchart-complete:disabled,\n",
              "  .colab-df-quickchart-complete:disabled:hover {\n",
              "    background-color: var(--disabled-bg-color);\n",
              "    fill: var(--disabled-fill-color);\n",
              "    box-shadow: none;\n",
              "  }\n",
              "\n",
              "  .colab-df-spinner {\n",
              "    border: 2px solid var(--fill-color);\n",
              "    border-color: transparent;\n",
              "    border-bottom-color: var(--fill-color);\n",
              "    animation:\n",
              "      spin 1s steps(1) infinite;\n",
              "  }\n",
              "\n",
              "  @keyframes spin {\n",
              "    0% {\n",
              "      border-color: transparent;\n",
              "      border-bottom-color: var(--fill-color);\n",
              "      border-left-color: var(--fill-color);\n",
              "    }\n",
              "    20% {\n",
              "      border-color: transparent;\n",
              "      border-left-color: var(--fill-color);\n",
              "      border-top-color: var(--fill-color);\n",
              "    }\n",
              "    30% {\n",
              "      border-color: transparent;\n",
              "      border-left-color: var(--fill-color);\n",
              "      border-top-color: var(--fill-color);\n",
              "      border-right-color: var(--fill-color);\n",
              "    }\n",
              "    40% {\n",
              "      border-color: transparent;\n",
              "      border-right-color: var(--fill-color);\n",
              "      border-top-color: var(--fill-color);\n",
              "    }\n",
              "    60% {\n",
              "      border-color: transparent;\n",
              "      border-right-color: var(--fill-color);\n",
              "    }\n",
              "    80% {\n",
              "      border-color: transparent;\n",
              "      border-right-color: var(--fill-color);\n",
              "      border-bottom-color: var(--fill-color);\n",
              "    }\n",
              "    90% {\n",
              "      border-color: transparent;\n",
              "      border-bottom-color: var(--fill-color);\n",
              "    }\n",
              "  }\n",
              "</style>\n",
              "\n",
              "  <script>\n",
              "    async function quickchart(key) {\n",
              "      const quickchartButtonEl =\n",
              "        document.querySelector('#' + key + ' button');\n",
              "      quickchartButtonEl.disabled = true;  // To prevent multiple clicks.\n",
              "      quickchartButtonEl.classList.add('colab-df-spinner');\n",
              "      try {\n",
              "        const charts = await google.colab.kernel.invokeFunction(\n",
              "            'suggestCharts', [key], {});\n",
              "      } catch (error) {\n",
              "        console.error('Error during call to suggestCharts:', error);\n",
              "      }\n",
              "      quickchartButtonEl.classList.remove('colab-df-spinner');\n",
              "      quickchartButtonEl.classList.add('colab-df-quickchart-complete');\n",
              "    }\n",
              "    (() => {\n",
              "      let quickchartButtonEl =\n",
              "        document.querySelector('#df-b18fb36f-3937-45af-9ec9-5995308c51db button');\n",
              "      quickchartButtonEl.style.display =\n",
              "        google.colab.kernel.accessAllowed ? 'block' : 'none';\n",
              "    })();\n",
              "  </script>\n",
              "</div>\n",
              "    </div>\n",
              "  </div>\n"
            ]
          },
          "metadata": {},
          "execution_count": 6
        }
      ],
      "source": [
        "df1 = df1[(df1['Species']=='Iris-virginica') | (df1['Species']=='Iris-versicolor')]\n",
        "df1['Species'] = df1['Species'].map({'Iris-virginica':0,'Iris-versicolor':1})\n",
        "df1.drop(['Id'],axis=1,inplace=True)\n",
        "df1"
      ]
    },
    {
      "cell_type": "code",
      "source": [
        "X = df1.drop([\"Species\"],axis=1).values\n",
        "y = df1[\"Species\"].values"
      ],
      "metadata": {
        "id": "_PQocu8GQkd_"
      },
      "execution_count": 7,
      "outputs": []
    },
    {
      "cell_type": "markdown",
      "source": [
        "Para realizar las redes neuronales vamos a ir explicando las funciones lo que hacen y como funcionan\n",
        "\n",
        "- Standarscaler()-> los escala, hace que se muevan al rededor del 0 porque les resta la media y los divide por la desviación (tipificar).\n",
        "\n",
        "Antes de hacer el escalado de los datos tengo que dividir el conjunto de los datos entre train y test. Solo se hace en los de train (el escalarlos) porque de otra manera sería trampa, y los de test los va a transformar en respecto a los de train, con la media y la desviación de los de train. Así conseguimos que no se nos engañe.\n",
        "\n",
        "- FloatTensor() -> lo pasa de array a tensor con decimales (crea una matriz)\n",
        "- LongTensor() -> lo pasa de array a tensor con enteros"
      ],
      "metadata": {
        "id": "HrSMKQMNdnXf"
      }
    },
    {
      "cell_type": "code",
      "source": [
        "from sklearn.preprocessing import StandardScaler\n",
        "from sklearn.model_selection import train_test_split"
      ],
      "metadata": {
        "id": "bQUHdaMVQlit"
      },
      "execution_count": 8,
      "outputs": []
    },
    {
      "cell_type": "code",
      "source": [
        "scaler = StandardScaler()"
      ],
      "metadata": {
        "id": "oP8gCjhnQmcO"
      },
      "execution_count": 9,
      "outputs": []
    },
    {
      "cell_type": "code",
      "source": [
        "X_train, X_test, y_train, y_test = train_test_split(X, y, test_size=0.30, random_state=42)"
      ],
      "metadata": {
        "id": "bsMzpi5nQnmC"
      },
      "execution_count": 10,
      "outputs": []
    },
    {
      "cell_type": "code",
      "source": [
        "X_train = torch.FloatTensor(X_train)\n",
        "X_test = torch.FloatTensor(X_test)\n",
        "y_train = torch.LongTensor(y_train)\n",
        "y_test = torch.LongTensor(y_test)"
      ],
      "metadata": {
        "id": "rLzD3vwsQpAT"
      },
      "execution_count": 11,
      "outputs": []
    },
    {
      "cell_type": "markdown",
      "source": [
        "Para crear la red neuronal definimos una clase que contine dos funciones:\n",
        " - La primera define las capas (variables) así como su forma y tamaño\n",
        "\n",
        " Layer= nn.Linear(número de entrada de neuronas,número de salida de neuronas(número de parámetros). Estas capas que estamos definiendo deben estar entrelazadas entre sí, por lo que la salida de una tiene que ser la entrada de la siguente.\n",
        " El tipo de capas  puede tener diferentes funciones como puede ser: Lineal **/** y Relu **_/**\n",
        "\n",
        " - La segunda función lo que hace es que entrelaza las capas creadas, creando así una capa oculta que recalcula pesos constantmente, y por último una capa de salida que es mi solución que me clasifica en 0 o 1 basado en probabilidades\n",
        "\n"
      ],
      "metadata": {
        "id": "MxTaEIUXOp84"
      }
    },
    {
      "cell_type": "code",
      "source": [
        "class NeuralNetworkClassificationModel(nn.Module):\n",
        "    def __init__(self,input_dim,output_dim):\n",
        "        super(NeuralNetworkClassificationModel,self).__init__()\n",
        "        self.input_layer    = nn.Linear(input_dim,4)\n",
        "        self.hidden_layer1  = nn.Linear(4,2)\n",
        "        self.hidden_layer2  = nn.Linear(2,4)\n",
        "        self.output_layer   = nn.Linear(4,output_dim)\n",
        "        self.relu = nn.ReLU()\n",
        "\n",
        "\n",
        "    def forward(self,x):\n",
        "        out =  self.relu(self.input_layer(x))\n",
        "        out =  self.relu(self.hidden_layer1(out))\n",
        "        out =  self.relu(self.hidden_layer2(out))\n",
        "        out =  self.output_layer(out)\n",
        "        return out"
      ],
      "metadata": {
        "id": "PmWCqNbXQqzB"
      },
      "execution_count": 12,
      "outputs": []
    },
    {
      "cell_type": "markdown",
      "source": [
        "Ahora vamos a definir 'las dimensiones' de la red neuronal. La dimensión de los datos que se introducen se definen en la variable **inputdim**, así como la dimención de salida, es decir la cantidad de tipos de flores que tenemos, estas se almacenan en la varible **outputdim**\n",
        "\n"
      ],
      "metadata": {
        "id": "O1PDbA48hrH2"
      }
    },
    {
      "cell_type": "code",
      "source": [
        "input_dim  = 4  #because we have 4 inputs namely sepal_length,sepal_width,petal_length,petal_width\n",
        "output_dim = 2  #because we have namely 2 categories setosa,versicolor and virginica eliminando una\n",
        "model = NeuralNetworkClassificationModel(input_dim,output_dim)"
      ],
      "metadata": {
        "id": "qCFjDyL_Q0XW"
      },
      "execution_count": 13,
      "outputs": []
    },
    {
      "cell_type": "markdown",
      "source": [
        "La función NeuralNetworkClassificationModel(nn.Module):nos vale para cualquier tamaño de entrada y de salida, y es más adelante con lo de input_dim que definimos la dimensión\n",
        "\n"
      ],
      "metadata": {
        "id": "HGrKRY6jjxls"
      }
    },
    {
      "cell_type": "markdown",
      "source": [
        "- learning_rate = La tasa de aprendizaje controla qué tan grande son los pasos de actualización de los pesos durante el proceso de optimización. En general me define de cuanto en cuando avanzo y va hacia el minimo y se queda en él, sirve para ver los minimos y buscar los minimos. Si ponemos un learning rate va a dar saltos muy grandes y aprender poco. Si es muy pequeño tardará un montón y cabe la posibilidad que se quede atascado en un minimo.\n",
        "\n",
        "- criterion = nn.CrossEntropyLoss(): Define la función de pérdida que se utilizará durante el entrenamiento. En este caso, se está utilizando la pérdida de entropía cruzada, que es comúnmente utilizada en problemas de clasificación.\n",
        "\n",
        "- optimizer = torch.optim.Adam(model.parameters(), lr=learning_rate): Crea un objeto de optimizador Adam. Adam es un algoritmo de optimización popular que adapta la tasa de aprendizaje para cada parámetro de forma individual. model.parameters() proporciona todos los parámetros del modelo que deben ser optimizados, y lr=learning_rate establece la tasa de aprendizaje del optimizador"
      ],
      "metadata": {
        "id": "-_ng5GqYpClX"
      }
    },
    {
      "cell_type": "code",
      "source": [
        "# creating our optimizer and loss function object\n",
        "learning_rate = 0.01\n",
        "criterion = nn.CrossEntropyLoss()\n",
        "optimizer = torch.optim.Adam(model.parameters(),lr=learning_rate)"
      ],
      "metadata": {
        "id": "7kqZZnryQ1sg"
      },
      "execution_count": 14,
      "outputs": []
    },
    {
      "cell_type": "markdown",
      "source": [
        "En esta parte lo que vamos a hacer es:\n",
        "- optimizer.zero_grad(): Esta línea se encarga de resetear los gradientes acumulados de los parámetros del modelo.\n",
        "\n",
        "- output_train = model(X_train): Realiza la propagación hacia adelante (forward pass) del modelo con los datos de entrenamiento (X_train). output_train contiene las predicciones del modelo.\n",
        "\n",
        "- loss_train = criterion(output_train, y_train): Calcula la pérdida entre las predicciones del modelo (output_train) y las etiquetas reales (y_train) utilizando la función de pérdida especificada (criterion). Esta pérdida se utilizará para retropropagar los gradientes y ajustar los pesos del modelo.\n",
        "\n",
        "- loss_train.backward(): Realiza la retropropagación para calcular los gradientes de la pérdida con respecto a los parámetros del modelo.\n",
        "\n",
        "- optimizer.step(): Actualiza los pesos del modelo utilizando el optimizador, que utiliza los gradientes calculados durante la retropropagación.\n",
        "\n",
        "- output_test = model(X_test): Realiza la propagación hacia adelante del modelo con los datos de prueba (X_test) para evaluar el rendimiento del modelo en el conjunto de prueba.\n",
        "\n",
        "- loss_test = criterion(output_test, y_test): Calcula la pérdida en el conjunto de prueba usando las predicciones del modelo (output_test) y las etiquetas reales (y_test).\n",
        "\n",
        "- train_losses[epoch] = loss_train.item() y test_losses[epoch] = loss_test.item(): Guarda las pérdidas de entrenamiento y prueba en las listas train_losses y test_losses respectivamente, para su posterior análisis o visualización.\n",
        "\n"
      ],
      "metadata": {
        "id": "sAlGYpIbptEI"
      }
    },
    {
      "cell_type": "markdown",
      "source": [
        "Básicamente lo que hacemos es que metemos los datos en una rueda de reentrenamiento para los datos que son temporales, que vayan variando con el tiempo, para que se vaya actualizando, y ajustando los pesos. Hay que tener en cuenta el coste de esto, tanto de entrenarlo como de ir recopilando de los datos.\n",
        "\n",
        "Luego hay que probar qué pasa si metemos más capas: se sobreentrena antes.\n",
        "\n",
        "Hay que buscar el equilibrio entre pocas capas y muchas neuronas, muchas capas y pocas neuronas y un equilibrio entre medias."
      ],
      "metadata": {
        "id": "sR-OpbXdqqs-"
      }
    },
    {
      "cell_type": "markdown",
      "source": [
        "Con dos capas funciona peor que con una. Por que una capa grande es la que hace bien la suda de los pesos, si meto más se pueden fastidiar unas a otras. Pero hay veces que si se complementan bien, pueden ser más y que se usan más de una capa."
      ],
      "metadata": {
        "id": "98zlo-BSQyKT"
      }
    },
    {
      "cell_type": "code",
      "source": [
        "def train_network(model,optimizer,criterion,X_train,y_train,X_test,y_test,num_epochs,train_losses,test_losses):\n",
        "    for epoch in range(num_epochs):\n",
        "        #clear out the gradients from the last step loss.backward()\n",
        "        optimizer.zero_grad()\n",
        "\n",
        "        #forward feed\n",
        "        output_train = model(X_train)\n",
        "\n",
        "        #calculate the loss\n",
        "        loss_train = criterion(output_train, y_train)\n",
        "\n",
        "\n",
        "\n",
        "        #backward propagation: calculate gradients\n",
        "        loss_train.backward()\n",
        "\n",
        "        #update the weights\n",
        "        optimizer.step()\n",
        "\n",
        "\n",
        "        output_test = model(X_test)\n",
        "        loss_test = criterion(output_test,y_test)\n",
        "\n",
        "        train_losses[epoch] = loss_train.item()\n",
        "        test_losses[epoch] = loss_test.item()\n",
        "\n",
        "        if (epoch + 1) % 50 == 0:\n",
        "            print(f\"Epoch {epoch+1}/{num_epochs}, Train Loss: {loss_train.item():.4f}, Test Loss: {loss_test.item():.4f}\")\n"
      ],
      "metadata": {
        "id": "zSEBp2G5Q5od"
      },
      "execution_count": 15,
      "outputs": []
    },
    {
      "cell_type": "markdown",
      "source": [
        "\n",
        "Pytorch hace la derivada de manera numérica, para cada uno de los pesos le añade algo o le resta algo : (w(i)*delta - w(j)*delta) /2delta)\n",
        "\n",
        "Los pesos al principio se hacen al azar, y se van ajustando poco a poco.\n",
        "\n",
        "De output podemos poner simplemente 1 neurona, ya que al ser una clasificación binaria, puedo tener 1 u 0."
      ],
      "metadata": {
        "id": "r29n2uyyQAcs"
      }
    },
    {
      "cell_type": "code",
      "source": [
        "num_epochs = 1000\n",
        "train_losses = np.zeros(num_epochs)\n",
        "test_losses  = np.zeros(num_epochs)"
      ],
      "metadata": {
        "id": "jVf2EqRKQ7c3"
      },
      "execution_count": 16,
      "outputs": []
    },
    {
      "cell_type": "markdown",
      "source": [
        "Utilizo la función que he definido para poder entrenar el modelo y podamos sacar resultados."
      ],
      "metadata": {
        "id": "oiBY_oXPr5GE"
      }
    },
    {
      "cell_type": "code",
      "source": [
        "train_network(model,optimizer,criterion,X_train,y_train,X_test,y_test,num_epochs,train_losses,test_losses)\n"
      ],
      "metadata": {
        "colab": {
          "base_uri": "https://localhost:8080/"
        },
        "id": "dJ3uW3WgQ9u2",
        "outputId": "0c4e11ac-967b-4afb-c7e1-9096c6fed991"
      },
      "execution_count": 17,
      "outputs": [
        {
          "output_type": "stream",
          "name": "stdout",
          "text": [
            "Epoch 50/1000, Train Loss: 0.5729, Test Loss: 0.6043\n",
            "Epoch 100/1000, Train Loss: 0.1474, Test Loss: 0.2692\n",
            "Epoch 150/1000, Train Loss: 0.0593, Test Loss: 0.2377\n",
            "Epoch 200/1000, Train Loss: 0.0341, Test Loss: 0.2611\n",
            "Epoch 250/1000, Train Loss: 0.0227, Test Loss: 0.2923\n",
            "Epoch 300/1000, Train Loss: 0.0163, Test Loss: 0.3211\n",
            "Epoch 350/1000, Train Loss: 0.0124, Test Loss: 0.3470\n",
            "Epoch 400/1000, Train Loss: 0.0098, Test Loss: 0.3707\n",
            "Epoch 450/1000, Train Loss: 0.0079, Test Loss: 0.3927\n",
            "Epoch 500/1000, Train Loss: 0.0065, Test Loss: 0.4131\n",
            "Epoch 550/1000, Train Loss: 0.0055, Test Loss: 0.4320\n",
            "Epoch 600/1000, Train Loss: 0.0047, Test Loss: 0.4451\n",
            "Epoch 650/1000, Train Loss: 0.0041, Test Loss: 0.4659\n",
            "Epoch 700/1000, Train Loss: 0.0036, Test Loss: 0.4842\n",
            "Epoch 750/1000, Train Loss: 0.0032, Test Loss: 0.5050\n",
            "Epoch 800/1000, Train Loss: 0.0029, Test Loss: 0.5248\n",
            "Epoch 850/1000, Train Loss: 0.0026, Test Loss: 0.5432\n",
            "Epoch 900/1000, Train Loss: 0.0023, Test Loss: 0.5640\n",
            "Epoch 950/1000, Train Loss: 0.0021, Test Loss: 0.5588\n",
            "Epoch 1000/1000, Train Loss: 0.0019, Test Loss: 0.5756\n"
          ]
        }
      ]
    },
    {
      "cell_type": "code",
      "source": [
        "plt.figure(figsize=(10,10))\n",
        "plt.plot(train_losses, label='train loss')\n",
        "plt.plot(test_losses, label='test loss')\n",
        "plt.legend()\n",
        "plt.show()"
      ],
      "metadata": {
        "colab": {
          "base_uri": "https://localhost:8080/",
          "height": 684
        },
        "id": "zgpYJkuaQ_Wb",
        "outputId": "67d3c302-62ad-4c92-b8a1-cc51e73ed48e"
      },
      "execution_count": 18,
      "outputs": [
        {
          "output_type": "display_data",
          "data": {
            "text/plain": [
              "<Figure size 1000x1000 with 1 Axes>"
            ],
            "image/png": "[encoded data removed]"
          },
          "metadata": {}
        }
      ]
    },
    {
      "cell_type": "code",
      "source": [
        "predictions_train = []\n",
        "predictions_test =  []\n",
        "with torch.no_grad():\n",
        "    predictions_train = model(X_train)\n",
        "    predictions_test = model(X_test)"
      ],
      "metadata": {
        "id": "1W1x2jjURBHn"
      },
      "execution_count": 19,
      "outputs": []
    },
    {
      "cell_type": "markdown",
      "source": [
        "La función que vamos a definir nos va a sacar la precisión del modelo."
      ],
      "metadata": {
        "id": "6pFip5kJsKxW"
      }
    },
    {
      "cell_type": "code",
      "source": [
        "def get_accuracy_multiclass(pred_arr,original_arr):\n",
        "    if len(pred_arr)!=len(original_arr):\n",
        "        return False\n",
        "    pred_arr = pred_arr.numpy()\n",
        "    original_arr = original_arr.numpy()\n",
        "    final_pred= []\n",
        "    # we will get something like this in the pred_arr [32.1680,12.9350,-58.4877]\n",
        "    # so will be taking the index of that argument which has the highest value here 32.1680 which corresponds to 0th index\n",
        "    for i in range(len(pred_arr)):\n",
        "        final_pred.append(np.argmax(pred_arr[i]))\n",
        "    final_pred = np.array(final_pred)\n",
        "    count = 0\n",
        "    #here we are doing a simple comparison between the predicted_arr and the original_arr to get the final accuracy\n",
        "    for i in range(len(original_arr)):\n",
        "        if final_pred[i] == original_arr[i]:\n",
        "            count+=1\n",
        "    return count/len(final_pred)"
      ],
      "metadata": {
        "id": "Jezrtd4hRDIi"
      },
      "execution_count": 20,
      "outputs": []
    },
    {
      "cell_type": "code",
      "source": [
        "train_acc = get_accuracy_multiclass(predictions_train,y_train)\n",
        "test_acc  = get_accuracy_multiclass(predictions_test,y_test)"
      ],
      "metadata": {
        "id": "B_QZSpZ-REVR"
      },
      "execution_count": 21,
      "outputs": []
    },
    {
      "cell_type": "code",
      "source": [
        "print(f\"Training Accuracy: {round(train_acc*100,3)}\")\n",
        "print(f\"Test Accuracy: {round(test_acc*100,3)}\")"
      ],
      "metadata": {
        "colab": {
          "base_uri": "https://localhost:8080/"
        },
        "id": "WTcWfjwJRFYO",
        "outputId": "41d7cdb1-df6c-4aa6-ef42-0205f23666c8"
      },
      "execution_count": 22,
      "outputs": [
        {
          "output_type": "stream",
          "name": "stdout",
          "text": [
            "Training Accuracy: 100.0\n",
            "Test Accuracy: 86.667\n"
          ]
        }
      ]
    },
    {
      "cell_type": "markdown",
      "source": [
        "Observamos la precisión del modelo, tanto de los datos de entrenamiento como la precisión de los datos de validación."
      ],
      "metadata": {
        "id": "mXBfnNYnsknP"
      }
    },
    {
      "cell_type": "markdown",
      "source": [
        "##CUÁNTICO\n",
        "\n",
        "Para crear una red neuronal cuántica vamos a tener que seguir unos pasos determinados.\n",
        "\n",
        "- Circuito Cuántico:\n",
        "\n",
        "Creas un circuito cuántico con un número variable de qubits.\n",
        "Aplicas puertas de Hadamard al principio y al final del circuito para anular sus efectos. Intercalas puertas de doble CNOT (Controlled-NOT) y rotaciones en el eje para entrelazar y manipular los qubits. Esto es como un feature map, mapea los datos en otra dimesión.\n",
        "\n",
        "- Optimización de Parámetros:\n",
        "\n",
        "Los parámetros del circuito se inicializan, comúnmente a la mitad.\n",
        "Utilizas un enfoque similar al de una red neuronal para ajustar estos parámetros.\n",
        "En cada iteración (époc), ejecutas el circuito con los parámetros actuales y calculas la probabilidad de obtener un 1 en la medición.\n",
        "\n",
        "- Función de Coste:\n",
        "\n",
        "Definas una función de coste para evaluar qué tan cerca está la salida del circuito del resultado deseado (por ejemplo, 1).\n",
        "\n",
        "- Entrenamiento:\n",
        "\n",
        "Realizas múltiples épocs donde ejecutas el circuito, calculas la función de costo, y ajustas los parámetros utilizando el gradiente descendente.\n",
        "\n"
      ],
      "metadata": {
        "id": "uVAlMqS6tjB-"
      }
    },
    {
      "cell_type": "markdown",
      "source": [
        "![image.png](data:image/png;base64,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)"
      ],
      "metadata": {
        "id": "03muUU7TRxtL"
      }
    },
    {
      "cell_type": "markdown",
      "source": [
        "Lo que hacemos es que primero metemos los datos en un feature map para cmabiarlo de diemnsión y adaptarlos al modelo cuántico. Debemos rotar los datos, en función tambien de este mapeo obtendremos mejor o peores resultados.\n",
        "\n",
        "A continuación apraece en Ansatz que básicament es como se ajustan los pesos, equivale a los pesos de una red neuronal clásica.\n",
        "\n",
        "Y por útimo realizamos las mediciones de las predciciones y sacamos el rendimiento del modelo."
      ],
      "metadata": {
        "id": "D872lFMIvb0d"
      }
    },
    {
      "cell_type": "markdown",
      "source": [
        "### Estimator QNN\n",
        "\n",
        "Al estimator le damos un observable, las propiedades desde el punto de vista cuántico tienen que ver con el observador.\n",
        "\n",
        "Cuando se mide, es cuando se definen las propiedades, no tenemos una medida hasta que no miramos, pero miramos desde una dirección concreta.\n",
        "\n",
        "Un observable es una cosa que podemos descomponer en x,y,z para cada uno de los qubits.\n",
        "\n",
        "Si tengo un circuito con 3 qubits, puedo decir que una medida de esto es zzz, que es medir todos en la dirección z\n",
        "\n",
        "Cuando yo mido no peudo medir las 3 proyecciones a la vez, si quiero medir las 3 tengo que repetirlo 3 veces distintas, y estos valores ya están condicionados por la medición anterior\n",
        "\n",
        "En una esfera de Bloch se puede medir en infinitas direcciones\n",
        "\n",
        "Cuando ponemos puerta de Hadamard 'giramos' la esfera de BLoch\n",
        "\n",
        "Solo podemos medir en la puerta Z\n",
        "\n"
      ],
      "metadata": {
        "id": "iyh-CKH9PMxX"
      }
    },
    {
      "cell_type": "code",
      "source": [
        "!pip install qiskit\n",
        "!pip install qiskit_machine_learning"
      ],
      "metadata": {
        "colab": {
          "base_uri": "https://localhost:8080/"
        },
        "id": "exFcTJqKW2an",
        "outputId": "c87a5265-a04b-41f7-f570-f7417821e639"
      },
      "execution_count": 23,
      "outputs": [
        {
          "output_type": "stream",
          "name": "stdout",
          "text": [
            "Collecting qiskit\n",
            "  Downloading qiskit-0.45.0-py3-none-any.whl (9.6 kB)\n",
            "Collecting qiskit-terra==0.45.0 (from qiskit)\n",
            "  Downloading qiskit_terra-0.45.0-cp38-abi3-manylinux_2_17_x86_64.manylinux2014_x86_64.whl (6.3 MB)\n",
            "\u001b[2K     \u001b[90m━━━━━━━━━━━━━━━━━━━━━━━━━━━━━━━━━━━━━━━━\u001b[0m \u001b[32m6.3/6.3 MB\u001b[0m \u001b[31m11.2 MB/s\u001b[0m eta \u001b[36m0:00:00\u001b[0m\n",
            "\u001b[?25hCollecting rustworkx>=0.13.0 (from qiskit-terra==0.45.0->qiskit)\n",
            "  Downloading rustworkx-0.13.2-cp310-cp310-manylinux_2_17_x86_64.manylinux2014_x86_64.whl (2.0 MB)\n",
            "\u001b[2K     \u001b[90m━━━━━━━━━━━━━━━━━━━━━━━━━━━━━━━━━━━━━━━━\u001b[0m \u001b[32m2.0/2.0 MB\u001b[0m \u001b[31m23.9 MB/s\u001b[0m eta \u001b[36m0:00:00\u001b[0m\n",
            "\u001b[?25hRequirement already satisfied: numpy<2,>=1.17 in /usr/local/lib/python3.10/dist-packages (from qiskit-terra==0.45.0->qiskit) (1.23.5)\n",
            "Collecting ply>=3.10 (from qiskit-terra==0.45.0->qiskit)\n",
            "  Downloading ply-3.11-py2.py3-none-any.whl (49 kB)\n",
            "\u001b[2K     \u001b[90m━━━━━━━━━━━━━━━━━━━━━━━━━━━━━━━━━━━━━━━━\u001b[0m \u001b[32m49.6/49.6 kB\u001b[0m \u001b[31m5.0 MB/s\u001b[0m eta \u001b[36m0:00:00\u001b[0m\n",
            "\u001b[?25hRequirement already satisfied: psutil>=5 in /usr/local/lib/python3.10/dist-packages (from qiskit-terra==0.45.0->qiskit) (5.9.5)\n",
            "Requirement already satisfied: scipy>=1.5 in /usr/local/lib/python3.10/dist-packages (from qiskit-terra==0.45.0->qiskit) (1.11.3)\n",
            "Requirement already satisfied: sympy>=1.3 in /usr/local/lib/python3.10/dist-packages (from qiskit-terra==0.45.0->qiskit) (1.12)\n",
            "Collecting dill>=0.3 (from qiskit-terra==0.45.0->qiskit)\n",
            "  Downloading dill-0.3.7-py3-none-any.whl (115 kB)\n",
            "\u001b[2K     \u001b[90m━━━━━━━━━━━━━━━━━━━━━━━━━━━━━━━━━━━━━━━━\u001b[0m \u001b[32m115.3/115.3 kB\u001b[0m \u001b[31m10.8 MB/s\u001b[0m eta \u001b[36m0:00:00\u001b[0m\n",
            "\u001b[?25hRequirement already satisfied: python-dateutil>=2.8.0 in /usr/local/lib/python3.10/dist-packages (from qiskit-terra==0.45.0->qiskit) (2.8.2)\n",
            "Collecting stevedore>=3.0.0 (from qiskit-terra==0.45.0->qiskit)\n",
            "  Downloading stevedore-5.1.0-py3-none-any.whl (49 kB)\n",
            "\u001b[2K     \u001b[90m━━━━━━━━━━━━━━━━━━━━━━━━━━━━━━━━━━━━━━━━\u001b[0m \u001b[32m49.6/49.6 kB\u001b[0m \u001b[31m4.5 MB/s\u001b[0m eta \u001b[36m0:00:00\u001b[0m\n",
            "\u001b[?25hCollecting symengine<0.10,>=0.9 (from qiskit-terra==0.45.0->qiskit)\n",
            "  Downloading symengine-0.9.2-cp310-cp310-manylinux2010_x86_64.whl (37.5 MB)\n",
            "\u001b[2K     \u001b[90m━━━━━━━━━━━━━━━━━━━━━━━━━━━━━━━━━━━━━━━━\u001b[0m \u001b[32m37.5/37.5 MB\u001b[0m \u001b[31m9.3 MB/s\u001b[0m eta \u001b[36m0:00:00\u001b[0m\n",
            "\u001b[?25hRequirement already satisfied: typing-extensions in /usr/local/lib/python3.10/dist-packages (from qiskit-terra==0.45.0->qiskit) (4.5.0)\n",
            "Requirement already satisfied: six>=1.5 in /usr/local/lib/python3.10/dist-packages (from python-dateutil>=2.8.0->qiskit-terra==0.45.0->qiskit) (1.16.0)\n",
            "Collecting pbr!=2.1.0,>=2.0.0 (from stevedore>=3.0.0->qiskit-terra==0.45.0->qiskit)\n",
            "  Downloading pbr-6.0.0-py2.py3-none-any.whl (107 kB)\n",
            "\u001b[2K     \u001b[90m━━━━━━━━━━━━━━━━━━━━━━━━━━━━━━━━━━━━━━━━\u001b[0m \u001b[32m107.5/107.5 kB\u001b[0m \u001b[31m7.1 MB/s\u001b[0m eta \u001b[36m0:00:00\u001b[0m\n",
            "\u001b[?25hRequirement already satisfied: mpmath>=0.19 in /usr/local/lib/python3.10/dist-packages (from sympy>=1.3->qiskit-terra==0.45.0->qiskit) (1.3.0)\n",
            "Installing collected packages: ply, symengine, rustworkx, pbr, dill, stevedore, qiskit-terra, qiskit\n",
            "Successfully installed dill-0.3.7 pbr-6.0.0 ply-3.11 qiskit-0.45.0 qiskit-terra-0.45.0 rustworkx-0.13.2 stevedore-5.1.0 symengine-0.9.2\n",
            "Collecting qiskit_machine_learning\n",
            "  Downloading qiskit_machine_learning-0.7.0-py3-none-any.whl (96 kB)\n",
            "\u001b[2K     \u001b[90m━━━━━━━━━━━━━━━━━━━━━━━━━━━━━━━━━━━━━━━━\u001b[0m \u001b[32m96.8/96.8 kB\u001b[0m \u001b[31m2.4 MB/s\u001b[0m eta \u001b[36m0:00:00\u001b[0m\n",
            "\u001b[?25hRequirement already satisfied: qiskit>=0.44 in /usr/local/lib/python3.10/dist-packages (from qiskit_machine_learning) (0.45.0)\n",
            "Collecting qiskit-algorithms>=0.2.0 (from qiskit_machine_learning)\n",
            "  Downloading qiskit_algorithms-0.2.1-py3-none-any.whl (306 kB)\n",
            "\u001b[2K     \u001b[90m━━━━━━━━━━━━━━━━━━━━━━━━━━━━━━━━━━━━━━━━\u001b[0m \u001b[32m306.9/306.9 kB\u001b[0m \u001b[31m14.5 MB/s\u001b[0m eta \u001b[36m0:00:00\u001b[0m\n",
            "\u001b[?25hRequirement already satisfied: scipy>=1.4 in /usr/local/lib/python3.10/dist-packages (from qiskit_machine_learning) (1.11.3)\n",
            "Requirement already satisfied: numpy>=1.17 in /usr/local/lib/python3.10/dist-packages (from qiskit_machine_learning) (1.23.5)\n",
            "Requirement already satisfied: psutil>=5 in /usr/local/lib/python3.10/dist-packages (from qiskit_machine_learning) (5.9.5)\n",
            "Requirement already satisfied: scikit-learn>=1.2.0 in /usr/local/lib/python3.10/dist-packages (from qiskit_machine_learning) (1.2.2)\n",
            "Collecting fastdtw (from qiskit_machine_learning)\n",
            "  Downloading fastdtw-0.3.4.tar.gz (133 kB)\n",
            "\u001b[2K     \u001b[90m━━━━━━━━━━━━━━━━━━━━━━━━━━━━━━━━━━━━━━━━\u001b[0m \u001b[32m133.4/133.4 kB\u001b[0m \u001b[31m15.2 MB/s\u001b[0m eta \u001b[36m0:00:00\u001b[0m\n",
            "\u001b[?25h  Preparing metadata (setup.py) ... \u001b[?25l\u001b[?25hdone\n",
            "Requirement already satisfied: setuptools>=40.1.0 in /usr/local/lib/python3.10/dist-packages (from qiskit_machine_learning) (67.7.2)\n",
            "Requirement already satisfied: dill>=0.3.4 in /usr/local/lib/python3.10/dist-packages (from qiskit_machine_learning) (0.3.7)\n",
            "Requirement already satisfied: qiskit-terra==0.45.0 in /usr/local/lib/python3.10/dist-packages (from qiskit>=0.44->qiskit_machine_learning) (0.45.0)\n",
            "Requirement already satisfied: rustworkx>=0.13.0 in /usr/local/lib/python3.10/dist-packages (from qiskit-terra==0.45.0->qiskit>=0.44->qiskit_machine_learning) (0.13.2)\n",
            "Requirement already satisfied: ply>=3.10 in /usr/local/lib/python3.10/dist-packages (from qiskit-terra==0.45.0->qiskit>=0.44->qiskit_machine_learning) (3.11)\n",
            "Requirement already satisfied: sympy>=1.3 in /usr/local/lib/python3.10/dist-packages (from qiskit-terra==0.45.0->qiskit>=0.44->qiskit_machine_learning) (1.12)\n",
            "Requirement already satisfied: python-dateutil>=2.8.0 in /usr/local/lib/python3.10/dist-packages (from qiskit-terra==0.45.0->qiskit>=0.44->qiskit_machine_learning) (2.8.2)\n",
            "Requirement already satisfied: stevedore>=3.0.0 in /usr/local/lib/python3.10/dist-packages (from qiskit-terra==0.45.0->qiskit>=0.44->qiskit_machine_learning) (5.1.0)\n",
            "Requirement already satisfied: symengine<0.10,>=0.9 in /usr/local/lib/python3.10/dist-packages (from qiskit-terra==0.45.0->qiskit>=0.44->qiskit_machine_learning) (0.9.2)\n",
            "Requirement already satisfied: typing-extensions in /usr/local/lib/python3.10/dist-packages (from qiskit-terra==0.45.0->qiskit>=0.44->qiskit_machine_learning) (4.5.0)\n",
            "Requirement already satisfied: joblib>=1.1.1 in /usr/local/lib/python3.10/dist-packages (from scikit-learn>=1.2.0->qiskit_machine_learning) (1.3.2)\n",
            "Requirement already satisfied: threadpoolctl>=2.0.0 in /usr/local/lib/python3.10/dist-packages (from scikit-learn>=1.2.0->qiskit_machine_learning) (3.2.0)\n",
            "Requirement already satisfied: six>=1.5 in /usr/local/lib/python3.10/dist-packages (from python-dateutil>=2.8.0->qiskit-terra==0.45.0->qiskit>=0.44->qiskit_machine_learning) (1.16.0)\n",
            "Requirement already satisfied: pbr!=2.1.0,>=2.0.0 in /usr/local/lib/python3.10/dist-packages (from stevedore>=3.0.0->qiskit-terra==0.45.0->qiskit>=0.44->qiskit_machine_learning) (6.0.0)\n",
            "Requirement already satisfied: mpmath>=0.19 in /usr/local/lib/python3.10/dist-packages (from sympy>=1.3->qiskit-terra==0.45.0->qiskit>=0.44->qiskit_machine_learning) (1.3.0)\n",
            "Building wheels for collected packages: fastdtw\n",
            "  Building wheel for fastdtw (setup.py) ... \u001b[?25l\u001b[?25hdone\n",
            "  Created wheel for fastdtw: filename=fastdtw-0.3.4-cp310-cp310-linux_x86_64.whl size=512412 sha256=8cdf7a97f5d017a20ff2083eac15035a802f81a988855ed3e736d1a410fb2e94\n",
            "  Stored in directory: /root/.cache/pip/wheels/73/c8/f7/c25448dab74c3acf4848bc25d513c736bb93910277e1528ef4\n",
            "Successfully built fastdtw\n",
            "Installing collected packages: fastdtw, qiskit-algorithms, qiskit_machine_learning\n",
            "Successfully installed fastdtw-0.3.4 qiskit-algorithms-0.2.1 qiskit_machine_learning-0.7.0\n"
          ]
        }
      ]
    },
    {
      "cell_type": "markdown",
      "source": [
        "Esto recibe la combinación de FM y Ansatz, le das el circuito completo, y le das el obesrvable, en función de lo que vas a medir, y definimos las entradas y pesos (que está dentro de qc1)\n",
        "\n",
        "El observable tiene que ver con el circuito con el número de qubits"
      ],
      "metadata": {
        "id": "UCbzmnS7ZDJS"
      }
    },
    {
      "cell_type": "markdown",
      "source": [
        "![image.png](data:image/png;base64,iVBORw0KGgoAAAANSUhEUgAAASwAAABaCAIAAACNE/xKAAAMc0lEQVR4Ae2de1BU1x3Hf0sxIIjIq+yyi7DLAmJ4uqI4q6JVRF0jNBqQqJDgCwTxia9qhEZUvFbNSMeqaTVq4mR8VvHVO01srFaZztBkWjo2tZ2OrZ0JcTqKOCh2bwdP57q5C7t77mMvwm/n/nHvub/z+H3P97N377nsAhy+UAFUQFUFQNXesXNUABXgEEI0ASqgsgIIocoTgN2jAgghegAVUFkBhFDlCcDuUQGEED2ACqisAEKo8gRg96gAQogeQAVUVgAhVHkCsHtUACFED6ACKiuAEKo8Adg9KoAQogdQAZUVQAhVngDsHhVACNEDqIDKCiCEKk8Ado8KIIToAVRAZQUQQpUnALtHBRBC9AAqoLICCKHKE4DdowIIIXoAFVBZAYRQ5QnA7lEBhBA9gAqorABCqPIEYPeoAEKIHkAFVFYAIVR5ArB7VAAhRA+gAiorgBCqPAHYPSqAEKIHUAGVFUAIVZ4A7B4V6IMQ2u1cR6f6m90u3l12O/f8qfobbQq9ZNjO0tEmIn7mRNXsgxB2dHLLj6u/dXSKmpAXlZ4/5VhG/e35U7oUesmwnaWjTYQubcnRCKFSuCKEzjCoVYIQSn6joGwAr4RyeZ3Wu3glpLTq/8PxSohXwh4/9yKE4qCirYUQIoQIIS01MscjhAghQigzVLTNIYQIIUJIS43M8QghQogQygwVbXMI4SsM4a6yz8Hh5f9aoFmfUfbG7is7OmVZIPXCwozSKRAdaBOhpUhiPEL4ykM4Mb1o3Zxja+ccXWTbGatNBoDpoxe9WhAqlwJCKPENQmT1/vOckFxGFtsYHrnzdY8jgg0ajebklm/4QtE7tBcQEc8JlU4BIRRJkcRq/RlCluHGpc4GgA8qfyeaPb6iKhDKmwJCKJEmkdX7OYRmfQYAHF57h2dJ9I5aEMqYAkIokiKJ1fobhMVTak/VtJ7c8s3BVV+9MWYpAAyLHiUaPMeKXoNQuRQQwu/Q1NraWl1dHRcX5+fnZzAYqqqqHj9+XFpaCgD79u37Tqi0g/4GocP6aNfu2OQ3P938b0eWRO97DULlUkAIX8LU3Nys1WoBIDAwMCMjIzIyEgBsNtuYMWMA4Pr16y9DJe+Jg3DWxq7l/rFFjPPXoAAgNt3mXO66xAvfoiCrGrbRi+sXsXULLi2cXh8UEDosetTZH/+HmG9CWuH41Ld4CE/XPggN0q4vOs6XuN7xGoQuUri4vSMmcvg7U7fyQ82xlGQmTuUPPdmhTUSyB+ka8MYjitbWVoPBAACrV69+9OgRGWB9fT0A+Pr6ajSahw8f0o3aZXR/g9BxdXRvxQ2NRjMhrZBY83Ttg7DBURve/oQcTkifMy51tieuJTG03pVldVSQAstwP13+e/8BAT9b+QeW4WpKzgYFhJ7Y9C/Ps2CZrq9H9+aXNyAsKioCgMrKSoEQaWlpAGA0GgXlEg/7M4Qsw+VYigFgb8UNYtNtCy4T126efzI0SHu65lvP7UvrXVkgdE6BZbh5k98z6VI/+dG9IYERG+ee8DwFEkmbiEQH0lZXHMKWlhYfH5/w8PC2tjbB4MgNYX5+vqBc4mE/h/DIuq99fL6XYZ7EO3VGVll63MQhgRFbSxv5Qk92aL0rF4TOKVze8SxePyI4MDw7rcCTkQtiaBOR6EDa6opDuHnzZgBYvny588gqKioAYMuWLc6npJRIgTBrVu3i/a2CrZffEzp+HCXmm5QxFwB2l39BDrue4A+JzrEUC6zp9pDWu3JByDKcIAWW4fKslQCwbcFlt8N2DqBNRIr9RNRVHEKr1QoA586dcx5cXl4eAJw5c8b5lJQSKRAKlun4w968MOMM4YdrWnw0PmlxE3g7ppqyncP4sz3t0HpXRggFKewu/2Kg36A8a6UhIqFx25OeBtxTOW0iUuwnoq7iEJIlmebmZsHgOjs7w8PDAeDu3buCUy4OLRaL3t1raKzZ9bplt2fJ6mjyxMU/XM8KNnFXwqGxZncj7fG8Mcbck5/ElYuD0BhDl4LswybJnt/apgs1VeY3XK3/b7Jx7JvjVtCK4EkiFovFhfEUPaU4hCEhIQBw8+ZNQRrHjx8HgKCgIDvN79Hp9Xr+6tTTjq9fQLeYuS6U/RGFr19ATyN0W+4/IIDWZ67jxUHoP4AuBdmHTZKyjV6cYZ70q512luE+WvfXgX6DflL+G9f5Cs56koherxdY1GuHikOYlJQEAA0NDY4p3b9/X6fTAYDVanUsd7uv9JVQxueEeCUUkCDusG7BpUD/4I83/oOvXpnfoAs1na97zJe43envV8Jly5YBQHR09J07dwhjTU1NiYmJAwYMAICKigq34NEGSLknlBFCLzysd2s+iQG0t1Ii7gkljtDD6rSJ0FpOYrziV8J79+6FhYWR5/LJyclmsxkApk2blpubCwAHDx6UmIBzdYTQQ2u6DaP1LkLo7EZPShSHkOO4lpYWm8026MVr1KhRBw4csNvtRqMRAG7fvu3JKKliEEK3dHkYgBBSGU90sDcgdB5cW1ubRqPx8fFpb293PiuxBCH0kDG3YQihRCt6WF0dCG/dugUAiYmJHo6SKkwchK7XTkWcxXtCt5B7LYD23YTKb9KD1YHw0KFDAFBQUCA9AecWEEK5zE3rXbwndHajJyXqQFhVVQUAdXV1ngyRNqZPQmjSpf3y/UfS6aopOcv/8sX5rW2WhCmDA8IC/YO7bdmbELpOMNWUXVNyVjBIz3OhTYTWchLj1YFw4sSJANDY2Chx9N1W75MQCvwn+jDHUlI+cw+pfnF7x84lv96/ork3QOg6o24h9DwXhLBbUhQs7JMQAgD5qm5kSMzcyZuThmZpQ2LfyX2feDfVlJ1nrUwwjIwKi5s1fhX54xJH445LmbWm4PDW0otBA0PCBkeZdGkrZx8idY9t+LsSEK6YdYD88uKHa/4EANsXXmUZrnhKbfGU2sNr/zJq2PQEw0ijNqUifx8ZBp/g3oobJl1arDY5N/Ndky51V9nnLMOlmrJnj1+dbByrCzXZspawDEeVC0KoIG/dNt3nIcy3LmMZ7lRNa4D/4BOb/kk8mm7+weUdzy7UtccbLBve/pgU8h/hCIQvvqr38kqoKIRH19/VhhpZhiufuXd4zJiC7GqW4ZKNY/cs/W28wfLz6j+zDHehrt2oTWmoamIZjkB4afvTiGADs+QzluGYJZ8BAA+h9fX8Kzs6G7c90YbEflBxkyoXhLBbUhQs7PMQ8jd1cVHpe5ZeJ7xVFx4hUJXP3JOb+a7qELIMpw01Hl1/Nytpxq6ya/EGy/mtbUEBoQdWfvmar79Jl0Y2bUgsGTmB8MDKL7UhsSQRluGiwuJ4CPnv8lpfz1835xhCqCBC0pvu8xDuX9FMbBpvsPAedYRwamYpy3AZ5knvzT9FIkcn2dYUHKYyrohfhRCsjk4fvagyvyE6IpFluHj9iOrCI6OTbIdW/zFscBSPGb/TPYThZj5BKVd1vBJKx4quhf4J4Yj4yZd3PGvc9iQxOpP8qIwtawn5EHh0w98C/YMJhPnWZcU5Nbz1WYZT6J6QZbhN8z6NDImZPGI+y3BvZa+JDIkpn7nnyo7O6O8PW13wCzKGI+u+Pl37gP84enF7R3iwflfZNZbhdpVdc/w46gyh57kghHQISY/unxDmW5clRmc6LswcXX83wTAyVps8Ia3QkjCFQNhQ1RQTOTwuKp0szBi1KaFBWo1GEx6snzRiniOc0q+Ep2u+1Wg0aws/Yhlu+8KrXX8qvOor8nWkrKQZRm1KTOTwFNN4clvLL8zsWXrdpEuN1SbnWEqiIxLJZd95kYllOM9zQQilY0XXQp+EUICH4NDRo4JTUg5pvSv4OCqua/5xaENVU2iQ9kJdu7h2HGvRJkJnOMnR6jwnlDxsVw0ghI7+k7JP611ZIFxTcNikSzVqU8z6jPpFrJTx83VpE3FlLwXOIYSv8L9G402m0A6td2WBUIlcaBNRADRXTSKECCH+p15XhHjhHEKIECKEXgDNVRcIIUKIELoixAvn+iCEdjvX0an+RvMjcsKJttu7/n2C6httCr1k2M660SYinA+Fj/sghAorhs2jAjIrgBDKLCg2hwrQKoAQ0iqG8aiAzAoghDILis2hArQKIIS0imE8KiCzAgihzIJic6gArQIIIa1iGI8KyKwAQiizoNgcKkCrAEJIqxjGowIyK4AQyiwoNocK0CqAENIqhvGogMwKIIQyC4rNoQK0CiCEtIphPCogswIIocyCYnOoAK0C/wOiJxrQdLEZuAAAAABJRU5ErkJggg==)"
      ],
      "metadata": {
        "id": "HwfyvOf6SZNS"
      }
    },
    {
      "cell_type": "markdown",
      "source": [
        "Aquí tenemos que mi rotación (FeatureMap) es la puerta de hadamard y Ry, y Rx es mi Ansatz\n",
        "\n",
        "Cuando lo hace con el sampler, no tiene en cuenta la operación del observable, porque te mide varias veces y te devuelve la distribución, gestionate tu la información, va por epochs\n",
        "\n",
        "Tomas unos datos y mides"
      ],
      "metadata": {
        "id": "0s1ohWnPSaNx"
      }
    },
    {
      "cell_type": "markdown",
      "source": [
        "### Crear modelo\n",
        "\n",
        "Vamos a hacer un modelo para clasificar las flores utilizando lo de redes neuronales."
      ],
      "metadata": {
        "id": "VUVcvZssXS21"
      }
    },
    {
      "cell_type": "code",
      "source": [
        "from qiskit.utils import algorithm_globals\n",
        "from qiskit.circuit import Parameter\n",
        "from qiskit import QuantumCircuit\n",
        "from qiskit.circuit import ParameterVector\n",
        "algorithm_globals.random_seed = 42"
      ],
      "metadata": {
        "colab": {
          "base_uri": "https://localhost:8080/"
        },
        "id": "s_CgVJ6EXY_O",
        "outputId": "722249ea-7d2f-4053-e5f8-b988ce3497b9"
      },
      "execution_count": 24,
      "outputs": [
        {
          "output_type": "stream",
          "name": "stderr",
          "text": [
            "<ipython-input-24-3acff7b73554>:5: DeprecationWarning: The property ``qiskit.utils.algorithm_globals.QiskitAlgorithmGlobals.random_seed`` is deprecated as of qiskit 0.45.0. It will be removed no earlier than 3 months after the release date. This algorithm utility has been migrated to an independent package: https://github.com/qiskit-community/qiskit-algorithms. You can run ``pip install qiskit_algorithms`` and import ``from qiskit_algorithms.utils`` instead. \n",
            "  algorithm_globals.random_seed = 42\n"
          ]
        }
      ]
    },
    {
      "cell_type": "markdown",
      "source": [
        "ESTIMATOR"
      ],
      "metadata": {
        "id": "Qvakm2rSXbJ1"
      }
    },
    {
      "cell_type": "markdown",
      "source": [
        "Se hace un paso forward y un paso backwards"
      ],
      "metadata": {
        "id": "SJd61Nj4XdVV"
      }
    },
    {
      "cell_type": "code",
      "source": [
        "from qiskit import QuantumCircuit\n",
        "from qiskit_machine_learning.neural_networks import SamplerQNN\n",
        "from qiskit.quantum_info import SparsePauliOp\n",
        "from qiskit_machine_learning.neural_networks import EstimatorQNN"
      ],
      "metadata": {
        "id": "slWNvppjXkLX"
      },
      "execution_count": 25,
      "outputs": []
    },
    {
      "cell_type": "code",
      "source": [
        "pip install pylatexenc"
      ],
      "metadata": {
        "colab": {
          "base_uri": "https://localhost:8080/"
        },
        "id": "WoOvy_PsXl-E",
        "outputId": "cae07dd6-b149-419d-fb80-5e9925a88132"
      },
      "execution_count": 26,
      "outputs": [
        {
          "output_type": "stream",
          "name": "stdout",
          "text": [
            "Collecting pylatexenc\n",
            "  Downloading pylatexenc-2.10.tar.gz (162 kB)\n",
            "\u001b[?25l     \u001b[90m━━━━━━━━━━━━━━━━━━━━━━━━━━━━━━━━━━━━━━━━\u001b[0m \u001b[32m0.0/162.6 kB\u001b[0m \u001b[31m?\u001b[0m eta \u001b[36m-:--:--\u001b[0m\r\u001b[2K     \u001b[91m━━━━━━━━━━━━━━━━━━━━━━━━━━━\u001b[0m\u001b[91m╸\u001b[0m\u001b[90m━━━━━━━━━━━━\u001b[0m \u001b[32m112.6/162.6 kB\u001b[0m \u001b[31m3.4 MB/s\u001b[0m eta \u001b[36m0:00:01\u001b[0m\r\u001b[2K     \u001b[90m━━━━━━━━━━━━━━━━━━━━━━━━━━━━━━━━━━━━━━━━\u001b[0m \u001b[32m162.6/162.6 kB\u001b[0m \u001b[31m3.5 MB/s\u001b[0m eta \u001b[36m0:00:00\u001b[0m\n",
            "\u001b[?25h  Preparing metadata (setup.py) ... \u001b[?25l\u001b[?25hdone\n",
            "Building wheels for collected packages: pylatexenc\n",
            "  Building wheel for pylatexenc (setup.py) ... \u001b[?25l\u001b[?25hdone\n",
            "  Created wheel for pylatexenc: filename=pylatexenc-2.10-py3-none-any.whl size=136818 sha256=e39e34c1630cfa91af0e5303309431c696edaaebbc837b4d7cecee4e451a878b\n",
            "  Stored in directory: /root/.cache/pip/wheels/d3/31/8b/e09b0386afd80cfc556c00408c9aeea5c35c4d484a9c762fd5\n",
            "Successfully built pylatexenc\n",
            "Installing collected packages: pylatexenc\n",
            "Successfully installed pylatexenc-2.10\n"
          ]
        }
      ]
    },
    {
      "cell_type": "code",
      "source": [
        "pip install matplotlib pylatexenc"
      ],
      "metadata": {
        "colab": {
          "base_uri": "https://localhost:8080/"
        },
        "id": "TgtDfqXOXnP4",
        "outputId": "94bdf952-8a36-41a5-e807-2536c71b9028"
      },
      "execution_count": 27,
      "outputs": [
        {
          "output_type": "stream",
          "name": "stdout",
          "text": [
            "Requirement already satisfied: matplotlib in /usr/local/lib/python3.10/dist-packages (3.7.1)\n",
            "Requirement already satisfied: pylatexenc in /usr/local/lib/python3.10/dist-packages (2.10)\n",
            "Requirement already satisfied: contourpy>=1.0.1 in /usr/local/lib/python3.10/dist-packages (from matplotlib) (1.2.0)\n",
            "Requirement already satisfied: cycler>=0.10 in /usr/local/lib/python3.10/dist-packages (from matplotlib) (0.12.1)\n",
            "Requirement already satisfied: fonttools>=4.22.0 in /usr/local/lib/python3.10/dist-packages (from matplotlib) (4.44.3)\n",
            "Requirement already satisfied: kiwisolver>=1.0.1 in /usr/local/lib/python3.10/dist-packages (from matplotlib) (1.4.5)\n",
            "Requirement already satisfied: numpy>=1.20 in /usr/local/lib/python3.10/dist-packages (from matplotlib) (1.23.5)\n",
            "Requirement already satisfied: packaging>=20.0 in /usr/local/lib/python3.10/dist-packages (from matplotlib) (23.2)\n",
            "Requirement already satisfied: pillow>=6.2.0 in /usr/local/lib/python3.10/dist-packages (from matplotlib) (9.4.0)\n",
            "Requirement already satisfied: pyparsing>=2.3.1 in /usr/local/lib/python3.10/dist-packages (from matplotlib) (3.1.1)\n",
            "Requirement already satisfied: python-dateutil>=2.7 in /usr/local/lib/python3.10/dist-packages (from matplotlib) (2.8.2)\n",
            "Requirement already satisfied: six>=1.5 in /usr/local/lib/python3.10/dist-packages (from python-dateutil>=2.7->matplotlib) (1.16.0)\n"
          ]
        }
      ]
    },
    {
      "cell_type": "markdown",
      "source": [
        "El estimator toma como entrada un circuito cuántico parametrizado, así como un observable, este genera cálculos de valor esperado para el paso hacia adelante.\n",
        "\n",
        "Ahora construiremos el circuito."
      ],
      "metadata": {
        "id": "v-Me0dvA6suK"
      }
    },
    {
      "cell_type": "code",
      "source": [
        "inputs2 = ParameterVector(\"input\", 4)\n",
        "weights2 = ParameterVector(\"weight\", 2)\n",
        "print(f\"input parameters: {[str(item) for item in inputs2.params]}\")\n",
        "print(f\"weight parameters: {[str(item) for item in weights2.params]}\")\n",
        "\n",
        "qc2 = QuantumCircuit(2)\n",
        "qc2.rx(inputs2[0], 0)\n",
        "qc2.ry(inputs2[1], 1)\n",
        "qc2.rz(inputs2[2], 0)\n",
        "qc2.rz(inputs2[3], 1)\n",
        "qc2.cx(0, 1) #CNOT\n",
        "qc2.rx(weights2[0], 0)\n",
        "qc2.rx(weights2[1], 1)\n",
        "\n",
        "\n",
        "qc2.draw()"
      ],
      "metadata": {
        "colab": {
          "base_uri": "https://localhost:8080/",
          "height": 130
        },
        "id": "1MGKoYI8XpGl",
        "outputId": "7cab1065-6ba5-49bb-ffc1-beb8f6b214ab"
      },
      "execution_count": 28,
      "outputs": [
        {
          "output_type": "stream",
          "name": "stdout",
          "text": [
            "input parameters: ['input[0]', 'input[1]', 'input[2]', 'input[3]']\n",
            "weight parameters: ['weight[0]', 'weight[1]']\n"
          ]
        },
        {
          "output_type": "execute_result",
          "data": {
            "text/plain": [
              "     ┌──────────────┐┌──────────────┐     ┌───────────────┐\n",
              "q_0: ┤ Rx(input[0]) ├┤ Rz(input[2]) ├──■──┤ Rx(weight[0]) ├\n",
              "     ├──────────────┤├──────────────┤┌─┴─┐├───────────────┤\n",
              "q_1: ┤ Ry(input[1]) ├┤ Rz(input[3]) ├┤ X ├┤ Rx(weight[1]) ├\n",
              "     └──────────────┘└──────────────┘└───┘└───────────────┘"
            ],
            "text/html": [
              "<pre style=\"word-wrap: normal;white-space: pre;background: #fff0;line-height: 1.1;font-family: &quot;Courier New&quot;,Courier,monospace\">     ┌──────────────┐┌──────────────┐     ┌───────────────┐\n",
              "q_0: ┤ Rx(input[0]) ├┤ Rz(input[2]) ├──■──┤ Rx(weight[0]) ├\n",
              "     ├──────────────┤├──────────────┤┌─┴─┐├───────────────┤\n",
              "q_1: ┤ Ry(input[1]) ├┤ Rz(input[3]) ├┤ X ├┤ Rx(weight[1]) ├\n",
              "     └──────────────┘└──────────────┘└───┘└───────────────┘</pre>"
            ]
          },
          "metadata": {},
          "execution_count": 28
        }
      ]
    },
    {
      "cell_type": "markdown",
      "source": [
        "Y ahora creamos los observables (la capa de salidas tiene tantas salidas como observables tenga."
      ],
      "metadata": {
        "id": "VotFlosa7uRx"
      }
    },
    {
      "cell_type": "code",
      "source": [
        "observable1 = SparsePauliOp.from_list([(\"Z\" * qc2.num_qubits, 1)])\n",
        "observable2 = SparsePauliOp.from_list([(\"Z\" * qc2.num_qubits, 1)])\n",
        "# el 1 es el peso que se aplica\n",
        "observables = [observable1, observable2]"
      ],
      "metadata": {
        "id": "1O0ztYanXq6i"
      },
      "execution_count": 29,
      "outputs": []
    },
    {
      "cell_type": "markdown",
      "source": [
        "Se crea el estimator:\n",
        "- input_params: lista de parámetros de circuitos cuánticos que deben tratarse como «entradas de red»\n",
        "\n",
        "- weight_params: lista de parámetros de circuitos cuánticos que deben tratarse como «pesos de red»"
      ],
      "metadata": {
        "id": "Q4rihq_-8ZNg"
      }
    },
    {
      "cell_type": "code",
      "source": [
        "estimator_qnn = EstimatorQNN(\n",
        "    circuit=qc2, observables=observables, input_params=inputs2, weight_params=weights2\n",
        ")\n",
        "estimator_qnn"
      ],
      "metadata": {
        "colab": {
          "base_uri": "https://localhost:8080/"
        },
        "id": "Fgjuu7sQXsE5",
        "outputId": "a51f556f-a56d-4b00-f5f8-23ea36a0f148"
      },
      "execution_count": 30,
      "outputs": [
        {
          "output_type": "execute_result",
          "data": {
            "text/plain": [
              "<qiskit_machine_learning.neural_networks.estimator_qnn.EstimatorQNN at 0x7cd34744d330>"
            ]
          },
          "metadata": {},
          "execution_count": 30
        }
      ]
    },
    {
      "cell_type": "markdown",
      "source": [
        "Ahora comenzamos a crear el paso hacia delante y hacia atrás"
      ],
      "metadata": {
        "id": "6PsMD4Hu8t4Y"
      }
    },
    {
      "cell_type": "code",
      "source": [
        "estimator_qnn_input = algorithm_globals.random.random(estimator_qnn.num_inputs)\n",
        "estimator_qnn_weights = algorithm_globals.random.random(estimator_qnn.num_weights)"
      ],
      "metadata": {
        "colab": {
          "base_uri": "https://localhost:8080/"
        },
        "id": "03Kz7ADaXt5Y",
        "outputId": "d8613869-7d7a-4a5e-fa7b-14c7b0580deb"
      },
      "execution_count": 31,
      "outputs": [
        {
          "output_type": "stream",
          "name": "stderr",
          "text": [
            "<ipython-input-31-a6c9269d2f11>:1: DeprecationWarning: The property ``qiskit.utils.algorithm_globals.QiskitAlgorithmGlobals.random`` is deprecated as of qiskit 0.45.0. It will be removed no earlier than 3 months after the release date. This algorithm utility has been migrated to an independent package: https://github.com/qiskit-community/qiskit-algorithms. You can run ``pip install qiskit_algorithms`` and import ``from qiskit_algorithms.utils`` instead. \n",
            "  estimator_qnn_input = algorithm_globals.random.random(estimator_qnn.num_inputs)\n",
            "<ipython-input-31-a6c9269d2f11>:2: DeprecationWarning: The property ``qiskit.utils.algorithm_globals.QiskitAlgorithmGlobals.random`` is deprecated as of qiskit 0.45.0. It will be removed no earlier than 3 months after the release date. This algorithm utility has been migrated to an independent package: https://github.com/qiskit-community/qiskit-algorithms. You can run ``pip install qiskit_algorithms`` and import ``from qiskit_algorithms.utils`` instead. \n",
            "  estimator_qnn_weights = algorithm_globals.random.random(estimator_qnn.num_weights)\n"
          ]
        }
      ]
    },
    {
      "cell_type": "code",
      "source": [
        "print(\n",
        "    f\"Number of input features for EstimatorQNN: {estimator_qnn.num_inputs} \\nInput: {estimator_qnn_input}\")\n",
        "print(\n",
        "    f\"Number of trainable weights for EstimatorQNN: {estimator_qnn.num_weights} \\nWeights: {estimator_qnn_weights}\")"
      ],
      "metadata": {
        "colab": {
          "base_uri": "https://localhost:8080/"
        },
        "id": "JV4NDoliXv1H",
        "outputId": "0cb2b570-6566-40d2-b68e-1e34b3be2e39"
      },
      "execution_count": 32,
      "outputs": [
        {
          "output_type": "stream",
          "name": "stdout",
          "text": [
            "Number of input features for EstimatorQNN: 4 \n",
            "Input: [0.77395605 0.43887844 0.85859792 0.69736803]\n",
            "Number of trainable weights for EstimatorQNN: 2 \n",
            "Weights: [0.09417735 0.97562235]\n"
          ]
        }
      ]
    },
    {
      "cell_type": "markdown",
      "source": [
        "FORWARD (paso hacia delante sin lotes)"
      ],
      "metadata": {
        "id": "b1-B1-pgaOtc"
      }
    },
    {
      "cell_type": "code",
      "source": [
        "estimator_qnn_forward = estimator_qnn.forward(estimator_qnn_input, estimator_qnn_weights)\n",
        "\n",
        "print(\n",
        "    f\"Forward pass result for EstimatorQNN: {estimator_qnn_forward}. \\nShape: {estimator_qnn_forward.shape}\"\n",
        ")"
      ],
      "metadata": {
        "colab": {
          "base_uri": "https://localhost:8080/"
        },
        "id": "U6nVcmB1X3Qa",
        "outputId": "751adb6d-5585-478a-e444-9fe6980ebc36"
      },
      "execution_count": 33,
      "outputs": [
        {
          "output_type": "stream",
          "name": "stdout",
          "text": [
            "Forward pass result for EstimatorQNN: [[0.700552 0.700552]]. \n",
            "Shape: (1, 2)\n"
          ]
        }
      ]
    },
    {
      "cell_type": "markdown",
      "source": [
        "FORWARD (paso hacia delante con lotes)"
      ],
      "metadata": {
        "id": "r5ted-hlX6NT"
      }
    },
    {
      "cell_type": "code",
      "source": [
        "estimator_qnn_forward_batched = estimator_qnn.forward(\n",
        "    [estimator_qnn_input, estimator_qnn_input], estimator_qnn_weights\n",
        ")\n",
        "\n",
        "print(\n",
        "    f\"Forward pass result for EstimatorQNN: {estimator_qnn_forward_batched}.  \\nShape: {estimator_qnn_forward_batched.shape}\"\n",
        ")"
      ],
      "metadata": {
        "colab": {
          "base_uri": "https://localhost:8080/"
        },
        "id": "QKcB9JmoX8zR",
        "outputId": "d754d82c-28d4-4e6d-d768-2fc5c535f8ca"
      },
      "execution_count": 34,
      "outputs": [
        {
          "output_type": "stream",
          "name": "stdout",
          "text": [
            "Forward pass result for EstimatorQNN: [[0.700552 0.700552]\n",
            " [0.700552 0.700552]].  \n",
            "Shape: (2, 2)\n"
          ]
        }
      ]
    },
    {
      "cell_type": "markdown",
      "source": [
        "BACKWARD (sin Gradientes de Entrada)"
      ],
      "metadata": {
        "id": "JBsWeElGX-05"
      }
    },
    {
      "cell_type": "code",
      "source": [
        "estimator_qnn_input_grad, estimator_qnn_weight_grad = estimator_qnn.backward(\n",
        "    estimator_qnn_input, estimator_qnn_weights\n",
        ")\n",
        "\n",
        "print(\n",
        "    f\"Input gradients for EstimatorQNN: {estimator_qnn_input_grad}.  \\nShape: {estimator_qnn_input_grad}\"\n",
        ")\n",
        "print(\n",
        "    f\"Weight gradients for EstimatorQNN: {estimator_qnn_weight_grad}.  \\nShape: {estimator_qnn_weight_grad.shape}\"\n",
        ")"
      ],
      "metadata": {
        "colab": {
          "base_uri": "https://localhost:8080/"
        },
        "id": "8en3rqvSYA0E",
        "outputId": "4a5927cf-54d4-4fb1-a3cf-3097d3268972"
      },
      "execution_count": 35,
      "outputs": [
        {
          "output_type": "stream",
          "name": "stdout",
          "text": [
            "Input gradients for EstimatorQNN: None.  \n",
            "Shape: None\n",
            "Weight gradients for EstimatorQNN: [[[-0.38320914 -0.63042956]\n",
            "  [-0.38320914 -0.63042956]]].  \n",
            "Shape: (1, 2, 2)\n"
          ]
        }
      ]
    },
    {
      "cell_type": "markdown",
      "source": [
        "BACKWARD (con Gradientes de Entrada)"
      ],
      "metadata": {
        "id": "AXEDqAg_YGNw"
      }
    },
    {
      "cell_type": "code",
      "source": [
        "estimator_qnn.input_gradients = True"
      ],
      "metadata": {
        "id": "yNNRWFQMYC6n"
      },
      "execution_count": 36,
      "outputs": []
    },
    {
      "cell_type": "code",
      "source": [
        "estimator_qnn_input_grad, estimator_qnn_weight_grad = estimator_qnn.backward(\n",
        "    estimator_qnn_input, estimator_qnn_weights\n",
        ")\n",
        "\n",
        "print(\n",
        "    f\"Input gradients for EstimatorQNN: {estimator_qnn_input_grad}.  \\nShape: {estimator_qnn_input_grad.shape}\"\n",
        ")\n",
        "print(\n",
        "    f\"Weight gradients for EstimatorQNN: {estimator_qnn_weight_grad}.  \\nShape: {estimator_qnn_weight_grad.shape}\"\n",
        ")"
      ],
      "metadata": {
        "colab": {
          "base_uri": "https://localhost:8080/"
        },
        "id": "FERzOrJ9YJ8z",
        "outputId": "24ba4fdb-a551-4240-d2ef-74050d9a67cd"
      },
      "execution_count": 37,
      "outputs": [
        {
          "output_type": "stream",
          "name": "stdout",
          "text": [
            "Input gradients for EstimatorQNN: [[[-0.03036863  0.27578853 -0.02562577  0.27760278]\n",
            "  [-0.03036863  0.27578853 -0.02562577  0.27760278]]].  \n",
            "Shape: (1, 2, 4)\n",
            "Weight gradients for EstimatorQNN: [[[-0.38320914 -0.63042956]\n",
            "  [-0.38320914 -0.63042956]]].  \n",
            "Shape: (1, 2, 2)\n"
          ]
        }
      ]
    },
    {
      "cell_type": "markdown",
      "source": [
        "El clasificador necesita el estimator, el callback para graficarlo y un optimizador clásico que es el que me va cambiando los pesos.\n",
        "\n",
        "Como es un optimizador clásicos vamos a coger uno de los que  ya existen, ADAM.\n",
        "\n",
        "COBYLA funciona mejor si tiene mínimos locales\n",
        "\n",
        "Hemos creado el clasificador, que funciona como cualquier otro modelo de scikit - leanr, lo entrenamos, y hacemos el predict.\n",
        "\n",
        "Lo interesante es el callback que nos va a dejar pintado cómo ha ido aprendiendo\n",
        "\n",
        "Como estamos usando ese optimizador, la gráfica tipica sería una en la que no da esos saltos, los saltos aquí son por dos cosas :\n",
        "- el optimizador da saltos para no meterse en mínimos locales.\n",
        "- Cuando tenemos entrelazamiento y cambiamos los parámetros, el comportamiento es un poco más complejo."
      ],
      "metadata": {
        "id": "r2Nsvq0TYMej"
      }
    },
    {
      "cell_type": "markdown",
      "source": [
        "## Lo implementamos en la base de datos del principio"
      ],
      "metadata": {
        "id": "Qbpk3UnPYW15"
      }
    },
    {
      "cell_type": "code",
      "source": [
        "import matplotlib.pyplot as plt\n",
        "import numpy as np\n",
        "from IPython.display import clear_output\n",
        "from qiskit import QuantumCircuit\n",
        "from qiskit.circuit import Parameter\n",
        "from qiskit.circuit.library import RealAmplitudes, ZZFeatureMap\n",
        "from qiskit_algorithms.optimizers import COBYLA, L_BFGS_B\n",
        "from qiskit_algorithms.utils import algorithm_globals\n",
        "from sklearn.metrics import accuracy_score\n",
        "\n",
        "from qiskit_machine_learning.algorithms.classifiers import NeuralNetworkClassifier, VQC\n",
        "from qiskit_machine_learning.algorithms.regressors import NeuralNetworkRegressor, VQR\n",
        "from qiskit_machine_learning.neural_networks import SamplerQNN, EstimatorQNN\n",
        "from qiskit_machine_learning.circuit.library import QNNCircuit"
      ],
      "metadata": {
        "id": "CQXmhCXIYVDT"
      },
      "execution_count": 38,
      "outputs": []
    },
    {
      "cell_type": "code",
      "source": [
        "df1 = pd.read_csv('Iris.csv',sep=',')\n",
        "df1.head()\n",
        "X = df1.drop([\"Species\", \"Id\"],axis=1).values\n",
        "y = df1[\"Species\"].values\n",
        "df1 = df1[(df1['Species']=='Iris-virginica') | (df1['Species']=='Iris-versicolor')]\n",
        "df1['Species'] = df1['Species'].map({'Iris-virginica':0,'Iris-versicolor':1})\n",
        "X_train, X_test, y_train, y_test = train_test_split(X, y, test_size=0.30, random_state=42)"
      ],
      "metadata": {
        "id": "FlTXsmghYbrO"
      },
      "execution_count": 39,
      "outputs": []
    },
    {
      "cell_type": "code",
      "source": [
        "# callback function that draws a live plot when the .fit() method is called\n",
        "def callback_graph(weights, obj_func_eval):\n",
        "    clear_output(wait=True)\n",
        "    objective_func_vals.append(obj_func_eval)\n",
        "    plt.title(\"Objective function value against iteration\")\n",
        "    plt.xlabel(\"Iteration\")\n",
        "    plt.ylabel(\"Objective function value\")\n",
        "    plt.plot(range(len(objective_func_vals)), objective_func_vals)\n",
        "    plt.show()"
      ],
      "metadata": {
        "id": "2RdAB-uTYeQV"
      },
      "execution_count": 40,
      "outputs": []
    },
    {
      "cell_type": "code",
      "source": [
        "# construct neural network classifier\n",
        "estimator_classifier = NeuralNetworkClassifier(\n",
        "    estimator_qnn, optimizer=COBYLA(maxiter=60), callback=callback_graph\n",
        ")"
      ],
      "metadata": {
        "id": "b8en4xPeYgYZ"
      },
      "execution_count": 41,
      "outputs": []
    },
    {
      "cell_type": "markdown",
      "source": [
        "Le pasamos el estimator, que hemos creado.\n",
        "\n",
        "Empezamos con un optimizador COBYLA, con un limite de 60 iteraciones (es un limite pequeño) si se trabaja con Cobyla, hay que darle hasta 500 iteraciones, si le ponemos un numero pequeño no nos va a encontrar los parámetros nuevos.\n"
      ],
      "metadata": {
        "id": "9KO0TAgAYiMd"
      }
    },
    {
      "cell_type": "markdown",
      "source": [
        "Aquí creamos una figura, y le decimos al clasificador que entrene, y le metemos el x_train y_train, y así nos va pintando según va haciendo, a medida que llama al callback lo dibuja.\n",
        "\n",
        "Entrenar esto lleva mucho tiempo ya que toma todo nuestro conjunto de entrenamiento y calcula los parametros de entrenamiento. Este fit cuesta mas que con los SVM, por lo que primero hacemos un subconjunto de datos pequeño 5 - 10 filas"
      ],
      "metadata": {
        "id": "U2ternTlYkf_"
      }
    },
    {
      "cell_type": "code",
      "source": [
        "# create empty array for callback to store evaluations of the objective function\n",
        "objective_func_vals = []\n",
        "plt.rcParams[\"figure.figsize\"] = (12, 6)\n",
        "\n",
        "# fit classifier to data\n",
        "estimator_classifier.fit(X_train, y_train)\n",
        "\n",
        "# return to default figsize\n",
        "plt.rcParams[\"figure.figsize\"] = (6, 4)\n",
        "\n",
        "# score classifier\n",
        "predicciones_clasicas = estimator_classifier.predict(X_test)\n",
        "valor = accuracy_score(y_test, predicciones_clasicas)\n",
        "print(valor)"
      ],
      "metadata": {
        "colab": {
          "base_uri": "https://localhost:8080/",
          "height": 402
        },
        "id": "SF0i8KD0YmSz",
        "outputId": "15d02f34-6b23-4a3e-faaf-027294a6cea7"
      },
      "execution_count": 42,
      "outputs": [
        {
          "output_type": "display_data",
          "data": {
            "text/plain": [
              "<Figure size 1200x600 with 1 Axes>"
            ],
            "image/png": "[encoded data removed]"
          },
          "metadata": {}
        },
        {
          "output_type": "stream",
          "name": "stdout",
          "text": [
            "0.4222222222222222\n"
          ]
        }
      ]
    },
    {
      "cell_type": "markdown",
      "source": [
        "Lo bueno suele ser coger un tamaño pequeño, y un limite de iteraciones tipo 10."
      ],
      "metadata": {
        "id": "PaPGEmwsYo_b"
      }
    },
    {
      "cell_type": "markdown",
      "source": [
        "### Pytorch\n",
        "\n",
        "El siguente paso que vamos a seguir escombinar la forma de las NN con las QNN."
      ],
      "metadata": {
        "id": "atCal-NVhx2T"
      }
    },
    {
      "cell_type": "code",
      "source": [
        "# Necessary imports\n",
        "\n",
        "import numpy as np\n",
        "import matplotlib.pyplot as plt\n",
        "\n",
        "from torch import Tensor\n",
        "from torch.nn import Linear, CrossEntropyLoss, MSELoss\n",
        "from torch.optim import LBFGS\n",
        "\n",
        "from qiskit import QuantumCircuit\n",
        "from qiskit.utils import algorithm_globals\n",
        "from qiskit.circuit import Parameter\n",
        "from qiskit.circuit.library import RealAmplitudes, ZZFeatureMap\n",
        "from qiskit_machine_learning.neural_networks import SamplerQNN, EstimatorQNN\n",
        "from qiskit_machine_learning.connectors import TorchConnector\n",
        "\n",
        "# Set seed for random generators\n",
        "algorithm_globals.random_seed = 42"
      ],
      "metadata": {
        "id": "C3JOOQswipfu",
        "outputId": "a98b2362-a6fa-4e48-b8c3-85f67a16b7f3",
        "colab": {
          "base_uri": "https://localhost:8080/"
        }
      },
      "execution_count": 43,
      "outputs": [
        {
          "output_type": "stream",
          "name": "stderr",
          "text": [
            "<ipython-input-43-90557e24ff14>:18: DeprecationWarning: The property ``qiskit.utils.algorithm_globals.QiskitAlgorithmGlobals.random_seed`` is deprecated as of qiskit 0.45.0. It will be removed no earlier than 3 months after the release date. This algorithm utility has been migrated to an independent package: https://github.com/qiskit-community/qiskit-algorithms. You can run ``pip install qiskit_algorithms`` and import ``from qiskit_algorithms.utils`` instead. \n",
            "  algorithm_globals.random_seed = 42\n"
          ]
        }
      ]
    },
    {
      "cell_type": "code",
      "source": [
        "# Set up a circuit\n",
        "feature_map = ZZFeatureMap(input_dim)\n",
        "ansatz = RealAmplitudes(input_dim)\n",
        "qc = QuantumCircuit(input_dim)\n",
        "qc.compose(feature_map, inplace=True)\n",
        "qc.compose(ansatz, inplace=True)\n",
        "qc.draw(\"mpl\")"
      ],
      "metadata": {
        "id": "OSIuLfXgkqN9",
        "outputId": "e046cc5e-04f9-4abb-dc64-c831ce08d26a",
        "colab": {
          "base_uri": "https://localhost:8080/",
          "height": 305
        }
      },
      "execution_count": 49,
      "outputs": [
        {
          "output_type": "stream",
          "name": "stderr",
          "text": [
            "/usr/local/lib/python3.10/dist-packages/qiskit/visualization/circuit/matplotlib.py:266: FutureWarning: The default matplotlib drawer scheme will be changed to \"iqp\" in a following release. To silence this warning, specify the current default explicitly as style=\"clifford\", or the new default as style=\"iqp\".\n",
            "  self._style, def_font_ratio = load_style(self._style)\n"
          ]
        },
        {
          "output_type": "execute_result",
          "data": {
            "text/plain": [
              "<Figure size 1123.61x367.889 with 1 Axes>"
            ],
            "image/png": "[encoded data removed]"
          },
          "metadata": {},
          "execution_count": 49
        }
      ]
    },
    {
      "cell_type": "code",
      "source": [
        "# Setup QNN\n",
        "qnn1 = EstimatorQNN(\n",
        "    circuit=qc, input_params=feature_map.parameters, weight_params=ansatz.parameters\n",
        ")\n",
        "\n",
        "# Set up PyTorch module\n",
        "# Note: If we don't explicitly declare the initial weights\n",
        "# they are chosen uniformly at random from [-1, 1].\n",
        "initial_weights = 0.1 * (2 * algorithm_globals.random.random(qnn1.num_weights) - 1)\n",
        "model1 = TorchConnector(qnn1, initial_weights=initial_weights)\n",
        "print(\"Initial weights: \", initial_weights)"
      ],
      "metadata": {
        "id": "iKSxfP8Bk7q9",
        "outputId": "b0220adb-8d3b-4501-8c3b-9024c9cc36a3",
        "colab": {
          "base_uri": "https://localhost:8080/"
        }
      },
      "execution_count": 50,
      "outputs": [
        {
          "output_type": "stream",
          "name": "stdout",
          "text": [
            "Initial weights:  [ 0.05479121 -0.01222431  0.07171958  0.03947361 -0.08116453  0.09512447\n",
            "  0.05222794  0.05721286 -0.07437727 -0.00992281 -0.0258404   0.085353\n",
            "  0.02877302  0.06455232 -0.01131716 -0.05455226]\n"
          ]
        },
        {
          "output_type": "stream",
          "name": "stderr",
          "text": [
            "<ipython-input-50-1a9034c67aa2>:9: DeprecationWarning: The property ``qiskit.utils.algorithm_globals.QiskitAlgorithmGlobals.random`` is deprecated as of qiskit 0.45.0. It will be removed no earlier than 3 months after the release date. This algorithm utility has been migrated to an independent package: https://github.com/qiskit-community/qiskit-algorithms. You can run ``pip install qiskit_algorithms`` and import ``from qiskit_algorithms.utils`` instead. \n",
            "  initial_weights = 0.1 * (2 * algorithm_globals.random.random(qnn1.num_weights) - 1)\n"
          ]
        }
      ]
    },
    {
      "cell_type": "code",
      "source": [
        "# Define optimizer and loss\n",
        "optimizer = LBFGS(model1.parameters())\n",
        "f_loss = MSELoss(reduction=\"sum\")\n",
        "\n",
        "# Start training\n",
        "model1.train()  # set model to training mode\n",
        "\n",
        "\n",
        "# Note from (https://pytorch.org/docs/stable/optim.html):\n",
        "# Some optimization algorithms such as LBFGS need to\n",
        "# reevaluate the function multiple times, so you have to\n",
        "# pass in a closure that allows them to recompute your model.\n",
        "# The closure should clear the gradients, compute the loss,\n",
        "# and return it.\n",
        "def closure():\n",
        "    optimizer.zero_grad()  # Initialize/clear gradients\n",
        "    loss = f_loss(model1(X), y_)  # Evaluate loss function\n",
        "    loss.backward()  # Backward pass\n",
        "    print(loss.item())  # Print loss\n",
        "    return loss\n",
        "\n",
        "\n",
        "# Run optimizer step4\n",
        "optimizer.step(closure)"
      ],
      "metadata": {
        "id": "6Jf6RAajlIrD",
        "outputId": "49e1f6bf-89d2-4cfd-a98c-8655f04d1af3",
        "colab": {
          "base_uri": "https://localhost:8080/",
          "height": 405
        }
      },
      "execution_count": 54,
      "outputs": [
        {
          "output_type": "error",
          "ename": "IndexError",
          "evalue": "ignored",
          "traceback": [
            "\u001b[0;31m---------------------------------------------------------------------------\u001b[0m",
            "\u001b[0;31mIndexError\u001b[0m                                Traceback (most recent call last)",
            "\u001b[0;32m<ipython-input-54-b8ebb67e735f>\u001b[0m in \u001b[0;36m<cell line: 24>\u001b[0;34m()\u001b[0m\n\u001b[1;32m     22\u001b[0m \u001b[0;34m\u001b[0m\u001b[0m\n\u001b[1;32m     23\u001b[0m \u001b[0;31m# Run optimizer step4\u001b[0m\u001b[0;34m\u001b[0m\u001b[0;34m\u001b[0m\u001b[0m\n\u001b[0;32m---> 24\u001b[0;31m \u001b[0moptimizer\u001b[0m\u001b[0;34m.\u001b[0m\u001b[0mstep\u001b[0m\u001b[0;34m(\u001b[0m\u001b[0mclosure\u001b[0m\u001b[0;34m)\u001b[0m\u001b[0;34m\u001b[0m\u001b[0;34m\u001b[0m\u001b[0m\n\u001b[0m",
            "\u001b[0;32m/usr/local/lib/python3.10/dist-packages/torch/optim/optimizer.py\u001b[0m in \u001b[0;36mwrapper\u001b[0;34m(*args, **kwargs)\u001b[0m\n\u001b[1;32m    371\u001b[0m                             )\n\u001b[1;32m    372\u001b[0m \u001b[0;34m\u001b[0m\u001b[0m\n\u001b[0;32m--> 373\u001b[0;31m                 \u001b[0mout\u001b[0m \u001b[0;34m=\u001b[0m \u001b[0mfunc\u001b[0m\u001b[0;34m(\u001b[0m\u001b[0;34m*\u001b[0m\u001b[0margs\u001b[0m\u001b[0;34m,\u001b[0m \u001b[0;34m**\u001b[0m\u001b[0mkwargs\u001b[0m\u001b[0;34m)\u001b[0m\u001b[0;34m\u001b[0m\u001b[0;34m\u001b[0m\u001b[0m\n\u001b[0m\u001b[1;32m    374\u001b[0m                 \u001b[0mself\u001b[0m\u001b[0;34m.\u001b[0m\u001b[0m_optimizer_step_code\u001b[0m\u001b[0;34m(\u001b[0m\u001b[0;34m)\u001b[0m\u001b[0;34m\u001b[0m\u001b[0;34m\u001b[0m\u001b[0m\n\u001b[1;32m    375\u001b[0m \u001b[0;34m\u001b[0m\u001b[0m\n",
            "\u001b[0;32m/usr/local/lib/python3.10/dist-packages/torch/utils/_contextlib.py\u001b[0m in \u001b[0;36mdecorate_context\u001b[0;34m(*args, **kwargs)\u001b[0m\n\u001b[1;32m    113\u001b[0m     \u001b[0;32mdef\u001b[0m \u001b[0mdecorate_context\u001b[0m\u001b[0;34m(\u001b[0m\u001b[0;34m*\u001b[0m\u001b[0margs\u001b[0m\u001b[0;34m,\u001b[0m \u001b[0;34m**\u001b[0m\u001b[0mkwargs\u001b[0m\u001b[0;34m)\u001b[0m\u001b[0;34m:\u001b[0m\u001b[0;34m\u001b[0m\u001b[0;34m\u001b[0m\u001b[0m\n\u001b[1;32m    114\u001b[0m         \u001b[0;32mwith\u001b[0m \u001b[0mctx_factory\u001b[0m\u001b[0;34m(\u001b[0m\u001b[0;34m)\u001b[0m\u001b[0;34m:\u001b[0m\u001b[0;34m\u001b[0m\u001b[0;34m\u001b[0m\u001b[0m\n\u001b[0;32m--> 115\u001b[0;31m             \u001b[0;32mreturn\u001b[0m \u001b[0mfunc\u001b[0m\u001b[0;34m(\u001b[0m\u001b[0;34m*\u001b[0m\u001b[0margs\u001b[0m\u001b[0;34m,\u001b[0m \u001b[0;34m**\u001b[0m\u001b[0mkwargs\u001b[0m\u001b[0;34m)\u001b[0m\u001b[0;34m\u001b[0m\u001b[0;34m\u001b[0m\u001b[0m\n\u001b[0m\u001b[1;32m    116\u001b[0m \u001b[0;34m\u001b[0m\u001b[0m\n\u001b[1;32m    117\u001b[0m     \u001b[0;32mreturn\u001b[0m \u001b[0mdecorate_context\u001b[0m\u001b[0;34m\u001b[0m\u001b[0;34m\u001b[0m\u001b[0m\n",
            "\u001b[0;32m/usr/local/lib/python3.10/dist-packages/torch/optim/lbfgs.py\u001b[0m in \u001b[0;36mstep\u001b[0;34m(self, closure)\u001b[0m\n\u001b[1;32m    310\u001b[0m \u001b[0;34m\u001b[0m\u001b[0m\n\u001b[1;32m    311\u001b[0m         \u001b[0;31m# evaluate initial f(x) and df/dx\u001b[0m\u001b[0;34m\u001b[0m\u001b[0;34m\u001b[0m\u001b[0m\n\u001b[0;32m--> 312\u001b[0;31m         \u001b[0morig_loss\u001b[0m \u001b[0;34m=\u001b[0m \u001b[0mclosure\u001b[0m\u001b[0;34m(\u001b[0m\u001b[0;34m)\u001b[0m\u001b[0;34m\u001b[0m\u001b[0;34m\u001b[0m\u001b[0m\n\u001b[0m\u001b[1;32m    313\u001b[0m         \u001b[0mloss\u001b[0m \u001b[0;34m=\u001b[0m \u001b[0mfloat\u001b[0m\u001b[0;34m(\u001b[0m\u001b[0morig_loss\u001b[0m\u001b[0;34m)\u001b[0m\u001b[0;34m\u001b[0m\u001b[0;34m\u001b[0m\u001b[0m\n\u001b[1;32m    314\u001b[0m         \u001b[0mcurrent_evals\u001b[0m \u001b[0;34m=\u001b[0m \u001b[0;36m1\u001b[0m\u001b[0;34m\u001b[0m\u001b[0;34m\u001b[0m\u001b[0m\n",
            "\u001b[0;32m/usr/local/lib/python3.10/dist-packages/torch/utils/_contextlib.py\u001b[0m in \u001b[0;36mdecorate_context\u001b[0;34m(*args, **kwargs)\u001b[0m\n\u001b[1;32m    113\u001b[0m     \u001b[0;32mdef\u001b[0m \u001b[0mdecorate_context\u001b[0m\u001b[0;34m(\u001b[0m\u001b[0;34m*\u001b[0m\u001b[0margs\u001b[0m\u001b[0;34m,\u001b[0m \u001b[0;34m**\u001b[0m\u001b[0mkwargs\u001b[0m\u001b[0;34m)\u001b[0m\u001b[0;34m:\u001b[0m\u001b[0;34m\u001b[0m\u001b[0;34m\u001b[0m\u001b[0m\n\u001b[1;32m    114\u001b[0m         \u001b[0;32mwith\u001b[0m \u001b[0mctx_factory\u001b[0m\u001b[0;34m(\u001b[0m\u001b[0;34m)\u001b[0m\u001b[0;34m:\u001b[0m\u001b[0;34m\u001b[0m\u001b[0;34m\u001b[0m\u001b[0m\n\u001b[0;32m--> 115\u001b[0;31m             \u001b[0;32mreturn\u001b[0m \u001b[0mfunc\u001b[0m\u001b[0;34m(\u001b[0m\u001b[0;34m*\u001b[0m\u001b[0margs\u001b[0m\u001b[0;34m,\u001b[0m \u001b[0;34m**\u001b[0m\u001b[0mkwargs\u001b[0m\u001b[0;34m)\u001b[0m\u001b[0;34m\u001b[0m\u001b[0;34m\u001b[0m\u001b[0m\n\u001b[0m\u001b[1;32m    116\u001b[0m \u001b[0;34m\u001b[0m\u001b[0m\n\u001b[1;32m    117\u001b[0m     \u001b[0;32mreturn\u001b[0m \u001b[0mdecorate_context\u001b[0m\u001b[0;34m\u001b[0m\u001b[0;34m\u001b[0m\u001b[0m\n",
            "\u001b[0;32m<ipython-input-54-b8ebb67e735f>\u001b[0m in \u001b[0;36mclosure\u001b[0;34m()\u001b[0m\n\u001b[1;32m     15\u001b[0m \u001b[0;32mdef\u001b[0m \u001b[0mclosure\u001b[0m\u001b[0;34m(\u001b[0m\u001b[0;34m)\u001b[0m\u001b[0;34m:\u001b[0m\u001b[0;34m\u001b[0m\u001b[0;34m\u001b[0m\u001b[0m\n\u001b[1;32m     16\u001b[0m     \u001b[0moptimizer\u001b[0m\u001b[0;34m.\u001b[0m\u001b[0mzero_grad\u001b[0m\u001b[0;34m(\u001b[0m\u001b[0;34m)\u001b[0m  \u001b[0;31m# Initialize/clear gradients\u001b[0m\u001b[0;34m\u001b[0m\u001b[0;34m\u001b[0m\u001b[0m\n\u001b[0;32m---> 17\u001b[0;31m     \u001b[0mloss\u001b[0m \u001b[0;34m=\u001b[0m \u001b[0mf_loss\u001b[0m\u001b[0;34m(\u001b[0m\u001b[0mmodel1\u001b[0m\u001b[0;34m(\u001b[0m\u001b[0mX\u001b[0m\u001b[0;34m)\u001b[0m\u001b[0;34m,\u001b[0m \u001b[0my_\u001b[0m\u001b[0;34m)\u001b[0m  \u001b[0;31m# Evaluate loss function\u001b[0m\u001b[0;34m\u001b[0m\u001b[0;34m\u001b[0m\u001b[0m\n\u001b[0m\u001b[1;32m     18\u001b[0m     \u001b[0mloss\u001b[0m\u001b[0;34m.\u001b[0m\u001b[0mbackward\u001b[0m\u001b[0;34m(\u001b[0m\u001b[0;34m)\u001b[0m  \u001b[0;31m# Backward pass\u001b[0m\u001b[0;34m\u001b[0m\u001b[0;34m\u001b[0m\u001b[0m\n\u001b[1;32m     19\u001b[0m     \u001b[0mprint\u001b[0m\u001b[0;34m(\u001b[0m\u001b[0mloss\u001b[0m\u001b[0;34m.\u001b[0m\u001b[0mitem\u001b[0m\u001b[0;34m(\u001b[0m\u001b[0;34m)\u001b[0m\u001b[0;34m)\u001b[0m  \u001b[0;31m# Print loss\u001b[0m\u001b[0;34m\u001b[0m\u001b[0;34m\u001b[0m\u001b[0m\n",
            "\u001b[0;32m/usr/local/lib/python3.10/dist-packages/torch/nn/modules/module.py\u001b[0m in \u001b[0;36m_wrapped_call_impl\u001b[0;34m(self, *args, **kwargs)\u001b[0m\n\u001b[1;32m   1516\u001b[0m             \u001b[0;32mreturn\u001b[0m \u001b[0mself\u001b[0m\u001b[0;34m.\u001b[0m\u001b[0m_compiled_call_impl\u001b[0m\u001b[0;34m(\u001b[0m\u001b[0;34m*\u001b[0m\u001b[0margs\u001b[0m\u001b[0;34m,\u001b[0m \u001b[0;34m**\u001b[0m\u001b[0mkwargs\u001b[0m\u001b[0;34m)\u001b[0m  \u001b[0;31m# type: ignore[misc]\u001b[0m\u001b[0;34m\u001b[0m\u001b[0;34m\u001b[0m\u001b[0m\n\u001b[1;32m   1517\u001b[0m         \u001b[0;32melse\u001b[0m\u001b[0;34m:\u001b[0m\u001b[0;34m\u001b[0m\u001b[0;34m\u001b[0m\u001b[0m\n\u001b[0;32m-> 1518\u001b[0;31m             \u001b[0;32mreturn\u001b[0m \u001b[0mself\u001b[0m\u001b[0;34m.\u001b[0m\u001b[0m_call_impl\u001b[0m\u001b[0;34m(\u001b[0m\u001b[0;34m*\u001b[0m\u001b[0margs\u001b[0m\u001b[0;34m,\u001b[0m \u001b[0;34m**\u001b[0m\u001b[0mkwargs\u001b[0m\u001b[0;34m)\u001b[0m\u001b[0;34m\u001b[0m\u001b[0;34m\u001b[0m\u001b[0m\n\u001b[0m\u001b[1;32m   1519\u001b[0m \u001b[0;34m\u001b[0m\u001b[0m\n\u001b[1;32m   1520\u001b[0m     \u001b[0;32mdef\u001b[0m \u001b[0m_call_impl\u001b[0m\u001b[0;34m(\u001b[0m\u001b[0mself\u001b[0m\u001b[0;34m,\u001b[0m \u001b[0;34m*\u001b[0m\u001b[0margs\u001b[0m\u001b[0;34m,\u001b[0m \u001b[0;34m**\u001b[0m\u001b[0mkwargs\u001b[0m\u001b[0;34m)\u001b[0m\u001b[0;34m:\u001b[0m\u001b[0;34m\u001b[0m\u001b[0;34m\u001b[0m\u001b[0m\n",
            "\u001b[0;32m/usr/local/lib/python3.10/dist-packages/torch/nn/modules/module.py\u001b[0m in \u001b[0;36m_call_impl\u001b[0;34m(self, *args, **kwargs)\u001b[0m\n\u001b[1;32m   1525\u001b[0m                 \u001b[0;32mor\u001b[0m \u001b[0m_global_backward_pre_hooks\u001b[0m \u001b[0;32mor\u001b[0m \u001b[0m_global_backward_hooks\u001b[0m\u001b[0;34m\u001b[0m\u001b[0;34m\u001b[0m\u001b[0m\n\u001b[1;32m   1526\u001b[0m                 or _global_forward_hooks or _global_forward_pre_hooks):\n\u001b[0;32m-> 1527\u001b[0;31m             \u001b[0;32mreturn\u001b[0m \u001b[0mforward_call\u001b[0m\u001b[0;34m(\u001b[0m\u001b[0;34m*\u001b[0m\u001b[0margs\u001b[0m\u001b[0;34m,\u001b[0m \u001b[0;34m**\u001b[0m\u001b[0mkwargs\u001b[0m\u001b[0;34m)\u001b[0m\u001b[0;34m\u001b[0m\u001b[0;34m\u001b[0m\u001b[0m\n\u001b[0m\u001b[1;32m   1528\u001b[0m \u001b[0;34m\u001b[0m\u001b[0m\n\u001b[1;32m   1529\u001b[0m         \u001b[0;32mtry\u001b[0m\u001b[0;34m:\u001b[0m\u001b[0;34m\u001b[0m\u001b[0;34m\u001b[0m\u001b[0m\n",
            "\u001b[0;32m/usr/local/lib/python3.10/dist-packages/qiskit_machine_learning/connectors/torch_connector.py\u001b[0m in \u001b[0;36mforward\u001b[0;34m(self, input_data)\u001b[0m\n\u001b[1;32m    331\u001b[0m         \"\"\"\n\u001b[1;32m    332\u001b[0m         \u001b[0minput_\u001b[0m \u001b[0;34m=\u001b[0m \u001b[0minput_data\u001b[0m \u001b[0;32mif\u001b[0m \u001b[0minput_data\u001b[0m \u001b[0;32mis\u001b[0m \u001b[0;32mnot\u001b[0m \u001b[0;32mNone\u001b[0m \u001b[0;32melse\u001b[0m \u001b[0mtorch\u001b[0m\u001b[0;34m.\u001b[0m\u001b[0mzeros\u001b[0m\u001b[0;34m(\u001b[0m\u001b[0;36m0\u001b[0m\u001b[0;34m)\u001b[0m\u001b[0;34m\u001b[0m\u001b[0;34m\u001b[0m\u001b[0m\n\u001b[0;32m--> 333\u001b[0;31m         return TorchConnector._TorchNNFunction.apply(\n\u001b[0m\u001b[1;32m    334\u001b[0m             \u001b[0minput_\u001b[0m\u001b[0;34m,\u001b[0m \u001b[0mself\u001b[0m\u001b[0;34m.\u001b[0m\u001b[0m_weights\u001b[0m\u001b[0;34m,\u001b[0m \u001b[0mself\u001b[0m\u001b[0;34m.\u001b[0m\u001b[0m_neural_network\u001b[0m\u001b[0;34m,\u001b[0m \u001b[0mself\u001b[0m\u001b[0;34m.\u001b[0m\u001b[0m_sparse\u001b[0m\u001b[0;34m\u001b[0m\u001b[0;34m\u001b[0m\u001b[0m\n\u001b[1;32m    335\u001b[0m         )\n",
            "\u001b[0;32m/usr/local/lib/python3.10/dist-packages/torch/autograd/function.py\u001b[0m in \u001b[0;36mapply\u001b[0;34m(cls, *args, **kwargs)\u001b[0m\n\u001b[1;32m    537\u001b[0m             \u001b[0;31m# See NOTE: [functorch vjp and autograd interaction]\u001b[0m\u001b[0;34m\u001b[0m\u001b[0;34m\u001b[0m\u001b[0m\n\u001b[1;32m    538\u001b[0m             \u001b[0margs\u001b[0m \u001b[0;34m=\u001b[0m \u001b[0m_functorch\u001b[0m\u001b[0;34m.\u001b[0m\u001b[0mutils\u001b[0m\u001b[0;34m.\u001b[0m\u001b[0munwrap_dead_wrappers\u001b[0m\u001b[0;34m(\u001b[0m\u001b[0margs\u001b[0m\u001b[0;34m)\u001b[0m\u001b[0;34m\u001b[0m\u001b[0;34m\u001b[0m\u001b[0m\n\u001b[0;32m--> 539\u001b[0;31m             \u001b[0;32mreturn\u001b[0m \u001b[0msuper\u001b[0m\u001b[0;34m(\u001b[0m\u001b[0;34m)\u001b[0m\u001b[0;34m.\u001b[0m\u001b[0mapply\u001b[0m\u001b[0;34m(\u001b[0m\u001b[0;34m*\u001b[0m\u001b[0margs\u001b[0m\u001b[0;34m,\u001b[0m \u001b[0;34m**\u001b[0m\u001b[0mkwargs\u001b[0m\u001b[0;34m)\u001b[0m  \u001b[0;31m# type: ignore[misc]\u001b[0m\u001b[0;34m\u001b[0m\u001b[0;34m\u001b[0m\u001b[0m\n\u001b[0m\u001b[1;32m    540\u001b[0m \u001b[0;34m\u001b[0m\u001b[0m\n\u001b[1;32m    541\u001b[0m         \u001b[0;32mif\u001b[0m \u001b[0mcls\u001b[0m\u001b[0;34m.\u001b[0m\u001b[0msetup_context\u001b[0m \u001b[0;34m==\u001b[0m \u001b[0m_SingleLevelFunction\u001b[0m\u001b[0;34m.\u001b[0m\u001b[0msetup_context\u001b[0m\u001b[0;34m:\u001b[0m\u001b[0;34m\u001b[0m\u001b[0;34m\u001b[0m\u001b[0m\n",
            "\u001b[0;32m/usr/local/lib/python3.10/dist-packages/qiskit_machine_learning/connectors/torch_connector.py\u001b[0m in \u001b[0;36mforward\u001b[0;34m(ctx, input_data, weights, neural_network, sparse)\u001b[0m\n\u001b[1;32m     85\u001b[0m \u001b[0;34m\u001b[0m\u001b[0m\n\u001b[1;32m     86\u001b[0m             \u001b[0;31m# validate input shape\u001b[0m\u001b[0;34m\u001b[0m\u001b[0;34m\u001b[0m\u001b[0m\n\u001b[0;32m---> 87\u001b[0;31m             \u001b[0;32mif\u001b[0m \u001b[0minput_data\u001b[0m\u001b[0;34m.\u001b[0m\u001b[0mshape\u001b[0m\u001b[0;34m[\u001b[0m\u001b[0;34m-\u001b[0m\u001b[0;36m1\u001b[0m\u001b[0;34m]\u001b[0m \u001b[0;34m!=\u001b[0m \u001b[0mneural_network\u001b[0m\u001b[0;34m.\u001b[0m\u001b[0mnum_inputs\u001b[0m\u001b[0;34m:\u001b[0m\u001b[0;34m\u001b[0m\u001b[0;34m\u001b[0m\u001b[0m\n\u001b[0m\u001b[1;32m     88\u001b[0m                 raise QiskitMachineLearningError(\n\u001b[1;32m     89\u001b[0m                     \u001b[0;34mf\"Invalid input dimension! Received {input_data.shape} and \"\u001b[0m\u001b[0;34m\u001b[0m\u001b[0;34m\u001b[0m\u001b[0m\n",
            "\u001b[0;31mIndexError\u001b[0m: tuple index out of range"
          ]
        }
      ]
    }
  ]
}