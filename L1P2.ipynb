{
  "cells": [
    {
      "cell_type": "markdown",
      "metadata": {
        "id": "view-in-github",
        "colab_type": "text"
      },
      "source": [
        "<a href=\"https://colab.research.google.com/github/patriciamediavilla/L1P2/blob/main/L1P2.ipynb\" target=\"_parent\"><img src=\"https://colab.research.google.com/assets/colab-badge.svg\" alt=\"Open In Colab\"/></a>"
      ]
    },
    {
      "cell_type": "markdown",
      "source": [
        "PILAR ARIAS, YEDRA MARTÍN, PATRICIA MEDIAVILLA, AMAYA SARASA\n",
        "\n",
        "<GRUPO 9>"
      ],
      "metadata": {
        "id": "kHEnWZsNJqxf"
      },
      "id": "kHEnWZsNJqxf"
    },
    {
      "cell_type": "markdown",
      "source": [
        "#Práctica 2"
      ],
      "metadata": {
        "id": "D1BN2uCfubc1"
      },
      "id": "D1BN2uCfubc1"
    },
    {
      "cell_type": "markdown",
      "source": [
        "##INTRODUCCIÓN"
      ],
      "metadata": {
        "id": "W_B14sgMKNmZ"
      },
      "id": "W_B14sgMKNmZ"
    },
    {
      "cell_type": "markdown",
      "source": [
        "Esta es la segunda práctica del primer laboratorio. Dada una base de datos en formato .csv, se nos pide contestar a una serie de cuestiones. Para ello, lo primero que debemos hacer es cargar y leer la base de datos:"
      ],
      "metadata": {
        "id": "VlRcgemyKVhj"
      },
      "id": "VlRcgemyKVhj"
    },
    {
      "cell_type": "code",
      "execution_count": 1,
      "id": "e96c2f3c",
      "metadata": {
        "id": "e96c2f3c",
        "outputId": "711ae330-7b38-4373-bef2-6c955f9c07b1",
        "colab": {
          "base_uri": "https://localhost:8080/",
          "height": 686
        }
      },
      "outputs": [
        {
          "output_type": "stream",
          "name": "stdout",
          "text": [
            "<class 'pandas.core.frame.DataFrame'>\n",
            "RangeIndex: 45211 entries, 0 to 45210\n",
            "Data columns (total 17 columns):\n",
            " #   Column     Non-Null Count  Dtype \n",
            "---  ------     --------------  ----- \n",
            " 0   age        45211 non-null  int64 \n",
            " 1   job        45211 non-null  object\n",
            " 2   marital    45211 non-null  object\n",
            " 3   education  45211 non-null  object\n",
            " 4   default    45211 non-null  object\n",
            " 5   balance    45211 non-null  int64 \n",
            " 6   housing    45211 non-null  object\n",
            " 7   loan       45211 non-null  object\n",
            " 8   contact    45211 non-null  object\n",
            " 9   day        45211 non-null  int64 \n",
            " 10  month      45211 non-null  object\n",
            " 11  duration   45211 non-null  int64 \n",
            " 12  campaign   45211 non-null  int64 \n",
            " 13  pdays      45211 non-null  int64 \n",
            " 14  previous   45211 non-null  int64 \n",
            " 15  poutcome   45211 non-null  object\n",
            " 16  y          45211 non-null  object\n",
            "dtypes: int64(7), object(10)\n",
            "memory usage: 5.9+ MB\n"
          ]
        },
        {
          "output_type": "execute_result",
          "data": {
            "text/plain": [
              "   age           job  marital  education default  balance housing loan  \\\n",
              "0   58    management  married   tertiary      no     2143     yes   no   \n",
              "1   44    technician   single  secondary      no       29     yes   no   \n",
              "2   33  entrepreneur  married  secondary      no        2     yes  yes   \n",
              "3   47   blue-collar  married    unknown      no     1506     yes   no   \n",
              "4   33       unknown   single    unknown      no        1      no   no   \n",
              "\n",
              "   contact  day month  duration  campaign  pdays  previous poutcome   y  \n",
              "0  unknown    5   may       261         1     -1         0  unknown  no  \n",
              "1  unknown    5   may       151         1     -1         0  unknown  no  \n",
              "2  unknown    5   may        76         1     -1         0  unknown  no  \n",
              "3  unknown    5   may        92         1     -1         0  unknown  no  \n",
              "4  unknown    5   may       198         1     -1         0  unknown  no  "
            ],
            "text/html": [
              "\n",
              "  <div id=\"df-552493b2-02ee-4cbb-9065-c256a6149007\">\n",
              "    <div class=\"colab-df-container\">\n",
              "      <div>\n",
              "<style scoped>\n",
              "    .dataframe tbody tr th:only-of-type {\n",
              "        vertical-align: middle;\n",
              "    }\n",
              "\n",
              "    .dataframe tbody tr th {\n",
              "        vertical-align: top;\n",
              "    }\n",
              "\n",
              "    .dataframe thead th {\n",
              "        text-align: right;\n",
              "    }\n",
              "</style>\n",
              "<table border=\"1\" class=\"dataframe\">\n",
              "  <thead>\n",
              "    <tr style=\"text-align: right;\">\n",
              "      <th></th>\n",
              "      <th>age</th>\n",
              "      <th>job</th>\n",
              "      <th>marital</th>\n",
              "      <th>education</th>\n",
              "      <th>default</th>\n",
              "      <th>balance</th>\n",
              "      <th>housing</th>\n",
              "      <th>loan</th>\n",
              "      <th>contact</th>\n",
              "      <th>day</th>\n",
              "      <th>month</th>\n",
              "      <th>duration</th>\n",
              "      <th>campaign</th>\n",
              "      <th>pdays</th>\n",
              "      <th>previous</th>\n",
              "      <th>poutcome</th>\n",
              "      <th>y</th>\n",
              "    </tr>\n",
              "  </thead>\n",
              "  <tbody>\n",
              "    <tr>\n",
              "      <th>0</th>\n",
              "      <td>58</td>\n",
              "      <td>management</td>\n",
              "      <td>married</td>\n",
              "      <td>tertiary</td>\n",
              "      <td>no</td>\n",
              "      <td>2143</td>\n",
              "      <td>yes</td>\n",
              "      <td>no</td>\n",
              "      <td>unknown</td>\n",
              "      <td>5</td>\n",
              "      <td>may</td>\n",
              "      <td>261</td>\n",
              "      <td>1</td>\n",
              "      <td>-1</td>\n",
              "      <td>0</td>\n",
              "      <td>unknown</td>\n",
              "      <td>no</td>\n",
              "    </tr>\n",
              "    <tr>\n",
              "      <th>1</th>\n",
              "      <td>44</td>\n",
              "      <td>technician</td>\n",
              "      <td>single</td>\n",
              "      <td>secondary</td>\n",
              "      <td>no</td>\n",
              "      <td>29</td>\n",
              "      <td>yes</td>\n",
              "      <td>no</td>\n",
              "      <td>unknown</td>\n",
              "      <td>5</td>\n",
              "      <td>may</td>\n",
              "      <td>151</td>\n",
              "      <td>1</td>\n",
              "      <td>-1</td>\n",
              "      <td>0</td>\n",
              "      <td>unknown</td>\n",
              "      <td>no</td>\n",
              "    </tr>\n",
              "    <tr>\n",
              "      <th>2</th>\n",
              "      <td>33</td>\n",
              "      <td>entrepreneur</td>\n",
              "      <td>married</td>\n",
              "      <td>secondary</td>\n",
              "      <td>no</td>\n",
              "      <td>2</td>\n",
              "      <td>yes</td>\n",
              "      <td>yes</td>\n",
              "      <td>unknown</td>\n",
              "      <td>5</td>\n",
              "      <td>may</td>\n",
              "      <td>76</td>\n",
              "      <td>1</td>\n",
              "      <td>-1</td>\n",
              "      <td>0</td>\n",
              "      <td>unknown</td>\n",
              "      <td>no</td>\n",
              "    </tr>\n",
              "    <tr>\n",
              "      <th>3</th>\n",
              "      <td>47</td>\n",
              "      <td>blue-collar</td>\n",
              "      <td>married</td>\n",
              "      <td>unknown</td>\n",
              "      <td>no</td>\n",
              "      <td>1506</td>\n",
              "      <td>yes</td>\n",
              "      <td>no</td>\n",
              "      <td>unknown</td>\n",
              "      <td>5</td>\n",
              "      <td>may</td>\n",
              "      <td>92</td>\n",
              "      <td>1</td>\n",
              "      <td>-1</td>\n",
              "      <td>0</td>\n",
              "      <td>unknown</td>\n",
              "      <td>no</td>\n",
              "    </tr>\n",
              "    <tr>\n",
              "      <th>4</th>\n",
              "      <td>33</td>\n",
              "      <td>unknown</td>\n",
              "      <td>single</td>\n",
              "      <td>unknown</td>\n",
              "      <td>no</td>\n",
              "      <td>1</td>\n",
              "      <td>no</td>\n",
              "      <td>no</td>\n",
              "      <td>unknown</td>\n",
              "      <td>5</td>\n",
              "      <td>may</td>\n",
              "      <td>198</td>\n",
              "      <td>1</td>\n",
              "      <td>-1</td>\n",
              "      <td>0</td>\n",
              "      <td>unknown</td>\n",
              "      <td>no</td>\n",
              "    </tr>\n",
              "  </tbody>\n",
              "</table>\n",
              "</div>\n",
              "      <button class=\"colab-df-convert\" onclick=\"convertToInteractive('df-552493b2-02ee-4cbb-9065-c256a6149007')\"\n",
              "              title=\"Convert this dataframe to an interactive table.\"\n",
              "              style=\"display:none;\">\n",
              "        \n",
              "  <svg xmlns=\"http://www.w3.org/2000/svg\" height=\"24px\"viewBox=\"0 0 24 24\"\n",
              "       width=\"24px\">\n",
              "    <path d=\"M0 0h24v24H0V0z\" fill=\"none\"/>\n",
              "    <path d=\"M18.56 5.44l.94 2.06.94-2.06 2.06-.94-2.06-.94-.94-2.06-.94 2.06-2.06.94zm-11 1L8.5 8.5l.94-2.06 2.06-.94-2.06-.94L8.5 2.5l-.94 2.06-2.06.94zm10 10l.94 2.06.94-2.06 2.06-.94-2.06-.94-.94-2.06-.94 2.06-2.06.94z\"/><path d=\"M17.41 7.96l-1.37-1.37c-.4-.4-.92-.59-1.43-.59-.52 0-1.04.2-1.43.59L10.3 9.45l-7.72 7.72c-.78.78-.78 2.05 0 2.83L4 21.41c.39.39.9.59 1.41.59.51 0 1.02-.2 1.41-.59l7.78-7.78 2.81-2.81c.8-.78.8-2.07 0-2.86zM5.41 20L4 18.59l7.72-7.72 1.47 1.35L5.41 20z\"/>\n",
              "  </svg>\n",
              "      </button>\n",
              "      \n",
              "  <style>\n",
              "    .colab-df-container {\n",
              "      display:flex;\n",
              "      flex-wrap:wrap;\n",
              "      gap: 12px;\n",
              "    }\n",
              "\n",
              "    .colab-df-convert {\n",
              "      background-color: #E8F0FE;\n",
              "      border: none;\n",
              "      border-radius: 50%;\n",
              "      cursor: pointer;\n",
              "      display: none;\n",
              "      fill: #1967D2;\n",
              "      height: 32px;\n",
              "      padding: 0 0 0 0;\n",
              "      width: 32px;\n",
              "    }\n",
              "\n",
              "    .colab-df-convert:hover {\n",
              "      background-color: #E2EBFA;\n",
              "      box-shadow: 0px 1px 2px rgba(60, 64, 67, 0.3), 0px 1px 3px 1px rgba(60, 64, 67, 0.15);\n",
              "      fill: #174EA6;\n",
              "    }\n",
              "\n",
              "    [theme=dark] .colab-df-convert {\n",
              "      background-color: #3B4455;\n",
              "      fill: #D2E3FC;\n",
              "    }\n",
              "\n",
              "    [theme=dark] .colab-df-convert:hover {\n",
              "      background-color: #434B5C;\n",
              "      box-shadow: 0px 1px 3px 1px rgba(0, 0, 0, 0.15);\n",
              "      filter: drop-shadow(0px 1px 2px rgba(0, 0, 0, 0.3));\n",
              "      fill: #FFFFFF;\n",
              "    }\n",
              "  </style>\n",
              "\n",
              "      <script>\n",
              "        const buttonEl =\n",
              "          document.querySelector('#df-552493b2-02ee-4cbb-9065-c256a6149007 button.colab-df-convert');\n",
              "        buttonEl.style.display =\n",
              "          google.colab.kernel.accessAllowed ? 'block' : 'none';\n",
              "\n",
              "        async function convertToInteractive(key) {\n",
              "          const element = document.querySelector('#df-552493b2-02ee-4cbb-9065-c256a6149007');\n",
              "          const dataTable =\n",
              "            await google.colab.kernel.invokeFunction('convertToInteractive',\n",
              "                                                     [key], {});\n",
              "          if (!dataTable) return;\n",
              "\n",
              "          const docLinkHtml = 'Like what you see? Visit the ' +\n",
              "            '<a target=\"_blank\" href=https://colab.research.google.com/notebooks/data_table.ipynb>data table notebook</a>'\n",
              "            + ' to learn more about interactive tables.';\n",
              "          element.innerHTML = '';\n",
              "          dataTable['output_type'] = 'display_data';\n",
              "          await google.colab.output.renderOutput(dataTable, element);\n",
              "          const docLink = document.createElement('div');\n",
              "          docLink.innerHTML = docLinkHtml;\n",
              "          element.appendChild(docLink);\n",
              "        }\n",
              "      </script>\n",
              "    </div>\n",
              "  </div>\n",
              "  "
            ]
          },
          "metadata": {},
          "execution_count": 1
        }
      ],
      "source": [
        "#Importamos las librerías y la base de datos necesarias\n",
        "\n",
        "import numpy as np #numpy\n",
        "import pandas as pd #pandas\n",
        "import sklearn as sk #scikit-learn\n",
        "import matplotlib.pyplot as plt #gráfica Matplotlib\n",
        "import seaborn as sns #\n",
        "from pandas.core.groupby.ops import DataFrame \n",
        "\n",
        "df = pd.read_csv('banco_ufv.csv',sep=';')\n",
        "df.info()\n",
        "df.head()"
      ]
    },
    {
      "cell_type": "markdown",
      "source": [
        "Subimos la base de datos, df.info nos aporta la infomación que contiene la base de datos, vemos las variables, el tipo de las variables con las que trabajamos... y .head vamos a ver que foram tiene la base de datos y las primeras filas de esta."
      ],
      "metadata": {
        "id": "zckW9TXIs6DB"
      },
      "id": "zckW9TXIs6DB"
    },
    {
      "cell_type": "markdown",
      "source": [
        "Según se ha estudiado en clase, encontramos dos métodos para afrontarlo. Nos decantaremos por CRISP-DM. Las siglas para: CRoss-Industry Standard Process for Data Mining. \n",
        "\n",
        "Es un modelo de proceso de minería de datos que se utiliza en la industria. Es un marco de trabajo que define un proceso estandarizado para llevar a cabo proyectos de minería de datos, desde la definición del problema hasta la implementación y evaluación del resultado. Los seis pasos que componen Crisp-DM son los siguientes:\n",
        "\n",
        "- Comprensión de los negocios y definición del problema: comprender la naturaleza del problema y los objetivos de negocio.\n",
        "\n",
        "- Comprensión de los datos: recopilación inicial, descripción y exploración  de datos.\n",
        "\n",
        "- Preparación de los datos: Selección, limpieza, construcción, integración, formateo de los datos.\n",
        "\n",
        "- Modelado: aplicar las técnicas de minería de datos a los dataset.\n",
        "\n",
        "- Evaluación: determinar si los resultados son útiles a las necesidades del negocio.\n",
        "\n",
        "- Despliegue: explotar utilidad de los modelos, integrándolos en las tareas de toma de decisiones de la organización -> Call to Action. \n"
      ],
      "metadata": {
        "id": "g397Sp0DuT8O"
      },
      "id": "g397Sp0DuT8O"
    },
    {
      "cell_type": "markdown",
      "source": [
        "## Comprensión del negocio y definición del problema.\n",
        "\n",
        "La sucursal del Banco Santander situada en el campus de la Universidad Francisco de Vitoria nos solicita hacer varios estudios de sus clientes. \n",
        "\n",
        "Para ello haremos uso de un dataset proporcionado por la propia sucursal que \n",
        "se puede encontrar en Moodle.\n",
        "\n",
        "En este trabajo vamos a trabjar con los datos proporcionados por esta sucursal, en concreto vamos a: averigual la relación entre el saldo en la cuneta de banco y los estudios que tienen cada una de las personas, después vsmos a ver las edades de los clientes de las sucursal de este banco y por último vamos a ver como de 'fieles' son los clientes con los que cuenta esta sucursal, es decir, cuanto tiempo lleva cada cliente haciendo uso de esta sucursal.\n",
        "\n",
        "Este tipo de información se suele querer utilizar para estudios estadísticos, y para guardar información.\n",
        "\n",
        "\n",
        "\n",
        "\n"
      ],
      "metadata": {
        "id": "6EKBOjDFIV6p"
      },
      "id": "6EKBOjDFIV6p"
    },
    {
      "cell_type": "markdown",
      "source": [
        "## Comprensión de los datos\n",
        "\n",
        "La base de datos que utilizaremos consta de 45211 observaciones\n",
        "\n",
        "Existen 17 tipos de atributos distintos entre ellos: age, job, marital y muchos más.\n",
        "\n",
        "Siguiendo las especificaciones dadas, para poder resolver todas las dudas que se nos plantearán solo requeriremos trabajar con los siguientes 4 atributos.\n",
        "\n",
        "- age (edad)\n",
        "- education (nivel de educación)\n",
        "- balance (balance de la cuenta)\n",
        "- duration (tiempo que llevan como clientes)\n",
        "\n",
        "Por lo tanto seguiremos adelante solo considerando estos 4 atributos, lo que positivamente afectará nuestra rapidez a la hora de avanzar en la resolución de los problemas planteados."
      ],
      "metadata": {
        "id": "3Ncb60qeMd47"
      },
      "id": "3Ncb60qeMd47"
    },
    {
      "cell_type": "code",
      "execution_count": 2,
      "id": "0b65f91a",
      "metadata": {
        "id": "0b65f91a",
        "outputId": "d22c99d8-1ffe-4e68-de78-9182cc5ce4d5",
        "colab": {
          "base_uri": "https://localhost:8080/",
          "height": 206
        }
      },
      "outputs": [
        {
          "output_type": "execute_result",
          "data": {
            "text/plain": [
              "   age  education  balance  duration\n",
              "0   58   tertiary     2143       261\n",
              "1   44  secondary       29       151\n",
              "2   33  secondary        2        76\n",
              "3   47    unknown     1506        92\n",
              "4   33    unknown        1       198"
            ],
            "text/html": [
              "\n",
              "  <div id=\"df-442075bc-a2ed-4ff7-9590-61a595dca6bd\">\n",
              "    <div class=\"colab-df-container\">\n",
              "      <div>\n",
              "<style scoped>\n",
              "    .dataframe tbody tr th:only-of-type {\n",
              "        vertical-align: middle;\n",
              "    }\n",
              "\n",
              "    .dataframe tbody tr th {\n",
              "        vertical-align: top;\n",
              "    }\n",
              "\n",
              "    .dataframe thead th {\n",
              "        text-align: right;\n",
              "    }\n",
              "</style>\n",
              "<table border=\"1\" class=\"dataframe\">\n",
              "  <thead>\n",
              "    <tr style=\"text-align: right;\">\n",
              "      <th></th>\n",
              "      <th>age</th>\n",
              "      <th>education</th>\n",
              "      <th>balance</th>\n",
              "      <th>duration</th>\n",
              "    </tr>\n",
              "  </thead>\n",
              "  <tbody>\n",
              "    <tr>\n",
              "      <th>0</th>\n",
              "      <td>58</td>\n",
              "      <td>tertiary</td>\n",
              "      <td>2143</td>\n",
              "      <td>261</td>\n",
              "    </tr>\n",
              "    <tr>\n",
              "      <th>1</th>\n",
              "      <td>44</td>\n",
              "      <td>secondary</td>\n",
              "      <td>29</td>\n",
              "      <td>151</td>\n",
              "    </tr>\n",
              "    <tr>\n",
              "      <th>2</th>\n",
              "      <td>33</td>\n",
              "      <td>secondary</td>\n",
              "      <td>2</td>\n",
              "      <td>76</td>\n",
              "    </tr>\n",
              "    <tr>\n",
              "      <th>3</th>\n",
              "      <td>47</td>\n",
              "      <td>unknown</td>\n",
              "      <td>1506</td>\n",
              "      <td>92</td>\n",
              "    </tr>\n",
              "    <tr>\n",
              "      <th>4</th>\n",
              "      <td>33</td>\n",
              "      <td>unknown</td>\n",
              "      <td>1</td>\n",
              "      <td>198</td>\n",
              "    </tr>\n",
              "  </tbody>\n",
              "</table>\n",
              "</div>\n",
              "      <button class=\"colab-df-convert\" onclick=\"convertToInteractive('df-442075bc-a2ed-4ff7-9590-61a595dca6bd')\"\n",
              "              title=\"Convert this dataframe to an interactive table.\"\n",
              "              style=\"display:none;\">\n",
              "        \n",
              "  <svg xmlns=\"http://www.w3.org/2000/svg\" height=\"24px\"viewBox=\"0 0 24 24\"\n",
              "       width=\"24px\">\n",
              "    <path d=\"M0 0h24v24H0V0z\" fill=\"none\"/>\n",
              "    <path d=\"M18.56 5.44l.94 2.06.94-2.06 2.06-.94-2.06-.94-.94-2.06-.94 2.06-2.06.94zm-11 1L8.5 8.5l.94-2.06 2.06-.94-2.06-.94L8.5 2.5l-.94 2.06-2.06.94zm10 10l.94 2.06.94-2.06 2.06-.94-2.06-.94-.94-2.06-.94 2.06-2.06.94z\"/><path d=\"M17.41 7.96l-1.37-1.37c-.4-.4-.92-.59-1.43-.59-.52 0-1.04.2-1.43.59L10.3 9.45l-7.72 7.72c-.78.78-.78 2.05 0 2.83L4 21.41c.39.39.9.59 1.41.59.51 0 1.02-.2 1.41-.59l7.78-7.78 2.81-2.81c.8-.78.8-2.07 0-2.86zM5.41 20L4 18.59l7.72-7.72 1.47 1.35L5.41 20z\"/>\n",
              "  </svg>\n",
              "      </button>\n",
              "      \n",
              "  <style>\n",
              "    .colab-df-container {\n",
              "      display:flex;\n",
              "      flex-wrap:wrap;\n",
              "      gap: 12px;\n",
              "    }\n",
              "\n",
              "    .colab-df-convert {\n",
              "      background-color: #E8F0FE;\n",
              "      border: none;\n",
              "      border-radius: 50%;\n",
              "      cursor: pointer;\n",
              "      display: none;\n",
              "      fill: #1967D2;\n",
              "      height: 32px;\n",
              "      padding: 0 0 0 0;\n",
              "      width: 32px;\n",
              "    }\n",
              "\n",
              "    .colab-df-convert:hover {\n",
              "      background-color: #E2EBFA;\n",
              "      box-shadow: 0px 1px 2px rgba(60, 64, 67, 0.3), 0px 1px 3px 1px rgba(60, 64, 67, 0.15);\n",
              "      fill: #174EA6;\n",
              "    }\n",
              "\n",
              "    [theme=dark] .colab-df-convert {\n",
              "      background-color: #3B4455;\n",
              "      fill: #D2E3FC;\n",
              "    }\n",
              "\n",
              "    [theme=dark] .colab-df-convert:hover {\n",
              "      background-color: #434B5C;\n",
              "      box-shadow: 0px 1px 3px 1px rgba(0, 0, 0, 0.15);\n",
              "      filter: drop-shadow(0px 1px 2px rgba(0, 0, 0, 0.3));\n",
              "      fill: #FFFFFF;\n",
              "    }\n",
              "  </style>\n",
              "\n",
              "      <script>\n",
              "        const buttonEl =\n",
              "          document.querySelector('#df-442075bc-a2ed-4ff7-9590-61a595dca6bd button.colab-df-convert');\n",
              "        buttonEl.style.display =\n",
              "          google.colab.kernel.accessAllowed ? 'block' : 'none';\n",
              "\n",
              "        async function convertToInteractive(key) {\n",
              "          const element = document.querySelector('#df-442075bc-a2ed-4ff7-9590-61a595dca6bd');\n",
              "          const dataTable =\n",
              "            await google.colab.kernel.invokeFunction('convertToInteractive',\n",
              "                                                     [key], {});\n",
              "          if (!dataTable) return;\n",
              "\n",
              "          const docLinkHtml = 'Like what you see? Visit the ' +\n",
              "            '<a target=\"_blank\" href=https://colab.research.google.com/notebooks/data_table.ipynb>data table notebook</a>'\n",
              "            + ' to learn more about interactive tables.';\n",
              "          element.innerHTML = '';\n",
              "          dataTable['output_type'] = 'display_data';\n",
              "          await google.colab.output.renderOutput(dataTable, element);\n",
              "          const docLink = document.createElement('div');\n",
              "          docLink.innerHTML = docLinkHtml;\n",
              "          element.appendChild(docLink);\n",
              "        }\n",
              "      </script>\n",
              "    </div>\n",
              "  </div>\n",
              "  "
            ]
          },
          "metadata": {},
          "execution_count": 2
        }
      ],
      "source": [
        "#Reducimos nuestra base da datos a las varibales necesarias\n",
        "df=df[['age','education','balance','duration']]\n",
        "df.head()"
      ]
    },
    {
      "cell_type": "markdown",
      "source": [
        "## Preparación de los datos\n",
        "\n",
        "Para poder trabjar con los datos, lo primero que debemos hacer es observar si todos los datos son correctos, si son útiles, ver maneras de normalizarlos para optimizar el algoritmo...\n",
        "\n",
        "Lo primero que vamos a ver es sie stán completos, es decir si existen NaN en nuestra base de datos."
      ],
      "metadata": {
        "id": "BK8WCpG3vO2M"
      },
      "id": "BK8WCpG3vO2M"
    },
    {
      "cell_type": "code",
      "source": [
        "age_nan = df['age'].isna().sum()\n",
        "print(f\"La cantidad de NaN que existen en la variable age es:{age_nan}\")\n",
        "education_nan = df['education'].isna().sum()\n",
        "print(f\"La cantidad de NaN que existen en la variable education es:{education_nan}\")\n",
        "balance_nan = df['balance'].isna().sum()\n",
        "print(f\"La cantidad de NaN que existen en la variable balance es:{balance_nan}\")\n",
        "duration_nan = df['duration'].isna().sum()\n",
        "print(f\"La cantidad de NaN que existen en la variable duration es:{duration_nan}\")"
      ],
      "metadata": {
        "id": "J-wAUBAOwyWN",
        "outputId": "f1fe62b3-6b1b-465d-f7ae-a6057a34a4df",
        "colab": {
          "base_uri": "https://localhost:8080/"
        }
      },
      "id": "J-wAUBAOwyWN",
      "execution_count": 3,
      "outputs": [
        {
          "output_type": "stream",
          "name": "stdout",
          "text": [
            "La cantidad de NaN que existen en la variable age es:0\n",
            "La cantidad de NaN que existen en la variable education es:0\n",
            "La cantidad de NaN que existen en la variable balance es:0\n",
            "La cantidad de NaN que existen en la variable duration es:0\n"
          ]
        }
      ]
    },
    {
      "cell_type": "markdown",
      "source": [
        "En ninguna de nuestras variables hay datos faltantes, pero vamos a representarlas con un diagrama de cajas para ver si hay outliers y para entender mejro como se distribuyen los datos. ESto lo haremos con las variables: age, balnace y duration ya que eduaction no es una variable numérica y no se puede aplicar este método a esta variable en concreto."
      ],
      "metadata": {
        "id": "XuqvoCzZzBv0"
      },
      "id": "XuqvoCzZzBv0"
    },
    {
      "cell_type": "code",
      "source": [
        "df['age'].plot(kind='box', title='Age')"
      ],
      "metadata": {
        "id": "IsvpxYwAzVsa",
        "outputId": "7f910d8a-921b-46c2-f4aa-10221bb94c39",
        "colab": {
          "base_uri": "https://localhost:8080/",
          "height": 298
        }
      },
      "id": "IsvpxYwAzVsa",
      "execution_count": 4,
      "outputs": [
        {
          "output_type": "execute_result",
          "data": {
            "text/plain": [
              "<matplotlib.axes._subplots.AxesSubplot at 0x7f6e86471a00>"
            ]
          },
          "metadata": {},
          "execution_count": 4
        },
        {
          "output_type": "display_data",
          "data": {
            "text/plain": [
              "<Figure size 432x288 with 1 Axes>"
            ],
            "image/png": "[encoded data removed]"
          },
          "metadata": {
            "needs_background": "light"
          }
        }
      ]
    },
    {
      "cell_type": "markdown",
      "source": [
        "Hemos graficado con cajas la variable age(edad) y al observarlo, vemos que hay bastantes datos fuera de rango por arriba, es decir outliers. Sin embargo, vamos a ver si tiene sentido, para ello graficaremos los datos de otra manera para ver si tiene sentido."
      ],
      "metadata": {
        "id": "LMu97APBow92"
      },
      "id": "LMu97APBow92"
    },
    {
      "cell_type": "code",
      "source": [
        "plt.hist(df['age'])\n",
        "plt.xlabel(\"Años\")\n",
        "plt.ylabel(\"Cantidad\")\n",
        "plt.title(\"Age\")\n",
        "plt.show()"
      ],
      "metadata": {
        "colab": {
          "base_uri": "https://localhost:8080/",
          "height": 295
        },
        "id": "OMsL5fb7nmKt",
        "outputId": "9a0c0f4f-e96c-4144-8764-928d82d602ba"
      },
      "id": "OMsL5fb7nmKt",
      "execution_count": 5,
      "outputs": [
        {
          "output_type": "display_data",
          "data": {
            "text/plain": [
              "<Figure size 432x288 with 1 Axes>"
            ],
            "image/png": "[encoded data removed]"
          },
          "metadata": {
            "needs_background": "light"
          }
        }
      ]
    },
    {
      "cell_type": "markdown",
      "source": [
        "En esta gráfica, vemos que la mayoría de los valores están continidos entre 30 y 50, es decir, la mayoría de la gente que esta asociado a esta sucursal del banco Santander tiene esos años. Vemos que hay algunos más pequeños, podrían ser alumnos de la propia universidad. \n",
        "\n",
        "Los valores de más de 65 años, podrían considerarse valores erroneos, sin embargo, esta sucursal no es únicamente de estudiantes y trabajadores de la universidad, al lado de la universidad hay una zona residencial, una urbanización que se llama Monteclaro, pues bien, gente mayor de esta zona puede hacer uso de esta sucursal por comodidad. Por lo que consideramos los outliers correctos y necesarios para el buen trabajo y empleo de los datos en la práctica.\n",
        "\n",
        "Seguimos ananlizando las demás variables, a continuación, vamos a tratar la variable balance. "
      ],
      "metadata": {
        "id": "pqXvx6g8owMg"
      },
      "id": "pqXvx6g8owMg"
    },
    {
      "cell_type": "code",
      "source": [
        "df['balance'].plot(kind='box', title='Balance')"
      ],
      "metadata": {
        "id": "VJAk3smc0Z6I",
        "outputId": "0b01f4c9-7c82-4165-f35a-67472b2e1c67",
        "colab": {
          "base_uri": "https://localhost:8080/",
          "height": 298
        }
      },
      "id": "VJAk3smc0Z6I",
      "execution_count": 6,
      "outputs": [
        {
          "output_type": "execute_result",
          "data": {
            "text/plain": [
              "<matplotlib.axes._subplots.AxesSubplot at 0x7f6e85ee3310>"
            ]
          },
          "metadata": {},
          "execution_count": 6
        },
        {
          "output_type": "display_data",
          "data": {
            "text/plain": [
              "<Figure size 432x288 with 1 Axes>"
            ],
            "image/png": "[encoded data removed]"
          },
          "metadata": {
            "needs_background": "light"
          }
        }
      ]
    },
    {
      "cell_type": "markdown",
      "source": [
        "Hemos graficado con cajas la variable balance (dinero en el banco) y al observarlo, vemos que hay bastantes datos fuera de rango por arriba, y por abajo, es decir, outliers. Sin embargo, vamos a ver si tiene sentido, para ello graficaremos los datos de otra manera.\n",
        "\n",
        "Haremos uso de un diagrma diferente para ver mejor los datos."
      ],
      "metadata": {
        "id": "QYj9qt2vtqgQ"
      },
      "id": "QYj9qt2vtqgQ"
    },
    {
      "cell_type": "code",
      "source": [
        "plt.hist(df['balance'])\n",
        "plt.xlabel(\"Cantidad\")\n",
        "plt.ylabel(\"Número de pers\")\n",
        "plt.title(\"Balance\")\n",
        "plt.show()"
      ],
      "metadata": {
        "colab": {
          "base_uri": "https://localhost:8080/",
          "height": 295
        },
        "id": "UX7znZsOrQYN",
        "outputId": "d8d510b5-bd7d-4b09-ac2e-2ab94a409921"
      },
      "id": "UX7znZsOrQYN",
      "execution_count": 7,
      "outputs": [
        {
          "output_type": "display_data",
          "data": {
            "text/plain": [
              "<Figure size 432x288 with 1 Axes>"
            ],
            "image/png": "[encoded data removed]"
          },
          "metadata": {
            "needs_background": "light"
          }
        }
      ]
    },
    {
      "cell_type": "markdown",
      "source": [
        "Vemos que la mayoría de clientes de esta sucursal se mueve entre 0 y 10000, en esta variable losdatos en normal que estén muy distanciados en general ya que en un banco, se guarda el dinero desde el rector, ceo, director... que serán los outliers por encima del máximo tanto como los outliers por abajo ya que puede haber gente ne concreto que este en deuda con el banco.\n",
        "\n",
        "Por todo esto consideramos todos los datos correctos.\n",
        "\n",
        "A continuación, vamos a analizar la varible Duration que es la cantidad de días que lleva una persona en la empresa."
      ],
      "metadata": {
        "id": "iWTt6xRgrqHS"
      },
      "id": "iWTt6xRgrqHS"
    },
    {
      "cell_type": "code",
      "source": [
        "df['duration'].plot(kind='box', title='Duration')"
      ],
      "metadata": {
        "id": "CIqFEclo0bkd",
        "outputId": "2a1f6b57-b2a3-4ba5-bf09-b7ecd76811f2",
        "colab": {
          "base_uri": "https://localhost:8080/",
          "height": 298
        }
      },
      "id": "CIqFEclo0bkd",
      "execution_count": 8,
      "outputs": [
        {
          "output_type": "execute_result",
          "data": {
            "text/plain": [
              "<matplotlib.axes._subplots.AxesSubplot at 0x7f6e8647edf0>"
            ]
          },
          "metadata": {},
          "execution_count": 8
        },
        {
          "output_type": "display_data",
          "data": {
            "text/plain": [
              "<Figure size 432x288 with 1 Axes>"
            ],
            "image/png": "[encoded data removed]"
          },
          "metadata": {
            "needs_background": "light"
          }
        }
      ]
    },
    {
      "cell_type": "markdown",
      "source": [
        "Hemos graficado con cajas la variable Duration (tiempor en días que lleva un cliente) y al observarlo, vemos que hay bastantes datos fuera de rango por arriba, es decir outliers. Sin embargo, vamos a ver si tiene sentido, para ello graficaremos los datos de otra manera, usaremos otro diagrama."
      ],
      "metadata": {
        "id": "qZJa__X5t8cH"
      },
      "id": "qZJa__X5t8cH"
    },
    {
      "cell_type": "code",
      "source": [
        "plt.hist(df['duration'])\n",
        "plt.xlabel(\"Días\")\n",
        "plt.ylabel(\"Número de pers\")\n",
        "plt.title(\"Duration\")\n",
        "plt.show()"
      ],
      "metadata": {
        "colab": {
          "base_uri": "https://localhost:8080/",
          "height": 295
        },
        "id": "9LCLlH7etYKb",
        "outputId": "8dbbbcdf-08f8-4175-9cf1-94260fff29e6"
      },
      "id": "9LCLlH7etYKb",
      "execution_count": 9,
      "outputs": [
        {
          "output_type": "display_data",
          "data": {
            "text/plain": [
              "<Figure size 432x288 with 1 Axes>"
            ],
            "image/png": "[encoded data removed]"
          },
          "metadata": {
            "needs_background": "light"
          }
        }
      ]
    },
    {
      "cell_type": "markdown",
      "source": [
        "Al observar este gráfico, vemos que tiene sentido que la gráfica sea a partir de 0, porque una persona no puede ser cliente de -5 dias por ejemplo, si se diera este caso tendríamos que ver como lidiar con ese problema.\n",
        "\n",
        "Sin embargo, los outliers por encima del máximo son normales, ya que puede haber personas que lleven mucho más tiempo que otras, y que la mayoría se hayan unido a esta sucursal hace relativamente poco, igual por un anuncio, una campaña...\n",
        "\n",
        "Por lo que decidimos dejar esta varaible así también.\n",
        "\n",
        "La variable de educación es categórica, por lo que usaremos otro tipo de diagramas para ver más claramente lo que nos esta explicando esta variable."
      ],
      "metadata": {
        "id": "09G_jwxQuI0i"
      },
      "id": "09G_jwxQuI0i"
    },
    {
      "cell_type": "code",
      "source": [
        "df['education'].value_counts().plot(kind='pie', title='Education')"
      ],
      "metadata": {
        "id": "D3RIHKAv1pCi",
        "outputId": "0f093da1-8936-48cf-dca1-e535da800553",
        "colab": {
          "base_uri": "https://localhost:8080/",
          "height": 281
        }
      },
      "id": "D3RIHKAv1pCi",
      "execution_count": 10,
      "outputs": [
        {
          "output_type": "execute_result",
          "data": {
            "text/plain": [
              "<matplotlib.axes._subplots.AxesSubplot at 0x7f6e85d33e50>"
            ]
          },
          "metadata": {},
          "execution_count": 10
        },
        {
          "output_type": "display_data",
          "data": {
            "text/plain": [
              "<Figure size 432x288 with 1 Axes>"
            ],
            "image/png": "[encoded data removed]"
          },
          "metadata": {}
        }
      ]
    },
    {
      "cell_type": "markdown",
      "source": [
        "Al observar esta gráfica, además de ver las probabilidades de cada tipo de educación también observamos que no se se sabe la educaión que tiene una parte de nuestra base de datos, ahora vamos a estudiar cuál es ese porcentaje."
      ],
      "metadata": {
        "id": "f4XzBLBF3aRG"
      },
      "id": "f4XzBLBF3aRG"
    },
    {
      "cell_type": "code",
      "source": [
        "df['education'].value_counts()\n"
      ],
      "metadata": {
        "colab": {
          "base_uri": "https://localhost:8080/"
        },
        "id": "VgJmj2aNqD_6",
        "outputId": "4f332cff-131a-46ea-99d2-e542e0a1f171"
      },
      "id": "VgJmj2aNqD_6",
      "execution_count": 11,
      "outputs": [
        {
          "output_type": "execute_result",
          "data": {
            "text/plain": [
              "secondary    23202\n",
              "tertiary     13301\n",
              "primary       6851\n",
              "unknown       1857\n",
              "Name: education, dtype: int64"
            ]
          },
          "metadata": {},
          "execution_count": 11
        }
      ]
    },
    {
      "cell_type": "markdown",
      "source": [
        "Ahora, sabemosa parte de los niveles, cuales son las cantidades que están dentro de cada uno de los niveles:\n",
        "\n",
        "\n",
        "1.   Primaria = 6851   \n",
        "2.   Secundaria = 23202   \n",
        "3.   Terciaria = 13301    \n",
        "4.   Desconocida = 1857"
      ],
      "metadata": {
        "id": "ElZkiYvRqy0k"
      },
      "id": "ElZkiYvRqy0k"
    },
    {
      "cell_type": "markdown",
      "source": [
        "###Cómo lidiar con datos faltantes\n",
        "\n",
        "Según el proceso CRISP-DM (Cross-Industry Standard Process for Data Mining), las opciones para lidiar con datos faltantes en bases de datos son las siguientes:\n",
        "1.\tEliminación: Eliminar las filas o columnas con datos faltantes.\n",
        "2.\tImputación: Reemplazar los valores faltantes con valores estimados o calculados. Por ejemplo, la imputación media o mediana puede ser utilizada para reemplazar los valores faltantes en una columna con el valor promedio o mediana de esa columna.\n",
        "3.\tInterpolación: Interpolar los valores faltantes utilizando una técnica de estimación, como la interpolación lineal o spline.\n",
        "4.\tModelos predictivos: Utilizar modelos predictivos para estimar los valores faltantes a partir de los datos disponibles.\n",
        "5.\tAlgoritmos de aprendizaje no supervisado: Utilizar algoritmos de clustering o de reducción de dimensionalidad para identificar patrones en los datos y utilizarlos para estimar los valores faltantes.\n",
        "Es importante elegir la técnica adecuada para lidiar con los datos faltantes, considerando el tipo de datos, la cantidad de datos faltantes y su impacto en los resultados de análisis. Es recomendable investigar y evaluar varias opciones antes de tomar una decisión.\n",
        "\n"
      ],
      "metadata": {
        "id": "3KiBtk611efm"
      },
      "id": "3KiBtk611efm"
    },
    {
      "cell_type": "markdown",
      "source": [
        "Ahora, tenemos que decidir cómo vamos a gestionar aquellos clientes cuyo nivel de educación es desconocido. \n",
        "\n",
        "Debido a que nuestro primer problema trata de ilustrar la correlación entre el nivel de educación y el dinero que tienen, es importante que hagamos algo con ellos en mente.\n",
        "\n",
        "Desconocemos la razón por la cual esta infomación es desconocida, agravado por el hecho de desconocer el criterio usado para agrupar a la gente en dichos niveles. \n",
        "\n",
        "¿Tendrán un nivel de educación inferior al requerido para poder haber obtenido el nivel primario? Tal vez no querían divulgar dicha información...\n",
        "\n"
      ],
      "metadata": {
        "id": "NttAooJjsOxZ"
      },
      "id": "NttAooJjsOxZ"
    },
    {
      "cell_type": "markdown",
      "source": [
        "Existen varias opciones respecto a como lidiar con NaN.\n",
        "Una opción sería ver si podríamos eliminar aquellos clientes con nivel de educación desconocida."
      ],
      "metadata": {
        "id": "EpNGJa-OuTv0"
      },
      "id": "EpNGJa-OuTv0"
    },
    {
      "cell_type": "code",
      "source": [
        "df['education'].value_counts().sum()"
      ],
      "metadata": {
        "colab": {
          "base_uri": "https://localhost:8080/"
        },
        "id": "A6jyvH7uvOV6",
        "outputId": "efd123ff-7768-4c31-ccb1-bae4fc4b4c90"
      },
      "id": "A6jyvH7uvOV6",
      "execution_count": 12,
      "outputs": [
        {
          "output_type": "execute_result",
          "data": {
            "text/plain": [
              "45211"
            ]
          },
          "metadata": {},
          "execution_count": 12
        }
      ]
    },
    {
      "cell_type": "code",
      "source": [
        "print(\"Porcentage de todos los clientes con nivel de educación desconocido: {:.2f}%\".format((1857/45211)*100))"
      ],
      "metadata": {
        "colab": {
          "base_uri": "https://localhost:8080/"
        },
        "id": "gxQ-yizkxY2f",
        "outputId": "429c1bc0-6698-4104-dae7-b5a7829d5c4e"
      },
      "id": "gxQ-yizkxY2f",
      "execution_count": 13,
      "outputs": [
        {
          "output_type": "stream",
          "name": "stdout",
          "text": [
            "Porcentage de todos los clientes con nivel de educación desconocido: 4.11%\n"
          ]
        }
      ]
    },
    {
      "cell_type": "markdown",
      "source": [
        "Antes de ver cómo proceder, analizalizaremos cómo están distribuidos los datos de aquellos clientes cuyo nivel de educación es desconocido. La razón por ello, es que si todos aquellos clientes tuviesen una cantidad de dinero que aportase información importante, fuese por su alto o bajo valor, tendríamos que encontrar una forma alternativa de tratar con ellos."
      ],
      "metadata": {
        "id": "O1qhdyYpvzJy"
      },
      "id": "O1qhdyYpvzJy"
    },
    {
      "cell_type": "markdown",
      "source": [
        "Finalmente, hemos decidimos eliminar los valores ya que el porcentaje es batante bajo, además considerando la cantidad de datos que tenemos podemos eliminarlas. También a favor de nuestar decisión cabe decir que no nos podemos inventar los estudios de una persona, no sabemos cual es el motivo de no saberlo."
      ],
      "metadata": {
        "id": "zcuHHoxaBafN"
      },
      "id": "zcuHHoxaBafN"
    },
    {
      "cell_type": "markdown",
      "source": [
        "Según iremos avanzando, trabajaremos de aquí a lante con esta misma base de datos. Hablando en términos prácticos con visión al mundo real, es más eficiente tener una misma base de datos dese la que trabajar para resolver cualquier tipo de duda. \n",
        "\n",
        "Es por ello que en el contexto particular de este ejercicio, hemos determinado que no supondrá ningún tipo de impedimento usar esta base de datos para el resto de ejercicios."
      ],
      "metadata": {
        "id": "FynLa8quxoW5"
      },
      "id": "FynLa8quxoW5"
    },
    {
      "cell_type": "code",
      "source": [
        "df = df.drop(df[df['education']=='unknown'].index)\n",
        "df.reset_index(inplace=True, drop=True)"
      ],
      "metadata": {
        "id": "d2rPRMBh9RuR"
      },
      "id": "d2rPRMBh9RuR",
      "execution_count": 14,
      "outputs": []
    },
    {
      "cell_type": "code",
      "source": [
        "df['education'].value_counts().plot(kind='pie', title='Education')"
      ],
      "metadata": {
        "id": "ypZxQzYa9zgq",
        "outputId": "4975f5d7-4217-48f9-cb76-7091b9e27063",
        "colab": {
          "base_uri": "https://localhost:8080/",
          "height": 281
        }
      },
      "id": "ypZxQzYa9zgq",
      "execution_count": 15,
      "outputs": [
        {
          "output_type": "execute_result",
          "data": {
            "text/plain": [
              "<matplotlib.axes._subplots.AxesSubplot at 0x7f6e85d033a0>"
            ]
          },
          "metadata": {},
          "execution_count": 15
        },
        {
          "output_type": "display_data",
          "data": {
            "text/plain": [
              "<Figure size 432x288 with 1 Axes>"
            ],
            "image/png": "[encoded data removed]"
          },
          "metadata": {}
        }
      ]
    },
    {
      "cell_type": "markdown",
      "source": [
        "Como observamos en la gráfica ya no tenemos observaciones en las que no sepamos las educaión de una persona."
      ],
      "metadata": {
        "id": "aF1M8ChC918n"
      },
      "id": "aF1M8ChC918n"
    },
    {
      "cell_type": "markdown",
      "source": [
        "#EJERCICIO 1\n",
        "\n"
      ],
      "metadata": {
        "id": "r39rsPp3QbRF"
      },
      "id": "r39rsPp3QbRF"
    },
    {
      "cell_type": "markdown",
      "source": [
        "##Modelado"
      ],
      "metadata": {
        "id": "DUjH8FtOaQey"
      },
      "id": "DUjH8FtOaQey"
    },
    {
      "cell_type": "markdown",
      "source": [
        "\n",
        "\n",
        "**¿Está el *nivel de estudios* directamente relacionado con el *saldo de cada cliente en la cuenta*?**\n",
        "\n",
        "Para ello estableceremos 3 rangos numéricos: los que tienen deudas, la gente que tiene unos ahorros normales (en positivo, pero menos de 10.000 euros) y los que disponen de suficientes ahorros como para ofrecerles paquetes de inversión (aquellos en positivo con más de 10.000 euros). "
      ],
      "metadata": {
        "id": "zYimFhRCKnN4"
      },
      "id": "zYimFhRCKnN4"
    },
    {
      "cell_type": "code",
      "source": [
        "conditions = [\n",
        "    df['balance'] < 0,\n",
        "    df['balance'] > 10000,\n",
        "    df['balance'] >= 0\n",
        "]\n",
        "\n",
        "choices = [\n",
        "    'Endeudados',\n",
        "    'Potencial Paquete Inversion',\n",
        "    'Balance Positivo'\n",
        "]\n",
        "\n",
        "df['balance category'] = np.select(conditions, choices)"
      ],
      "metadata": {
        "id": "7NPwm6yHoHx7"
      },
      "id": "7NPwm6yHoHx7",
      "execution_count": 16,
      "outputs": []
    },
    {
      "cell_type": "code",
      "source": [
        "print(df['balance category'])\n"
      ],
      "metadata": {
        "colab": {
          "base_uri": "https://localhost:8080/"
        },
        "id": "M1Kn6n1SoUiE",
        "outputId": "d082a2ad-b037-4eee-a474-23b4c8788bb4"
      },
      "id": "M1Kn6n1SoUiE",
      "execution_count": 17,
      "outputs": [
        {
          "output_type": "stream",
          "name": "stdout",
          "text": [
            "0        Balance Positivo\n",
            "1        Balance Positivo\n",
            "2        Balance Positivo\n",
            "3        Balance Positivo\n",
            "4        Balance Positivo\n",
            "               ...       \n",
            "43349    Balance Positivo\n",
            "43350    Balance Positivo\n",
            "43351    Balance Positivo\n",
            "43352    Balance Positivo\n",
            "43353    Balance Positivo\n",
            "Name: balance category, Length: 43354, dtype: object\n"
          ]
        }
      ]
    },
    {
      "cell_type": "markdown",
      "source": [
        "Ya sabemos que tendremos que agrupar a los clientes en 3 rangos numéricos según el dinero que actualmente tengan en su cuenta de banco, pero previo a visualizar los datos, "
      ],
      "metadata": {
        "id": "w05-L7DOr8f9"
      },
      "id": "w05-L7DOr8f9"
    },
    {
      "cell_type": "code",
      "source": [
        "df.head()"
      ],
      "metadata": {
        "colab": {
          "base_uri": "https://localhost:8080/",
          "height": 206
        },
        "id": "VeAPejeoEVkk",
        "outputId": "59578b80-2c36-41f4-81ab-5719e76ff705"
      },
      "id": "VeAPejeoEVkk",
      "execution_count": 18,
      "outputs": [
        {
          "output_type": "execute_result",
          "data": {
            "text/plain": [
              "   age  education  balance  duration  balance category\n",
              "0   58   tertiary     2143       261  Balance Positivo\n",
              "1   44  secondary       29       151  Balance Positivo\n",
              "2   33  secondary        2        76  Balance Positivo\n",
              "3   35   tertiary      231       139  Balance Positivo\n",
              "4   28   tertiary      447       217  Balance Positivo"
            ],
            "text/html": [
              "\n",
              "  <div id=\"df-674f017c-4d3b-4e99-b739-23f8a343f314\">\n",
              "    <div class=\"colab-df-container\">\n",
              "      <div>\n",
              "<style scoped>\n",
              "    .dataframe tbody tr th:only-of-type {\n",
              "        vertical-align: middle;\n",
              "    }\n",
              "\n",
              "    .dataframe tbody tr th {\n",
              "        vertical-align: top;\n",
              "    }\n",
              "\n",
              "    .dataframe thead th {\n",
              "        text-align: right;\n",
              "    }\n",
              "</style>\n",
              "<table border=\"1\" class=\"dataframe\">\n",
              "  <thead>\n",
              "    <tr style=\"text-align: right;\">\n",
              "      <th></th>\n",
              "      <th>age</th>\n",
              "      <th>education</th>\n",
              "      <th>balance</th>\n",
              "      <th>duration</th>\n",
              "      <th>balance category</th>\n",
              "    </tr>\n",
              "  </thead>\n",
              "  <tbody>\n",
              "    <tr>\n",
              "      <th>0</th>\n",
              "      <td>58</td>\n",
              "      <td>tertiary</td>\n",
              "      <td>2143</td>\n",
              "      <td>261</td>\n",
              "      <td>Balance Positivo</td>\n",
              "    </tr>\n",
              "    <tr>\n",
              "      <th>1</th>\n",
              "      <td>44</td>\n",
              "      <td>secondary</td>\n",
              "      <td>29</td>\n",
              "      <td>151</td>\n",
              "      <td>Balance Positivo</td>\n",
              "    </tr>\n",
              "    <tr>\n",
              "      <th>2</th>\n",
              "      <td>33</td>\n",
              "      <td>secondary</td>\n",
              "      <td>2</td>\n",
              "      <td>76</td>\n",
              "      <td>Balance Positivo</td>\n",
              "    </tr>\n",
              "    <tr>\n",
              "      <th>3</th>\n",
              "      <td>35</td>\n",
              "      <td>tertiary</td>\n",
              "      <td>231</td>\n",
              "      <td>139</td>\n",
              "      <td>Balance Positivo</td>\n",
              "    </tr>\n",
              "    <tr>\n",
              "      <th>4</th>\n",
              "      <td>28</td>\n",
              "      <td>tertiary</td>\n",
              "      <td>447</td>\n",
              "      <td>217</td>\n",
              "      <td>Balance Positivo</td>\n",
              "    </tr>\n",
              "  </tbody>\n",
              "</table>\n",
              "</div>\n",
              "      <button class=\"colab-df-convert\" onclick=\"convertToInteractive('df-674f017c-4d3b-4e99-b739-23f8a343f314')\"\n",
              "              title=\"Convert this dataframe to an interactive table.\"\n",
              "              style=\"display:none;\">\n",
              "        \n",
              "  <svg xmlns=\"http://www.w3.org/2000/svg\" height=\"24px\"viewBox=\"0 0 24 24\"\n",
              "       width=\"24px\">\n",
              "    <path d=\"M0 0h24v24H0V0z\" fill=\"none\"/>\n",
              "    <path d=\"M18.56 5.44l.94 2.06.94-2.06 2.06-.94-2.06-.94-.94-2.06-.94 2.06-2.06.94zm-11 1L8.5 8.5l.94-2.06 2.06-.94-2.06-.94L8.5 2.5l-.94 2.06-2.06.94zm10 10l.94 2.06.94-2.06 2.06-.94-2.06-.94-.94-2.06-.94 2.06-2.06.94z\"/><path d=\"M17.41 7.96l-1.37-1.37c-.4-.4-.92-.59-1.43-.59-.52 0-1.04.2-1.43.59L10.3 9.45l-7.72 7.72c-.78.78-.78 2.05 0 2.83L4 21.41c.39.39.9.59 1.41.59.51 0 1.02-.2 1.41-.59l7.78-7.78 2.81-2.81c.8-.78.8-2.07 0-2.86zM5.41 20L4 18.59l7.72-7.72 1.47 1.35L5.41 20z\"/>\n",
              "  </svg>\n",
              "      </button>\n",
              "      \n",
              "  <style>\n",
              "    .colab-df-container {\n",
              "      display:flex;\n",
              "      flex-wrap:wrap;\n",
              "      gap: 12px;\n",
              "    }\n",
              "\n",
              "    .colab-df-convert {\n",
              "      background-color: #E8F0FE;\n",
              "      border: none;\n",
              "      border-radius: 50%;\n",
              "      cursor: pointer;\n",
              "      display: none;\n",
              "      fill: #1967D2;\n",
              "      height: 32px;\n",
              "      padding: 0 0 0 0;\n",
              "      width: 32px;\n",
              "    }\n",
              "\n",
              "    .colab-df-convert:hover {\n",
              "      background-color: #E2EBFA;\n",
              "      box-shadow: 0px 1px 2px rgba(60, 64, 67, 0.3), 0px 1px 3px 1px rgba(60, 64, 67, 0.15);\n",
              "      fill: #174EA6;\n",
              "    }\n",
              "\n",
              "    [theme=dark] .colab-df-convert {\n",
              "      background-color: #3B4455;\n",
              "      fill: #D2E3FC;\n",
              "    }\n",
              "\n",
              "    [theme=dark] .colab-df-convert:hover {\n",
              "      background-color: #434B5C;\n",
              "      box-shadow: 0px 1px 3px 1px rgba(0, 0, 0, 0.15);\n",
              "      filter: drop-shadow(0px 1px 2px rgba(0, 0, 0, 0.3));\n",
              "      fill: #FFFFFF;\n",
              "    }\n",
              "  </style>\n",
              "\n",
              "      <script>\n",
              "        const buttonEl =\n",
              "          document.querySelector('#df-674f017c-4d3b-4e99-b739-23f8a343f314 button.colab-df-convert');\n",
              "        buttonEl.style.display =\n",
              "          google.colab.kernel.accessAllowed ? 'block' : 'none';\n",
              "\n",
              "        async function convertToInteractive(key) {\n",
              "          const element = document.querySelector('#df-674f017c-4d3b-4e99-b739-23f8a343f314');\n",
              "          const dataTable =\n",
              "            await google.colab.kernel.invokeFunction('convertToInteractive',\n",
              "                                                     [key], {});\n",
              "          if (!dataTable) return;\n",
              "\n",
              "          const docLinkHtml = 'Like what you see? Visit the ' +\n",
              "            '<a target=\"_blank\" href=https://colab.research.google.com/notebooks/data_table.ipynb>data table notebook</a>'\n",
              "            + ' to learn more about interactive tables.';\n",
              "          element.innerHTML = '';\n",
              "          dataTable['output_type'] = 'display_data';\n",
              "          await google.colab.output.renderOutput(dataTable, element);\n",
              "          const docLink = document.createElement('div');\n",
              "          docLink.innerHTML = docLinkHtml;\n",
              "          element.appendChild(docLink);\n",
              "        }\n",
              "      </script>\n",
              "    </div>\n",
              "  </div>\n",
              "  "
            ]
          },
          "metadata": {},
          "execution_count": 18
        }
      ]
    },
    {
      "cell_type": "code",
      "source": [
        "df['balance category'].value_counts()"
      ],
      "metadata": {
        "colab": {
          "base_uri": "https://localhost:8080/"
        },
        "id": "4Fz-qdPNEbeJ",
        "outputId": "580b9ad2-3a00-49ec-f7b3-fb6de2a4a2c6"
      },
      "id": "4Fz-qdPNEbeJ",
      "execution_count": 19,
      "outputs": [
        {
          "output_type": "execute_result",
          "data": {
            "text/plain": [
              "Balance Positivo               38927\n",
              "Endeudados                      3638\n",
              "Potencial Paquete Inversion      789\n",
              "Name: balance category, dtype: int64"
            ]
          },
          "metadata": {},
          "execution_count": 19
        }
      ]
    },
    {
      "cell_type": "code",
      "source": [
        "df['education'].value_counts()"
      ],
      "metadata": {
        "colab": {
          "base_uri": "https://localhost:8080/"
        },
        "id": "3_pJ0CveWMGZ",
        "outputId": "e605b91e-b3e5-437a-e1e2-1090515da7e0"
      },
      "id": "3_pJ0CveWMGZ",
      "execution_count": 20,
      "outputs": [
        {
          "output_type": "execute_result",
          "data": {
            "text/plain": [
              "secondary    23202\n",
              "tertiary     13301\n",
              "primary       6851\n",
              "Name: education, dtype: int64"
            ]
          },
          "metadata": {},
          "execution_count": 20
        }
      ]
    },
    {
      "cell_type": "code",
      "source": [
        "grouped = df.groupby(['education','balance'])"
      ],
      "metadata": {
        "id": "rG30_ghITNMC"
      },
      "id": "rG30_ghITNMC",
      "execution_count": 21,
      "outputs": []
    },
    {
      "cell_type": "code",
      "source": [
        "# Agrupamos por las columnas 'education' y 'balance_category'\n",
        "grouped = df.groupby(['education', 'balance category']).size().reset_index(name='count')\n",
        "\n",
        "# Creamos una tabla pivote con las columnas 'education' y 'balance_category'\n",
        "# y los valores de la columna 'count'\n",
        "table1 = pd.pivot_table(grouped, values='count', index=['education'], columns=['balance category'])\n",
        "\n",
        "# Imprimimos la tabla\n",
        "print(table1)"
      ],
      "metadata": {
        "colab": {
          "base_uri": "https://localhost:8080/"
        },
        "id": "7xuW2-7Xp6jC",
        "outputId": "9c2a6be3-e634-4e4e-b0f8-258c338c87ff"
      },
      "id": "7xuW2-7Xp6jC",
      "execution_count": 22,
      "outputs": [
        {
          "output_type": "stream",
          "name": "stdout",
          "text": [
            "balance category  Balance Positivo  Endeudados  Potencial Paquete Inversion\n",
            "education                                                                  \n",
            "primary                       6160         607                           84\n",
            "secondary                    20590        2311                          301\n",
            "tertiary                     12177         720                          404\n"
          ]
        }
      ]
    },
    {
      "cell_type": "markdown",
      "source": [
        "Con esta tabla logramos visualizar, previo a una gráfica, cierta información que necesitamos conocer. Nos muestra el número de clientes que pertenece a cada grupo.\n",
        "\n",
        "Analicémosla con detenimiento para comprender bien la información que aparece y si hay algún dato que nos pueda sorprender.\n",
        "\n",
        "Empecemos por los daros tal vez más esperados.\n",
        "\n",
        "El mayor número de personas que poseen más de 10.000€ en sus cuentas y por lo tanto pueden ser considerados para el paquete de inversiones son personas con el nivel de educación más alto, y el grupo de personas más pequeño lo componen aquellos con un nivel de educación primaria.\n",
        "\n",
        "Se puede considerar interesante el hecho que el mayor número de personas endeudadas, o con la cuenta en negativo, provienen de aquellos con nivel de educación secundaria y con un margen muy grande. Un 63.5% de todas las personas endeudadas exactamente. Seguidos después por aquellos con un nivel de educación terciario y en último lugar aquellos con un nivel de educación primaria. Es cierto que aunque el menor número de personas endeudadas provengan del nivel educativo primario, en general son el grupo menos numeroso. Porcentualmente hablando, el número de personas endeudadas es mayor en dicho grupo que en el de aquellos individuos con nivel de educación secundaria.\n",
        "\n",
        "\n",
        "Seguiremos analizando una vez obtengamos la gráfica.\n",
        "\n",
        "\n"
      ],
      "metadata": {
        "id": "OJ1iPPhLUGhE"
      },
      "id": "OJ1iPPhLUGhE"
    },
    {
      "cell_type": "markdown",
      "source": [
        "###**¿Qué diagrama has usado y por qué?**\n",
        "\n",
        "\n"
      ],
      "metadata": {
        "id": "UtfP_kA5h-2_"
      },
      "id": "UtfP_kA5h-2_"
    },
    {
      "cell_type": "markdown",
      "source": [
        "####**Gráfica de barras adyacentes**\n"
      ],
      "metadata": {
        "id": "bSsbGeua2qlr"
      },
      "id": "bSsbGeua2qlr"
    },
    {
      "cell_type": "markdown",
      "source": [
        "\n",
        "Optamos por un gráfico de barras adyacentes para representar esta información por una serie de ventajas que presentaba.\n",
        "\n",
        "Las ventajas de utilizar una gráfica de barras adyacentes para explicar la relación entre el nivel de estudios y el saldo de los clientes en la cuenta incluyen:\n",
        "\n",
        "*   **Visualización clara:** Las gráficas de barras adyacentes son fáciles de leer y comprender, lo que permite a los lectores ver de manera clara la relación entre dos variables.\n",
        "*   **Comparación fácil:** Con una gráfica de barras adyacentes, es fácil comparar los valores de dos categorías y ver si existe una correlación entre ellas.\n",
        "*   **Representación gráfica:** Las gráficas de barras adyacentes pueden utilizarse para representar de manera gráfica datos numéricos y hacer que la información sea más accesible para los lectores."
      ],
      "metadata": {
        "id": "4ZNH9Dz490D9"
      },
      "id": "4ZNH9Dz490D9"
    },
    {
      "cell_type": "code",
      "source": [
        "# Agrupamos por las columnas 'education' y 'balance category'\n",
        "grouped = df.groupby(['education', 'balance category']).size().reset_index(name='count')\n",
        "\n",
        "# Creamos una tabla pivote con las columnas 'education' y 'balance_category'\n",
        "# y los valores de la columna 'count'\n",
        "table = pd.pivot_table(grouped, values='count', index=['education'], columns=['balance category'])\n",
        "\n",
        "# Creamos la gráfica de barras adyacentes con colores personalizados\n",
        "ax = table.plot(kind='bar', width=0.8, color=['#0072B2', '#D55E00', '#009E73'])\n",
        "\n",
        "# Agregamos leyendas y títulos\n",
        "ax.legend(title='Cantidad de dinero en Banco', bbox_to_anchor=(1.05, 1), loc='upper left')\n",
        "ax.set_xlabel('Nivel de Educación')\n",
        "ax.set_ylabel('Nº de clientes')\n",
        "ax.set_title('Relación entre nivel de educación y balance en cuenta bancaria', fontweight='bold', fontsize=14)\n",
        "\n",
        "# Mostramos la gráfica\n",
        "plt.show()\n",
        "\n",
        "# Agrupamos por las columnas 'balance category' y 'education'\n",
        "grouped = df.groupby(['balance category', 'education']).size().reset_index(name='count')\n",
        "\n",
        "# Creamos una tabla pivote con las columnas 'balance category' y 'education'\n",
        "# y los valores de la columna 'count'\n",
        "table = pd.pivot_table(grouped, values='count', index=['balance category'], columns=['education'])\n",
        "\n",
        "# Creamos la gráfica de barras adyacentes con colores personalizados\n",
        "ax = table.plot(kind='bar', width=0.8, color=['#F0E442', '#009E73', '#0072B2'])\n",
        "\n",
        "# Agregamos leyendas y títulos\n",
        "ax.legend(title='Cantidad de dinero en Banco', bbox_to_anchor=(1.05, 1), loc='upper left')\n",
        "ax.set_xlabel('Categoría de Balance')\n",
        "ax.set_ylabel('Nº de clientes')\n",
        "ax.set_title('Relación entre categoría de balance y nivel de educación', fontweight='bold', fontsize=14)\n",
        "\n",
        "# Mostramos la gráfica\n",
        "plt.show()"
      ],
      "metadata": {
        "colab": {
          "base_uri": "https://localhost:8080/",
          "height": 747
        },
        "id": "Jtv97wD5tnkj",
        "outputId": "643a2d8c-9dfe-4c5f-ed2b-0e8644899e0b"
      },
      "id": "Jtv97wD5tnkj",
      "execution_count": 23,
      "outputs": [
        {
          "output_type": "display_data",
          "data": {
            "text/plain": [
              "<Figure size 432x288 with 1 Axes>"
            ],
            "image/png": "[encoded data removed]"
          },
          "metadata": {
            "needs_background": "light"
          }
        },
        {
          "output_type": "display_data",
          "data": {
            "text/plain": [
              "<Figure size 432x288 with 1 Axes>"
            ],
            "image/png": "[encoded data removed]"
          },
          "metadata": {
            "needs_background": "light"
          }
        }
      ]
    },
    {
      "cell_type": "markdown",
      "source": [
        "##Evaluación"
      ],
      "metadata": {
        "id": "Hvv0zL5Aa4k8"
      },
      "id": "Hvv0zL5Aa4k8"
    },
    {
      "cell_type": "markdown",
      "source": [
        "Como podemos apreciar, la decisión respecto a que variable será representada en el eje x ( Nivel de educación o Saldo del cliente en la cuenta) y cual por los tres diferentes colores, es muy importante puesto las deducciones que podramos sacar visualizando las gráficas de barras adyacentes podrían ser diferentes.\n",
        "\n",
        "De la Gráfica [1], lo más inminente que podemos apreciar, es cómo los tres bloques de educación siguen un patrón casi idéntico, muy similar. La popularidad y distribución del saldo los clientes sigue el mismo orden sin importar el nivel de educación de los mismos; la mayoría tiene un saldo positivo, seguido por aquellos que tienen la cuenta en negativo y en último lugar aquellos con más de 10.000€.\n",
        "\n",
        "También tenemos que apreciar cómo de grande es el salto entre aquellos que tienen un balance positivo vs el resto, es muy notable.\n",
        "\n",
        "La Gráfica [2], nos permite visualizar mejor este último dato. Vemos más drásticamente tal vez, la diferencia de personas que existen entre aquellos que tienen un balance positivo y el resto de personas. Podemos comprender la verdadera magnitud de los pocos clientes a los que se les puede ofrecer el paquete de inversión. \n",
        "\n",
        "Éste tipo de gráficas le puede servir a la sucursal del banco para tomar decisiones, por ejemplo respecto a la cantidad de empleados que necesitan contratar para conversar con aquellos clientes más adinerados sobre un paquete premium.\n",
        "\n",
        "Si bien ésta gráfica es útil porque representa de una forma muy buena la cantidad de personas que caen bajo según qué rango, tal vez no es la mejor para ayudarnos a conceptualizar el porcentaje de personas que caen bajo cada rango y la relación entre el nivel de educación y el saldo del cliente en su cuenta. Es por ello que con los datos crearemos más gráficas diferentes para conseguir una mejor visión global de esta relación.\n"
      ],
      "metadata": {
        "id": "DMem4RG-NLaK"
      },
      "id": "DMem4RG-NLaK"
    },
    {
      "cell_type": "markdown",
      "source": [
        "El color es una herramienta poderosa para comunicar información y evocar emociones. Cada color tiene una connotación que puede afectar la forma en que una persona percibe la información presentada en un gráfico.\n",
        "\n",
        "Es por ello, que por ejemplo el rojo que se asocia comúnmente con el peligro, lo usamos para aquellos que están endeudados."
      ],
      "metadata": {
        "id": "FT5VTL0g6cR1"
      },
      "id": "FT5VTL0g6cR1"
    },
    {
      "cell_type": "markdown",
      "source": [
        "####**Pie Chart**"
      ],
      "metadata": {
        "id": "LgUFdf8x98Sq"
      },
      "id": "LgUFdf8x98Sq"
    },
    {
      "cell_type": "markdown",
      "source": [
        "En general, un pie chart no es la forma más efectiva de analizar la relación entre dos variables, ya que se trata de una gráfica que muestra la distribución de una sola variable en relación al total. Pero, sí puede aportar información importante sobre la distribución de una variable categórica en una población. Esta información nos será muy útil para poder contestar la pregunta que resolveremos más adelante respecto a *qué grupo resalta más*.\n",
        "\n",
        "En el caso de la relación entre el nivel de educación de los clientes de un banco y la cantidad de dinero que tienen, un pie chart mostrará de manera clara y visual la proporción de clientes que se encuentran en cada uno de los tres rangos de cantidad de dinero para cada nivel de educación. Esto permitiría hacer comparaciones rápidas entre los distintos niveles de educación y ver si hay alguna tendencia clara en la distribución de la cantidad de dinero entre ellos.\n"
      ],
      "metadata": {
        "id": "7JiA6YPfINJ2"
      },
      "id": "7JiA6YPfINJ2"
    },
    {
      "cell_type": "code",
      "source": [
        "# Datos del primer gráfico de pie\n",
        "counts1 = df['education'].value_counts()\n",
        "colors1 = ['#009E73', '#0072B2', '#F0E442']\n",
        "\n",
        "# Datos del segundo gráfico de pie\n",
        "counts2 = df['balance category'].value_counts()\n",
        "colors2 = ['#0072B2', '#D55E00', '#009E73']\n",
        "\n",
        "# Crear figura y subplots\n",
        "fig, axs = plt.subplots(1, 2, figsize=(10,5))\n",
        "\n",
        "# Crear primer gráfico de pie en el primer subplot\n",
        "counts1.plot(kind='pie', y='education', colors=colors1,\n",
        "             autopct='%1.1f%%', startangle=90, labels=None, ax=axs[0])\n",
        "axs[0].legend(labels=counts1.index, loc='best')\n",
        "axs[0].set_title('Distribución de la variable Education')\n",
        "axs[0].axis('equal')\n",
        "\n",
        "# Crear segundo gráfico de pie en el segundo subplot\n",
        "counts2.plot(kind='pie', y='balance category', colors=colors2, \n",
        "             autopct='%1.1f%%', startangle=90, labels=None, ax=axs[1])\n",
        "axs[1].legend(labels=counts2.index, loc='best')\n",
        "axs[1].set_title('Distribución de la variable balance category')\n",
        "axs[1].axis('equal')\n",
        "\n",
        "# Mostrar la figura\n",
        "plt.show()\n"
      ],
      "metadata": {
        "colab": {
          "base_uri": "https://localhost:8080/",
          "height": 319
        },
        "id": "79WsVhRf8Qlq",
        "outputId": "c3b54692-afea-46a4-eea4-0544e5bf006b"
      },
      "id": "79WsVhRf8Qlq",
      "execution_count": 24,
      "outputs": [
        {
          "output_type": "display_data",
          "data": {
            "text/plain": [
              "<Figure size 720x360 with 2 Axes>"
            ],
            "image/png": "[encoded data removed]"
          },
          "metadata": {}
        }
      ]
    },
    {
      "cell_type": "markdown",
      "source": [
        "##Evaluación"
      ],
      "metadata": {
        "id": "z7ZajT6Fa82d"
      },
      "id": "z7ZajT6Fa82d"
    },
    {
      "cell_type": "markdown",
      "source": [
        "Aquí visualizamos de una forma muy efectiva la distribución en porcentaje de cómo se distribuyen las distintas categorías de clientes, poseyendo más de la mitad de los clientes una educación secundaria, algo más de una cuarta parte una educación terciaria, y un 15% una educación primaria.\n",
        "\n",
        "Más impactante aún es verdaderamente apreciar lo preciados que son aquellos clientes con más de 10.000€ en la cuenta, pues tan solo un 1.8% de los clientes de este banco lo tienen. Positivamente, casi un 90% de los clientes tienen un saldo positivo en cuenta.\n",
        "\n",
        "Analicemos a continuación la relación entre ambas variables."
      ],
      "metadata": {
        "id": "82xAtglFF5Y9"
      },
      "id": "82xAtglFF5Y9"
    },
    {
      "cell_type": "code",
      "source": [
        "# Cargar los datos y crear la tabla pivote\n",
        "table = pd.pivot_table(grouped, values='count', index=['balance category'], columns=['education'])\n",
        "\n",
        "# Graficar la tabla pivote como tres gráficos de pie\n",
        "fig, axs = plt.subplots(1, 3, figsize=(20, 5))\n",
        "\n",
        "colors = ['#0072B2', '#D55E00', '#009E73']\n",
        "\n",
        "# Iterar sobre cada subtrama y crear un gráfico de tipo pie\n",
        "for i, ax in enumerate(axs):\n",
        "    ax.pie(table[table.columns[i]], labels=table.index, colors=colors, autopct='%1.1f%%')\n",
        "    ax.set_title(table.columns[i])\n",
        "    ax.set_ylabel('')\n",
        "    ax.axis('equal')\n",
        "\n",
        "# Crear la leyenda\n",
        "legend = plt.legend(table.index, title='Balance Category', loc='upper right')\n",
        "\n",
        "# Ajustar el espacio entre los gráficos y mostrarlos\n",
        "plt.tight_layout(pad=2)\n",
        "plt.show()\n",
        "\n",
        "\n",
        "# Cargar los datos y crear la tabla pivote\n",
        "table = pd.pivot_table(grouped, values='count', index=['education'], columns=['balance category'])\n",
        "\n",
        "# Graficar la tabla pivote como tres gráficos de pie\n",
        "fig, axs = plt.subplots(1, 3, figsize=(20, 5))\n",
        "colors = ['#F0E442', '#009E73', '#0072B2']\n",
        "\n",
        "\n",
        "# Iterar sobre cada subtrama y crear un gráfico de tipo pie\n",
        "for i, ax in enumerate(axs):\n",
        "    ax.pie(table[table.columns[i]], labels=table.index, colors=colors, autopct='%1.1f%%')\n",
        "    ax.set_title(table.columns[i])\n",
        "    ax.set_ylabel('')\n",
        "    ax.axis('equal')\n",
        "\n",
        "# Crear la leyenda\n",
        "legend = plt.legend(table.index, title='Balance Category', loc='best')\n",
        "\n",
        "# Ajustar el espacio entre los gráficos y mostrarlos\n",
        "plt.tight_layout(pad=2)\n",
        "plt.show()\n",
        "\n",
        "\n",
        "\n"
      ],
      "metadata": {
        "colab": {
          "base_uri": "https://localhost:8080/",
          "height": 512
        },
        "id": "g5QXaUdHCAwf",
        "outputId": "eab8597d-1570-46af-a0f9-407d0d86a021"
      },
      "id": "g5QXaUdHCAwf",
      "execution_count": 25,
      "outputs": [
        {
          "output_type": "display_data",
          "data": {
            "text/plain": [
              "<Figure size 1440x360 with 3 Axes>"
            ],
            "image/png": "[encoded data removed]"
          },
          "metadata": {}
        },
        {
          "output_type": "display_data",
          "data": {
            "text/plain": [
              "<Figure size 1440x360 with 3 Axes>"
            ],
            "image/png": "[encoded data removed]"
          },
          "metadata": {}
        }
      ]
    },
    {
      "cell_type": "markdown",
      "source": [
        "##Evaluación"
      ],
      "metadata": {
        "id": "Yhi5jM6Ka-SB"
      },
      "id": "Yhi5jM6Ka-SB"
    },
    {
      "cell_type": "markdown",
      "source": [
        "Con estos pie chart, apreciamos la importancia que tiene el escoger cuál va a ser nuestra **\"variable categórica\"** (que se utiliza para representar información mediante colores en un pie chart). \n",
        "\n",
        "En el primer set de pie charts donde la variable categórica es el rango de dinero en la cuenta bancaría, a primera vista puede parecer un gráfico insignificante puesto que todos los rangos salariales tienen un porcentaje muy similar, según cada nivel de educación del cliente. \n",
        "\n",
        "Sin embargo, aquellos que tienen un nivel de educación terciaria, se distinguen de los demás puesto que la cantidad de clientes los cuales pueden ser considerados para un paquete de inversión, es más del doble que el resto. Una diferencia de un 1.7/1.8 porcentualmente hablando puede no parecer como mucho pero cuando estamos hablando de decenas de miles de clientes, estamos tratando con mucha más gente con más de 10.000€. También poseen el porciento más bajo de clientes endeudados, un 50% menos que en el nivel educativo secundario de hecho, otro dato muy importante para los bancos.\n",
        "\n",
        "En el segundo set de pie charts, donde la variable categórica es el nivel educativo, apreciamos como más del 50% de clientes con más de 10.000€ poseen un nivel de educación terciaria, lo que es muy positivo considerando que componen tan solo un 30% de todos los clientes del banco. Como apreciamos anteriormente, aquellos con nivel de educación secundaria, son los responsables del mayor porcentaje de deuda. Aunque, hemos de ser críticos y valorar que a pesar de que porcentualmente hablando sean responsables de la mayor cantidad de deuda, como hemos dividido el dinero de la cuenta en rangos, cabe la posibilidad de la suma de la deuda de otro grupo sea superior en cuanto a cantidad en €, que aquellos con nivel educativo secundario. Es información que exploraremos a continuación con un boxplot."
      ],
      "metadata": {
        "id": "KwU6__pKEmCn"
      },
      "id": "KwU6__pKEmCn"
    },
    {
      "cell_type": "markdown",
      "source": [
        "####**Box Plot**"
      ],
      "metadata": {
        "id": "7zPlaM15J1dM"
      },
      "id": "7zPlaM15J1dM"
    },
    {
      "cell_type": "markdown",
      "source": [
        "Realizar tres boxplots es útil en este caso porque nos permite comparar visualmente la distribución de la cantidad de dinero en el banco según el nivel de educación. Cada boxplot representa la distribución de datos para un grupo específico, en este caso, los clientes agrupados según su nivel de educación. Al comparar los boxplots, podemos ver fácilmente si hay alguna diferencia en la distribución de datos entre los diferentes grupos."
      ],
      "metadata": {
        "id": "jZO4W0jaCVOg"
      },
      "id": "jZO4W0jaCVOg"
    },
    {
      "cell_type": "code",
      "source": [
        "titulo = f\"Distribución del dinero en la cuenta del banco por educación\"\n",
        "color = sns.color_palette('Set2',8)\n",
        "\n",
        "f, ax = plt.subplots(1,figsize=(15,8))\n",
        "sns.set_style(style='whitegrid')\n",
        "\n",
        "# Crear el DataFrame con la información necesaria\n",
        "data = df[['education', 'balance']]\n",
        "\n",
        "# Crear los boxplots\n",
        "sns.boxplot(x='education', y='balance', data=data)\n",
        "ax.legend(fontsize=24)\n",
        "\n",
        "# Agregar título y etiquetas de los ejes\n",
        "plt.title('Distribución del dinero en la cuenta del banco por educación')\n",
        "plt.xlabel('Educación')\n",
        "plt.ylabel('Balance')\n",
        "\n",
        "\n",
        "\n",
        "titulo = f\"Distribución del dinero en la cuenta del banco por educación\"\n",
        "color = sns.color_palette('Set2',8)\n",
        "\n",
        "f, ax = plt.subplots(1,figsize=(15,8))\n",
        "sns.set_style(style='whitegrid')\n",
        "\n",
        "# Crear el DataFrame con la información necesaria\n",
        "data = df[['education', 'balance']]\n",
        "\n",
        "\n",
        "# Crear los boxplots\n",
        "sns.boxplot(x='education', y='balance', data=data, showfliers=False)\n",
        "ax.legend(fontsize=24)\n",
        "\n",
        "# Agregar título y etiquetas de los ejes\n",
        "plt.title('Distribución del dinero en la cuenta del banco por educación')\n",
        "plt.xlabel('Educación')\n",
        "plt.ylabel('Balance')\n"
      ],
      "metadata": {
        "colab": {
          "base_uri": "https://localhost:8080/",
          "height": 1000
        },
        "id": "ariGMBL2KbcM",
        "outputId": "7064df9b-3b19-4861-b3e5-4a27a0b5a898"
      },
      "id": "ariGMBL2KbcM",
      "execution_count": 26,
      "outputs": [
        {
          "output_type": "stream",
          "name": "stderr",
          "text": [
            "WARNING:matplotlib.legend:No handles with labels found to put in legend.\n",
            "WARNING:matplotlib.legend:No handles with labels found to put in legend.\n"
          ]
        },
        {
          "output_type": "execute_result",
          "data": {
            "text/plain": [
              "Text(0, 0.5, 'Balance')"
            ]
          },
          "metadata": {},
          "execution_count": 26
        },
        {
          "output_type": "display_data",
          "data": {
            "text/plain": [
              "<Figure size 1080x576 with 1 Axes>"
            ],
            "image/png": "[encoded data removed]"
          },
          "metadata": {
            "needs_background": "light"
          }
        },
        {
          "output_type": "display_data",
          "data": {
            "text/plain": [
              "<Figure size 1080x576 with 1 Axes>"
            ],
            "image/png": "[encoded data removed]"
          },
          "metadata": {}
        }
      ]
    },
    {
      "cell_type": "markdown",
      "source": [
        "##Evaluación"
      ],
      "metadata": {
        "id": "X0ic70iaa_yO"
      },
      "id": "X0ic70iaa_yO"
    },
    {
      "cell_type": "markdown",
      "source": [
        "El primer boxplot, mostraba tantos 'outliers' que dificultaba la comprensión de la gráfica. Esta dificultad es apaciguada por el hecho que la mayoría de 'outliers' depictan una cantidad de dinero importante, pero los analizaremos más adelante por separado. \n",
        "\n",
        "Eliminar los outliers puede ser una buena idea porque estos valores dificultan  la comparación entre los grupos. Por ejemplo, si un cliente tiene una cantidad de dinero muy grande en el banco, esto puede hacer que los otros datos parezcan insignificantes y hacer que sea difícil ver cualquier diferencia real entre los diferentes grupos.\n",
        "\n",
        "Previo a ignorarlos, apreciamos como los clientes con nivel educativo terciario destacan por tener más clientes con más dinero que el resto."
      ],
      "metadata": {
        "id": "m1QiXBV0VEZN"
      },
      "id": "m1QiXBV0VEZN"
    },
    {
      "cell_type": "code",
      "source": [
        "titulo = f\"Distribución del dinero en la cuenta del banco por educación\"\n",
        "color = sns.color_palette('Set2',8)\n",
        "\n",
        "# Crear el DataFrame con la información necesaria\n",
        "data = df[['education', 'balance']]\n",
        "\n",
        "# Crear los boxplots\n",
        "#sns.boxplot(x='education', y='balance', data=data, showfliers=False)\n",
        "\n",
        "# Obtener los valores de la mediana, la longitud de la caja y los bigotes\n",
        "medians = data.groupby(['education'])['balance'].median()\n",
        "box_lengths = data.groupby(['education'])['balance'].quantile(0.75) - data.groupby(['education'])['balance'].quantile(0.25)\n",
        "whiskers_min = data.groupby(['education'])['balance'].quantile(0.25) - 1.5*box_lengths\n",
        "whiskers_max = data.groupby(['education'])['balance'].quantile(0.75) + 1.5*box_lengths\n",
        "\n",
        "# Calcular la simetría y la forma de la distribución de los datos\n",
        "skewness = data.groupby(['education'])['balance'].skew()\n",
        "kurtosis = data.groupby(['education'])['balance'].apply(lambda x: np.mean((x-x.mean())**4)/x.std()**4)\n",
        "\n",
        "# Crear dataframes para mostrar la información en tablas\n",
        "medians_df = pd.DataFrame({'Mediana': medians}).sort_values(by='Mediana')\n",
        "box_lengths_df = pd.DataFrame({'Longitud de la caja': box_lengths}).sort_values(by='Longitud de la caja')\n",
        "whiskers_df = pd.DataFrame({'Bigote inferior': whiskers_min, 'Bigote superior': whiskers_max}).sort_values(by=['Bigote inferior', 'Bigote superior'])\n",
        "skewness_df = pd.DataFrame({'Simetría': skewness}).sort_values(by='Simetría')\n",
        "kurtosis_df = pd.DataFrame({'Forma de la distribución': kurtosis}).sort_values(by='Forma de la distribución')\n"
      ],
      "metadata": {
        "id": "-WM6eHO2UlAF"
      },
      "id": "-WM6eHO2UlAF",
      "execution_count": 27,
      "outputs": []
    },
    {
      "cell_type": "markdown",
      "source": [
        "Para sacar conclusiones a partir de boxplots, es importante prestar atención a las siguientes características:\n",
        "\n"
      ],
      "metadata": {
        "id": "N5HxryweOzcS"
      },
      "id": "N5HxryweOzcS"
    },
    {
      "cell_type": "markdown",
      "source": [
        "#####**1. La posición de la mediana**"
      ],
      "metadata": {
        "id": "I_EvSJOaV9Nr"
      },
      "id": "I_EvSJOaV9Nr"
    },
    {
      "cell_type": "code",
      "source": [
        "print('Posición de la mediana:\\n', medians_df)"
      ],
      "metadata": {
        "colab": {
          "base_uri": "https://localhost:8080/"
        },
        "id": "IrZfo7BVV0Cf",
        "outputId": "664a3721-ff2a-432f-95a5-4521e9502df2"
      },
      "id": "IrZfo7BVV0Cf",
      "execution_count": 28,
      "outputs": [
        {
          "output_type": "stream",
          "name": "stdout",
          "text": [
            "Posición de la mediana:\n",
            "            Mediana\n",
            "education         \n",
            "secondary    392.0\n",
            "primary      403.0\n",
            "tertiary     577.0\n"
          ]
        }
      ]
    },
    {
      "cell_type": "markdown",
      "source": [
        "Los clientes con educación terciaria tienen una mediana significativamente mayor que los clientes con educación primaria o secundaria. Esto sugiere que hay una relación positiva entre el nivel de educación y la cantidad de dinero que los clientes tienen en sus cuentas bancarias, y que los clientes con educación terciaria tienen más probabilidades de tener un saldo más alto en sus cuentas bancarias"
      ],
      "metadata": {
        "id": "0cTvunkNWgMk"
      },
      "id": "0cTvunkNWgMk"
    },
    {
      "cell_type": "markdown",
      "source": [
        "#####**2. La longitud de la caja**"
      ],
      "metadata": {
        "id": "k6Lw8UMTWnek"
      },
      "id": "k6Lw8UMTWnek"
    },
    {
      "cell_type": "code",
      "source": [
        "print('\\nLongitud de la caja:\\n', box_lengths_df)"
      ],
      "metadata": {
        "colab": {
          "base_uri": "https://localhost:8080/"
        },
        "id": "4H1Z_YBQWgur",
        "outputId": "e56f7103-d32e-44cf-b163-08c6dbd2e77d"
      },
      "id": "4H1Z_YBQWgur",
      "execution_count": 29,
      "outputs": [
        {
          "output_type": "stream",
          "name": "stdout",
          "text": [
            "\n",
            "Longitud de la caja:\n",
            "            Longitud de la caja\n",
            "education                     \n",
            "secondary               1179.0\n",
            "primary                 1329.0\n",
            "tertiary                1700.0\n"
          ]
        }
      ]
    },
    {
      "cell_type": "markdown",
      "source": [
        "La longitud de la caja, que indica la variabilidad de los datos, e indica la distancia entre el primer y tercer cuartil, es mayor para los clientes con educación terciaria en comparación con los clientes con educación primaria o secundaria. Esto sugiere que la cantidad de dinero en las cuentas bancarias de los clientes con educación terciaria varía más ampliamente que los clientes con educación primaria o secundaria."
      ],
      "metadata": {
        "id": "kigwIJUEWwNu"
      },
      "id": "kigwIJUEWwNu"
    },
    {
      "cell_type": "markdown",
      "source": [
        "#####**3. Los bigotes**"
      ],
      "metadata": {
        "id": "U7A6mSvpW1BG"
      },
      "id": "U7A6mSvpW1BG"
    },
    {
      "cell_type": "code",
      "source": [
        "print('\\nBigotes por educación:\\n', whiskers_df)"
      ],
      "metadata": {
        "colab": {
          "base_uri": "https://localhost:8080/"
        },
        "id": "7CXWz-UQW4kl",
        "outputId": "82604546-745c-4546-db0a-e5579231eb63"
      },
      "id": "7CXWz-UQW4kl",
      "execution_count": 30,
      "outputs": [
        {
          "output_type": "stream",
          "name": "stdout",
          "text": [
            "\n",
            "Bigotes por educación:\n",
            "            Bigote inferior  Bigote superior\n",
            "education                                  \n",
            "tertiary           -2446.0           4354.0\n",
            "primary            -1932.5           3383.5\n",
            "secondary          -1713.5           3002.5\n"
          ]
        }
      ]
    },
    {
      "cell_type": "markdown",
      "source": [
        "Los bigotes inferior y superior para cada nivel de educación sugieren que hay valores atípicos (outliers) para todos los niveles, pero especialmente para los clientes con educación terciaria. Esto indica que hay algunos clientes con saldos bancarios extremadamente altos o bajos en comparación con la mayoría de los clientes.\n",
        "\n",
        "Los bigotes inferior y superior, que representan los valores extremos de los datos, también varían según el nivel de educación. Los clientes con educación terciaria tienen los valores extremos más alejados de la mediana, mientras que los clientes con educación secundaria tienen los valores extremos más cercanos a la mediana."
      ],
      "metadata": {
        "id": "sg_fCucgWxqD"
      },
      "id": "sg_fCucgWxqD"
    },
    {
      "cell_type": "markdown",
      "source": [
        "#####**4. La simetría y la forma de la distribución de los datos**"
      ],
      "metadata": {
        "id": "lizaJUvHW3fx"
      },
      "id": "lizaJUvHW3fx"
    },
    {
      "cell_type": "code",
      "source": [
        "print('\\nSimetría por educación:\\n', skewness_df)\n",
        "print('\\nForma de la distribución por educación:\\n', kurtosis_df)"
      ],
      "metadata": {
        "colab": {
          "base_uri": "https://localhost:8080/"
        },
        "id": "TWlzWJbsW_W0",
        "outputId": "8dfba268-aa1c-426f-a4d1-7208fc746f53"
      },
      "id": "TWlzWJbsW_W0",
      "execution_count": 31,
      "outputs": [
        {
          "output_type": "stream",
          "name": "stdout",
          "text": [
            "\n",
            "Simetría por educación:\n",
            "            Simetría\n",
            "education          \n",
            "tertiary   7.430837\n",
            "secondary  8.534804\n",
            "primary    8.849834\n",
            "\n",
            "Forma de la distribución por educación:\n",
            "            Forma de la distribución\n",
            "education                          \n",
            "tertiary                 109.361648\n",
            "secondary                158.613067\n",
            "primary                  160.837292\n"
          ]
        }
      ]
    },
    {
      "cell_type": "markdown",
      "source": [
        "**Simetría**\n",
        "\n",
        "La simetría indica que la distribución de los datos es asimétrica positiva para todos los niveles de educación. Esto sugiere que la mayoría de los clientes tienen saldos más bajos en sus cuentas bancarias, mientras que hay algunos clientes con saldos muy altos.\n",
        "\n",
        "Los clientes con educación terciaria son los más simétricos y los clientes con educación secundaria siendo los menos simétricos. Esto sugiere que la distribución de la cantidad de dinero en las cuentas bancarias de los clientes con educación terciaria es más equilibrada que la distribución de los clientes con educación secundaria.\n",
        "\n",
        "**Distribución**\n",
        "\n",
        "La forma de la distribución, medida por la kurtosis, es más aguda para los clientes con educación primaria o secundaria en comparación con los clientes con educación terciaria. Esto sugiere que los clientes con educación primaria o secundaria tienen una distribución más puntiaguda en torno a la mediana, lo que indica una mayor concentración de valores cerca de la mediana.\n"
      ],
      "metadata": {
        "id": "eBM2eMGFW_rt"
      },
      "id": "eBM2eMGFW_rt"
    },
    {
      "cell_type": "markdown",
      "source": [
        "##Despliegue"
      ],
      "metadata": {
        "id": "wHmvWcoRajSH"
      },
      "id": "wHmvWcoRajSH"
    },
    {
      "cell_type": "markdown",
      "source": [
        "\n",
        "\n",
        "En conclusión, la información que nos proporcionas sugiere que el nivel de educación está relacionado positivamente con la cantidad de dinero que los clientes tienen en sus cuentas bancarias. Además, hay diferencias en la variabilidad, los valores extremos, la simetría y la forma de la distribución de los datos según el nivel de educación. Por lo tanto, el nivel de educación es una variable importante a considerar al analizar los datos de los clientes de un banco."
      ],
      "metadata": {
        "id": "UceWxr6CbSXM"
      },
      "id": "UceWxr6CbSXM"
    },
    {
      "cell_type": "markdown",
      "source": [
        "####**¿Cuál es el grupo que más destaca?**"
      ],
      "metadata": {
        "id": "XHeTLpaXiMGL"
      },
      "id": "XHeTLpaXiMGL"
    },
    {
      "cell_type": "markdown",
      "source": [
        "Basándonos en toda la información sonsacada, podemos decir que el grupo que más destaca es el de clientes con educación terciaria, ya que tienen la mediana más alta y la longitud de la caja más amplia, lo que indica que tienen una mayor cantidad de dinero en sus cuentas bancarias en comparación con los otros dos grupos.\n",
        "\n",
        "Además, aunque los valores extremos en el grupo de clientes con educación terciaria son muy amplios, esto también sugiere que hay una gran variabilidad en la cantidad de dinero que algunos clientes con educación terciaria tienen en sus cuentas bancarias, lo que podría ser una oportunidad para que el banco ofrezca servicios personalizados y adaptados a las necesidades de cada cliente.\n",
        "\n",
        "Por otro lado, el grupo de clientes con educación primaria es el que tiene la mediana más baja y la longitud de la caja más estrecha, lo que sugiere que tienen una cantidad más limitada de dinero en sus cuentas bancarias en comparación con los otros dos grupos.\n",
        "\n",
        "El banco podría utilizar esta información para orientar su estrategia de marketing y ofrecer servicios y productos específicos a cada grupo de clientes. Por ejemplo, el banco podría enfocarse en ofrecer servicios de inversión y de ahorro a los clientes con educación terciaria que tienen una mayor cantidad de dinero en sus cuentas bancarias, mientras que podría enfocarse en ofrecer préstamos y otros servicios bancarios a los clientes con educación primaria que tienen una cantidad más limitada de dinero en sus cuentas.\n"
      ],
      "metadata": {
        "id": "f0zehchUeHTf"
      },
      "id": "f0zehchUeHTf"
    },
    {
      "cell_type": "markdown",
      "source": [
        "#EJERCICIO 2"
      ],
      "metadata": {
        "id": "0yMkvEebkl3T"
      },
      "id": "0yMkvEebkl3T"
    },
    {
      "cell_type": "markdown",
      "source": [
        "##Modelado\n",
        "\n",
        "Ahora, vamos a aplicar el siguiente paso de la metodología CRISP."
      ],
      "metadata": {
        "id": "GD43_ChuRKLn"
      },
      "id": "GD43_ChuRKLn"
    },
    {
      "cell_type": "markdown",
      "source": [
        "En este ejercicio nos piden que dividamos las edades, es decir que pase de ser una variable númerica a que sea una variable categórica. En concreto nosotros vamosa hacer la división de esta manera: los menores de 30 años van a ser alumnos, de 30 a 45 años serán trabajadores jóvenes, de 46 a 65 trabajadores veteranos, y por último los trabajdores no vinculados a la universidad. \n",
        "\n",
        "¿Cuál es el grupo de edad que tiene más clientes?\n",
        "\n",
        "Por lo que vamos a empezar el modelado de los datos para esteejercicio. Vamos a dividir las edades en las categorías indicadas, para ello vamos a crear un atributo nuevo en donde guardaremos esta nueva información. \n",
        "\n",
        "Categorizar una variable, se suele pedir cuando una variable es continua pero los valores cercanos se pueden poner en el mismo grupo, como puede ser la edad en este caso.\n"
      ],
      "metadata": {
        "id": "CfrnxYnukrai"
      },
      "id": "CfrnxYnukrai"
    },
    {
      "cell_type": "code",
      "source": [
        "#Creamos unas nueva columna en la que vamos a añadir la categoría de las edades\n",
        "df[\"agecat\"] = np.nan\n",
        "#Establecemos las diferentes clases que queremos crear.\n",
        "filas=len(df.axes[0])\n",
        "for i in range (filas):\n",
        "    if df['age'][i]<30:\n",
        "        df['agecat'][i]='Alumnos'\n",
        "    elif df['age'][i]>=30 and df['age'][i]<=45:\n",
        "        df['agecat'][i]='Trabajadores jóvenes'\n",
        "    elif df['age'][i]>=46 and df['age'][i]<=65:\n",
        "        df['agecat'][i]='Trabajadores veteranos'\n",
        "    else:\n",
        "        df['agecat'][i]='Cliente no vinvulado'\n"
      ],
      "metadata": {
        "id": "JEqKXzK1Dcsh",
        "outputId": "e1e0e81d-c7e5-44c0-f614-80b84af06718",
        "colab": {
          "base_uri": "https://localhost:8080/"
        }
      },
      "id": "JEqKXzK1Dcsh",
      "execution_count": 32,
      "outputs": [
        {
          "output_type": "stream",
          "name": "stderr",
          "text": [
            "<ipython-input-32-206ae5670e3e>:11: SettingWithCopyWarning: \n",
            "A value is trying to be set on a copy of a slice from a DataFrame\n",
            "\n",
            "See the caveats in the documentation: https://pandas.pydata.org/pandas-docs/stable/user_guide/indexing.html#returning-a-view-versus-a-copy\n",
            "  df['agecat'][i]='Trabajadores veteranos'\n",
            "/usr/local/lib/python3.8/dist-packages/pandas/core/indexing.py:1732: SettingWithCopyWarning: \n",
            "A value is trying to be set on a copy of a slice from a DataFrame\n",
            "\n",
            "See the caveats in the documentation: https://pandas.pydata.org/pandas-docs/stable/user_guide/indexing.html#returning-a-view-versus-a-copy\n",
            "  self._setitem_single_block(indexer, value, name)\n"
          ]
        }
      ]
    },
    {
      "cell_type": "markdown",
      "source": [
        "Una vez transformada la variable vamos a compar cuantos tipo de cada hay."
      ],
      "metadata": {
        "id": "_3LIiYiTEnKq"
      },
      "id": "_3LIiYiTEnKq"
    },
    {
      "cell_type": "code",
      "source": [
        "df['agecat'].value_counts()"
      ],
      "metadata": {
        "id": "zCoDGNuJEP1_",
        "outputId": "0b5907fb-cb91-40e1-c53c-6fce83059223",
        "colab": {
          "base_uri": "https://localhost:8080/"
        }
      },
      "id": "zCoDGNuJEP1_",
      "execution_count": 33,
      "outputs": [
        {
          "output_type": "execute_result",
          "data": {
            "text/plain": [
              "Trabajadores jóvenes      24702\n",
              "Trabajadores veteranos    12908\n",
              "Alumnos                    5070\n",
              "Cliente no vinvulado        674\n",
              "Name: agecat, dtype: int64"
            ]
          },
          "metadata": {},
          "execution_count": 33
        }
      ]
    },
    {
      "cell_type": "markdown",
      "source": [
        "Ahora, además de saber cuales son las categorías que hemos creado, sabemos cuantas observaciones pertenercen a cada categoría.\n",
        "\n",
        "- Alumnos: 5273\n",
        "- Trabajadores jóvenes: 25490\n",
        "- Trabajadores veteranos: 13697\n",
        "- Cliente no vinculado: 751\n",
        "\n",
        "Al visualizar estos datos se nos hace raro pensar que en un banco situado dentro de la universidad donde la mayoría de las personas que pasan por delente sean alumnos, que sea la segunda categoría con menos frecuencia. Pero puede ser perfectamente que la gente de la zona utilice esta sucursal del banco para llevar sus cuentas."
      ],
      "metadata": {
        "id": "nVqV2Pp5E0T_"
      },
      "id": "nVqV2Pp5E0T_"
    },
    {
      "cell_type": "code",
      "source": [
        "df['agecat'].value_counts().plot(kind='pie', title='Edad en categorías')"
      ],
      "metadata": {
        "id": "CK_Rk1vWEwid",
        "outputId": "3dbd1247-c023-42fb-b258-7e27a86ce237",
        "colab": {
          "base_uri": "https://localhost:8080/",
          "height": 281
        }
      },
      "id": "CK_Rk1vWEwid",
      "execution_count": 34,
      "outputs": [
        {
          "output_type": "execute_result",
          "data": {
            "text/plain": [
              "<matplotlib.axes._subplots.AxesSubplot at 0x7f6e858f6700>"
            ]
          },
          "metadata": {},
          "execution_count": 34
        },
        {
          "output_type": "display_data",
          "data": {
            "text/plain": [
              "<Figure size 432x288 with 1 Axes>"
            ],
            "image/png": "[encoded data removed]"
          },
          "metadata": {}
        }
      ]
    },
    {
      "cell_type": "markdown",
      "source": [
        "##Evaluación\n",
        "\n",
        "Observamos que la mayoría de los clientes son trabajadores jóvenes, con bastante diferencia, más del 50% se encuentran en esta categoría. Seguida de trabajadores veteranos, con un 30% de la cantidad total, seguido de alumnos que es la segunda categoría con menos clientes, y por último los clientes no vinculados, que hemos concluido que son las personas más mayores que viven cerca de la universidad y que por eso les viene bien ser clientes de esta sucursal.\n",
        "\n"
      ],
      "metadata": {
        "id": "8tbo_QZ6F40n"
      },
      "id": "8tbo_QZ6F40n"
    },
    {
      "cell_type": "markdown",
      "source": [
        "##Despliegue"
      ],
      "metadata": {
        "id": "Mt493yXvbV6z"
      },
      "id": "Mt493yXvbV6z"
    },
    {
      "cell_type": "markdown",
      "source": [
        "El despliegue en esta sucursal del banci podríamos usar este tipo de datos para, sabiendo cuál es la categoría que más freceunta nuestra sede, pues hacer anuncios orientado a esas edades que son más frecuentes porque sabemos que son a los que más les interesa.\n",
        "\n",
        "Este tipo de estudios sirve para conocer tu sucusal y así adapsarse en función de nuestros datos."
      ],
      "metadata": {
        "id": "6Gs060Lnf7gO"
      },
      "id": "6Gs060Lnf7gO"
    },
    {
      "cell_type": "markdown",
      "source": [
        "#EJERCICIO 3\n"
      ],
      "metadata": {
        "id": "XXcoOB27koaJ"
      },
      "id": "XXcoOB27koaJ"
    },
    {
      "cell_type": "markdown",
      "source": [
        "##Modelado"
      ],
      "metadata": {
        "id": "2cluud3VaUoK"
      },
      "id": "2cluud3VaUoK"
    },
    {
      "cell_type": "markdown",
      "source": [
        "En este ejercicio lo que queremos hacer es ver la duración de los clientes del banco Santander en la sucursal de la UFV. Para eso lo que vamos a hacer es pasar los días a años y una vez en año vamos a graficarlo para ver que tipo de clientes son los que tiene esta sucursal.\n",
        "\n",
        "Es decir, en este ejercicio en concreto solo tenemos que modelar los datos creando otra nueva variable y dividiendo a duration entre los días de un año, para tener los años que cada cliente lleva siendo cliente del banco Santander.\n",
        "\n"
      ],
      "metadata": {
        "id": "JlxSZRHmm8jt"
      },
      "id": "JlxSZRHmm8jt"
    },
    {
      "cell_type": "code",
      "source": [
        "#Convertimos la columna duration a float \n",
        "#para que la operación salga con decimales\n",
        "df['duration'] = df['duration'].astype (float)\n",
        "#Lo creamos con otra variable para no borrar la variable de duration\n",
        "df['years'] = df['duration']/365.25"
      ],
      "metadata": {
        "id": "EjOLJCIsDbkF"
      },
      "id": "EjOLJCIsDbkF",
      "execution_count": 35,
      "outputs": []
    },
    {
      "cell_type": "markdown",
      "source": [
        "Una vez hemos convertido la varible de duration (días) en otro atributo diferente que hemos llamado, years y aquí guardamos los años que lleva el cliente vinculado a la sucursal, en esta variable vamos a encontrar decimales.\n",
        "\n",
        "Una vez creada esta varible lo graficamos para ver como se distribuye."
      ],
      "metadata": {
        "id": "pZY4QcdVoHy3"
      },
      "id": "pZY4QcdVoHy3"
    },
    {
      "cell_type": "code",
      "source": [
        "plt.hist(df['years'])\n",
        "plt.xlabel(\"Años\")\n",
        "plt.ylabel(\"Número de personas\")\n",
        "plt.title(\"Duration\")\n",
        "plt.show()"
      ],
      "metadata": {
        "id": "sOChTN9WPFGY",
        "outputId": "8da506a2-6486-493c-b63a-ebaeff12ab3b",
        "colab": {
          "base_uri": "https://localhost:8080/",
          "height": 295
        }
      },
      "id": "sOChTN9WPFGY",
      "execution_count": 36,
      "outputs": [
        {
          "output_type": "display_data",
          "data": {
            "text/plain": [
              "<Figure size 432x288 with 1 Axes>"
            ],
            "image/png": "[encoded data removed]"
          },
          "metadata": {}
        }
      ]
    },
    {
      "cell_type": "markdown",
      "source": [
        "En esta gráfica vemos que sin ninguna duda la mayoría de las personas que hacen uso de esta sucursal llevan en la empresa menos de un año, lo vemos en la columna entre 0 y 1, que visiblemente es muchísimo mayor que las demás.\n",
        "Y después de el primer año, los clientes han disminuido notablemente, y así sucesivamente, hay muy muy poca gente que lleva en la empresa entre 3 y 4 años.\n",
        "\n",
        "Sin embargo, también debe haber personas que hayan estado haciendo uso de esta sucursal más de 6, 8 y 10 años ya que en la gráfica en el eje vemos estos números. No vemos una barra porque igual es tán poca la representación que al lado de la columna 1 que no somos capaces de verlo. \n",
        "\n",
        "Por esto mismo vamos a usar otro diagrama, para ver si de esta manera somos capaces de mirar mejor los datos y la cantidad de perosnas que llevan más tiempo en el banco.\n",
        "\n",
        "Para ellos vamos a redondear los datos a los números enteros, por ejemplo siuna persona lleva menos de un años el número que aparece será 0."
      ],
      "metadata": {
        "id": "4E7LwO8PrsJ2"
      },
      "id": "4E7LwO8PrsJ2"
    },
    {
      "cell_type": "code",
      "source": [
        "import math\n",
        "df['yearsinteger'] = np.nan\n",
        "for i in range (len(df)):\n",
        "  df['yearsinteger'][i] = math.floor(df['years'][i])\n",
        "df['yearsinteger'].value_counts().plot(kind='pie', title='Años en el banco')"
      ],
      "metadata": {
        "id": "1MY70rIqo2vG",
        "outputId": "06bea8d7-6800-4e7d-97d1-2214200ac511",
        "colab": {
          "base_uri": "https://localhost:8080/",
          "height": 368
        }
      },
      "id": "1MY70rIqo2vG",
      "execution_count": 37,
      "outputs": [
        {
          "output_type": "stream",
          "name": "stderr",
          "text": [
            "<ipython-input-37-d5665fda2b07>:4: SettingWithCopyWarning: \n",
            "A value is trying to be set on a copy of a slice from a DataFrame\n",
            "\n",
            "See the caveats in the documentation: https://pandas.pydata.org/pandas-docs/stable/user_guide/indexing.html#returning-a-view-versus-a-copy\n",
            "  df['yearsinteger'][i] = math.floor(df['years'][i])\n"
          ]
        },
        {
          "output_type": "execute_result",
          "data": {
            "text/plain": [
              "<matplotlib.axes._subplots.AxesSubplot at 0x7f6e85b86430>"
            ]
          },
          "metadata": {},
          "execution_count": 37
        },
        {
          "output_type": "display_data",
          "data": {
            "text/plain": [
              "<Figure size 432x288 with 1 Axes>"
            ],
            "image/png": "[encoded data removed]"
          },
          "metadata": {}
        }
      ]
    },
    {
      "cell_type": "markdown",
      "source": [
        "##Evaluación"
      ],
      "metadata": {
        "id": "HqSMDIHbbacj"
      },
      "id": "HqSMDIHbbacj"
    },
    {
      "cell_type": "markdown",
      "source": [
        "En esta nueva gráfica se reconfirma la conclusión que habíamos sacado de la anterior, la gan mayoría de las personas que hacen uso de esta sucursal llevan menos de un año en el banco, pero sin emabrgo en esta gráfica se puede observar mejor que hay gente que lleva 2 años, 3 años, y claramente se ve que hay más categorías que no conseguimos ver porque la representación es muy pequeña.\n",
        "\n",
        "Para poder ver todos los clientes cuanto tiempo llevan haciendo uso de esta sucursal vamos a ver contar las personas que llevan menos de un año, menos de dos, menos de tres... Y a ver a cuantos años llegamos y a ver la cantidad de personas que llevan estos años."
      ],
      "metadata": {
        "id": "nE8qqI4YvFHl"
      },
      "id": "nE8qqI4YvFHl"
    },
    {
      "cell_type": "code",
      "source": [
        "df['yearsinteger'].value_counts()"
      ],
      "metadata": {
        "id": "2pqp4YL2u8ke",
        "outputId": "51d5aad9-c8f6-4891-bd10-aa27430eecb7",
        "colab": {
          "base_uri": "https://localhost:8080/"
        }
      },
      "id": "2pqp4YL2u8ke",
      "execution_count": 38,
      "outputs": [
        {
          "output_type": "execute_result",
          "data": {
            "text/plain": [
              "0.0     34604\n",
              "1.0      6437\n",
              "2.0      1550\n",
              "3.0       510\n",
              "4.0       157\n",
              "5.0        58\n",
              "6.0        16\n",
              "8.0         8\n",
              "7.0         8\n",
              "9.0         3\n",
              "10.0        2\n",
              "13.0        1\n",
              "Name: yearsinteger, dtype: int64"
            ]
          },
          "metadata": {},
          "execution_count": 38
        }
      ]
    },
    {
      "cell_type": "markdown",
      "source": [
        "Haciendo un count de nuestra nueva variable vemos exactamente las personas que llevan X años en la empresa, vemos que ha crecido exponencialemnte esta sucursal que según pasaban los años más clientes se unian a ella.\n",
        "\n",
        "Por último, observamos que la mayoría de los clientes de esta sucursal llevan en ella un año, con una diferencia abismal. Esto puede ser por que han empezado a publiciatar esta sucursal, se ha hecho más popular, ha sacado alguna campaña, en definitiva, algo que capta a los clientes a ir a este banco y especificamente a esta sucursal.\n",
        "\n",
        "Para hacer el despliegue final creemos que sería util representar una gráfica que relaciones la edad con el tiempo que lleva cada cliente. Antes de graficarlo, pensamos que al tener el 75% de los votos, seguramente los datos no sean representativos. Pero para confirmarlo vamos a crear la gráfica."
      ],
      "metadata": {
        "id": "CCprl27fwDwf"
      },
      "id": "CCprl27fwDwf"
    },
    {
      "cell_type": "code",
      "source": [
        "scatter_plot=df.plot.scatter(x='yearsinteger',y='agecat')\n",
        "scatter_plot.plot()\n",
        "plt.show()"
      ],
      "metadata": {
        "id": "h1XaChsXq1fI",
        "outputId": "b8f79e03-a3e2-4d94-a535-f21ac1d406de",
        "colab": {
          "base_uri": "https://localhost:8080/",
          "height": 279
        }
      },
      "id": "h1XaChsXq1fI",
      "execution_count": 39,
      "outputs": [
        {
          "output_type": "display_data",
          "data": {
            "text/plain": [
              "<Figure size 432x288 with 1 Axes>"
            ],
            "image/png": "[encoded data removed]"
          },
          "metadata": {}
        }
      ]
    },
    {
      "cell_type": "markdown",
      "source": [
        "En esta gráfica podemos ver claramente que los clientes que más llevan en estas sucursal son los trabajadores veteranos, entendemos que esto es así ya que seguramente esten relacionados con la fundación de la sucursal de la universidad, y trabajadores de esta desde hace tiempo decidieron colaborar."
      ],
      "metadata": {
        "id": "9LJOw95dtFR0"
      },
      "id": "9LJOw95dtFR0"
    },
    {
      "cell_type": "markdown",
      "source": [
        "## Despliegue\n",
        "\n",
        "\n",
        "\n",
        "Como hemos dicho, la sucursal ha tenido un avance exponencial, crece con los años de manera extraordinaria. Vemos que empezó con un cliente, depsues de tres años de no conseguir ninguno sumó 2 que llevan 10 años, a partir de este año, todos los años ha ido sumando clientes y cada vez más.\n",
        "\n",
        "La subida exponencial de los clientes se puede deber a muchas cosas, campañas puclicitarias, crecimento alrededor de la zona de la sucursal, éxito del banco de la sucursal, en este caso Santander...\n",
        "\n",
        "Vemos el la última gráfica que hoy en día se están uniendio clientes de todas las edades, lo que tenemos que conseguir es que además de unirse, logremos que, los clientes no vinculados, los trabajadores jóvenes, y los alumnos duren en esta sucursal, sabemos que los trabajadores veteranos ya se quedan, por lo que tenemos que cuidar eso que hacen que se queden y que los demás debemos encontrar la forma de que se queden en ests sucursal. Esta gráfica nos ha servido para saber hacia donde tenemos que orientar las campañas, o descuentos, o cosas que llamen la atención. \n",
        "\n",
        "Pasa conseguir que la sucursal siga subiendo de clientes podemos: o seguir haciendo lo que estaban llevando a cabo (se ve que funciona) o hace más capañas publicitarias, hacer que la gente lo conozco y en concreto, la gente entre las edades que más destaca."
      ],
      "metadata": {
        "id": "WKw4Oqg4oSLr"
      },
      "id": "WKw4Oqg4oSLr"
    }
  ],
  "metadata": {
    "kernelspec": {
      "display_name": "Python 3 (ipykernel)",
      "language": "python",
      "name": "python3"
    },
    "language_info": {
      "codemirror_mode": {
        "name": "ipython",
        "version": 3
      },
      "file_extension": ".py",
      "mimetype": "text/x-python",
      "name": "python",
      "nbconvert_exporter": "python",
      "pygments_lexer": "ipython3",
      "version": "3.8.8"
    },
    "colab": {
      "provenance": [],
      "include_colab_link": true
    },
    "accelerator": "GPU",
    "gpuClass": "standard"
  },
  "nbformat": 4,
  "nbformat_minor": 5
}