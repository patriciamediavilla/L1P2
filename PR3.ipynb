{
  "nbformat": 4,
  "nbformat_minor": 0,
  "metadata": {
    "colab": {
      "provenance": [],
      "authorship_tag": "ABX9TyOU4Fn1JeXXGeg4GC1aR4bB",
      "include_colab_link": true
    },
    "kernelspec": {
      "name": "python3",
      "display_name": "Python 3"
    },
    "language_info": {
      "name": "python"
    }
  },
  "cells": [
    {
      "cell_type": "markdown",
      "metadata": {
        "id": "view-in-github",
        "colab_type": "text"
      },
      "source": [
        "<a href=\"https://colab.research.google.com/github/patriciamediavilla/L1P2/blob/main/PR3.ipynb\" target=\"_parent\"><img src=\"https://colab.research.google.com/assets/colab-badge.svg\" alt=\"Open In Colab\"/></a>"
      ]
    },
    {
      "cell_type": "markdown",
      "source": [
        "PILAR ARIAS, YEDRA MARTÍN, PATRICIA MEDIAVILLA, AMAYA SARASA\n",
        "\n",
        "<GRUPO 9>"
      ],
      "metadata": {
        "id": "3PGqz49Ix8ll"
      }
    },
    {
      "cell_type": "markdown",
      "source": [
        "#Práctica 3"
      ],
      "metadata": {
        "id": "PHhVwwvpx-En"
      }
    },
    {
      "cell_type": "markdown",
      "source": [
        "##Introducción"
      ],
      "metadata": {
        "id": "dReDrXPezjkE"
      }
    },
    {
      "cell_type": "markdown",
      "source": [
        "Esta es la tercera práctica del tercer laboratorio. En esta práctica se clasifican imágenes. Las imáenes van a ser números escritos a mano y gracias a la clasificación.\n",
        "Lo primero es cargar la base de datos con la que se va a trabajar, que es la de \"load_digits\" proporcionada por scikit-learn."
      ],
      "metadata": {
        "id": "v3Iqty2eyBqr"
      }
    },
    {
      "cell_type": "code",
      "source": [
        "#Importamos las librerias necesarias\n",
        "import numpy as np #numpy\n",
        "import pandas as pd #pandas\n",
        "import sklearn as sk #scikit-learn\n",
        "import matplotlib.pyplot as plt #gráfica Matplotlib\n",
        "import math\n",
        "\n",
        "\n",
        "from sklearn.datasets import load_digits\n",
        "digits = load_digits()\n",
        "digits"
      ],
      "metadata": {
        "colab": {
          "base_uri": "https://localhost:8080/"
        },
        "id": "mAwr2n_vx1G0",
        "outputId": "260f81e9-cd4f-4624-a385-839e48f18427"
      },
      "execution_count": 41,
      "outputs": [
        {
          "output_type": "execute_result",
          "data": {
            "text/plain": [
              "{'data': array([[ 0.,  0.,  5., ...,  0.,  0.,  0.],\n",
              "        [ 0.,  0.,  0., ..., 10.,  0.,  0.],\n",
              "        [ 0.,  0.,  0., ..., 16.,  9.,  0.],\n",
              "        ...,\n",
              "        [ 0.,  0.,  1., ...,  6.,  0.,  0.],\n",
              "        [ 0.,  0.,  2., ..., 12.,  0.,  0.],\n",
              "        [ 0.,  0., 10., ..., 12.,  1.,  0.]]),\n",
              " 'target': array([0, 1, 2, ..., 8, 9, 8]),\n",
              " 'frame': None,\n",
              " 'feature_names': ['pixel_0_0',\n",
              "  'pixel_0_1',\n",
              "  'pixel_0_2',\n",
              "  'pixel_0_3',\n",
              "  'pixel_0_4',\n",
              "  'pixel_0_5',\n",
              "  'pixel_0_6',\n",
              "  'pixel_0_7',\n",
              "  'pixel_1_0',\n",
              "  'pixel_1_1',\n",
              "  'pixel_1_2',\n",
              "  'pixel_1_3',\n",
              "  'pixel_1_4',\n",
              "  'pixel_1_5',\n",
              "  'pixel_1_6',\n",
              "  'pixel_1_7',\n",
              "  'pixel_2_0',\n",
              "  'pixel_2_1',\n",
              "  'pixel_2_2',\n",
              "  'pixel_2_3',\n",
              "  'pixel_2_4',\n",
              "  'pixel_2_5',\n",
              "  'pixel_2_6',\n",
              "  'pixel_2_7',\n",
              "  'pixel_3_0',\n",
              "  'pixel_3_1',\n",
              "  'pixel_3_2',\n",
              "  'pixel_3_3',\n",
              "  'pixel_3_4',\n",
              "  'pixel_3_5',\n",
              "  'pixel_3_6',\n",
              "  'pixel_3_7',\n",
              "  'pixel_4_0',\n",
              "  'pixel_4_1',\n",
              "  'pixel_4_2',\n",
              "  'pixel_4_3',\n",
              "  'pixel_4_4',\n",
              "  'pixel_4_5',\n",
              "  'pixel_4_6',\n",
              "  'pixel_4_7',\n",
              "  'pixel_5_0',\n",
              "  'pixel_5_1',\n",
              "  'pixel_5_2',\n",
              "  'pixel_5_3',\n",
              "  'pixel_5_4',\n",
              "  'pixel_5_5',\n",
              "  'pixel_5_6',\n",
              "  'pixel_5_7',\n",
              "  'pixel_6_0',\n",
              "  'pixel_6_1',\n",
              "  'pixel_6_2',\n",
              "  'pixel_6_3',\n",
              "  'pixel_6_4',\n",
              "  'pixel_6_5',\n",
              "  'pixel_6_6',\n",
              "  'pixel_6_7',\n",
              "  'pixel_7_0',\n",
              "  'pixel_7_1',\n",
              "  'pixel_7_2',\n",
              "  'pixel_7_3',\n",
              "  'pixel_7_4',\n",
              "  'pixel_7_5',\n",
              "  'pixel_7_6',\n",
              "  'pixel_7_7'],\n",
              " 'target_names': array([0, 1, 2, 3, 4, 5, 6, 7, 8, 9]),\n",
              " 'images': array([[[ 0.,  0.,  5., ...,  1.,  0.,  0.],\n",
              "         [ 0.,  0., 13., ..., 15.,  5.,  0.],\n",
              "         [ 0.,  3., 15., ..., 11.,  8.,  0.],\n",
              "         ...,\n",
              "         [ 0.,  4., 11., ..., 12.,  7.,  0.],\n",
              "         [ 0.,  2., 14., ..., 12.,  0.,  0.],\n",
              "         [ 0.,  0.,  6., ...,  0.,  0.,  0.]],\n",
              " \n",
              "        [[ 0.,  0.,  0., ...,  5.,  0.,  0.],\n",
              "         [ 0.,  0.,  0., ...,  9.,  0.,  0.],\n",
              "         [ 0.,  0.,  3., ...,  6.,  0.,  0.],\n",
              "         ...,\n",
              "         [ 0.,  0.,  1., ...,  6.,  0.,  0.],\n",
              "         [ 0.,  0.,  1., ...,  6.,  0.,  0.],\n",
              "         [ 0.,  0.,  0., ..., 10.,  0.,  0.]],\n",
              " \n",
              "        [[ 0.,  0.,  0., ..., 12.,  0.,  0.],\n",
              "         [ 0.,  0.,  3., ..., 14.,  0.,  0.],\n",
              "         [ 0.,  0.,  8., ..., 16.,  0.,  0.],\n",
              "         ...,\n",
              "         [ 0.,  9., 16., ...,  0.,  0.,  0.],\n",
              "         [ 0.,  3., 13., ..., 11.,  5.,  0.],\n",
              "         [ 0.,  0.,  0., ..., 16.,  9.,  0.]],\n",
              " \n",
              "        ...,\n",
              " \n",
              "        [[ 0.,  0.,  1., ...,  1.,  0.,  0.],\n",
              "         [ 0.,  0., 13., ...,  2.,  1.,  0.],\n",
              "         [ 0.,  0., 16., ..., 16.,  5.,  0.],\n",
              "         ...,\n",
              "         [ 0.,  0., 16., ..., 15.,  0.,  0.],\n",
              "         [ 0.,  0., 15., ..., 16.,  0.,  0.],\n",
              "         [ 0.,  0.,  2., ...,  6.,  0.,  0.]],\n",
              " \n",
              "        [[ 0.,  0.,  2., ...,  0.,  0.,  0.],\n",
              "         [ 0.,  0., 14., ..., 15.,  1.,  0.],\n",
              "         [ 0.,  4., 16., ..., 16.,  7.,  0.],\n",
              "         ...,\n",
              "         [ 0.,  0.,  0., ..., 16.,  2.,  0.],\n",
              "         [ 0.,  0.,  4., ..., 16.,  2.,  0.],\n",
              "         [ 0.,  0.,  5., ..., 12.,  0.,  0.]],\n",
              " \n",
              "        [[ 0.,  0., 10., ...,  1.,  0.,  0.],\n",
              "         [ 0.,  2., 16., ...,  1.,  0.,  0.],\n",
              "         [ 0.,  0., 15., ..., 15.,  0.,  0.],\n",
              "         ...,\n",
              "         [ 0.,  4., 16., ..., 16.,  6.,  0.],\n",
              "         [ 0.,  8., 16., ..., 16.,  8.,  0.],\n",
              "         [ 0.,  1.,  8., ..., 12.,  1.,  0.]]]),\n",
              " 'DESCR': \".. _digits_dataset:\\n\\nOptical recognition of handwritten digits dataset\\n--------------------------------------------------\\n\\n**Data Set Characteristics:**\\n\\n    :Number of Instances: 1797\\n    :Number of Attributes: 64\\n    :Attribute Information: 8x8 image of integer pixels in the range 0..16.\\n    :Missing Attribute Values: None\\n    :Creator: E. Alpaydin (alpaydin '@' boun.edu.tr)\\n    :Date: July; 1998\\n\\nThis is a copy of the test set of the UCI ML hand-written digits datasets\\nhttps://archive.ics.uci.edu/ml/datasets/Optical+Recognition+of+Handwritten+Digits\\n\\nThe data set contains images of hand-written digits: 10 classes where\\neach class refers to a digit.\\n\\nPreprocessing programs made available by NIST were used to extract\\nnormalized bitmaps of handwritten digits from a preprinted form. From a\\ntotal of 43 people, 30 contributed to the training set and different 13\\nto the test set. 32x32 bitmaps are divided into nonoverlapping blocks of\\n4x4 and the number of on pixels are counted in each block. This generates\\nan input matrix of 8x8 where each element is an integer in the range\\n0..16. This reduces dimensionality and gives invariance to small\\ndistortions.\\n\\nFor info on NIST preprocessing routines, see M. D. Garris, J. L. Blue, G.\\nT. Candela, D. L. Dimmick, J. Geist, P. J. Grother, S. A. Janet, and C.\\nL. Wilson, NIST Form-Based Handprint Recognition System, NISTIR 5469,\\n1994.\\n\\n.. topic:: References\\n\\n  - C. Kaynak (1995) Methods of Combining Multiple Classifiers and Their\\n    Applications to Handwritten Digit Recognition, MSc Thesis, Institute of\\n    Graduate Studies in Science and Engineering, Bogazici University.\\n  - E. Alpaydin, C. Kaynak (1998) Cascading Classifiers, Kybernetika.\\n  - Ken Tang and Ponnuthurai N. Suganthan and Xi Yao and A. Kai Qin.\\n    Linear dimensionalityreduction using relevance weighted LDA. School of\\n    Electrical and Electronic Engineering Nanyang Technological University.\\n    2005.\\n  - Claudio Gentile. A New Approximate Maximal Margin Classification\\n    Algorithm. NIPS. 2000.\\n\"}"
            ]
          },
          "metadata": {},
          "execution_count": 41
        }
      ]
    },
    {
      "cell_type": "markdown",
      "source": [
        "Cargamos el dataset de la librería indicada.\n"
      ],
      "metadata": {
        "id": "wefzif7n5Ezg"
      }
    },
    {
      "cell_type": "markdown",
      "source": [
        "Según se ha estudiado en clase, encontramos dos métodos para afrontarlo. Nos decantaremos por CRISP-DM. Las siglas para: CRoss-Industry Standard Process for Data Mining. \n",
        "\n",
        "Es un modelo de proceso de minería de datos que se utiliza en la industria. Es un marco de trabajo que define un proceso estandarizado para llevar a cabo proyectos de minería de datos, desde la definición del problema hasta la implementación y evaluación del resultado. Los seis pasos que componen Crisp-DM son los siguientes:\n",
        "\n",
        "- Comprensión de los negocios y definición del problema: comprender la naturaleza del problema y los objetivos de negocio.\n",
        "\n",
        "- Comprensión de los datos: recopilación inicial, descripción y exploración  de datos.\n",
        "\n",
        "- Preparación de los datos: Selección, limpieza, construcción, integración, formateo de los datos.\n",
        "\n",
        "- Modelado: aplicar las técnicas de minería de datos a los dataset.\n",
        "\n",
        "- Evaluación: determinar si los resultados son útiles a las necesidades del negocio.\n",
        "\n",
        "- Despliegue: explotar utilidad de los modelos, integrándolos en las tareas de toma de decisiones de la organización -> Call to Action. "
      ],
      "metadata": {
        "id": "AUWOs0ec7RUv"
      }
    },
    {
      "cell_type": "markdown",
      "source": [
        "##Comprensión de los negocios y definición del problema\n",
        "\n",
        "El etiquetado de imágenes es una tarea ardua. Es por ello y también debido a sus aplicaciones prácticas que\n",
        "los científicos llevan un tiempo intentando mejorar los métodos para clasificarlas automáticamente. En la\n",
        "oficina de correos de Pozuelo de Alarcón quieren poner en práctica un modelo que clasifique las cartas según\n",
        "el código postal escrito en ellas. Para ello vamos a crear un clasificador que leyendo un número escrito a mano\n",
        "pueda saber cuál es. Dicho clasificador funcionará mediante un set de entrenamiento donde se buscará un\n",
        "plano que divida las diferentes clases dispuesta en un espacio n-dimensional dependiendo de sus\n",
        "características.\n",
        "\n",
        "Para ello usaremos el dataset “load_digits” que se encuentra en scikit-learn. Elige el clasificador que más se\n",
        "adapte de entre los vistos en clase y usa scikit-learn junto con las librerías que necesites para resolver las\n",
        "siguientes cuestiones.\n",
        "\n",
        "1) Crea un clasificador que permita saber qué número es a partir de una imagen de este. Realiza al\n",
        "menos dos configuraciones y dibuja una tabla donde se muestre la precisión con la que clasifican.\n",
        "\n",
        "\n",
        "2) Elige 5 números que no hayas usado ni para entrenar el modelo, ni para evaluarlo y clasifícalas.\n",
        "Usa para ello el modelo que mejor clasifique de los del punto anterior. Índica con que error ha\n",
        "funcionado el clasificador. \n"
      ],
      "metadata": {
        "id": "Balnubyn7WBj"
      }
    },
    {
      "cell_type": "markdown",
      "source": [
        "## Comprensión de los datos"
      ],
      "metadata": {
        "id": "t1XM5kpy9RXT"
      }
    },
    {
      "cell_type": "markdown",
      "source": [
        "El dataset que hemos descargado me devuelve un diccionario que contiene las siguientes claves:\n",
        "\n",
        "- Data: una matriz de tamaño (nº muestras, nº características) que contiene las imágenes de los dígitos.\n",
        "- Target: una matriz de tamaño (nº muestras), que contiene las etiquetas de los dígitos, es decir, los números que representan.\n",
        "- Target_names: una matriz de tamaño (nº clases), que contiene los nombres de las etiquetas, es decir, los números que representan.\n",
        "- Images: una matriz de tamaño (nº \n",
        "muestras, altura, anchura) que contiene las imágenes de los dígitos en forma de matriz.\n",
        "- DESCR: una cadena de texto que describe el conjunto de datos.\n"
      ],
      "metadata": {
        "id": "WH49-3Xk9XDr"
      }
    },
    {
      "cell_type": "markdown",
      "source": [
        "##Preparación de los datos"
      ],
      "metadata": {
        "id": "Uyhb2HSK9d-B"
      }
    },
    {
      "cell_type": "markdown",
      "source": [
        "Primero se inspeccionan un poco más los datos.\n",
        "\n",
        "Se puede ver el tamaño del conjunto de datos, los nombres de las características, los valores de las características y los valores objetivo. \n"
      ],
      "metadata": {
        "id": "YDvXteqM9uoT"
      }
    },
    {
      "cell_type": "code",
      "source": [
        "print(digits.data.shape)\n",
        "print(digits.feature_names)"
      ],
      "metadata": {
        "colab": {
          "base_uri": "https://localhost:8080/"
        },
        "id": "UF9Np2oY_E8b",
        "outputId": "8de82d07-86d0-448f-9c01-c4afde75d35a"
      },
      "execution_count": 42,
      "outputs": [
        {
          "output_type": "stream",
          "name": "stdout",
          "text": [
            "(1797, 64)\n",
            "['pixel_0_0', 'pixel_0_1', 'pixel_0_2', 'pixel_0_3', 'pixel_0_4', 'pixel_0_5', 'pixel_0_6', 'pixel_0_7', 'pixel_1_0', 'pixel_1_1', 'pixel_1_2', 'pixel_1_3', 'pixel_1_4', 'pixel_1_5', 'pixel_1_6', 'pixel_1_7', 'pixel_2_0', 'pixel_2_1', 'pixel_2_2', 'pixel_2_3', 'pixel_2_4', 'pixel_2_5', 'pixel_2_6', 'pixel_2_7', 'pixel_3_0', 'pixel_3_1', 'pixel_3_2', 'pixel_3_3', 'pixel_3_4', 'pixel_3_5', 'pixel_3_6', 'pixel_3_7', 'pixel_4_0', 'pixel_4_1', 'pixel_4_2', 'pixel_4_3', 'pixel_4_4', 'pixel_4_5', 'pixel_4_6', 'pixel_4_7', 'pixel_5_0', 'pixel_5_1', 'pixel_5_2', 'pixel_5_3', 'pixel_5_4', 'pixel_5_5', 'pixel_5_6', 'pixel_5_7', 'pixel_6_0', 'pixel_6_1', 'pixel_6_2', 'pixel_6_3', 'pixel_6_4', 'pixel_6_5', 'pixel_6_6', 'pixel_6_7', 'pixel_7_0', 'pixel_7_1', 'pixel_7_2', 'pixel_7_3', 'pixel_7_4', 'pixel_7_5', 'pixel_7_6', 'pixel_7_7']\n"
          ]
        }
      ]
    },
    {
      "cell_type": "markdown",
      "source": [
        "Esto indica que hay 1797 imágenes y cada imagen está representada por un vector de 64 características."
      ],
      "metadata": {
        "id": "Y2JRKZTt_KPF"
      }
    },
    {
      "cell_type": "markdown",
      "source": [
        "Se ve si en el diccionario hay NaN"
      ],
      "metadata": {
        "id": "6xvzORPNCdiF"
      }
    },
    {
      "cell_type": "code",
      "source": [
        "if any([any([val != val for val in row]) for row in digits.data]):\n",
        "    print(\"Hay valores NaN en el conjunto de datos.\")\n",
        "else:\n",
        "    print(\"No hay valores NaN en el conjunto de datos.\")"
      ],
      "metadata": {
        "colab": {
          "base_uri": "https://localhost:8080/"
        },
        "id": "Q58ZN81bCjY6",
        "outputId": "3ebc4890-6eb6-48a9-e132-6d124bb314f6"
      },
      "execution_count": 43,
      "outputs": [
        {
          "output_type": "stream",
          "name": "stdout",
          "text": [
            "No hay valores NaN en el conjunto de datos.\n"
          ]
        }
      ]
    },
    {
      "cell_type": "markdown",
      "source": [
        "Ahora se sabe que en el diccionario no hay valores vacíos."
      ],
      "metadata": {
        "id": "_7GYFUMSENGM"
      }
    },
    {
      "cell_type": "markdown",
      "source": [
        "Como es una base de datos sacada de la propia librería de python podemos decir que es correcta y no hay outliers. Pero aún asi vamos a ver si es asi o no. Para ello cogemos todas las claves que contienen datos númericos y hacemos diagramas de cajas ya que es la mejor manera de visualizar los datos."
      ],
      "metadata": {
        "id": "iia5aZoSWmeq"
      }
    },
    {
      "cell_type": "code",
      "source": [
        "datos1 = digits['data']\n",
        "\n",
        "fig, ax = plt.subplots()\n",
        "ax.boxplot(datos1.flatten())\n",
        "ax.set_xticklabels(['data'])\n",
        "ax.set_ylabel('Valores')\n",
        "plt.show()"
      ],
      "metadata": {
        "colab": {
          "base_uri": "https://localhost:8080/",
          "height": 430
        },
        "id": "DPXbZWT2XU6m",
        "outputId": "576aa9a7-79ff-4875-caab-7e9c0ebf2b67"
      },
      "execution_count": 44,
      "outputs": [
        {
          "output_type": "display_data",
          "data": {
            "text/plain": [
              "<Figure size 640x480 with 1 Axes>"
            ],
            "image/png": "[encoded data removed]"
          },
          "metadata": {}
        }
      ]
    },
    {
      "cell_type": "code",
      "source": [
        "datos2 = digits['target']\n",
        "\n",
        "fig, ax = plt.subplots()\n",
        "ax.boxplot(datos2.flatten())\n",
        "ax.set_xticklabels(['target'])\n",
        "ax.set_ylabel('Valores')\n",
        "plt.show()"
      ],
      "metadata": {
        "colab": {
          "base_uri": "https://localhost:8080/",
          "height": 430
        },
        "id": "jFQilsy1aSe9",
        "outputId": "6d6e67e4-2396-4f05-e0d7-2b08f86feb5e"
      },
      "execution_count": 45,
      "outputs": [
        {
          "output_type": "display_data",
          "data": {
            "text/plain": [
              "<Figure size 640x480 with 1 Axes>"
            ],
            "image/png": "[encoded data removed]"
          },
          "metadata": {}
        }
      ]
    },
    {
      "cell_type": "code",
      "source": [
        "datos3 = digits['target_names']\n",
        "\n",
        "fig, ax = plt.subplots()\n",
        "ax.boxplot(datos3.flatten())\n",
        "ax.set_xticklabels(['target_names'])\n",
        "ax.set_ylabel('Valores')\n",
        "plt.show()"
      ],
      "metadata": {
        "colab": {
          "base_uri": "https://localhost:8080/",
          "height": 430
        },
        "id": "0PacM5k2afWG",
        "outputId": "a32309cf-c112-458f-8d52-d3ea1ab35a87"
      },
      "execution_count": 46,
      "outputs": [
        {
          "output_type": "display_data",
          "data": {
            "text/plain": [
              "<Figure size 640x480 with 1 Axes>"
            ],
            "image/png": "[encoded data removed]"
          },
          "metadata": {}
        }
      ]
    },
    {
      "cell_type": "code",
      "source": [
        "datos4 = digits['images']\n",
        "\n",
        "fig, ax = plt.subplots()\n",
        "ax.boxplot(datos4.flatten())\n",
        "ax.set_xticklabels(['imges'])\n",
        "ax.set_ylabel('Valores')\n",
        "plt.show()"
      ],
      "metadata": {
        "colab": {
          "base_uri": "https://localhost:8080/",
          "height": 430
        },
        "id": "Mo9OP2ZGatzd",
        "outputId": "a80c1c0e-2d93-43b9-fc06-caab0c823916"
      },
      "execution_count": 47,
      "outputs": [
        {
          "output_type": "display_data",
          "data": {
            "text/plain": [
              "<Figure size 640x480 with 1 Axes>"
            ],
            "image/png": "[encoded data removed]"
          },
          "metadata": {}
        }
      ]
    },
    {
      "cell_type": "markdown",
      "source": [
        "Se observa que ninguna de las claves del diccionario con el que se trabaja, no hay outliers en sus valores como se había pensado previamente. Debido a que es una base de datos proporcionada por la librería sklearn."
      ],
      "metadata": {
        "id": "Ih28-10JbHhg"
      }
    },
    {
      "cell_type": "markdown",
      "source": [
        "Por último en el anális de datos, se van a visualizar los datos para tener una mejor comprensión de los mismos. Por ejemplo, se pueden trazar algunos ejemplos de imágenes para ver cómo se ven las imágenes y cómo están etiquetadas. "
      ],
      "metadata": {
        "id": "0dNRAfVH_TMe"
      }
    },
    {
      "cell_type": "code",
      "source": [
        "fig, axes = plt.subplots(nrows=4, ncols=4, figsize=(6, 6))\n",
        "for i, ax in enumerate(axes.flat):\n",
        "  ax.imshow(digits.data[:16][i].reshape(8, 8), cmap='gray')\n",
        "  ax.set(xticks=[], yticks=[])\n",
        "plt.show()\n",
        "\n"
      ],
      "metadata": {
        "colab": {
          "base_uri": "https://localhost:8080/",
          "height": 499
        },
        "id": "9H5ZJzlZ_SMd",
        "outputId": "93b9ee96-9c11-454c-f55c-e38176adb5d3"
      },
      "execution_count": 48,
      "outputs": [
        {
          "output_type": "display_data",
          "data": {
            "text/plain": [
              "<Figure size 600x600 with 16 Axes>"
            ],
            "image/png": "[encoded data removed]"
          },
          "metadata": {}
        }
      ]
    },
    {
      "cell_type": "markdown",
      "source": [
        "Se observamos que estas imágenes, al igual es un poco confusa de reconocer, pero se diferencia perfectamente los números que se muestran (0,1,2,3,4,5,6,7,8,9,0,1,2,3,4,5) además se ve que las imágenes están en orden."
      ],
      "metadata": {
        "id": "Hx4d8VCjAz5W"
      }
    },
    {
      "cell_type": "markdown",
      "source": [
        "#Modelado"
      ],
      "metadata": {
        "id": "C37AlaCBGqJv"
      }
    },
    {
      "cell_type": "markdown",
      "source": [
        "En este paso, es el momento se aplicar una técnica de Data Mining en este caso el enunciado nos pide que utilicemos la clasificación. El objetivo es clasificar números escritos a mano.\n",
        "\n",
        "Al final cuando hay un número escrito a mano, deduces cual es a partir de similitudes con los tuyos y con los demás, por esto es un proceso de clasificación.\n",
        "\n",
        "En este problema en concreto nos interesa clasificar por planos como nos indica el enunciado, es decir, por un clasificador llamado SVM. O en otras palabras por las imágenes más parecidas estarán 'juntas' sin ser separadas por ningún plano, por lo que sabiendo esto, podemos decir que la mejor manera de clasificar las imágenes en por SVM (Support Vector Machine).\n",
        "\n",
        "Además en este clasificador existen distintas configuraciones que son útiles para que en función del tipo de problema o de los datos, se utilice un tipo de kernel para transformarlos u otro.\n"
      ],
      "metadata": {
        "id": "wIgt6l8bGr4r"
      }
    },
    {
      "cell_type": "markdown",
      "source": [
        "Una vez elegida la técnica, se empieza el proceso, para ellos debemos dividir los datos en dos conjuntos, de entrenamiento (para entrenar el modelo elegido) y de validación (para validar el modelo)."
      ],
      "metadata": {
        "id": "JbrQtdugqddg"
      }
    },
    {
      "cell_type": "code",
      "source": [
        "from sklearn.datasets import load_digits\n",
        "from sklearn.model_selection import train_test_split\n",
        "\n",
        "X_train, X_test, y_train, y_test = train_test_split(digits.data, digits.target, test_size=0.2, random_state=42)"
      ],
      "metadata": {
        "id": "i8gOBwH6Gj7N"
      },
      "execution_count": 49,
      "outputs": []
    },
    {
      "cell_type": "markdown",
      "source": [
        "En el enunciado en el segúndo punto, se pide que se eligan 5 números que no se hayan usado ni para entrenar el modelo, ni para evaluarlo y clasifícarlas.\n",
        "\n",
        "Para ello se seben sacar 5 de las imágenes que forman el conjunto de entrenamiento para no entrenar el modelo con estas para que después se pueda comprobar."
      ],
      "metadata": {
        "id": "poqH8_gXrdTE"
      }
    },
    {
      "cell_type": "code",
      "source": [
        "indicesacomprobar =  np.random.randint(low=0, high=1437, size=5)\n",
        "indicesacomprobar"
      ],
      "metadata": {
        "colab": {
          "base_uri": "https://localhost:8080/"
        },
        "id": "oDiUQv6RNO_2",
        "outputId": "6a2091c8-dc7e-4815-bb4a-44a29e81635a"
      },
      "execution_count": 50,
      "outputs": [
        {
          "output_type": "execute_result",
          "data": {
            "text/plain": [
              "array([ 330,   94, 1178,  772,  230])"
            ]
          },
          "metadata": {},
          "execution_count": 50
        }
      ]
    },
    {
      "cell_type": "markdown",
      "source": [
        "Se forma el conjunto definitivo quitando las 5 imágenes que después se comprobará."
      ],
      "metadata": {
        "id": "8A6Zw0sbNliL"
      }
    },
    {
      "cell_type": "code",
      "source": [
        "X_train = np.delete(X_train, indicesacomprobar, axis=0)\n",
        "y_train = np.delete(y_train, indicesacomprobar, axis=0)"
      ],
      "metadata": {
        "id": "YKuOy-6dNkBG"
      },
      "execution_count": 51,
      "outputs": []
    },
    {
      "cell_type": "markdown",
      "source": [
        "Finalmente los datos con los que vamos a crear el clasificador y a verificar, van a ser X_train y y_train, ya con los 5 datos de comprobación eliminados."
      ],
      "metadata": {
        "id": "qUzfF07se5Te"
      }
    },
    {
      "cell_type": "markdown",
      "source": [
        "### 1) Crea un clasificador que permita saber qué número es a partir de una imagen de este. Realiza al menos dos configuraciones y dibuja una tabla donde se muestre la precisión con la que clasifican.\n",
        "\n"
      ],
      "metadata": {
        "id": "bI27p1t3suqE"
      }
    },
    {
      "cell_type": "markdown",
      "source": [
        "Como se ha justificado, se utiliza el clasificador SVM, como hemos explicados, según el tipo de kernel clasifeica de una manera o de otra, en concreto vamos a probar cuatro tipos. \n",
        "\n",
        "Probaremos lineal, polinómico, sigmoidal y radial, entre estos eligiremos el que cuyo accuracy se acerque más a 1.\n",
        "\n",
        "A continuación creamos los clasificadores."
      ],
      "metadata": {
        "id": "oa5xAnQ_HOJo"
      }
    },
    {
      "cell_type": "code",
      "source": [
        "from sklearn import svm\n",
        "from sklearn.svm import SVC\n",
        "from sklearn.metrics import accuracy_score\n",
        "\n",
        "#SVM lineal\n",
        "lineal = svm.SVC(kernel='linear')\n",
        "lineal.fit(X_train, y_train)\n",
        "y_pred_lineal = lineal.predict(X_test)\n",
        "accuracy_lineal = accuracy_score(y_test, y_pred_lineal)\n",
        "\n",
        "# SVM radial\n",
        "radial = svm.SVC(kernel='rbf')\n",
        "radial.fit(X_train, y_train)\n",
        "y_pred_radial = radial.predict(X_test)\n",
        "accuracy_radial = accuracy_score(y_test, y_pred_radial)\n",
        "\n",
        "# SVM de kernel polinómico\n",
        "pol = svm.SVC(kernel='poly', degree=3)\n",
        "pol.fit(X_train, y_train)\n",
        "y_pred_pol = pol.predict(X_test)\n",
        "accuracy_pol = accuracy_score(y_test, y_pred_pol)\n",
        "\n",
        "# SVM sigmoidal\n",
        "sig = svm.SVC(kernel='sigmoid')\n",
        "sig.fit(X_train, y_train)\n",
        "y_pred_sig = sig.predict(X_test)\n",
        "accuracy_sig = accuracy_score(y_test, y_pred_sig)\n",
        "\n"
      ],
      "metadata": {
        "id": "wsEFSDqoHcd0"
      },
      "execution_count": 52,
      "outputs": []
    },
    {
      "cell_type": "markdown",
      "source": [
        "Una vez creados los modelos, para saber que tipo de kernel tiene más precisión es mejor, calculamos el accuracy de cada uno de los modelos creados."
      ],
      "metadata": {
        "id": "2fMF8bZQHyBz"
      }
    },
    {
      "cell_type": "code",
      "source": [
        "precisions = [['SVM lineal', accuracy_lineal], \n",
        "              ['SVM radial', accuracy_radial], \n",
        "              ['SVM polinómico', accuracy_pol], \n",
        "              ['SVM sigmoidal', accuracy_sig]]\n",
        "\n",
        "tabla = pd.DataFrame(precisions, columns=['Modelo SVM', 'Precisión'], index=None)\n",
        "print(tabla.to_string(index=False).format(\"{:<20} {:>10.4f}\"))"
      ],
      "metadata": {
        "colab": {
          "base_uri": "https://localhost:8080/"
        },
        "id": "E4T2HU0eH0SU",
        "outputId": "a0981fff-463a-45ea-8387-71e141f104b6"
      },
      "execution_count": 59,
      "outputs": [
        {
          "output_type": "stream",
          "name": "stdout",
          "text": [
            "    Modelo SVM  Precisión\n",
            "    SVM lineal   0.977778\n",
            "    SVM radial   0.986111\n",
            "SVM polinómico   0.991667\n",
            " SVM sigmoidal   0.908333\n"
          ]
        }
      ]
    },
    {
      "cell_type": "markdown",
      "source": [
        "Observando la tabla de precisión para cada una de las configuraciones, a pesar de ser todas muy altas y muy buenas, el modelo menos correcto se ve a simplemente que es el sigmoidal. Las demás estan más igualadas pero vemos que la más precisa es la que utiliza kernel polinómico. \n",
        "\n",
        "Por lo que finalmente utilizaremos SVM polimómicos para clasificar las imágenes haciendo uso de planos."
      ],
      "metadata": {
        "id": "UWSInNi6IUPT"
      }
    },
    {
      "cell_type": "code",
      "source": [
        "from sklearn.metrics import confusion_matrix\n",
        "import seaborn as sns\n",
        "\n",
        "# matriz de confusión para SVM lineal\n",
        "cm_lineal = confusion_matrix(y_test, y_pred_lineal)\n",
        "\n",
        "# visualización de la matriz de confusión\n",
        "sns.heatmap(cm_pol, annot=True, cmap='Blues')\n",
        "plt.title('Matriz de confusión para SVM polinómico')\n",
        "plt.xlabel('Etiquetas predichas')\n",
        "plt.ylabel('Etiquetas reales')\n",
        "plt.show()"
      ],
      "metadata": {
        "colab": {
          "base_uri": "https://localhost:8080/",
          "height": 472
        },
        "id": "-hGh9jTaib3O",
        "outputId": "8283deda-018d-4786-cc99-b1302b3bbb16"
      },
      "execution_count": 54,
      "outputs": [
        {
          "output_type": "display_data",
          "data": {
            "text/plain": [
              "<Figure size 640x480 with 2 Axes>"
            ],
            "image/png": "[encoded data removed]"
          },
          "metadata": {}
        }
      ]
    },
    {
      "cell_type": "markdown",
      "source": [],
      "metadata": {
        "id": "v-JzuQvbqxf5"
      }
    },
    {
      "cell_type": "markdown",
      "source": [
        "Finalmente entrenamos el modelo "
      ],
      "metadata": {
        "id": "3WzFhDVaqxCx"
      }
    },
    {
      "cell_type": "code",
      "source": [
        "# Entrenar el clasificador SVM polinomico\n",
        "pol.fit(X_train, y_train)"
      ],
      "metadata": {
        "colab": {
          "base_uri": "https://localhost:8080/",
          "height": 74
        },
        "id": "hR4hoZxPlHNx",
        "outputId": "dab0ac7c-fc7a-4647-9056-987a0c7cf85f"
      },
      "execution_count": 60,
      "outputs": [
        {
          "output_type": "execute_result",
          "data": {
            "text/plain": [
              "SVC(kernel='poly')"
            ],
            "text/html": [
              "<style>#sk-container-id-1 {color: black;background-color: white;}#sk-container-id-1 pre{padding: 0;}#sk-container-id-1 div.sk-toggleable {background-color: white;}#sk-container-id-1 label.sk-toggleable__label {cursor: pointer;display: block;width: 100%;margin-bottom: 0;padding: 0.3em;box-sizing: border-box;text-align: center;}#sk-container-id-1 label.sk-toggleable__label-arrow:before {content: \"▸\";float: left;margin-right: 0.25em;color: #696969;}#sk-container-id-1 label.sk-toggleable__label-arrow:hover:before {color: black;}#sk-container-id-1 div.sk-estimator:hover label.sk-toggleable__label-arrow:before {color: black;}#sk-container-id-1 div.sk-toggleable__content {max-height: 0;max-width: 0;overflow: hidden;text-align: left;background-color: #f0f8ff;}#sk-container-id-1 div.sk-toggleable__content pre {margin: 0.2em;color: black;border-radius: 0.25em;background-color: #f0f8ff;}#sk-container-id-1 input.sk-toggleable__control:checked~div.sk-toggleable__content {max-height: 200px;max-width: 100%;overflow: auto;}#sk-container-id-1 input.sk-toggleable__control:checked~label.sk-toggleable__label-arrow:before {content: \"▾\";}#sk-container-id-1 div.sk-estimator input.sk-toggleable__control:checked~label.sk-toggleable__label {background-color: #d4ebff;}#sk-container-id-1 div.sk-label input.sk-toggleable__control:checked~label.sk-toggleable__label {background-color: #d4ebff;}#sk-container-id-1 input.sk-hidden--visually {border: 0;clip: rect(1px 1px 1px 1px);clip: rect(1px, 1px, 1px, 1px);height: 1px;margin: -1px;overflow: hidden;padding: 0;position: absolute;width: 1px;}#sk-container-id-1 div.sk-estimator {font-family: monospace;background-color: #f0f8ff;border: 1px dotted black;border-radius: 0.25em;box-sizing: border-box;margin-bottom: 0.5em;}#sk-container-id-1 div.sk-estimator:hover {background-color: #d4ebff;}#sk-container-id-1 div.sk-parallel-item::after {content: \"\";width: 100%;border-bottom: 1px solid gray;flex-grow: 1;}#sk-container-id-1 div.sk-label:hover label.sk-toggleable__label {background-color: #d4ebff;}#sk-container-id-1 div.sk-serial::before {content: \"\";position: absolute;border-left: 1px solid gray;box-sizing: border-box;top: 0;bottom: 0;left: 50%;z-index: 0;}#sk-container-id-1 div.sk-serial {display: flex;flex-direction: column;align-items: center;background-color: white;padding-right: 0.2em;padding-left: 0.2em;position: relative;}#sk-container-id-1 div.sk-item {position: relative;z-index: 1;}#sk-container-id-1 div.sk-parallel {display: flex;align-items: stretch;justify-content: center;background-color: white;position: relative;}#sk-container-id-1 div.sk-item::before, #sk-container-id-1 div.sk-parallel-item::before {content: \"\";position: absolute;border-left: 1px solid gray;box-sizing: border-box;top: 0;bottom: 0;left: 50%;z-index: -1;}#sk-container-id-1 div.sk-parallel-item {display: flex;flex-direction: column;z-index: 1;position: relative;background-color: white;}#sk-container-id-1 div.sk-parallel-item:first-child::after {align-self: flex-end;width: 50%;}#sk-container-id-1 div.sk-parallel-item:last-child::after {align-self: flex-start;width: 50%;}#sk-container-id-1 div.sk-parallel-item:only-child::after {width: 0;}#sk-container-id-1 div.sk-dashed-wrapped {border: 1px dashed gray;margin: 0 0.4em 0.5em 0.4em;box-sizing: border-box;padding-bottom: 0.4em;background-color: white;}#sk-container-id-1 div.sk-label label {font-family: monospace;font-weight: bold;display: inline-block;line-height: 1.2em;}#sk-container-id-1 div.sk-label-container {text-align: center;}#sk-container-id-1 div.sk-container {/* jupyter's `normalize.less` sets `[hidden] { display: none; }` but bootstrap.min.css set `[hidden] { display: none !important; }` so we also need the `!important` here to be able to override the default hidden behavior on the sphinx rendered scikit-learn.org. See: https://github.com/scikit-learn/scikit-learn/issues/21755 */display: inline-block !important;position: relative;}#sk-container-id-1 div.sk-text-repr-fallback {display: none;}</style><div id=\"sk-container-id-1\" class=\"sk-top-container\"><div class=\"sk-text-repr-fallback\"><pre>SVC(kernel=&#x27;poly&#x27;)</pre><b>In a Jupyter environment, please rerun this cell to show the HTML representation or trust the notebook. <br />On GitHub, the HTML representation is unable to render, please try loading this page with nbviewer.org.</b></div><div class=\"sk-container\" hidden><div class=\"sk-item\"><div class=\"sk-estimator sk-toggleable\"><input class=\"sk-toggleable__control sk-hidden--visually\" id=\"sk-estimator-id-1\" type=\"checkbox\" checked><label for=\"sk-estimator-id-1\" class=\"sk-toggleable__label sk-toggleable__label-arrow\">SVC</label><div class=\"sk-toggleable__content\"><pre>SVC(kernel=&#x27;poly&#x27;)</pre></div></div></div></div></div>"
            ]
          },
          "metadata": {},
          "execution_count": 60
        }
      ]
    },
    {
      "cell_type": "markdown",
      "source": [
        "###2) Elige 5 números que no hayas usado ni para entrenar el modelo, ni para evaluarlo y clasifícalas. Usa para ello el modelo que mejor clasifique de los del punto anterior. Índica con que error hafuncionado el clasificador. "
      ],
      "metadata": {
        "id": "AqfnLb3JKFGr"
      }
    },
    {
      "cell_type": "markdown",
      "source": [
        "Con las imágenes que se han extraido al principio son con las que se trabaja en este apartado."
      ],
      "metadata": {
        "id": "F27l5L3xvDCU"
      }
    },
    {
      "cell_type": "code",
      "source": [
        "comprobar = digits.data[indicesacomprobar]\n",
        "\n",
        "fig, axs = plt.subplots(1, 5)\n",
        "for i in range(5):\n",
        "    axs[i].imshow(comprobar[i].reshape(8, 8), cmap='gray')\n",
        "plt.show()"
      ],
      "metadata": {
        "colab": {
          "base_uri": "https://localhost:8080/",
          "height": 146
        },
        "id": "N40tqkrYLBCH",
        "outputId": "b815f9aa-f6c1-4633-caaf-49e5710e15a6"
      },
      "execution_count": 56,
      "outputs": [
        {
          "output_type": "display_data",
          "data": {
            "text/plain": [
              "<Figure size 640x480 with 5 Axes>"
            ],
            "image/png": "[encoded data removed]"
          },
          "metadata": {}
        }
      ]
    },
    {
      "cell_type": "markdown",
      "source": [
        "Estas son lás imágenes que se habían reservado, ahora vamos a ver lo que predice nuestro modelo y lo que representas las imágenes reales con la clave target del diccionario que guarda el valor de cada imágen.\n",
        "\n",
        "Por último se comprueba que todas las imágenes estén bien clasificadas por nuestro clasificador SVM pol."
      ],
      "metadata": {
        "id": "YDOg1FAmvLsy"
      }
    },
    {
      "cell_type": "code",
      "source": [
        "prediccion = pol.predict(comprobar)\n",
        "print(prediccion)\n",
        "\n",
        "real = digits['target'][indicesacomprobar]\n",
        "print(real)\n",
        "\n",
        "if (prediccion == real).all():\n",
        "  print('La predicción se ha hecho correctamente')"
      ],
      "metadata": {
        "colab": {
          "base_uri": "https://localhost:8080/"
        },
        "id": "Xio3L0mxLTJp",
        "outputId": "2625962a-d973-454f-ebcd-98caa0c0a73c"
      },
      "execution_count": 57,
      "outputs": [
        {
          "output_type": "stream",
          "name": "stdout",
          "text": [
            "[5 7 1 0 5]\n",
            "[5 7 1 0 5]\n",
            "La predicción se ha hecho correctamente\n"
          ]
        }
      ]
    },
    {
      "cell_type": "markdown",
      "source": [
        "#Evaluación"
      ],
      "metadata": {
        "id": "BqVFn2sawBc7"
      }
    },
    {
      "cell_type": "markdown",
      "source": [
        "En cuanto a la evaluación de este trabajo, podemos decir que es muy buen modelo, ya que se ha ejecutado el código una cantidad de veces muy alta y podemos decir que ninguna ha fallado en la predicción. Esto es debido a la precisión del modelo que es 0.99, es muy cercano al uno por lo que hay muy poca probabilidad de que clasifique mal."
      ],
      "metadata": {
        "id": "XxX42l1NwGi-"
      }
    },
    {
      "cell_type": "markdown",
      "source": [
        "#Despliegue\n",
        "\n",
        "Este trabajo se ha hecho especificamente para ayudar a la oficina de correos en Pozuelo de Alarcón, para que una máquina lea el código postal de las cartas que llegan y se clasifiquen direcamente gracias a un clasificador como el que se acaba de crear. \n",
        "\n",
        "Esto es una ventaja a destacar, ya que de esta manera una persona no se tiene que dedicar unica y exclusivamente a leer números, entenderlos y clasificarlos, esta persona se podía dedicar igual a una tarea más interesante."
      ],
      "metadata": {
        "id": "b3GEkZ9CxRCG"
      }
    }
  ]
}