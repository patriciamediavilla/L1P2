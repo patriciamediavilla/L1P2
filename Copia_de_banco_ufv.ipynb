{
  "cells": [
    {
      "cell_type": "markdown",
      "metadata": {
        "id": "view-in-github",
        "colab_type": "text"
      },
      "source": [
        "<a href=\"https://colab.research.google.com/github/patriciamediavilla/L1P2/blob/main/Copia_de_banco_ufv.ipynb\" target=\"_parent\"><img src=\"https://colab.research.google.com/assets/colab-badge.svg\" alt=\"Open In Colab\"/></a>"
      ]
    },
    {
      "cell_type": "markdown",
      "source": [
        "PILAR ARIAS, YEDRA MARTÍN, PATRICIA MEDIAVILLA, AMAYA SARASA\n",
        "\n",
        "<GRUPO 9>"
      ],
      "metadata": {
        "id": "kHEnWZsNJqxf"
      },
      "id": "kHEnWZsNJqxf"
    },
    {
      "cell_type": "markdown",
      "source": [
        "#Práctica 2"
      ],
      "metadata": {
        "id": "D1BN2uCfubc1"
      },
      "id": "D1BN2uCfubc1"
    },
    {
      "cell_type": "markdown",
      "source": [
        "##INTRODUCCIÓN"
      ],
      "metadata": {
        "id": "W_B14sgMKNmZ"
      },
      "id": "W_B14sgMKNmZ"
    },
    {
      "cell_type": "markdown",
      "source": [
        "Esta es la segunda práctica del primer laboratorio. Dada una base de datos en formato .csv, se nos pide contestar a una serie de cuestiones. Para ello, lo primero que debemos hacer es cargar y leer la base de datos:"
      ],
      "metadata": {
        "id": "VlRcgemyKVhj"
      },
      "id": "VlRcgemyKVhj"
    },
    {
      "cell_type": "code",
      "execution_count": 110,
      "id": "e96c2f3c",
      "metadata": {
        "id": "e96c2f3c",
        "outputId": "17f64452-b7f5-4804-cbcc-dec2abeaed94",
        "colab": {
          "base_uri": "https://localhost:8080/",
          "height": 686
        }
      },
      "outputs": [
        {
          "output_type": "stream",
          "name": "stdout",
          "text": [
            "<class 'pandas.core.frame.DataFrame'>\n",
            "RangeIndex: 45211 entries, 0 to 45210\n",
            "Data columns (total 17 columns):\n",
            " #   Column     Non-Null Count  Dtype \n",
            "---  ------     --------------  ----- \n",
            " 0   age        45211 non-null  int64 \n",
            " 1   job        45211 non-null  object\n",
            " 2   marital    45211 non-null  object\n",
            " 3   education  45211 non-null  object\n",
            " 4   default    45211 non-null  object\n",
            " 5   balance    45211 non-null  int64 \n",
            " 6   housing    45211 non-null  object\n",
            " 7   loan       45211 non-null  object\n",
            " 8   contact    45211 non-null  object\n",
            " 9   day        45211 non-null  int64 \n",
            " 10  month      45211 non-null  object\n",
            " 11  duration   45211 non-null  int64 \n",
            " 12  campaign   45211 non-null  int64 \n",
            " 13  pdays      45211 non-null  int64 \n",
            " 14  previous   45211 non-null  int64 \n",
            " 15  poutcome   45211 non-null  object\n",
            " 16  y          45211 non-null  object\n",
            "dtypes: int64(7), object(10)\n",
            "memory usage: 5.9+ MB\n"
          ]
        },
        {
          "output_type": "execute_result",
          "data": {
            "text/plain": [
              "   age           job  marital  education default  balance housing loan  \\\n",
              "0   58    management  married   tertiary      no     2143     yes   no   \n",
              "1   44    technician   single  secondary      no       29     yes   no   \n",
              "2   33  entrepreneur  married  secondary      no        2     yes  yes   \n",
              "3   47   blue-collar  married    unknown      no     1506     yes   no   \n",
              "4   33       unknown   single    unknown      no        1      no   no   \n",
              "\n",
              "   contact  day month  duration  campaign  pdays  previous poutcome   y  \n",
              "0  unknown    5   may       261         1     -1         0  unknown  no  \n",
              "1  unknown    5   may       151         1     -1         0  unknown  no  \n",
              "2  unknown    5   may        76         1     -1         0  unknown  no  \n",
              "3  unknown    5   may        92         1     -1         0  unknown  no  \n",
              "4  unknown    5   may       198         1     -1         0  unknown  no  "
            ],
            "text/html": [
              "\n",
              "  <div id=\"df-411d4805-02cc-4a0b-b649-6e934cc2b4af\">\n",
              "    <div class=\"colab-df-container\">\n",
              "      <div>\n",
              "<style scoped>\n",
              "    .dataframe tbody tr th:only-of-type {\n",
              "        vertical-align: middle;\n",
              "    }\n",
              "\n",
              "    .dataframe tbody tr th {\n",
              "        vertical-align: top;\n",
              "    }\n",
              "\n",
              "    .dataframe thead th {\n",
              "        text-align: right;\n",
              "    }\n",
              "</style>\n",
              "<table border=\"1\" class=\"dataframe\">\n",
              "  <thead>\n",
              "    <tr style=\"text-align: right;\">\n",
              "      <th></th>\n",
              "      <th>age</th>\n",
              "      <th>job</th>\n",
              "      <th>marital</th>\n",
              "      <th>education</th>\n",
              "      <th>default</th>\n",
              "      <th>balance</th>\n",
              "      <th>housing</th>\n",
              "      <th>loan</th>\n",
              "      <th>contact</th>\n",
              "      <th>day</th>\n",
              "      <th>month</th>\n",
              "      <th>duration</th>\n",
              "      <th>campaign</th>\n",
              "      <th>pdays</th>\n",
              "      <th>previous</th>\n",
              "      <th>poutcome</th>\n",
              "      <th>y</th>\n",
              "    </tr>\n",
              "  </thead>\n",
              "  <tbody>\n",
              "    <tr>\n",
              "      <th>0</th>\n",
              "      <td>58</td>\n",
              "      <td>management</td>\n",
              "      <td>married</td>\n",
              "      <td>tertiary</td>\n",
              "      <td>no</td>\n",
              "      <td>2143</td>\n",
              "      <td>yes</td>\n",
              "      <td>no</td>\n",
              "      <td>unknown</td>\n",
              "      <td>5</td>\n",
              "      <td>may</td>\n",
              "      <td>261</td>\n",
              "      <td>1</td>\n",
              "      <td>-1</td>\n",
              "      <td>0</td>\n",
              "      <td>unknown</td>\n",
              "      <td>no</td>\n",
              "    </tr>\n",
              "    <tr>\n",
              "      <th>1</th>\n",
              "      <td>44</td>\n",
              "      <td>technician</td>\n",
              "      <td>single</td>\n",
              "      <td>secondary</td>\n",
              "      <td>no</td>\n",
              "      <td>29</td>\n",
              "      <td>yes</td>\n",
              "      <td>no</td>\n",
              "      <td>unknown</td>\n",
              "      <td>5</td>\n",
              "      <td>may</td>\n",
              "      <td>151</td>\n",
              "      <td>1</td>\n",
              "      <td>-1</td>\n",
              "      <td>0</td>\n",
              "      <td>unknown</td>\n",
              "      <td>no</td>\n",
              "    </tr>\n",
              "    <tr>\n",
              "      <th>2</th>\n",
              "      <td>33</td>\n",
              "      <td>entrepreneur</td>\n",
              "      <td>married</td>\n",
              "      <td>secondary</td>\n",
              "      <td>no</td>\n",
              "      <td>2</td>\n",
              "      <td>yes</td>\n",
              "      <td>yes</td>\n",
              "      <td>unknown</td>\n",
              "      <td>5</td>\n",
              "      <td>may</td>\n",
              "      <td>76</td>\n",
              "      <td>1</td>\n",
              "      <td>-1</td>\n",
              "      <td>0</td>\n",
              "      <td>unknown</td>\n",
              "      <td>no</td>\n",
              "    </tr>\n",
              "    <tr>\n",
              "      <th>3</th>\n",
              "      <td>47</td>\n",
              "      <td>blue-collar</td>\n",
              "      <td>married</td>\n",
              "      <td>unknown</td>\n",
              "      <td>no</td>\n",
              "      <td>1506</td>\n",
              "      <td>yes</td>\n",
              "      <td>no</td>\n",
              "      <td>unknown</td>\n",
              "      <td>5</td>\n",
              "      <td>may</td>\n",
              "      <td>92</td>\n",
              "      <td>1</td>\n",
              "      <td>-1</td>\n",
              "      <td>0</td>\n",
              "      <td>unknown</td>\n",
              "      <td>no</td>\n",
              "    </tr>\n",
              "    <tr>\n",
              "      <th>4</th>\n",
              "      <td>33</td>\n",
              "      <td>unknown</td>\n",
              "      <td>single</td>\n",
              "      <td>unknown</td>\n",
              "      <td>no</td>\n",
              "      <td>1</td>\n",
              "      <td>no</td>\n",
              "      <td>no</td>\n",
              "      <td>unknown</td>\n",
              "      <td>5</td>\n",
              "      <td>may</td>\n",
              "      <td>198</td>\n",
              "      <td>1</td>\n",
              "      <td>-1</td>\n",
              "      <td>0</td>\n",
              "      <td>unknown</td>\n",
              "      <td>no</td>\n",
              "    </tr>\n",
              "  </tbody>\n",
              "</table>\n",
              "</div>\n",
              "      <button class=\"colab-df-convert\" onclick=\"convertToInteractive('df-411d4805-02cc-4a0b-b649-6e934cc2b4af')\"\n",
              "              title=\"Convert this dataframe to an interactive table.\"\n",
              "              style=\"display:none;\">\n",
              "        \n",
              "  <svg xmlns=\"http://www.w3.org/2000/svg\" height=\"24px\"viewBox=\"0 0 24 24\"\n",
              "       width=\"24px\">\n",
              "    <path d=\"M0 0h24v24H0V0z\" fill=\"none\"/>\n",
              "    <path d=\"M18.56 5.44l.94 2.06.94-2.06 2.06-.94-2.06-.94-.94-2.06-.94 2.06-2.06.94zm-11 1L8.5 8.5l.94-2.06 2.06-.94-2.06-.94L8.5 2.5l-.94 2.06-2.06.94zm10 10l.94 2.06.94-2.06 2.06-.94-2.06-.94-.94-2.06-.94 2.06-2.06.94z\"/><path d=\"M17.41 7.96l-1.37-1.37c-.4-.4-.92-.59-1.43-.59-.52 0-1.04.2-1.43.59L10.3 9.45l-7.72 7.72c-.78.78-.78 2.05 0 2.83L4 21.41c.39.39.9.59 1.41.59.51 0 1.02-.2 1.41-.59l7.78-7.78 2.81-2.81c.8-.78.8-2.07 0-2.86zM5.41 20L4 18.59l7.72-7.72 1.47 1.35L5.41 20z\"/>\n",
              "  </svg>\n",
              "      </button>\n",
              "      \n",
              "  <style>\n",
              "    .colab-df-container {\n",
              "      display:flex;\n",
              "      flex-wrap:wrap;\n",
              "      gap: 12px;\n",
              "    }\n",
              "\n",
              "    .colab-df-convert {\n",
              "      background-color: #E8F0FE;\n",
              "      border: none;\n",
              "      border-radius: 50%;\n",
              "      cursor: pointer;\n",
              "      display: none;\n",
              "      fill: #1967D2;\n",
              "      height: 32px;\n",
              "      padding: 0 0 0 0;\n",
              "      width: 32px;\n",
              "    }\n",
              "\n",
              "    .colab-df-convert:hover {\n",
              "      background-color: #E2EBFA;\n",
              "      box-shadow: 0px 1px 2px rgba(60, 64, 67, 0.3), 0px 1px 3px 1px rgba(60, 64, 67, 0.15);\n",
              "      fill: #174EA6;\n",
              "    }\n",
              "\n",
              "    [theme=dark] .colab-df-convert {\n",
              "      background-color: #3B4455;\n",
              "      fill: #D2E3FC;\n",
              "    }\n",
              "\n",
              "    [theme=dark] .colab-df-convert:hover {\n",
              "      background-color: #434B5C;\n",
              "      box-shadow: 0px 1px 3px 1px rgba(0, 0, 0, 0.15);\n",
              "      filter: drop-shadow(0px 1px 2px rgba(0, 0, 0, 0.3));\n",
              "      fill: #FFFFFF;\n",
              "    }\n",
              "  </style>\n",
              "\n",
              "      <script>\n",
              "        const buttonEl =\n",
              "          document.querySelector('#df-411d4805-02cc-4a0b-b649-6e934cc2b4af button.colab-df-convert');\n",
              "        buttonEl.style.display =\n",
              "          google.colab.kernel.accessAllowed ? 'block' : 'none';\n",
              "\n",
              "        async function convertToInteractive(key) {\n",
              "          const element = document.querySelector('#df-411d4805-02cc-4a0b-b649-6e934cc2b4af');\n",
              "          const dataTable =\n",
              "            await google.colab.kernel.invokeFunction('convertToInteractive',\n",
              "                                                     [key], {});\n",
              "          if (!dataTable) return;\n",
              "\n",
              "          const docLinkHtml = 'Like what you see? Visit the ' +\n",
              "            '<a target=\"_blank\" href=https://colab.research.google.com/notebooks/data_table.ipynb>data table notebook</a>'\n",
              "            + ' to learn more about interactive tables.';\n",
              "          element.innerHTML = '';\n",
              "          dataTable['output_type'] = 'display_data';\n",
              "          await google.colab.output.renderOutput(dataTable, element);\n",
              "          const docLink = document.createElement('div');\n",
              "          docLink.innerHTML = docLinkHtml;\n",
              "          element.appendChild(docLink);\n",
              "        }\n",
              "      </script>\n",
              "    </div>\n",
              "  </div>\n",
              "  "
            ]
          },
          "metadata": {},
          "execution_count": 110
        }
      ],
      "source": [
        "#Importamos las librerías y la base de datos necesarias\n",
        "\n",
        "import numpy as np #numpy\n",
        "import pandas as pd #pandas\n",
        "import sklearn as sk #scikit-learn\n",
        "import matplotlib.pyplot as plt #gráfica Matplotlib\n",
        "\n",
        "df = pd.read_csv('banco_ufv.csv',sep=';')\n",
        "df.info()\n",
        "df.head()"
      ]
    },
    {
      "cell_type": "markdown",
      "source": [
        "Subimos la base de datos, df.info nos aporta la infomación que contiene la base de datos, vemos las variables, el tipo de las variables con las que trabajamos... y .head vamos a ver que foram tiene la base de datos y las primeras filas de esta."
      ],
      "metadata": {
        "id": "zckW9TXIs6DB"
      },
      "id": "zckW9TXIs6DB"
    },
    {
      "cell_type": "markdown",
      "source": [
        "Según se ha estudiado en clase, encontramos dos métodos para afrontarlo. Nos decantaremos por CRISP-DM. Las siglas para: CRoss-Industry Standard Process for Data Mining. \n",
        "\n",
        "Es un modelo de proceso de minería de datos que se utiliza en la industria. Es un marco de trabajo que define un proceso estandarizado para llevar a cabo proyectos de minería de datos, desde la definición del problema hasta la implementación y evaluación del resultado. Los seis pasos que componen Crisp-DM son los siguientes:\n",
        "\n",
        "- Comprensión de los negocios y definición del problema: comprender la naturaleza del problema y los objetivos de negocio.\n",
        "\n",
        "- Comprensión de los datos: recopilación inicial, descripción y exploración  de datos.\n",
        "\n",
        "- Preparación de los datos: Selección, limpieza, construcción, integración, formateo de los datos.\n",
        "\n",
        "- Modelado: aplicar las técnicas de minería de datos a los dataset.\n",
        "\n",
        "- Evaluación: determinar si los resultados son útiles a las necesidades del negocio.\n",
        "\n",
        "- Despliegue: explotar utilidad de los modelos, integrándolos en las tareas de toma de decisiones de la organización -> Call to Action. \n"
      ],
      "metadata": {
        "id": "g397Sp0DuT8O"
      },
      "id": "g397Sp0DuT8O"
    },
    {
      "cell_type": "markdown",
      "source": [
        "## Comprensión del negocio y definición del problema.\n",
        "\n",
        "La sucursal del Banco Santander situada en el campus de la Universidad Francisco de Vitoria nos solicita hacer varios estudios de sus clientes. \n",
        "\n",
        "Para ello haremos uso de un dataset proporcionado por la propia sucursal que \n",
        "se puede encontrar en Moodle.\n",
        "\n",
        "\n",
        "\n",
        "\n"
      ],
      "metadata": {
        "id": "6EKBOjDFIV6p"
      },
      "id": "6EKBOjDFIV6p"
    },
    {
      "cell_type": "markdown",
      "source": [
        "## Comprensión de los datos\n",
        "\n",
        "La base de datos que utilizaremos consta de 45211 observaciones\n",
        "\n",
        "Existen 17 tipos de atributos distintos entre ellos: age, job, marital y muchos más.\n",
        "\n",
        "Siguiendo las especificaciones dadas, para poder resolver todas las dudas que se nos plantearán solo requeriremos trabajar con los siguientes 4 atributos.\n",
        "\n",
        "- age (edad)\n",
        "- education (nivel de educación)\n",
        "- balance (balance de la cuenta)\n",
        "- duration (tiempo que llevan como clientes)\n",
        "\n",
        "Por lo tanto seguiremos adelante solo considerando estos 4 atributos, lo que positivamente afectará nuestra rapidez a la hora de avanzar en la resolución de los problemas planteados."
      ],
      "metadata": {
        "id": "3Ncb60qeMd47"
      },
      "id": "3Ncb60qeMd47"
    },
    {
      "cell_type": "code",
      "execution_count": 111,
      "id": "0b65f91a",
      "metadata": {
        "id": "0b65f91a",
        "outputId": "b94eab37-3d6b-48d8-b343-89630182f92d",
        "colab": {
          "base_uri": "https://localhost:8080/",
          "height": 206
        }
      },
      "outputs": [
        {
          "output_type": "execute_result",
          "data": {
            "text/plain": [
              "   age  education  balance  duration\n",
              "0   58   tertiary     2143       261\n",
              "1   44  secondary       29       151\n",
              "2   33  secondary        2        76\n",
              "3   47    unknown     1506        92\n",
              "4   33    unknown        1       198"
            ],
            "text/html": [
              "\n",
              "  <div id=\"df-0d64ec04-0361-485f-b67c-b44636cb1887\">\n",
              "    <div class=\"colab-df-container\">\n",
              "      <div>\n",
              "<style scoped>\n",
              "    .dataframe tbody tr th:only-of-type {\n",
              "        vertical-align: middle;\n",
              "    }\n",
              "\n",
              "    .dataframe tbody tr th {\n",
              "        vertical-align: top;\n",
              "    }\n",
              "\n",
              "    .dataframe thead th {\n",
              "        text-align: right;\n",
              "    }\n",
              "</style>\n",
              "<table border=\"1\" class=\"dataframe\">\n",
              "  <thead>\n",
              "    <tr style=\"text-align: right;\">\n",
              "      <th></th>\n",
              "      <th>age</th>\n",
              "      <th>education</th>\n",
              "      <th>balance</th>\n",
              "      <th>duration</th>\n",
              "    </tr>\n",
              "  </thead>\n",
              "  <tbody>\n",
              "    <tr>\n",
              "      <th>0</th>\n",
              "      <td>58</td>\n",
              "      <td>tertiary</td>\n",
              "      <td>2143</td>\n",
              "      <td>261</td>\n",
              "    </tr>\n",
              "    <tr>\n",
              "      <th>1</th>\n",
              "      <td>44</td>\n",
              "      <td>secondary</td>\n",
              "      <td>29</td>\n",
              "      <td>151</td>\n",
              "    </tr>\n",
              "    <tr>\n",
              "      <th>2</th>\n",
              "      <td>33</td>\n",
              "      <td>secondary</td>\n",
              "      <td>2</td>\n",
              "      <td>76</td>\n",
              "    </tr>\n",
              "    <tr>\n",
              "      <th>3</th>\n",
              "      <td>47</td>\n",
              "      <td>unknown</td>\n",
              "      <td>1506</td>\n",
              "      <td>92</td>\n",
              "    </tr>\n",
              "    <tr>\n",
              "      <th>4</th>\n",
              "      <td>33</td>\n",
              "      <td>unknown</td>\n",
              "      <td>1</td>\n",
              "      <td>198</td>\n",
              "    </tr>\n",
              "  </tbody>\n",
              "</table>\n",
              "</div>\n",
              "      <button class=\"colab-df-convert\" onclick=\"convertToInteractive('df-0d64ec04-0361-485f-b67c-b44636cb1887')\"\n",
              "              title=\"Convert this dataframe to an interactive table.\"\n",
              "              style=\"display:none;\">\n",
              "        \n",
              "  <svg xmlns=\"http://www.w3.org/2000/svg\" height=\"24px\"viewBox=\"0 0 24 24\"\n",
              "       width=\"24px\">\n",
              "    <path d=\"M0 0h24v24H0V0z\" fill=\"none\"/>\n",
              "    <path d=\"M18.56 5.44l.94 2.06.94-2.06 2.06-.94-2.06-.94-.94-2.06-.94 2.06-2.06.94zm-11 1L8.5 8.5l.94-2.06 2.06-.94-2.06-.94L8.5 2.5l-.94 2.06-2.06.94zm10 10l.94 2.06.94-2.06 2.06-.94-2.06-.94-.94-2.06-.94 2.06-2.06.94z\"/><path d=\"M17.41 7.96l-1.37-1.37c-.4-.4-.92-.59-1.43-.59-.52 0-1.04.2-1.43.59L10.3 9.45l-7.72 7.72c-.78.78-.78 2.05 0 2.83L4 21.41c.39.39.9.59 1.41.59.51 0 1.02-.2 1.41-.59l7.78-7.78 2.81-2.81c.8-.78.8-2.07 0-2.86zM5.41 20L4 18.59l7.72-7.72 1.47 1.35L5.41 20z\"/>\n",
              "  </svg>\n",
              "      </button>\n",
              "      \n",
              "  <style>\n",
              "    .colab-df-container {\n",
              "      display:flex;\n",
              "      flex-wrap:wrap;\n",
              "      gap: 12px;\n",
              "    }\n",
              "\n",
              "    .colab-df-convert {\n",
              "      background-color: #E8F0FE;\n",
              "      border: none;\n",
              "      border-radius: 50%;\n",
              "      cursor: pointer;\n",
              "      display: none;\n",
              "      fill: #1967D2;\n",
              "      height: 32px;\n",
              "      padding: 0 0 0 0;\n",
              "      width: 32px;\n",
              "    }\n",
              "\n",
              "    .colab-df-convert:hover {\n",
              "      background-color: #E2EBFA;\n",
              "      box-shadow: 0px 1px 2px rgba(60, 64, 67, 0.3), 0px 1px 3px 1px rgba(60, 64, 67, 0.15);\n",
              "      fill: #174EA6;\n",
              "    }\n",
              "\n",
              "    [theme=dark] .colab-df-convert {\n",
              "      background-color: #3B4455;\n",
              "      fill: #D2E3FC;\n",
              "    }\n",
              "\n",
              "    [theme=dark] .colab-df-convert:hover {\n",
              "      background-color: #434B5C;\n",
              "      box-shadow: 0px 1px 3px 1px rgba(0, 0, 0, 0.15);\n",
              "      filter: drop-shadow(0px 1px 2px rgba(0, 0, 0, 0.3));\n",
              "      fill: #FFFFFF;\n",
              "    }\n",
              "  </style>\n",
              "\n",
              "      <script>\n",
              "        const buttonEl =\n",
              "          document.querySelector('#df-0d64ec04-0361-485f-b67c-b44636cb1887 button.colab-df-convert');\n",
              "        buttonEl.style.display =\n",
              "          google.colab.kernel.accessAllowed ? 'block' : 'none';\n",
              "\n",
              "        async function convertToInteractive(key) {\n",
              "          const element = document.querySelector('#df-0d64ec04-0361-485f-b67c-b44636cb1887');\n",
              "          const dataTable =\n",
              "            await google.colab.kernel.invokeFunction('convertToInteractive',\n",
              "                                                     [key], {});\n",
              "          if (!dataTable) return;\n",
              "\n",
              "          const docLinkHtml = 'Like what you see? Visit the ' +\n",
              "            '<a target=\"_blank\" href=https://colab.research.google.com/notebooks/data_table.ipynb>data table notebook</a>'\n",
              "            + ' to learn more about interactive tables.';\n",
              "          element.innerHTML = '';\n",
              "          dataTable['output_type'] = 'display_data';\n",
              "          await google.colab.output.renderOutput(dataTable, element);\n",
              "          const docLink = document.createElement('div');\n",
              "          docLink.innerHTML = docLinkHtml;\n",
              "          element.appendChild(docLink);\n",
              "        }\n",
              "      </script>\n",
              "    </div>\n",
              "  </div>\n",
              "  "
            ]
          },
          "metadata": {},
          "execution_count": 111
        }
      ],
      "source": [
        "from pandas.core.groupby.ops import DataFrame\n",
        "#Reducimos nuestra base da datos a las varibales necesarias\n",
        "df=df[['age','education','balance','duration']]\n",
        "df.head()"
      ]
    },
    {
      "cell_type": "markdown",
      "source": [
        "## Preparación de los datos\n",
        "\n",
        "Para poder trabjar con los datos, lo primero que debemos hacer es observar si todos los datos son correctos, si son útiles, ver maneras de normalizarlos para optimizar el algoritmo...\n",
        "\n",
        "Lo primero que vamos a ver es sie stán completos, es decir si existen NaN en nuestra base de datos."
      ],
      "metadata": {
        "id": "BK8WCpG3vO2M"
      },
      "id": "BK8WCpG3vO2M"
    },
    {
      "cell_type": "code",
      "source": [
        "age_nan = df['age'].isna().sum()\n",
        "print(f\"La cantidad de NaN que existen en la variable age es:{age_nan}\")\n",
        "education_nan = df['education'].isna().sum()\n",
        "print(f\"La cantidad de NaN que existen en la variable education es:{education_nan}\")\n",
        "balance_nan = df['balance'].isna().sum()\n",
        "print(f\"La cantidad de NaN que existen en la variable balance es:{balance_nan}\")\n",
        "duration_nan = df['duration'].isna().sum()\n",
        "print(f\"La cantidad de NaN que existen en la variable duration es:{duration_nan}\")"
      ],
      "metadata": {
        "id": "J-wAUBAOwyWN",
        "outputId": "5d1a541d-b519-476c-f57f-851442a645ce",
        "colab": {
          "base_uri": "https://localhost:8080/"
        }
      },
      "id": "J-wAUBAOwyWN",
      "execution_count": 112,
      "outputs": [
        {
          "output_type": "stream",
          "name": "stdout",
          "text": [
            "La cantidad de NaN que existen en la variable age es:0\n",
            "La cantidad de NaN que existen en la variable education es:0\n",
            "La cantidad de NaN que existen en la variable balance es:0\n",
            "La cantidad de NaN que existen en la variable duration es:0\n"
          ]
        }
      ]
    },
    {
      "cell_type": "markdown",
      "source": [
        "En ninguna de nuestras variables hay datos faltantes, pero vamos a representarlas con un diagrama de cajas para ver si hay outliers y para entender mejro como se distribuyen los datos. ESto lo haremos con las variables: age, balnace y duration ya que eduaction no es una variable numérica y no se puede aplicar este método a esta variable en concreto."
      ],
      "metadata": {
        "id": "XuqvoCzZzBv0"
      },
      "id": "XuqvoCzZzBv0"
    },
    {
      "cell_type": "code",
      "source": [
        "df['age'].plot(kind='box', title='Age')"
      ],
      "metadata": {
        "id": "IsvpxYwAzVsa",
        "outputId": "05979812-aec1-41a9-a7a1-ea248520403a",
        "colab": {
          "base_uri": "https://localhost:8080/",
          "height": 298
        }
      },
      "id": "IsvpxYwAzVsa",
      "execution_count": 113,
      "outputs": [
        {
          "output_type": "execute_result",
          "data": {
            "text/plain": [
              "<matplotlib.axes._subplots.AxesSubplot at 0x7f23839dde20>"
            ]
          },
          "metadata": {},
          "execution_count": 113
        },
        {
          "output_type": "display_data",
          "data": {
            "text/plain": [
              "<Figure size 432x288 with 1 Axes>"
            ],
            "image/png": "[encoded data removed]"
          },
          "metadata": {
            "needs_background": "light"
          }
        }
      ]
    },
    {
      "cell_type": "markdown",
      "source": [
        "Hemos graficado con cajas la variable age(edad) y al observarlo, vemos que hay bastantes datos fuera de rango por arriba, es decir outliers. Sin embargo, vamos a ver si tiene sentido, para ello graficaremos los datos de otra manera para ver si tiene sentido."
      ],
      "metadata": {
        "id": "LMu97APBow92"
      },
      "id": "LMu97APBow92"
    },
    {
      "cell_type": "code",
      "source": [
        "plt.hist(df['age'])\n",
        "plt.xlabel(\"Años\")\n",
        "plt.ylabel(\"Cantidad\")\n",
        "plt.title(\"Age\")\n",
        "plt.show()"
      ],
      "metadata": {
        "colab": {
          "base_uri": "https://localhost:8080/",
          "height": 295
        },
        "id": "OMsL5fb7nmKt",
        "outputId": "68193b81-b07d-44cf-880c-d6bcac895dc3"
      },
      "id": "OMsL5fb7nmKt",
      "execution_count": 114,
      "outputs": [
        {
          "output_type": "display_data",
          "data": {
            "text/plain": [
              "<Figure size 432x288 with 1 Axes>"
            ],
            "image/png": "[encoded data removed]"
          },
          "metadata": {
            "needs_background": "light"
          }
        }
      ]
    },
    {
      "cell_type": "markdown",
      "source": [
        "En esta gráfica, vemos que la mayoría de los valores están continidos entre 30 y 50, es decir, la mayoría de la gente que esta asociado a esta sucursal del banco Santander tiene esos años. Vemos que hay algunos más pequeños, podrían ser alumnos de la propia universidad. \n",
        "\n",
        "Los valores de más de 65 años, podrían considerarse valores erroneos, sin embargo, esta sucursal no es únicamente de estudiantes y trabajadores de la universidad, al lado de la universidad hay una zona residencial, una urbanización que se llama Monteclaro, pues bien, gente mayor de esta zona puede hacer uso de esta sucursal por comodidad. Por lo que consideramos los outliers correctos y necesarios para el buen trabajo y empleo de los datos en la práctica.\n",
        "\n",
        "Seguimos ananlizando las demás variables, a continuación, vamos a tratar la variable balance. "
      ],
      "metadata": {
        "id": "pqXvx6g8owMg"
      },
      "id": "pqXvx6g8owMg"
    },
    {
      "cell_type": "code",
      "source": [
        "df['balance'].plot(kind='box', title='Balance')"
      ],
      "metadata": {
        "id": "VJAk3smc0Z6I",
        "outputId": "0699cf19-5af1-47a8-f52b-d8bc98618120",
        "colab": {
          "base_uri": "https://localhost:8080/",
          "height": 298
        }
      },
      "id": "VJAk3smc0Z6I",
      "execution_count": 115,
      "outputs": [
        {
          "output_type": "execute_result",
          "data": {
            "text/plain": [
              "<matplotlib.axes._subplots.AxesSubplot at 0x7f238484d5e0>"
            ]
          },
          "metadata": {},
          "execution_count": 115
        },
        {
          "output_type": "display_data",
          "data": {
            "text/plain": [
              "<Figure size 432x288 with 1 Axes>"
            ],
            "image/png": "[encoded data removed]"
          },
          "metadata": {
            "needs_background": "light"
          }
        }
      ]
    },
    {
      "cell_type": "markdown",
      "source": [
        "Hemos graficado con cajas la variable balance (dinero en el banco) y al observarlo, vemos que hay bastantes datos fuera de rango por arriba, y por abajo, es decir, outliers. Sin embargo, vamos a ver si tiene sentido, para ello graficaremos los datos de otra manera.\n",
        "\n",
        "Haremos uso de un diagrma diferente para ver mejor los datos."
      ],
      "metadata": {
        "id": "QYj9qt2vtqgQ"
      },
      "id": "QYj9qt2vtqgQ"
    },
    {
      "cell_type": "code",
      "source": [
        "plt.hist(df['balance'])\n",
        "plt.xlabel(\"Cantidad\")\n",
        "plt.ylabel(\"Número de pers\")\n",
        "plt.title(\"Balance\")\n",
        "plt.show()"
      ],
      "metadata": {
        "colab": {
          "base_uri": "https://localhost:8080/",
          "height": 295
        },
        "id": "UX7znZsOrQYN",
        "outputId": "80f5b9d5-4fa0-445e-ebb9-c1ef63e11000"
      },
      "id": "UX7znZsOrQYN",
      "execution_count": 116,
      "outputs": [
        {
          "output_type": "display_data",
          "data": {
            "text/plain": [
              "<Figure size 432x288 with 1 Axes>"
            ],
            "image/png": "[encoded data removed]"
          },
          "metadata": {
            "needs_background": "light"
          }
        }
      ]
    },
    {
      "cell_type": "markdown",
      "source": [
        "Vemos que la mayoría de clientes de esta sucursal se mueve entre 0 y 10000, en esta variable losdatos en normal que estén muy distanciados en general ya que en un banco, se guarda el dinero desde el rector, ceo, director... que serán los outliers por encima del máximo tanto como los outliers por abajo ya que puede haber gente ne concreto que este en deuda con el banco.\n",
        "\n",
        "Por todo esto consideramos todos los datos correctos.\n",
        "\n",
        "A continuación, vamos a analizar la varible Duration que es la cantidad de días que lleva una persona en la empresa."
      ],
      "metadata": {
        "id": "iWTt6xRgrqHS"
      },
      "id": "iWTt6xRgrqHS"
    },
    {
      "cell_type": "code",
      "source": [
        "df['duration'].plot(kind='box', title='Duration')"
      ],
      "metadata": {
        "id": "CIqFEclo0bkd",
        "outputId": "30e2b112-28c0-41a9-b36d-150fb3049eef",
        "colab": {
          "base_uri": "https://localhost:8080/",
          "height": 298
        }
      },
      "id": "CIqFEclo0bkd",
      "execution_count": 117,
      "outputs": [
        {
          "output_type": "execute_result",
          "data": {
            "text/plain": [
              "<matplotlib.axes._subplots.AxesSubplot at 0x7f2382e22dc0>"
            ]
          },
          "metadata": {},
          "execution_count": 117
        },
        {
          "output_type": "display_data",
          "data": {
            "text/plain": [
              "<Figure size 432x288 with 1 Axes>"
            ],
            "image/png": "[encoded data removed]"
          },
          "metadata": {
            "needs_background": "light"
          }
        }
      ]
    },
    {
      "cell_type": "markdown",
      "source": [
        "Hemos graficado con cajas la variable Duration (tiempor en días que lleva un cliente) y al observarlo, vemos que hay bastantes datos fuera de rango por arriba, es decir outliers. Sin embargo, vamos a ver si tiene sentido, para ello graficaremos los datos de otra manera, usaremos otro diagrama."
      ],
      "metadata": {
        "id": "qZJa__X5t8cH"
      },
      "id": "qZJa__X5t8cH"
    },
    {
      "cell_type": "code",
      "source": [
        "plt.hist(df['duration'])\n",
        "plt.xlabel(\"Días\")\n",
        "plt.ylabel(\"Número de pers\")\n",
        "plt.title(\"Duration\")\n",
        "plt.show()"
      ],
      "metadata": {
        "colab": {
          "base_uri": "https://localhost:8080/",
          "height": 295
        },
        "id": "9LCLlH7etYKb",
        "outputId": "57b1a3ca-123d-47cf-b69e-7ee0a93e4d74"
      },
      "id": "9LCLlH7etYKb",
      "execution_count": 118,
      "outputs": [
        {
          "output_type": "display_data",
          "data": {
            "text/plain": [
              "<Figure size 432x288 with 1 Axes>"
            ],
            "image/png": "[encoded data removed]"
          },
          "metadata": {
            "needs_background": "light"
          }
        }
      ]
    },
    {
      "cell_type": "markdown",
      "source": [
        "Al observar este gráfico, vemos que tiene sentido que la gráfica sea a partir de 0, porque una persona no puede ser cliente de -5 dias por ejemplo, si se diera este caso tendríamos que ver como lidiar con ese problema.\n",
        "\n",
        "Sin embargo, los outliers por encima del máximo son normales, ya que puede haber personas que lleven mucho más tiempo que otras, y que la mayoría se hayan unido a esta sucursal hace relativamente poco, igual por un anuncio, una campaña...\n",
        "\n",
        "Por lo que decidimos dejar esta varaible así también.\n",
        "\n",
        "La variable de educación es categórica, por lo que usaremos otro tipo de diagramas para ver más claramente lo que nos esta explicando esta variable."
      ],
      "metadata": {
        "id": "09G_jwxQuI0i"
      },
      "id": "09G_jwxQuI0i"
    },
    {
      "cell_type": "code",
      "source": [
        "df['education'].value_counts().plot(kind='pie', title='Education')"
      ],
      "metadata": {
        "id": "D3RIHKAv1pCi",
        "outputId": "3075a3a4-62a0-4bac-a847-1e3ce3934354",
        "colab": {
          "base_uri": "https://localhost:8080/",
          "height": 281
        }
      },
      "id": "D3RIHKAv1pCi",
      "execution_count": 119,
      "outputs": [
        {
          "output_type": "execute_result",
          "data": {
            "text/plain": [
              "<matplotlib.axes._subplots.AxesSubplot at 0x7f2383673250>"
            ]
          },
          "metadata": {},
          "execution_count": 119
        },
        {
          "output_type": "display_data",
          "data": {
            "text/plain": [
              "<Figure size 432x288 with 1 Axes>"
            ],
            "image/png": "[encoded data removed]"
          },
          "metadata": {}
        }
      ]
    },
    {
      "cell_type": "markdown",
      "source": [
        "Al observar esta gráfica, además de ver las probabilidades de cada tipo de educación también observamos que no se se sabe la educaión que tiene una parte de nuestra base de datos, ahora vamos a estudair cuál es ese porcentaje."
      ],
      "metadata": {
        "id": "f4XzBLBF3aRG"
      },
      "id": "f4XzBLBF3aRG"
    },
    {
      "cell_type": "code",
      "source": [
        "df['education'].value_counts()\n"
      ],
      "metadata": {
        "colab": {
          "base_uri": "https://localhost:8080/"
        },
        "id": "VgJmj2aNqD_6",
        "outputId": "db915233-b599-4443-e21e-b31d6ee94978"
      },
      "id": "VgJmj2aNqD_6",
      "execution_count": 120,
      "outputs": [
        {
          "output_type": "execute_result",
          "data": {
            "text/plain": [
              "secondary    23202\n",
              "tertiary     13301\n",
              "primary       6851\n",
              "unknown       1857\n",
              "Name: education, dtype: int64"
            ]
          },
          "metadata": {},
          "execution_count": 120
        }
      ]
    },
    {
      "cell_type": "markdown",
      "source": [
        "Ahora, sabemosa parte de los niveles, cuales son las cantidades que están dentro de cada uno de los niveles:\n",
        "\n",
        "\n",
        "1.   Primaria = 6851   \n",
        "2.   Secundaria = 23202   \n",
        "3.   Terciaria = 13301    \n",
        "4.   Desconocida = 1857"
      ],
      "metadata": {
        "id": "ElZkiYvRqy0k"
      },
      "id": "ElZkiYvRqy0k"
    },
    {
      "cell_type": "markdown",
      "source": [
        "###Cómo lidiar con datos faltantes\n",
        "\n",
        "Según el proceso CRISP-DM (Cross-Industry Standard Process for Data Mining), las opciones para lidiar con datos faltantes en bases de datos son las siguientes:\n",
        "1.\tEliminación: Eliminar las filas o columnas con datos faltantes.\n",
        "2.\tImputación: Reemplazar los valores faltantes con valores estimados o calculados. Por ejemplo, la imputación media o mediana puede ser utilizada para reemplazar los valores faltantes en una columna con el valor promedio o mediana de esa columna.\n",
        "3.\tInterpolación: Interpolar los valores faltantes utilizando una técnica de estimación, como la interpolación lineal o spline.\n",
        "4.\tModelos predictivos: Utilizar modelos predictivos para estimar los valores faltantes a partir de los datos disponibles.\n",
        "5.\tAlgoritmos de aprendizaje no supervisado: Utilizar algoritmos de clustering o de reducción de dimensionalidad para identificar patrones en los datos y utilizarlos para estimar los valores faltantes.\n",
        "Es importante elegir la técnica adecuada para lidiar con los datos faltantes, considerando el tipo de datos, la cantidad de datos faltantes y su impacto en los resultados de análisis. Es recomendable investigar y evaluar varias opciones antes de tomar una decisión.\n",
        "\n"
      ],
      "metadata": {
        "id": "3KiBtk611efm"
      },
      "id": "3KiBtk611efm"
    },
    {
      "cell_type": "markdown",
      "source": [
        "Ahora, tenemos que decidir cómo vamos a gestionar aquellos clientes cuyo nivel de educación es desconocido. \n",
        "\n",
        "Debido a que nuestro primer problema trata de ilustrar la correlación entre el nivel de educación y el dinero que tienen, es importante que hagamos algo con ellos en mente.\n",
        "\n",
        "Desconocemos la razón por la cual esta infomación es desconocida, agravado por el hecho de desconocer el criterio usado para agrupar a la gente en dichos niveles. \n",
        "\n",
        "¿Tendrán un nivel de educación inferior al requerido para poder haber obtenido el nivel primario? Tal vez no querían divulgar dicha información...\n",
        "\n"
      ],
      "metadata": {
        "id": "NttAooJjsOxZ"
      },
      "id": "NttAooJjsOxZ"
    },
    {
      "cell_type": "markdown",
      "source": [
        "Existen varias opciones respecto a como lidiar con NaN.\n",
        "Una opción sería ver si podríamos eliminar aquellos clientes con nivel de educación desconocida."
      ],
      "metadata": {
        "id": "EpNGJa-OuTv0"
      },
      "id": "EpNGJa-OuTv0"
    },
    {
      "cell_type": "code",
      "source": [
        "df['education'].value_counts().sum()"
      ],
      "metadata": {
        "colab": {
          "base_uri": "https://localhost:8080/"
        },
        "id": "A6jyvH7uvOV6",
        "outputId": "8783ec29-3298-40bf-bbc9-6e10c92461e1"
      },
      "id": "A6jyvH7uvOV6",
      "execution_count": 121,
      "outputs": [
        {
          "output_type": "execute_result",
          "data": {
            "text/plain": [
              "45211"
            ]
          },
          "metadata": {},
          "execution_count": 121
        }
      ]
    },
    {
      "cell_type": "code",
      "source": [
        "print(\"Porcentage de todos los clientes con nivel de educación desconocido: {:.2f}%\".format((1857/45211)*100))"
      ],
      "metadata": {
        "colab": {
          "base_uri": "https://localhost:8080/"
        },
        "id": "gxQ-yizkxY2f",
        "outputId": "2c530a03-34e5-4714-c0bc-0c06718516f9"
      },
      "id": "gxQ-yizkxY2f",
      "execution_count": 122,
      "outputs": [
        {
          "output_type": "stream",
          "name": "stdout",
          "text": [
            "Porcentage de todos los clientes con nivel de educación desconocido: 4.11%\n"
          ]
        }
      ]
    },
    {
      "cell_type": "markdown",
      "source": [
        "Antes de ver cómo proceder, analizalizaremos cómo están distribuidos los datos de aquellos clientes cuyo nivel de educación es desconocido. La razón por ello, es que si todos aquellos clientes tuviesen una cantidad de dinero que aportase información importante, fuese por su alto o bajo valor, tendríamos que encontrar una forma alternativa de tratar con ellos."
      ],
      "metadata": {
        "id": "O1qhdyYpvzJy"
      },
      "id": "O1qhdyYpvzJy"
    },
    {
      "cell_type": "markdown",
      "source": [
        "Finalmente, hemos decidimos eliminar los valores ya que el porcentaje es batante bajo, además considerando la cantidad de datos que tenemos podemos eliminarlas. También a favor de nuestar decisión cabe decir que no nos podemos inventar los estudios de una persona, no sabemos cual es el motivo de no saberlo."
      ],
      "metadata": {
        "id": "zcuHHoxaBafN"
      },
      "id": "zcuHHoxaBafN"
    },
    {
      "cell_type": "markdown",
      "source": [
        "Según iremos avanzando, trabajaremos de aquí a lante con esta misma base de datos. Hablando en términos prácticos con visión al mundo real, es más eficiente tener una misma base de datos dese la que trabajar para resolver cualquier tipo de duda. \n",
        "\n",
        "Es por ello que en el contexto particular de este ejercicio, hemos determinado que no supondrá ningún tipo de impedimento usar esta base de datos para el resto de ejercicios."
      ],
      "metadata": {
        "id": "FynLa8quxoW5"
      },
      "id": "FynLa8quxoW5"
    },
    {
      "cell_type": "code",
      "source": [
        "df = df.drop(df[df['education']=='unknown'].index)\n",
        "df.reset_index(inplace=True, drop=True)"
      ],
      "metadata": {
        "id": "d2rPRMBh9RuR"
      },
      "id": "d2rPRMBh9RuR",
      "execution_count": 123,
      "outputs": []
    },
    {
      "cell_type": "code",
      "source": [
        "df['education'].value_counts().plot(kind='pie', title='Education')"
      ],
      "metadata": {
        "id": "ypZxQzYa9zgq",
        "outputId": "16f0614a-ca76-404c-a7a5-3071779c5480",
        "colab": {
          "base_uri": "https://localhost:8080/",
          "height": 281
        }
      },
      "id": "ypZxQzYa9zgq",
      "execution_count": 124,
      "outputs": [
        {
          "output_type": "execute_result",
          "data": {
            "text/plain": [
              "<matplotlib.axes._subplots.AxesSubplot at 0x7f238498fa90>"
            ]
          },
          "metadata": {},
          "execution_count": 124
        },
        {
          "output_type": "display_data",
          "data": {
            "text/plain": [
              "<Figure size 432x288 with 1 Axes>"
            ],
            "image/png": "[encoded data removed]"
          },
          "metadata": {}
        }
      ]
    },
    {
      "cell_type": "markdown",
      "source": [
        "Como observamos en la gráfica ya no tenemos observaciones en las que no sepamos las educaión de una persona."
      ],
      "metadata": {
        "id": "aF1M8ChC918n"
      },
      "id": "aF1M8ChC918n"
    },
    {
      "cell_type": "code",
      "source": [
        "df.head()"
      ],
      "metadata": {
        "id": "G8Pp5p_5D2UX",
        "outputId": "1b64091d-ebe0-4876-d489-7154a5e546e6",
        "colab": {
          "base_uri": "https://localhost:8080/",
          "height": 206
        }
      },
      "id": "G8Pp5p_5D2UX",
      "execution_count": 109,
      "outputs": [
        {
          "output_type": "execute_result",
          "data": {
            "text/plain": [
              "                      age  education  balance  duration\n",
              "0  Trabajadores veteranos   tertiary     2143  0.714579\n",
              "1    Trabajadores jóvenes  secondary       29  0.413415\n",
              "2    Trabajadores jóvenes  secondary        2  0.208077\n",
              "3    Trabajadores jóvenes   tertiary      231  0.380561\n",
              "4                 Alumnos   tertiary      447  0.594114"
            ],
            "text/html": [
              "\n",
              "  <div id=\"df-edcb11f1-9d78-41c1-8335-68c885c5de0c\">\n",
              "    <div class=\"colab-df-container\">\n",
              "      <div>\n",
              "<style scoped>\n",
              "    .dataframe tbody tr th:only-of-type {\n",
              "        vertical-align: middle;\n",
              "    }\n",
              "\n",
              "    .dataframe tbody tr th {\n",
              "        vertical-align: top;\n",
              "    }\n",
              "\n",
              "    .dataframe thead th {\n",
              "        text-align: right;\n",
              "    }\n",
              "</style>\n",
              "<table border=\"1\" class=\"dataframe\">\n",
              "  <thead>\n",
              "    <tr style=\"text-align: right;\">\n",
              "      <th></th>\n",
              "      <th>age</th>\n",
              "      <th>education</th>\n",
              "      <th>balance</th>\n",
              "      <th>duration</th>\n",
              "    </tr>\n",
              "  </thead>\n",
              "  <tbody>\n",
              "    <tr>\n",
              "      <th>0</th>\n",
              "      <td>Trabajadores veteranos</td>\n",
              "      <td>tertiary</td>\n",
              "      <td>2143</td>\n",
              "      <td>0.714579</td>\n",
              "    </tr>\n",
              "    <tr>\n",
              "      <th>1</th>\n",
              "      <td>Trabajadores jóvenes</td>\n",
              "      <td>secondary</td>\n",
              "      <td>29</td>\n",
              "      <td>0.413415</td>\n",
              "    </tr>\n",
              "    <tr>\n",
              "      <th>2</th>\n",
              "      <td>Trabajadores jóvenes</td>\n",
              "      <td>secondary</td>\n",
              "      <td>2</td>\n",
              "      <td>0.208077</td>\n",
              "    </tr>\n",
              "    <tr>\n",
              "      <th>3</th>\n",
              "      <td>Trabajadores jóvenes</td>\n",
              "      <td>tertiary</td>\n",
              "      <td>231</td>\n",
              "      <td>0.380561</td>\n",
              "    </tr>\n",
              "    <tr>\n",
              "      <th>4</th>\n",
              "      <td>Alumnos</td>\n",
              "      <td>tertiary</td>\n",
              "      <td>447</td>\n",
              "      <td>0.594114</td>\n",
              "    </tr>\n",
              "  </tbody>\n",
              "</table>\n",
              "</div>\n",
              "      <button class=\"colab-df-convert\" onclick=\"convertToInteractive('df-edcb11f1-9d78-41c1-8335-68c885c5de0c')\"\n",
              "              title=\"Convert this dataframe to an interactive table.\"\n",
              "              style=\"display:none;\">\n",
              "        \n",
              "  <svg xmlns=\"http://www.w3.org/2000/svg\" height=\"24px\"viewBox=\"0 0 24 24\"\n",
              "       width=\"24px\">\n",
              "    <path d=\"M0 0h24v24H0V0z\" fill=\"none\"/>\n",
              "    <path d=\"M18.56 5.44l.94 2.06.94-2.06 2.06-.94-2.06-.94-.94-2.06-.94 2.06-2.06.94zm-11 1L8.5 8.5l.94-2.06 2.06-.94-2.06-.94L8.5 2.5l-.94 2.06-2.06.94zm10 10l.94 2.06.94-2.06 2.06-.94-2.06-.94-.94-2.06-.94 2.06-2.06.94z\"/><path d=\"M17.41 7.96l-1.37-1.37c-.4-.4-.92-.59-1.43-.59-.52 0-1.04.2-1.43.59L10.3 9.45l-7.72 7.72c-.78.78-.78 2.05 0 2.83L4 21.41c.39.39.9.59 1.41.59.51 0 1.02-.2 1.41-.59l7.78-7.78 2.81-2.81c.8-.78.8-2.07 0-2.86zM5.41 20L4 18.59l7.72-7.72 1.47 1.35L5.41 20z\"/>\n",
              "  </svg>\n",
              "      </button>\n",
              "      \n",
              "  <style>\n",
              "    .colab-df-container {\n",
              "      display:flex;\n",
              "      flex-wrap:wrap;\n",
              "      gap: 12px;\n",
              "    }\n",
              "\n",
              "    .colab-df-convert {\n",
              "      background-color: #E8F0FE;\n",
              "      border: none;\n",
              "      border-radius: 50%;\n",
              "      cursor: pointer;\n",
              "      display: none;\n",
              "      fill: #1967D2;\n",
              "      height: 32px;\n",
              "      padding: 0 0 0 0;\n",
              "      width: 32px;\n",
              "    }\n",
              "\n",
              "    .colab-df-convert:hover {\n",
              "      background-color: #E2EBFA;\n",
              "      box-shadow: 0px 1px 2px rgba(60, 64, 67, 0.3), 0px 1px 3px 1px rgba(60, 64, 67, 0.15);\n",
              "      fill: #174EA6;\n",
              "    }\n",
              "\n",
              "    [theme=dark] .colab-df-convert {\n",
              "      background-color: #3B4455;\n",
              "      fill: #D2E3FC;\n",
              "    }\n",
              "\n",
              "    [theme=dark] .colab-df-convert:hover {\n",
              "      background-color: #434B5C;\n",
              "      box-shadow: 0px 1px 3px 1px rgba(0, 0, 0, 0.15);\n",
              "      filter: drop-shadow(0px 1px 2px rgba(0, 0, 0, 0.3));\n",
              "      fill: #FFFFFF;\n",
              "    }\n",
              "  </style>\n",
              "\n",
              "      <script>\n",
              "        const buttonEl =\n",
              "          document.querySelector('#df-edcb11f1-9d78-41c1-8335-68c885c5de0c button.colab-df-convert');\n",
              "        buttonEl.style.display =\n",
              "          google.colab.kernel.accessAllowed ? 'block' : 'none';\n",
              "\n",
              "        async function convertToInteractive(key) {\n",
              "          const element = document.querySelector('#df-edcb11f1-9d78-41c1-8335-68c885c5de0c');\n",
              "          const dataTable =\n",
              "            await google.colab.kernel.invokeFunction('convertToInteractive',\n",
              "                                                     [key], {});\n",
              "          if (!dataTable) return;\n",
              "\n",
              "          const docLinkHtml = 'Like what you see? Visit the ' +\n",
              "            '<a target=\"_blank\" href=https://colab.research.google.com/notebooks/data_table.ipynb>data table notebook</a>'\n",
              "            + ' to learn more about interactive tables.';\n",
              "          element.innerHTML = '';\n",
              "          dataTable['output_type'] = 'display_data';\n",
              "          await google.colab.output.renderOutput(dataTable, element);\n",
              "          const docLink = document.createElement('div');\n",
              "          docLink.innerHTML = docLinkHtml;\n",
              "          element.appendChild(docLink);\n",
              "        }\n",
              "      </script>\n",
              "    </div>\n",
              "  </div>\n",
              "  "
            ]
          },
          "metadata": {},
          "execution_count": 109
        }
      ]
    },
    {
      "cell_type": "markdown",
      "source": [
        "#EJERCICIO 1\n",
        "##Modelado\n"
      ],
      "metadata": {
        "id": "r39rsPp3QbRF"
      },
      "id": "r39rsPp3QbRF"
    },
    {
      "cell_type": "markdown",
      "source": [
        "\n",
        "\n",
        "**¿Está el *nivel de estudios* directamente relacionado con el *saldo de cada cliente en la cuenta*?**\n",
        "\n",
        "Para ello estableceremos 3 rangos numéricos: los que tienen deudas, la gente que tiene unos ahorros normales (en positivo, pero menos de 10.000 euros) y los que disponen de suficientes ahorros como para ofrecerles paquetes de inversión (aquellos en positivo con más de 10.000 euros). "
      ],
      "metadata": {
        "id": "zYimFhRCKnN4"
      },
      "id": "zYimFhRCKnN4"
    },
    {
      "cell_type": "code",
      "source": [
        "filas=len(df.axes[0])\n",
        "\n",
        "for i in range (filas):\n",
        "  if df['balance'][i]<0:\n",
        "    df['balance'][i]='Endeudados'\n",
        "  elif df['balance'][i]>10000:\n",
        "    df['balance'][i]='Potencial_Paquete_Inversion'\n",
        "  else:\n",
        "    df['balance'][i]='Balance_Positivo'\n"
      ],
      "metadata": {
        "colab": {
          "base_uri": "https://localhost:8080/"
        },
        "id": "TY7yIwocBr0P",
        "outputId": "f319be82-6663-454e-9686-ca06a9a98dd1"
      },
      "id": "TY7yIwocBr0P",
      "execution_count": 73,
      "outputs": [
        {
          "output_type": "stream",
          "name": "stderr",
          "text": [
            "<ipython-input-73-809ed51097a4>:9: SettingWithCopyWarning: \n",
            "A value is trying to be set on a copy of a slice from a DataFrame\n",
            "\n",
            "See the caveats in the documentation: https://pandas.pydata.org/pandas-docs/stable/user_guide/indexing.html#returning-a-view-versus-a-copy\n",
            "  df['balance'][i]='Balance_Positivo'\n",
            "/usr/local/lib/python3.8/dist-packages/pandas/core/indexing.py:1732: SettingWithCopyWarning: \n",
            "A value is trying to be set on a copy of a slice from a DataFrame\n",
            "\n",
            "See the caveats in the documentation: https://pandas.pydata.org/pandas-docs/stable/user_guide/indexing.html#returning-a-view-versus-a-copy\n",
            "  self._setitem_single_block(indexer, value, name)\n"
          ]
        }
      ]
    },
    {
      "cell_type": "markdown",
      "source": [
        "Ya sabemos que tendremos que agrupar a los clientes en 3 rangos numéricos según el dinero que actualmente tengan en su cuenta de banco, pero previo a visualizar los datos, "
      ],
      "metadata": {
        "id": "w05-L7DOr8f9"
      },
      "id": "w05-L7DOr8f9"
    },
    {
      "cell_type": "code",
      "source": [
        "df.head()"
      ],
      "metadata": {
        "colab": {
          "base_uri": "https://localhost:8080/",
          "height": 206
        },
        "id": "VeAPejeoEVkk",
        "outputId": "efa6edc8-e458-4ca8-ff90-bf10dde4bfb2"
      },
      "id": "VeAPejeoEVkk",
      "execution_count": 74,
      "outputs": [
        {
          "output_type": "execute_result",
          "data": {
            "text/plain": [
              "   age  education           balance  duration\n",
              "0   58   tertiary  Balance_Positivo       261\n",
              "1   44  secondary  Balance_Positivo       151\n",
              "2   33  secondary  Balance_Positivo        76\n",
              "3   35   tertiary  Balance_Positivo       139\n",
              "4   28   tertiary  Balance_Positivo       217"
            ],
            "text/html": [
              "\n",
              "  <div id=\"df-246f76fe-a99d-4fe9-ab35-c4dda8fccb1c\">\n",
              "    <div class=\"colab-df-container\">\n",
              "      <div>\n",
              "<style scoped>\n",
              "    .dataframe tbody tr th:only-of-type {\n",
              "        vertical-align: middle;\n",
              "    }\n",
              "\n",
              "    .dataframe tbody tr th {\n",
              "        vertical-align: top;\n",
              "    }\n",
              "\n",
              "    .dataframe thead th {\n",
              "        text-align: right;\n",
              "    }\n",
              "</style>\n",
              "<table border=\"1\" class=\"dataframe\">\n",
              "  <thead>\n",
              "    <tr style=\"text-align: right;\">\n",
              "      <th></th>\n",
              "      <th>age</th>\n",
              "      <th>education</th>\n",
              "      <th>balance</th>\n",
              "      <th>duration</th>\n",
              "    </tr>\n",
              "  </thead>\n",
              "  <tbody>\n",
              "    <tr>\n",
              "      <th>0</th>\n",
              "      <td>58</td>\n",
              "      <td>tertiary</td>\n",
              "      <td>Balance_Positivo</td>\n",
              "      <td>261</td>\n",
              "    </tr>\n",
              "    <tr>\n",
              "      <th>1</th>\n",
              "      <td>44</td>\n",
              "      <td>secondary</td>\n",
              "      <td>Balance_Positivo</td>\n",
              "      <td>151</td>\n",
              "    </tr>\n",
              "    <tr>\n",
              "      <th>2</th>\n",
              "      <td>33</td>\n",
              "      <td>secondary</td>\n",
              "      <td>Balance_Positivo</td>\n",
              "      <td>76</td>\n",
              "    </tr>\n",
              "    <tr>\n",
              "      <th>3</th>\n",
              "      <td>35</td>\n",
              "      <td>tertiary</td>\n",
              "      <td>Balance_Positivo</td>\n",
              "      <td>139</td>\n",
              "    </tr>\n",
              "    <tr>\n",
              "      <th>4</th>\n",
              "      <td>28</td>\n",
              "      <td>tertiary</td>\n",
              "      <td>Balance_Positivo</td>\n",
              "      <td>217</td>\n",
              "    </tr>\n",
              "  </tbody>\n",
              "</table>\n",
              "</div>\n",
              "      <button class=\"colab-df-convert\" onclick=\"convertToInteractive('df-246f76fe-a99d-4fe9-ab35-c4dda8fccb1c')\"\n",
              "              title=\"Convert this dataframe to an interactive table.\"\n",
              "              style=\"display:none;\">\n",
              "        \n",
              "  <svg xmlns=\"http://www.w3.org/2000/svg\" height=\"24px\"viewBox=\"0 0 24 24\"\n",
              "       width=\"24px\">\n",
              "    <path d=\"M0 0h24v24H0V0z\" fill=\"none\"/>\n",
              "    <path d=\"M18.56 5.44l.94 2.06.94-2.06 2.06-.94-2.06-.94-.94-2.06-.94 2.06-2.06.94zm-11 1L8.5 8.5l.94-2.06 2.06-.94-2.06-.94L8.5 2.5l-.94 2.06-2.06.94zm10 10l.94 2.06.94-2.06 2.06-.94-2.06-.94-.94-2.06-.94 2.06-2.06.94z\"/><path d=\"M17.41 7.96l-1.37-1.37c-.4-.4-.92-.59-1.43-.59-.52 0-1.04.2-1.43.59L10.3 9.45l-7.72 7.72c-.78.78-.78 2.05 0 2.83L4 21.41c.39.39.9.59 1.41.59.51 0 1.02-.2 1.41-.59l7.78-7.78 2.81-2.81c.8-.78.8-2.07 0-2.86zM5.41 20L4 18.59l7.72-7.72 1.47 1.35L5.41 20z\"/>\n",
              "  </svg>\n",
              "      </button>\n",
              "      \n",
              "  <style>\n",
              "    .colab-df-container {\n",
              "      display:flex;\n",
              "      flex-wrap:wrap;\n",
              "      gap: 12px;\n",
              "    }\n",
              "\n",
              "    .colab-df-convert {\n",
              "      background-color: #E8F0FE;\n",
              "      border: none;\n",
              "      border-radius: 50%;\n",
              "      cursor: pointer;\n",
              "      display: none;\n",
              "      fill: #1967D2;\n",
              "      height: 32px;\n",
              "      padding: 0 0 0 0;\n",
              "      width: 32px;\n",
              "    }\n",
              "\n",
              "    .colab-df-convert:hover {\n",
              "      background-color: #E2EBFA;\n",
              "      box-shadow: 0px 1px 2px rgba(60, 64, 67, 0.3), 0px 1px 3px 1px rgba(60, 64, 67, 0.15);\n",
              "      fill: #174EA6;\n",
              "    }\n",
              "\n",
              "    [theme=dark] .colab-df-convert {\n",
              "      background-color: #3B4455;\n",
              "      fill: #D2E3FC;\n",
              "    }\n",
              "\n",
              "    [theme=dark] .colab-df-convert:hover {\n",
              "      background-color: #434B5C;\n",
              "      box-shadow: 0px 1px 3px 1px rgba(0, 0, 0, 0.15);\n",
              "      filter: drop-shadow(0px 1px 2px rgba(0, 0, 0, 0.3));\n",
              "      fill: #FFFFFF;\n",
              "    }\n",
              "  </style>\n",
              "\n",
              "      <script>\n",
              "        const buttonEl =\n",
              "          document.querySelector('#df-246f76fe-a99d-4fe9-ab35-c4dda8fccb1c button.colab-df-convert');\n",
              "        buttonEl.style.display =\n",
              "          google.colab.kernel.accessAllowed ? 'block' : 'none';\n",
              "\n",
              "        async function convertToInteractive(key) {\n",
              "          const element = document.querySelector('#df-246f76fe-a99d-4fe9-ab35-c4dda8fccb1c');\n",
              "          const dataTable =\n",
              "            await google.colab.kernel.invokeFunction('convertToInteractive',\n",
              "                                                     [key], {});\n",
              "          if (!dataTable) return;\n",
              "\n",
              "          const docLinkHtml = 'Like what you see? Visit the ' +\n",
              "            '<a target=\"_blank\" href=https://colab.research.google.com/notebooks/data_table.ipynb>data table notebook</a>'\n",
              "            + ' to learn more about interactive tables.';\n",
              "          element.innerHTML = '';\n",
              "          dataTable['output_type'] = 'display_data';\n",
              "          await google.colab.output.renderOutput(dataTable, element);\n",
              "          const docLink = document.createElement('div');\n",
              "          docLink.innerHTML = docLinkHtml;\n",
              "          element.appendChild(docLink);\n",
              "        }\n",
              "      </script>\n",
              "    </div>\n",
              "  </div>\n",
              "  "
            ]
          },
          "metadata": {},
          "execution_count": 74
        }
      ]
    },
    {
      "cell_type": "code",
      "source": [
        "df['balance'].value_counts()"
      ],
      "metadata": {
        "colab": {
          "base_uri": "https://localhost:8080/"
        },
        "id": "4Fz-qdPNEbeJ",
        "outputId": "3853a461-ce77-4948-ed72-3370c4b4f3ad"
      },
      "id": "4Fz-qdPNEbeJ",
      "execution_count": 75,
      "outputs": [
        {
          "output_type": "execute_result",
          "data": {
            "text/plain": [
              "Balance_Positivo               38927\n",
              "Endeudados                      3638\n",
              "Potencial_Paquete_Inversion      789\n",
              "Name: balance, dtype: int64"
            ]
          },
          "metadata": {},
          "execution_count": 75
        }
      ]
    },
    {
      "cell_type": "code",
      "source": [
        "df['education'].value_counts()"
      ],
      "metadata": {
        "colab": {
          "base_uri": "https://localhost:8080/"
        },
        "id": "3_pJ0CveWMGZ",
        "outputId": "37a9c0ef-ec54-4bec-d495-85223093f70b"
      },
      "id": "3_pJ0CveWMGZ",
      "execution_count": 76,
      "outputs": [
        {
          "output_type": "execute_result",
          "data": {
            "text/plain": [
              "secondary    23202\n",
              "tertiary     13301\n",
              "primary       6851\n",
              "Name: education, dtype: int64"
            ]
          },
          "metadata": {},
          "execution_count": 76
        }
      ]
    },
    {
      "cell_type": "code",
      "source": [
        "grouped = df.groupby(['education','balance'])"
      ],
      "metadata": {
        "id": "rG30_ghITNMC"
      },
      "id": "rG30_ghITNMC",
      "execution_count": 77,
      "outputs": []
    },
    {
      "cell_type": "code",
      "source": [
        "counts = grouped['age'].count().reset_index(name='count')\n",
        "table = counts.pivot_table(index='education',columns='balance', values='count')\n",
        "table"
      ],
      "metadata": {
        "colab": {
          "base_uri": "https://localhost:8080/",
          "height": 175
        },
        "id": "kAfkiAfyTSs4",
        "outputId": "06d6e696-485b-4691-8589-d470b7b27959"
      },
      "id": "kAfkiAfyTSs4",
      "execution_count": 78,
      "outputs": [
        {
          "output_type": "execute_result",
          "data": {
            "text/plain": [
              "balance    Balance_Positivo  Endeudados  Potencial_Paquete_Inversion\n",
              "education                                                           \n",
              "primary                6160         607                           84\n",
              "secondary             20590        2311                          301\n",
              "tertiary              12177         720                          404"
            ],
            "text/html": [
              "\n",
              "  <div id=\"df-344bd02a-e881-4e87-b44a-4ca6823fbef8\">\n",
              "    <div class=\"colab-df-container\">\n",
              "      <div>\n",
              "<style scoped>\n",
              "    .dataframe tbody tr th:only-of-type {\n",
              "        vertical-align: middle;\n",
              "    }\n",
              "\n",
              "    .dataframe tbody tr th {\n",
              "        vertical-align: top;\n",
              "    }\n",
              "\n",
              "    .dataframe thead th {\n",
              "        text-align: right;\n",
              "    }\n",
              "</style>\n",
              "<table border=\"1\" class=\"dataframe\">\n",
              "  <thead>\n",
              "    <tr style=\"text-align: right;\">\n",
              "      <th>balance</th>\n",
              "      <th>Balance_Positivo</th>\n",
              "      <th>Endeudados</th>\n",
              "      <th>Potencial_Paquete_Inversion</th>\n",
              "    </tr>\n",
              "    <tr>\n",
              "      <th>education</th>\n",
              "      <th></th>\n",
              "      <th></th>\n",
              "      <th></th>\n",
              "    </tr>\n",
              "  </thead>\n",
              "  <tbody>\n",
              "    <tr>\n",
              "      <th>primary</th>\n",
              "      <td>6160</td>\n",
              "      <td>607</td>\n",
              "      <td>84</td>\n",
              "    </tr>\n",
              "    <tr>\n",
              "      <th>secondary</th>\n",
              "      <td>20590</td>\n",
              "      <td>2311</td>\n",
              "      <td>301</td>\n",
              "    </tr>\n",
              "    <tr>\n",
              "      <th>tertiary</th>\n",
              "      <td>12177</td>\n",
              "      <td>720</td>\n",
              "      <td>404</td>\n",
              "    </tr>\n",
              "  </tbody>\n",
              "</table>\n",
              "</div>\n",
              "      <button class=\"colab-df-convert\" onclick=\"convertToInteractive('df-344bd02a-e881-4e87-b44a-4ca6823fbef8')\"\n",
              "              title=\"Convert this dataframe to an interactive table.\"\n",
              "              style=\"display:none;\">\n",
              "        \n",
              "  <svg xmlns=\"http://www.w3.org/2000/svg\" height=\"24px\"viewBox=\"0 0 24 24\"\n",
              "       width=\"24px\">\n",
              "    <path d=\"M0 0h24v24H0V0z\" fill=\"none\"/>\n",
              "    <path d=\"M18.56 5.44l.94 2.06.94-2.06 2.06-.94-2.06-.94-.94-2.06-.94 2.06-2.06.94zm-11 1L8.5 8.5l.94-2.06 2.06-.94-2.06-.94L8.5 2.5l-.94 2.06-2.06.94zm10 10l.94 2.06.94-2.06 2.06-.94-2.06-.94-.94-2.06-.94 2.06-2.06.94z\"/><path d=\"M17.41 7.96l-1.37-1.37c-.4-.4-.92-.59-1.43-.59-.52 0-1.04.2-1.43.59L10.3 9.45l-7.72 7.72c-.78.78-.78 2.05 0 2.83L4 21.41c.39.39.9.59 1.41.59.51 0 1.02-.2 1.41-.59l7.78-7.78 2.81-2.81c.8-.78.8-2.07 0-2.86zM5.41 20L4 18.59l7.72-7.72 1.47 1.35L5.41 20z\"/>\n",
              "  </svg>\n",
              "      </button>\n",
              "      \n",
              "  <style>\n",
              "    .colab-df-container {\n",
              "      display:flex;\n",
              "      flex-wrap:wrap;\n",
              "      gap: 12px;\n",
              "    }\n",
              "\n",
              "    .colab-df-convert {\n",
              "      background-color: #E8F0FE;\n",
              "      border: none;\n",
              "      border-radius: 50%;\n",
              "      cursor: pointer;\n",
              "      display: none;\n",
              "      fill: #1967D2;\n",
              "      height: 32px;\n",
              "      padding: 0 0 0 0;\n",
              "      width: 32px;\n",
              "    }\n",
              "\n",
              "    .colab-df-convert:hover {\n",
              "      background-color: #E2EBFA;\n",
              "      box-shadow: 0px 1px 2px rgba(60, 64, 67, 0.3), 0px 1px 3px 1px rgba(60, 64, 67, 0.15);\n",
              "      fill: #174EA6;\n",
              "    }\n",
              "\n",
              "    [theme=dark] .colab-df-convert {\n",
              "      background-color: #3B4455;\n",
              "      fill: #D2E3FC;\n",
              "    }\n",
              "\n",
              "    [theme=dark] .colab-df-convert:hover {\n",
              "      background-color: #434B5C;\n",
              "      box-shadow: 0px 1px 3px 1px rgba(0, 0, 0, 0.15);\n",
              "      filter: drop-shadow(0px 1px 2px rgba(0, 0, 0, 0.3));\n",
              "      fill: #FFFFFF;\n",
              "    }\n",
              "  </style>\n",
              "\n",
              "      <script>\n",
              "        const buttonEl =\n",
              "          document.querySelector('#df-344bd02a-e881-4e87-b44a-4ca6823fbef8 button.colab-df-convert');\n",
              "        buttonEl.style.display =\n",
              "          google.colab.kernel.accessAllowed ? 'block' : 'none';\n",
              "\n",
              "        async function convertToInteractive(key) {\n",
              "          const element = document.querySelector('#df-344bd02a-e881-4e87-b44a-4ca6823fbef8');\n",
              "          const dataTable =\n",
              "            await google.colab.kernel.invokeFunction('convertToInteractive',\n",
              "                                                     [key], {});\n",
              "          if (!dataTable) return;\n",
              "\n",
              "          const docLinkHtml = 'Like what you see? Visit the ' +\n",
              "            '<a target=\"_blank\" href=https://colab.research.google.com/notebooks/data_table.ipynb>data table notebook</a>'\n",
              "            + ' to learn more about interactive tables.';\n",
              "          element.innerHTML = '';\n",
              "          dataTable['output_type'] = 'display_data';\n",
              "          await google.colab.output.renderOutput(dataTable, element);\n",
              "          const docLink = document.createElement('div');\n",
              "          docLink.innerHTML = docLinkHtml;\n",
              "          element.appendChild(docLink);\n",
              "        }\n",
              "      </script>\n",
              "    </div>\n",
              "  </div>\n",
              "  "
            ]
          },
          "metadata": {},
          "execution_count": 78
        }
      ]
    },
    {
      "cell_type": "code",
      "source": [
        "data = table\n",
        "print(data)"
      ],
      "metadata": {
        "colab": {
          "base_uri": "https://localhost:8080/"
        },
        "id": "Wa5AZra5c5RU",
        "outputId": "067ce521-46c6-4b34-80b9-97b75bc6ef0c"
      },
      "id": "Wa5AZra5c5RU",
      "execution_count": 79,
      "outputs": [
        {
          "output_type": "stream",
          "name": "stdout",
          "text": [
            "balance    Balance_Positivo  Endeudados  Potencial_Paquete_Inversion\n",
            "education                                                           \n",
            "primary                6160         607                           84\n",
            "secondary             20590        2311                          301\n",
            "tertiary              12177         720                          404\n"
          ]
        }
      ]
    },
    {
      "cell_type": "markdown",
      "source": [
        "Con esta tabla logramos visualizar, previo a una gráfica, toda la información que necesitamos conocer. \n",
        "\n",
        "Ésta gráfica nos indica qué nivel de educación posee cada bloque de clientes según el dinero que tienen en la cuenta actualmente.\n",
        "\n",
        "Analicémosla con detenimiento para comprender bien la información que aparece y si hay algún dato que nos pueda sorprender.\n",
        "\n",
        "Empecemos por los daros tal vez más esperados.\n",
        "\n",
        "El mayor número de personas que poseen más de 10.000€ en sus cuentas y por lo tanto pueden ser considerados para el paquete de inversiones son personas con el nivel de educación más alto, y el grupo de personas más pequeño lo componen aquellos con un nivel de educación primaria.\n",
        "\n",
        "Se puede considerar interesante el hecho que el mayor número de personas endeudadas, o con la cuenta en negativo, provienen de aquellos con nivel de educación secundaria y con un margen muy grande. Un 63.5% de todas las personas endeudadas exactamente. Seguidos después por aquellos con un nivel de educación terciario y en último lugar aquellos con un nivel de educación primaria. Es cierto que aunque el menor número de personas endeudadas provengan del nivel educativo primario, en general son el grupo menos numeroso. Porcentualmente hablando, el número de personas endeudadas es mayor en dicho grupo que en el de aquellos individuos con nivel de educación secundaria.\n",
        "\n",
        "\n",
        "Seguiremos analizando una vez obtengamos la gráfica.\n",
        "\n",
        "\n"
      ],
      "metadata": {
        "id": "OJ1iPPhLUGhE"
      },
      "id": "OJ1iPPhLUGhE"
    },
    {
      "cell_type": "code",
      "source": [
        "df = pd.DataFrame(data)"
      ],
      "metadata": {
        "id": "pzZ_EBDPct0D"
      },
      "id": "pzZ_EBDPct0D",
      "execution_count": 80,
      "outputs": []
    },
    {
      "cell_type": "code",
      "source": [
        "print(df)"
      ],
      "metadata": {
        "colab": {
          "base_uri": "https://localhost:8080/"
        },
        "id": "QG1i-53MeTg4",
        "outputId": "47cebb29-91eb-443b-b24e-a16691ed5dfc"
      },
      "id": "QG1i-53MeTg4",
      "execution_count": 81,
      "outputs": [
        {
          "output_type": "stream",
          "name": "stdout",
          "text": [
            "balance    Balance_Positivo  Endeudados  Potencial_Paquete_Inversion\n",
            "education                                                           \n",
            "primary                6160         607                           84\n",
            "secondary             20590        2311                          301\n",
            "tertiary              12177         720                          404\n"
          ]
        }
      ]
    },
    {
      "cell_type": "markdown",
      "source": [
        "**¿Qué diagrama has usado y por qué?**\n",
        "\n",
        "Optamos por un gráfico de barras adyacentes para representar esta información por una serie de ventajas que presentaba.\n",
        "\n",
        "Las ventajas de utilizar una gráfica de barras adyacentes para explicar la relación entre el nivel de estudios y el saldo de los clientes en la cuenta incluyen:\n",
        "\n",
        "*   **Visualización clara:** Las gráficas de barras adyacentes son fáciles de leer y comprender, lo que permite a los lectores ver de manera clara la relación entre dos variables.\n",
        "*   **Comparación fácil:** Con una gráfica de barras adyacentes, es fácil comparar los valores de dos o más categorías y ver si existe una correlación entre ellas.\n",
        "*   **Representación gráfica:** Las gráficas de barras adyacentes pueden utilizarse para representar de manera gráfica datos numéricos y hacer que la información sea más accesible para los lectores.\n"
      ],
      "metadata": {
        "id": "UtfP_kA5h-2_"
      },
      "id": "UtfP_kA5h-2_"
    },
    {
      "cell_type": "code",
      "source": [
        "import pandas as pd\n",
        "import matplotlib.pyplot as plt\n",
        "\n",
        "# Create the sample data\n",
        "data = {'Education Level': ['Primaria', 'Secundaria', 'Terciaria', \n",
        "                            'Primaria', 'Secundaria', 'Terciaria',\n",
        "                            'Primaria', 'Secundaria', 'Terciaria'],\n",
        "        'Account Balance': ['Endeudados', 'Endeudados', 'Endeudados', \n",
        "                            'Balance Positivo', 'Balance Positivo', 'Balance Positivo',\n",
        "                            'Potencial Paquete Inversion', 'Potencial Paquete Inversion', 'Potencial Paquete Inversion'],\n",
        "        'Count': [607, 2311, 720,\n",
        "                  6160, 20590, 12177,\n",
        "                  84, 301, 404]}\n",
        "\n",
        "# Convert the data into a pandas dataframe\n",
        "df = pd.DataFrame(data)\n",
        "\n",
        "# Create a pivot table to rearrange the data\n",
        "pivot_table = df.pivot(index='Education Level', columns='Account Balance', values='Count')\n",
        "\n",
        "# Plot the pivot table as a bar chart\n",
        "pivot_table.plot(kind='bar', stacked=False, figsize=(10, 5), color=['blue', 'red', 'green'])\n",
        "\n",
        "# Add labels and titles to the plot\n",
        "plt.xlabel('Nivel de educación')\n",
        "plt.ylabel('Numero de personas')\n",
        "plt.title('Nivel Educativo vs Saldo de Cliente en Cuenta')\n",
        "\n",
        "# Show the plot\n",
        "plt.show()"
      ],
      "metadata": {
        "colab": {
          "base_uri": "https://localhost:8080/",
          "height": 396
        },
        "id": "gNf4tCjwlHzD",
        "outputId": "bf52b346-1185-4616-e16a-d5c953028fa5"
      },
      "id": "gNf4tCjwlHzD",
      "execution_count": 82,
      "outputs": [
        {
          "output_type": "display_data",
          "data": {
            "text/plain": [
              "<Figure size 720x360 with 1 Axes>"
            ],
            "image/png": "[encoded data removed]"
          },
          "metadata": {
            "needs_background": "light"
          }
        }
      ]
    },
    {
      "cell_type": "code",
      "source": [
        "import pandas as pd\n",
        "import matplotlib.pyplot as plt\n",
        "\n",
        "# Create the sample data\n",
        "data = {'Education Level': ['Primaria', 'Secundaria', 'Terciaria', \n",
        "                            'Primaria', 'Secundaria', 'Terciaria',\n",
        "                            'Primaria', 'Secundaria', 'Terciaria'],\n",
        "        'Account Balance': ['Endeudados', 'Endeudados', 'Endeudados', \n",
        "                            'Balance_Positivo', 'Balance_Positivo', 'Balance_Positivo',\n",
        "                            'Potencial Paquete Inversion', 'Potencial Paquete Inversion', 'Potencial Paquete Inversion'],\n",
        "        'Count': [607, 2311, 720,\n",
        "                  6160, 20590, 12177,\n",
        "                  84, 301, 404]}\n",
        "\n",
        "# Convert the data into a pandas dataframe\n",
        "df = pd.DataFrame(data)\n",
        "\n",
        "# Create a pivot table to rearrange the data\n",
        "pivot_table = df.pivot(index='Account Balance', columns='Education Level', values='Count')\n",
        "\n",
        "# Plot the pivot table as a bar chart\n",
        "pivot_table.plot(kind='bar', stacked=False, figsize=(10, 5), color=['red', 'blue','green'])\n",
        "\n",
        "# Add labels and titles to the plot\n",
        "plt.xlabel('Nivel de educación')\n",
        "plt.ylabel('Numero de personas')\n",
        "plt.title('Nivel Educativo vs Saldo de Cliente en Cuenta')\n",
        "\n",
        "# Show the plot\n",
        "plt.show()"
      ],
      "metadata": {
        "id": "jlL51V5P7diB",
        "outputId": "828af697-db5d-4649-ae90-0c4c535d3967",
        "colab": {
          "base_uri": "https://localhost:8080/",
          "height": 478
        }
      },
      "id": "jlL51V5P7diB",
      "execution_count": 83,
      "outputs": [
        {
          "output_type": "display_data",
          "data": {
            "text/plain": [
              "<Figure size 720x360 with 1 Axes>"
            ],
            "image/png": "[encoded data removed]"
          },
          "metadata": {
            "needs_background": "light"
          }
        }
      ]
    },
    {
      "cell_type": "markdown",
      "source": [
        "Como podemos apreciar, la decisión respecto a que variable será representada en el eje x ( Nivel de educación o Saldo del cliente en la cuenta) y cual por los tres diferentes colores, es muy importante puesto las deducciones que podramos sacar visualizando las gráficas de barras adyacentes podrían ser diferentes.\n",
        "\n",
        "De la Gráfica [1], lo más inminente que podemos apreciar, es cómo los tres bloques de educación siguen un patrón casi idéntico, muy similar. La popularidad y distribución del saldo los clientes sigue el mismo orden sin importar el nivel de educación de los mismos; la mayoría tiene un saldo positivo, seguido por aquellos que tienen la cuenta en negativo y en último lugar aquellos con más de 10.000€.\n",
        "\n",
        "También tenemos que apreciar cómo de grande es el salto entre aquellos que tienen un balance positivo vs el resto, es muy notable.\n",
        "\n",
        "La Gráfica [2], nos permite visualizar mejor este último dato. Vemos más drásticamente tal vez, la diferencia de personas que existen entre aquellos que tienen un balance positivo y el resto de personas. Podemos comprender la verdadera magnitud de los pocos clientes a los que se les puede ofrecer el paquete de inversión. \n",
        "\n",
        "Éste tipo de gráficas le puede servir a la sucursal del banco para tomar decisiones, por ejemplo respecto a la cantidad de empleados que necesitan contratar para conversar con aquellos clientes más adinerados sobre un paquete premium.\n",
        "\n",
        "Si bien ésta gráfica es útil porque representa de una forma muy buena la cantidad de personas que caen bajo según qué rango, tal vez no es la mejor para ayudarnos a conceptualizar el porcentaje de personas que caen bajo cada rango y la relación entre el nivel de educación y el saldo del cliente en su cuenta. Es por ello que con los datos crearemos más gráficas diferentes para conseguir una mejor visión global de esta relación.\n"
      ],
      "metadata": {
        "id": "DMem4RG-NLaK"
      },
      "id": "DMem4RG-NLaK"
    },
    {
      "cell_type": "code",
      "source": [
        "import pandas as pd\n",
        "import matplotlib.pyplot as plt\n",
        "\n",
        "# Create the sample data\n",
        "data = {'Education Level': ['Primaria', 'Secundaria', 'Terciaria', \n",
        "                            'Primaria', 'Secundaria', 'Terciaria',\n",
        "                            'Primaria', 'Secundaria', 'Terciaria'],\n",
        "        'Account Balance': ['Endeudados', 'Endeudados', 'Endeudados', \n",
        "                            'Balance_Positivo', 'Balance_Positivo', 'Balance_Positivo',\n",
        "                            'Potencial Paquete Inversion', 'Potencial Paquete Inversion', 'Potencial Paquete Inversion'],\n",
        "        'Count': [607, 2311, 720,\n",
        "                  6160, 20590, 12177,\n",
        "                  84, 301, 404]}\n",
        "\n",
        "# Convert the data into a pandas dataframe\n",
        "df = pd.DataFrame(data)\n",
        "\n",
        "# Create a pivot table to rearrange the data\n",
        "pivot_table = df.pivot(index='Education Level', columns='Account Balance', values='Count')\n",
        "\n",
        "# Plot the pivot table as a bar chart using subplots\n",
        "fig, (ax1, ax2, ax3) = plt.subplots(1, 3, figsize=(15, 5))\n",
        "\n",
        "colors = ['blue', 'red', 'green']  # list of colors for each bar\n",
        "\n",
        "pivot_table[['Endeudados']].plot(kind='bar', stacked=False, ax=ax1, color=colors)\n",
        "pivot_table[['Balance_Positivo']].plot(kind='bar', stacked=False, ax=ax2, color=colors)\n",
        "pivot_table[['Potencial Paquete Inversion']].plot(kind='bar', stacked=False, ax=ax3, color=colors)\n",
        "\n",
        "\n",
        "# Add labels and titles to the subplots\n",
        "ax1.set_xlabel('Nivel de educación')\n",
        "ax1.set_ylabel('Numero de personas')\n",
        "ax1.set_title('Endeudados')\n",
        "ax2.set_xlabel('Nivel de educación')\n",
        "ax2.set_ylabel('Numero de personas')\n",
        "ax2.set_title('Balance Positivo')\n",
        "ax3.set_xlabel('Nivel de educación')\n",
        "ax3.set_ylabel('Numero de personas')\n",
        "ax3.set_title('Potencial Paquete Inversion')\n",
        "\n",
        "# Show the plot\n",
        "plt.show()\n"
      ],
      "metadata": {
        "id": "cgrX-3EF8cdD",
        "outputId": "49a3e11f-b954-4496-d3db-13447b26e0a9",
        "colab": {
          "base_uri": "https://localhost:8080/",
          "height": 283
        }
      },
      "id": "cgrX-3EF8cdD",
      "execution_count": 84,
      "outputs": [
        {
          "output_type": "display_data",
          "data": {
            "text/plain": [
              "<Figure size 1080x360 with 3 Axes>"
            ],
            "image/png": "[encoded data removed]"
          },
          "metadata": {
            "needs_background": "light"
          }
        }
      ]
    },
    {
      "cell_type": "code",
      "source": [
        "import pandas as pd\n",
        "import matplotlib.pyplot as plt\n",
        "\n",
        "# Read the data into a Pandas dataframe\n",
        "data = {'Education': ['primaria', 'secundaria', 'terciaria'],\n",
        "        'endeudados': [607, 2311, 720],\n",
        "        'balance positivo': [6160, 20590, 12177],\n",
        "        'potencial paquete inversion': [84, 301, 404]}\n",
        "df = pd.DataFrame(data)\n",
        "\n",
        "# Set the index of the dataframe to the 'education' column\n",
        "df = df.set_index('Education')\n",
        "\n",
        "# Plot the data as a stacked bar graph\n",
        "df.plot(kind='bar', stacked=True, figsize=(10,5), color=['red', 'blue', 'green'])\n",
        "\n",
        "# Add labels and title to the graph\n",
        "plt.xlabel('Nivel de educacion')\n",
        "plt.ylabel('Numero de clientes')\n",
        "plt.title('Nivel Educativo vs Saldo de Cliente en Cuenta')\n",
        "\n",
        "# Show the graph\n",
        "plt.show()\n"
      ],
      "metadata": {
        "id": "Aps5oKmKzKbr",
        "outputId": "8a939eb3-1908-4ade-c91b-542008841461",
        "colab": {
          "base_uri": "https://localhost:8080/",
          "height": 395
        }
      },
      "id": "Aps5oKmKzKbr",
      "execution_count": 56,
      "outputs": [
        {
          "output_type": "display_data",
          "data": {
            "text/plain": [
              "<Figure size 720x360 with 1 Axes>"
            ],
            "image/png": "[encoded data removed]"
          },
          "metadata": {
            "needs_background": "light"
          }
        }
      ]
    },
    {
      "cell_type": "code",
      "source": [
        "import seaborn as sns \n",
        "df_draw=(df\n",
        "         .query(\"\")\n",
        "         .query(\"\")\n",
        "         \n",
        "         )"
      ],
      "metadata": {
        "id": "rUORDjYV16pq",
        "colab": {
          "base_uri": "https://localhost:8080/",
          "height": 397
        },
        "outputId": "118537a3-4d49-4768-87ac-409458b5ab4c"
      },
      "id": "rUORDjYV16pq",
      "execution_count": 31,
      "outputs": [
        {
          "output_type": "error",
          "ename": "ValueError",
          "evalue": "ignored",
          "traceback": [
            "\u001b[0;31m---------------------------------------------------------------------------\u001b[0m",
            "\u001b[0;31mValueError\u001b[0m                                Traceback (most recent call last)",
            "\u001b[0;32m<ipython-input-31-90640d1339eb>\u001b[0m in \u001b[0;36m<module>\u001b[0;34m\u001b[0m\n\u001b[1;32m      1\u001b[0m \u001b[0;32mimport\u001b[0m \u001b[0mseaborn\u001b[0m \u001b[0;32mas\u001b[0m \u001b[0msns\u001b[0m\u001b[0;34m\u001b[0m\u001b[0;34m\u001b[0m\u001b[0m\n\u001b[0;32m----> 2\u001b[0;31m df_draw=(df\n\u001b[0m\u001b[1;32m      3\u001b[0m          \u001b[0;34m.\u001b[0m\u001b[0mquery\u001b[0m\u001b[0;34m(\u001b[0m\u001b[0;34m\"\"\u001b[0m\u001b[0;34m)\u001b[0m\u001b[0;34m\u001b[0m\u001b[0;34m\u001b[0m\u001b[0m\n\u001b[1;32m      4\u001b[0m          \u001b[0;34m.\u001b[0m\u001b[0mquery\u001b[0m\u001b[0;34m(\u001b[0m\u001b[0;34m\"\"\u001b[0m\u001b[0;34m)\u001b[0m\u001b[0;34m\u001b[0m\u001b[0;34m\u001b[0m\u001b[0m\n\u001b[1;32m      5\u001b[0m \u001b[0;34m\u001b[0m\u001b[0m\n",
            "\u001b[0;32m/usr/local/lib/python3.8/dist-packages/pandas/core/frame.py\u001b[0m in \u001b[0;36mquery\u001b[0;34m(self, expr, inplace, **kwargs)\u001b[0m\n\u001b[1;32m   4058\u001b[0m         \u001b[0mkwargs\u001b[0m\u001b[0;34m[\u001b[0m\u001b[0;34m\"level\"\u001b[0m\u001b[0;34m]\u001b[0m \u001b[0;34m=\u001b[0m \u001b[0mkwargs\u001b[0m\u001b[0;34m.\u001b[0m\u001b[0mpop\u001b[0m\u001b[0;34m(\u001b[0m\u001b[0;34m\"level\"\u001b[0m\u001b[0;34m,\u001b[0m \u001b[0;36m0\u001b[0m\u001b[0;34m)\u001b[0m \u001b[0;34m+\u001b[0m \u001b[0;36m1\u001b[0m\u001b[0;34m\u001b[0m\u001b[0;34m\u001b[0m\u001b[0m\n\u001b[1;32m   4059\u001b[0m         \u001b[0mkwargs\u001b[0m\u001b[0;34m[\u001b[0m\u001b[0;34m\"target\"\u001b[0m\u001b[0;34m]\u001b[0m \u001b[0;34m=\u001b[0m \u001b[0;32mNone\u001b[0m\u001b[0;34m\u001b[0m\u001b[0;34m\u001b[0m\u001b[0m\n\u001b[0;32m-> 4060\u001b[0;31m         \u001b[0mres\u001b[0m \u001b[0;34m=\u001b[0m \u001b[0mself\u001b[0m\u001b[0;34m.\u001b[0m\u001b[0meval\u001b[0m\u001b[0;34m(\u001b[0m\u001b[0mexpr\u001b[0m\u001b[0;34m,\u001b[0m \u001b[0;34m**\u001b[0m\u001b[0mkwargs\u001b[0m\u001b[0;34m)\u001b[0m\u001b[0;34m\u001b[0m\u001b[0;34m\u001b[0m\u001b[0m\n\u001b[0m\u001b[1;32m   4061\u001b[0m \u001b[0;34m\u001b[0m\u001b[0m\n\u001b[1;32m   4062\u001b[0m         \u001b[0;32mtry\u001b[0m\u001b[0;34m:\u001b[0m\u001b[0;34m\u001b[0m\u001b[0;34m\u001b[0m\u001b[0m\n",
            "\u001b[0;32m/usr/local/lib/python3.8/dist-packages/pandas/core/frame.py\u001b[0m in \u001b[0;36meval\u001b[0;34m(self, expr, inplace, **kwargs)\u001b[0m\n\u001b[1;32m   4189\u001b[0m         \u001b[0mkwargs\u001b[0m\u001b[0;34m[\u001b[0m\u001b[0;34m\"resolvers\"\u001b[0m\u001b[0;34m]\u001b[0m \u001b[0;34m=\u001b[0m \u001b[0mkwargs\u001b[0m\u001b[0;34m.\u001b[0m\u001b[0mget\u001b[0m\u001b[0;34m(\u001b[0m\u001b[0;34m\"resolvers\"\u001b[0m\u001b[0;34m,\u001b[0m \u001b[0;34m(\u001b[0m\u001b[0;34m)\u001b[0m\u001b[0;34m)\u001b[0m \u001b[0;34m+\u001b[0m \u001b[0mtuple\u001b[0m\u001b[0;34m(\u001b[0m\u001b[0mresolvers\u001b[0m\u001b[0;34m)\u001b[0m\u001b[0;34m\u001b[0m\u001b[0;34m\u001b[0m\u001b[0m\n\u001b[1;32m   4190\u001b[0m \u001b[0;34m\u001b[0m\u001b[0m\n\u001b[0;32m-> 4191\u001b[0;31m         \u001b[0;32mreturn\u001b[0m \u001b[0m_eval\u001b[0m\u001b[0;34m(\u001b[0m\u001b[0mexpr\u001b[0m\u001b[0;34m,\u001b[0m \u001b[0minplace\u001b[0m\u001b[0;34m=\u001b[0m\u001b[0minplace\u001b[0m\u001b[0;34m,\u001b[0m \u001b[0;34m**\u001b[0m\u001b[0mkwargs\u001b[0m\u001b[0;34m)\u001b[0m\u001b[0;34m\u001b[0m\u001b[0;34m\u001b[0m\u001b[0m\n\u001b[0m\u001b[1;32m   4192\u001b[0m \u001b[0;34m\u001b[0m\u001b[0m\n\u001b[1;32m   4193\u001b[0m     \u001b[0;32mdef\u001b[0m \u001b[0mselect_dtypes\u001b[0m\u001b[0;34m(\u001b[0m\u001b[0mself\u001b[0m\u001b[0;34m,\u001b[0m \u001b[0minclude\u001b[0m\u001b[0;34m=\u001b[0m\u001b[0;32mNone\u001b[0m\u001b[0;34m,\u001b[0m \u001b[0mexclude\u001b[0m\u001b[0;34m=\u001b[0m\u001b[0;32mNone\u001b[0m\u001b[0;34m)\u001b[0m \u001b[0;34m->\u001b[0m \u001b[0mDataFrame\u001b[0m\u001b[0;34m:\u001b[0m\u001b[0;34m\u001b[0m\u001b[0;34m\u001b[0m\u001b[0m\n",
            "\u001b[0;32m/usr/local/lib/python3.8/dist-packages/pandas/core/computation/eval.py\u001b[0m in \u001b[0;36meval\u001b[0;34m(expr, parser, engine, truediv, local_dict, global_dict, resolvers, level, target, inplace)\u001b[0m\n\u001b[1;32m    313\u001b[0m     \u001b[0mexprs\u001b[0m\u001b[0;34m:\u001b[0m \u001b[0mlist\u001b[0m\u001b[0;34m[\u001b[0m\u001b[0mstr\u001b[0m \u001b[0;34m|\u001b[0m \u001b[0mBinOp\u001b[0m\u001b[0;34m]\u001b[0m\u001b[0;34m\u001b[0m\u001b[0;34m\u001b[0m\u001b[0m\n\u001b[1;32m    314\u001b[0m     \u001b[0;32mif\u001b[0m \u001b[0misinstance\u001b[0m\u001b[0;34m(\u001b[0m\u001b[0mexpr\u001b[0m\u001b[0;34m,\u001b[0m \u001b[0mstr\u001b[0m\u001b[0;34m)\u001b[0m\u001b[0;34m:\u001b[0m\u001b[0;34m\u001b[0m\u001b[0;34m\u001b[0m\u001b[0m\n\u001b[0;32m--> 315\u001b[0;31m         \u001b[0m_check_expression\u001b[0m\u001b[0;34m(\u001b[0m\u001b[0mexpr\u001b[0m\u001b[0;34m)\u001b[0m\u001b[0;34m\u001b[0m\u001b[0;34m\u001b[0m\u001b[0m\n\u001b[0m\u001b[1;32m    316\u001b[0m         \u001b[0mexprs\u001b[0m \u001b[0;34m=\u001b[0m \u001b[0;34m[\u001b[0m\u001b[0me\u001b[0m\u001b[0;34m.\u001b[0m\u001b[0mstrip\u001b[0m\u001b[0;34m(\u001b[0m\u001b[0;34m)\u001b[0m \u001b[0;32mfor\u001b[0m \u001b[0me\u001b[0m \u001b[0;32min\u001b[0m \u001b[0mexpr\u001b[0m\u001b[0;34m.\u001b[0m\u001b[0msplitlines\u001b[0m\u001b[0;34m(\u001b[0m\u001b[0;34m)\u001b[0m \u001b[0;32mif\u001b[0m \u001b[0me\u001b[0m\u001b[0;34m.\u001b[0m\u001b[0mstrip\u001b[0m\u001b[0;34m(\u001b[0m\u001b[0;34m)\u001b[0m \u001b[0;34m!=\u001b[0m \u001b[0;34m\"\"\u001b[0m\u001b[0;34m]\u001b[0m\u001b[0;34m\u001b[0m\u001b[0;34m\u001b[0m\u001b[0m\n\u001b[1;32m    317\u001b[0m     \u001b[0;32melse\u001b[0m\u001b[0;34m:\u001b[0m\u001b[0;34m\u001b[0m\u001b[0;34m\u001b[0m\u001b[0m\n",
            "\u001b[0;32m/usr/local/lib/python3.8/dist-packages/pandas/core/computation/eval.py\u001b[0m in \u001b[0;36m_check_expression\u001b[0;34m(expr)\u001b[0m\n\u001b[1;32m    111\u001b[0m     \"\"\"\n\u001b[1;32m    112\u001b[0m     \u001b[0;32mif\u001b[0m \u001b[0;32mnot\u001b[0m \u001b[0mexpr\u001b[0m\u001b[0;34m:\u001b[0m\u001b[0;34m\u001b[0m\u001b[0;34m\u001b[0m\u001b[0m\n\u001b[0;32m--> 113\u001b[0;31m         \u001b[0;32mraise\u001b[0m \u001b[0mValueError\u001b[0m\u001b[0;34m(\u001b[0m\u001b[0;34m\"expr cannot be an empty string\"\u001b[0m\u001b[0;34m)\u001b[0m\u001b[0;34m\u001b[0m\u001b[0;34m\u001b[0m\u001b[0m\n\u001b[0m\u001b[1;32m    114\u001b[0m \u001b[0;34m\u001b[0m\u001b[0m\n\u001b[1;32m    115\u001b[0m \u001b[0;34m\u001b[0m\u001b[0m\n",
            "\u001b[0;31mValueError\u001b[0m: expr cannot be an empty string"
          ]
        }
      ]
    },
    {
      "cell_type": "code",
      "source": [
        "import pandas as pd\n",
        "import matplotlib.pyplot as plt\n",
        "\n",
        "# Read the data into a Pandas dataframe\n",
        "data = {'Education': ['primaria', 'secundaria', 'terciaria'],\n",
        "        'endeudados': [607, 2311, 720],\n",
        "        'balance positivo': [6160, 20590, 12177],\n",
        "        'potencial paquete inversion': [84, 301, 404]}\n",
        "df = pd.DataFrame(data)\n",
        "\n",
        "# Plot the data as a box plot\n",
        "df.boxplot(column=['endeudados','balance positivo','potencial paquete inversion'], by='Education', figsize=(10,5))\n",
        "\n",
        "# Add labels and title to the graph\n",
        "plt.xlabel('Education Level')\n",
        "plt.ylabel('Amount')\n",
        "plt.title('Relationship between Education Level and Bank Balance')\n",
        "\n",
        "# Show the graph\n",
        "plt.show()\n"
      ],
      "metadata": {
        "id": "zECZQgXg2OHh"
      },
      "id": "zECZQgXg2OHh",
      "execution_count": null,
      "outputs": []
    },
    {
      "cell_type": "code",
      "source": [
        "sns.boxplot(data=df_draw,x='neighbourhood',y='price',hue='room_type')"
      ],
      "metadata": {
        "id": "V7gLnbfe4wQt"
      },
      "id": "V7gLnbfe4wQt",
      "execution_count": null,
      "outputs": []
    },
    {
      "cell_type": "code",
      "source": [
        "import pandas as pd\n",
        "import matplotlib.pyplot as plt\n",
        "\n",
        "data = {'Education': ['primaria', 'secundaria', 'terciaria'],\n",
        "        'endeudados': [607, 2311, 720],\n",
        "        'balance positivo': [6160, 20590, 12177],\n",
        "        'potencial paquete inversion': [84, 301, 404]}\n",
        "\n",
        "df = pd.DataFrame(data)\n",
        "\n",
        "fig, ax = plt.subplots(1, 3, figsize=(12, 4))\n",
        "\n",
        "for i, col in enumerate(df.columns[1:]):\n",
        "    df.plot.pie(y=col, ax=ax[i], autopct='%1.1f%%', labels=df['Education'], startangle=90)\n",
        "    ax[i].set_title(col)\n",
        "    ax[i].set_ylabel('')\n",
        "\n",
        "plt.tight_layout()\n",
        "plt.show()\n"
      ],
      "metadata": {
        "id": "inBydHRU6LWc"
      },
      "id": "inBydHRU6LWc",
      "execution_count": null,
      "outputs": []
    },
    {
      "cell_type": "code",
      "source": [
        "import pandas as pd\n",
        "import matplotlib.pyplot as plt\n",
        "\n",
        "data = {'Balance de cuenta': ['endeudados', 'balance positivo', 'potencial paquete inversion'],\n",
        "        'primaria': [607, 6160, 84],\n",
        "        'secundaria': [2311, 20590, 301],\n",
        "        'terciaria': [720, 12177, 404]}\n",
        "\n",
        "df = pd.DataFrame(data)\n",
        "\n",
        "fig, ax = plt.subplots(1, 3, figsize=(12, 4))\n",
        "\n",
        "for i, col in enumerate(df.columns[1:]):\n",
        "    df.plot.pie(y=col, ax=ax[i], autopct='%1.1f%%', labels=df['Balance de cuenta'], startangle=90)\n",
        "    ax[i].set_title(col)\n",
        "    ax[i].set_ylabel('')\n",
        "\n",
        "plt.tight_layout()\n",
        "plt.show()\n"
      ],
      "metadata": {
        "id": "4lbtsXwb6YlX"
      },
      "id": "4lbtsXwb6YlX",
      "execution_count": null,
      "outputs": []
    },
    {
      "cell_type": "markdown",
      "source": [
        "¿Cuál es el grupo que más destaca? "
      ],
      "metadata": {
        "id": "XHeTLpaXiMGL"
      },
      "id": "XHeTLpaXiMGL"
    },
    {
      "cell_type": "markdown",
      "source": [
        "Aporta toda la información que creas necesaria que puedes obtener de la gráfica."
      ],
      "metadata": {
        "id": "DF5lKNDviNhx"
      },
      "id": "DF5lKNDviNhx"
    },
    {
      "cell_type": "markdown",
      "source": [
        "#EJERCICIO 2"
      ],
      "metadata": {
        "id": "0yMkvEebkl3T"
      },
      "id": "0yMkvEebkl3T"
    },
    {
      "cell_type": "markdown",
      "source": [
        "##Modelado\n",
        "\n",
        "Ahora, vamos a aplicar el siguiente paso de la metodología CRISP."
      ],
      "metadata": {
        "id": "GD43_ChuRKLn"
      },
      "id": "GD43_ChuRKLn"
    },
    {
      "cell_type": "markdown",
      "source": [
        "En este ejercicio nos piden que dividamos las edades, es decir que pase de ser una variable númerica a que sea una variable categórica. En concreto nosotros vamosa hacer la división de esta manera: los menores de 30 años van a ser alumnos, de 30 a 45 años serán trabajadores jóvenes, de 46 a 65 trabajadores veteranos, y por último los trabajdores no vinculados a la universidad. \n",
        "\n",
        "¿Cuál es el grupo de edad que tiene más clientes?\n",
        "\n",
        "Por lo que vamos a empezar el modelado de los datos para esteejercicio. Vamos a dividir las edades en las categorías indicadas, para ello vamos a crear un atributo nuevo en donde guardaremos esta nueva información. \n",
        "\n",
        "Categorizar una variable, se suele pedir cuando una variable es continua pero los valores cercanos se pueden poner en el mismo grupo, como puede ser la edad en este caso.\n"
      ],
      "metadata": {
        "id": "CfrnxYnukrai"
      },
      "id": "CfrnxYnukrai"
    },
    {
      "cell_type": "code",
      "source": [
        "#Creamos unas nueva columna en la que vamos a añadir la categoría de las edades\n",
        "df[\"agecat\"] = np.nan\n",
        "#Establecemos las diferentes clases que queremos crear.\n",
        "filas=len(df.axes[0])\n",
        "for i in range (filas):\n",
        "    if df['age'][i]<30:\n",
        "        df['agecat'][i]='Alumnos'\n",
        "    elif df['age'][i]>=30 and df['age'][i]<=45:\n",
        "        df['agecat'][i]='Trabajadores jóvenes'\n",
        "    elif df['age'][i]>=46 and df['age'][i]<=65:\n",
        "        df['agecat'][i]='Trabajadores veteranos'\n",
        "    else:\n",
        "        df['agecat'][i]='Cliente no vinvulado'\n"
      ],
      "metadata": {
        "id": "JEqKXzK1Dcsh",
        "colab": {
          "base_uri": "https://localhost:8080/"
        },
        "outputId": "141a9fa1-4f2c-4fb3-ba56-a1c51a08fe02"
      },
      "id": "JEqKXzK1Dcsh",
      "execution_count": 128,
      "outputs": [
        {
          "output_type": "stream",
          "name": "stderr",
          "text": [
            "<ipython-input-128-206ae5670e3e>:11: SettingWithCopyWarning: \n",
            "A value is trying to be set on a copy of a slice from a DataFrame\n",
            "\n",
            "See the caveats in the documentation: https://pandas.pydata.org/pandas-docs/stable/user_guide/indexing.html#returning-a-view-versus-a-copy\n",
            "  df['agecat'][i]='Trabajadores veteranos'\n",
            "/usr/local/lib/python3.8/dist-packages/pandas/core/indexing.py:1732: SettingWithCopyWarning: \n",
            "A value is trying to be set on a copy of a slice from a DataFrame\n",
            "\n",
            "See the caveats in the documentation: https://pandas.pydata.org/pandas-docs/stable/user_guide/indexing.html#returning-a-view-versus-a-copy\n",
            "  self._setitem_single_block(indexer, value, name)\n"
          ]
        }
      ]
    },
    {
      "cell_type": "markdown",
      "source": [
        "Una vez transformada la variable vamos a compar cuantos tipo de cada hay."
      ],
      "metadata": {
        "id": "_3LIiYiTEnKq"
      },
      "id": "_3LIiYiTEnKq"
    },
    {
      "cell_type": "code",
      "source": [
        "count = df['agecat'].value_counts()"
      ],
      "metadata": {
        "id": "zCoDGNuJEP1_"
      },
      "id": "zCoDGNuJEP1_",
      "execution_count": 129,
      "outputs": []
    },
    {
      "cell_type": "markdown",
      "source": [
        "Ahora, además de saber cuales son las categorías que hemos creado, sabemos cuantas observaciones pertenercen a cada categoría.\n",
        "\n",
        "- Alumnos: 5273\n",
        "- Trabajadores jóvenes: 25490\n",
        "- Trabajadores veteranos: 13697\n",
        "- Cliente no vinculado: 751\n",
        "\n",
        "Al visualizar estos datos se nos hace raro pensar que en un banco situado dentro de la universidad donde la mayoría de las personas que pasan por delente sean alumnos, que sea la segunda categoría con menos frecuencia. Pero puede ser perfectamente que la gente de la zona utilice esta sucursal del banco para llevar sus cuentas."
      ],
      "metadata": {
        "id": "nVqV2Pp5E0T_"
      },
      "id": "nVqV2Pp5E0T_"
    },
    {
      "cell_type": "code",
      "source": [
        "df['agecat'].value_counts().plot(kind='pie', title='Edad en categorías')"
      ],
      "metadata": {
        "id": "CK_Rk1vWEwid",
        "colab": {
          "base_uri": "https://localhost:8080/",
          "height": 281
        },
        "outputId": "09cd1865-16ad-475f-e732-1f9266c3c396"
      },
      "id": "CK_Rk1vWEwid",
      "execution_count": 136,
      "outputs": [
        {
          "output_type": "execute_result",
          "data": {
            "text/plain": [
              "<matplotlib.axes._subplots.AxesSubplot at 0x7f2381e7a070>"
            ]
          },
          "metadata": {},
          "execution_count": 136
        },
        {
          "output_type": "display_data",
          "data": {
            "text/plain": [
              "<Figure size 432x288 with 1 Axes>"
            ],
            "image/png": "[encoded data removed]"
          },
          "metadata": {}
        }
      ]
    },
    {
      "cell_type": "markdown",
      "source": [
        "##Evaluación y despliegue\n",
        "\n",
        "Observamos que la mayoría de los clientes son trabajadores jóvenes, con bastante diferencia, más del 50% se encuentran en esta categoría. Seguida de trabajadores veteranos, con un 30% de la cantidad total, seguido de alumnos que es la segunda categoría con menos clientes, y por último los clientes no vinculados, que hemos concluido que son las personas más mayores que viven cerca de la universidad y que por eso les viene bien ser clientes de esta sucursal.\n",
        "\n"
      ],
      "metadata": {
        "id": "8tbo_QZ6F40n"
      },
      "id": "8tbo_QZ6F40n"
    },
    {
      "cell_type": "markdown",
      "source": [
        "#EJERCICIO 3\n",
        "\n",
        "##Modelado"
      ],
      "metadata": {
        "id": "XXcoOB27koaJ"
      },
      "id": "XXcoOB27koaJ"
    },
    {
      "cell_type": "markdown",
      "source": [
        "En este ejercicio lo que queremos hacer es ver la duración de los clientes del banco Santander en la sucursal de la UFV. Para eso lo que vamos a hacer es pasar los días a años y una vez en año vamos a graficarlo para ver que tipo de clientes son los que tiene esta sucursal.\n",
        "\n",
        "Es decir, en este ejercicio en concreto solo tenemos que modelar los datos creando otra nueva variable y dividiendo a duration entre los días de un año, para tener los años que cada cliente lleva siendo cliente del banco Santander.\n",
        "\n"
      ],
      "metadata": {
        "id": "JlxSZRHmm8jt"
      },
      "id": "JlxSZRHmm8jt"
    },
    {
      "cell_type": "code",
      "source": [
        "#Convertimos la columna duration a float \n",
        "#para que la operación salga con decimales\n",
        "df['duration'] = df['duration'].astype (float)\n",
        "#Lo creamos con otra variable para no borrar la variable de duration\n",
        "df['years'] = df['duration']/365.25"
      ],
      "metadata": {
        "id": "EjOLJCIsDbkF",
        "colab": {
          "base_uri": "https://localhost:8080/",
          "height": 423
        },
        "outputId": "dd18a120-124a-4c4f-a242-cf2fcd417688"
      },
      "id": "EjOLJCIsDbkF",
      "execution_count": 126,
      "outputs": [
        {
          "output_type": "execute_result",
          "data": {
            "text/plain": [
              "       age  education  balance  duration     years\n",
              "0       58   tertiary     2143     261.0  0.714579\n",
              "1       44  secondary       29     151.0  0.413415\n",
              "2       33  secondary        2      76.0  0.208077\n",
              "3       35   tertiary      231     139.0  0.380561\n",
              "4       28   tertiary      447     217.0  0.594114\n",
              "...    ...        ...      ...       ...       ...\n",
              "43349   51   tertiary      825     977.0  2.674880\n",
              "43350   71    primary     1729     456.0  1.248460\n",
              "43351   72  secondary     5715    1127.0  3.085558\n",
              "43352   57  secondary      668     508.0  1.390828\n",
              "43353   37  secondary     2971     361.0  0.988364\n",
              "\n",
              "[43354 rows x 5 columns]"
            ],
            "text/html": [
              "\n",
              "  <div id=\"df-7cb53784-68e3-4747-a9a4-8f7d207e51f2\">\n",
              "    <div class=\"colab-df-container\">\n",
              "      <div>\n",
              "<style scoped>\n",
              "    .dataframe tbody tr th:only-of-type {\n",
              "        vertical-align: middle;\n",
              "    }\n",
              "\n",
              "    .dataframe tbody tr th {\n",
              "        vertical-align: top;\n",
              "    }\n",
              "\n",
              "    .dataframe thead th {\n",
              "        text-align: right;\n",
              "    }\n",
              "</style>\n",
              "<table border=\"1\" class=\"dataframe\">\n",
              "  <thead>\n",
              "    <tr style=\"text-align: right;\">\n",
              "      <th></th>\n",
              "      <th>age</th>\n",
              "      <th>education</th>\n",
              "      <th>balance</th>\n",
              "      <th>duration</th>\n",
              "      <th>years</th>\n",
              "    </tr>\n",
              "  </thead>\n",
              "  <tbody>\n",
              "    <tr>\n",
              "      <th>0</th>\n",
              "      <td>58</td>\n",
              "      <td>tertiary</td>\n",
              "      <td>2143</td>\n",
              "      <td>261.0</td>\n",
              "      <td>0.714579</td>\n",
              "    </tr>\n",
              "    <tr>\n",
              "      <th>1</th>\n",
              "      <td>44</td>\n",
              "      <td>secondary</td>\n",
              "      <td>29</td>\n",
              "      <td>151.0</td>\n",
              "      <td>0.413415</td>\n",
              "    </tr>\n",
              "    <tr>\n",
              "      <th>2</th>\n",
              "      <td>33</td>\n",
              "      <td>secondary</td>\n",
              "      <td>2</td>\n",
              "      <td>76.0</td>\n",
              "      <td>0.208077</td>\n",
              "    </tr>\n",
              "    <tr>\n",
              "      <th>3</th>\n",
              "      <td>35</td>\n",
              "      <td>tertiary</td>\n",
              "      <td>231</td>\n",
              "      <td>139.0</td>\n",
              "      <td>0.380561</td>\n",
              "    </tr>\n",
              "    <tr>\n",
              "      <th>4</th>\n",
              "      <td>28</td>\n",
              "      <td>tertiary</td>\n",
              "      <td>447</td>\n",
              "      <td>217.0</td>\n",
              "      <td>0.594114</td>\n",
              "    </tr>\n",
              "    <tr>\n",
              "      <th>...</th>\n",
              "      <td>...</td>\n",
              "      <td>...</td>\n",
              "      <td>...</td>\n",
              "      <td>...</td>\n",
              "      <td>...</td>\n",
              "    </tr>\n",
              "    <tr>\n",
              "      <th>43349</th>\n",
              "      <td>51</td>\n",
              "      <td>tertiary</td>\n",
              "      <td>825</td>\n",
              "      <td>977.0</td>\n",
              "      <td>2.674880</td>\n",
              "    </tr>\n",
              "    <tr>\n",
              "      <th>43350</th>\n",
              "      <td>71</td>\n",
              "      <td>primary</td>\n",
              "      <td>1729</td>\n",
              "      <td>456.0</td>\n",
              "      <td>1.248460</td>\n",
              "    </tr>\n",
              "    <tr>\n",
              "      <th>43351</th>\n",
              "      <td>72</td>\n",
              "      <td>secondary</td>\n",
              "      <td>5715</td>\n",
              "      <td>1127.0</td>\n",
              "      <td>3.085558</td>\n",
              "    </tr>\n",
              "    <tr>\n",
              "      <th>43352</th>\n",
              "      <td>57</td>\n",
              "      <td>secondary</td>\n",
              "      <td>668</td>\n",
              "      <td>508.0</td>\n",
              "      <td>1.390828</td>\n",
              "    </tr>\n",
              "    <tr>\n",
              "      <th>43353</th>\n",
              "      <td>37</td>\n",
              "      <td>secondary</td>\n",
              "      <td>2971</td>\n",
              "      <td>361.0</td>\n",
              "      <td>0.988364</td>\n",
              "    </tr>\n",
              "  </tbody>\n",
              "</table>\n",
              "<p>43354 rows × 5 columns</p>\n",
              "</div>\n",
              "      <button class=\"colab-df-convert\" onclick=\"convertToInteractive('df-7cb53784-68e3-4747-a9a4-8f7d207e51f2')\"\n",
              "              title=\"Convert this dataframe to an interactive table.\"\n",
              "              style=\"display:none;\">\n",
              "        \n",
              "  <svg xmlns=\"http://www.w3.org/2000/svg\" height=\"24px\"viewBox=\"0 0 24 24\"\n",
              "       width=\"24px\">\n",
              "    <path d=\"M0 0h24v24H0V0z\" fill=\"none\"/>\n",
              "    <path d=\"M18.56 5.44l.94 2.06.94-2.06 2.06-.94-2.06-.94-.94-2.06-.94 2.06-2.06.94zm-11 1L8.5 8.5l.94-2.06 2.06-.94-2.06-.94L8.5 2.5l-.94 2.06-2.06.94zm10 10l.94 2.06.94-2.06 2.06-.94-2.06-.94-.94-2.06-.94 2.06-2.06.94z\"/><path d=\"M17.41 7.96l-1.37-1.37c-.4-.4-.92-.59-1.43-.59-.52 0-1.04.2-1.43.59L10.3 9.45l-7.72 7.72c-.78.78-.78 2.05 0 2.83L4 21.41c.39.39.9.59 1.41.59.51 0 1.02-.2 1.41-.59l7.78-7.78 2.81-2.81c.8-.78.8-2.07 0-2.86zM5.41 20L4 18.59l7.72-7.72 1.47 1.35L5.41 20z\"/>\n",
              "  </svg>\n",
              "      </button>\n",
              "      \n",
              "  <style>\n",
              "    .colab-df-container {\n",
              "      display:flex;\n",
              "      flex-wrap:wrap;\n",
              "      gap: 12px;\n",
              "    }\n",
              "\n",
              "    .colab-df-convert {\n",
              "      background-color: #E8F0FE;\n",
              "      border: none;\n",
              "      border-radius: 50%;\n",
              "      cursor: pointer;\n",
              "      display: none;\n",
              "      fill: #1967D2;\n",
              "      height: 32px;\n",
              "      padding: 0 0 0 0;\n",
              "      width: 32px;\n",
              "    }\n",
              "\n",
              "    .colab-df-convert:hover {\n",
              "      background-color: #E2EBFA;\n",
              "      box-shadow: 0px 1px 2px rgba(60, 64, 67, 0.3), 0px 1px 3px 1px rgba(60, 64, 67, 0.15);\n",
              "      fill: #174EA6;\n",
              "    }\n",
              "\n",
              "    [theme=dark] .colab-df-convert {\n",
              "      background-color: #3B4455;\n",
              "      fill: #D2E3FC;\n",
              "    }\n",
              "\n",
              "    [theme=dark] .colab-df-convert:hover {\n",
              "      background-color: #434B5C;\n",
              "      box-shadow: 0px 1px 3px 1px rgba(0, 0, 0, 0.15);\n",
              "      filter: drop-shadow(0px 1px 2px rgba(0, 0, 0, 0.3));\n",
              "      fill: #FFFFFF;\n",
              "    }\n",
              "  </style>\n",
              "\n",
              "      <script>\n",
              "        const buttonEl =\n",
              "          document.querySelector('#df-7cb53784-68e3-4747-a9a4-8f7d207e51f2 button.colab-df-convert');\n",
              "        buttonEl.style.display =\n",
              "          google.colab.kernel.accessAllowed ? 'block' : 'none';\n",
              "\n",
              "        async function convertToInteractive(key) {\n",
              "          const element = document.querySelector('#df-7cb53784-68e3-4747-a9a4-8f7d207e51f2');\n",
              "          const dataTable =\n",
              "            await google.colab.kernel.invokeFunction('convertToInteractive',\n",
              "                                                     [key], {});\n",
              "          if (!dataTable) return;\n",
              "\n",
              "          const docLinkHtml = 'Like what you see? Visit the ' +\n",
              "            '<a target=\"_blank\" href=https://colab.research.google.com/notebooks/data_table.ipynb>data table notebook</a>'\n",
              "            + ' to learn more about interactive tables.';\n",
              "          element.innerHTML = '';\n",
              "          dataTable['output_type'] = 'display_data';\n",
              "          await google.colab.output.renderOutput(dataTable, element);\n",
              "          const docLink = document.createElement('div');\n",
              "          docLink.innerHTML = docLinkHtml;\n",
              "          element.appendChild(docLink);\n",
              "        }\n",
              "      </script>\n",
              "    </div>\n",
              "  </div>\n",
              "  "
            ]
          },
          "metadata": {},
          "execution_count": 126
        }
      ]
    },
    {
      "cell_type": "markdown",
      "source": [
        "Una vez hemos convertido la varible de duration (días) en otro atributo diferente que hemos llamado, years y aquí guardamos los años que lleva el cliente vinculado a la sucursal, en esta variable vamos a encontrar decimales.\n",
        "\n",
        "Una vez creada esta varible lo graficamos para ver como se distribuye."
      ],
      "metadata": {
        "id": "pZY4QcdVoHy3"
      },
      "id": "pZY4QcdVoHy3"
    },
    {
      "cell_type": "code",
      "source": [
        "plt.hist(df['years'])\n",
        "plt.xlabel(\"Años\")\n",
        "plt.ylabel(\"Número de personas\")\n",
        "plt.title(\"Duration\")\n",
        "plt.show()"
      ],
      "metadata": {
        "id": "sOChTN9WPFGY",
        "colab": {
          "base_uri": "https://localhost:8080/",
          "height": 295
        },
        "outputId": "29caba77-222d-43f2-e449-a6d520bb2885"
      },
      "id": "sOChTN9WPFGY",
      "execution_count": 127,
      "outputs": [
        {
          "output_type": "display_data",
          "data": {
            "text/plain": [
              "<Figure size 432x288 with 1 Axes>"
            ],
            "image/png": "[encoded data removed]"
          },
          "metadata": {
            "needs_background": "light"
          }
        }
      ]
    },
    {
      "cell_type": "markdown",
      "source": [
        "##Evaluación y despliegue\n",
        "\n",
        "Por último, observamos que la mayoría de los clientes de esta sucursal llevan en ella un año, con una diferencia abismal. Esto puede ser por que han empezado a publiciatar esta sucursal, se ha hecho más popular, ha sacado alguna campaña, en definitiva, algo que capta a los clientes a ir a este banco y especificamente a esta sucursal.\n",
        "\n",
        "Después vemos un bajón muy considereante en los años siguentes y cada vez más, puede ser por esto mismo que henmos hablado, que cada vez es más común o está más a la moda, pero teneindo en cuenta que muchos clientes ya llevan siendo cluientes más años."
      ],
      "metadata": {
        "id": "WKw4Oqg4oSLr"
      },
      "id": "WKw4Oqg4oSLr"
    }
  ],
  "metadata": {
    "kernelspec": {
      "display_name": "Python 3 (ipykernel)",
      "language": "python",
      "name": "python3"
    },
    "language_info": {
      "codemirror_mode": {
        "name": "ipython",
        "version": 3
      },
      "file_extension": ".py",
      "mimetype": "text/x-python",
      "name": "python",
      "nbconvert_exporter": "python",
      "pygments_lexer": "ipython3",
      "version": "3.8.8"
    },
    "colab": {
      "provenance": [],
      "include_colab_link": true
    }
  },
  "nbformat": 4,
  "nbformat_minor": 5
}