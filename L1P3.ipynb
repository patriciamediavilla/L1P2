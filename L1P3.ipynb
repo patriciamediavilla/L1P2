{
  "nbformat": 4,
  "nbformat_minor": 0,
  "metadata": {
    "colab": {
      "provenance": [],
      "include_colab_link": true
    },
    "kernelspec": {
      "name": "python3",
      "display_name": "Python 3"
    },
    "language_info": {
      "name": "python"
    },
    "accelerator": "GPU",
    "gpuClass": "standard"
  },
  "cells": [
    {
      "cell_type": "markdown",
      "metadata": {
        "id": "view-in-github",
        "colab_type": "text"
      },
      "source": [
        "<a href=\"https://colab.research.google.com/github/patriciamediavilla/L1P2/blob/main/L1P3.ipynb\" target=\"_parent\"><img src=\"https://colab.research.google.com/assets/colab-badge.svg\" alt=\"Open In Colab\"/></a>"
      ]
    },
    {
      "cell_type": "markdown",
      "source": [
        "PILAR ARIAS, YEDRA MARTÍN, PATRICIA MEDIAVILLA, AMAYA SARASA\n",
        "\n",
        "<GRUPO 9>"
      ],
      "metadata": {
        "id": "XWBPsCctY6uL"
      }
    },
    {
      "cell_type": "markdown",
      "source": [
        "#Practica 3\n",
        "\n",
        "##INTRODUCCIÓN"
      ],
      "metadata": {
        "id": "SbrBj9GFZHlP"
      }
    },
    {
      "cell_type": "markdown",
      "source": [
        "Esta es la tercera práctica del primer laboratorio. Dada una base de datos en formato .csv, se nos pide contestar a una serie de cuestiones. Para ello, lo primero que debemos hacer es cargar y leer la base de datos:"
      ],
      "metadata": {
        "id": "LpWM5i-6ZLvm"
      }
    },
    {
      "cell_type": "code",
      "source": [
        "#Importamos las librerías y la base de datos necesarias\n",
        "\n",
        "import numpy as np #numpy\n",
        "import pandas as pd #pandas\n",
        "import sklearn as sk #scikit-learn\n",
        "import matplotlib.pyplot as plt #gráfica Matplotlib\n",
        "from tabulate import tabulate \n",
        "\n",
        "df = pd.read_csv('pokemon.csv',sep=',')\n",
        "df.info()\n",
        "df"
      ],
      "metadata": {
        "colab": {
          "base_uri": "https://localhost:8080/",
          "height": 998
        },
        "id": "ayRpp6ySZXJw",
        "outputId": "78617da0-72f6-444e-c15d-e550e58a7016"
      },
      "execution_count": 146,
      "outputs": [
        {
          "output_type": "stream",
          "name": "stdout",
          "text": [
            "<class 'pandas.core.frame.DataFrame'>\n",
            "RangeIndex: 20 entries, 0 to 19\n",
            "Data columns (total 8 columns):\n",
            " #   Column            Non-Null Count  Dtype \n",
            "---  ------            --------------  ----- \n",
            " 0   Pokémon           20 non-null     object\n",
            " 1   Tipo              20 non-null     object\n",
            " 2   PS                20 non-null     int64 \n",
            " 3   Ataque            20 non-null     int64 \n",
            " 4   Defensa           20 non-null     int64 \n",
            " 5   Ataque especial   20 non-null     int64 \n",
            " 6   Defensa especial  20 non-null     int64 \n",
            " 7   Velocidad         20 non-null     int64 \n",
            "dtypes: int64(6), object(2)\n",
            "memory usage: 1.4+ KB\n"
          ]
        },
        {
          "output_type": "execute_result",
          "data": {
            "text/plain": [
              "       Pokémon       Tipo  PS  Ataque  Defensa  Ataque especial  \\\n",
              "0   TYPHLOSION      Fuego   2       3        2                4   \n",
              "1       PONYTA      Fuego   2       3        2                2   \n",
              "2      TORKOAL      Fuego   2       3        4                3   \n",
              "3     ARCANINE      Fuego   3       5        3                4   \n",
              "4      STARMIE       Agua   2       3        3                4   \n",
              "5       PALKIA       Agua   3       4        3                5   \n",
              "6      MILOTIC       Agua   3       2        2                4   \n",
              "7    AZUMARILL       Agua   3       2        2                2   \n",
              "8      LEAFEON     Planta   2       4        4                2   \n",
              "9    ABOMASNOW     Planta   3       3        2                3   \n",
              "10     CHERUBI     Planta   1       1        2                2   \n",
              "11     BRELOOM     Planta   2       4        2                2   \n",
              "12     JOLTEON  Eléctrico   2       2        2                4   \n",
              "13   MAGNEZONE  Eléctrico   2       3        3                5   \n",
              "14     PIKACHU  Eléctrico   1       2        1                2   \n",
              "15    AMPHAROS  Eléctrico   3       3        3                5   \n",
              "16    DUSKNOIR   Fantasma   1       3        4                2   \n",
              "17    JIRATINA   Fantasma   4       4        3                4   \n",
              "18   SPIRITOMB   Fantasma   2       3        3                3   \n",
              "19      GENGAR   Fantasma   2       2        2                5   \n",
              "\n",
              "    Defensa especial  Velocidad  \n",
              "0                  2          4  \n",
              "1                  2          3  \n",
              "2                  2          1  \n",
              "3                  3          4  \n",
              "4                  2          4  \n",
              "5                  3          4  \n",
              "6                  3          3  \n",
              "7                  2          2  \n",
              "8                  2          3  \n",
              "9                  2          2  \n",
              "10                 1          1  \n",
              "11                 2          3  \n",
              "12                 3          5  \n",
              "13                 2          2  \n",
              "14                 1          3  \n",
              "15                 4          3  \n",
              "16                 4          2  \n",
              "17                 3          3  \n",
              "18                 3          1  \n",
              "19                 2          4  "
            ],
            "text/html": [
              "\n",
              "  <div id=\"df-d2e78dae-4e4f-4aa0-96fb-b084588d56e1\">\n",
              "    <div class=\"colab-df-container\">\n",
              "      <div>\n",
              "<style scoped>\n",
              "    .dataframe tbody tr th:only-of-type {\n",
              "        vertical-align: middle;\n",
              "    }\n",
              "\n",
              "    .dataframe tbody tr th {\n",
              "        vertical-align: top;\n",
              "    }\n",
              "\n",
              "    .dataframe thead th {\n",
              "        text-align: right;\n",
              "    }\n",
              "</style>\n",
              "<table border=\"1\" class=\"dataframe\">\n",
              "  <thead>\n",
              "    <tr style=\"text-align: right;\">\n",
              "      <th></th>\n",
              "      <th>Pokémon</th>\n",
              "      <th>Tipo</th>\n",
              "      <th>PS</th>\n",
              "      <th>Ataque</th>\n",
              "      <th>Defensa</th>\n",
              "      <th>Ataque especial</th>\n",
              "      <th>Defensa especial</th>\n",
              "      <th>Velocidad</th>\n",
              "    </tr>\n",
              "  </thead>\n",
              "  <tbody>\n",
              "    <tr>\n",
              "      <th>0</th>\n",
              "      <td>TYPHLOSION</td>\n",
              "      <td>Fuego</td>\n",
              "      <td>2</td>\n",
              "      <td>3</td>\n",
              "      <td>2</td>\n",
              "      <td>4</td>\n",
              "      <td>2</td>\n",
              "      <td>4</td>\n",
              "    </tr>\n",
              "    <tr>\n",
              "      <th>1</th>\n",
              "      <td>PONYTA</td>\n",
              "      <td>Fuego</td>\n",
              "      <td>2</td>\n",
              "      <td>3</td>\n",
              "      <td>2</td>\n",
              "      <td>2</td>\n",
              "      <td>2</td>\n",
              "      <td>3</td>\n",
              "    </tr>\n",
              "    <tr>\n",
              "      <th>2</th>\n",
              "      <td>TORKOAL</td>\n",
              "      <td>Fuego</td>\n",
              "      <td>2</td>\n",
              "      <td>3</td>\n",
              "      <td>4</td>\n",
              "      <td>3</td>\n",
              "      <td>2</td>\n",
              "      <td>1</td>\n",
              "    </tr>\n",
              "    <tr>\n",
              "      <th>3</th>\n",
              "      <td>ARCANINE</td>\n",
              "      <td>Fuego</td>\n",
              "      <td>3</td>\n",
              "      <td>5</td>\n",
              "      <td>3</td>\n",
              "      <td>4</td>\n",
              "      <td>3</td>\n",
              "      <td>4</td>\n",
              "    </tr>\n",
              "    <tr>\n",
              "      <th>4</th>\n",
              "      <td>STARMIE</td>\n",
              "      <td>Agua</td>\n",
              "      <td>2</td>\n",
              "      <td>3</td>\n",
              "      <td>3</td>\n",
              "      <td>4</td>\n",
              "      <td>2</td>\n",
              "      <td>4</td>\n",
              "    </tr>\n",
              "    <tr>\n",
              "      <th>5</th>\n",
              "      <td>PALKIA</td>\n",
              "      <td>Agua</td>\n",
              "      <td>3</td>\n",
              "      <td>4</td>\n",
              "      <td>3</td>\n",
              "      <td>5</td>\n",
              "      <td>3</td>\n",
              "      <td>4</td>\n",
              "    </tr>\n",
              "    <tr>\n",
              "      <th>6</th>\n",
              "      <td>MILOTIC</td>\n",
              "      <td>Agua</td>\n",
              "      <td>3</td>\n",
              "      <td>2</td>\n",
              "      <td>2</td>\n",
              "      <td>4</td>\n",
              "      <td>3</td>\n",
              "      <td>3</td>\n",
              "    </tr>\n",
              "    <tr>\n",
              "      <th>7</th>\n",
              "      <td>AZUMARILL</td>\n",
              "      <td>Agua</td>\n",
              "      <td>3</td>\n",
              "      <td>2</td>\n",
              "      <td>2</td>\n",
              "      <td>2</td>\n",
              "      <td>2</td>\n",
              "      <td>2</td>\n",
              "    </tr>\n",
              "    <tr>\n",
              "      <th>8</th>\n",
              "      <td>LEAFEON</td>\n",
              "      <td>Planta</td>\n",
              "      <td>2</td>\n",
              "      <td>4</td>\n",
              "      <td>4</td>\n",
              "      <td>2</td>\n",
              "      <td>2</td>\n",
              "      <td>3</td>\n",
              "    </tr>\n",
              "    <tr>\n",
              "      <th>9</th>\n",
              "      <td>ABOMASNOW</td>\n",
              "      <td>Planta</td>\n",
              "      <td>3</td>\n",
              "      <td>3</td>\n",
              "      <td>2</td>\n",
              "      <td>3</td>\n",
              "      <td>2</td>\n",
              "      <td>2</td>\n",
              "    </tr>\n",
              "    <tr>\n",
              "      <th>10</th>\n",
              "      <td>CHERUBI</td>\n",
              "      <td>Planta</td>\n",
              "      <td>1</td>\n",
              "      <td>1</td>\n",
              "      <td>2</td>\n",
              "      <td>2</td>\n",
              "      <td>1</td>\n",
              "      <td>1</td>\n",
              "    </tr>\n",
              "    <tr>\n",
              "      <th>11</th>\n",
              "      <td>BRELOOM</td>\n",
              "      <td>Planta</td>\n",
              "      <td>2</td>\n",
              "      <td>4</td>\n",
              "      <td>2</td>\n",
              "      <td>2</td>\n",
              "      <td>2</td>\n",
              "      <td>3</td>\n",
              "    </tr>\n",
              "    <tr>\n",
              "      <th>12</th>\n",
              "      <td>JOLTEON</td>\n",
              "      <td>Eléctrico</td>\n",
              "      <td>2</td>\n",
              "      <td>2</td>\n",
              "      <td>2</td>\n",
              "      <td>4</td>\n",
              "      <td>3</td>\n",
              "      <td>5</td>\n",
              "    </tr>\n",
              "    <tr>\n",
              "      <th>13</th>\n",
              "      <td>MAGNEZONE</td>\n",
              "      <td>Eléctrico</td>\n",
              "      <td>2</td>\n",
              "      <td>3</td>\n",
              "      <td>3</td>\n",
              "      <td>5</td>\n",
              "      <td>2</td>\n",
              "      <td>2</td>\n",
              "    </tr>\n",
              "    <tr>\n",
              "      <th>14</th>\n",
              "      <td>PIKACHU</td>\n",
              "      <td>Eléctrico</td>\n",
              "      <td>1</td>\n",
              "      <td>2</td>\n",
              "      <td>1</td>\n",
              "      <td>2</td>\n",
              "      <td>1</td>\n",
              "      <td>3</td>\n",
              "    </tr>\n",
              "    <tr>\n",
              "      <th>15</th>\n",
              "      <td>AMPHAROS</td>\n",
              "      <td>Eléctrico</td>\n",
              "      <td>3</td>\n",
              "      <td>3</td>\n",
              "      <td>3</td>\n",
              "      <td>5</td>\n",
              "      <td>4</td>\n",
              "      <td>3</td>\n",
              "    </tr>\n",
              "    <tr>\n",
              "      <th>16</th>\n",
              "      <td>DUSKNOIR</td>\n",
              "      <td>Fantasma</td>\n",
              "      <td>1</td>\n",
              "      <td>3</td>\n",
              "      <td>4</td>\n",
              "      <td>2</td>\n",
              "      <td>4</td>\n",
              "      <td>2</td>\n",
              "    </tr>\n",
              "    <tr>\n",
              "      <th>17</th>\n",
              "      <td>JIRATINA</td>\n",
              "      <td>Fantasma</td>\n",
              "      <td>4</td>\n",
              "      <td>4</td>\n",
              "      <td>3</td>\n",
              "      <td>4</td>\n",
              "      <td>3</td>\n",
              "      <td>3</td>\n",
              "    </tr>\n",
              "    <tr>\n",
              "      <th>18</th>\n",
              "      <td>SPIRITOMB</td>\n",
              "      <td>Fantasma</td>\n",
              "      <td>2</td>\n",
              "      <td>3</td>\n",
              "      <td>3</td>\n",
              "      <td>3</td>\n",
              "      <td>3</td>\n",
              "      <td>1</td>\n",
              "    </tr>\n",
              "    <tr>\n",
              "      <th>19</th>\n",
              "      <td>GENGAR</td>\n",
              "      <td>Fantasma</td>\n",
              "      <td>2</td>\n",
              "      <td>2</td>\n",
              "      <td>2</td>\n",
              "      <td>5</td>\n",
              "      <td>2</td>\n",
              "      <td>4</td>\n",
              "    </tr>\n",
              "  </tbody>\n",
              "</table>\n",
              "</div>\n",
              "      <button class=\"colab-df-convert\" onclick=\"convertToInteractive('df-d2e78dae-4e4f-4aa0-96fb-b084588d56e1')\"\n",
              "              title=\"Convert this dataframe to an interactive table.\"\n",
              "              style=\"display:none;\">\n",
              "        \n",
              "  <svg xmlns=\"http://www.w3.org/2000/svg\" height=\"24px\"viewBox=\"0 0 24 24\"\n",
              "       width=\"24px\">\n",
              "    <path d=\"M0 0h24v24H0V0z\" fill=\"none\"/>\n",
              "    <path d=\"M18.56 5.44l.94 2.06.94-2.06 2.06-.94-2.06-.94-.94-2.06-.94 2.06-2.06.94zm-11 1L8.5 8.5l.94-2.06 2.06-.94-2.06-.94L8.5 2.5l-.94 2.06-2.06.94zm10 10l.94 2.06.94-2.06 2.06-.94-2.06-.94-.94-2.06-.94 2.06-2.06.94z\"/><path d=\"M17.41 7.96l-1.37-1.37c-.4-.4-.92-.59-1.43-.59-.52 0-1.04.2-1.43.59L10.3 9.45l-7.72 7.72c-.78.78-.78 2.05 0 2.83L4 21.41c.39.39.9.59 1.41.59.51 0 1.02-.2 1.41-.59l7.78-7.78 2.81-2.81c.8-.78.8-2.07 0-2.86zM5.41 20L4 18.59l7.72-7.72 1.47 1.35L5.41 20z\"/>\n",
              "  </svg>\n",
              "      </button>\n",
              "      \n",
              "  <style>\n",
              "    .colab-df-container {\n",
              "      display:flex;\n",
              "      flex-wrap:wrap;\n",
              "      gap: 12px;\n",
              "    }\n",
              "\n",
              "    .colab-df-convert {\n",
              "      background-color: #E8F0FE;\n",
              "      border: none;\n",
              "      border-radius: 50%;\n",
              "      cursor: pointer;\n",
              "      display: none;\n",
              "      fill: #1967D2;\n",
              "      height: 32px;\n",
              "      padding: 0 0 0 0;\n",
              "      width: 32px;\n",
              "    }\n",
              "\n",
              "    .colab-df-convert:hover {\n",
              "      background-color: #E2EBFA;\n",
              "      box-shadow: 0px 1px 2px rgba(60, 64, 67, 0.3), 0px 1px 3px 1px rgba(60, 64, 67, 0.15);\n",
              "      fill: #174EA6;\n",
              "    }\n",
              "\n",
              "    [theme=dark] .colab-df-convert {\n",
              "      background-color: #3B4455;\n",
              "      fill: #D2E3FC;\n",
              "    }\n",
              "\n",
              "    [theme=dark] .colab-df-convert:hover {\n",
              "      background-color: #434B5C;\n",
              "      box-shadow: 0px 1px 3px 1px rgba(0, 0, 0, 0.15);\n",
              "      filter: drop-shadow(0px 1px 2px rgba(0, 0, 0, 0.3));\n",
              "      fill: #FFFFFF;\n",
              "    }\n",
              "  </style>\n",
              "\n",
              "      <script>\n",
              "        const buttonEl =\n",
              "          document.querySelector('#df-d2e78dae-4e4f-4aa0-96fb-b084588d56e1 button.colab-df-convert');\n",
              "        buttonEl.style.display =\n",
              "          google.colab.kernel.accessAllowed ? 'block' : 'none';\n",
              "\n",
              "        async function convertToInteractive(key) {\n",
              "          const element = document.querySelector('#df-d2e78dae-4e4f-4aa0-96fb-b084588d56e1');\n",
              "          const dataTable =\n",
              "            await google.colab.kernel.invokeFunction('convertToInteractive',\n",
              "                                                     [key], {});\n",
              "          if (!dataTable) return;\n",
              "\n",
              "          const docLinkHtml = 'Like what you see? Visit the ' +\n",
              "            '<a target=\"_blank\" href=https://colab.research.google.com/notebooks/data_table.ipynb>data table notebook</a>'\n",
              "            + ' to learn more about interactive tables.';\n",
              "          element.innerHTML = '';\n",
              "          dataTable['output_type'] = 'display_data';\n",
              "          await google.colab.output.renderOutput(dataTable, element);\n",
              "          const docLink = document.createElement('div');\n",
              "          docLink.innerHTML = docLinkHtml;\n",
              "          element.appendChild(docLink);\n",
              "        }\n",
              "      </script>\n",
              "    </div>\n",
              "  </div>\n",
              "  "
            ]
          },
          "metadata": {},
          "execution_count": 146
        }
      ]
    },
    {
      "cell_type": "markdown",
      "source": [
        "Subimos la base de datos, df.info nos aporta la infomación que contiene la base de datos, vemos las variables, el tipo de las variables con las que trabajamos... y .head vamos a ver que forma tiene la base de datos.\n",
        "\n",
        "Según se ha estudiado en clase, encontramos dos métodos para afrontarlo. Nos decantaremos por CRISP-DM. Las siglas para: CRoss-Industry Standard Process for Data Mining. \n",
        "\n",
        "Es un modelo de proceso de minería de datos que se utiliza en la industria. Es un marco de trabajo que define un proceso estandarizado para llevar a cabo proyectos de minería de datos, desde la definición del problema hasta la implementación y evaluación del resultado."
      ],
      "metadata": {
        "id": "vRnX6KYjaXh3"
      }
    },
    {
      "cell_type": "markdown",
      "source": [
        "## Comprensión del negocio y definición del problema.\n",
        "\n",
        "Esta práctica en concreto consiste en un problema de 7 dimensiones, intentar reducir la dimensionalidad pero quedandonos con la mayor información posible, esto se consigue siguendo un método llamado, Análisis de componentes principales.\n",
        "\n",
        "Para ello haremos uso de un dataset que se puede encontrar en Moodle.\n"
      ],
      "metadata": {
        "id": "VLwEXlk8bHnz"
      }
    },
    {
      "cell_type": "markdown",
      "source": [
        "## Comprensión de los datos\n",
        "\n",
        "La base de datos que utilizaremos consta de 20 observaciones\n",
        "\n",
        "Existen 8 tipos de atributos distintos:\n",
        "- Pokemon:\n",
        "- Tipo (del pokemon, fuego, agua, planta, eléctrico, fantasma)\n",
        "- Ps (puntos de salud)\n",
        "- Ataque\n",
        "- Defensa\n",
        "- Ataque especial\n",
        "- Defensa especial\n",
        "- Velocidad (del pokemon)\n",
        "\n",
        "Como hemos explicado en el anterior paso de la motodología CRISP vamos a intentar reducir la dimensiones haciendo combianciones lineales de los 7 atributos.\n"
      ],
      "metadata": {
        "id": "s2mYcrzdamsf"
      }
    },
    {
      "cell_type": "markdown",
      "source": [
        "TENEMOS QUE HACER ESTO: normalizar los datos."
      ],
      "metadata": {
        "id": "evYVf-FHj53q"
      }
    },
    {
      "cell_type": "markdown",
      "source": [
        "##Preparación de los datos\n",
        "\n",
        "En esta base de datos, tenemos muy pocas observaciones,20, y 8 atributos, por lo que a simple vista podemosver que no hay valores vacíos, no hay outliers...\n",
        "\n",
        "Aún así, vamos comprobarlo por si hemos leido mal los datos. Primero veremos si faltan valores en algunos de los atributos"
      ],
      "metadata": {
        "id": "m6Js3JFNj-4m"
      }
    },
    {
      "cell_type": "code",
      "source": [
        "pokemonnan = df['Pokémon'].isna().sum()\n",
        "print(f\"La cantidad de NaN que existen en la variable Pokémon es:{pokemonnan}\")\n",
        "tiponan = df['Tipo'].isna().sum()\n",
        "print(f\"La cantidad de NaN que existen en la variable tipo es:{tiponan}\")\n",
        "psnan = df['PS'].isna().sum()\n",
        "print(f\"La cantidad de NaN que existen en la variable PS es:{psnan}\")\n",
        "ataquenan = df['Ataque'].isna().sum()\n",
        "print(f\"La cantidad de NaN que existen en la variable Ataque es:{ataquenan}\")\n",
        "defensanan = df['Defensa'].isna().sum()\n",
        "print(f\"La cantidad de NaN que existen en la variable Defensa es:{defensanan}\")\n",
        "ataqueespecialnan = df['Ataque especial'].isna().sum()\n",
        "print(f\"La cantidad de NaN que existen en la variable Ataque especial es:{ataqueespecialnan}\")\n",
        "defensaespecialnan = df['Defensa especial'].isna().sum()\n",
        "print(f\"La cantidad de NaN que existen en la variable Defensa especial es:{defensaespecialnan}\")\n",
        "velocidadnan = df['Velocidad'].isna().sum()\n",
        "print(f\"La cantidad de NaN que existen en la variable Velocidad es:{velocidadnan}\")\n"
      ],
      "metadata": {
        "id": "lpCDwCTNFC3N",
        "outputId": "d7617e64-f6f9-4e76-e84b-09509d8441a8",
        "colab": {
          "base_uri": "https://localhost:8080/"
        }
      },
      "execution_count": 147,
      "outputs": [
        {
          "output_type": "stream",
          "name": "stdout",
          "text": [
            "La cantidad de NaN que existen en la variable Pokémon es:0\n",
            "La cantidad de NaN que existen en la variable tipo es:0\n",
            "La cantidad de NaN que existen en la variable PS es:0\n",
            "La cantidad de NaN que existen en la variable Ataque es:0\n",
            "La cantidad de NaN que existen en la variable Defensa es:0\n",
            "La cantidad de NaN que existen en la variable Ataque especial es:0\n",
            "La cantidad de NaN que existen en la variable Defensa especial es:0\n",
            "La cantidad de NaN que existen en la variable Velocidad es:0\n"
          ]
        }
      ]
    },
    {
      "cell_type": "markdown",
      "source": [
        "Observamos que en ninguno de los atributos van valores faltantes, sin embargo, una de las variables es un \"Identificador\", el nombre del pokemon, ya que es único, pero la varible tipo es categórica por lo que lo próximo que vamos a hacer es ver si los valores que contiene esta variable tienen sentido.\n"
      ],
      "metadata": {
        "id": "3fBuzZ3AGdAo"
      }
    },
    {
      "cell_type": "code",
      "source": [
        "df['Tipo'].value_counts().plot(kind='pie', title='Tipo de pokemon')"
      ],
      "metadata": {
        "id": "4yhavZ7yGyix",
        "outputId": "9a1f2e28-ff1f-4efb-8900-fd4b02a05397",
        "colab": {
          "base_uri": "https://localhost:8080/",
          "height": 281
        }
      },
      "execution_count": 148,
      "outputs": [
        {
          "output_type": "execute_result",
          "data": {
            "text/plain": [
              "<matplotlib.axes._subplots.AxesSubplot at 0x7ff3bce5a0d0>"
            ]
          },
          "metadata": {},
          "execution_count": 148
        },
        {
          "output_type": "display_data",
          "data": {
            "text/plain": [
              "<Figure size 432x288 with 1 Axes>"
            ],
            "image/png": "[encoded data removed]"
          },
          "metadata": {}
        }
      ]
    },
    {
      "cell_type": "markdown",
      "source": [
        "Observamos que hay 5 tipos de pokemon, Agua, Fuego, Fantasma, Eléctrico y Planta, en este diagrama de tartas vemos que todas las categorías están más o menos igualmente repartidas, por lo que es una buena señal, consideramos esta variable como buena. Si hubiemos encontrado una categoría con un porcentaje muy bajo, y además un nombre raro, tipo desconocido, o no proporcionado, habría que trabajar con esta variable, pero como este no es el caso damos la varible como buena.\n",
        "\n",
        "A continuación, vamos a ver como se distribuyen los valores de las variables numéricas, para ver si hay algún outlier o algún dato desproporcionado."
      ],
      "metadata": {
        "id": "FpUrkyb5G4nE"
      }
    },
    {
      "cell_type": "code",
      "source": [
        "df['PS'].plot(kind='box', title='PS')"
      ],
      "metadata": {
        "id": "c_RBGAlMHpOH",
        "outputId": "d67c3870-e264-446a-cd16-325defa3c2fb",
        "colab": {
          "base_uri": "https://localhost:8080/",
          "height": 298
        }
      },
      "execution_count": 149,
      "outputs": [
        {
          "output_type": "execute_result",
          "data": {
            "text/plain": [
              "<matplotlib.axes._subplots.AxesSubplot at 0x7ff3bb1e4ee0>"
            ]
          },
          "metadata": {},
          "execution_count": 149
        },
        {
          "output_type": "display_data",
          "data": {
            "text/plain": [
              "<Figure size 432x288 with 1 Axes>"
            ],
            "image/png": "[encoded data removed]"
          },
          "metadata": {
            "needs_background": "light"
          }
        }
      ]
    },
    {
      "cell_type": "markdown",
      "source": [
        "En esta variable, Puntos de Salud, vemos que no hay outliers, que además están los datos muy repartidos, es decir, hay prácticamente los mismos datos en todos los valores."
      ],
      "metadata": {
        "id": "PKIGSmV5IdQV"
      }
    },
    {
      "cell_type": "code",
      "source": [
        "df['Ataque'].plot(kind='box', title='Ataque')"
      ],
      "metadata": {
        "id": "mwc1tYxzHtme",
        "outputId": "bdf477c5-8500-4798-a176-a976861096b2",
        "colab": {
          "base_uri": "https://localhost:8080/",
          "height": 298
        }
      },
      "execution_count": 150,
      "outputs": [
        {
          "output_type": "execute_result",
          "data": {
            "text/plain": [
              "<matplotlib.axes._subplots.AxesSubplot at 0x7ff3bb1c2af0>"
            ]
          },
          "metadata": {},
          "execution_count": 150
        },
        {
          "output_type": "display_data",
          "data": {
            "text/plain": [
              "<Figure size 432x288 with 1 Axes>"
            ],
            "image/png": "[encoded data removed]"
          },
          "metadata": {
            "needs_background": "light"
          }
        }
      ]
    },
    {
      "cell_type": "markdown",
      "source": [
        "En la variable Ataque no hay outliers, pero una cuarta parte de los pokemons están contentrados entre, 3 y 3.5, la mayoría de los poquemons tienen ese ataque. En los demás valores no hay mucho más que comentar, se distribuyen más o menos igual, aunque una minoría tiene valores altos."
      ],
      "metadata": {
        "id": "sjDC_Ll-IzVf"
      }
    },
    {
      "cell_type": "code",
      "source": [
        "df['Defensa'].plot(kind='box', title='Defensa')"
      ],
      "metadata": {
        "id": "zzbHtUDJHv60",
        "outputId": "99516344-5c0e-4e10-9c69-d93c53f9ef37",
        "colab": {
          "base_uri": "https://localhost:8080/",
          "height": 298
        }
      },
      "execution_count": 151,
      "outputs": [
        {
          "output_type": "execute_result",
          "data": {
            "text/plain": [
              "<matplotlib.axes._subplots.AxesSubplot at 0x7ff3bb120700>"
            ]
          },
          "metadata": {},
          "execution_count": 151
        },
        {
          "output_type": "display_data",
          "data": {
            "text/plain": [
              "<Figure size 432x288 with 1 Axes>"
            ],
            "image/png": "[encoded data removed]"
          },
          "metadata": {
            "needs_background": "light"
          }
        }
      ]
    },
    {
      "cell_type": "markdown",
      "source": [
        "Esta variable esta muy bien repartida, tiene la misma cantidad de datos en los quartiles 2 y 3, y los mismos datos en los quatiles 1 y 4, adedmás observamos que no hay outliers."
      ],
      "metadata": {
        "id": "nj_SlsL2JTJe"
      }
    },
    {
      "cell_type": "code",
      "source": [
        "df['Ataque especial'].plot(kind='box', title='Ataque especial')"
      ],
      "metadata": {
        "id": "Rovug4fHHyfC",
        "outputId": "55e1faf3-cf09-4b82-979c-5fe1f9babcf7",
        "colab": {
          "base_uri": "https://localhost:8080/",
          "height": 298
        }
      },
      "execution_count": 152,
      "outputs": [
        {
          "output_type": "execute_result",
          "data": {
            "text/plain": [
              "<matplotlib.axes._subplots.AxesSubplot at 0x7ff3bb0fb730>"
            ]
          },
          "metadata": {},
          "execution_count": 152
        },
        {
          "output_type": "display_data",
          "data": {
            "text/plain": [
              "<Figure size 432x288 with 1 Axes>"
            ],
            "image/png": "[encoded data removed]"
          },
          "metadata": {
            "needs_background": "light"
          }
        }
      ]
    },
    {
      "cell_type": "markdown",
      "source": [
        "Esta vairable, Ataque especial, vemos que hay más pokemons con el ataque especial por encima de 3.5, por debajo de ese valor los poquemons están más dispersos."
      ],
      "metadata": {
        "id": "mJF-HS7cJf80"
      }
    },
    {
      "cell_type": "code",
      "source": [
        "df['Defensa especial'].plot(kind='box', title='Defensa especial')"
      ],
      "metadata": {
        "id": "32iqNqTGH15D",
        "outputId": "efdc676d-9247-404a-87d3-1458c428d24b",
        "colab": {
          "base_uri": "https://localhost:8080/",
          "height": 298
        }
      },
      "execution_count": 153,
      "outputs": [
        {
          "output_type": "execute_result",
          "data": {
            "text/plain": [
              "<matplotlib.axes._subplots.AxesSubplot at 0x7ff3bb0d2df0>"
            ]
          },
          "metadata": {},
          "execution_count": 153
        },
        {
          "output_type": "display_data",
          "data": {
            "text/plain": [
              "<Figure size 432x288 with 1 Axes>"
            ],
            "image/png": "[encoded data removed]"
          },
          "metadata": {
            "needs_background": "light"
          }
        }
      ]
    },
    {
      "cell_type": "markdown",
      "source": [
        "Vemos que esta variable se distribuye exactamente igual que la variable Puntos de Salud, podría ser porq ue están altamente relacionadas."
      ],
      "metadata": {
        "id": "RCCxLOZQJ7Er"
      }
    },
    {
      "cell_type": "code",
      "source": [
        "df['Velocidad'].plot(kind='box', title='Velocidad')"
      ],
      "metadata": {
        "id": "rwMnS0SEH54J",
        "outputId": "5a058572-a702-4fd7-a145-fb6fd11440fb",
        "colab": {
          "base_uri": "https://localhost:8080/",
          "height": 298
        }
      },
      "execution_count": 154,
      "outputs": [
        {
          "output_type": "execute_result",
          "data": {
            "text/plain": [
              "<matplotlib.axes._subplots.AxesSubplot at 0x7ff3bb033400>"
            ]
          },
          "metadata": {},
          "execution_count": 154
        },
        {
          "output_type": "display_data",
          "data": {
            "text/plain": [
              "<Figure size 432x288 with 1 Axes>"
            ],
            "image/png": "[encoded data removed]"
          },
          "metadata": {
            "needs_background": "light"
          }
        }
      ]
    },
    {
      "cell_type": "markdown",
      "source": [
        "Esta variable esta muy bien repartida, tiene la misma cantidad de datos en todos los quartiles, adedmás observamos que no hay outliers."
      ],
      "metadata": {
        "id": "4NiwiiR7KJaO"
      }
    },
    {
      "cell_type": "markdown",
      "source": [
        "Una vez comprobado que los datos están completos, bien repartidos y estudiados. Pocedemos a seguir con el enunciado, que nos especifica que normalicemos los datos con el fin de no tener diferencias de rango para que no haya problemas para procesar la información. "
      ],
      "metadata": {
        "id": "7tNn_uGXE19m"
      }
    },
    {
      "cell_type": "code",
      "source": [
        "#Importamos la librería necesaria para normalizar los datos\n",
        "from sklearn.preprocessing import StandardScaler\n",
        "#Seleccionamos los datos numéricos para la normalización de estos.\n",
        "df1 = df[['PS','Ataque','Defensa','Ataque especial','Defensa especial', 'Velocidad']]\n",
        "scaler = StandardScaler()\n",
        "df_array= scaler.fit(df1)\n",
        "df_norm_matriz = scaler.transform(df1)\n",
        "df_norm = pd.DataFrame(data = df_norm_matriz, columns = [\"PS\",\t\"Ataque\",\t\"Defensa\",\t\"Ataque especial\",\t\"Defensa especial\",\t\"Velocidad\"])\n"
      ],
      "metadata": {
        "id": "TyBrag6vkpDG"
      },
      "execution_count": 155,
      "outputs": []
    },
    {
      "cell_type": "markdown",
      "source": [
        "En la celda de arriba hemos creado una nueva base de datos en la que solo vamos a trabajar con los atributos numéricos, para ellos vamos a normalizar estos datos, para ello hemos hecho uso de la herramienta que nos indican para la normalización de estos."
      ],
      "metadata": {
        "id": "2B7PgxH81iYg"
      }
    },
    {
      "cell_type": "markdown",
      "source": [
        "#Modelado\n",
        "\n",
        "A continuación, al tratarse de un análisis de componentes principales debemos seguir los pasos indicado para esto.\n",
        "\n",
        "Lo primero es obtener los autovalores y los autovectores de la matriz de covarianza de los datos que nos interesan (ya hemos reducido la base de datos a los numéricos). Una vez obtenidos loa autovalores y los autovectores vamos a ver el porcentaje de varianza que explica cada uno de los autovaloes y vamos a observar también la acumulada."
      ],
      "metadata": {
        "id": "0GuvokTn2and"
      }
    },
    {
      "cell_type": "code",
      "source": [
        "df_cov = df_norm.cov()\n",
        "eigenvalues, eigenvectors=np.linalg.eig(df_cov)\n",
        "#Ordenamos de mayor a menor\n",
        "eigenvalues = np.sort(eigenvalues)[::-1]\n",
        "#calculamos el porcentaje de varianza\n",
        "porcent_var=eigenvalues*100/sum(eigenvalues)\n",
        "#calculamos el acumulado\n",
        "porcent_acumulado=np.zeros(len(porcent_var))\n",
        "porcent_acumulado[0]=porcent_var[0]\n",
        "for i in range (1,len(porcent_acumulado)):\n",
        "  porcent_acumulado[i]=porcent_acumulado[i-1]+porcent_var[i]\n",
        "#creamos un DataFrame con los datos\n",
        "df2 = pd.DataFrame({'Autovalores': eigenvalues, 'porcent_var': porcent_var,'porcent_acumulado': porcent_acumulado },index=[1,2, 3, 4, 5, 6])\n",
        "df2"
      ],
      "metadata": {
        "colab": {
          "base_uri": "https://localhost:8080/",
          "height": 237
        },
        "id": "GAHCxzR22jmH",
        "outputId": "a6fa3e23-ece1-4bd9-a31b-2af36b9ba49e"
      },
      "execution_count": 156,
      "outputs": [
        {
          "output_type": "execute_result",
          "data": {
            "text/plain": [
              "   Autovalores  porcent_var  porcent_acumulado\n",
              "1     2.629979    41.641341          41.641341\n",
              "2     1.550661    24.552140          66.193481\n",
              "3     0.780824    12.363041          78.556522\n",
              "4     0.715521    11.329090          89.885612\n",
              "5     0.474598     7.514464          97.400076\n",
              "6     0.164206     2.599924         100.000000"
            ],
            "text/html": [
              "\n",
              "  <div id=\"df-68c88fce-30cb-495d-8629-d425ce51b766\">\n",
              "    <div class=\"colab-df-container\">\n",
              "      <div>\n",
              "<style scoped>\n",
              "    .dataframe tbody tr th:only-of-type {\n",
              "        vertical-align: middle;\n",
              "    }\n",
              "\n",
              "    .dataframe tbody tr th {\n",
              "        vertical-align: top;\n",
              "    }\n",
              "\n",
              "    .dataframe thead th {\n",
              "        text-align: right;\n",
              "    }\n",
              "</style>\n",
              "<table border=\"1\" class=\"dataframe\">\n",
              "  <thead>\n",
              "    <tr style=\"text-align: right;\">\n",
              "      <th></th>\n",
              "      <th>Autovalores</th>\n",
              "      <th>porcent_var</th>\n",
              "      <th>porcent_acumulado</th>\n",
              "    </tr>\n",
              "  </thead>\n",
              "  <tbody>\n",
              "    <tr>\n",
              "      <th>1</th>\n",
              "      <td>2.629979</td>\n",
              "      <td>41.641341</td>\n",
              "      <td>41.641341</td>\n",
              "    </tr>\n",
              "    <tr>\n",
              "      <th>2</th>\n",
              "      <td>1.550661</td>\n",
              "      <td>24.552140</td>\n",
              "      <td>66.193481</td>\n",
              "    </tr>\n",
              "    <tr>\n",
              "      <th>3</th>\n",
              "      <td>0.780824</td>\n",
              "      <td>12.363041</td>\n",
              "      <td>78.556522</td>\n",
              "    </tr>\n",
              "    <tr>\n",
              "      <th>4</th>\n",
              "      <td>0.715521</td>\n",
              "      <td>11.329090</td>\n",
              "      <td>89.885612</td>\n",
              "    </tr>\n",
              "    <tr>\n",
              "      <th>5</th>\n",
              "      <td>0.474598</td>\n",
              "      <td>7.514464</td>\n",
              "      <td>97.400076</td>\n",
              "    </tr>\n",
              "    <tr>\n",
              "      <th>6</th>\n",
              "      <td>0.164206</td>\n",
              "      <td>2.599924</td>\n",
              "      <td>100.000000</td>\n",
              "    </tr>\n",
              "  </tbody>\n",
              "</table>\n",
              "</div>\n",
              "      <button class=\"colab-df-convert\" onclick=\"convertToInteractive('df-68c88fce-30cb-495d-8629-d425ce51b766')\"\n",
              "              title=\"Convert this dataframe to an interactive table.\"\n",
              "              style=\"display:none;\">\n",
              "        \n",
              "  <svg xmlns=\"http://www.w3.org/2000/svg\" height=\"24px\"viewBox=\"0 0 24 24\"\n",
              "       width=\"24px\">\n",
              "    <path d=\"M0 0h24v24H0V0z\" fill=\"none\"/>\n",
              "    <path d=\"M18.56 5.44l.94 2.06.94-2.06 2.06-.94-2.06-.94-.94-2.06-.94 2.06-2.06.94zm-11 1L8.5 8.5l.94-2.06 2.06-.94-2.06-.94L8.5 2.5l-.94 2.06-2.06.94zm10 10l.94 2.06.94-2.06 2.06-.94-2.06-.94-.94-2.06-.94 2.06-2.06.94z\"/><path d=\"M17.41 7.96l-1.37-1.37c-.4-.4-.92-.59-1.43-.59-.52 0-1.04.2-1.43.59L10.3 9.45l-7.72 7.72c-.78.78-.78 2.05 0 2.83L4 21.41c.39.39.9.59 1.41.59.51 0 1.02-.2 1.41-.59l7.78-7.78 2.81-2.81c.8-.78.8-2.07 0-2.86zM5.41 20L4 18.59l7.72-7.72 1.47 1.35L5.41 20z\"/>\n",
              "  </svg>\n",
              "      </button>\n",
              "      \n",
              "  <style>\n",
              "    .colab-df-container {\n",
              "      display:flex;\n",
              "      flex-wrap:wrap;\n",
              "      gap: 12px;\n",
              "    }\n",
              "\n",
              "    .colab-df-convert {\n",
              "      background-color: #E8F0FE;\n",
              "      border: none;\n",
              "      border-radius: 50%;\n",
              "      cursor: pointer;\n",
              "      display: none;\n",
              "      fill: #1967D2;\n",
              "      height: 32px;\n",
              "      padding: 0 0 0 0;\n",
              "      width: 32px;\n",
              "    }\n",
              "\n",
              "    .colab-df-convert:hover {\n",
              "      background-color: #E2EBFA;\n",
              "      box-shadow: 0px 1px 2px rgba(60, 64, 67, 0.3), 0px 1px 3px 1px rgba(60, 64, 67, 0.15);\n",
              "      fill: #174EA6;\n",
              "    }\n",
              "\n",
              "    [theme=dark] .colab-df-convert {\n",
              "      background-color: #3B4455;\n",
              "      fill: #D2E3FC;\n",
              "    }\n",
              "\n",
              "    [theme=dark] .colab-df-convert:hover {\n",
              "      background-color: #434B5C;\n",
              "      box-shadow: 0px 1px 3px 1px rgba(0, 0, 0, 0.15);\n",
              "      filter: drop-shadow(0px 1px 2px rgba(0, 0, 0, 0.3));\n",
              "      fill: #FFFFFF;\n",
              "    }\n",
              "  </style>\n",
              "\n",
              "      <script>\n",
              "        const buttonEl =\n",
              "          document.querySelector('#df-68c88fce-30cb-495d-8629-d425ce51b766 button.colab-df-convert');\n",
              "        buttonEl.style.display =\n",
              "          google.colab.kernel.accessAllowed ? 'block' : 'none';\n",
              "\n",
              "        async function convertToInteractive(key) {\n",
              "          const element = document.querySelector('#df-68c88fce-30cb-495d-8629-d425ce51b766');\n",
              "          const dataTable =\n",
              "            await google.colab.kernel.invokeFunction('convertToInteractive',\n",
              "                                                     [key], {});\n",
              "          if (!dataTable) return;\n",
              "\n",
              "          const docLinkHtml = 'Like what you see? Visit the ' +\n",
              "            '<a target=\"_blank\" href=https://colab.research.google.com/notebooks/data_table.ipynb>data table notebook</a>'\n",
              "            + ' to learn more about interactive tables.';\n",
              "          element.innerHTML = '';\n",
              "          dataTable['output_type'] = 'display_data';\n",
              "          await google.colab.output.renderOutput(dataTable, element);\n",
              "          const docLink = document.createElement('div');\n",
              "          docLink.innerHTML = docLinkHtml;\n",
              "          element.appendChild(docLink);\n",
              "        }\n",
              "      </script>\n",
              "    </div>\n",
              "  </div>\n",
              "  "
            ]
          },
          "metadata": {},
          "execution_count": 156
        }
      ]
    },
    {
      "cell_type": "markdown",
      "source": [
        "Aquí observamos una base de datos en la que hemos guardado los autovaloes de mayor a menor, así como su porcentaje de varianza que explican y el porcentaje de varianza acumulado.\n",
        "\n",
        "La práctica en la que estamos trabajando consiste en reducir las dimensiones del problema para poder trabajar mejor, por ello a simple vista vemos como se podría reducir las dimensiones. Con solo 3 dimensiones se explicaría el 80%, es bastante bien número teniendo en cuenta que reducirmos la dimensión a la mitad."
      ],
      "metadata": {
        "id": "oIBpFS6ATMxS"
      }
    },
    {
      "cell_type": "markdown",
      "source": [
        "Con dos componentes obtenemos un 66,19% de la información, por lo que estaríamos perdiendo un 33,8% de la información, algo más de 1/3 del total."
      ],
      "metadata": {
        "id": "Ijdhcr6--wDo"
      }
    },
    {
      "cell_type": "code",
      "source": [
        "#verifiquemos que la traza de la matriz S (la obtenemos con la función tracede Numpy)\n",
        "#es igual a la suma de los autovalores, que calculamos en el paso anterior.\n",
        "traza1 = sum(eigenvalues)\n",
        "traza2 = np.trace(df_cov)\n",
        "if traza1 == traza1:\n",
        "  print('La propiedad de la traza se cumple')\n",
        "\n",
        "\n",
        "eigenvalues, eigenvectors=np.linalg.eig(df_cov)\n",
        "for i in range(len(eigenvalues)):\n",
        "    if np.allclose(np.dot(df_cov, eigenvectors[:, i]), eigenvalues[i] * eigenvectors[:, i]):\n",
        "        print(\"El autovector {} es correcto\".format(i+1))\n",
        "    else:\n",
        "        print(\"El autovector {} no es correcto\".format(i+1))"
      ],
      "metadata": {
        "id": "RfZaxClxAkEE",
        "outputId": "016255fc-961b-4d33-c096-8dc6f7dcd076",
        "colab": {
          "base_uri": "https://localhost:8080/"
        }
      },
      "execution_count": 157,
      "outputs": [
        {
          "output_type": "stream",
          "name": "stdout",
          "text": [
            "La propiedad de la traza se cumple\n",
            "El autovector 1 es correcto\n",
            "El autovector 2 es correcto\n",
            "El autovector 3 es correcto\n",
            "El autovector 4 es correcto\n",
            "El autovector 5 es correcto\n",
            "El autovector 6 es correcto\n"
          ]
        }
      ]
    },
    {
      "cell_type": "code",
      "source": [
        "#La proporción de variabilidad explicada por cada componente la podemos calcular con: \n",
        "prop=eigenvalues/np.trace(df_cov)\n",
        "prop"
      ],
      "metadata": {
        "colab": {
          "base_uri": "https://localhost:8080/"
        },
        "id": "oSMOjNaHgxk7",
        "outputId": "cc630569-753b-40e6-857c-ed5f6fd26abf"
      },
      "execution_count": 158,
      "outputs": [
        {
          "output_type": "execute_result",
          "data": {
            "text/plain": [
              "array([0.41641341, 0.2455214 , 0.02599924, 0.07514464, 0.1132909 ,\n",
              "       0.12363041])"
            ]
          },
          "metadata": {},
          "execution_count": 158
        }
      ]
    },
    {
      "cell_type": "code",
      "source": [
        "#En porcentaje esto sería:\n",
        "porcentaje=prop*100\n",
        "porcentaje"
      ],
      "metadata": {
        "colab": {
          "base_uri": "https://localhost:8080/"
        },
        "id": "iHYx-5pqhZqT",
        "outputId": "5ae3fc63-971e-44a2-d576-871178816ca0"
      },
      "execution_count": 159,
      "outputs": [
        {
          "output_type": "execute_result",
          "data": {
            "text/plain": [
              "array([41.64134115, 24.55213995,  2.59992386,  7.51446419, 11.32908958,\n",
              "       12.36304127])"
            ]
          },
          "metadata": {},
          "execution_count": 159
        }
      ]
    },
    {
      "cell_type": "markdown",
      "source": [
        "Debemos tener en cuenta que los autovectores que obtuvimos están ordenados.\n",
        "\n",
        "Veamos un gráfico de sedimentación, el cual nos permitirá representar el porcentaje de variación explicado por cada componente o factor en las ordenadas y las componentes en orden decreciente en la abscisas con la finalidad de escoger los factores que retengan más variación."
      ],
      "metadata": {
        "id": "HCI0T4IShN9O"
      }
    },
    {
      "cell_type": "code",
      "source": [
        "y=sorted(porcentaje, reverse=True) #almacena los porcentajes de mayor a menor"
      ],
      "metadata": {
        "id": "mVmK6leohBtb"
      },
      "execution_count": 160,
      "outputs": []
    },
    {
      "cell_type": "code",
      "source": [
        "plt.plot([\"Z1\",\"Z2\",\"Z3\",\"Z4\",\"Z5\", \"Z6\"], y ,color='green', marker='x', linewidth=1, markersize=4)\n",
        "plt.title(\"Gráfico de sedimentación\")\n",
        "plt.xlabel(\"Componentes principales\")\n",
        "plt.ylabel(\"Porcentaje de variación\")\n",
        "plt.show()"
      ],
      "metadata": {
        "colab": {
          "base_uri": "https://localhost:8080/",
          "height": 295
        },
        "id": "zxYchd88hzxC",
        "outputId": "e30de610-a118-46cf-a0b2-e350e7258523"
      },
      "execution_count": 161,
      "outputs": [
        {
          "output_type": "display_data",
          "data": {
            "text/plain": [
              "<Figure size 432x288 with 1 Axes>"
            ],
            "image/png": "[encoded data removed]"
          },
          "metadata": {
            "needs_background": "light"
          }
        }
      ]
    },
    {
      "cell_type": "markdown",
      "source": [
        "¿Por qué es útil este gráfico?\n",
        "\n",
        "Pues bien, en cursos anteriores estudiando también este tema, Análisis de Componentes Principales (PCA) que hay varios tipos de criterio que debemos aplicar para decidir con cuantas dimensiones decidimos definir el problem, uno de ellos es fijar un porcentaje mínimo de explicación y otro es relacionado con este gráfico. \n",
        "\n",
        "Este criterio de llama el criteio del codo, y quiere decir que se cogen las componentes principales hasta que veamos que el diguente no baja tanto, es decir, haya un ángulo más agudo, en nuestro caso sería claramente 3 compomentes las que tendríamos que coger."
      ],
      "metadata": {
        "id": "KzALMusSUc7d"
      }
    },
    {
      "cell_type": "code",
      "source": [
        "fig, ax = plt.subplots()\n",
        "ax.bar(range(len(porcentaje)), y)\n",
        "ax.set_xlabel('Índice')\n",
        "ax.set_ylabel('Porcentaje acumulado')\n",
        "plt.show()"
      ],
      "metadata": {
        "colab": {
          "base_uri": "https://localhost:8080/",
          "height": 279
        },
        "id": "ML-j_Q-dmB-U",
        "outputId": "52d84554-f8c4-498f-b189-9cf6733666f4"
      },
      "execution_count": 162,
      "outputs": [
        {
          "output_type": "display_data",
          "data": {
            "text/plain": [
              "<Figure size 432x288 with 1 Axes>"
            ],
            "image/png": "[encoded data removed]"
          },
          "metadata": {
            "needs_background": "light"
          }
        }
      ]
    },
    {
      "cell_type": "markdown",
      "source": [
        "Se puede observar un codo a partir de la tercera componente principal, por lo que retenemos estos componentes. Además lo podemos justificar con el porcentaje acumulado como bien hemos explicado arriba.\n",
        "\n",
        "![image.png](data:image/png;base64,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)\n",
        "\n",
        "Calcularemos su correlación con las variables originales.\n"
      ],
      "metadata": {
        "id": "VfBvSFTAYf2y"
      }
    },
    {
      "cell_type": "markdown",
      "source": [
        "Ahora vamos a almacenar en otras varibles los autovalores que nos interesan que hemos dicho que son los 3 primeros, con estos crearemos lostres componentes que son con los que vamos a trabajara a portir de ahora porque son los que consideramos que debemos coger."
      ],
      "metadata": {
        "id": "KH_czVF8dKlU"
      }
    },
    {
      "cell_type": "code",
      "source": [
        "#Cogemos los tres primeros autovaloes\n",
        "eigenvaluesr=eigenvalues[[0,1,2]]\n",
        "eigenvectorsr=eigenvectors[:,[0,1,2]] # porq tomamos los 3 primeros autovecstores\n",
        "#Convertimos la base de datos a una matriz\n",
        "df_cov=df_cov.values\n",
        "\n",
        "a11 = eigenvectors[0,0]\n",
        "l1 = eigenvalues[0]\n",
        "s11 = df_cov[0,0]\n",
        "rx1y1=a11*np.sqrt(l1)/np.sqrt(s11)\n",
        "\n",
        "rxy=[]\n",
        "for i in range(len(eigenvalues)):\n",
        "  for k in range(len(eigenvaluesr)): \n",
        "    aki=eigenvectorsr[i,k] \n",
        "    lk=eigenvaluesr[k]\n",
        "    Sii=df_cov[i,i]\n",
        "    rxiyk=aki*np.sqrt(lk)/np.sqrt(Sii) \n",
        "    rxy.append(rxiyk)\n",
        "print(\"Correlación entre las variables originales y los componentes extraidos:\",'\\n','\\n', \n",
        "      tabulate(np.array(rxy).reshape(len(eigenvalues),len(eigenvaluesr)), [\"Comp. 1\", \"Comp. 2\", \"Comp.3\"], \n",
        "               showindex=['PS', 'Ataque', 'Defensa', 'Ataque especial', 'Defensa especial', 'Velocidad']))"
      ],
      "metadata": {
        "colab": {
          "base_uri": "https://localhost:8080/"
        },
        "id": "mTClACjflRxu",
        "outputId": "bd3b423c-b309-41e8-fb43-b7879825608d"
      },
      "execution_count": 163,
      "outputs": [
        {
          "output_type": "stream",
          "name": "stdout",
          "text": [
            "Correlación entre las variables originales y los componentes extraidos: \n",
            " \n",
            "                     Comp. 1    Comp. 2      Comp.3\n",
            "----------------  ---------  ---------  ----------\n",
            "PS                 0.718474   0.192343   0.148792\n",
            "Ataque             0.712448  -0.305835  -0.19429\n",
            "Defensa            0.503951  -0.767083   0.216266\n",
            "Ataque especial    0.669119   0.463983  -0.120217\n",
            "Defensa especial   0.760279  -0.204539  -0.0908674\n",
            "Velocidad          0.441568   0.705028   0.16318\n"
          ]
        }
      ]
    },
    {
      "cell_type": "markdown",
      "source": [
        "Hemos sacado solo las tres primeras componentes principales ya que como hemos visto previamente nos representan casi el 80% de la información.\n",
        "\n",
        "¿Qué podemos sacar obeservando esta tabla?\n",
        "\n",
        "La primera componente representa las varibles: PS, Ataque, Ataque especial, Defensa especial y velocidad.\n",
        "\n",
        "La segunda componente represnta la variable de Defensa.\n",
        "\n",
        "Y por último la tercera, no representa es especial a ninguna, pero sin embargo, sigue añadiendo información de las ya representadas.\n",
        "\n",
        "¿Comó sabemos que componente representa a cada variable?\n",
        "\n",
        "Pues bien, en cada atributo (filas) vemos los valores que explican cada una de las componentes, los valores más cercanos al valor absoluto de 1, sin tener el cuenta el negativo o positivo, de momento solo son fijamos en cuál es más alto en valor absoluto. El signo, nos indica de que manera de relacionan, es decir, directamente o inversamente."
      ],
      "metadata": {
        "id": "8vUSeO2qgqSZ"
      }
    },
    {
      "cell_type": "markdown",
      "source": [
        "## Ejercicio 3 "
      ],
      "metadata": {
        "id": "HvQce5Cvoy28"
      }
    },
    {
      "cell_type": "markdown",
      "source": [
        "Para representar gráficamente los individuos de un dataset utilizando las componentes principales obtenidas, podemos utilizar un diagrama de dispersión de 2 dimensiones. \n",
        "\n",
        "Para ello, debemos coger solo las dos primeras componentes principales que son las que nos van a dar la información que queremos para realizar este apartado.\n",
        "\n",
        "Cada punto en el diagrama representará un individuo del dataset, y las coordenadas del punto serán los valores de las dos primeras componentes principales. "
      ],
      "metadata": {
        "id": "UTZQ3VgArwF4"
      }
    },
    {
      "cell_type": "markdown",
      "source": [
        "Para continuar con el ejercicio debemos primero calculamos las 2 primeras componentes principales. "
      ],
      "metadata": {
        "id": "aMei4Lz1rzcZ"
      }
    },
    {
      "cell_type": "code",
      "source": [
        "#Realizamos lo mismo que hemos hecho en el apartado anterior pero \n",
        "#teniendo en cuenta solo los dos primeros autovaloes y autovectores\n",
        "eigenvalues3=eigenvalues[[0,1]]\n",
        "eigenvectors3=eigenvectors[:,[0,1]] #0,1 porq tomamos los 2 primeros\n",
        "rxy=[]\n",
        "for i in range(len(eigenvalues)):\n",
        "  for k in range(len(eigenvalues3)): \n",
        "    aki=eigenvectors3[i,k] \n",
        "    lk=eigenvalues3[k]\n",
        "    Sii=df_cov[i,i]\n",
        "    rxiyk=aki*np.sqrt(lk)/np.sqrt(Sii) \n",
        "    rxy.append(rxiyk)\n",
        "print(\"Correlación entre las variables originales y los componentes extraidos:\",'\\n','\\n', \n",
        "      tabulate(np.array(rxy).reshape(len(eigenvalues),len(eigenvalues3)), [\"Comp. 1\", \"Comp. 2\"], \n",
        "               showindex=['PS', 'Ataque', 'Defensa', 'Ataque especial', 'Defensa especial', 'Velocidad']))"
      ],
      "metadata": {
        "colab": {
          "base_uri": "https://localhost:8080/"
        },
        "id": "uS_U7k51s_SS",
        "outputId": "e2d13f73-8f71-480c-e4f6-ecab736d852f"
      },
      "execution_count": 164,
      "outputs": [
        {
          "output_type": "stream",
          "name": "stdout",
          "text": [
            "Correlación entre las variables originales y los componentes extraidos: \n",
            " \n",
            "                     Comp. 1    Comp. 2\n",
            "----------------  ---------  ---------\n",
            "PS                 0.718474   0.192343\n",
            "Ataque             0.712448  -0.305835\n",
            "Defensa            0.503951  -0.767083\n",
            "Ataque especial    0.669119   0.463983\n",
            "Defensa especial   0.760279  -0.204539\n",
            "Velocidad          0.441568   0.705028\n"
          ]
        }
      ]
    },
    {
      "cell_type": "code",
      "source": [
        "#rxy era un vector y lo convertimos en matrix\n",
        "rxy=np.array(rxy).reshape(len(eigenvalues),len(eigenvalues3))"
      ],
      "metadata": {
        "colab": {
          "base_uri": "https://localhost:8080/"
        },
        "id": "rYqk68pJuBSD",
        "outputId": "4e5da206-d359-459f-ddf2-921621c3a1bd"
      },
      "execution_count": 166,
      "outputs": [
        {
          "output_type": "execute_result",
          "data": {
            "text/plain": [
              "array([[ 0.71847437,  0.1923428 ],\n",
              "       [ 0.71244816, -0.30583539],\n",
              "       [ 0.50395061, -0.76708342],\n",
              "       [ 0.66911877,  0.46398253],\n",
              "       [ 0.76027908, -0.20453877],\n",
              "       [ 0.44156795,  0.70502801]])"
            ]
          },
          "metadata": {},
          "execution_count": 166
        }
      ]
    },
    {
      "cell_type": "code",
      "source": [
        "datos=df.values"
      ],
      "metadata": {
        "id": "SeuKp6pSuzzC"
      },
      "execution_count": null,
      "outputs": []
    },
    {
      "cell_type": "code",
      "source": [
        "df_norm"
      ],
      "metadata": {
        "colab": {
          "base_uri": "https://localhost:8080/",
          "height": 676
        },
        "id": "YFfxhpPAvGfh",
        "outputId": "507215bf-3d39-41b8-a380-aba21ffb35fc"
      },
      "execution_count": null,
      "outputs": [
        {
          "output_type": "execute_result",
          "data": {
            "text/plain": [
              "          PS    Ataque  Defensa  Ataque especial  Defensa especial  Velocidad\n",
              "0  -0.326164  0.054313    -0.75         0.564152             -0.50   1.037975\n",
              "1  -0.326164  0.054313    -0.75        -1.171700             -0.50   0.135388\n",
              "2  -0.326164  0.054313     1.75        -0.303774             -0.50  -1.669787\n",
              "3   0.978492  2.226814     0.50         0.564152              0.75   1.037975\n",
              "4  -0.326164  0.054313     0.50         0.564152             -0.50   1.037975\n",
              "5   0.978492  1.140563     0.50         1.432078              0.75   1.037975\n",
              "6   0.978492 -1.031938    -0.75         0.564152              0.75   0.135388\n",
              "7   0.978492 -1.031938    -0.75        -1.171700             -0.50  -0.767199\n",
              "8  -0.326164  1.140563     1.75        -1.171700             -0.50   0.135388\n",
              "9   0.978492  0.054313    -0.75        -0.303774             -0.50  -0.767199\n",
              "10 -1.630820 -2.118189    -0.75        -1.171700             -1.75  -1.669787\n",
              "11 -0.326164  1.140563    -0.75        -1.171700             -0.50   0.135388\n",
              "12 -0.326164 -1.031938    -0.75         0.564152              0.75   1.940563\n",
              "13 -0.326164  0.054313     0.50         1.432078             -0.50  -0.767199\n",
              "14 -1.630820 -1.031938    -2.00        -1.171700             -1.75   0.135388\n",
              "15  0.978492  0.054313     0.50         1.432078              2.00   0.135388\n",
              "16 -1.630820  0.054313     1.75        -1.171700              2.00  -0.767199\n",
              "17  2.283148  1.140563     0.50         0.564152              0.75   0.135388\n",
              "18 -0.326164  0.054313     0.50        -0.303774              0.75  -1.669787\n",
              "19 -0.326164 -1.031938    -0.75         1.432078             -0.50   1.037975"
            ],
            "text/html": [
              "\n",
              "  <div id=\"df-68d8b8a3-17bb-4f13-9b72-6822b5355beb\">\n",
              "    <div class=\"colab-df-container\">\n",
              "      <div>\n",
              "<style scoped>\n",
              "    .dataframe tbody tr th:only-of-type {\n",
              "        vertical-align: middle;\n",
              "    }\n",
              "\n",
              "    .dataframe tbody tr th {\n",
              "        vertical-align: top;\n",
              "    }\n",
              "\n",
              "    .dataframe thead th {\n",
              "        text-align: right;\n",
              "    }\n",
              "</style>\n",
              "<table border=\"1\" class=\"dataframe\">\n",
              "  <thead>\n",
              "    <tr style=\"text-align: right;\">\n",
              "      <th></th>\n",
              "      <th>PS</th>\n",
              "      <th>Ataque</th>\n",
              "      <th>Defensa</th>\n",
              "      <th>Ataque especial</th>\n",
              "      <th>Defensa especial</th>\n",
              "      <th>Velocidad</th>\n",
              "    </tr>\n",
              "  </thead>\n",
              "  <tbody>\n",
              "    <tr>\n",
              "      <th>0</th>\n",
              "      <td>-0.326164</td>\n",
              "      <td>0.054313</td>\n",
              "      <td>-0.75</td>\n",
              "      <td>0.564152</td>\n",
              "      <td>-0.50</td>\n",
              "      <td>1.037975</td>\n",
              "    </tr>\n",
              "    <tr>\n",
              "      <th>1</th>\n",
              "      <td>-0.326164</td>\n",
              "      <td>0.054313</td>\n",
              "      <td>-0.75</td>\n",
              "      <td>-1.171700</td>\n",
              "      <td>-0.50</td>\n",
              "      <td>0.135388</td>\n",
              "    </tr>\n",
              "    <tr>\n",
              "      <th>2</th>\n",
              "      <td>-0.326164</td>\n",
              "      <td>0.054313</td>\n",
              "      <td>1.75</td>\n",
              "      <td>-0.303774</td>\n",
              "      <td>-0.50</td>\n",
              "      <td>-1.669787</td>\n",
              "    </tr>\n",
              "    <tr>\n",
              "      <th>3</th>\n",
              "      <td>0.978492</td>\n",
              "      <td>2.226814</td>\n",
              "      <td>0.50</td>\n",
              "      <td>0.564152</td>\n",
              "      <td>0.75</td>\n",
              "      <td>1.037975</td>\n",
              "    </tr>\n",
              "    <tr>\n",
              "      <th>4</th>\n",
              "      <td>-0.326164</td>\n",
              "      <td>0.054313</td>\n",
              "      <td>0.50</td>\n",
              "      <td>0.564152</td>\n",
              "      <td>-0.50</td>\n",
              "      <td>1.037975</td>\n",
              "    </tr>\n",
              "    <tr>\n",
              "      <th>5</th>\n",
              "      <td>0.978492</td>\n",
              "      <td>1.140563</td>\n",
              "      <td>0.50</td>\n",
              "      <td>1.432078</td>\n",
              "      <td>0.75</td>\n",
              "      <td>1.037975</td>\n",
              "    </tr>\n",
              "    <tr>\n",
              "      <th>6</th>\n",
              "      <td>0.978492</td>\n",
              "      <td>-1.031938</td>\n",
              "      <td>-0.75</td>\n",
              "      <td>0.564152</td>\n",
              "      <td>0.75</td>\n",
              "      <td>0.135388</td>\n",
              "    </tr>\n",
              "    <tr>\n",
              "      <th>7</th>\n",
              "      <td>0.978492</td>\n",
              "      <td>-1.031938</td>\n",
              "      <td>-0.75</td>\n",
              "      <td>-1.171700</td>\n",
              "      <td>-0.50</td>\n",
              "      <td>-0.767199</td>\n",
              "    </tr>\n",
              "    <tr>\n",
              "      <th>8</th>\n",
              "      <td>-0.326164</td>\n",
              "      <td>1.140563</td>\n",
              "      <td>1.75</td>\n",
              "      <td>-1.171700</td>\n",
              "      <td>-0.50</td>\n",
              "      <td>0.135388</td>\n",
              "    </tr>\n",
              "    <tr>\n",
              "      <th>9</th>\n",
              "      <td>0.978492</td>\n",
              "      <td>0.054313</td>\n",
              "      <td>-0.75</td>\n",
              "      <td>-0.303774</td>\n",
              "      <td>-0.50</td>\n",
              "      <td>-0.767199</td>\n",
              "    </tr>\n",
              "    <tr>\n",
              "      <th>10</th>\n",
              "      <td>-1.630820</td>\n",
              "      <td>-2.118189</td>\n",
              "      <td>-0.75</td>\n",
              "      <td>-1.171700</td>\n",
              "      <td>-1.75</td>\n",
              "      <td>-1.669787</td>\n",
              "    </tr>\n",
              "    <tr>\n",
              "      <th>11</th>\n",
              "      <td>-0.326164</td>\n",
              "      <td>1.140563</td>\n",
              "      <td>-0.75</td>\n",
              "      <td>-1.171700</td>\n",
              "      <td>-0.50</td>\n",
              "      <td>0.135388</td>\n",
              "    </tr>\n",
              "    <tr>\n",
              "      <th>12</th>\n",
              "      <td>-0.326164</td>\n",
              "      <td>-1.031938</td>\n",
              "      <td>-0.75</td>\n",
              "      <td>0.564152</td>\n",
              "      <td>0.75</td>\n",
              "      <td>1.940563</td>\n",
              "    </tr>\n",
              "    <tr>\n",
              "      <th>13</th>\n",
              "      <td>-0.326164</td>\n",
              "      <td>0.054313</td>\n",
              "      <td>0.50</td>\n",
              "      <td>1.432078</td>\n",
              "      <td>-0.50</td>\n",
              "      <td>-0.767199</td>\n",
              "    </tr>\n",
              "    <tr>\n",
              "      <th>14</th>\n",
              "      <td>-1.630820</td>\n",
              "      <td>-1.031938</td>\n",
              "      <td>-2.00</td>\n",
              "      <td>-1.171700</td>\n",
              "      <td>-1.75</td>\n",
              "      <td>0.135388</td>\n",
              "    </tr>\n",
              "    <tr>\n",
              "      <th>15</th>\n",
              "      <td>0.978492</td>\n",
              "      <td>0.054313</td>\n",
              "      <td>0.50</td>\n",
              "      <td>1.432078</td>\n",
              "      <td>2.00</td>\n",
              "      <td>0.135388</td>\n",
              "    </tr>\n",
              "    <tr>\n",
              "      <th>16</th>\n",
              "      <td>-1.630820</td>\n",
              "      <td>0.054313</td>\n",
              "      <td>1.75</td>\n",
              "      <td>-1.171700</td>\n",
              "      <td>2.00</td>\n",
              "      <td>-0.767199</td>\n",
              "    </tr>\n",
              "    <tr>\n",
              "      <th>17</th>\n",
              "      <td>2.283148</td>\n",
              "      <td>1.140563</td>\n",
              "      <td>0.50</td>\n",
              "      <td>0.564152</td>\n",
              "      <td>0.75</td>\n",
              "      <td>0.135388</td>\n",
              "    </tr>\n",
              "    <tr>\n",
              "      <th>18</th>\n",
              "      <td>-0.326164</td>\n",
              "      <td>0.054313</td>\n",
              "      <td>0.50</td>\n",
              "      <td>-0.303774</td>\n",
              "      <td>0.75</td>\n",
              "      <td>-1.669787</td>\n",
              "    </tr>\n",
              "    <tr>\n",
              "      <th>19</th>\n",
              "      <td>-0.326164</td>\n",
              "      <td>-1.031938</td>\n",
              "      <td>-0.75</td>\n",
              "      <td>1.432078</td>\n",
              "      <td>-0.50</td>\n",
              "      <td>1.037975</td>\n",
              "    </tr>\n",
              "  </tbody>\n",
              "</table>\n",
              "</div>\n",
              "      <button class=\"colab-df-convert\" onclick=\"convertToInteractive('df-68d8b8a3-17bb-4f13-9b72-6822b5355beb')\"\n",
              "              title=\"Convert this dataframe to an interactive table.\"\n",
              "              style=\"display:none;\">\n",
              "        \n",
              "  <svg xmlns=\"http://www.w3.org/2000/svg\" height=\"24px\"viewBox=\"0 0 24 24\"\n",
              "       width=\"24px\">\n",
              "    <path d=\"M0 0h24v24H0V0z\" fill=\"none\"/>\n",
              "    <path d=\"M18.56 5.44l.94 2.06.94-2.06 2.06-.94-2.06-.94-.94-2.06-.94 2.06-2.06.94zm-11 1L8.5 8.5l.94-2.06 2.06-.94-2.06-.94L8.5 2.5l-.94 2.06-2.06.94zm10 10l.94 2.06.94-2.06 2.06-.94-2.06-.94-.94-2.06-.94 2.06-2.06.94z\"/><path d=\"M17.41 7.96l-1.37-1.37c-.4-.4-.92-.59-1.43-.59-.52 0-1.04.2-1.43.59L10.3 9.45l-7.72 7.72c-.78.78-.78 2.05 0 2.83L4 21.41c.39.39.9.59 1.41.59.51 0 1.02-.2 1.41-.59l7.78-7.78 2.81-2.81c.8-.78.8-2.07 0-2.86zM5.41 20L4 18.59l7.72-7.72 1.47 1.35L5.41 20z\"/>\n",
              "  </svg>\n",
              "      </button>\n",
              "      \n",
              "  <style>\n",
              "    .colab-df-container {\n",
              "      display:flex;\n",
              "      flex-wrap:wrap;\n",
              "      gap: 12px;\n",
              "    }\n",
              "\n",
              "    .colab-df-convert {\n",
              "      background-color: #E8F0FE;\n",
              "      border: none;\n",
              "      border-radius: 50%;\n",
              "      cursor: pointer;\n",
              "      display: none;\n",
              "      fill: #1967D2;\n",
              "      height: 32px;\n",
              "      padding: 0 0 0 0;\n",
              "      width: 32px;\n",
              "    }\n",
              "\n",
              "    .colab-df-convert:hover {\n",
              "      background-color: #E2EBFA;\n",
              "      box-shadow: 0px 1px 2px rgba(60, 64, 67, 0.3), 0px 1px 3px 1px rgba(60, 64, 67, 0.15);\n",
              "      fill: #174EA6;\n",
              "    }\n",
              "\n",
              "    [theme=dark] .colab-df-convert {\n",
              "      background-color: #3B4455;\n",
              "      fill: #D2E3FC;\n",
              "    }\n",
              "\n",
              "    [theme=dark] .colab-df-convert:hover {\n",
              "      background-color: #434B5C;\n",
              "      box-shadow: 0px 1px 3px 1px rgba(0, 0, 0, 0.15);\n",
              "      filter: drop-shadow(0px 1px 2px rgba(0, 0, 0, 0.3));\n",
              "      fill: #FFFFFF;\n",
              "    }\n",
              "  </style>\n",
              "\n",
              "      <script>\n",
              "        const buttonEl =\n",
              "          document.querySelector('#df-68d8b8a3-17bb-4f13-9b72-6822b5355beb button.colab-df-convert');\n",
              "        buttonEl.style.display =\n",
              "          google.colab.kernel.accessAllowed ? 'block' : 'none';\n",
              "\n",
              "        async function convertToInteractive(key) {\n",
              "          const element = document.querySelector('#df-68d8b8a3-17bb-4f13-9b72-6822b5355beb');\n",
              "          const dataTable =\n",
              "            await google.colab.kernel.invokeFunction('convertToInteractive',\n",
              "                                                     [key], {});\n",
              "          if (!dataTable) return;\n",
              "\n",
              "          const docLinkHtml = 'Like what you see? Visit the ' +\n",
              "            '<a target=\"_blank\" href=https://colab.research.google.com/notebooks/data_table.ipynb>data table notebook</a>'\n",
              "            + ' to learn more about interactive tables.';\n",
              "          element.innerHTML = '';\n",
              "          dataTable['output_type'] = 'display_data';\n",
              "          await google.colab.output.renderOutput(dataTable, element);\n",
              "          const docLink = document.createElement('div');\n",
              "          docLink.innerHTML = docLinkHtml;\n",
              "          element.appendChild(docLink);\n",
              "        }\n",
              "      </script>\n",
              "    </div>\n",
              "  </div>\n",
              "  "
            ]
          },
          "metadata": {},
          "execution_count": 231
        }
      ]
    },
    {
      "cell_type": "markdown",
      "source": [
        "Vamos a crear los valores a representar, es decir, vamos a calcular los puntos (C1, C2) de cada individuo, de la forma: \n",
        "\n",
        "      Individuo 1 C1=0.0595012*X1+0.596317*X2+...+0.285252 *X8\n",
        "  \n",
        "      (siendo X1,...,X8 los valores del indivviduo 1)"
      ],
      "metadata": {
        "id": "CEFVBJCUFNJV"
      }
    },
    {
      "cell_type": "code",
      "source": [
        "df_norm.iloc[0]"
      ],
      "metadata": {
        "colab": {
          "base_uri": "https://localhost:8080/"
        },
        "id": "IB9g8ni2sT9m",
        "outputId": "8886b86d-f647-45da-8c7d-642d660f8886"
      },
      "execution_count": 167,
      "outputs": [
        {
          "output_type": "execute_result",
          "data": {
            "text/plain": [
              "PS                 -0.326164\n",
              "Ataque              0.054313\n",
              "Defensa            -0.750000\n",
              "Ataque especial     0.564152\n",
              "Defensa especial   -0.500000\n",
              "Velocidad           1.037975\n",
              "Name: 0, dtype: float64"
            ]
          },
          "metadata": {},
          "execution_count": 167
        }
      ]
    },
    {
      "cell_type": "code",
      "source": [
        "c1=np.zeros(len(df_norm))\n",
        "c2=np.zeros(len(df_norm))"
      ],
      "metadata": {
        "id": "QGA8oPhRI50s"
      },
      "execution_count": 168,
      "outputs": []
    },
    {
      "cell_type": "code",
      "source": [
        "for i in range (len(df_norm)):\n",
        "  c1[i]=sum(-(rxy[:,0])*(df_norm.iloc[i]))\n",
        "  c2[i]=sum(-(rxy[:,1])*(df_norm.iloc[i]))\n"
      ],
      "metadata": {
        "id": "AkCl2xMDGlwh"
      },
      "execution_count": 169,
      "outputs": []
    },
    {
      "cell_type": "code",
      "source": [
        "#creamos un dataframe para poder graficarlo mejor en el diagrama de dispersion\n",
        "df3 = pd.DataFrame(columns=[' 1', 'Componente 2'])\n",
        "dat1 = pd.DataFrame({'Componente 1': c1})\n",
        "dat2 = pd.DataFrame({'Componente 2': c2})\n",
        "df3=dat1.join(dat2)"
      ],
      "metadata": {
        "id": "Y_T59sHd1726"
      },
      "execution_count": 170,
      "outputs": []
    },
    {
      "cell_type": "code",
      "source": [
        "fig, ax= plt.subplots()\n",
        "ax.scatter(c1,c2)\n",
        "ax.scatter(c1[5], c2[5], color = 'r')\n",
        "ax.scatter(c1[8], c2[8], color = 'magenta')\n",
        "ax.scatter(c1[13], c2[13], color = 'gold')\n",
        "ax.scatter(c1[19], c2[19], color = 'k')\n",
        "#df3.plot.scatter(x='Componente 1', y='Componente 2', s =20 , c = 'Blue')"
      ],
      "metadata": {
        "id": "aeiYPAvJ55yZ",
        "outputId": "38f1a7ed-f4b5-43aa-962b-dad08a130dd8",
        "colab": {
          "base_uri": "https://localhost:8080/",
          "height": 282
        }
      },
      "execution_count": 171,
      "outputs": [
        {
          "output_type": "execute_result",
          "data": {
            "text/plain": [
              "<matplotlib.collections.PathCollection at 0x7ff3baebda00>"
            ]
          },
          "metadata": {},
          "execution_count": 171
        },
        {
          "output_type": "display_data",
          "data": {
            "text/plain": [
              "<Figure size 432x288 with 1 Axes>"
            ],
            "image/png": "[encoded data removed]"
          },
          "metadata": {
            "needs_background": "light"
          }
        }
      ]
    },
    {
      "cell_type": "markdown",
      "source": [
        "## Ejercicio 4"
      ],
      "metadata": {
        "id": "Mu7Kgdmzvkty"
      }
    },
    {
      "cell_type": "code",
      "source": [
        "rxy"
      ],
      "metadata": {
        "id": "zYGqGlMa5-tr",
        "outputId": "d145ed4f-c617-4e95-dfcb-d8096ad8a1bc",
        "colab": {
          "base_uri": "https://localhost:8080/"
        }
      },
      "execution_count": null,
      "outputs": [
        {
          "output_type": "execute_result",
          "data": {
            "text/plain": [
              "array([[ 0.71847437,  0.1923428 ],\n",
              "       [ 0.71244816, -0.30583539],\n",
              "       [ 0.50395061, -0.76708342],\n",
              "       [ 0.66911877,  0.46398253],\n",
              "       [ 0.76027908, -0.20453877],\n",
              "       [ 0.44156795,  0.70502801]])"
            ]
          },
          "metadata": {},
          "execution_count": 237
        }
      ]
    },
    {
      "cell_type": "code",
      "source": [
        "from sklearn.decomposition import PCA\n",
        "pca = PCA(n_components=2)\n",
        "componentes_principales = pca.fit_transform(df_norm)\n",
        "\n",
        "# crea un diagrama de dispersión de 2 dimensiones\n",
        "fig, ax = plt.subplots()\n",
        "ax.scatter(componentes_principales[:, 0], componentes_principales[:, 1])\n",
        "\n",
        "# agrega etiquetas a los ejes\n",
        "ax.set_xlabel('Primera componente principal')\n",
        "ax.set_ylabel('Segunda componente principal')\n",
        "\n",
        "\n",
        "# muestra el diagrama de dispersión\n",
        "plt.show()"
      ],
      "metadata": {
        "colab": {
          "base_uri": "https://localhost:8080/",
          "height": 279
        },
        "id": "bSrI9vGfo8dP",
        "outputId": "5255e505-4228-4944-8e68-fb23e1da36de"
      },
      "execution_count": null,
      "outputs": [
        {
          "output_type": "display_data",
          "data": {
            "text/plain": [
              "<Figure size 432x288 with 1 Axes>"
            ],
            "image/png": "[encoded data removed]"
          },
          "metadata": {
            "needs_background": "light"
          }
        }
      ]
    }
  ]
}