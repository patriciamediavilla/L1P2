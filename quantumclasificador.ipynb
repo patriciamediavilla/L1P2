{
  "nbformat": 4,
  "nbformat_minor": 0,
  "metadata": {
    "colab": {
      "provenance": [],
      "authorship_tag": "ABX9TyOR2T572k7rUGpgYW2Kmi/J",
      "include_colab_link": true
    },
    "kernelspec": {
      "name": "python3",
      "display_name": "Python 3"
    },
    "language_info": {
      "name": "python"
    }
  },
  "cells": [
    {
      "cell_type": "markdown",
      "metadata": {
        "id": "view-in-github",
        "colab_type": "text"
      },
      "source": [
        "<a href=\"https://colab.research.google.com/github/patriciamediavilla/L1P2/blob/main/quantumclasificador.ipynb\" target=\"_parent\"><img src=\"https://colab.research.google.com/assets/colab-badge.svg\" alt=\"Open In Colab\"/></a>"
      ]
    },
    {
      "cell_type": "markdown",
      "source": [
        "#Clasifiación con SVM\n",
        "\n"
      ],
      "metadata": {
        "id": "FNBfDgin9IGX"
      }
    },
    {
      "cell_type": "code",
      "execution_count": null,
      "metadata": {
        "id": "RNtNwFli5QGN"
      },
      "outputs": [],
      "source": [
        "#importamos las librerias necesarias\n",
        "import numpy as np #numpy\n",
        "import pandas as pd #pandas\n",
        "import sklearn as sk #scikit-learn\n",
        "import matplotlib.pyplot as plt\n",
        "import seaborn as sns\n",
        "import pandas as pd\n",
        "from sklearn import metrics\n",
        "from sklearn.model_selection import train_test_split"
      ]
    },
    {
      "cell_type": "markdown",
      "source": [
        "Subimos los datos necesarios para hacer el problema, de momento solo los datos de train para después ahcer la prueba con los de test."
      ],
      "metadata": {
        "id": "Hiif_Rp59QBa"
      }
    },
    {
      "cell_type": "code",
      "source": [
        "datostrain = pd.read_csv('traindata.csv', sep=',')\n",
        "datostrain.head()"
      ],
      "metadata": {
        "colab": {
          "base_uri": "https://localhost:8080/",
          "height": 206
        },
        "id": "BF-1FxER5SrP",
        "outputId": "05c79431-6fc4-49a3-8a19-5e1369a105ac"
      },
      "execution_count": null,
      "outputs": [
        {
          "output_type": "execute_result",
          "data": {
            "text/plain": [
              "   Unnamed: 0  FeatureA  FeatureB  Target\n",
              "0           0  5.152212  4.649557     1.0\n",
              "1           1  5.969026  0.502655     1.0\n",
              "2           2  3.581416  5.654867     1.0\n",
              "3           3  1.759292  1.068142     1.0\n",
              "4           4  5.089380  4.586725     1.0"
            ],
            "text/html": [
              "\n",
              "  <div id=\"df-1df01816-e848-4b5e-973d-d262b5c4d69d\" class=\"colab-df-container\">\n",
              "    <div>\n",
              "<style scoped>\n",
              "    .dataframe tbody tr th:only-of-type {\n",
              "        vertical-align: middle;\n",
              "    }\n",
              "\n",
              "    .dataframe tbody tr th {\n",
              "        vertical-align: top;\n",
              "    }\n",
              "\n",
              "    .dataframe thead th {\n",
              "        text-align: right;\n",
              "    }\n",
              "</style>\n",
              "<table border=\"1\" class=\"dataframe\">\n",
              "  <thead>\n",
              "    <tr style=\"text-align: right;\">\n",
              "      <th></th>\n",
              "      <th>Unnamed: 0</th>\n",
              "      <th>FeatureA</th>\n",
              "      <th>FeatureB</th>\n",
              "      <th>Target</th>\n",
              "    </tr>\n",
              "  </thead>\n",
              "  <tbody>\n",
              "    <tr>\n",
              "      <th>0</th>\n",
              "      <td>0</td>\n",
              "      <td>5.152212</td>\n",
              "      <td>4.649557</td>\n",
              "      <td>1.0</td>\n",
              "    </tr>\n",
              "    <tr>\n",
              "      <th>1</th>\n",
              "      <td>1</td>\n",
              "      <td>5.969026</td>\n",
              "      <td>0.502655</td>\n",
              "      <td>1.0</td>\n",
              "    </tr>\n",
              "    <tr>\n",
              "      <th>2</th>\n",
              "      <td>2</td>\n",
              "      <td>3.581416</td>\n",
              "      <td>5.654867</td>\n",
              "      <td>1.0</td>\n",
              "    </tr>\n",
              "    <tr>\n",
              "      <th>3</th>\n",
              "      <td>3</td>\n",
              "      <td>1.759292</td>\n",
              "      <td>1.068142</td>\n",
              "      <td>1.0</td>\n",
              "    </tr>\n",
              "    <tr>\n",
              "      <th>4</th>\n",
              "      <td>4</td>\n",
              "      <td>5.089380</td>\n",
              "      <td>4.586725</td>\n",
              "      <td>1.0</td>\n",
              "    </tr>\n",
              "  </tbody>\n",
              "</table>\n",
              "</div>\n",
              "    <div class=\"colab-df-buttons\">\n",
              "\n",
              "  <div class=\"colab-df-container\">\n",
              "    <button class=\"colab-df-convert\" onclick=\"convertToInteractive('df-1df01816-e848-4b5e-973d-d262b5c4d69d')\"\n",
              "            title=\"Convert this dataframe to an interactive table.\"\n",
              "            style=\"display:none;\">\n",
              "\n",
              "  <svg xmlns=\"http://www.w3.org/2000/svg\" height=\"24px\" viewBox=\"0 -960 960 960\">\n",
              "    <path d=\"M120-120v-720h720v720H120Zm60-500h600v-160H180v160Zm220 220h160v-160H400v160Zm0 220h160v-160H400v160ZM180-400h160v-160H180v160Zm440 0h160v-160H620v160ZM180-180h160v-160H180v160Zm440 0h160v-160H620v160Z\"/>\n",
              "  </svg>\n",
              "    </button>\n",
              "\n",
              "  <style>\n",
              "    .colab-df-container {\n",
              "      display:flex;\n",
              "      gap: 12px;\n",
              "    }\n",
              "\n",
              "    .colab-df-convert {\n",
              "      background-color: #E8F0FE;\n",
              "      border: none;\n",
              "      border-radius: 50%;\n",
              "      cursor: pointer;\n",
              "      display: none;\n",
              "      fill: #1967D2;\n",
              "      height: 32px;\n",
              "      padding: 0 0 0 0;\n",
              "      width: 32px;\n",
              "    }\n",
              "\n",
              "    .colab-df-convert:hover {\n",
              "      background-color: #E2EBFA;\n",
              "      box-shadow: 0px 1px 2px rgba(60, 64, 67, 0.3), 0px 1px 3px 1px rgba(60, 64, 67, 0.15);\n",
              "      fill: #174EA6;\n",
              "    }\n",
              "\n",
              "    .colab-df-buttons div {\n",
              "      margin-bottom: 4px;\n",
              "    }\n",
              "\n",
              "    [theme=dark] .colab-df-convert {\n",
              "      background-color: #3B4455;\n",
              "      fill: #D2E3FC;\n",
              "    }\n",
              "\n",
              "    [theme=dark] .colab-df-convert:hover {\n",
              "      background-color: #434B5C;\n",
              "      box-shadow: 0px 1px 3px 1px rgba(0, 0, 0, 0.15);\n",
              "      filter: drop-shadow(0px 1px 2px rgba(0, 0, 0, 0.3));\n",
              "      fill: #FFFFFF;\n",
              "    }\n",
              "  </style>\n",
              "\n",
              "    <script>\n",
              "      const buttonEl =\n",
              "        document.querySelector('#df-1df01816-e848-4b5e-973d-d262b5c4d69d button.colab-df-convert');\n",
              "      buttonEl.style.display =\n",
              "        google.colab.kernel.accessAllowed ? 'block' : 'none';\n",
              "\n",
              "      async function convertToInteractive(key) {\n",
              "        const element = document.querySelector('#df-1df01816-e848-4b5e-973d-d262b5c4d69d');\n",
              "        const dataTable =\n",
              "          await google.colab.kernel.invokeFunction('convertToInteractive',\n",
              "                                                    [key], {});\n",
              "        if (!dataTable) return;\n",
              "\n",
              "        const docLinkHtml = 'Like what you see? Visit the ' +\n",
              "          '<a target=\"_blank\" href=https://colab.research.google.com/notebooks/data_table.ipynb>data table notebook</a>'\n",
              "          + ' to learn more about interactive tables.';\n",
              "        element.innerHTML = '';\n",
              "        dataTable['output_type'] = 'display_data';\n",
              "        await google.colab.output.renderOutput(dataTable, element);\n",
              "        const docLink = document.createElement('div');\n",
              "        docLink.innerHTML = docLinkHtml;\n",
              "        element.appendChild(docLink);\n",
              "      }\n",
              "    </script>\n",
              "  </div>\n",
              "\n",
              "\n",
              "<div id=\"df-42e54377-9092-493d-a9c1-562d41c31674\">\n",
              "  <button class=\"colab-df-quickchart\" onclick=\"quickchart('df-42e54377-9092-493d-a9c1-562d41c31674')\"\n",
              "            title=\"Suggest charts.\"\n",
              "            style=\"display:none;\">\n",
              "\n",
              "<svg xmlns=\"http://www.w3.org/2000/svg\" height=\"24px\"viewBox=\"0 0 24 24\"\n",
              "     width=\"24px\">\n",
              "    <g>\n",
              "        <path d=\"M19 3H5c-1.1 0-2 .9-2 2v14c0 1.1.9 2 2 2h14c1.1 0 2-.9 2-2V5c0-1.1-.9-2-2-2zM9 17H7v-7h2v7zm4 0h-2V7h2v10zm4 0h-2v-4h2v4z\"/>\n",
              "    </g>\n",
              "</svg>\n",
              "  </button>\n",
              "\n",
              "<style>\n",
              "  .colab-df-quickchart {\n",
              "      --bg-color: #E8F0FE;\n",
              "      --fill-color: #1967D2;\n",
              "      --hover-bg-color: #E2EBFA;\n",
              "      --hover-fill-color: #174EA6;\n",
              "      --disabled-fill-color: #AAA;\n",
              "      --disabled-bg-color: #DDD;\n",
              "  }\n",
              "\n",
              "  [theme=dark] .colab-df-quickchart {\n",
              "      --bg-color: #3B4455;\n",
              "      --fill-color: #D2E3FC;\n",
              "      --hover-bg-color: #434B5C;\n",
              "      --hover-fill-color: #FFFFFF;\n",
              "      --disabled-bg-color: #3B4455;\n",
              "      --disabled-fill-color: #666;\n",
              "  }\n",
              "\n",
              "  .colab-df-quickchart {\n",
              "    background-color: var(--bg-color);\n",
              "    border: none;\n",
              "    border-radius: 50%;\n",
              "    cursor: pointer;\n",
              "    display: none;\n",
              "    fill: var(--fill-color);\n",
              "    height: 32px;\n",
              "    padding: 0;\n",
              "    width: 32px;\n",
              "  }\n",
              "\n",
              "  .colab-df-quickchart:hover {\n",
              "    background-color: var(--hover-bg-color);\n",
              "    box-shadow: 0 1px 2px rgba(60, 64, 67, 0.3), 0 1px 3px 1px rgba(60, 64, 67, 0.15);\n",
              "    fill: var(--button-hover-fill-color);\n",
              "  }\n",
              "\n",
              "  .colab-df-quickchart-complete:disabled,\n",
              "  .colab-df-quickchart-complete:disabled:hover {\n",
              "    background-color: var(--disabled-bg-color);\n",
              "    fill: var(--disabled-fill-color);\n",
              "    box-shadow: none;\n",
              "  }\n",
              "\n",
              "  .colab-df-spinner {\n",
              "    border: 2px solid var(--fill-color);\n",
              "    border-color: transparent;\n",
              "    border-bottom-color: var(--fill-color);\n",
              "    animation:\n",
              "      spin 1s steps(1) infinite;\n",
              "  }\n",
              "\n",
              "  @keyframes spin {\n",
              "    0% {\n",
              "      border-color: transparent;\n",
              "      border-bottom-color: var(--fill-color);\n",
              "      border-left-color: var(--fill-color);\n",
              "    }\n",
              "    20% {\n",
              "      border-color: transparent;\n",
              "      border-left-color: var(--fill-color);\n",
              "      border-top-color: var(--fill-color);\n",
              "    }\n",
              "    30% {\n",
              "      border-color: transparent;\n",
              "      border-left-color: var(--fill-color);\n",
              "      border-top-color: var(--fill-color);\n",
              "      border-right-color: var(--fill-color);\n",
              "    }\n",
              "    40% {\n",
              "      border-color: transparent;\n",
              "      border-right-color: var(--fill-color);\n",
              "      border-top-color: var(--fill-color);\n",
              "    }\n",
              "    60% {\n",
              "      border-color: transparent;\n",
              "      border-right-color: var(--fill-color);\n",
              "    }\n",
              "    80% {\n",
              "      border-color: transparent;\n",
              "      border-right-color: var(--fill-color);\n",
              "      border-bottom-color: var(--fill-color);\n",
              "    }\n",
              "    90% {\n",
              "      border-color: transparent;\n",
              "      border-bottom-color: var(--fill-color);\n",
              "    }\n",
              "  }\n",
              "</style>\n",
              "\n",
              "  <script>\n",
              "    async function quickchart(key) {\n",
              "      const quickchartButtonEl =\n",
              "        document.querySelector('#' + key + ' button');\n",
              "      quickchartButtonEl.disabled = true;  // To prevent multiple clicks.\n",
              "      quickchartButtonEl.classList.add('colab-df-spinner');\n",
              "      try {\n",
              "        const charts = await google.colab.kernel.invokeFunction(\n",
              "            'suggestCharts', [key], {});\n",
              "      } catch (error) {\n",
              "        console.error('Error during call to suggestCharts:', error);\n",
              "      }\n",
              "      quickchartButtonEl.classList.remove('colab-df-spinner');\n",
              "      quickchartButtonEl.classList.add('colab-df-quickchart-complete');\n",
              "    }\n",
              "    (() => {\n",
              "      let quickchartButtonEl =\n",
              "        document.querySelector('#df-42e54377-9092-493d-a9c1-562d41c31674 button');\n",
              "      quickchartButtonEl.style.display =\n",
              "        google.colab.kernel.accessAllowed ? 'block' : 'none';\n",
              "    })();\n",
              "  </script>\n",
              "</div>\n",
              "    </div>\n",
              "  </div>\n"
            ]
          },
          "metadata": {},
          "execution_count": 61
        }
      ]
    },
    {
      "cell_type": "markdown",
      "source": [
        "Observamos si hay o no valores faltantes"
      ],
      "metadata": {
        "id": "8kXjOB3w_wOq"
      }
    },
    {
      "cell_type": "code",
      "source": [
        "datostrain.isna().sum()"
      ],
      "metadata": {
        "colab": {
          "base_uri": "https://localhost:8080/"
        },
        "id": "D589C4gq5kvV",
        "outputId": "f813b2cc-b85d-464d-c9f6-7ffe47f4e69d"
      },
      "execution_count": null,
      "outputs": [
        {
          "output_type": "execute_result",
          "data": {
            "text/plain": [
              "Unnamed: 0    0\n",
              "FeatureA      0\n",
              "FeatureB      0\n",
              "Target        0\n",
              "dtype: int64"
            ]
          },
          "metadata": {},
          "execution_count": 62
        }
      ]
    },
    {
      "cell_type": "markdown",
      "source": [
        "Subimos los datos para hacer las pruebas."
      ],
      "metadata": {
        "id": "Iahginpx_3Zv"
      }
    },
    {
      "cell_type": "code",
      "source": [
        "datosval = pd.read_csv('validationdata.csv', sep=',')\n",
        "datosval.head()"
      ],
      "metadata": {
        "colab": {
          "base_uri": "https://localhost:8080/",
          "height": 206
        },
        "id": "mo5jBQTx6HxF",
        "outputId": "bcbb9800-7448-444c-a128-ba1d08c52b5d"
      },
      "execution_count": null,
      "outputs": [
        {
          "output_type": "execute_result",
          "data": {
            "text/plain": [
              "   Unnamed: 0  FeatureA  FeatureB  Target\n",
              "0           0  4.900885  1.256637     1.0\n",
              "1           1  4.586725  1.570796     1.0\n",
              "2           2  0.000000  3.267256     1.0\n",
              "3           3  2.638938  4.209734     1.0\n",
              "4           4  4.963716  4.963716     1.0"
            ],
            "text/html": [
              "\n",
              "  <div id=\"df-6efd928c-0f24-487d-a838-88e619c1bbcf\" class=\"colab-df-container\">\n",
              "    <div>\n",
              "<style scoped>\n",
              "    .dataframe tbody tr th:only-of-type {\n",
              "        vertical-align: middle;\n",
              "    }\n",
              "\n",
              "    .dataframe tbody tr th {\n",
              "        vertical-align: top;\n",
              "    }\n",
              "\n",
              "    .dataframe thead th {\n",
              "        text-align: right;\n",
              "    }\n",
              "</style>\n",
              "<table border=\"1\" class=\"dataframe\">\n",
              "  <thead>\n",
              "    <tr style=\"text-align: right;\">\n",
              "      <th></th>\n",
              "      <th>Unnamed: 0</th>\n",
              "      <th>FeatureA</th>\n",
              "      <th>FeatureB</th>\n",
              "      <th>Target</th>\n",
              "    </tr>\n",
              "  </thead>\n",
              "  <tbody>\n",
              "    <tr>\n",
              "      <th>0</th>\n",
              "      <td>0</td>\n",
              "      <td>4.900885</td>\n",
              "      <td>1.256637</td>\n",
              "      <td>1.0</td>\n",
              "    </tr>\n",
              "    <tr>\n",
              "      <th>1</th>\n",
              "      <td>1</td>\n",
              "      <td>4.586725</td>\n",
              "      <td>1.570796</td>\n",
              "      <td>1.0</td>\n",
              "    </tr>\n",
              "    <tr>\n",
              "      <th>2</th>\n",
              "      <td>2</td>\n",
              "      <td>0.000000</td>\n",
              "      <td>3.267256</td>\n",
              "      <td>1.0</td>\n",
              "    </tr>\n",
              "    <tr>\n",
              "      <th>3</th>\n",
              "      <td>3</td>\n",
              "      <td>2.638938</td>\n",
              "      <td>4.209734</td>\n",
              "      <td>1.0</td>\n",
              "    </tr>\n",
              "    <tr>\n",
              "      <th>4</th>\n",
              "      <td>4</td>\n",
              "      <td>4.963716</td>\n",
              "      <td>4.963716</td>\n",
              "      <td>1.0</td>\n",
              "    </tr>\n",
              "  </tbody>\n",
              "</table>\n",
              "</div>\n",
              "    <div class=\"colab-df-buttons\">\n",
              "\n",
              "  <div class=\"colab-df-container\">\n",
              "    <button class=\"colab-df-convert\" onclick=\"convertToInteractive('df-6efd928c-0f24-487d-a838-88e619c1bbcf')\"\n",
              "            title=\"Convert this dataframe to an interactive table.\"\n",
              "            style=\"display:none;\">\n",
              "\n",
              "  <svg xmlns=\"http://www.w3.org/2000/svg\" height=\"24px\" viewBox=\"0 -960 960 960\">\n",
              "    <path d=\"M120-120v-720h720v720H120Zm60-500h600v-160H180v160Zm220 220h160v-160H400v160Zm0 220h160v-160H400v160ZM180-400h160v-160H180v160Zm440 0h160v-160H620v160ZM180-180h160v-160H180v160Zm440 0h160v-160H620v160Z\"/>\n",
              "  </svg>\n",
              "    </button>\n",
              "\n",
              "  <style>\n",
              "    .colab-df-container {\n",
              "      display:flex;\n",
              "      gap: 12px;\n",
              "    }\n",
              "\n",
              "    .colab-df-convert {\n",
              "      background-color: #E8F0FE;\n",
              "      border: none;\n",
              "      border-radius: 50%;\n",
              "      cursor: pointer;\n",
              "      display: none;\n",
              "      fill: #1967D2;\n",
              "      height: 32px;\n",
              "      padding: 0 0 0 0;\n",
              "      width: 32px;\n",
              "    }\n",
              "\n",
              "    .colab-df-convert:hover {\n",
              "      background-color: #E2EBFA;\n",
              "      box-shadow: 0px 1px 2px rgba(60, 64, 67, 0.3), 0px 1px 3px 1px rgba(60, 64, 67, 0.15);\n",
              "      fill: #174EA6;\n",
              "    }\n",
              "\n",
              "    .colab-df-buttons div {\n",
              "      margin-bottom: 4px;\n",
              "    }\n",
              "\n",
              "    [theme=dark] .colab-df-convert {\n",
              "      background-color: #3B4455;\n",
              "      fill: #D2E3FC;\n",
              "    }\n",
              "\n",
              "    [theme=dark] .colab-df-convert:hover {\n",
              "      background-color: #434B5C;\n",
              "      box-shadow: 0px 1px 3px 1px rgba(0, 0, 0, 0.15);\n",
              "      filter: drop-shadow(0px 1px 2px rgba(0, 0, 0, 0.3));\n",
              "      fill: #FFFFFF;\n",
              "    }\n",
              "  </style>\n",
              "\n",
              "    <script>\n",
              "      const buttonEl =\n",
              "        document.querySelector('#df-6efd928c-0f24-487d-a838-88e619c1bbcf button.colab-df-convert');\n",
              "      buttonEl.style.display =\n",
              "        google.colab.kernel.accessAllowed ? 'block' : 'none';\n",
              "\n",
              "      async function convertToInteractive(key) {\n",
              "        const element = document.querySelector('#df-6efd928c-0f24-487d-a838-88e619c1bbcf');\n",
              "        const dataTable =\n",
              "          await google.colab.kernel.invokeFunction('convertToInteractive',\n",
              "                                                    [key], {});\n",
              "        if (!dataTable) return;\n",
              "\n",
              "        const docLinkHtml = 'Like what you see? Visit the ' +\n",
              "          '<a target=\"_blank\" href=https://colab.research.google.com/notebooks/data_table.ipynb>data table notebook</a>'\n",
              "          + ' to learn more about interactive tables.';\n",
              "        element.innerHTML = '';\n",
              "        dataTable['output_type'] = 'display_data';\n",
              "        await google.colab.output.renderOutput(dataTable, element);\n",
              "        const docLink = document.createElement('div');\n",
              "        docLink.innerHTML = docLinkHtml;\n",
              "        element.appendChild(docLink);\n",
              "      }\n",
              "    </script>\n",
              "  </div>\n",
              "\n",
              "\n",
              "<div id=\"df-0efaa028-8774-4cc6-abc6-54021bf87d67\">\n",
              "  <button class=\"colab-df-quickchart\" onclick=\"quickchart('df-0efaa028-8774-4cc6-abc6-54021bf87d67')\"\n",
              "            title=\"Suggest charts.\"\n",
              "            style=\"display:none;\">\n",
              "\n",
              "<svg xmlns=\"http://www.w3.org/2000/svg\" height=\"24px\"viewBox=\"0 0 24 24\"\n",
              "     width=\"24px\">\n",
              "    <g>\n",
              "        <path d=\"M19 3H5c-1.1 0-2 .9-2 2v14c0 1.1.9 2 2 2h14c1.1 0 2-.9 2-2V5c0-1.1-.9-2-2-2zM9 17H7v-7h2v7zm4 0h-2V7h2v10zm4 0h-2v-4h2v4z\"/>\n",
              "    </g>\n",
              "</svg>\n",
              "  </button>\n",
              "\n",
              "<style>\n",
              "  .colab-df-quickchart {\n",
              "      --bg-color: #E8F0FE;\n",
              "      --fill-color: #1967D2;\n",
              "      --hover-bg-color: #E2EBFA;\n",
              "      --hover-fill-color: #174EA6;\n",
              "      --disabled-fill-color: #AAA;\n",
              "      --disabled-bg-color: #DDD;\n",
              "  }\n",
              "\n",
              "  [theme=dark] .colab-df-quickchart {\n",
              "      --bg-color: #3B4455;\n",
              "      --fill-color: #D2E3FC;\n",
              "      --hover-bg-color: #434B5C;\n",
              "      --hover-fill-color: #FFFFFF;\n",
              "      --disabled-bg-color: #3B4455;\n",
              "      --disabled-fill-color: #666;\n",
              "  }\n",
              "\n",
              "  .colab-df-quickchart {\n",
              "    background-color: var(--bg-color);\n",
              "    border: none;\n",
              "    border-radius: 50%;\n",
              "    cursor: pointer;\n",
              "    display: none;\n",
              "    fill: var(--fill-color);\n",
              "    height: 32px;\n",
              "    padding: 0;\n",
              "    width: 32px;\n",
              "  }\n",
              "\n",
              "  .colab-df-quickchart:hover {\n",
              "    background-color: var(--hover-bg-color);\n",
              "    box-shadow: 0 1px 2px rgba(60, 64, 67, 0.3), 0 1px 3px 1px rgba(60, 64, 67, 0.15);\n",
              "    fill: var(--button-hover-fill-color);\n",
              "  }\n",
              "\n",
              "  .colab-df-quickchart-complete:disabled,\n",
              "  .colab-df-quickchart-complete:disabled:hover {\n",
              "    background-color: var(--disabled-bg-color);\n",
              "    fill: var(--disabled-fill-color);\n",
              "    box-shadow: none;\n",
              "  }\n",
              "\n",
              "  .colab-df-spinner {\n",
              "    border: 2px solid var(--fill-color);\n",
              "    border-color: transparent;\n",
              "    border-bottom-color: var(--fill-color);\n",
              "    animation:\n",
              "      spin 1s steps(1) infinite;\n",
              "  }\n",
              "\n",
              "  @keyframes spin {\n",
              "    0% {\n",
              "      border-color: transparent;\n",
              "      border-bottom-color: var(--fill-color);\n",
              "      border-left-color: var(--fill-color);\n",
              "    }\n",
              "    20% {\n",
              "      border-color: transparent;\n",
              "      border-left-color: var(--fill-color);\n",
              "      border-top-color: var(--fill-color);\n",
              "    }\n",
              "    30% {\n",
              "      border-color: transparent;\n",
              "      border-left-color: var(--fill-color);\n",
              "      border-top-color: var(--fill-color);\n",
              "      border-right-color: var(--fill-color);\n",
              "    }\n",
              "    40% {\n",
              "      border-color: transparent;\n",
              "      border-right-color: var(--fill-color);\n",
              "      border-top-color: var(--fill-color);\n",
              "    }\n",
              "    60% {\n",
              "      border-color: transparent;\n",
              "      border-right-color: var(--fill-color);\n",
              "    }\n",
              "    80% {\n",
              "      border-color: transparent;\n",
              "      border-right-color: var(--fill-color);\n",
              "      border-bottom-color: var(--fill-color);\n",
              "    }\n",
              "    90% {\n",
              "      border-color: transparent;\n",
              "      border-bottom-color: var(--fill-color);\n",
              "    }\n",
              "  }\n",
              "</style>\n",
              "\n",
              "  <script>\n",
              "    async function quickchart(key) {\n",
              "      const quickchartButtonEl =\n",
              "        document.querySelector('#' + key + ' button');\n",
              "      quickchartButtonEl.disabled = true;  // To prevent multiple clicks.\n",
              "      quickchartButtonEl.classList.add('colab-df-spinner');\n",
              "      try {\n",
              "        const charts = await google.colab.kernel.invokeFunction(\n",
              "            'suggestCharts', [key], {});\n",
              "      } catch (error) {\n",
              "        console.error('Error during call to suggestCharts:', error);\n",
              "      }\n",
              "      quickchartButtonEl.classList.remove('colab-df-spinner');\n",
              "      quickchartButtonEl.classList.add('colab-df-quickchart-complete');\n",
              "    }\n",
              "    (() => {\n",
              "      let quickchartButtonEl =\n",
              "        document.querySelector('#df-0efaa028-8774-4cc6-abc6-54021bf87d67 button');\n",
              "      quickchartButtonEl.style.display =\n",
              "        google.colab.kernel.accessAllowed ? 'block' : 'none';\n",
              "    })();\n",
              "  </script>\n",
              "</div>\n",
              "    </div>\n",
              "  </div>\n"
            ]
          },
          "metadata": {},
          "execution_count": 63
        }
      ]
    },
    {
      "cell_type": "markdown",
      "source": [
        "Observamos si hay o no valores faltantes"
      ],
      "metadata": {
        "id": "g4HTjaUH_1DY"
      }
    },
    {
      "cell_type": "code",
      "source": [
        "datosval.isna().sum()"
      ],
      "metadata": {
        "colab": {
          "base_uri": "https://localhost:8080/"
        },
        "id": "f3XhPPA96NQd",
        "outputId": "1ceeaf61-37e5-4745-a071-272c26403a0b"
      },
      "execution_count": null,
      "outputs": [
        {
          "output_type": "execute_result",
          "data": {
            "text/plain": [
              "Unnamed: 0    0\n",
              "FeatureA      0\n",
              "FeatureB      0\n",
              "Target        0\n",
              "dtype: int64"
            ]
          },
          "metadata": {},
          "execution_count": 64
        }
      ]
    },
    {
      "cell_type": "markdown",
      "source": [
        "Representamos los datos del enunciado del problema, los cuales debemos clasificar."
      ],
      "metadata": {
        "id": "tAeUf7OG_7eP"
      }
    },
    {
      "cell_type": "code",
      "source": [
        "plt.scatter(datostrain['FeatureA'], datostrain['FeatureB'], c=datostrain['Target'], cmap='viridis')\n",
        "plt.xlabel('FeatureA')\n",
        "plt.ylabel('FeatureB')\n",
        "plt.title('FeatureA vs FeatureB ')\n",
        "plt.colorbar(label='Target')\n",
        "plt.show()"
      ],
      "metadata": {
        "colab": {
          "base_uri": "https://localhost:8080/",
          "height": 472
        },
        "id": "nIht2s3R6acH",
        "outputId": "fa27a8bb-dd4c-441e-cfc7-09af4a3e9238"
      },
      "execution_count": null,
      "outputs": [
        {
          "output_type": "display_data",
          "data": {
            "text/plain": [
              "<Figure size 640x480 with 2 Axes>"
            ],
            "image/png": "[encoded data removed]"
          },
          "metadata": {}
        }
      ]
    },
    {
      "cell_type": "markdown",
      "source": [
        "Se nos ha inicado que debemos utilizar support vector machine vamos a ir creando modelos con el fin de ir acotando los parámetros.\n",
        "\n",
        "Primero hacemos la separación para tener datos de entrenamiendo y de test. Aunque haciendo cross validation no sobre entrenariamos el modelo (lo se hacer)."
      ],
      "metadata": {
        "id": "JnbAD-T2AGnO"
      }
    },
    {
      "cell_type": "code",
      "source": [
        "X = datostrain[['FeatureA','FeatureB']]\n",
        "y = datostrain[\"Target\"].values\n",
        "X_train, X_test, y_train, y_test = train_test_split(X, y, test_size=0.3, random_state=42)\n"
      ],
      "metadata": {
        "id": "w-F_-LGy63HB"
      },
      "execution_count": null,
      "outputs": []
    },
    {
      "cell_type": "markdown",
      "source": [
        "Lo primero que vamos a acotar es el kernel, para eso probamos varios y vemos con cual nos da con más presición."
      ],
      "metadata": {
        "id": "MDvdXZ7XBRm6"
      }
    },
    {
      "cell_type": "code",
      "source": [
        "from sklearn import svm\n",
        "from sklearn.svm import SVC\n",
        "from sklearn.metrics import accuracy_score\n",
        "\n",
        "#SVM lineal\n",
        "lineal = svm.SVC(kernel='linear')\n",
        "lineal.fit(X_train, y_train)\n",
        "y_pred_lineal = lineal.predict(X_test)\n",
        "accuracy_lineal = accuracy_score(y_test, y_pred_lineal)\n",
        "\n",
        "# SVM radial\n",
        "radial = svm.SVC(kernel='rbf')\n",
        "radial.fit(X_train, y_train)\n",
        "y_pred_radial = radial.predict(X_test)\n",
        "accuracy_radial = accuracy_score(y_test, y_pred_radial)\n",
        "\n",
        "# SVM de kernel polinómico\n",
        "pol = svm.SVC(kernel='poly', degree=3)\n",
        "pol.fit(X_train, y_train)\n",
        "y_pred_pol = pol.predict(X_test)\n",
        "accuracy_pol = accuracy_score(y_test, y_pred_pol)\n",
        "\n",
        "# SVM sigmoidal\n",
        "sig = svm.SVC(kernel='sigmoid')\n",
        "sig.fit(X_train, y_train)\n",
        "y_pred_sig = sig.predict(X_test)\n",
        "accuracy_sig = accuracy_score(y_test, y_pred_sig)\n",
        "\n",
        "precisions = [['SVM lineal', accuracy_lineal],\n",
        "              ['SVM radial', accuracy_radial],\n",
        "              ['SVM polinómico', accuracy_pol],\n",
        "              ['SVM sigmoidal', accuracy_sig]]\n",
        "\n",
        "tabla = pd.DataFrame(precisions, columns=['Modelo SVM', 'Precisión'], index=None)\n",
        "print(tabla.to_string(index=False).format(\"{:<20} {:>10.4f}\"))"
      ],
      "metadata": {
        "colab": {
          "base_uri": "https://localhost:8080/"
        },
        "id": "nictJT8R7ilo",
        "outputId": "36d2086a-c282-4601-a37e-455472cf2365"
      },
      "execution_count": null,
      "outputs": [
        {
          "output_type": "stream",
          "name": "stdout",
          "text": [
            "    Modelo SVM  Precisión\n",
            "    SVM lineal   0.541667\n",
            "    SVM radial   0.595833\n",
            "SVM polinómico   0.537500\n",
            " SVM sigmoidal   0.489583\n"
          ]
        }
      ]
    },
    {
      "cell_type": "markdown",
      "source": [
        "Observamos que el que mejor ajusta los datos es el que tiene el kernel radial, por lo que continuamos con este ajustando los demás parámetros, como los hiper parámetros C y gamma. Comenzamos por ajustar el parámetro C."
      ],
      "metadata": {
        "id": "xzqM3h4DBZXp"
      }
    },
    {
      "cell_type": "code",
      "source": [
        "from sklearn import svm\n",
        "from sklearn.metrics import accuracy_score\n",
        "from sklearn.model_selection import GridSearchCV\n",
        "import pandas as pd\n",
        "\n",
        "# Definir el espacio de búsqueda para los hiperparámetros\n",
        "param_grid = {\n",
        "    'kernel': ['rbf'],\n",
        "    'C': [0.1, 1, 10,100,1000,5000,10000,50000]}\n",
        "\n",
        "# Crear un modelo SVM\n",
        "svm_model = svm.SVC()\n",
        "\n",
        "# Realizar la búsqueda en rejilla\n",
        "grid_search = GridSearchCV(svm_model, param_grid, cv=5, scoring='accuracy')\n",
        "grid_search.fit(X_train, y_train)\n",
        "\n",
        "# Obtener los mejores hiperparámetros\n",
        "best_params = grid_search.best_params_\n",
        "best_model = grid_search.best_estimator_\n",
        "\n",
        "# Realizar predicciones en el conjunto de prueba con el mejor modelo\n",
        "y_pred_best = best_model.predict(X_test)\n",
        "accuracy_best = accuracy_score(y_test, y_pred_best)\n",
        "\n",
        "precisions = [['Mejor SVM', accuracy_best]]  # Agrega el mejor modelo\n",
        "\n",
        "tabla = pd.DataFrame(precisions, columns=['Modelo SVM', 'Precisión'], index=None)\n",
        "print(tabla.to_string(index=False).format(\"{:<20} {:>10.4f}\"))\n",
        "best_kernel = best_model.kernel\n",
        "best_C = best_model.C\n",
        "best_gamma = best_model.gamma\n",
        "\n",
        "print(\" Mejor kernel:\", best_kernel)\n",
        "print(\" Mejor valor de C:\", best_C)\n",
        "print(\" Mejor valor de gamma:\", best_gamma)"
      ],
      "metadata": {
        "colab": {
          "base_uri": "https://localhost:8080/"
        },
        "id": "-zLy2ZgM8YcI",
        "outputId": "1856b03a-e813-46fd-bf5d-37769cf63104"
      },
      "execution_count": null,
      "outputs": [
        {
          "metadata": {
            "tags": null
          },
          "name": "stdout",
          "output_type": "stream",
          "text": [
            "Modelo SVM  Precisión\n",
            " Mejor SVM     0.9125\n",
            " Mejor kernel: rbf\n",
            " Mejor valor de C: 50000\n",
            " Mejor valor de gamma: scale\n"
          ]
        }
      ]
    },
    {
      "cell_type": "markdown",
      "source": [
        "Vemos que nos da mejor ajuste con mayor C, es decir, 50000, esto seguramnte sea porque al ser la calle más ancha, quedan más valores en l calle sin estar bien clasificados.\n",
        "Ahora vamos a ver cual es el gamma que más se ajusta."
      ],
      "metadata": {
        "id": "C5VnL3_7BsCt"
      }
    },
    {
      "cell_type": "code",
      "source": [
        "from sklearn import svm\n",
        "from sklearn.metrics import accuracy_score\n",
        "from sklearn.model_selection import GridSearchCV\n",
        "import pandas as pd\n",
        "\n",
        "# Definir el espacio de búsqueda para los hiperparámetros\n",
        "param_grid = {\n",
        "    'kernel': ['rbf'],\n",
        "    'C': [50000],\n",
        "    'gamma': [1,10,30,50]}\n",
        "\n",
        "# Crear un modelo SVM\n",
        "svm_model = svm.SVC()\n",
        "\n",
        "# Realizar la búsqueda en rejilla\n",
        "grid_search = GridSearchCV(svm_model, param_grid, cv=5, scoring='accuracy')\n",
        "grid_search.fit(X_train, y_train)\n",
        "\n",
        "# Obtener los mejores hiperparámetros\n",
        "best_params = grid_search.best_params_\n",
        "best_model = grid_search.best_estimator_\n",
        "\n",
        "# Realizar predicciones en el conjunto de prueba con el mejor modelo\n",
        "y_pred_best = best_model.predict(X_test)\n",
        "accuracy_best = accuracy_score(y_test, y_pred_best)\n",
        "\n",
        "tabla = pd.DataFrame(precisions, columns=['Modelo SVM', 'Precisión'], index=None)\n",
        "print(tabla.to_string(index=False).format(\"{:<20} {:>10.4f}\"))"
      ],
      "metadata": {
        "colab": {
          "base_uri": "https://localhost:8080/"
        },
        "id": "VsBEwDNX9kFw",
        "outputId": "fb812071-0cb1-4154-ffa0-854be7942ec0"
      },
      "execution_count": null,
      "outputs": [
        {
          "metadata": {
            "tags": null
          },
          "name": "stdout",
          "output_type": "stream",
          "text": [
            "Modelo SVM  Precisión\n",
            " Mejor SVM     0.9125\n"
          ]
        }
      ]
    },
    {
      "cell_type": "code",
      "source": [
        "best_kernel = best_model.kernel\n",
        "best_C = best_model.C\n",
        "best_gamma = best_model.gamma\n",
        "\n",
        "print(\" Mejor kernel:\", best_kernel)\n",
        "print(\" Mejor valor de C:\", best_C)\n",
        "print(\" Mejor valor de gamma:\", best_gamma)"
      ],
      "metadata": {
        "colab": {
          "base_uri": "https://localhost:8080/"
        },
        "id": "6Mwqe2_Y_joJ",
        "outputId": "ba9c4b40-15ad-4fd5-b2d1-9eb3b1a92da1"
      },
      "execution_count": null,
      "outputs": [
        {
          "metadata": {
            "tags": null
          },
          "name": "stdout",
          "output_type": "stream",
          "text": [
            " Mejor kernel: rbf\n",
            " Mejor valor de C: 50000\n",
            " Mejor valor de gamma: 30\n"
          ]
        }
      ]
    },
    {
      "cell_type": "code",
      "source": [
        "# Crear un modelo SVM\n",
        "svm_model = svm.SVC(kernel = 'rbf', C = 50000, gamma = 1)\n",
        "svm_model.fit(X_train, y_train)\n"
      ],
      "metadata": {
        "id": "LqU_BaeUDpaM",
        "outputId": "eb6d739a-58ce-41a3-d67a-7d5388b32a3b",
        "colab": {
          "base_uri": "https://localhost:8080/",
          "height": 74
        }
      },
      "execution_count": null,
      "outputs": [
        {
          "data": {
            "text/html": [
              "<style>#sk-container-id-2 {color: black;background-color: white;}#sk-container-id-2 pre{padding: 0;}#sk-container-id-2 div.sk-toggleable {background-color: white;}#sk-container-id-2 label.sk-toggleable__label {cursor: pointer;display: block;width: 100%;margin-bottom: 0;padding: 0.3em;box-sizing: border-box;text-align: center;}#sk-container-id-2 label.sk-toggleable__label-arrow:before {content: \"▸\";float: left;margin-right: 0.25em;color: #696969;}#sk-container-id-2 label.sk-toggleable__label-arrow:hover:before {color: black;}#sk-container-id-2 div.sk-estimator:hover label.sk-toggleable__label-arrow:before {color: black;}#sk-container-id-2 div.sk-toggleable__content {max-height: 0;max-width: 0;overflow: hidden;text-align: left;background-color: #f0f8ff;}#sk-container-id-2 div.sk-toggleable__content pre {margin: 0.2em;color: black;border-radius: 0.25em;background-color: #f0f8ff;}#sk-container-id-2 input.sk-toggleable__control:checked~div.sk-toggleable__content {max-height: 200px;max-width: 100%;overflow: auto;}#sk-container-id-2 input.sk-toggleable__control:checked~label.sk-toggleable__label-arrow:before {content: \"▾\";}#sk-container-id-2 div.sk-estimator input.sk-toggleable__control:checked~label.sk-toggleable__label {background-color: #d4ebff;}#sk-container-id-2 div.sk-label input.sk-toggleable__control:checked~label.sk-toggleable__label {background-color: #d4ebff;}#sk-container-id-2 input.sk-hidden--visually {border: 0;clip: rect(1px 1px 1px 1px);clip: rect(1px, 1px, 1px, 1px);height: 1px;margin: -1px;overflow: hidden;padding: 0;position: absolute;width: 1px;}#sk-container-id-2 div.sk-estimator {font-family: monospace;background-color: #f0f8ff;border: 1px dotted black;border-radius: 0.25em;box-sizing: border-box;margin-bottom: 0.5em;}#sk-container-id-2 div.sk-estimator:hover {background-color: #d4ebff;}#sk-container-id-2 div.sk-parallel-item::after {content: \"\";width: 100%;border-bottom: 1px solid gray;flex-grow: 1;}#sk-container-id-2 div.sk-label:hover label.sk-toggleable__label {background-color: #d4ebff;}#sk-container-id-2 div.sk-serial::before {content: \"\";position: absolute;border-left: 1px solid gray;box-sizing: border-box;top: 0;bottom: 0;left: 50%;z-index: 0;}#sk-container-id-2 div.sk-serial {display: flex;flex-direction: column;align-items: center;background-color: white;padding-right: 0.2em;padding-left: 0.2em;position: relative;}#sk-container-id-2 div.sk-item {position: relative;z-index: 1;}#sk-container-id-2 div.sk-parallel {display: flex;align-items: stretch;justify-content: center;background-color: white;position: relative;}#sk-container-id-2 div.sk-item::before, #sk-container-id-2 div.sk-parallel-item::before {content: \"\";position: absolute;border-left: 1px solid gray;box-sizing: border-box;top: 0;bottom: 0;left: 50%;z-index: -1;}#sk-container-id-2 div.sk-parallel-item {display: flex;flex-direction: column;z-index: 1;position: relative;background-color: white;}#sk-container-id-2 div.sk-parallel-item:first-child::after {align-self: flex-end;width: 50%;}#sk-container-id-2 div.sk-parallel-item:last-child::after {align-self: flex-start;width: 50%;}#sk-container-id-2 div.sk-parallel-item:only-child::after {width: 0;}#sk-container-id-2 div.sk-dashed-wrapped {border: 1px dashed gray;margin: 0 0.4em 0.5em 0.4em;box-sizing: border-box;padding-bottom: 0.4em;background-color: white;}#sk-container-id-2 div.sk-label label {font-family: monospace;font-weight: bold;display: inline-block;line-height: 1.2em;}#sk-container-id-2 div.sk-label-container {text-align: center;}#sk-container-id-2 div.sk-container {/* jupyter's `normalize.less` sets `[hidden] { display: none; }` but bootstrap.min.css set `[hidden] { display: none !important; }` so we also need the `!important` here to be able to override the default hidden behavior on the sphinx rendered scikit-learn.org. See: https://github.com/scikit-learn/scikit-learn/issues/21755 */display: inline-block !important;position: relative;}#sk-container-id-2 div.sk-text-repr-fallback {display: none;}</style><div id=\"sk-container-id-2\" class=\"sk-top-container\"><div class=\"sk-text-repr-fallback\"><pre>SVC(C=50000, gamma=1)</pre><b>In a Jupyter environment, please rerun this cell to show the HTML representation or trust the notebook. <br />On GitHub, the HTML representation is unable to render, please try loading this page with nbviewer.org.</b></div><div class=\"sk-container\" hidden><div class=\"sk-item\"><div class=\"sk-estimator sk-toggleable\"><input class=\"sk-toggleable__control sk-hidden--visually\" id=\"sk-estimator-id-2\" type=\"checkbox\" checked><label for=\"sk-estimator-id-2\" class=\"sk-toggleable__label sk-toggleable__label-arrow\">SVC</label><div class=\"sk-toggleable__content\"><pre>SVC(C=50000, gamma=1)</pre></div></div></div></div></div>"
            ],
            "text/plain": [
              "SVC(C=50000, gamma=1)"
            ]
          },
          "execution_count": 71,
          "metadata": {},
          "output_type": "execute_result"
        }
      ]
    },
    {
      "cell_type": "markdown",
      "source": [
        "Ahora vamos a utilizar todos los datos para ver si de verdad funciona el modelo."
      ],
      "metadata": {
        "id": "_z-awe0iC0ZU"
      }
    },
    {
      "cell_type": "code",
      "source": [],
      "metadata": {
        "id": "jzYoOOtJDHY2"
      },
      "execution_count": null,
      "outputs": []
    },
    {
      "cell_type": "markdown",
      "source": [
        "#Clase 26/09/2023\n",
        "##Hacer nuestro propio Kernel"
      ],
      "metadata": {
        "id": "G9j4KAS-na8E"
      }
    },
    {
      "cell_type": "markdown",
      "source": [
        "Primero vamos a hacerlo normal"
      ],
      "metadata": {
        "id": "L5okmoLeq4eq"
      }
    },
    {
      "cell_type": "code",
      "source": [
        "X_train = np.array([0,2,4,5,7]).reshape(-1, 1)\n",
        "y_train = np.array([1,1,0,1,1]).reshape(-1, 1)\n",
        "X_test = np.array([1,3,6]).reshape(-1, 1)\n",
        "y_test = np.array([1,0,1]).reshape(-1, 1)"
      ],
      "metadata": {
        "id": "tgxTIVcinjEn"
      },
      "execution_count": null,
      "outputs": []
    },
    {
      "cell_type": "code",
      "source": [
        "from sklearn import svm\n",
        "from sklearn.svm import SVC\n",
        "from sklearn.metrics import accuracy_score\n",
        "\n",
        "#SVM lineal\n",
        "lineal = svm.SVC(kernel='linear')\n",
        "lineal.fit(X_train, y_train)\n",
        "y_pred_lineal = lineal.predict(X_test)\n",
        "accuracy_lineal = accuracy_score(y_test, y_pred_lineal)\n",
        "\n",
        "# SVM radial\n",
        "radial = svm.SVC(kernel='rbf')\n",
        "radial.fit(X_train, y_train)\n",
        "y_pred_radial = radial.predict(X_test)\n",
        "accuracy_radial = accuracy_score(y_test, y_pred_radial)\n",
        "\n",
        "# SVM de kernel polinómico\n",
        "pol = svm.SVC(kernel='poly', degree=3)\n",
        "pol.fit(X_train, y_train)\n",
        "y_pred_pol = pol.predict(X_test)\n",
        "accuracy_pol = accuracy_score(y_test, y_pred_pol)\n",
        "\n",
        "# SVM sigmoidal\n",
        "sig = svm.SVC(kernel='sigmoid')\n",
        "sig.fit(X_train, y_train)\n",
        "y_pred_sig = sig.predict(X_test)\n",
        "accuracy_sig = accuracy_score(y_test, y_pred_sig)\n",
        "\n",
        "precisions = [['SVM lineal', accuracy_lineal],\n",
        "              ['SVM radial', accuracy_radial],\n",
        "              ['SVM polinómico', accuracy_pol],\n",
        "              ['SVM sigmoidal', accuracy_sig]]\n",
        "\n",
        "tabla = pd.DataFrame(precisions, columns=['Modelo SVM', 'Precisión'], index=None)\n",
        "print(tabla.to_string(index=False).format(\"{:<20} {:>10.4f}\"))"
      ],
      "metadata": {
        "id": "b23UpdNQoABH",
        "outputId": "55e857e8-590f-4ab2-86d1-72baa95289ac",
        "colab": {
          "base_uri": "https://localhost:8080/"
        }
      },
      "execution_count": null,
      "outputs": [
        {
          "metadata": {
            "tags": null
          },
          "name": "stdout",
          "output_type": "stream",
          "text": [
            "    Modelo SVM  Precisión\n",
            "    SVM lineal   0.666667\n",
            "    SVM radial   0.666667\n",
            "SVM polinómico   0.666667\n",
            " SVM sigmoidal   0.666667\n"
          ]
        },
        {
          "metadata": {
            "tags": null
          },
          "name": "stderr",
          "output_type": "stream",
          "text": [
            "/usr/local/lib/python3.10/dist-packages/sklearn/utils/validation.py:1143: DataConversionWarning: A column-vector y was passed when a 1d array was expected. Please change the shape of y to (n_samples, ), for example using ravel().\n",
            "  y = column_or_1d(y, warn=True)\n",
            "/usr/local/lib/python3.10/dist-packages/sklearn/utils/validation.py:1143: DataConversionWarning: A column-vector y was passed when a 1d array was expected. Please change the shape of y to (n_samples, ), for example using ravel().\n",
            "  y = column_or_1d(y, warn=True)\n",
            "/usr/local/lib/python3.10/dist-packages/sklearn/utils/validation.py:1143: DataConversionWarning: A column-vector y was passed when a 1d array was expected. Please change the shape of y to (n_samples, ), for example using ravel().\n",
            "  y = column_or_1d(y, warn=True)\n",
            "/usr/local/lib/python3.10/dist-packages/sklearn/utils/validation.py:1143: DataConversionWarning: A column-vector y was passed when a 1d array was expected. Please change the shape of y to (n_samples, ), for example using ravel().\n",
            "  y = column_or_1d(y, warn=True)\n"
          ]
        }
      ]
    },
    {
      "cell_type": "markdown",
      "source": [
        "Y ahora vamos a adaptar nuestro modelo, viendo los datos vemos que el 0,1,2 son una categoria (1), 3 y 4 son la categoría (2) y los demás vulven a ser la categoría 1. Para adaptarlo vamos a mapear, es decir, adaptar nuestros datos.\n",
        "Creando una parábola ya que nuestros puntos lo reuqieren"
      ],
      "metadata": {
        "id": "OYm5kAZVq_7T"
      }
    },
    {
      "cell_type": "code",
      "source": [
        "X_train = np.array([0,2,4,5,7])\n",
        "y_train = np.array([1,1,0,1,1])\n",
        "X_test = np.array([1,3,6])\n",
        "y_test = np.array([1,0,1])"
      ],
      "metadata": {
        "id": "MO4nkwqirPGA"
      },
      "execution_count": null,
      "outputs": []
    },
    {
      "cell_type": "code",
      "source": [
        "\n",
        "X_train_map = np.array([[i,(i-3.5)**2] for i in X_train])\n",
        "X_test_map = np.array([[i,(i-3.5)**2] for i in X_test])\n",
        "\n",
        "\n",
        "from sklearn import svm\n",
        "from sklearn.svm import SVC\n",
        "from sklearn.metrics import accuracy_score\n",
        "\n",
        "#SVM lineal\n",
        "lineal = SVC(kernel='linear')\n",
        "lineal.fit(X_train_map, y_train)\n",
        "accuracy_lineal = lineal.score(X_test_map, y_test)\n",
        "\n",
        "accuracy_lineal"
      ],
      "metadata": {
        "id": "SD8j5fCqsQiq",
        "outputId": "5349256c-202a-4912-88af-fc2e002094da",
        "colab": {
          "base_uri": "https://localhost:8080/"
        }
      },
      "execution_count": null,
      "outputs": [
        {
          "data": {
            "text/plain": [
              "1.0"
            ]
          },
          "execution_count": 75,
          "metadata": {},
          "output_type": "execute_result"
        }
      ]
    },
    {
      "cell_type": "markdown",
      "source": [
        "Ahora tenemos una división perfecta de los datos.\n",
        "\n",
        "Para hacer un kernel que me clasifique bien los datos, para conseguir el kernel tenemos que hacer una matriz de productos de todos los vectores con todos, ese es nuestro kernel."
      ],
      "metadata": {
        "id": "tcjocBMduwic"
      }
    },
    {
      "cell_type": "code",
      "source": [
        "def kernel(x1, x2):\n",
        "  k = []\n",
        "  for i in x1:\n",
        "    L = []\n",
        "    for j in x2:\n",
        "      L.append(i.dot.j)\n",
        "    k.append(L)\n",
        "  return k"
      ],
      "metadata": {
        "id": "d5tSkZhxw6w1"
      },
      "execution_count": null,
      "outputs": []
    },
    {
      "cell_type": "code",
      "source": [],
      "metadata": {
        "id": "_P4jiCl2y9LR"
      },
      "execution_count": null,
      "outputs": []
    },
    {
      "cell_type": "code",
      "source": [
        "y_train_map = np.array([[i,(i-3.5)**2] for i in y_train])\n",
        "y_test_map = np.array([[i,(i-3.5)**2] for i in y_test])"
      ],
      "metadata": {
        "id": "5ETnFrGJukc3"
      },
      "execution_count": null,
      "outputs": []
    },
    {
      "cell_type": "markdown",
      "source": [
        "#Clase 03/10/2023\n",
        "\n",
        "Estas son las librerias que necesitamos para hacer un kernel quántico"
      ],
      "metadata": {
        "id": "loytBYEiqgGk"
      }
    },
    {
      "cell_type": "code",
      "source": [
        "!pip install qiskit"
      ],
      "metadata": {
        "colab": {
          "base_uri": "https://localhost:8080/"
        },
        "id": "khFgvlsWrUM7",
        "outputId": "3e079b60-8161-4f79-a73d-d14d47ced5df"
      },
      "execution_count": null,
      "outputs": [
        {
          "output_type": "stream",
          "name": "stdout",
          "text": [
            "Collecting qiskit\n",
            "  Downloading qiskit-0.44.1-py3-none-any.whl (8.2 kB)\n",
            "Collecting qiskit-terra==0.25.1 (from qiskit)\n",
            "  Downloading qiskit_terra-0.25.1-cp38-abi3-manylinux_2_17_x86_64.manylinux2014_x86_64.whl (6.1 MB)\n",
            "\u001b[2K     \u001b[90m━━━━━━━━━━━━━━━━━━━━━━━━━━━━━━━━━━━━━━━━\u001b[0m \u001b[32m6.1/6.1 MB\u001b[0m \u001b[31m41.6 MB/s\u001b[0m eta \u001b[36m0:00:00\u001b[0m\n",
            "\u001b[?25hCollecting rustworkx>=0.13.0 (from qiskit-terra==0.25.1->qiskit)\n",
            "  Downloading rustworkx-0.13.1-cp310-cp310-manylinux_2_17_x86_64.manylinux2014_x86_64.whl (2.0 MB)\n",
            "\u001b[2K     \u001b[90m━━━━━━━━━━━━━━━━━━━━━━━━━━━━━━━━━━━━━━━━\u001b[0m \u001b[32m2.0/2.0 MB\u001b[0m \u001b[31m63.0 MB/s\u001b[0m eta \u001b[36m0:00:00\u001b[0m\n",
            "\u001b[?25hRequirement already satisfied: numpy>=1.17 in /usr/local/lib/python3.10/dist-packages (from qiskit-terra==0.25.1->qiskit) (1.23.5)\n",
            "Collecting ply>=3.10 (from qiskit-terra==0.25.1->qiskit)\n",
            "  Downloading ply-3.11-py2.py3-none-any.whl (49 kB)\n",
            "\u001b[2K     \u001b[90m━━━━━━━━━━━━━━━━━━━━━━━━━━━━━━━━━━━━━━━━\u001b[0m \u001b[32m49.6/49.6 kB\u001b[0m \u001b[31m5.4 MB/s\u001b[0m eta \u001b[36m0:00:00\u001b[0m\n",
            "\u001b[?25hRequirement already satisfied: psutil>=5 in /usr/local/lib/python3.10/dist-packages (from qiskit-terra==0.25.1->qiskit) (5.9.5)\n",
            "Requirement already satisfied: scipy>=1.5 in /usr/local/lib/python3.10/dist-packages (from qiskit-terra==0.25.1->qiskit) (1.11.3)\n",
            "Requirement already satisfied: sympy>=1.3 in /usr/local/lib/python3.10/dist-packages (from qiskit-terra==0.25.1->qiskit) (1.12)\n",
            "Collecting dill>=0.3 (from qiskit-terra==0.25.1->qiskit)\n",
            "  Downloading dill-0.3.7-py3-none-any.whl (115 kB)\n",
            "\u001b[2K     \u001b[90m━━━━━━━━━━━━━━━━━━━━━━━━━━━━━━━━━━━━━━\u001b[0m \u001b[32m115.3/115.3 kB\u001b[0m \u001b[31m12.0 MB/s\u001b[0m eta \u001b[36m0:00:00\u001b[0m\n",
            "\u001b[?25hRequirement already satisfied: python-dateutil>=2.8.0 in /usr/local/lib/python3.10/dist-packages (from qiskit-terra==0.25.1->qiskit) (2.8.2)\n",
            "Collecting stevedore>=3.0.0 (from qiskit-terra==0.25.1->qiskit)\n",
            "  Downloading stevedore-5.1.0-py3-none-any.whl (49 kB)\n",
            "\u001b[2K     \u001b[90m━━━━━━━━━━━━━━━━━━━━━━━━━━━━━━━━━━━━━━━━\u001b[0m \u001b[32m49.6/49.6 kB\u001b[0m \u001b[31m6.1 MB/s\u001b[0m eta \u001b[36m0:00:00\u001b[0m\n",
            "\u001b[?25hCollecting symengine<0.10,>=0.9 (from qiskit-terra==0.25.1->qiskit)\n",
            "  Downloading symengine-0.9.2-cp310-cp310-manylinux2010_x86_64.whl (37.5 MB)\n",
            "\u001b[2K     \u001b[90m━━━━━━━━━━━━━━━━━━━━━━━━━━━━━━━━━━━━━━━━\u001b[0m \u001b[32m37.5/37.5 MB\u001b[0m \u001b[31m17.1 MB/s\u001b[0m eta \u001b[36m0:00:00\u001b[0m\n",
            "\u001b[?25hRequirement already satisfied: typing-extensions in /usr/local/lib/python3.10/dist-packages (from qiskit-terra==0.25.1->qiskit) (4.5.0)\n",
            "Requirement already satisfied: six>=1.5 in /usr/local/lib/python3.10/dist-packages (from python-dateutil>=2.8.0->qiskit-terra==0.25.1->qiskit) (1.16.0)\n",
            "Collecting pbr!=2.1.0,>=2.0.0 (from stevedore>=3.0.0->qiskit-terra==0.25.1->qiskit)\n",
            "  Downloading pbr-5.11.1-py2.py3-none-any.whl (112 kB)\n",
            "\u001b[2K     \u001b[90m━━━━━━━━━━━━━━━━━━━━━━━━━━━━━━━━━━━━━━\u001b[0m \u001b[32m112.7/112.7 kB\u001b[0m \u001b[31m14.2 MB/s\u001b[0m eta \u001b[36m0:00:00\u001b[0m\n",
            "\u001b[?25hRequirement already satisfied: mpmath>=0.19 in /usr/local/lib/python3.10/dist-packages (from sympy>=1.3->qiskit-terra==0.25.1->qiskit) (1.3.0)\n",
            "Installing collected packages: ply, symengine, rustworkx, pbr, dill, stevedore, qiskit-terra, qiskit\n",
            "Successfully installed dill-0.3.7 pbr-5.11.1 ply-3.11 qiskit-0.44.1 qiskit-terra-0.25.1 rustworkx-0.13.1 stevedore-5.1.0 symengine-0.9.2\n"
          ]
        }
      ]
    },
    {
      "cell_type": "code",
      "source": [
        "from qiskit.circuit.library import ZZFeatureMap\n",
        "from sklearn.svm import SVC"
      ],
      "metadata": {
        "id": "CRkLjSdUqfZJ"
      },
      "execution_count": null,
      "outputs": []
    },
    {
      "cell_type": "markdown",
      "source": [
        "¿Como le decimos que circuito usar para elcircuit bag? Para eso tenemos circuitos del tipo(1)"
      ],
      "metadata": {
        "id": "LUhIy4uUqnl5"
      }
    },
    {
      "cell_type": "code",
      "source": [
        "#Feature dimension =número de atribruto, número de reps, entrelazamiento, data_map, prefijo, si pide barreras o no\n",
        "adhoc_feature_map = ZZFeatureMap(feature_dimension=adhoc_dimension, reps=2, entanglement=\"linear\")"
      ],
      "metadata": {
        "colab": {
          "base_uri": "https://localhost:8080/",
          "height": 192
        },
        "id": "GdDH-lVDtHDy",
        "outputId": "2b031a81-cf90-4a8f-e07f-77de8b68e46e"
      },
      "execution_count": null,
      "outputs": [
        {
          "output_type": "error",
          "ename": "NameError",
          "evalue": "ignored",
          "traceback": [
            "\u001b[0;31m---------------------------------------------------------------------------\u001b[0m",
            "\u001b[0;31mNameError\u001b[0m                                 Traceback (most recent call last)",
            "\u001b[0;32m<ipython-input-9-fbd0f48ebec0>\u001b[0m in \u001b[0;36m<cell line: 2>\u001b[0;34m()\u001b[0m\n\u001b[1;32m      1\u001b[0m \u001b[0;31m#Feature dimension =número de atribruto, número de reps, entrelazamiento, data_map, prefijo, si pide barreras o no\u001b[0m\u001b[0;34m\u001b[0m\u001b[0;34m\u001b[0m\u001b[0m\n\u001b[0;32m----> 2\u001b[0;31m \u001b[0madhoc_feature_map\u001b[0m \u001b[0;34m=\u001b[0m \u001b[0mZZFeatureMap\u001b[0m\u001b[0;34m(\u001b[0m\u001b[0mfeature_dimension\u001b[0m\u001b[0;34m=\u001b[0m\u001b[0madhoc_dimension\u001b[0m\u001b[0;34m,\u001b[0m \u001b[0mreps\u001b[0m\u001b[0;34m=\u001b[0m\u001b[0;36m2\u001b[0m\u001b[0;34m,\u001b[0m \u001b[0mentanglement\u001b[0m\u001b[0;34m=\u001b[0m\u001b[0;34m\"linear\"\u001b[0m\u001b[0;34m)\u001b[0m\u001b[0;34m\u001b[0m\u001b[0;34m\u001b[0m\u001b[0m\n\u001b[0m",
            "\u001b[0;31mNameError\u001b[0m: name 'adhoc_dimension' is not defined"
          ]
        }
      ]
    },
    {
      "cell_type": "markdown",
      "source": [
        "\n",
        "Hay que tener cuidado con la dimension tmabién si el circuito es muy grande puede dar error ¿que hacemos si tenemos 50 colunas? -> PCA, disminuir dimensiones es peligroso porque a veces puedes perder la esencia de lo que estás haciendo en PCA se fia de la variabilidad de los datos.\n",
        "![image.png](data:image/png;base64,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)\n",
        "\n",
        "Podemos ver que el PCA1 nos da un accuracy malo y sin embargo el PCA2 nos da el 100% miramos como su fuese un folio perpendicular avanzanco en esa direccion.\n",
        "\n",
        "Otra manera de reducir la dimensionalidad es utilizar el random forest.\n",
        "\n",
        "No es una forma facil de ver que features le gustan al modelo cuántico.\n",
        "\n",
        "Ver lo de Random forest -> SFS(clase)\n",
        "\n",
        "La función U hace que rote a la izq todos los estados, es decir, es la puerta Z de pauli en el 'medio de la esfera' aplicando la puesta de hadamar. Pero para utilzar la U hay que escar los datos entre 0 y 2pi, ya que si metemos un valor mayor obtendrá el mismo valor que otro, se solapará y no codificará bien.\n",
        "\n",
        "Este feature Map hace es que puede definir un operador de dos en dos de la puerta Z.\n",
        "Pone una puerta de hadamar primero para llevarlo al eje Z para luego hacer rotacionescon la puerta Z (que son las U´s lo que vimos el otro dia.\n",
        "\n",
        "La función que llama a fi es el mata_map_func, esto hace que no se los vaya el ángulo dando vueltas todo el rato.\n",
        "\n",
        "Luego hace entrelazamiento por lo que se mueve un poco rara, y dentro de este, hace rotaciones conjuntas.\n",
        "\n",
        "Esto se puede solucionar con la función que vimos que escala en [0,2pi]. Hay que tener cuidado con el 2, por lo que no ponemos 2pi. No nos tenemos que pasar de 2pi, porque lo que hace al escalar es una función, si nos pasamos estamos codificando mal y obtendría dos valores iguales escalados para uno mismo\n",
        "\n",
        "Luego hace entrelazamiento por lo que se mueve un poco rara, y dentro de este, hace rotaciones conjuntas.\n",
        "\n"
      ],
      "metadata": {
        "id": "CWShsR61tHnY"
      }
    },
    {
      "cell_type": "markdown",
      "source": [
        "Tipo de entrelazamientos:\n",
        ". Lineal:\n",
        "\n",
        "![image.png](data:image/png;base64,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)\n",
        "\n",
        ". Circular:\n",
        "\n",
        "![image.png](data:image/png;base64,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)\n",
        "\n",
        ". Full:\n",
        "![image.png](data:image/png;base64,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)"
      ],
      "metadata": {
        "id": "v589-FeXxjlv"
      }
    },
    {
      "cell_type": "markdown",
      "source": [
        "Siempre hay que pensar si el circuito que se está haciendo se ajunta a lo que tenemos para procesarlo.\n",
        "\n",
        "Los más interesantes para que sea realista es liak o circular, repeticiones 1 o 2, 3 si tenmos muy pocas features (2 por ejemplo), si tenemos 10 o 12, ni de coña."
      ],
      "metadata": {
        "id": "bpR6SdVux3GV"
      }
    },
    {
      "cell_type": "markdown",
      "source": [
        "Queremos aplicaciones ded más alto nivel para evitar el hw. Para esto es lo que en qistkit se llama primitiva -> PRIMITIVES\n",
        "\n",
        "De estas tenemos dos:\n",
        "-Sampler\n",
        "-Eliminator\n",
        "\n",
        "Las dos cosas que hacemos con un computador cuántico:\n",
        "- Le mandamos un circuito para que haga cuentas, medimos y sacamos los histogramas (lo de las barras) Sambler en vez de hacer un run normal, es que tiene unos mecanismos de mitigación de errores, que lo podemos poner como parámetros (nivel de 1,2,3) y utiliza menos cosas o más cosas. Por dentro el Sample utiliza la mitigación, luego hace el run, luego más mitigación, y nos devuelve una quasi-probabilites (en vez de darnos el número de las cuentas como hacemos normalmente, nos dice el equivalente corregido es 50% en este estado, 50% en el otro)\n",
        "Al final estas quasi-prob. no tienen por qué sumar uno, porque no son medidas si no corregidas.\n",
        "-  El estimador lo que hace es que: a veces lo que buscamos es un valor esperado: |<fi|H|fi>|^2 nos dice el valor esperado de esto -> se utiliza en optimización. Lo devuelve con un error -> La diferencia entre esto y medir es mínima, lo que hace aquí es que en vez de medir en la Z, lo queremos en una dirección concreta -> esto es poniendo puertas de hadamard al principio para llevarlo a la Z y rotarlo y luego devolverlo con otra puerta Z, pero este estimador lo hace directamente."
      ],
      "metadata": {
        "id": "CaU1bvtrzvD6"
      }
    },
    {
      "cell_type": "code",
      "source": [
        "adhoc_feature_map = ZZFeatureMap(feature_dimension=adhoc_dimension, reps=2, entanglement=\"linear\")\n",
        "\n",
        "sampler = Sampler() #Hace automatiamnete lo de elegir computadro y tal\n",
        "\n",
        "fidelity = ComputeUncompute(sampler=sampler)\n",
        "\n",
        "adhoc_kernel = FidelityQuantumKernel(fidelity=fidelity, feature_map=adhoc_feature_map)\n",
        "\n",
        "#lo llama fidelity porque compara dos valores, cuanto se parece"
      ],
      "metadata": {
        "id": "6Xq2y2z41k5c"
      },
      "execution_count": null,
      "outputs": []
    },
    {
      "cell_type": "markdown",
      "source": [
        "Si ponemos el nivel más alto de sampler es chungo porque manda un montón de circuitos adicionales con una sola puerta ... (no sé) pero solo se usa con hw real\n",
        "Todo lo de los errores se usa en los ordenadores reales unicamente\n",
        "\n",
        "Lo de ComputeUncomputer: si yo tengo un feature map tal que:\n",
        "\n",
        "![image.png](data:image/png;base64,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)"
      ],
      "metadata": {
        "id": "efPJdENJ25IS"
      }
    },
    {
      "cell_type": "markdown",
      "source": [
        "Al hacer el inverso conjugado es que los paréntesis van al revés y la rotación la empieza al otro lado La primera parte me crea el vector del punto A, y la otra parte el vector del punto B en inverso conjugado para que los pueda comparar\n",
        "\n",
        "Para convertir datos al mundo cuántico tengo que hacer un circuito que los pase a unos estados. Lo que hacemos de <fi(B)|fi(A)> es para ver cómo de parecidos son, lo que devuelve un número, que es la probabilidad de que de 0 (lo equivalente cuántico al producto escalar)\n",
        "\n",
        "Cuando medimos algo, lo que hacemos es <0|fi>, que lo que hacemos es compararlo con el 0.\n",
        "\n",
        "Dependiendo de cómo se haga el circuito es un buen kernel o no. Si utilizo zzfeature map, le pasas ángulos uniformes y te reparte los vectores por todo el espacio. No es ni bueno ni malo, es bueno si como están repartidos tus datos son separables, si no, de qué nos vale. Es facil probarlo, porque le ponemos la función y le damos valores.\n",
        "\n",
        "Si yo conozco algo sobre la estructira de los datos, puedo hacer un zzfeature map que los separe bien. Esto se puede ver en química, si una molécula reacciona con otra, lo que depende de la estructura de los orbitales, lo que me monta algo que tenga que ver con las estructuras químicas. Hacemos un feature map a medida por así decirlo.\n",
        "\n",
        "En criptografía también está funcionando -> los problemas con el alg.discreto -> si yo lo uso para codificar mis datos, acabo con una nube de puntos que parece ruido, unoo clásico no es capaz de deshacerlo, como sé que tengo estructura de logaritmo -> algoritmo de shor -> me aprende\n",
        "\n",
        "Es dificil saber la estructura que tienen los datos.\n",
        "\n",
        "Dense coding -> imagen de las 9,00 ponerlo\n",
        "\n",
        "Feature map lo definimos utilizando ZZ, hay más maneras ( aquí qiskit.circuit.library ), pero luego podemos hacer el nuestro con nuestros parámetros.\n",
        "\n",
        "Ir a kaggle, seleccionar un conjunto de datos que la gente usa en clásico y no se separa bien, y probar a jugar con features maps diferentes, pca\n",
        "\n",
        "![image.png](data:image/png;base64,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)\n",
        "\n"
      ],
      "metadata": {
        "id": "hh1BR4Bd28rA"
      }
    },
    {
      "cell_type": "markdown",
      "source": [
        "#Clase 05/10/2023"
      ],
      "metadata": {
        "id": "_I_Tv_J0AWMy"
      }
    },
    {
      "cell_type": "code",
      "source": [
        "#Importamos las librerías y la base de datos necesarias\n",
        "\n",
        "import numpy as np #numpy\n",
        "import pandas as pd #pandas\n",
        "import sklearn as sk #scikit-learn\n",
        "import matplotlib.pyplot as plt #gráfica Matplotlib\n",
        "from tabulate import tabulate\n",
        "from sklearn.model_selection import train_test_split\n",
        "\n",
        "df = pd.read_csv('heart_cleveland.csv',sep=',')\n",
        "df.info()\n",
        "df"
      ],
      "metadata": {
        "id": "qt2iF5KeDFDe",
        "outputId": "2aace802-1a45-4ba8-fed5-b2181f38b97d",
        "colab": {
          "base_uri": "https://localhost:8080/",
          "height": 788
        }
      },
      "execution_count": 4,
      "outputs": [
        {
          "output_type": "stream",
          "name": "stdout",
          "text": [
            "<class 'pandas.core.frame.DataFrame'>\n",
            "RangeIndex: 297 entries, 0 to 296\n",
            "Data columns (total 14 columns):\n",
            " #   Column     Non-Null Count  Dtype  \n",
            "---  ------     --------------  -----  \n",
            " 0   age        297 non-null    int64  \n",
            " 1   sex        297 non-null    int64  \n",
            " 2   cp         297 non-null    int64  \n",
            " 3   trestbps   297 non-null    int64  \n",
            " 4   chol       297 non-null    int64  \n",
            " 5   fbs        297 non-null    int64  \n",
            " 6   restecg    297 non-null    int64  \n",
            " 7   thalach    297 non-null    int64  \n",
            " 8   exang      297 non-null    int64  \n",
            " 9   oldpeak    297 non-null    float64\n",
            " 10  slope      297 non-null    int64  \n",
            " 11  ca         297 non-null    int64  \n",
            " 12  thal       297 non-null    int64  \n",
            " 13  condition  297 non-null    int64  \n",
            "dtypes: float64(1), int64(13)\n",
            "memory usage: 32.6 KB\n"
          ]
        },
        {
          "output_type": "execute_result",
          "data": {
            "text/plain": [
              "     age  sex  cp  trestbps  chol  fbs  restecg  thalach  exang  oldpeak  \\\n",
              "0     69    1   0       160   234    1        2      131      0      0.1   \n",
              "1     69    0   0       140   239    0        0      151      0      1.8   \n",
              "2     66    0   0       150   226    0        0      114      0      2.6   \n",
              "3     65    1   0       138   282    1        2      174      0      1.4   \n",
              "4     64    1   0       110   211    0        2      144      1      1.8   \n",
              "..   ...  ...  ..       ...   ...  ...      ...      ...    ...      ...   \n",
              "292   40    1   3       152   223    0        0      181      0      0.0   \n",
              "293   39    1   3       118   219    0        0      140      0      1.2   \n",
              "294   35    1   3       120   198    0        0      130      1      1.6   \n",
              "295   35    0   3       138   183    0        0      182      0      1.4   \n",
              "296   35    1   3       126   282    0        2      156      1      0.0   \n",
              "\n",
              "     slope  ca  thal  condition  \n",
              "0        1   1     0          0  \n",
              "1        0   2     0          0  \n",
              "2        2   0     0          0  \n",
              "3        1   1     0          1  \n",
              "4        1   0     0          0  \n",
              "..     ...  ..   ...        ...  \n",
              "292      0   0     2          1  \n",
              "293      1   0     2          1  \n",
              "294      1   0     2          1  \n",
              "295      0   0     0          0  \n",
              "296      0   0     2          1  \n",
              "\n",
              "[297 rows x 14 columns]"
            ],
            "text/html": [
              "\n",
              "  <div id=\"df-618191cf-33be-4437-b712-091e1068f6af\" class=\"colab-df-container\">\n",
              "    <div>\n",
              "<style scoped>\n",
              "    .dataframe tbody tr th:only-of-type {\n",
              "        vertical-align: middle;\n",
              "    }\n",
              "\n",
              "    .dataframe tbody tr th {\n",
              "        vertical-align: top;\n",
              "    }\n",
              "\n",
              "    .dataframe thead th {\n",
              "        text-align: right;\n",
              "    }\n",
              "</style>\n",
              "<table border=\"1\" class=\"dataframe\">\n",
              "  <thead>\n",
              "    <tr style=\"text-align: right;\">\n",
              "      <th></th>\n",
              "      <th>age</th>\n",
              "      <th>sex</th>\n",
              "      <th>cp</th>\n",
              "      <th>trestbps</th>\n",
              "      <th>chol</th>\n",
              "      <th>fbs</th>\n",
              "      <th>restecg</th>\n",
              "      <th>thalach</th>\n",
              "      <th>exang</th>\n",
              "      <th>oldpeak</th>\n",
              "      <th>slope</th>\n",
              "      <th>ca</th>\n",
              "      <th>thal</th>\n",
              "      <th>condition</th>\n",
              "    </tr>\n",
              "  </thead>\n",
              "  <tbody>\n",
              "    <tr>\n",
              "      <th>0</th>\n",
              "      <td>69</td>\n",
              "      <td>1</td>\n",
              "      <td>0</td>\n",
              "      <td>160</td>\n",
              "      <td>234</td>\n",
              "      <td>1</td>\n",
              "      <td>2</td>\n",
              "      <td>131</td>\n",
              "      <td>0</td>\n",
              "      <td>0.1</td>\n",
              "      <td>1</td>\n",
              "      <td>1</td>\n",
              "      <td>0</td>\n",
              "      <td>0</td>\n",
              "    </tr>\n",
              "    <tr>\n",
              "      <th>1</th>\n",
              "      <td>69</td>\n",
              "      <td>0</td>\n",
              "      <td>0</td>\n",
              "      <td>140</td>\n",
              "      <td>239</td>\n",
              "      <td>0</td>\n",
              "      <td>0</td>\n",
              "      <td>151</td>\n",
              "      <td>0</td>\n",
              "      <td>1.8</td>\n",
              "      <td>0</td>\n",
              "      <td>2</td>\n",
              "      <td>0</td>\n",
              "      <td>0</td>\n",
              "    </tr>\n",
              "    <tr>\n",
              "      <th>2</th>\n",
              "      <td>66</td>\n",
              "      <td>0</td>\n",
              "      <td>0</td>\n",
              "      <td>150</td>\n",
              "      <td>226</td>\n",
              "      <td>0</td>\n",
              "      <td>0</td>\n",
              "      <td>114</td>\n",
              "      <td>0</td>\n",
              "      <td>2.6</td>\n",
              "      <td>2</td>\n",
              "      <td>0</td>\n",
              "      <td>0</td>\n",
              "      <td>0</td>\n",
              "    </tr>\n",
              "    <tr>\n",
              "      <th>3</th>\n",
              "      <td>65</td>\n",
              "      <td>1</td>\n",
              "      <td>0</td>\n",
              "      <td>138</td>\n",
              "      <td>282</td>\n",
              "      <td>1</td>\n",
              "      <td>2</td>\n",
              "      <td>174</td>\n",
              "      <td>0</td>\n",
              "      <td>1.4</td>\n",
              "      <td>1</td>\n",
              "      <td>1</td>\n",
              "      <td>0</td>\n",
              "      <td>1</td>\n",
              "    </tr>\n",
              "    <tr>\n",
              "      <th>4</th>\n",
              "      <td>64</td>\n",
              "      <td>1</td>\n",
              "      <td>0</td>\n",
              "      <td>110</td>\n",
              "      <td>211</td>\n",
              "      <td>0</td>\n",
              "      <td>2</td>\n",
              "      <td>144</td>\n",
              "      <td>1</td>\n",
              "      <td>1.8</td>\n",
              "      <td>1</td>\n",
              "      <td>0</td>\n",
              "      <td>0</td>\n",
              "      <td>0</td>\n",
              "    </tr>\n",
              "    <tr>\n",
              "      <th>...</th>\n",
              "      <td>...</td>\n",
              "      <td>...</td>\n",
              "      <td>...</td>\n",
              "      <td>...</td>\n",
              "      <td>...</td>\n",
              "      <td>...</td>\n",
              "      <td>...</td>\n",
              "      <td>...</td>\n",
              "      <td>...</td>\n",
              "      <td>...</td>\n",
              "      <td>...</td>\n",
              "      <td>...</td>\n",
              "      <td>...</td>\n",
              "      <td>...</td>\n",
              "    </tr>\n",
              "    <tr>\n",
              "      <th>292</th>\n",
              "      <td>40</td>\n",
              "      <td>1</td>\n",
              "      <td>3</td>\n",
              "      <td>152</td>\n",
              "      <td>223</td>\n",
              "      <td>0</td>\n",
              "      <td>0</td>\n",
              "      <td>181</td>\n",
              "      <td>0</td>\n",
              "      <td>0.0</td>\n",
              "      <td>0</td>\n",
              "      <td>0</td>\n",
              "      <td>2</td>\n",
              "      <td>1</td>\n",
              "    </tr>\n",
              "    <tr>\n",
              "      <th>293</th>\n",
              "      <td>39</td>\n",
              "      <td>1</td>\n",
              "      <td>3</td>\n",
              "      <td>118</td>\n",
              "      <td>219</td>\n",
              "      <td>0</td>\n",
              "      <td>0</td>\n",
              "      <td>140</td>\n",
              "      <td>0</td>\n",
              "      <td>1.2</td>\n",
              "      <td>1</td>\n",
              "      <td>0</td>\n",
              "      <td>2</td>\n",
              "      <td>1</td>\n",
              "    </tr>\n",
              "    <tr>\n",
              "      <th>294</th>\n",
              "      <td>35</td>\n",
              "      <td>1</td>\n",
              "      <td>3</td>\n",
              "      <td>120</td>\n",
              "      <td>198</td>\n",
              "      <td>0</td>\n",
              "      <td>0</td>\n",
              "      <td>130</td>\n",
              "      <td>1</td>\n",
              "      <td>1.6</td>\n",
              "      <td>1</td>\n",
              "      <td>0</td>\n",
              "      <td>2</td>\n",
              "      <td>1</td>\n",
              "    </tr>\n",
              "    <tr>\n",
              "      <th>295</th>\n",
              "      <td>35</td>\n",
              "      <td>0</td>\n",
              "      <td>3</td>\n",
              "      <td>138</td>\n",
              "      <td>183</td>\n",
              "      <td>0</td>\n",
              "      <td>0</td>\n",
              "      <td>182</td>\n",
              "      <td>0</td>\n",
              "      <td>1.4</td>\n",
              "      <td>0</td>\n",
              "      <td>0</td>\n",
              "      <td>0</td>\n",
              "      <td>0</td>\n",
              "    </tr>\n",
              "    <tr>\n",
              "      <th>296</th>\n",
              "      <td>35</td>\n",
              "      <td>1</td>\n",
              "      <td>3</td>\n",
              "      <td>126</td>\n",
              "      <td>282</td>\n",
              "      <td>0</td>\n",
              "      <td>2</td>\n",
              "      <td>156</td>\n",
              "      <td>1</td>\n",
              "      <td>0.0</td>\n",
              "      <td>0</td>\n",
              "      <td>0</td>\n",
              "      <td>2</td>\n",
              "      <td>1</td>\n",
              "    </tr>\n",
              "  </tbody>\n",
              "</table>\n",
              "<p>297 rows × 14 columns</p>\n",
              "</div>\n",
              "    <div class=\"colab-df-buttons\">\n",
              "\n",
              "  <div class=\"colab-df-container\">\n",
              "    <button class=\"colab-df-convert\" onclick=\"convertToInteractive('df-618191cf-33be-4437-b712-091e1068f6af')\"\n",
              "            title=\"Convert this dataframe to an interactive table.\"\n",
              "            style=\"display:none;\">\n",
              "\n",
              "  <svg xmlns=\"http://www.w3.org/2000/svg\" height=\"24px\" viewBox=\"0 -960 960 960\">\n",
              "    <path d=\"M120-120v-720h720v720H120Zm60-500h600v-160H180v160Zm220 220h160v-160H400v160Zm0 220h160v-160H400v160ZM180-400h160v-160H180v160Zm440 0h160v-160H620v160ZM180-180h160v-160H180v160Zm440 0h160v-160H620v160Z\"/>\n",
              "  </svg>\n",
              "    </button>\n",
              "\n",
              "  <style>\n",
              "    .colab-df-container {\n",
              "      display:flex;\n",
              "      gap: 12px;\n",
              "    }\n",
              "\n",
              "    .colab-df-convert {\n",
              "      background-color: #E8F0FE;\n",
              "      border: none;\n",
              "      border-radius: 50%;\n",
              "      cursor: pointer;\n",
              "      display: none;\n",
              "      fill: #1967D2;\n",
              "      height: 32px;\n",
              "      padding: 0 0 0 0;\n",
              "      width: 32px;\n",
              "    }\n",
              "\n",
              "    .colab-df-convert:hover {\n",
              "      background-color: #E2EBFA;\n",
              "      box-shadow: 0px 1px 2px rgba(60, 64, 67, 0.3), 0px 1px 3px 1px rgba(60, 64, 67, 0.15);\n",
              "      fill: #174EA6;\n",
              "    }\n",
              "\n",
              "    .colab-df-buttons div {\n",
              "      margin-bottom: 4px;\n",
              "    }\n",
              "\n",
              "    [theme=dark] .colab-df-convert {\n",
              "      background-color: #3B4455;\n",
              "      fill: #D2E3FC;\n",
              "    }\n",
              "\n",
              "    [theme=dark] .colab-df-convert:hover {\n",
              "      background-color: #434B5C;\n",
              "      box-shadow: 0px 1px 3px 1px rgba(0, 0, 0, 0.15);\n",
              "      filter: drop-shadow(0px 1px 2px rgba(0, 0, 0, 0.3));\n",
              "      fill: #FFFFFF;\n",
              "    }\n",
              "  </style>\n",
              "\n",
              "    <script>\n",
              "      const buttonEl =\n",
              "        document.querySelector('#df-618191cf-33be-4437-b712-091e1068f6af button.colab-df-convert');\n",
              "      buttonEl.style.display =\n",
              "        google.colab.kernel.accessAllowed ? 'block' : 'none';\n",
              "\n",
              "      async function convertToInteractive(key) {\n",
              "        const element = document.querySelector('#df-618191cf-33be-4437-b712-091e1068f6af');\n",
              "        const dataTable =\n",
              "          await google.colab.kernel.invokeFunction('convertToInteractive',\n",
              "                                                    [key], {});\n",
              "        if (!dataTable) return;\n",
              "\n",
              "        const docLinkHtml = 'Like what you see? Visit the ' +\n",
              "          '<a target=\"_blank\" href=https://colab.research.google.com/notebooks/data_table.ipynb>data table notebook</a>'\n",
              "          + ' to learn more about interactive tables.';\n",
              "        element.innerHTML = '';\n",
              "        dataTable['output_type'] = 'display_data';\n",
              "        await google.colab.output.renderOutput(dataTable, element);\n",
              "        const docLink = document.createElement('div');\n",
              "        docLink.innerHTML = docLinkHtml;\n",
              "        element.appendChild(docLink);\n",
              "      }\n",
              "    </script>\n",
              "  </div>\n",
              "\n",
              "\n",
              "<div id=\"df-52090a1f-c6a5-4bc5-8fdd-2e2f0c10a60f\">\n",
              "  <button class=\"colab-df-quickchart\" onclick=\"quickchart('df-52090a1f-c6a5-4bc5-8fdd-2e2f0c10a60f')\"\n",
              "            title=\"Suggest charts.\"\n",
              "            style=\"display:none;\">\n",
              "\n",
              "<svg xmlns=\"http://www.w3.org/2000/svg\" height=\"24px\"viewBox=\"0 0 24 24\"\n",
              "     width=\"24px\">\n",
              "    <g>\n",
              "        <path d=\"M19 3H5c-1.1 0-2 .9-2 2v14c0 1.1.9 2 2 2h14c1.1 0 2-.9 2-2V5c0-1.1-.9-2-2-2zM9 17H7v-7h2v7zm4 0h-2V7h2v10zm4 0h-2v-4h2v4z\"/>\n",
              "    </g>\n",
              "</svg>\n",
              "  </button>\n",
              "\n",
              "<style>\n",
              "  .colab-df-quickchart {\n",
              "      --bg-color: #E8F0FE;\n",
              "      --fill-color: #1967D2;\n",
              "      --hover-bg-color: #E2EBFA;\n",
              "      --hover-fill-color: #174EA6;\n",
              "      --disabled-fill-color: #AAA;\n",
              "      --disabled-bg-color: #DDD;\n",
              "  }\n",
              "\n",
              "  [theme=dark] .colab-df-quickchart {\n",
              "      --bg-color: #3B4455;\n",
              "      --fill-color: #D2E3FC;\n",
              "      --hover-bg-color: #434B5C;\n",
              "      --hover-fill-color: #FFFFFF;\n",
              "      --disabled-bg-color: #3B4455;\n",
              "      --disabled-fill-color: #666;\n",
              "  }\n",
              "\n",
              "  .colab-df-quickchart {\n",
              "    background-color: var(--bg-color);\n",
              "    border: none;\n",
              "    border-radius: 50%;\n",
              "    cursor: pointer;\n",
              "    display: none;\n",
              "    fill: var(--fill-color);\n",
              "    height: 32px;\n",
              "    padding: 0;\n",
              "    width: 32px;\n",
              "  }\n",
              "\n",
              "  .colab-df-quickchart:hover {\n",
              "    background-color: var(--hover-bg-color);\n",
              "    box-shadow: 0 1px 2px rgba(60, 64, 67, 0.3), 0 1px 3px 1px rgba(60, 64, 67, 0.15);\n",
              "    fill: var(--button-hover-fill-color);\n",
              "  }\n",
              "\n",
              "  .colab-df-quickchart-complete:disabled,\n",
              "  .colab-df-quickchart-complete:disabled:hover {\n",
              "    background-color: var(--disabled-bg-color);\n",
              "    fill: var(--disabled-fill-color);\n",
              "    box-shadow: none;\n",
              "  }\n",
              "\n",
              "  .colab-df-spinner {\n",
              "    border: 2px solid var(--fill-color);\n",
              "    border-color: transparent;\n",
              "    border-bottom-color: var(--fill-color);\n",
              "    animation:\n",
              "      spin 1s steps(1) infinite;\n",
              "  }\n",
              "\n",
              "  @keyframes spin {\n",
              "    0% {\n",
              "      border-color: transparent;\n",
              "      border-bottom-color: var(--fill-color);\n",
              "      border-left-color: var(--fill-color);\n",
              "    }\n",
              "    20% {\n",
              "      border-color: transparent;\n",
              "      border-left-color: var(--fill-color);\n",
              "      border-top-color: var(--fill-color);\n",
              "    }\n",
              "    30% {\n",
              "      border-color: transparent;\n",
              "      border-left-color: var(--fill-color);\n",
              "      border-top-color: var(--fill-color);\n",
              "      border-right-color: var(--fill-color);\n",
              "    }\n",
              "    40% {\n",
              "      border-color: transparent;\n",
              "      border-right-color: var(--fill-color);\n",
              "      border-top-color: var(--fill-color);\n",
              "    }\n",
              "    60% {\n",
              "      border-color: transparent;\n",
              "      border-right-color: var(--fill-color);\n",
              "    }\n",
              "    80% {\n",
              "      border-color: transparent;\n",
              "      border-right-color: var(--fill-color);\n",
              "      border-bottom-color: var(--fill-color);\n",
              "    }\n",
              "    90% {\n",
              "      border-color: transparent;\n",
              "      border-bottom-color: var(--fill-color);\n",
              "    }\n",
              "  }\n",
              "</style>\n",
              "\n",
              "  <script>\n",
              "    async function quickchart(key) {\n",
              "      const quickchartButtonEl =\n",
              "        document.querySelector('#' + key + ' button');\n",
              "      quickchartButtonEl.disabled = true;  // To prevent multiple clicks.\n",
              "      quickchartButtonEl.classList.add('colab-df-spinner');\n",
              "      try {\n",
              "        const charts = await google.colab.kernel.invokeFunction(\n",
              "            'suggestCharts', [key], {});\n",
              "      } catch (error) {\n",
              "        console.error('Error during call to suggestCharts:', error);\n",
              "      }\n",
              "      quickchartButtonEl.classList.remove('colab-df-spinner');\n",
              "      quickchartButtonEl.classList.add('colab-df-quickchart-complete');\n",
              "    }\n",
              "    (() => {\n",
              "      let quickchartButtonEl =\n",
              "        document.querySelector('#df-52090a1f-c6a5-4bc5-8fdd-2e2f0c10a60f button');\n",
              "      quickchartButtonEl.style.display =\n",
              "        google.colab.kernel.accessAllowed ? 'block' : 'none';\n",
              "    })();\n",
              "  </script>\n",
              "</div>\n",
              "    </div>\n",
              "  </div>\n"
            ]
          },
          "metadata": {},
          "execution_count": 4
        }
      ]
    },
    {
      "cell_type": "code",
      "source": [
        "conteo = df['condition'].value_counts()\n",
        "conteo"
      ],
      "metadata": {
        "id": "eV_7IDyGHpQ7",
        "outputId": "1c93c3d0-4588-4a12-84e3-7238f03b8332",
        "colab": {
          "base_uri": "https://localhost:8080/"
        }
      },
      "execution_count": 5,
      "outputs": [
        {
          "output_type": "execute_result",
          "data": {
            "text/plain": [
              "0    160\n",
              "1    137\n",
              "Name: condition, dtype: int64"
            ]
          },
          "metadata": {},
          "execution_count": 5
        }
      ]
    },
    {
      "cell_type": "markdown",
      "source": [
        "Vamos a tener las mismas observaciones de uno que de otro"
      ],
      "metadata": {
        "id": "p4l69LqVIjv_"
      }
    },
    {
      "cell_type": "code",
      "source": [
        "filas_0 = df[df['condition'] == 0]\n",
        "filas_1 = df[df['condition'] == 1]\n",
        "\n",
        "df_0 = filas_0.head(137)\n",
        "df_1 = filas_1.head(137)\n",
        "data = pd.concat([df_0, df_1])"
      ],
      "metadata": {
        "id": "pOX37zoDInxY"
      },
      "execution_count": 6,
      "outputs": []
    },
    {
      "cell_type": "markdown",
      "source": [
        "mezclamos para no tener los 0 arriba y los 1 abajo"
      ],
      "metadata": {
        "id": "wbwf0hLwJoN2"
      }
    },
    {
      "cell_type": "code",
      "source": [
        "df = df.sample(frac=1).reset_index(drop=True)\n",
        "df"
      ],
      "metadata": {
        "id": "fWdlsn5jJ4we",
        "outputId": "dffbd59a-d2dc-4443-9610-91d2c305eed5",
        "colab": {
          "base_uri": "https://localhost:8080/",
          "height": 423
        }
      },
      "execution_count": 7,
      "outputs": [
        {
          "output_type": "execute_result",
          "data": {
            "text/plain": [
              "     age  sex  cp  trestbps  chol  fbs  restecg  thalach  exang  oldpeak  \\\n",
              "0     55    0   1       135   250    0        2      161      0      1.4   \n",
              "1     57    1   2       150   168    0        0      174      0      1.6   \n",
              "2     57    0   3       120   354    0        0      163      1      0.6   \n",
              "3     57    1   3       110   201    0        0      126      1      1.5   \n",
              "4     42    0   2       120   209    0        0      173      0      0.0   \n",
              "..   ...  ...  ..       ...   ...  ...      ...      ...    ...      ...   \n",
              "292   63    0   2       135   252    0        2      172      0      0.0   \n",
              "293   57    1   1       124   261    0        0      141      0      0.3   \n",
              "294   69    1   2       140   254    0        2      146      0      2.0   \n",
              "295   62    0   3       160   164    0        2      145      0      6.2   \n",
              "296   50    1   3       144   200    0        2      126      1      0.9   \n",
              "\n",
              "     slope  ca  thal  condition  \n",
              "0        1   0     0          0  \n",
              "1        0   0     0          0  \n",
              "2        0   0     0          0  \n",
              "3        1   0     1          0  \n",
              "4        1   0     0          0  \n",
              "..     ...  ..   ...        ...  \n",
              "292      0   0     0          0  \n",
              "293      0   0     2          1  \n",
              "294      1   3     2          1  \n",
              "295      2   3     2          1  \n",
              "296      1   0     2          1  \n",
              "\n",
              "[297 rows x 14 columns]"
            ],
            "text/html": [
              "\n",
              "  <div id=\"df-7c479a24-cc37-4f76-bb84-6196119f540b\" class=\"colab-df-container\">\n",
              "    <div>\n",
              "<style scoped>\n",
              "    .dataframe tbody tr th:only-of-type {\n",
              "        vertical-align: middle;\n",
              "    }\n",
              "\n",
              "    .dataframe tbody tr th {\n",
              "        vertical-align: top;\n",
              "    }\n",
              "\n",
              "    .dataframe thead th {\n",
              "        text-align: right;\n",
              "    }\n",
              "</style>\n",
              "<table border=\"1\" class=\"dataframe\">\n",
              "  <thead>\n",
              "    <tr style=\"text-align: right;\">\n",
              "      <th></th>\n",
              "      <th>age</th>\n",
              "      <th>sex</th>\n",
              "      <th>cp</th>\n",
              "      <th>trestbps</th>\n",
              "      <th>chol</th>\n",
              "      <th>fbs</th>\n",
              "      <th>restecg</th>\n",
              "      <th>thalach</th>\n",
              "      <th>exang</th>\n",
              "      <th>oldpeak</th>\n",
              "      <th>slope</th>\n",
              "      <th>ca</th>\n",
              "      <th>thal</th>\n",
              "      <th>condition</th>\n",
              "    </tr>\n",
              "  </thead>\n",
              "  <tbody>\n",
              "    <tr>\n",
              "      <th>0</th>\n",
              "      <td>55</td>\n",
              "      <td>0</td>\n",
              "      <td>1</td>\n",
              "      <td>135</td>\n",
              "      <td>250</td>\n",
              "      <td>0</td>\n",
              "      <td>2</td>\n",
              "      <td>161</td>\n",
              "      <td>0</td>\n",
              "      <td>1.4</td>\n",
              "      <td>1</td>\n",
              "      <td>0</td>\n",
              "      <td>0</td>\n",
              "      <td>0</td>\n",
              "    </tr>\n",
              "    <tr>\n",
              "      <th>1</th>\n",
              "      <td>57</td>\n",
              "      <td>1</td>\n",
              "      <td>2</td>\n",
              "      <td>150</td>\n",
              "      <td>168</td>\n",
              "      <td>0</td>\n",
              "      <td>0</td>\n",
              "      <td>174</td>\n",
              "      <td>0</td>\n",
              "      <td>1.6</td>\n",
              "      <td>0</td>\n",
              "      <td>0</td>\n",
              "      <td>0</td>\n",
              "      <td>0</td>\n",
              "    </tr>\n",
              "    <tr>\n",
              "      <th>2</th>\n",
              "      <td>57</td>\n",
              "      <td>0</td>\n",
              "      <td>3</td>\n",
              "      <td>120</td>\n",
              "      <td>354</td>\n",
              "      <td>0</td>\n",
              "      <td>0</td>\n",
              "      <td>163</td>\n",
              "      <td>1</td>\n",
              "      <td>0.6</td>\n",
              "      <td>0</td>\n",
              "      <td>0</td>\n",
              "      <td>0</td>\n",
              "      <td>0</td>\n",
              "    </tr>\n",
              "    <tr>\n",
              "      <th>3</th>\n",
              "      <td>57</td>\n",
              "      <td>1</td>\n",
              "      <td>3</td>\n",
              "      <td>110</td>\n",
              "      <td>201</td>\n",
              "      <td>0</td>\n",
              "      <td>0</td>\n",
              "      <td>126</td>\n",
              "      <td>1</td>\n",
              "      <td>1.5</td>\n",
              "      <td>1</td>\n",
              "      <td>0</td>\n",
              "      <td>1</td>\n",
              "      <td>0</td>\n",
              "    </tr>\n",
              "    <tr>\n",
              "      <th>4</th>\n",
              "      <td>42</td>\n",
              "      <td>0</td>\n",
              "      <td>2</td>\n",
              "      <td>120</td>\n",
              "      <td>209</td>\n",
              "      <td>0</td>\n",
              "      <td>0</td>\n",
              "      <td>173</td>\n",
              "      <td>0</td>\n",
              "      <td>0.0</td>\n",
              "      <td>1</td>\n",
              "      <td>0</td>\n",
              "      <td>0</td>\n",
              "      <td>0</td>\n",
              "    </tr>\n",
              "    <tr>\n",
              "      <th>...</th>\n",
              "      <td>...</td>\n",
              "      <td>...</td>\n",
              "      <td>...</td>\n",
              "      <td>...</td>\n",
              "      <td>...</td>\n",
              "      <td>...</td>\n",
              "      <td>...</td>\n",
              "      <td>...</td>\n",
              "      <td>...</td>\n",
              "      <td>...</td>\n",
              "      <td>...</td>\n",
              "      <td>...</td>\n",
              "      <td>...</td>\n",
              "      <td>...</td>\n",
              "    </tr>\n",
              "    <tr>\n",
              "      <th>292</th>\n",
              "      <td>63</td>\n",
              "      <td>0</td>\n",
              "      <td>2</td>\n",
              "      <td>135</td>\n",
              "      <td>252</td>\n",
              "      <td>0</td>\n",
              "      <td>2</td>\n",
              "      <td>172</td>\n",
              "      <td>0</td>\n",
              "      <td>0.0</td>\n",
              "      <td>0</td>\n",
              "      <td>0</td>\n",
              "      <td>0</td>\n",
              "      <td>0</td>\n",
              "    </tr>\n",
              "    <tr>\n",
              "      <th>293</th>\n",
              "      <td>57</td>\n",
              "      <td>1</td>\n",
              "      <td>1</td>\n",
              "      <td>124</td>\n",
              "      <td>261</td>\n",
              "      <td>0</td>\n",
              "      <td>0</td>\n",
              "      <td>141</td>\n",
              "      <td>0</td>\n",
              "      <td>0.3</td>\n",
              "      <td>0</td>\n",
              "      <td>0</td>\n",
              "      <td>2</td>\n",
              "      <td>1</td>\n",
              "    </tr>\n",
              "    <tr>\n",
              "      <th>294</th>\n",
              "      <td>69</td>\n",
              "      <td>1</td>\n",
              "      <td>2</td>\n",
              "      <td>140</td>\n",
              "      <td>254</td>\n",
              "      <td>0</td>\n",
              "      <td>2</td>\n",
              "      <td>146</td>\n",
              "      <td>0</td>\n",
              "      <td>2.0</td>\n",
              "      <td>1</td>\n",
              "      <td>3</td>\n",
              "      <td>2</td>\n",
              "      <td>1</td>\n",
              "    </tr>\n",
              "    <tr>\n",
              "      <th>295</th>\n",
              "      <td>62</td>\n",
              "      <td>0</td>\n",
              "      <td>3</td>\n",
              "      <td>160</td>\n",
              "      <td>164</td>\n",
              "      <td>0</td>\n",
              "      <td>2</td>\n",
              "      <td>145</td>\n",
              "      <td>0</td>\n",
              "      <td>6.2</td>\n",
              "      <td>2</td>\n",
              "      <td>3</td>\n",
              "      <td>2</td>\n",
              "      <td>1</td>\n",
              "    </tr>\n",
              "    <tr>\n",
              "      <th>296</th>\n",
              "      <td>50</td>\n",
              "      <td>1</td>\n",
              "      <td>3</td>\n",
              "      <td>144</td>\n",
              "      <td>200</td>\n",
              "      <td>0</td>\n",
              "      <td>2</td>\n",
              "      <td>126</td>\n",
              "      <td>1</td>\n",
              "      <td>0.9</td>\n",
              "      <td>1</td>\n",
              "      <td>0</td>\n",
              "      <td>2</td>\n",
              "      <td>1</td>\n",
              "    </tr>\n",
              "  </tbody>\n",
              "</table>\n",
              "<p>297 rows × 14 columns</p>\n",
              "</div>\n",
              "    <div class=\"colab-df-buttons\">\n",
              "\n",
              "  <div class=\"colab-df-container\">\n",
              "    <button class=\"colab-df-convert\" onclick=\"convertToInteractive('df-7c479a24-cc37-4f76-bb84-6196119f540b')\"\n",
              "            title=\"Convert this dataframe to an interactive table.\"\n",
              "            style=\"display:none;\">\n",
              "\n",
              "  <svg xmlns=\"http://www.w3.org/2000/svg\" height=\"24px\" viewBox=\"0 -960 960 960\">\n",
              "    <path d=\"M120-120v-720h720v720H120Zm60-500h600v-160H180v160Zm220 220h160v-160H400v160Zm0 220h160v-160H400v160ZM180-400h160v-160H180v160Zm440 0h160v-160H620v160ZM180-180h160v-160H180v160Zm440 0h160v-160H620v160Z\"/>\n",
              "  </svg>\n",
              "    </button>\n",
              "\n",
              "  <style>\n",
              "    .colab-df-container {\n",
              "      display:flex;\n",
              "      gap: 12px;\n",
              "    }\n",
              "\n",
              "    .colab-df-convert {\n",
              "      background-color: #E8F0FE;\n",
              "      border: none;\n",
              "      border-radius: 50%;\n",
              "      cursor: pointer;\n",
              "      display: none;\n",
              "      fill: #1967D2;\n",
              "      height: 32px;\n",
              "      padding: 0 0 0 0;\n",
              "      width: 32px;\n",
              "    }\n",
              "\n",
              "    .colab-df-convert:hover {\n",
              "      background-color: #E2EBFA;\n",
              "      box-shadow: 0px 1px 2px rgba(60, 64, 67, 0.3), 0px 1px 3px 1px rgba(60, 64, 67, 0.15);\n",
              "      fill: #174EA6;\n",
              "    }\n",
              "\n",
              "    .colab-df-buttons div {\n",
              "      margin-bottom: 4px;\n",
              "    }\n",
              "\n",
              "    [theme=dark] .colab-df-convert {\n",
              "      background-color: #3B4455;\n",
              "      fill: #D2E3FC;\n",
              "    }\n",
              "\n",
              "    [theme=dark] .colab-df-convert:hover {\n",
              "      background-color: #434B5C;\n",
              "      box-shadow: 0px 1px 3px 1px rgba(0, 0, 0, 0.15);\n",
              "      filter: drop-shadow(0px 1px 2px rgba(0, 0, 0, 0.3));\n",
              "      fill: #FFFFFF;\n",
              "    }\n",
              "  </style>\n",
              "\n",
              "    <script>\n",
              "      const buttonEl =\n",
              "        document.querySelector('#df-7c479a24-cc37-4f76-bb84-6196119f540b button.colab-df-convert');\n",
              "      buttonEl.style.display =\n",
              "        google.colab.kernel.accessAllowed ? 'block' : 'none';\n",
              "\n",
              "      async function convertToInteractive(key) {\n",
              "        const element = document.querySelector('#df-7c479a24-cc37-4f76-bb84-6196119f540b');\n",
              "        const dataTable =\n",
              "          await google.colab.kernel.invokeFunction('convertToInteractive',\n",
              "                                                    [key], {});\n",
              "        if (!dataTable) return;\n",
              "\n",
              "        const docLinkHtml = 'Like what you see? Visit the ' +\n",
              "          '<a target=\"_blank\" href=https://colab.research.google.com/notebooks/data_table.ipynb>data table notebook</a>'\n",
              "          + ' to learn more about interactive tables.';\n",
              "        element.innerHTML = '';\n",
              "        dataTable['output_type'] = 'display_data';\n",
              "        await google.colab.output.renderOutput(dataTable, element);\n",
              "        const docLink = document.createElement('div');\n",
              "        docLink.innerHTML = docLinkHtml;\n",
              "        element.appendChild(docLink);\n",
              "      }\n",
              "    </script>\n",
              "  </div>\n",
              "\n",
              "\n",
              "<div id=\"df-577c911a-737f-4d1f-89e3-f687a77365b6\">\n",
              "  <button class=\"colab-df-quickchart\" onclick=\"quickchart('df-577c911a-737f-4d1f-89e3-f687a77365b6')\"\n",
              "            title=\"Suggest charts.\"\n",
              "            style=\"display:none;\">\n",
              "\n",
              "<svg xmlns=\"http://www.w3.org/2000/svg\" height=\"24px\"viewBox=\"0 0 24 24\"\n",
              "     width=\"24px\">\n",
              "    <g>\n",
              "        <path d=\"M19 3H5c-1.1 0-2 .9-2 2v14c0 1.1.9 2 2 2h14c1.1 0 2-.9 2-2V5c0-1.1-.9-2-2-2zM9 17H7v-7h2v7zm4 0h-2V7h2v10zm4 0h-2v-4h2v4z\"/>\n",
              "    </g>\n",
              "</svg>\n",
              "  </button>\n",
              "\n",
              "<style>\n",
              "  .colab-df-quickchart {\n",
              "      --bg-color: #E8F0FE;\n",
              "      --fill-color: #1967D2;\n",
              "      --hover-bg-color: #E2EBFA;\n",
              "      --hover-fill-color: #174EA6;\n",
              "      --disabled-fill-color: #AAA;\n",
              "      --disabled-bg-color: #DDD;\n",
              "  }\n",
              "\n",
              "  [theme=dark] .colab-df-quickchart {\n",
              "      --bg-color: #3B4455;\n",
              "      --fill-color: #D2E3FC;\n",
              "      --hover-bg-color: #434B5C;\n",
              "      --hover-fill-color: #FFFFFF;\n",
              "      --disabled-bg-color: #3B4455;\n",
              "      --disabled-fill-color: #666;\n",
              "  }\n",
              "\n",
              "  .colab-df-quickchart {\n",
              "    background-color: var(--bg-color);\n",
              "    border: none;\n",
              "    border-radius: 50%;\n",
              "    cursor: pointer;\n",
              "    display: none;\n",
              "    fill: var(--fill-color);\n",
              "    height: 32px;\n",
              "    padding: 0;\n",
              "    width: 32px;\n",
              "  }\n",
              "\n",
              "  .colab-df-quickchart:hover {\n",
              "    background-color: var(--hover-bg-color);\n",
              "    box-shadow: 0 1px 2px rgba(60, 64, 67, 0.3), 0 1px 3px 1px rgba(60, 64, 67, 0.15);\n",
              "    fill: var(--button-hover-fill-color);\n",
              "  }\n",
              "\n",
              "  .colab-df-quickchart-complete:disabled,\n",
              "  .colab-df-quickchart-complete:disabled:hover {\n",
              "    background-color: var(--disabled-bg-color);\n",
              "    fill: var(--disabled-fill-color);\n",
              "    box-shadow: none;\n",
              "  }\n",
              "\n",
              "  .colab-df-spinner {\n",
              "    border: 2px solid var(--fill-color);\n",
              "    border-color: transparent;\n",
              "    border-bottom-color: var(--fill-color);\n",
              "    animation:\n",
              "      spin 1s steps(1) infinite;\n",
              "  }\n",
              "\n",
              "  @keyframes spin {\n",
              "    0% {\n",
              "      border-color: transparent;\n",
              "      border-bottom-color: var(--fill-color);\n",
              "      border-left-color: var(--fill-color);\n",
              "    }\n",
              "    20% {\n",
              "      border-color: transparent;\n",
              "      border-left-color: var(--fill-color);\n",
              "      border-top-color: var(--fill-color);\n",
              "    }\n",
              "    30% {\n",
              "      border-color: transparent;\n",
              "      border-left-color: var(--fill-color);\n",
              "      border-top-color: var(--fill-color);\n",
              "      border-right-color: var(--fill-color);\n",
              "    }\n",
              "    40% {\n",
              "      border-color: transparent;\n",
              "      border-right-color: var(--fill-color);\n",
              "      border-top-color: var(--fill-color);\n",
              "    }\n",
              "    60% {\n",
              "      border-color: transparent;\n",
              "      border-right-color: var(--fill-color);\n",
              "    }\n",
              "    80% {\n",
              "      border-color: transparent;\n",
              "      border-right-color: var(--fill-color);\n",
              "      border-bottom-color: var(--fill-color);\n",
              "    }\n",
              "    90% {\n",
              "      border-color: transparent;\n",
              "      border-bottom-color: var(--fill-color);\n",
              "    }\n",
              "  }\n",
              "</style>\n",
              "\n",
              "  <script>\n",
              "    async function quickchart(key) {\n",
              "      const quickchartButtonEl =\n",
              "        document.querySelector('#' + key + ' button');\n",
              "      quickchartButtonEl.disabled = true;  // To prevent multiple clicks.\n",
              "      quickchartButtonEl.classList.add('colab-df-spinner');\n",
              "      try {\n",
              "        const charts = await google.colab.kernel.invokeFunction(\n",
              "            'suggestCharts', [key], {});\n",
              "      } catch (error) {\n",
              "        console.error('Error during call to suggestCharts:', error);\n",
              "      }\n",
              "      quickchartButtonEl.classList.remove('colab-df-spinner');\n",
              "      quickchartButtonEl.classList.add('colab-df-quickchart-complete');\n",
              "    }\n",
              "    (() => {\n",
              "      let quickchartButtonEl =\n",
              "        document.querySelector('#df-577c911a-737f-4d1f-89e3-f687a77365b6 button');\n",
              "      quickchartButtonEl.style.display =\n",
              "        google.colab.kernel.accessAllowed ? 'block' : 'none';\n",
              "    })();\n",
              "  </script>\n",
              "</div>\n",
              "    </div>\n",
              "  </div>\n"
            ]
          },
          "metadata": {},
          "execution_count": 7
        }
      ]
    },
    {
      "cell_type": "code",
      "source": [
        "from sklearn.preprocessing import MinMaxScaler\n",
        "\n",
        "X = df[['age', 'sex', 'cp', 'trestbps', 'chol', 'fbs', 'restecg',\n",
        "       'thalach', 'exang', 'oldpeak', 'slope', 'ca', 'thal']]\n",
        "Y = df[['condition']]\n",
        "\n",
        "scaler = MinMaxScaler(feature_range=(0.1, np.pi-0.1))\n",
        "scaler.fit(X)\n",
        "df_scalada = pd.DataFrame(scaler.transform(X), columns=X.columns)\n"
      ],
      "metadata": {
        "id": "WZL_J-oRFbfz"
      },
      "execution_count": 8,
      "outputs": []
    },
    {
      "cell_type": "markdown",
      "source": [
        "Sabemos ue para entrenar un modelo cuánrico necesitamos mucho tiempo, por lo que vamos a hacer un pca para quedarnos solo con dos columas, para elegirlas vamos a hacer un clasificador random foerst para sacar las características que más me convienen"
      ],
      "metadata": {
        "id": "UNpoQcr5vslz"
      }
    },
    {
      "cell_type": "code",
      "source": [
        "from sklearn.ensemble import RandomForestClassifier\n",
        "\n",
        "r = RandomForestClassifier()\n",
        "# Ajusta el modelo a tus datos\n",
        "r.fit(X, Y)\n",
        "\n",
        "# Accede a la importancia de las variables\n",
        "feature_importances = r.feature_importances_\n",
        "\n",
        "# Crea un DataFrame para mostrar la importancia de cada variable\n",
        "importance_df = pd.DataFrame({'Feature': X.columns, 'Importance': feature_importances})\n",
        "\n",
        "# Ordena el DataFrame por importancia en orden descendente\n",
        "importance_df = importance_df.sort_values(by='Importance', ascending=False)\n",
        "\n",
        "# Muestra las variables más importantes\n",
        "print(importance_df)"
      ],
      "metadata": {
        "id": "59yJswFFv0aa",
        "outputId": "c55836a8-c6f1-44bc-94b4-9c06b1572742",
        "colab": {
          "base_uri": "https://localhost:8080/"
        }
      },
      "execution_count": 12,
      "outputs": [
        {
          "output_type": "stream",
          "name": "stderr",
          "text": [
            "<ipython-input-12-33563ed1b2d9>:5: DataConversionWarning: A column-vector y was passed when a 1d array was expected. Please change the shape of y to (n_samples,), for example using ravel().\n",
            "  r.fit(X, Y)\n"
          ]
        },
        {
          "output_type": "stream",
          "name": "stdout",
          "text": [
            "     Feature  Importance\n",
            "7    thalach    0.133346\n",
            "12      thal    0.123312\n",
            "2         cp    0.121293\n",
            "11        ca    0.119907\n",
            "9    oldpeak    0.108363\n",
            "0        age    0.088318\n",
            "4       chol    0.072907\n",
            "3   trestbps    0.068809\n",
            "8      exang    0.055177\n",
            "10     slope    0.047052\n",
            "1        sex    0.029068\n",
            "6    restecg    0.020843\n",
            "5        fbs    0.011606\n"
          ]
        }
      ]
    },
    {
      "cell_type": "markdown",
      "source": [
        "Vamos a coger las dos primeras variables ya que trada mucho en ejecuatar, es decir, thalach y thal."
      ],
      "metadata": {
        "id": "MRHc3f76xGo5"
      }
    },
    {
      "cell_type": "code",
      "source": [
        "x = df[['thalach','thal']]\n",
        "y = df[['condition']]\n",
        "X_train, X_test, Y_train, Y_test = train_test_split(x, y, test_size=0.2, random_state=42)"
      ],
      "metadata": {
        "id": "kBekr9c0zRme"
      },
      "execution_count": 22,
      "outputs": []
    },
    {
      "cell_type": "code",
      "source": [
        "from sklearn import svm\n",
        "from sklearn.svm import SVC\n",
        "from sklearn.metrics import accuracy_score\n",
        "\n",
        "#SVM lineal\n",
        "lineal = svm.SVC(kernel='linear')\n",
        "lineal.fit(X_train, Y_train)\n",
        "y_pred_lineal = lineal.predict(X_test)\n",
        "accuracy_lineal = accuracy_score(Y_test, y_pred_lineal)\n",
        "\n",
        "# SVM radial\n",
        "radial = svm.SVC(kernel='rbf')\n",
        "radial.fit(X_train, Y_train)\n",
        "y_pred_radial = radial.predict(X_test)\n",
        "accuracy_radial = accuracy_score(Y_test, y_pred_radial)\n",
        "\n",
        "# SVM de kernel polinómico\n",
        "pol = svm.SVC(kernel='poly', degree=3)\n",
        "pol.fit(X_train, Y_train)\n",
        "y_pred_pol = pol.predict(X_test)\n",
        "accuracy_pol = accuracy_score(Y_test, y_pred_pol)\n",
        "\n",
        "# SVM sigmoidal\n",
        "sig = svm.SVC(kernel='sigmoid')\n",
        "sig.fit(X_train, Y_train)\n",
        "y_pred_sig = sig.predict(X_test)\n",
        "accuracy_sig = accuracy_score(Y_test, y_pred_sig)\n",
        "\n",
        "precisions = [['SVM lineal', accuracy_lineal],\n",
        "              ['SVM radial', accuracy_radial],\n",
        "              ['SVM polinómico', accuracy_pol],\n",
        "              ['SVM sigmoidal', accuracy_sig]]\n",
        "\n",
        "tabla = pd.DataFrame(precisions, columns=['Modelo SVM', 'Precisión'], index=None)\n",
        "print(tabla.to_string(index=False).format(\"{:<20} {:>10.4f}\"))"
      ],
      "metadata": {
        "id": "D9VJQ-UM2bcM",
        "outputId": "4b966fd7-0113-470e-997f-8f11780d28b6",
        "colab": {
          "base_uri": "https://localhost:8080/"
        }
      },
      "execution_count": 30,
      "outputs": [
        {
          "output_type": "stream",
          "name": "stdout",
          "text": [
            "    Modelo SVM  Precisión\n",
            "    SVM lineal   0.800000\n",
            "    SVM radial   0.733333\n",
            "SVM polinómico   0.783333\n",
            " SVM sigmoidal   0.300000\n"
          ]
        },
        {
          "output_type": "stream",
          "name": "stderr",
          "text": [
            "/usr/local/lib/python3.10/dist-packages/sklearn/utils/validation.py:1143: DataConversionWarning: A column-vector y was passed when a 1d array was expected. Please change the shape of y to (n_samples, ), for example using ravel().\n",
            "  y = column_or_1d(y, warn=True)\n",
            "/usr/local/lib/python3.10/dist-packages/sklearn/utils/validation.py:1143: DataConversionWarning: A column-vector y was passed when a 1d array was expected. Please change the shape of y to (n_samples, ), for example using ravel().\n",
            "  y = column_or_1d(y, warn=True)\n",
            "/usr/local/lib/python3.10/dist-packages/sklearn/utils/validation.py:1143: DataConversionWarning: A column-vector y was passed when a 1d array was expected. Please change the shape of y to (n_samples, ), for example using ravel().\n",
            "  y = column_or_1d(y, warn=True)\n",
            "/usr/local/lib/python3.10/dist-packages/sklearn/utils/validation.py:1143: DataConversionWarning: A column-vector y was passed when a 1d array was expected. Please change the shape of y to (n_samples, ), for example using ravel().\n",
            "  y = column_or_1d(y, warn=True)\n"
          ]
        }
      ]
    },
    {
      "cell_type": "markdown",
      "source": [
        "El modelo clasico nos da una prediccion buena utilizando el kernel lineal asi que vamos a guardar las predicciones del modelo svm que nos interesa, que es el lineal."
      ],
      "metadata": {
        "id": "fdJGUyeGLhXI"
      }
    },
    {
      "cell_type": "code",
      "source": [
        "predicciones_clasicas = lineal.predict(X_test)"
      ],
      "metadata": {
        "id": "2zX2cN8Y1wvo"
      },
      "execution_count": 31,
      "outputs": []
    },
    {
      "cell_type": "code",
      "source": [
        "!pip install qiskit"
      ],
      "metadata": {
        "id": "cO5uTTDtLw8A",
        "outputId": "7fbffcb3-568a-4cfc-8121-6fc84b014e1b",
        "colab": {
          "base_uri": "https://localhost:8080/"
        }
      },
      "execution_count": 1,
      "outputs": [
        {
          "output_type": "stream",
          "name": "stdout",
          "text": [
            "Collecting qiskit\n",
            "  Downloading qiskit-0.44.2-py3-none-any.whl (8.2 kB)\n",
            "Collecting qiskit-terra==0.25.2.1 (from qiskit)\n",
            "  Downloading qiskit_terra-0.25.2.1-cp38-abi3-manylinux_2_17_x86_64.manylinux2014_x86_64.whl (6.2 MB)\n",
            "\u001b[2K     \u001b[90m━━━━━━━━━━━━━━━━━━━━━━━━━━━━━━━━━━━━━━━━\u001b[0m \u001b[32m6.2/6.2 MB\u001b[0m \u001b[31m16.0 MB/s\u001b[0m eta \u001b[36m0:00:00\u001b[0m\n",
            "\u001b[?25hCollecting rustworkx>=0.13.0 (from qiskit-terra==0.25.2.1->qiskit)\n",
            "  Downloading rustworkx-0.13.2-cp310-cp310-manylinux_2_17_x86_64.manylinux2014_x86_64.whl (2.0 MB)\n",
            "\u001b[2K     \u001b[90m━━━━━━━━━━━━━━━━━━━━━━━━━━━━━━━━━━━━━━━━\u001b[0m \u001b[32m2.0/2.0 MB\u001b[0m \u001b[31m36.3 MB/s\u001b[0m eta \u001b[36m0:00:00\u001b[0m\n",
            "\u001b[?25hRequirement already satisfied: numpy>=1.17 in /usr/local/lib/python3.10/dist-packages (from qiskit-terra==0.25.2.1->qiskit) (1.23.5)\n",
            "Collecting ply>=3.10 (from qiskit-terra==0.25.2.1->qiskit)\n",
            "  Downloading ply-3.11-py2.py3-none-any.whl (49 kB)\n",
            "\u001b[2K     \u001b[90m━━━━━━━━━━━━━━━━━━━━━━━━━━━━━━━━━━━━━━━━\u001b[0m \u001b[32m49.6/49.6 kB\u001b[0m \u001b[31m6.1 MB/s\u001b[0m eta \u001b[36m0:00:00\u001b[0m\n",
            "\u001b[?25hRequirement already satisfied: psutil>=5 in /usr/local/lib/python3.10/dist-packages (from qiskit-terra==0.25.2.1->qiskit) (5.9.5)\n",
            "Requirement already satisfied: scipy>=1.5 in /usr/local/lib/python3.10/dist-packages (from qiskit-terra==0.25.2.1->qiskit) (1.11.3)\n",
            "Requirement already satisfied: sympy>=1.3 in /usr/local/lib/python3.10/dist-packages (from qiskit-terra==0.25.2.1->qiskit) (1.12)\n",
            "Collecting dill>=0.3 (from qiskit-terra==0.25.2.1->qiskit)\n",
            "  Downloading dill-0.3.7-py3-none-any.whl (115 kB)\n",
            "\u001b[2K     \u001b[90m━━━━━━━━━━━━━━━━━━━━━━━━━━━━━━━━━━━━━━\u001b[0m \u001b[32m115.3/115.3 kB\u001b[0m \u001b[31m11.9 MB/s\u001b[0m eta \u001b[36m0:00:00\u001b[0m\n",
            "\u001b[?25hRequirement already satisfied: python-dateutil>=2.8.0 in /usr/local/lib/python3.10/dist-packages (from qiskit-terra==0.25.2.1->qiskit) (2.8.2)\n",
            "Collecting stevedore>=3.0.0 (from qiskit-terra==0.25.2.1->qiskit)\n",
            "  Downloading stevedore-5.1.0-py3-none-any.whl (49 kB)\n",
            "\u001b[2K     \u001b[90m━━━━━━━━━━━━━━━━━━━━━━━━━━━━━━━━━━━━━━━━\u001b[0m \u001b[32m49.6/49.6 kB\u001b[0m \u001b[31m4.7 MB/s\u001b[0m eta \u001b[36m0:00:00\u001b[0m\n",
            "\u001b[?25hCollecting symengine<0.10,>=0.9 (from qiskit-terra==0.25.2.1->qiskit)\n",
            "  Downloading symengine-0.9.2-cp310-cp310-manylinux2010_x86_64.whl (37.5 MB)\n",
            "\u001b[2K     \u001b[90m━━━━━━━━━━━━━━━━━━━━━━━━━━━━━━━━━━━━━━━━\u001b[0m \u001b[32m37.5/37.5 MB\u001b[0m \u001b[31m33.6 MB/s\u001b[0m eta \u001b[36m0:00:00\u001b[0m\n",
            "\u001b[?25hRequirement already satisfied: typing-extensions in /usr/local/lib/python3.10/dist-packages (from qiskit-terra==0.25.2.1->qiskit) (4.5.0)\n",
            "Requirement already satisfied: six>=1.5 in /usr/local/lib/python3.10/dist-packages (from python-dateutil>=2.8.0->qiskit-terra==0.25.2.1->qiskit) (1.16.0)\n",
            "Collecting pbr!=2.1.0,>=2.0.0 (from stevedore>=3.0.0->qiskit-terra==0.25.2.1->qiskit)\n",
            "  Downloading pbr-5.11.1-py2.py3-none-any.whl (112 kB)\n",
            "\u001b[2K     \u001b[90m━━━━━━━━━━━━━━━━━━━━━━━━━━━━━━━━━━━━━━\u001b[0m \u001b[32m112.7/112.7 kB\u001b[0m \u001b[31m12.3 MB/s\u001b[0m eta \u001b[36m0:00:00\u001b[0m\n",
            "\u001b[?25hRequirement already satisfied: mpmath>=0.19 in /usr/local/lib/python3.10/dist-packages (from sympy>=1.3->qiskit-terra==0.25.2.1->qiskit) (1.3.0)\n",
            "Installing collected packages: ply, symengine, rustworkx, pbr, dill, stevedore, qiskit-terra, qiskit\n",
            "Successfully installed dill-0.3.7 pbr-5.11.1 ply-3.11 qiskit-0.44.2 qiskit-terra-0.25.2.1 rustworkx-0.13.2 stevedore-5.1.0 symengine-0.9.2\n"
          ]
        }
      ]
    },
    {
      "cell_type": "code",
      "source": [
        "!pip install qiskit_machine_learning"
      ],
      "metadata": {
        "id": "EOHf9pL9N44h",
        "outputId": "26636f69-e5f1-4b6d-a1d3-32607dcde297",
        "colab": {
          "base_uri": "https://localhost:8080/"
        }
      },
      "execution_count": 2,
      "outputs": [
        {
          "output_type": "stream",
          "name": "stdout",
          "text": [
            "Collecting qiskit_machine_learning\n",
            "  Downloading qiskit_machine_learning-0.6.1-py3-none-any.whl (148 kB)\n",
            "\u001b[?25l     \u001b[90m━━━━━━━━━━━━━━━━━━━━━━━━━━━━━━━━━━━━━━━━\u001b[0m \u001b[32m0.0/148.7 kB\u001b[0m \u001b[31m?\u001b[0m eta \u001b[36m-:--:--\u001b[0m\r\u001b[2K     \u001b[91m━━━━━━━━━━━━━━━━━━━━━━━━━━━━━━━━━━━━━\u001b[0m\u001b[91m╸\u001b[0m\u001b[90m━\u001b[0m \u001b[32m143.4/148.7 kB\u001b[0m \u001b[31m4.9 MB/s\u001b[0m eta \u001b[36m0:00:01\u001b[0m\r\u001b[2K     \u001b[90m━━━━━━━━━━━━━━━━━━━━━━━━━━━━━━━━━━━━━━━\u001b[0m \u001b[32m148.7/148.7 kB\u001b[0m \u001b[31m3.6 MB/s\u001b[0m eta \u001b[36m0:00:00\u001b[0m\n",
            "\u001b[?25hRequirement already satisfied: qiskit-terra>=0.22.2 in /usr/local/lib/python3.10/dist-packages (from qiskit_machine_learning) (0.25.2.1)\n",
            "Requirement already satisfied: scipy>=1.4 in /usr/local/lib/python3.10/dist-packages (from qiskit_machine_learning) (1.11.3)\n",
            "Requirement already satisfied: numpy>=1.17 in /usr/local/lib/python3.10/dist-packages (from qiskit_machine_learning) (1.23.5)\n",
            "Requirement already satisfied: psutil>=5 in /usr/local/lib/python3.10/dist-packages (from qiskit_machine_learning) (5.9.5)\n",
            "Requirement already satisfied: scikit-learn>=0.20.0 in /usr/local/lib/python3.10/dist-packages (from qiskit_machine_learning) (1.2.2)\n",
            "Collecting fastdtw (from qiskit_machine_learning)\n",
            "  Downloading fastdtw-0.3.4.tar.gz (133 kB)\n",
            "\u001b[2K     \u001b[90m━━━━━━━━━━━━━━━━━━━━━━━━━━━━━━━━━━━━━━\u001b[0m \u001b[32m133.4/133.4 kB\u001b[0m \u001b[31m10.4 MB/s\u001b[0m eta \u001b[36m0:00:00\u001b[0m\n",
            "\u001b[?25h  Preparing metadata (setup.py) ... \u001b[?25l\u001b[?25hdone\n",
            "Requirement already satisfied: setuptools>=40.1.0 in /usr/local/lib/python3.10/dist-packages (from qiskit_machine_learning) (67.7.2)\n",
            "Requirement already satisfied: dill>=0.3.4 in /usr/local/lib/python3.10/dist-packages (from qiskit_machine_learning) (0.3.7)\n",
            "Requirement already satisfied: rustworkx>=0.13.0 in /usr/local/lib/python3.10/dist-packages (from qiskit-terra>=0.22.2->qiskit_machine_learning) (0.13.2)\n",
            "Requirement already satisfied: ply>=3.10 in /usr/local/lib/python3.10/dist-packages (from qiskit-terra>=0.22.2->qiskit_machine_learning) (3.11)\n",
            "Requirement already satisfied: sympy>=1.3 in /usr/local/lib/python3.10/dist-packages (from qiskit-terra>=0.22.2->qiskit_machine_learning) (1.12)\n",
            "Requirement already satisfied: python-dateutil>=2.8.0 in /usr/local/lib/python3.10/dist-packages (from qiskit-terra>=0.22.2->qiskit_machine_learning) (2.8.2)\n",
            "Requirement already satisfied: stevedore>=3.0.0 in /usr/local/lib/python3.10/dist-packages (from qiskit-terra>=0.22.2->qiskit_machine_learning) (5.1.0)\n",
            "Requirement already satisfied: symengine<0.10,>=0.9 in /usr/local/lib/python3.10/dist-packages (from qiskit-terra>=0.22.2->qiskit_machine_learning) (0.9.2)\n",
            "Requirement already satisfied: typing-extensions in /usr/local/lib/python3.10/dist-packages (from qiskit-terra>=0.22.2->qiskit_machine_learning) (4.5.0)\n",
            "Requirement already satisfied: joblib>=1.1.1 in /usr/local/lib/python3.10/dist-packages (from scikit-learn>=0.20.0->qiskit_machine_learning) (1.3.2)\n",
            "Requirement already satisfied: threadpoolctl>=2.0.0 in /usr/local/lib/python3.10/dist-packages (from scikit-learn>=0.20.0->qiskit_machine_learning) (3.2.0)\n",
            "Requirement already satisfied: six>=1.5 in /usr/local/lib/python3.10/dist-packages (from python-dateutil>=2.8.0->qiskit-terra>=0.22.2->qiskit_machine_learning) (1.16.0)\n",
            "Requirement already satisfied: pbr!=2.1.0,>=2.0.0 in /usr/local/lib/python3.10/dist-packages (from stevedore>=3.0.0->qiskit-terra>=0.22.2->qiskit_machine_learning) (5.11.1)\n",
            "Requirement already satisfied: mpmath>=0.19 in /usr/local/lib/python3.10/dist-packages (from sympy>=1.3->qiskit-terra>=0.22.2->qiskit_machine_learning) (1.3.0)\n",
            "Building wheels for collected packages: fastdtw\n",
            "  Building wheel for fastdtw (setup.py) ... \u001b[?25l\u001b[?25hdone\n",
            "  Created wheel for fastdtw: filename=fastdtw-0.3.4-cp310-cp310-linux_x86_64.whl size=512381 sha256=f69c70a5f4d712fb2d622eaff5ba8e901b08e104fbc2bff9ab0cba80be8e7c69\n",
            "  Stored in directory: /root/.cache/pip/wheels/73/c8/f7/c25448dab74c3acf4848bc25d513c736bb93910277e1528ef4\n",
            "Successfully built fastdtw\n",
            "Installing collected packages: fastdtw, qiskit_machine_learning\n",
            "Successfully installed fastdtw-0.3.4 qiskit_machine_learning-0.6.1\n"
          ]
        }
      ]
    },
    {
      "cell_type": "code",
      "source": [
        "from qiskit.circuit.library import ZZFeatureMap\n",
        "from sklearn.svm import SVC\n",
        "from qiskit.primitives import Sampler\n",
        "from qiskit.algorithms.state_fidelities import ComputeUncompute\n",
        "from qiskit_machine_learning.kernels import FidelityQuantumKernel"
      ],
      "metadata": {
        "id": "dDauy-aaLvCU",
        "outputId": "fe7def8e-c42c-4d56-fe92-6d6b55fe5844",
        "colab": {
          "base_uri": "https://localhost:8080/"
        }
      },
      "execution_count": 3,
      "outputs": [
        {
          "output_type": "stream",
          "name": "stderr",
          "text": [
            "<ipython-input-3-c4f89132c90f>:4: DeprecationWarning: ``qiskit.algorithms`` has been migrated to an independent package: https://github.com/qiskit-community/qiskit-algorithms. The ``qiskit.algorithms`` import path is deprecated as of qiskit-terra 0.25.0 and will be removed no earlier than 3 months after the release date. Please run ``pip install qiskit_algorithms`` and use ``import qiskit_algorithms`` instead.\n",
            "  from qiskit.algorithms.state_fidelities import ComputeUncompute\n"
          ]
        }
      ]
    },
    {
      "cell_type": "code",
      "source": [
        "adhoc_feature_map = ZZFeatureMap(feature_dimension=2, reps=2, entanglement=\"linear\")\n",
        "\n",
        "sampler = Sampler() #Hace automatiamnete lo de elegir computadro y tal\n",
        "\n",
        "fidelity = ComputeUncompute(sampler=sampler) #Hacia alente y hacia atras\n",
        "\n",
        "adhoc_kernel = FidelityQuantumKernel(fidelity=fidelity, feature_map=adhoc_feature_map) #Crea para toda la matriz"
      ],
      "metadata": {
        "id": "DXZlZ_kSMcHV"
      },
      "execution_count": 17,
      "outputs": []
    },
    {
      "cell_type": "code",
      "source": [
        "\n",
        "adhoc_svc = SVC(kernel=adhoc_kernel.evaluate)\n",
        "\n",
        "adhoc_svc.fit(X_train, Y_train)\n",
        "\n",
        "adhoc_score_callable_function = adhoc_svc.score(X_test, Y_test)\n",
        "\n",
        "print(f\"Callable kernel classification test score: {adhoc_score_callable_function}\")"
      ],
      "metadata": {
        "id": "D6Jepc8Dyrnf",
        "outputId": "b8ab2844-5b47-4117-99f7-684585ca9391",
        "colab": {
          "base_uri": "https://localhost:8080/"
        }
      },
      "execution_count": 32,
      "outputs": [
        {
          "output_type": "stream",
          "name": "stderr",
          "text": [
            "/usr/local/lib/python3.10/dist-packages/sklearn/svm/_base.py:744: DataConversionWarning: A column-vector y was passed when a 1d array was expected. Please change the shape of y to (n_samples, ), for example using ravel().\n",
            "  y_ = column_or_1d(y, warn=True)\n"
          ]
        },
        {
          "output_type": "stream",
          "name": "stdout",
          "text": [
            "Callable kernel classification test score: 0.7666666666666667\n"
          ]
        }
      ]
    },
    {
      "cell_type": "code",
      "source": [
        "predicciones_cuanticas = adhoc_svc.predict(X_test)\n",
        "accuracy_cuantico = accuracy_score(Y_test, predicciones_cuanticas)"
      ],
      "metadata": {
        "id": "YqSAc_qI3dnS"
      },
      "execution_count": 33,
      "outputs": []
    },
    {
      "cell_type": "code",
      "source": [
        "accuracy_cuantico"
      ],
      "metadata": {
        "id": "RaaOvaWi4p-7",
        "outputId": "99b68160-6f9f-41b1-c1d4-863abd304fe9",
        "colab": {
          "base_uri": "https://localhost:8080/"
        }
      },
      "execution_count": 36,
      "outputs": [
        {
          "output_type": "execute_result",
          "data": {
            "text/plain": [
              "0.9333333333333333"
            ]
          },
          "metadata": {},
          "execution_count": 36
        }
      ]
    },
    {
      "cell_type": "markdown",
      "source": [
        "\n",
        "Compara los vectores a ver como son de iguales, como son lianeales el cuantico tambien y son parecidps"
      ],
      "metadata": {
        "id": "lefGpV5M5RGy"
      }
    },
    {
      "cell_type": "code",
      "source": [
        "accuracy_comparar = accuracy_score(predicciones_clasicas, predicciones_cuanticas)"
      ],
      "metadata": {
        "id": "Lt3BkPqY4vcO"
      },
      "execution_count": 35,
      "outputs": []
    },
    {
      "cell_type": "code",
      "source": [
        "accuracy_comparar"
      ],
      "metadata": {
        "id": "CQZjHSCY49Cc"
      },
      "execution_count": null,
      "outputs": []
    },
    {
      "cell_type": "markdown",
      "source": [],
      "metadata": {
        "id": "fTan2OAIyq7I"
      }
    }
  ]
}