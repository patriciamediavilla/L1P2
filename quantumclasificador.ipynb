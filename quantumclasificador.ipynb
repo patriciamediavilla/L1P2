{
  "nbformat": 4,
  "nbformat_minor": 0,
  "metadata": {
    "colab": {
      "provenance": [],
      "authorship_tag": "ABX9TyNHyChcxvUL6gateAWPvGNT",
      "include_colab_link": true
    },
    "kernelspec": {
      "name": "python3",
      "display_name": "Python 3"
    },
    "language_info": {
      "name": "python"
    }
  },
  "cells": [
    {
      "cell_type": "markdown",
      "metadata": {
        "id": "view-in-github",
        "colab_type": "text"
      },
      "source": [
        "<a href=\"https://colab.research.google.com/github/patriciamediavilla/L1P2/blob/main/quantumclasificador.ipynb\" target=\"_parent\"><img src=\"https://colab.research.google.com/assets/colab-badge.svg\" alt=\"Open In Colab\"/></a>"
      ]
    },
    {
      "cell_type": "markdown",
      "source": [
        "#Clasifiación con SVM\n",
        "\n"
      ],
      "metadata": {
        "id": "FNBfDgin9IGX"
      }
    },
    {
      "cell_type": "code",
      "execution_count": 60,
      "metadata": {
        "id": "RNtNwFli5QGN"
      },
      "outputs": [],
      "source": [
        "#importamos las librerias necesarias\n",
        "import numpy as np #numpy\n",
        "import pandas as pd #pandas\n",
        "import sklearn as sk #scikit-learn\n",
        "import matplotlib.pyplot as plt\n",
        "import seaborn as sns\n",
        "import pandas as pd\n",
        "from sklearn import metrics\n",
        "from sklearn.model_selection import train_test_split"
      ]
    },
    {
      "cell_type": "markdown",
      "source": [
        "Subimos los datos necesarios para hacer el problema, de momento solo los datos de train para después ahcer la prueba con los de test."
      ],
      "metadata": {
        "id": "Hiif_Rp59QBa"
      }
    },
    {
      "cell_type": "code",
      "source": [
        "datostrain = pd.read_csv('traindata.csv', sep=',')\n",
        "datostrain.head()"
      ],
      "metadata": {
        "colab": {
          "base_uri": "https://localhost:8080/",
          "height": 206
        },
        "id": "BF-1FxER5SrP",
        "outputId": "05c79431-6fc4-49a3-8a19-5e1369a105ac"
      },
      "execution_count": 61,
      "outputs": [
        {
          "output_type": "execute_result",
          "data": {
            "text/plain": [
              "   Unnamed: 0  FeatureA  FeatureB  Target\n",
              "0           0  5.152212  4.649557     1.0\n",
              "1           1  5.969026  0.502655     1.0\n",
              "2           2  3.581416  5.654867     1.0\n",
              "3           3  1.759292  1.068142     1.0\n",
              "4           4  5.089380  4.586725     1.0"
            ],
            "text/html": [
              "\n",
              "  <div id=\"df-1df01816-e848-4b5e-973d-d262b5c4d69d\" class=\"colab-df-container\">\n",
              "    <div>\n",
              "<style scoped>\n",
              "    .dataframe tbody tr th:only-of-type {\n",
              "        vertical-align: middle;\n",
              "    }\n",
              "\n",
              "    .dataframe tbody tr th {\n",
              "        vertical-align: top;\n",
              "    }\n",
              "\n",
              "    .dataframe thead th {\n",
              "        text-align: right;\n",
              "    }\n",
              "</style>\n",
              "<table border=\"1\" class=\"dataframe\">\n",
              "  <thead>\n",
              "    <tr style=\"text-align: right;\">\n",
              "      <th></th>\n",
              "      <th>Unnamed: 0</th>\n",
              "      <th>FeatureA</th>\n",
              "      <th>FeatureB</th>\n",
              "      <th>Target</th>\n",
              "    </tr>\n",
              "  </thead>\n",
              "  <tbody>\n",
              "    <tr>\n",
              "      <th>0</th>\n",
              "      <td>0</td>\n",
              "      <td>5.152212</td>\n",
              "      <td>4.649557</td>\n",
              "      <td>1.0</td>\n",
              "    </tr>\n",
              "    <tr>\n",
              "      <th>1</th>\n",
              "      <td>1</td>\n",
              "      <td>5.969026</td>\n",
              "      <td>0.502655</td>\n",
              "      <td>1.0</td>\n",
              "    </tr>\n",
              "    <tr>\n",
              "      <th>2</th>\n",
              "      <td>2</td>\n",
              "      <td>3.581416</td>\n",
              "      <td>5.654867</td>\n",
              "      <td>1.0</td>\n",
              "    </tr>\n",
              "    <tr>\n",
              "      <th>3</th>\n",
              "      <td>3</td>\n",
              "      <td>1.759292</td>\n",
              "      <td>1.068142</td>\n",
              "      <td>1.0</td>\n",
              "    </tr>\n",
              "    <tr>\n",
              "      <th>4</th>\n",
              "      <td>4</td>\n",
              "      <td>5.089380</td>\n",
              "      <td>4.586725</td>\n",
              "      <td>1.0</td>\n",
              "    </tr>\n",
              "  </tbody>\n",
              "</table>\n",
              "</div>\n",
              "    <div class=\"colab-df-buttons\">\n",
              "\n",
              "  <div class=\"colab-df-container\">\n",
              "    <button class=\"colab-df-convert\" onclick=\"convertToInteractive('df-1df01816-e848-4b5e-973d-d262b5c4d69d')\"\n",
              "            title=\"Convert this dataframe to an interactive table.\"\n",
              "            style=\"display:none;\">\n",
              "\n",
              "  <svg xmlns=\"http://www.w3.org/2000/svg\" height=\"24px\" viewBox=\"0 -960 960 960\">\n",
              "    <path d=\"M120-120v-720h720v720H120Zm60-500h600v-160H180v160Zm220 220h160v-160H400v160Zm0 220h160v-160H400v160ZM180-400h160v-160H180v160Zm440 0h160v-160H620v160ZM180-180h160v-160H180v160Zm440 0h160v-160H620v160Z\"/>\n",
              "  </svg>\n",
              "    </button>\n",
              "\n",
              "  <style>\n",
              "    .colab-df-container {\n",
              "      display:flex;\n",
              "      gap: 12px;\n",
              "    }\n",
              "\n",
              "    .colab-df-convert {\n",
              "      background-color: #E8F0FE;\n",
              "      border: none;\n",
              "      border-radius: 50%;\n",
              "      cursor: pointer;\n",
              "      display: none;\n",
              "      fill: #1967D2;\n",
              "      height: 32px;\n",
              "      padding: 0 0 0 0;\n",
              "      width: 32px;\n",
              "    }\n",
              "\n",
              "    .colab-df-convert:hover {\n",
              "      background-color: #E2EBFA;\n",
              "      box-shadow: 0px 1px 2px rgba(60, 64, 67, 0.3), 0px 1px 3px 1px rgba(60, 64, 67, 0.15);\n",
              "      fill: #174EA6;\n",
              "    }\n",
              "\n",
              "    .colab-df-buttons div {\n",
              "      margin-bottom: 4px;\n",
              "    }\n",
              "\n",
              "    [theme=dark] .colab-df-convert {\n",
              "      background-color: #3B4455;\n",
              "      fill: #D2E3FC;\n",
              "    }\n",
              "\n",
              "    [theme=dark] .colab-df-convert:hover {\n",
              "      background-color: #434B5C;\n",
              "      box-shadow: 0px 1px 3px 1px rgba(0, 0, 0, 0.15);\n",
              "      filter: drop-shadow(0px 1px 2px rgba(0, 0, 0, 0.3));\n",
              "      fill: #FFFFFF;\n",
              "    }\n",
              "  </style>\n",
              "\n",
              "    <script>\n",
              "      const buttonEl =\n",
              "        document.querySelector('#df-1df01816-e848-4b5e-973d-d262b5c4d69d button.colab-df-convert');\n",
              "      buttonEl.style.display =\n",
              "        google.colab.kernel.accessAllowed ? 'block' : 'none';\n",
              "\n",
              "      async function convertToInteractive(key) {\n",
              "        const element = document.querySelector('#df-1df01816-e848-4b5e-973d-d262b5c4d69d');\n",
              "        const dataTable =\n",
              "          await google.colab.kernel.invokeFunction('convertToInteractive',\n",
              "                                                    [key], {});\n",
              "        if (!dataTable) return;\n",
              "\n",
              "        const docLinkHtml = 'Like what you see? Visit the ' +\n",
              "          '<a target=\"_blank\" href=https://colab.research.google.com/notebooks/data_table.ipynb>data table notebook</a>'\n",
              "          + ' to learn more about interactive tables.';\n",
              "        element.innerHTML = '';\n",
              "        dataTable['output_type'] = 'display_data';\n",
              "        await google.colab.output.renderOutput(dataTable, element);\n",
              "        const docLink = document.createElement('div');\n",
              "        docLink.innerHTML = docLinkHtml;\n",
              "        element.appendChild(docLink);\n",
              "      }\n",
              "    </script>\n",
              "  </div>\n",
              "\n",
              "\n",
              "<div id=\"df-42e54377-9092-493d-a9c1-562d41c31674\">\n",
              "  <button class=\"colab-df-quickchart\" onclick=\"quickchart('df-42e54377-9092-493d-a9c1-562d41c31674')\"\n",
              "            title=\"Suggest charts.\"\n",
              "            style=\"display:none;\">\n",
              "\n",
              "<svg xmlns=\"http://www.w3.org/2000/svg\" height=\"24px\"viewBox=\"0 0 24 24\"\n",
              "     width=\"24px\">\n",
              "    <g>\n",
              "        <path d=\"M19 3H5c-1.1 0-2 .9-2 2v14c0 1.1.9 2 2 2h14c1.1 0 2-.9 2-2V5c0-1.1-.9-2-2-2zM9 17H7v-7h2v7zm4 0h-2V7h2v10zm4 0h-2v-4h2v4z\"/>\n",
              "    </g>\n",
              "</svg>\n",
              "  </button>\n",
              "\n",
              "<style>\n",
              "  .colab-df-quickchart {\n",
              "      --bg-color: #E8F0FE;\n",
              "      --fill-color: #1967D2;\n",
              "      --hover-bg-color: #E2EBFA;\n",
              "      --hover-fill-color: #174EA6;\n",
              "      --disabled-fill-color: #AAA;\n",
              "      --disabled-bg-color: #DDD;\n",
              "  }\n",
              "\n",
              "  [theme=dark] .colab-df-quickchart {\n",
              "      --bg-color: #3B4455;\n",
              "      --fill-color: #D2E3FC;\n",
              "      --hover-bg-color: #434B5C;\n",
              "      --hover-fill-color: #FFFFFF;\n",
              "      --disabled-bg-color: #3B4455;\n",
              "      --disabled-fill-color: #666;\n",
              "  }\n",
              "\n",
              "  .colab-df-quickchart {\n",
              "    background-color: var(--bg-color);\n",
              "    border: none;\n",
              "    border-radius: 50%;\n",
              "    cursor: pointer;\n",
              "    display: none;\n",
              "    fill: var(--fill-color);\n",
              "    height: 32px;\n",
              "    padding: 0;\n",
              "    width: 32px;\n",
              "  }\n",
              "\n",
              "  .colab-df-quickchart:hover {\n",
              "    background-color: var(--hover-bg-color);\n",
              "    box-shadow: 0 1px 2px rgba(60, 64, 67, 0.3), 0 1px 3px 1px rgba(60, 64, 67, 0.15);\n",
              "    fill: var(--button-hover-fill-color);\n",
              "  }\n",
              "\n",
              "  .colab-df-quickchart-complete:disabled,\n",
              "  .colab-df-quickchart-complete:disabled:hover {\n",
              "    background-color: var(--disabled-bg-color);\n",
              "    fill: var(--disabled-fill-color);\n",
              "    box-shadow: none;\n",
              "  }\n",
              "\n",
              "  .colab-df-spinner {\n",
              "    border: 2px solid var(--fill-color);\n",
              "    border-color: transparent;\n",
              "    border-bottom-color: var(--fill-color);\n",
              "    animation:\n",
              "      spin 1s steps(1) infinite;\n",
              "  }\n",
              "\n",
              "  @keyframes spin {\n",
              "    0% {\n",
              "      border-color: transparent;\n",
              "      border-bottom-color: var(--fill-color);\n",
              "      border-left-color: var(--fill-color);\n",
              "    }\n",
              "    20% {\n",
              "      border-color: transparent;\n",
              "      border-left-color: var(--fill-color);\n",
              "      border-top-color: var(--fill-color);\n",
              "    }\n",
              "    30% {\n",
              "      border-color: transparent;\n",
              "      border-left-color: var(--fill-color);\n",
              "      border-top-color: var(--fill-color);\n",
              "      border-right-color: var(--fill-color);\n",
              "    }\n",
              "    40% {\n",
              "      border-color: transparent;\n",
              "      border-right-color: var(--fill-color);\n",
              "      border-top-color: var(--fill-color);\n",
              "    }\n",
              "    60% {\n",
              "      border-color: transparent;\n",
              "      border-right-color: var(--fill-color);\n",
              "    }\n",
              "    80% {\n",
              "      border-color: transparent;\n",
              "      border-right-color: var(--fill-color);\n",
              "      border-bottom-color: var(--fill-color);\n",
              "    }\n",
              "    90% {\n",
              "      border-color: transparent;\n",
              "      border-bottom-color: var(--fill-color);\n",
              "    }\n",
              "  }\n",
              "</style>\n",
              "\n",
              "  <script>\n",
              "    async function quickchart(key) {\n",
              "      const quickchartButtonEl =\n",
              "        document.querySelector('#' + key + ' button');\n",
              "      quickchartButtonEl.disabled = true;  // To prevent multiple clicks.\n",
              "      quickchartButtonEl.classList.add('colab-df-spinner');\n",
              "      try {\n",
              "        const charts = await google.colab.kernel.invokeFunction(\n",
              "            'suggestCharts', [key], {});\n",
              "      } catch (error) {\n",
              "        console.error('Error during call to suggestCharts:', error);\n",
              "      }\n",
              "      quickchartButtonEl.classList.remove('colab-df-spinner');\n",
              "      quickchartButtonEl.classList.add('colab-df-quickchart-complete');\n",
              "    }\n",
              "    (() => {\n",
              "      let quickchartButtonEl =\n",
              "        document.querySelector('#df-42e54377-9092-493d-a9c1-562d41c31674 button');\n",
              "      quickchartButtonEl.style.display =\n",
              "        google.colab.kernel.accessAllowed ? 'block' : 'none';\n",
              "    })();\n",
              "  </script>\n",
              "</div>\n",
              "    </div>\n",
              "  </div>\n"
            ]
          },
          "metadata": {},
          "execution_count": 61
        }
      ]
    },
    {
      "cell_type": "markdown",
      "source": [
        "Observamos si hay o no valores faltantes"
      ],
      "metadata": {
        "id": "8kXjOB3w_wOq"
      }
    },
    {
      "cell_type": "code",
      "source": [
        "datostrain.isna().sum()"
      ],
      "metadata": {
        "colab": {
          "base_uri": "https://localhost:8080/"
        },
        "id": "D589C4gq5kvV",
        "outputId": "f813b2cc-b85d-464d-c9f6-7ffe47f4e69d"
      },
      "execution_count": 62,
      "outputs": [
        {
          "output_type": "execute_result",
          "data": {
            "text/plain": [
              "Unnamed: 0    0\n",
              "FeatureA      0\n",
              "FeatureB      0\n",
              "Target        0\n",
              "dtype: int64"
            ]
          },
          "metadata": {},
          "execution_count": 62
        }
      ]
    },
    {
      "cell_type": "markdown",
      "source": [
        "Subimos los datos para hacer las pruebas."
      ],
      "metadata": {
        "id": "Iahginpx_3Zv"
      }
    },
    {
      "cell_type": "code",
      "source": [
        "datosval = pd.read_csv('validationdata.csv', sep=',')\n",
        "datosval.head()"
      ],
      "metadata": {
        "colab": {
          "base_uri": "https://localhost:8080/",
          "height": 206
        },
        "id": "mo5jBQTx6HxF",
        "outputId": "bcbb9800-7448-444c-a128-ba1d08c52b5d"
      },
      "execution_count": 63,
      "outputs": [
        {
          "output_type": "execute_result",
          "data": {
            "text/plain": [
              "   Unnamed: 0  FeatureA  FeatureB  Target\n",
              "0           0  4.900885  1.256637     1.0\n",
              "1           1  4.586725  1.570796     1.0\n",
              "2           2  0.000000  3.267256     1.0\n",
              "3           3  2.638938  4.209734     1.0\n",
              "4           4  4.963716  4.963716     1.0"
            ],
            "text/html": [
              "\n",
              "  <div id=\"df-6efd928c-0f24-487d-a838-88e619c1bbcf\" class=\"colab-df-container\">\n",
              "    <div>\n",
              "<style scoped>\n",
              "    .dataframe tbody tr th:only-of-type {\n",
              "        vertical-align: middle;\n",
              "    }\n",
              "\n",
              "    .dataframe tbody tr th {\n",
              "        vertical-align: top;\n",
              "    }\n",
              "\n",
              "    .dataframe thead th {\n",
              "        text-align: right;\n",
              "    }\n",
              "</style>\n",
              "<table border=\"1\" class=\"dataframe\">\n",
              "  <thead>\n",
              "    <tr style=\"text-align: right;\">\n",
              "      <th></th>\n",
              "      <th>Unnamed: 0</th>\n",
              "      <th>FeatureA</th>\n",
              "      <th>FeatureB</th>\n",
              "      <th>Target</th>\n",
              "    </tr>\n",
              "  </thead>\n",
              "  <tbody>\n",
              "    <tr>\n",
              "      <th>0</th>\n",
              "      <td>0</td>\n",
              "      <td>4.900885</td>\n",
              "      <td>1.256637</td>\n",
              "      <td>1.0</td>\n",
              "    </tr>\n",
              "    <tr>\n",
              "      <th>1</th>\n",
              "      <td>1</td>\n",
              "      <td>4.586725</td>\n",
              "      <td>1.570796</td>\n",
              "      <td>1.0</td>\n",
              "    </tr>\n",
              "    <tr>\n",
              "      <th>2</th>\n",
              "      <td>2</td>\n",
              "      <td>0.000000</td>\n",
              "      <td>3.267256</td>\n",
              "      <td>1.0</td>\n",
              "    </tr>\n",
              "    <tr>\n",
              "      <th>3</th>\n",
              "      <td>3</td>\n",
              "      <td>2.638938</td>\n",
              "      <td>4.209734</td>\n",
              "      <td>1.0</td>\n",
              "    </tr>\n",
              "    <tr>\n",
              "      <th>4</th>\n",
              "      <td>4</td>\n",
              "      <td>4.963716</td>\n",
              "      <td>4.963716</td>\n",
              "      <td>1.0</td>\n",
              "    </tr>\n",
              "  </tbody>\n",
              "</table>\n",
              "</div>\n",
              "    <div class=\"colab-df-buttons\">\n",
              "\n",
              "  <div class=\"colab-df-container\">\n",
              "    <button class=\"colab-df-convert\" onclick=\"convertToInteractive('df-6efd928c-0f24-487d-a838-88e619c1bbcf')\"\n",
              "            title=\"Convert this dataframe to an interactive table.\"\n",
              "            style=\"display:none;\">\n",
              "\n",
              "  <svg xmlns=\"http://www.w3.org/2000/svg\" height=\"24px\" viewBox=\"0 -960 960 960\">\n",
              "    <path d=\"M120-120v-720h720v720H120Zm60-500h600v-160H180v160Zm220 220h160v-160H400v160Zm0 220h160v-160H400v160ZM180-400h160v-160H180v160Zm440 0h160v-160H620v160ZM180-180h160v-160H180v160Zm440 0h160v-160H620v160Z\"/>\n",
              "  </svg>\n",
              "    </button>\n",
              "\n",
              "  <style>\n",
              "    .colab-df-container {\n",
              "      display:flex;\n",
              "      gap: 12px;\n",
              "    }\n",
              "\n",
              "    .colab-df-convert {\n",
              "      background-color: #E8F0FE;\n",
              "      border: none;\n",
              "      border-radius: 50%;\n",
              "      cursor: pointer;\n",
              "      display: none;\n",
              "      fill: #1967D2;\n",
              "      height: 32px;\n",
              "      padding: 0 0 0 0;\n",
              "      width: 32px;\n",
              "    }\n",
              "\n",
              "    .colab-df-convert:hover {\n",
              "      background-color: #E2EBFA;\n",
              "      box-shadow: 0px 1px 2px rgba(60, 64, 67, 0.3), 0px 1px 3px 1px rgba(60, 64, 67, 0.15);\n",
              "      fill: #174EA6;\n",
              "    }\n",
              "\n",
              "    .colab-df-buttons div {\n",
              "      margin-bottom: 4px;\n",
              "    }\n",
              "\n",
              "    [theme=dark] .colab-df-convert {\n",
              "      background-color: #3B4455;\n",
              "      fill: #D2E3FC;\n",
              "    }\n",
              "\n",
              "    [theme=dark] .colab-df-convert:hover {\n",
              "      background-color: #434B5C;\n",
              "      box-shadow: 0px 1px 3px 1px rgba(0, 0, 0, 0.15);\n",
              "      filter: drop-shadow(0px 1px 2px rgba(0, 0, 0, 0.3));\n",
              "      fill: #FFFFFF;\n",
              "    }\n",
              "  </style>\n",
              "\n",
              "    <script>\n",
              "      const buttonEl =\n",
              "        document.querySelector('#df-6efd928c-0f24-487d-a838-88e619c1bbcf button.colab-df-convert');\n",
              "      buttonEl.style.display =\n",
              "        google.colab.kernel.accessAllowed ? 'block' : 'none';\n",
              "\n",
              "      async function convertToInteractive(key) {\n",
              "        const element = document.querySelector('#df-6efd928c-0f24-487d-a838-88e619c1bbcf');\n",
              "        const dataTable =\n",
              "          await google.colab.kernel.invokeFunction('convertToInteractive',\n",
              "                                                    [key], {});\n",
              "        if (!dataTable) return;\n",
              "\n",
              "        const docLinkHtml = 'Like what you see? Visit the ' +\n",
              "          '<a target=\"_blank\" href=https://colab.research.google.com/notebooks/data_table.ipynb>data table notebook</a>'\n",
              "          + ' to learn more about interactive tables.';\n",
              "        element.innerHTML = '';\n",
              "        dataTable['output_type'] = 'display_data';\n",
              "        await google.colab.output.renderOutput(dataTable, element);\n",
              "        const docLink = document.createElement('div');\n",
              "        docLink.innerHTML = docLinkHtml;\n",
              "        element.appendChild(docLink);\n",
              "      }\n",
              "    </script>\n",
              "  </div>\n",
              "\n",
              "\n",
              "<div id=\"df-0efaa028-8774-4cc6-abc6-54021bf87d67\">\n",
              "  <button class=\"colab-df-quickchart\" onclick=\"quickchart('df-0efaa028-8774-4cc6-abc6-54021bf87d67')\"\n",
              "            title=\"Suggest charts.\"\n",
              "            style=\"display:none;\">\n",
              "\n",
              "<svg xmlns=\"http://www.w3.org/2000/svg\" height=\"24px\"viewBox=\"0 0 24 24\"\n",
              "     width=\"24px\">\n",
              "    <g>\n",
              "        <path d=\"M19 3H5c-1.1 0-2 .9-2 2v14c0 1.1.9 2 2 2h14c1.1 0 2-.9 2-2V5c0-1.1-.9-2-2-2zM9 17H7v-7h2v7zm4 0h-2V7h2v10zm4 0h-2v-4h2v4z\"/>\n",
              "    </g>\n",
              "</svg>\n",
              "  </button>\n",
              "\n",
              "<style>\n",
              "  .colab-df-quickchart {\n",
              "      --bg-color: #E8F0FE;\n",
              "      --fill-color: #1967D2;\n",
              "      --hover-bg-color: #E2EBFA;\n",
              "      --hover-fill-color: #174EA6;\n",
              "      --disabled-fill-color: #AAA;\n",
              "      --disabled-bg-color: #DDD;\n",
              "  }\n",
              "\n",
              "  [theme=dark] .colab-df-quickchart {\n",
              "      --bg-color: #3B4455;\n",
              "      --fill-color: #D2E3FC;\n",
              "      --hover-bg-color: #434B5C;\n",
              "      --hover-fill-color: #FFFFFF;\n",
              "      --disabled-bg-color: #3B4455;\n",
              "      --disabled-fill-color: #666;\n",
              "  }\n",
              "\n",
              "  .colab-df-quickchart {\n",
              "    background-color: var(--bg-color);\n",
              "    border: none;\n",
              "    border-radius: 50%;\n",
              "    cursor: pointer;\n",
              "    display: none;\n",
              "    fill: var(--fill-color);\n",
              "    height: 32px;\n",
              "    padding: 0;\n",
              "    width: 32px;\n",
              "  }\n",
              "\n",
              "  .colab-df-quickchart:hover {\n",
              "    background-color: var(--hover-bg-color);\n",
              "    box-shadow: 0 1px 2px rgba(60, 64, 67, 0.3), 0 1px 3px 1px rgba(60, 64, 67, 0.15);\n",
              "    fill: var(--button-hover-fill-color);\n",
              "  }\n",
              "\n",
              "  .colab-df-quickchart-complete:disabled,\n",
              "  .colab-df-quickchart-complete:disabled:hover {\n",
              "    background-color: var(--disabled-bg-color);\n",
              "    fill: var(--disabled-fill-color);\n",
              "    box-shadow: none;\n",
              "  }\n",
              "\n",
              "  .colab-df-spinner {\n",
              "    border: 2px solid var(--fill-color);\n",
              "    border-color: transparent;\n",
              "    border-bottom-color: var(--fill-color);\n",
              "    animation:\n",
              "      spin 1s steps(1) infinite;\n",
              "  }\n",
              "\n",
              "  @keyframes spin {\n",
              "    0% {\n",
              "      border-color: transparent;\n",
              "      border-bottom-color: var(--fill-color);\n",
              "      border-left-color: var(--fill-color);\n",
              "    }\n",
              "    20% {\n",
              "      border-color: transparent;\n",
              "      border-left-color: var(--fill-color);\n",
              "      border-top-color: var(--fill-color);\n",
              "    }\n",
              "    30% {\n",
              "      border-color: transparent;\n",
              "      border-left-color: var(--fill-color);\n",
              "      border-top-color: var(--fill-color);\n",
              "      border-right-color: var(--fill-color);\n",
              "    }\n",
              "    40% {\n",
              "      border-color: transparent;\n",
              "      border-right-color: var(--fill-color);\n",
              "      border-top-color: var(--fill-color);\n",
              "    }\n",
              "    60% {\n",
              "      border-color: transparent;\n",
              "      border-right-color: var(--fill-color);\n",
              "    }\n",
              "    80% {\n",
              "      border-color: transparent;\n",
              "      border-right-color: var(--fill-color);\n",
              "      border-bottom-color: var(--fill-color);\n",
              "    }\n",
              "    90% {\n",
              "      border-color: transparent;\n",
              "      border-bottom-color: var(--fill-color);\n",
              "    }\n",
              "  }\n",
              "</style>\n",
              "\n",
              "  <script>\n",
              "    async function quickchart(key) {\n",
              "      const quickchartButtonEl =\n",
              "        document.querySelector('#' + key + ' button');\n",
              "      quickchartButtonEl.disabled = true;  // To prevent multiple clicks.\n",
              "      quickchartButtonEl.classList.add('colab-df-spinner');\n",
              "      try {\n",
              "        const charts = await google.colab.kernel.invokeFunction(\n",
              "            'suggestCharts', [key], {});\n",
              "      } catch (error) {\n",
              "        console.error('Error during call to suggestCharts:', error);\n",
              "      }\n",
              "      quickchartButtonEl.classList.remove('colab-df-spinner');\n",
              "      quickchartButtonEl.classList.add('colab-df-quickchart-complete');\n",
              "    }\n",
              "    (() => {\n",
              "      let quickchartButtonEl =\n",
              "        document.querySelector('#df-0efaa028-8774-4cc6-abc6-54021bf87d67 button');\n",
              "      quickchartButtonEl.style.display =\n",
              "        google.colab.kernel.accessAllowed ? 'block' : 'none';\n",
              "    })();\n",
              "  </script>\n",
              "</div>\n",
              "    </div>\n",
              "  </div>\n"
            ]
          },
          "metadata": {},
          "execution_count": 63
        }
      ]
    },
    {
      "cell_type": "markdown",
      "source": [
        "Observamos si hay o no valores faltantes"
      ],
      "metadata": {
        "id": "g4HTjaUH_1DY"
      }
    },
    {
      "cell_type": "code",
      "source": [
        "datosval.isna().sum()"
      ],
      "metadata": {
        "colab": {
          "base_uri": "https://localhost:8080/"
        },
        "id": "f3XhPPA96NQd",
        "outputId": "1ceeaf61-37e5-4745-a071-272c26403a0b"
      },
      "execution_count": 64,
      "outputs": [
        {
          "output_type": "execute_result",
          "data": {
            "text/plain": [
              "Unnamed: 0    0\n",
              "FeatureA      0\n",
              "FeatureB      0\n",
              "Target        0\n",
              "dtype: int64"
            ]
          },
          "metadata": {},
          "execution_count": 64
        }
      ]
    },
    {
      "cell_type": "markdown",
      "source": [
        "Representamos los datos del enunciado del problema, los cuales debemos clasificar."
      ],
      "metadata": {
        "id": "tAeUf7OG_7eP"
      }
    },
    {
      "cell_type": "code",
      "source": [
        "plt.scatter(datostrain['FeatureA'], datostrain['FeatureB'], c=datostrain['Target'], cmap='viridis')\n",
        "plt.xlabel('FeatureA')\n",
        "plt.ylabel('FeatureB')\n",
        "plt.title('FeatureA vs FeatureB ')\n",
        "plt.colorbar(label='Target')\n",
        "plt.show()"
      ],
      "metadata": {
        "colab": {
          "base_uri": "https://localhost:8080/",
          "height": 472
        },
        "id": "nIht2s3R6acH",
        "outputId": "fa27a8bb-dd4c-441e-cfc7-09af4a3e9238"
      },
      "execution_count": 65,
      "outputs": [
        {
          "output_type": "display_data",
          "data": {
            "text/plain": [
              "<Figure size 640x480 with 2 Axes>"
            ],
            "image/png": "[encoded data removed]"
          },
          "metadata": {}
        }
      ]
    },
    {
      "cell_type": "markdown",
      "source": [
        "Se nos ha inicado que debemos utilizar support vector machine vamos a ir creando modelos con el fin de ir acotando los parámetros.\n",
        "\n",
        "Primero hacemos la separación para tener datos de entrenamiendo y de test. Aunque haciendo cross validation no sobre entrenariamos el modelo (lo se hacer)."
      ],
      "metadata": {
        "id": "JnbAD-T2AGnO"
      }
    },
    {
      "cell_type": "code",
      "source": [
        "X = datostrain[['FeatureA','FeatureB']]\n",
        "y = datostrain[\"Target\"].values\n",
        "X_train, X_test, y_train, y_test = train_test_split(X, y, test_size=0.3, random_state=42)\n"
      ],
      "metadata": {
        "id": "w-F_-LGy63HB"
      },
      "execution_count": 66,
      "outputs": []
    },
    {
      "cell_type": "markdown",
      "source": [
        "Lo primero que vamos a acotar es el kernel, para eso probamos varios y vemos con cual nos da con más presición."
      ],
      "metadata": {
        "id": "MDvdXZ7XBRm6"
      }
    },
    {
      "cell_type": "code",
      "source": [
        "from sklearn import svm\n",
        "from sklearn.svm import SVC\n",
        "from sklearn.metrics import accuracy_score\n",
        "\n",
        "#SVM lineal\n",
        "lineal = svm.SVC(kernel='linear')\n",
        "lineal.fit(X_train, y_train)\n",
        "y_pred_lineal = lineal.predict(X_test)\n",
        "accuracy_lineal = accuracy_score(y_test, y_pred_lineal)\n",
        "\n",
        "# SVM radial\n",
        "radial = svm.SVC(kernel='rbf')\n",
        "radial.fit(X_train, y_train)\n",
        "y_pred_radial = radial.predict(X_test)\n",
        "accuracy_radial = accuracy_score(y_test, y_pred_radial)\n",
        "\n",
        "# SVM de kernel polinómico\n",
        "pol = svm.SVC(kernel='poly', degree=3)\n",
        "pol.fit(X_train, y_train)\n",
        "y_pred_pol = pol.predict(X_test)\n",
        "accuracy_pol = accuracy_score(y_test, y_pred_pol)\n",
        "\n",
        "# SVM sigmoidal\n",
        "sig = svm.SVC(kernel='sigmoid')\n",
        "sig.fit(X_train, y_train)\n",
        "y_pred_sig = sig.predict(X_test)\n",
        "accuracy_sig = accuracy_score(y_test, y_pred_sig)\n",
        "\n",
        "precisions = [['SVM lineal', accuracy_lineal],\n",
        "              ['SVM radial', accuracy_radial],\n",
        "              ['SVM polinómico', accuracy_pol],\n",
        "              ['SVM sigmoidal', accuracy_sig]]\n",
        "\n",
        "tabla = pd.DataFrame(precisions, columns=['Modelo SVM', 'Precisión'], index=None)\n",
        "print(tabla.to_string(index=False).format(\"{:<20} {:>10.4f}\"))"
      ],
      "metadata": {
        "colab": {
          "base_uri": "https://localhost:8080/"
        },
        "id": "nictJT8R7ilo",
        "outputId": "36d2086a-c282-4601-a37e-455472cf2365"
      },
      "execution_count": 67,
      "outputs": [
        {
          "output_type": "stream",
          "name": "stdout",
          "text": [
            "    Modelo SVM  Precisión\n",
            "    SVM lineal   0.541667\n",
            "    SVM radial   0.595833\n",
            "SVM polinómico   0.537500\n",
            " SVM sigmoidal   0.489583\n"
          ]
        }
      ]
    },
    {
      "cell_type": "markdown",
      "source": [
        "Observamos que el que mejor ajusta los datos es el que tiene el kernel radial, por lo que continuamos con este ajustando los demás parámetros, como los hiper parámetros C y gamma. Comenzamos por ajustar el parámetro C."
      ],
      "metadata": {
        "id": "xzqM3h4DBZXp"
      }
    },
    {
      "cell_type": "code",
      "source": [
        "from sklearn import svm\n",
        "from sklearn.metrics import accuracy_score\n",
        "from sklearn.model_selection import GridSearchCV\n",
        "import pandas as pd\n",
        "\n",
        "# Definir el espacio de búsqueda para los hiperparámetros\n",
        "param_grid = {\n",
        "    'kernel': ['rbf'],\n",
        "    'C': [0.1, 1, 10,100,1000,5000,10000,50000]}\n",
        "\n",
        "# Crear un modelo SVM\n",
        "svm_model = svm.SVC()\n",
        "\n",
        "# Realizar la búsqueda en rejilla\n",
        "grid_search = GridSearchCV(svm_model, param_grid, cv=5, scoring='accuracy')\n",
        "grid_search.fit(X_train, y_train)\n",
        "\n",
        "# Obtener los mejores hiperparámetros\n",
        "best_params = grid_search.best_params_\n",
        "best_model = grid_search.best_estimator_\n",
        "\n",
        "# Realizar predicciones en el conjunto de prueba con el mejor modelo\n",
        "y_pred_best = best_model.predict(X_test)\n",
        "accuracy_best = accuracy_score(y_test, y_pred_best)\n",
        "\n",
        "precisions = [['Mejor SVM', accuracy_best]]  # Agrega el mejor modelo\n",
        "\n",
        "tabla = pd.DataFrame(precisions, columns=['Modelo SVM', 'Precisión'], index=None)\n",
        "print(tabla.to_string(index=False).format(\"{:<20} {:>10.4f}\"))\n",
        "best_kernel = best_model.kernel\n",
        "best_C = best_model.C\n",
        "best_gamma = best_model.gamma\n",
        "\n",
        "print(\" Mejor kernel:\", best_kernel)\n",
        "print(\" Mejor valor de C:\", best_C)\n",
        "print(\" Mejor valor de gamma:\", best_gamma)"
      ],
      "metadata": {
        "colab": {
          "base_uri": "https://localhost:8080/"
        },
        "id": "-zLy2ZgM8YcI",
        "outputId": "1856b03a-e813-46fd-bf5d-37769cf63104"
      },
      "execution_count": 68,
      "outputs": [
        {
          "metadata": {
            "tags": null
          },
          "name": "stdout",
          "output_type": "stream",
          "text": [
            "Modelo SVM  Precisión\n",
            " Mejor SVM     0.9125\n",
            " Mejor kernel: rbf\n",
            " Mejor valor de C: 50000\n",
            " Mejor valor de gamma: scale\n"
          ]
        }
      ]
    },
    {
      "cell_type": "markdown",
      "source": [
        "Vemos que nos da mejor ajuste con mayor C, es decir, 50000, esto seguramnte sea porque al ser la calle más ancha, quedan más valores en l calle sin estar bien clasificados.\n",
        "Ahora vamos a ver cual es el gamma que más se ajusta."
      ],
      "metadata": {
        "id": "C5VnL3_7BsCt"
      }
    },
    {
      "cell_type": "code",
      "source": [
        "from sklearn import svm\n",
        "from sklearn.metrics import accuracy_score\n",
        "from sklearn.model_selection import GridSearchCV\n",
        "import pandas as pd\n",
        "\n",
        "# Definir el espacio de búsqueda para los hiperparámetros\n",
        "param_grid = {\n",
        "    'kernel': ['rbf'],\n",
        "    'C': [50000],\n",
        "    'gamma': [1,10,30,50]}\n",
        "\n",
        "# Crear un modelo SVM\n",
        "svm_model = svm.SVC()\n",
        "\n",
        "# Realizar la búsqueda en rejilla\n",
        "grid_search = GridSearchCV(svm_model, param_grid, cv=5, scoring='accuracy')\n",
        "grid_search.fit(X_train, y_train)\n",
        "\n",
        "# Obtener los mejores hiperparámetros\n",
        "best_params = grid_search.best_params_\n",
        "best_model = grid_search.best_estimator_\n",
        "\n",
        "# Realizar predicciones en el conjunto de prueba con el mejor modelo\n",
        "y_pred_best = best_model.predict(X_test)\n",
        "accuracy_best = accuracy_score(y_test, y_pred_best)\n",
        "\n",
        "tabla = pd.DataFrame(precisions, columns=['Modelo SVM', 'Precisión'], index=None)\n",
        "print(tabla.to_string(index=False).format(\"{:<20} {:>10.4f}\"))"
      ],
      "metadata": {
        "colab": {
          "base_uri": "https://localhost:8080/"
        },
        "id": "VsBEwDNX9kFw",
        "outputId": "fb812071-0cb1-4154-ffa0-854be7942ec0"
      },
      "execution_count": 69,
      "outputs": [
        {
          "metadata": {
            "tags": null
          },
          "name": "stdout",
          "output_type": "stream",
          "text": [
            "Modelo SVM  Precisión\n",
            " Mejor SVM     0.9125\n"
          ]
        }
      ]
    },
    {
      "cell_type": "code",
      "source": [
        "best_kernel = best_model.kernel\n",
        "best_C = best_model.C\n",
        "best_gamma = best_model.gamma\n",
        "\n",
        "print(\" Mejor kernel:\", best_kernel)\n",
        "print(\" Mejor valor de C:\", best_C)\n",
        "print(\" Mejor valor de gamma:\", best_gamma)"
      ],
      "metadata": {
        "colab": {
          "base_uri": "https://localhost:8080/"
        },
        "id": "6Mwqe2_Y_joJ",
        "outputId": "ba9c4b40-15ad-4fd5-b2d1-9eb3b1a92da1"
      },
      "execution_count": 70,
      "outputs": [
        {
          "metadata": {
            "tags": null
          },
          "name": "stdout",
          "output_type": "stream",
          "text": [
            " Mejor kernel: rbf\n",
            " Mejor valor de C: 50000\n",
            " Mejor valor de gamma: 30\n"
          ]
        }
      ]
    },
    {
      "cell_type": "code",
      "source": [
        "# Crear un modelo SVM\n",
        "svm_model = svm.SVC(kernel = 'rbf', C = 50000, gamma = 1)\n",
        "svm_model.fit(X_train, y_train)\n"
      ],
      "metadata": {
        "id": "LqU_BaeUDpaM",
        "outputId": "eb6d739a-58ce-41a3-d67a-7d5388b32a3b",
        "colab": {
          "base_uri": "https://localhost:8080/",
          "height": 74
        }
      },
      "execution_count": 71,
      "outputs": [
        {
          "data": {
            "text/html": [
              "<style>#sk-container-id-2 {color: black;background-color: white;}#sk-container-id-2 pre{padding: 0;}#sk-container-id-2 div.sk-toggleable {background-color: white;}#sk-container-id-2 label.sk-toggleable__label {cursor: pointer;display: block;width: 100%;margin-bottom: 0;padding: 0.3em;box-sizing: border-box;text-align: center;}#sk-container-id-2 label.sk-toggleable__label-arrow:before {content: \"▸\";float: left;margin-right: 0.25em;color: #696969;}#sk-container-id-2 label.sk-toggleable__label-arrow:hover:before {color: black;}#sk-container-id-2 div.sk-estimator:hover label.sk-toggleable__label-arrow:before {color: black;}#sk-container-id-2 div.sk-toggleable__content {max-height: 0;max-width: 0;overflow: hidden;text-align: left;background-color: #f0f8ff;}#sk-container-id-2 div.sk-toggleable__content pre {margin: 0.2em;color: black;border-radius: 0.25em;background-color: #f0f8ff;}#sk-container-id-2 input.sk-toggleable__control:checked~div.sk-toggleable__content {max-height: 200px;max-width: 100%;overflow: auto;}#sk-container-id-2 input.sk-toggleable__control:checked~label.sk-toggleable__label-arrow:before {content: \"▾\";}#sk-container-id-2 div.sk-estimator input.sk-toggleable__control:checked~label.sk-toggleable__label {background-color: #d4ebff;}#sk-container-id-2 div.sk-label input.sk-toggleable__control:checked~label.sk-toggleable__label {background-color: #d4ebff;}#sk-container-id-2 input.sk-hidden--visually {border: 0;clip: rect(1px 1px 1px 1px);clip: rect(1px, 1px, 1px, 1px);height: 1px;margin: -1px;overflow: hidden;padding: 0;position: absolute;width: 1px;}#sk-container-id-2 div.sk-estimator {font-family: monospace;background-color: #f0f8ff;border: 1px dotted black;border-radius: 0.25em;box-sizing: border-box;margin-bottom: 0.5em;}#sk-container-id-2 div.sk-estimator:hover {background-color: #d4ebff;}#sk-container-id-2 div.sk-parallel-item::after {content: \"\";width: 100%;border-bottom: 1px solid gray;flex-grow: 1;}#sk-container-id-2 div.sk-label:hover label.sk-toggleable__label {background-color: #d4ebff;}#sk-container-id-2 div.sk-serial::before {content: \"\";position: absolute;border-left: 1px solid gray;box-sizing: border-box;top: 0;bottom: 0;left: 50%;z-index: 0;}#sk-container-id-2 div.sk-serial {display: flex;flex-direction: column;align-items: center;background-color: white;padding-right: 0.2em;padding-left: 0.2em;position: relative;}#sk-container-id-2 div.sk-item {position: relative;z-index: 1;}#sk-container-id-2 div.sk-parallel {display: flex;align-items: stretch;justify-content: center;background-color: white;position: relative;}#sk-container-id-2 div.sk-item::before, #sk-container-id-2 div.sk-parallel-item::before {content: \"\";position: absolute;border-left: 1px solid gray;box-sizing: border-box;top: 0;bottom: 0;left: 50%;z-index: -1;}#sk-container-id-2 div.sk-parallel-item {display: flex;flex-direction: column;z-index: 1;position: relative;background-color: white;}#sk-container-id-2 div.sk-parallel-item:first-child::after {align-self: flex-end;width: 50%;}#sk-container-id-2 div.sk-parallel-item:last-child::after {align-self: flex-start;width: 50%;}#sk-container-id-2 div.sk-parallel-item:only-child::after {width: 0;}#sk-container-id-2 div.sk-dashed-wrapped {border: 1px dashed gray;margin: 0 0.4em 0.5em 0.4em;box-sizing: border-box;padding-bottom: 0.4em;background-color: white;}#sk-container-id-2 div.sk-label label {font-family: monospace;font-weight: bold;display: inline-block;line-height: 1.2em;}#sk-container-id-2 div.sk-label-container {text-align: center;}#sk-container-id-2 div.sk-container {/* jupyter's `normalize.less` sets `[hidden] { display: none; }` but bootstrap.min.css set `[hidden] { display: none !important; }` so we also need the `!important` here to be able to override the default hidden behavior on the sphinx rendered scikit-learn.org. See: https://github.com/scikit-learn/scikit-learn/issues/21755 */display: inline-block !important;position: relative;}#sk-container-id-2 div.sk-text-repr-fallback {display: none;}</style><div id=\"sk-container-id-2\" class=\"sk-top-container\"><div class=\"sk-text-repr-fallback\"><pre>SVC(C=50000, gamma=1)</pre><b>In a Jupyter environment, please rerun this cell to show the HTML representation or trust the notebook. <br />On GitHub, the HTML representation is unable to render, please try loading this page with nbviewer.org.</b></div><div class=\"sk-container\" hidden><div class=\"sk-item\"><div class=\"sk-estimator sk-toggleable\"><input class=\"sk-toggleable__control sk-hidden--visually\" id=\"sk-estimator-id-2\" type=\"checkbox\" checked><label for=\"sk-estimator-id-2\" class=\"sk-toggleable__label sk-toggleable__label-arrow\">SVC</label><div class=\"sk-toggleable__content\"><pre>SVC(C=50000, gamma=1)</pre></div></div></div></div></div>"
            ],
            "text/plain": [
              "SVC(C=50000, gamma=1)"
            ]
          },
          "execution_count": 71,
          "metadata": {},
          "output_type": "execute_result"
        }
      ]
    },
    {
      "cell_type": "markdown",
      "source": [
        "Ahora vamos a utilizar todos los datos para ver si de verdad funciona el modelo."
      ],
      "metadata": {
        "id": "_z-awe0iC0ZU"
      }
    },
    {
      "cell_type": "code",
      "source": [],
      "metadata": {
        "id": "jzYoOOtJDHY2"
      },
      "execution_count": 71,
      "outputs": []
    },
    {
      "cell_type": "markdown",
      "source": [
        "#Clase 26/09/2023\n",
        "##Hacer nuestro propio Kernel"
      ],
      "metadata": {
        "id": "G9j4KAS-na8E"
      }
    },
    {
      "cell_type": "markdown",
      "source": [
        "Primero vamos a hacerlo normal"
      ],
      "metadata": {
        "id": "L5okmoLeq4eq"
      }
    },
    {
      "cell_type": "code",
      "source": [
        "X_train = np.array([0,2,4,5,7]).reshape(-1, 1)\n",
        "y_train = np.array([1,1,0,1,1]).reshape(-1, 1)\n",
        "X_test = np.array([1,3,6]).reshape(-1, 1)\n",
        "y_test = np.array([1,0,1]).reshape(-1, 1)"
      ],
      "metadata": {
        "id": "tgxTIVcinjEn"
      },
      "execution_count": 72,
      "outputs": []
    },
    {
      "cell_type": "code",
      "source": [
        "from sklearn import svm\n",
        "from sklearn.svm import SVC\n",
        "from sklearn.metrics import accuracy_score\n",
        "\n",
        "#SVM lineal\n",
        "lineal = svm.SVC(kernel='linear')\n",
        "lineal.fit(X_train, y_train)\n",
        "y_pred_lineal = lineal.predict(X_test)\n",
        "accuracy_lineal = accuracy_score(y_test, y_pred_lineal)\n",
        "\n",
        "# SVM radial\n",
        "radial = svm.SVC(kernel='rbf')\n",
        "radial.fit(X_train, y_train)\n",
        "y_pred_radial = radial.predict(X_test)\n",
        "accuracy_radial = accuracy_score(y_test, y_pred_radial)\n",
        "\n",
        "# SVM de kernel polinómico\n",
        "pol = svm.SVC(kernel='poly', degree=3)\n",
        "pol.fit(X_train, y_train)\n",
        "y_pred_pol = pol.predict(X_test)\n",
        "accuracy_pol = accuracy_score(y_test, y_pred_pol)\n",
        "\n",
        "# SVM sigmoidal\n",
        "sig = svm.SVC(kernel='sigmoid')\n",
        "sig.fit(X_train, y_train)\n",
        "y_pred_sig = sig.predict(X_test)\n",
        "accuracy_sig = accuracy_score(y_test, y_pred_sig)\n",
        "\n",
        "precisions = [['SVM lineal', accuracy_lineal],\n",
        "              ['SVM radial', accuracy_radial],\n",
        "              ['SVM polinómico', accuracy_pol],\n",
        "              ['SVM sigmoidal', accuracy_sig]]\n",
        "\n",
        "tabla = pd.DataFrame(precisions, columns=['Modelo SVM', 'Precisión'], index=None)\n",
        "print(tabla.to_string(index=False).format(\"{:<20} {:>10.4f}\"))"
      ],
      "metadata": {
        "id": "b23UpdNQoABH",
        "outputId": "55e857e8-590f-4ab2-86d1-72baa95289ac",
        "colab": {
          "base_uri": "https://localhost:8080/"
        }
      },
      "execution_count": 73,
      "outputs": [
        {
          "metadata": {
            "tags": null
          },
          "name": "stdout",
          "output_type": "stream",
          "text": [
            "    Modelo SVM  Precisión\n",
            "    SVM lineal   0.666667\n",
            "    SVM radial   0.666667\n",
            "SVM polinómico   0.666667\n",
            " SVM sigmoidal   0.666667\n"
          ]
        },
        {
          "metadata": {
            "tags": null
          },
          "name": "stderr",
          "output_type": "stream",
          "text": [
            "/usr/local/lib/python3.10/dist-packages/sklearn/utils/validation.py:1143: DataConversionWarning: A column-vector y was passed when a 1d array was expected. Please change the shape of y to (n_samples, ), for example using ravel().\n",
            "  y = column_or_1d(y, warn=True)\n",
            "/usr/local/lib/python3.10/dist-packages/sklearn/utils/validation.py:1143: DataConversionWarning: A column-vector y was passed when a 1d array was expected. Please change the shape of y to (n_samples, ), for example using ravel().\n",
            "  y = column_or_1d(y, warn=True)\n",
            "/usr/local/lib/python3.10/dist-packages/sklearn/utils/validation.py:1143: DataConversionWarning: A column-vector y was passed when a 1d array was expected. Please change the shape of y to (n_samples, ), for example using ravel().\n",
            "  y = column_or_1d(y, warn=True)\n",
            "/usr/local/lib/python3.10/dist-packages/sklearn/utils/validation.py:1143: DataConversionWarning: A column-vector y was passed when a 1d array was expected. Please change the shape of y to (n_samples, ), for example using ravel().\n",
            "  y = column_or_1d(y, warn=True)\n"
          ]
        }
      ]
    },
    {
      "cell_type": "markdown",
      "source": [
        "Y ahora vamos a adaptar nuestro modelo, viendo los datos vemos que el 0,1,2 son una categoria (1), 3 y 4 son la categoría (2) y los demás vulven a ser la categoría 1. Para adaptarlo vamos a mapear, es decir, adaptar nuestros datos.\n",
        "Creando una parábola ya que nuestros puntos lo reuqieren"
      ],
      "metadata": {
        "id": "OYm5kAZVq_7T"
      }
    },
    {
      "cell_type": "code",
      "source": [
        "X_train = np.array([0,2,4,5,7])\n",
        "y_train = np.array([1,1,0,1,1])\n",
        "X_test = np.array([1,3,6])\n",
        "y_test = np.array([1,0,1])"
      ],
      "metadata": {
        "id": "MO4nkwqirPGA"
      },
      "execution_count": 74,
      "outputs": []
    },
    {
      "cell_type": "code",
      "source": [
        "\n",
        "X_train_map = np.array([[i,(i-3.5)**2] for i in X_train])\n",
        "X_test_map = np.array([[i,(i-3.5)**2] for i in X_test])\n",
        "\n",
        "\n",
        "from sklearn import svm\n",
        "from sklearn.svm import SVC\n",
        "from sklearn.metrics import accuracy_score\n",
        "\n",
        "#SVM lineal\n",
        "lineal = SVC(kernel='linear')\n",
        "lineal.fit(X_train_map, y_train)\n",
        "accuracy_lineal = lineal.score(X_test_map, y_test)\n",
        "\n",
        "accuracy_lineal"
      ],
      "metadata": {
        "id": "SD8j5fCqsQiq",
        "outputId": "5349256c-202a-4912-88af-fc2e002094da",
        "colab": {
          "base_uri": "https://localhost:8080/"
        }
      },
      "execution_count": 75,
      "outputs": [
        {
          "data": {
            "text/plain": [
              "1.0"
            ]
          },
          "execution_count": 75,
          "metadata": {},
          "output_type": "execute_result"
        }
      ]
    },
    {
      "cell_type": "markdown",
      "source": [
        "Ahora tenemos una división perfecta de los datos.\n",
        "\n",
        "Para hacer un kernel que me clasifique bien los datos, para conseguir el kernel tenemos que hacer una matriz de productos de todos los vectores con todos, ese es nuestro kernel."
      ],
      "metadata": {
        "id": "tcjocBMduwic"
      }
    },
    {
      "cell_type": "code",
      "source": [
        "def kernel(x1, x2):\n",
        "  k = []\n",
        "  for i in x1:\n",
        "    L = []\n",
        "    for j in x2:\n",
        "      L.append(i.dot.j)\n",
        "    k.append(L)\n",
        "  return k"
      ],
      "metadata": {
        "id": "d5tSkZhxw6w1"
      },
      "execution_count": 76,
      "outputs": []
    },
    {
      "cell_type": "code",
      "source": [],
      "metadata": {
        "id": "_P4jiCl2y9LR"
      },
      "execution_count": 76,
      "outputs": []
    },
    {
      "cell_type": "code",
      "source": [
        "y_train_map = np.array([[i,(i-3.5)**2] for i in y_train])\n",
        "y_test_map = np.array([[i,(i-3.5)**2] for i in y_test])"
      ],
      "metadata": {
        "id": "5ETnFrGJukc3"
      },
      "execution_count": 77,
      "outputs": []
    }
  ]
}