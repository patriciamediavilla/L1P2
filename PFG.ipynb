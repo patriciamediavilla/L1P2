{
  "nbformat": 4,
  "nbformat_minor": 0,
  "metadata": {
    "colab": {
      "provenance": [],
      "authorship_tag": "ABX9TyO7E2/48A3d9eYFKdVaITky",
      "include_colab_link": true
    },
    "kernelspec": {
      "name": "python3",
      "display_name": "Python 3"
    },
    "language_info": {
      "name": "python"
    }
  },
  "cells": [
    {
      "cell_type": "markdown",
      "metadata": {
        "id": "view-in-github",
        "colab_type": "text"
      },
      "source": [
        "<a href=\"https://colab.research.google.com/github/patriciamediavilla/L1P2/blob/main/PFG.ipynb\" target=\"_parent\"><img src=\"https://colab.research.google.com/assets/colab-badge.svg\" alt=\"Open In Colab\"/></a>"
      ]
    },
    {
      "cell_type": "markdown",
      "source": [
        "# **PROYECTO FIN DE GRADO**\n",
        "\n",
        "Patricia Mediavilla"
      ],
      "metadata": {
        "id": "nBeVZ0hmPlpp"
      }
    },
    {
      "cell_type": "markdown",
      "source": [
        "Este Proyecto Fin de Grado tiene como objetivo emplear técnicas de Machine Learning con el fin de conseguir una clasificación de los datos. Se verán distintos algoritmos de clasificación clásica centrándose en el algoritmo SVM, Support Vector Machine.  La clasificación en este proyecto no va a ser únicamente clásica, se introducirán conceptos cuánticos con el fin de implementar un algoritmo de clasificación de QSVM, Quantum Support Vector Machine. Se verá en profundidad cómo funciona este algoritmo y por último se combinan los dos algoritmos, el cásico y el cuántico para mejorar la precisión del modelo.\n",
        "\n",
        "Esto se va a plicar a un caso de uso en relación con la empresa, en concreto se pordrá ver si un cliente se va a ir o no de la empresa antes de que suceda, esto de llama **churn** que por definición es una métrica que mide la cantidad de cleintes que han dejado de seguir a una empresa"
      ],
      "metadata": {
        "id": "uCkFZrusPl6H"
      }
    },
    {
      "cell_type": "code",
      "execution_count": null,
      "metadata": {
        "id": "1BnJDAeSOxWD"
      },
      "outputs": [],
      "source": []
    },
    {
      "cell_type": "markdown",
      "source": [
        "id contact id\n",
        "\n",
        "activity_new category of the company's activity\n",
        "\n",
        "campaign_disc_ele code of the electricity campaign the customer last subscribed to\n",
        "\n",
        "channel_sales code of the sales channel\n",
        "\n",
        "cons_12m electricity consumption of the past 12 months\n",
        "\n",
        "cons_gas_12m gas consumption of the past 12 months\n",
        "\n",
        "cons_last_month electricity consumption of the last month\n",
        "\n",
        "date_activ date of activation of the contract\n",
        "\n",
        "date_end registered date of the end of the contract\n",
        "\n",
        "date_first_activ date of the first contract of the client\n",
        "\n",
        "date_modif_prod date of last modification of the product\n",
        "\n",
        "date_renewal date of the next contract renewal\n",
        "\n",
        "forecast_base_bill_ele forecasted electricity bill baseline for next month\n",
        "\n",
        "forecast_base_bill_year forecasted electricity bill baseline for calendar year\n",
        "\n",
        "forecast_bill_12m forecasted electricity bill baseline for 12 months\n",
        "\n",
        "forecast_cons forecasted electricity consumption for next month\n",
        "\n",
        "forecast_cons_12m forecasted electricity consumption for next 12 months\n",
        "\n",
        "forecast_cons_year forecasted electricity consumption for next calendar year\n",
        "\n",
        "forecast_discount_energy forecasted value of currecurrent discount\n",
        "\n",
        "forecast_meter_rent_12m forecasted bill of meter rental for the next 12 months\n",
        "\n",
        "forecast_price_energy_p1 forecasted energy price for 1st period\n",
        "\n",
        "forecast_price_energy_p2 forecasted energy price for 2nd period\n",
        "\n",
        "forecast_price_pow_p1 forecasted power price for 1st period\n",
        "\n",
        "has_gas indicated if clieclient is also a gas client\n",
        "\n",
        "imp_cons current paid consumption\n",
        "\n",
        "margin_gross_pow_ele gross margin on power subscription\n",
        "\n",
        "margin_net_pow_ele net margin on power subscription\n",
        "\n",
        "nb_prod_act number of active products and services\n",
        "\n",
        "net_margin total net margin\n",
        "\n",
        "num_years_antig antiquity of the client (in number of years)\n",
        "\n",
        "origin_up code of the electricity campaign the customer first subscribed to\n",
        "\n",
        "pow_max subscribed power\n",
        "\n",
        "price_date reference date\n",
        "\n",
        "price_p1_var price of energy for the 1st period\n",
        "\n",
        "price_p2_var price of energy for the 2nd period\n",
        "\n",
        "price_p3_var price of energy for the 3rd period\n",
        "\n",
        "price_p1_fix price of power for the 1st period\n",
        "\n",
        "price_p2_fix price of power for the 2nd period\n",
        "\n",
        "price_p3_fix price of power for the 3rd period\n",
        "\n",
        "churned has the client churned over the next 3 months"
      ],
      "metadata": {
        "id": "L8hlKqvxQVic"
      }
    }
  ]
}